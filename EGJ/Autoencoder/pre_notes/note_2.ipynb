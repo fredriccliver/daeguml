{
 "cells": [
  {
   "cell_type": "markdown",
   "metadata": {},
   "source": [
    "# Auto-Encoder Note v2"
   ]
  },
  {
   "cell_type": "code",
   "execution_count": 2,
   "metadata": {},
   "outputs": [
    {
     "name": "stdout",
     "output_type": "stream",
     "text": [
      "CPython 3.6.6\nIPython 6.5.0\n\nnumpy 1.14.5\nsklearn 0.20.0\nscipy 1.1.0\nmatplotlib 3.0.0\ntensorflow 1.10.1\n"
     ]
    }
   ],
   "source": [
    "# import watermark\n",
    "%reload_ext watermark\n",
    "%watermark -v -p numpy,sklearn,scipy,matplotlib,tensorflow"
   ]
  },
  {
   "cell_type": "code",
   "execution_count": 3,
   "metadata": {},
   "outputs": [],
   "source": [
    "# 파이썬 2와 파이썬 3 지원\n",
    "from __future__ import division, print_function, unicode_literals\n",
    "\n",
    "# 공통\n",
    "import numpy as np\n",
    "import sys\n",
    "import os\n",
    "\n",
    "# Custom Modules\n",
    "import EGJ.utils as utils\n",
    "\n",
    "# 맷플롯립 설정\n",
    "%matplotlib inline\n",
    "import matplotlib.pyplot as plt\n",
    "plt.rcParams['axes.labelsize'] = 14\n",
    "plt.rcParams['xtick.labelsize'] = 12\n",
    "plt.rcParams['ytick.labelsize'] = 12\n",
    "\n",
    "# 한글출력\n",
    "plt.rcParams['font.family'] = 'NanumBarunGothic'\n",
    "plt.rcParams['axes.unicode_minus'] = False\n",
    "\n",
    "# 파일 저장 로드 등에 사용\n",
    "ROOT_PATH = os.getcwd() + \"/EGJ/Autoencoder\""
   ]
  },
  {
   "cell_type": "code",
   "execution_count": 4,
   "metadata": {},
   "outputs": [],
   "source": [
    "# 데이터 생성\n",
    "import tensorflow as tf\n",
    "\n",
    "(X_train, y_train), (X_test, y_test) = tf.keras.datasets.mnist.load_data()\n",
    "X_train = X_train.astype(np.float32).reshape(-1, 28*28) / 255.0\n",
    "X_test = X_test.astype(np.float32).reshape(-1, 28*28) / 255.0\n",
    "y_train = y_train.astype(np.int32)\n",
    "y_test = y_test.astype(np.int32)\n",
    "X_valid, X_train = X_train[:5000], X_train[5000:]\n",
    "y_valid, y_train = y_train[:5000], y_train[5000:]\n"
   ]
  },
  {
   "cell_type": "markdown",
   "metadata": {},
   "source": [
    "# 비지도 사전훈련\n",
    "\n",
    "<br/>훈련데이터가 많지 않은 복잡한 지도 학습 문제를 다루어야 한다면, 비슷한 문제에 학습된 신경망을 찾아 하위층을 재사용하는 방법이 유용하다. 저수준의 특성을 학습시킬 필요가 없기 때문에 작은 훈련 데이터만 사용하여 고성능 모델을 훈련시킬 수 있다는 장점이 존재한다."
   ]
  },
  {
   "cell_type": "code",
   "execution_count": 5,
   "metadata": {},
   "outputs": [],
   "source": [
    "utils.reset_graph()\n",
    "\n",
    "n_inputs = 28 * 28\n",
    "n_hiddens = [300, 150]\n",
    "n_outputs = 10\n",
    "\n",
    "learning_rate = 0.01\n",
    "l2_reg = 0.0005\n",
    "\n",
    "activation = tf.nn.elu\n",
    "regularizer = tf.contrib.layers.l2_regularizer(l2_reg)\n",
    "initializer = tf.variance_scaling_initializer()\n",
    "\n",
    "X = tf.placeholder(tf.float32, shape=[None, n_inputs])\n",
    "y = tf.placeholder(tf.int32, shape=[None])\n",
    "\n",
    "weights1_init = initializer([n_inputs, n_hiddens[0]])\n",
    "weights2_init = initializer([n_hiddens[0], n_hiddens[1]])\n",
    "weights3_init = initializer([n_hiddens[1], n_outputs])\n",
    "\n",
    "weights1 = tf.Variable(weights1_init, dtype=tf.float32, name=\"weights1\")\n",
    "weights2 = tf.Variable(weights2_init, dtype=tf.float32, name=\"weights2\")\n",
    "weights3 = tf.Variable(weights3_init, dtype=tf.float32, name=\"weights3\")\n",
    "\n",
    "biases1 = tf.Variable(tf.zeros(n_hiddens[0]), name=\"biases1\")\n",
    "biases2 = tf.Variable(tf.zeros(n_hiddens[1]), name=\"biases2\")\n",
    "biases3 = tf.Variable(tf.zeros(n_outputs), name=\"biases3\")\n",
    "\n",
    "hidden1 = activation(tf.matmul(X, weights1) + biases1)\n",
    "hidden2 = activation(tf.matmul(hidden1, weights2) + biases2)\n",
    "logits = tf.matmul(hidden2, weights3) + biases3\n",
    "\n",
    "cross_entropy = tf.nn.sparse_softmax_cross_entropy_with_logits(labels=y, logits=logits)\n",
    "reg_loss = regularizer(weights1) + regularizer(weights2) + regularizer(weights3)\n",
    "loss = cross_entropy + reg_loss\n",
    "optimizer = tf.train.AdamOptimizer(learning_rate)\n",
    "training_op = optimizer.minimize(loss)\n",
    "\n",
    "correct = tf.nn.in_top_k(logits, y, 1)\n",
    "accuracy = tf.reduce_mean(tf.cast(correct, tf.float32))\n",
    "\n",
    "init = tf.global_variables_initializer()"
   ]
  },
  {
   "cell_type": "code",
   "execution_count": 6,
   "metadata": {},
   "outputs": [
    {
     "name": "stdout",
     "output_type": "stream",
     "text": [
      "\r0%"
     ]
    },
    {
     "name": "stdout",
     "output_type": "stream",
     "text": [
      "\r0%"
     ]
    },
    {
     "name": "stdout",
     "output_type": "stream",
     "text": [
      "\r1%"
     ]
    },
    {
     "name": "stdout",
     "output_type": "stream",
     "text": [
      "\r2%"
     ]
    },
    {
     "name": "stdout",
     "output_type": "stream",
     "text": [
      "\r3%"
     ]
    },
    {
     "name": "stdout",
     "output_type": "stream",
     "text": [
      "\r3%"
     ]
    },
    {
     "name": "stdout",
     "output_type": "stream",
     "text": [
      "\r4%"
     ]
    },
    {
     "name": "stdout",
     "output_type": "stream",
     "text": [
      "\r5%"
     ]
    },
    {
     "name": "stdout",
     "output_type": "stream",
     "text": [
      "\r6%"
     ]
    },
    {
     "name": "stdout",
     "output_type": "stream",
     "text": [
      "\r6%"
     ]
    },
    {
     "name": "stdout",
     "output_type": "stream",
     "text": [
      "\r7%"
     ]
    },
    {
     "name": "stdout",
     "output_type": "stream",
     "text": [
      "\r8%"
     ]
    },
    {
     "name": "stdout",
     "output_type": "stream",
     "text": [
      "\r9%"
     ]
    },
    {
     "name": "stdout",
     "output_type": "stream",
     "text": [
      "\r9%"
     ]
    },
    {
     "name": "stdout",
     "output_type": "stream",
     "text": [
      "\r10%"
     ]
    },
    {
     "name": "stdout",
     "output_type": "stream",
     "text": [
      "\r11%"
     ]
    },
    {
     "name": "stdout",
     "output_type": "stream",
     "text": [
      "\r12%"
     ]
    },
    {
     "name": "stdout",
     "output_type": "stream",
     "text": [
      "\r12%"
     ]
    },
    {
     "name": "stdout",
     "output_type": "stream",
     "text": [
      "\r13%"
     ]
    },
    {
     "name": "stdout",
     "output_type": "stream",
     "text": [
      "\r14%"
     ]
    },
    {
     "name": "stdout",
     "output_type": "stream",
     "text": [
      "\r15%"
     ]
    },
    {
     "name": "stdout",
     "output_type": "stream",
     "text": [
      "\r15%"
     ]
    },
    {
     "name": "stdout",
     "output_type": "stream",
     "text": [
      "\r16%"
     ]
    },
    {
     "name": "stdout",
     "output_type": "stream",
     "text": [
      "\r17%"
     ]
    },
    {
     "name": "stdout",
     "output_type": "stream",
     "text": [
      "\r18%"
     ]
    },
    {
     "name": "stdout",
     "output_type": "stream",
     "text": [
      "\r18%"
     ]
    },
    {
     "name": "stdout",
     "output_type": "stream",
     "text": [
      "\r19%"
     ]
    },
    {
     "name": "stdout",
     "output_type": "stream",
     "text": [
      "\r20%"
     ]
    },
    {
     "name": "stdout",
     "output_type": "stream",
     "text": [
      "\r21%"
     ]
    },
    {
     "name": "stdout",
     "output_type": "stream",
     "text": [
      "\r21%"
     ]
    },
    {
     "name": "stdout",
     "output_type": "stream",
     "text": [
      "\r22%"
     ]
    },
    {
     "name": "stdout",
     "output_type": "stream",
     "text": [
      "\r23%"
     ]
    },
    {
     "name": "stdout",
     "output_type": "stream",
     "text": [
      "\r24%"
     ]
    },
    {
     "name": "stdout",
     "output_type": "stream",
     "text": [
      "\r24%"
     ]
    },
    {
     "name": "stdout",
     "output_type": "stream",
     "text": [
      "\r25%"
     ]
    },
    {
     "name": "stdout",
     "output_type": "stream",
     "text": [
      "\r26%"
     ]
    },
    {
     "name": "stdout",
     "output_type": "stream",
     "text": [
      "\r27%"
     ]
    },
    {
     "name": "stdout",
     "output_type": "stream",
     "text": [
      "\r27%"
     ]
    },
    {
     "name": "stdout",
     "output_type": "stream",
     "text": [
      "\r28%"
     ]
    },
    {
     "name": "stdout",
     "output_type": "stream",
     "text": [
      "\r29%"
     ]
    },
    {
     "name": "stdout",
     "output_type": "stream",
     "text": [
      "\r30%"
     ]
    },
    {
     "name": "stdout",
     "output_type": "stream",
     "text": [
      "\r30%"
     ]
    },
    {
     "name": "stdout",
     "output_type": "stream",
     "text": [
      "\r31%"
     ]
    },
    {
     "name": "stdout",
     "output_type": "stream",
     "text": [
      "\r32%"
     ]
    },
    {
     "name": "stdout",
     "output_type": "stream",
     "text": [
      "\r33%"
     ]
    },
    {
     "name": "stdout",
     "output_type": "stream",
     "text": [
      "\r33%"
     ]
    },
    {
     "name": "stdout",
     "output_type": "stream",
     "text": [
      "\r34%"
     ]
    },
    {
     "name": "stdout",
     "output_type": "stream",
     "text": [
      "\r35%"
     ]
    },
    {
     "name": "stdout",
     "output_type": "stream",
     "text": [
      "\r36%"
     ]
    },
    {
     "name": "stdout",
     "output_type": "stream",
     "text": [
      "\r36%"
     ]
    },
    {
     "name": "stdout",
     "output_type": "stream",
     "text": [
      "\r37%"
     ]
    },
    {
     "name": "stdout",
     "output_type": "stream",
     "text": [
      "\r38%"
     ]
    },
    {
     "name": "stdout",
     "output_type": "stream",
     "text": [
      "\r39%"
     ]
    },
    {
     "name": "stdout",
     "output_type": "stream",
     "text": [
      "\r39%"
     ]
    },
    {
     "name": "stdout",
     "output_type": "stream",
     "text": [
      "\r40%"
     ]
    },
    {
     "name": "stdout",
     "output_type": "stream",
     "text": [
      "\r41%"
     ]
    },
    {
     "name": "stdout",
     "output_type": "stream",
     "text": [
      "\r42%"
     ]
    },
    {
     "name": "stdout",
     "output_type": "stream",
     "text": [
      "\r42%"
     ]
    },
    {
     "name": "stdout",
     "output_type": "stream",
     "text": [
      "\r43%"
     ]
    },
    {
     "name": "stdout",
     "output_type": "stream",
     "text": [
      "\r44%"
     ]
    },
    {
     "name": "stdout",
     "output_type": "stream",
     "text": [
      "\r45%"
     ]
    },
    {
     "name": "stdout",
     "output_type": "stream",
     "text": [
      "\r45%"
     ]
    },
    {
     "name": "stdout",
     "output_type": "stream",
     "text": [
      "\r46%"
     ]
    },
    {
     "name": "stdout",
     "output_type": "stream",
     "text": [
      "\r47%"
     ]
    },
    {
     "name": "stdout",
     "output_type": "stream",
     "text": [
      "\r48%"
     ]
    },
    {
     "name": "stdout",
     "output_type": "stream",
     "text": [
      "\r48%"
     ]
    },
    {
     "name": "stdout",
     "output_type": "stream",
     "text": [
      "\r49%"
     ]
    },
    {
     "name": "stdout",
     "output_type": "stream",
     "text": [
      "\r50%"
     ]
    },
    {
     "name": "stdout",
     "output_type": "stream",
     "text": [
      "\r51%"
     ]
    },
    {
     "name": "stdout",
     "output_type": "stream",
     "text": [
      "\r51%"
     ]
    },
    {
     "name": "stdout",
     "output_type": "stream",
     "text": [
      "\r52%"
     ]
    },
    {
     "name": "stdout",
     "output_type": "stream",
     "text": [
      "\r53%"
     ]
    },
    {
     "name": "stdout",
     "output_type": "stream",
     "text": [
      "\r54%"
     ]
    },
    {
     "name": "stdout",
     "output_type": "stream",
     "text": [
      "\r54%"
     ]
    },
    {
     "name": "stdout",
     "output_type": "stream",
     "text": [
      "\r55%"
     ]
    },
    {
     "name": "stdout",
     "output_type": "stream",
     "text": [
      "\r56%"
     ]
    },
    {
     "name": "stdout",
     "output_type": "stream",
     "text": [
      "\r57%"
     ]
    },
    {
     "name": "stdout",
     "output_type": "stream",
     "text": [
      "\r57%"
     ]
    },
    {
     "name": "stdout",
     "output_type": "stream",
     "text": [
      "\r58%"
     ]
    },
    {
     "name": "stdout",
     "output_type": "stream",
     "text": [
      "\r59%"
     ]
    },
    {
     "name": "stdout",
     "output_type": "stream",
     "text": [
      "\r60%"
     ]
    },
    {
     "name": "stdout",
     "output_type": "stream",
     "text": [
      "\r60%"
     ]
    },
    {
     "name": "stdout",
     "output_type": "stream",
     "text": [
      "\r61%"
     ]
    },
    {
     "name": "stdout",
     "output_type": "stream",
     "text": [
      "\r62%"
     ]
    },
    {
     "name": "stdout",
     "output_type": "stream",
     "text": [
      "\r63%"
     ]
    },
    {
     "name": "stdout",
     "output_type": "stream",
     "text": [
      "\r63%"
     ]
    },
    {
     "name": "stdout",
     "output_type": "stream",
     "text": [
      "\r64%"
     ]
    },
    {
     "name": "stdout",
     "output_type": "stream",
     "text": [
      "\r65%"
     ]
    },
    {
     "name": "stdout",
     "output_type": "stream",
     "text": [
      "\r66%"
     ]
    },
    {
     "name": "stdout",
     "output_type": "stream",
     "text": [
      "\r66%"
     ]
    },
    {
     "name": "stdout",
     "output_type": "stream",
     "text": [
      "\r67%"
     ]
    },
    {
     "name": "stdout",
     "output_type": "stream",
     "text": [
      "\r68%"
     ]
    },
    {
     "name": "stdout",
     "output_type": "stream",
     "text": [
      "\r69%"
     ]
    },
    {
     "name": "stdout",
     "output_type": "stream",
     "text": [
      "\r69%"
     ]
    },
    {
     "name": "stdout",
     "output_type": "stream",
     "text": [
      "\r70%"
     ]
    },
    {
     "name": "stdout",
     "output_type": "stream",
     "text": [
      "\r71%"
     ]
    },
    {
     "name": "stdout",
     "output_type": "stream",
     "text": [
      "\r72%"
     ]
    },
    {
     "name": "stdout",
     "output_type": "stream",
     "text": [
      "\r72%"
     ]
    },
    {
     "name": "stdout",
     "output_type": "stream",
     "text": [
      "\r73%"
     ]
    },
    {
     "name": "stdout",
     "output_type": "stream",
     "text": [
      "\r74%"
     ]
    },
    {
     "name": "stdout",
     "output_type": "stream",
     "text": [
      "\r75%"
     ]
    },
    {
     "name": "stdout",
     "output_type": "stream",
     "text": [
      "\r75%"
     ]
    },
    {
     "name": "stdout",
     "output_type": "stream",
     "text": [
      "\r76%"
     ]
    },
    {
     "name": "stdout",
     "output_type": "stream",
     "text": [
      "\r77%"
     ]
    },
    {
     "name": "stdout",
     "output_type": "stream",
     "text": [
      "\r78%"
     ]
    },
    {
     "name": "stdout",
     "output_type": "stream",
     "text": [
      "\r78%"
     ]
    },
    {
     "name": "stdout",
     "output_type": "stream",
     "text": [
      "\r79%"
     ]
    },
    {
     "name": "stdout",
     "output_type": "stream",
     "text": [
      "\r80%"
     ]
    },
    {
     "name": "stdout",
     "output_type": "stream",
     "text": [
      "\r81%"
     ]
    },
    {
     "name": "stdout",
     "output_type": "stream",
     "text": [
      "\r81%"
     ]
    },
    {
     "name": "stdout",
     "output_type": "stream",
     "text": [
      "\r82%"
     ]
    },
    {
     "name": "stdout",
     "output_type": "stream",
     "text": [
      "\r83%"
     ]
    },
    {
     "name": "stdout",
     "output_type": "stream",
     "text": [
      "\r84%"
     ]
    },
    {
     "name": "stdout",
     "output_type": "stream",
     "text": [
      "\r84%"
     ]
    },
    {
     "name": "stdout",
     "output_type": "stream",
     "text": [
      "\r85%"
     ]
    },
    {
     "name": "stdout",
     "output_type": "stream",
     "text": [
      "\r86%"
     ]
    },
    {
     "name": "stdout",
     "output_type": "stream",
     "text": [
      "\r87%"
     ]
    },
    {
     "name": "stdout",
     "output_type": "stream",
     "text": [
      "\r87%"
     ]
    },
    {
     "name": "stdout",
     "output_type": "stream",
     "text": [
      "\r88%"
     ]
    },
    {
     "name": "stdout",
     "output_type": "stream",
     "text": [
      "\r89%"
     ]
    },
    {
     "name": "stdout",
     "output_type": "stream",
     "text": [
      "\r90%"
     ]
    },
    {
     "name": "stdout",
     "output_type": "stream",
     "text": [
      "\r90%"
     ]
    },
    {
     "name": "stdout",
     "output_type": "stream",
     "text": [
      "\r91%"
     ]
    },
    {
     "name": "stdout",
     "output_type": "stream",
     "text": [
      "\r92%"
     ]
    },
    {
     "name": "stdout",
     "output_type": "stream",
     "text": [
      "\r93%"
     ]
    },
    {
     "name": "stdout",
     "output_type": "stream",
     "text": [
      "\r93%"
     ]
    },
    {
     "name": "stdout",
     "output_type": "stream",
     "text": [
      "\r94%"
     ]
    },
    {
     "name": "stdout",
     "output_type": "stream",
     "text": [
      "\r95%"
     ]
    },
    {
     "name": "stdout",
     "output_type": "stream",
     "text": [
      "\r96%"
     ]
    },
    {
     "name": "stdout",
     "output_type": "stream",
     "text": [
      "\r96%"
     ]
    },
    {
     "name": "stdout",
     "output_type": "stream",
     "text": [
      "\r97%"
     ]
    },
    {
     "name": "stdout",
     "output_type": "stream",
     "text": [
      "\r98%"
     ]
    },
    {
     "name": "stdout",
     "output_type": "stream",
     "text": [
      "\r99%"
     ]
    },
    {
     "name": "stdout",
     "output_type": "stream",
     "text": [
      "\r0 검증 세트 정확도: 0.93333334 "
     ]
    },
    {
     "name": "stdout",
     "output_type": "stream",
     "text": [
      "테스트 정확도: 0.9191\n\r0%"
     ]
    },
    {
     "name": "stdout",
     "output_type": "stream",
     "text": [
      "\r0%"
     ]
    },
    {
     "name": "stdout",
     "output_type": "stream",
     "text": [
      "\r1%"
     ]
    },
    {
     "name": "stdout",
     "output_type": "stream",
     "text": [
      "\r2%"
     ]
    },
    {
     "name": "stdout",
     "output_type": "stream",
     "text": [
      "\r3%"
     ]
    },
    {
     "name": "stdout",
     "output_type": "stream",
     "text": [
      "\r3%"
     ]
    },
    {
     "name": "stdout",
     "output_type": "stream",
     "text": [
      "\r4%"
     ]
    },
    {
     "name": "stdout",
     "output_type": "stream",
     "text": [
      "\r5%"
     ]
    },
    {
     "name": "stdout",
     "output_type": "stream",
     "text": [
      "\r6%"
     ]
    },
    {
     "name": "stdout",
     "output_type": "stream",
     "text": [
      "\r6%"
     ]
    },
    {
     "name": "stdout",
     "output_type": "stream",
     "text": [
      "\r7%"
     ]
    },
    {
     "name": "stdout",
     "output_type": "stream",
     "text": [
      "\r8%"
     ]
    },
    {
     "name": "stdout",
     "output_type": "stream",
     "text": [
      "\r9%"
     ]
    },
    {
     "name": "stdout",
     "output_type": "stream",
     "text": [
      "\r9%"
     ]
    },
    {
     "name": "stdout",
     "output_type": "stream",
     "text": [
      "\r10%"
     ]
    },
    {
     "name": "stdout",
     "output_type": "stream",
     "text": [
      "\r11%"
     ]
    },
    {
     "name": "stdout",
     "output_type": "stream",
     "text": [
      "\r12%"
     ]
    },
    {
     "name": "stdout",
     "output_type": "stream",
     "text": [
      "\r12%"
     ]
    },
    {
     "name": "stdout",
     "output_type": "stream",
     "text": [
      "\r13%"
     ]
    },
    {
     "name": "stdout",
     "output_type": "stream",
     "text": [
      "\r14%"
     ]
    },
    {
     "name": "stdout",
     "output_type": "stream",
     "text": [
      "\r15%"
     ]
    },
    {
     "name": "stdout",
     "output_type": "stream",
     "text": [
      "\r15%"
     ]
    },
    {
     "name": "stdout",
     "output_type": "stream",
     "text": [
      "\r16%"
     ]
    },
    {
     "name": "stdout",
     "output_type": "stream",
     "text": [
      "\r17%"
     ]
    },
    {
     "name": "stdout",
     "output_type": "stream",
     "text": [
      "\r18%"
     ]
    },
    {
     "name": "stdout",
     "output_type": "stream",
     "text": [
      "\r18%"
     ]
    },
    {
     "name": "stdout",
     "output_type": "stream",
     "text": [
      "\r19%"
     ]
    },
    {
     "name": "stdout",
     "output_type": "stream",
     "text": [
      "\r20%"
     ]
    },
    {
     "name": "stdout",
     "output_type": "stream",
     "text": [
      "\r21%"
     ]
    },
    {
     "name": "stdout",
     "output_type": "stream",
     "text": [
      "\r21%"
     ]
    },
    {
     "name": "stdout",
     "output_type": "stream",
     "text": [
      "\r22%"
     ]
    },
    {
     "name": "stdout",
     "output_type": "stream",
     "text": [
      "\r23%"
     ]
    },
    {
     "name": "stdout",
     "output_type": "stream",
     "text": [
      "\r24%"
     ]
    },
    {
     "name": "stdout",
     "output_type": "stream",
     "text": [
      "\r24%"
     ]
    },
    {
     "name": "stdout",
     "output_type": "stream",
     "text": [
      "\r25%"
     ]
    },
    {
     "name": "stdout",
     "output_type": "stream",
     "text": [
      "\r26%"
     ]
    },
    {
     "name": "stdout",
     "output_type": "stream",
     "text": [
      "\r27%"
     ]
    },
    {
     "name": "stdout",
     "output_type": "stream",
     "text": [
      "\r27%"
     ]
    },
    {
     "name": "stdout",
     "output_type": "stream",
     "text": [
      "\r28%"
     ]
    },
    {
     "name": "stdout",
     "output_type": "stream",
     "text": [
      "\r29%"
     ]
    },
    {
     "name": "stdout",
     "output_type": "stream",
     "text": [
      "\r30%"
     ]
    },
    {
     "name": "stdout",
     "output_type": "stream",
     "text": [
      "\r30%"
     ]
    },
    {
     "name": "stdout",
     "output_type": "stream",
     "text": [
      "\r31%"
     ]
    },
    {
     "name": "stdout",
     "output_type": "stream",
     "text": [
      "\r32%"
     ]
    },
    {
     "name": "stdout",
     "output_type": "stream",
     "text": [
      "\r33%"
     ]
    },
    {
     "name": "stdout",
     "output_type": "stream",
     "text": [
      "\r33%"
     ]
    },
    {
     "name": "stdout",
     "output_type": "stream",
     "text": [
      "\r34%"
     ]
    },
    {
     "name": "stdout",
     "output_type": "stream",
     "text": [
      "\r35%"
     ]
    },
    {
     "name": "stdout",
     "output_type": "stream",
     "text": [
      "\r36%"
     ]
    },
    {
     "name": "stdout",
     "output_type": "stream",
     "text": [
      "\r36%"
     ]
    },
    {
     "name": "stdout",
     "output_type": "stream",
     "text": [
      "\r37%"
     ]
    },
    {
     "name": "stdout",
     "output_type": "stream",
     "text": [
      "\r38%"
     ]
    },
    {
     "name": "stdout",
     "output_type": "stream",
     "text": [
      "\r39%"
     ]
    },
    {
     "name": "stdout",
     "output_type": "stream",
     "text": [
      "\r39%"
     ]
    },
    {
     "name": "stdout",
     "output_type": "stream",
     "text": [
      "\r40%"
     ]
    },
    {
     "name": "stdout",
     "output_type": "stream",
     "text": [
      "\r41%"
     ]
    },
    {
     "name": "stdout",
     "output_type": "stream",
     "text": [
      "\r42%"
     ]
    },
    {
     "name": "stdout",
     "output_type": "stream",
     "text": [
      "\r42%"
     ]
    },
    {
     "name": "stdout",
     "output_type": "stream",
     "text": [
      "\r43%"
     ]
    },
    {
     "name": "stdout",
     "output_type": "stream",
     "text": [
      "\r44%"
     ]
    },
    {
     "name": "stdout",
     "output_type": "stream",
     "text": [
      "\r45%"
     ]
    },
    {
     "name": "stdout",
     "output_type": "stream",
     "text": [
      "\r45%"
     ]
    },
    {
     "name": "stdout",
     "output_type": "stream",
     "text": [
      "\r46%"
     ]
    },
    {
     "name": "stdout",
     "output_type": "stream",
     "text": [
      "\r47%"
     ]
    },
    {
     "name": "stdout",
     "output_type": "stream",
     "text": [
      "\r48%"
     ]
    },
    {
     "name": "stdout",
     "output_type": "stream",
     "text": [
      "\r48%"
     ]
    },
    {
     "name": "stdout",
     "output_type": "stream",
     "text": [
      "\r49%"
     ]
    },
    {
     "name": "stdout",
     "output_type": "stream",
     "text": [
      "\r50%"
     ]
    },
    {
     "name": "stdout",
     "output_type": "stream",
     "text": [
      "\r51%"
     ]
    },
    {
     "name": "stdout",
     "output_type": "stream",
     "text": [
      "\r51%"
     ]
    },
    {
     "name": "stdout",
     "output_type": "stream",
     "text": [
      "\r52%"
     ]
    },
    {
     "name": "stdout",
     "output_type": "stream",
     "text": [
      "\r53%"
     ]
    },
    {
     "name": "stdout",
     "output_type": "stream",
     "text": [
      "\r54%"
     ]
    },
    {
     "name": "stdout",
     "output_type": "stream",
     "text": [
      "\r54%"
     ]
    },
    {
     "name": "stdout",
     "output_type": "stream",
     "text": [
      "\r55%"
     ]
    },
    {
     "name": "stdout",
     "output_type": "stream",
     "text": [
      "\r56%"
     ]
    },
    {
     "name": "stdout",
     "output_type": "stream",
     "text": [
      "\r57%"
     ]
    },
    {
     "name": "stdout",
     "output_type": "stream",
     "text": [
      "\r57%"
     ]
    },
    {
     "name": "stdout",
     "output_type": "stream",
     "text": [
      "\r58%"
     ]
    },
    {
     "name": "stdout",
     "output_type": "stream",
     "text": [
      "\r59%"
     ]
    },
    {
     "name": "stdout",
     "output_type": "stream",
     "text": [
      "\r60%"
     ]
    },
    {
     "name": "stdout",
     "output_type": "stream",
     "text": [
      "\r60%"
     ]
    },
    {
     "name": "stdout",
     "output_type": "stream",
     "text": [
      "\r61%"
     ]
    },
    {
     "name": "stdout",
     "output_type": "stream",
     "text": [
      "\r62%"
     ]
    },
    {
     "name": "stdout",
     "output_type": "stream",
     "text": [
      "\r63%"
     ]
    },
    {
     "name": "stdout",
     "output_type": "stream",
     "text": [
      "\r63%"
     ]
    },
    {
     "name": "stdout",
     "output_type": "stream",
     "text": [
      "\r64%"
     ]
    },
    {
     "name": "stdout",
     "output_type": "stream",
     "text": [
      "\r65%"
     ]
    },
    {
     "name": "stdout",
     "output_type": "stream",
     "text": [
      "\r66%"
     ]
    },
    {
     "name": "stdout",
     "output_type": "stream",
     "text": [
      "\r66%"
     ]
    },
    {
     "name": "stdout",
     "output_type": "stream",
     "text": [
      "\r67%"
     ]
    },
    {
     "name": "stdout",
     "output_type": "stream",
     "text": [
      "\r68%"
     ]
    },
    {
     "name": "stdout",
     "output_type": "stream",
     "text": [
      "\r69%"
     ]
    },
    {
     "name": "stdout",
     "output_type": "stream",
     "text": [
      "\r69%"
     ]
    },
    {
     "name": "stdout",
     "output_type": "stream",
     "text": [
      "\r70%"
     ]
    },
    {
     "name": "stdout",
     "output_type": "stream",
     "text": [
      "\r71%"
     ]
    },
    {
     "name": "stdout",
     "output_type": "stream",
     "text": [
      "\r72%"
     ]
    },
    {
     "name": "stdout",
     "output_type": "stream",
     "text": [
      "\r72%"
     ]
    },
    {
     "name": "stdout",
     "output_type": "stream",
     "text": [
      "\r73%"
     ]
    },
    {
     "name": "stdout",
     "output_type": "stream",
     "text": [
      "\r74%"
     ]
    },
    {
     "name": "stdout",
     "output_type": "stream",
     "text": [
      "\r75%"
     ]
    },
    {
     "name": "stdout",
     "output_type": "stream",
     "text": [
      "\r75%"
     ]
    },
    {
     "name": "stdout",
     "output_type": "stream",
     "text": [
      "\r76%"
     ]
    },
    {
     "name": "stdout",
     "output_type": "stream",
     "text": [
      "\r77%"
     ]
    },
    {
     "name": "stdout",
     "output_type": "stream",
     "text": [
      "\r78%"
     ]
    },
    {
     "name": "stdout",
     "output_type": "stream",
     "text": [
      "\r78%"
     ]
    },
    {
     "name": "stdout",
     "output_type": "stream",
     "text": [
      "\r79%"
     ]
    },
    {
     "name": "stdout",
     "output_type": "stream",
     "text": [
      "\r80%"
     ]
    },
    {
     "name": "stdout",
     "output_type": "stream",
     "text": [
      "\r81%"
     ]
    },
    {
     "name": "stdout",
     "output_type": "stream",
     "text": [
      "\r81%"
     ]
    },
    {
     "name": "stdout",
     "output_type": "stream",
     "text": [
      "\r82%"
     ]
    },
    {
     "name": "stdout",
     "output_type": "stream",
     "text": [
      "\r83%"
     ]
    },
    {
     "name": "stdout",
     "output_type": "stream",
     "text": [
      "\r84%"
     ]
    },
    {
     "name": "stdout",
     "output_type": "stream",
     "text": [
      "\r84%"
     ]
    },
    {
     "name": "stdout",
     "output_type": "stream",
     "text": [
      "\r85%"
     ]
    },
    {
     "name": "stdout",
     "output_type": "stream",
     "text": [
      "\r86%"
     ]
    },
    {
     "name": "stdout",
     "output_type": "stream",
     "text": [
      "\r87%"
     ]
    },
    {
     "name": "stdout",
     "output_type": "stream",
     "text": [
      "\r87%"
     ]
    },
    {
     "name": "stdout",
     "output_type": "stream",
     "text": [
      "\r88%"
     ]
    },
    {
     "name": "stdout",
     "output_type": "stream",
     "text": [
      "\r89%"
     ]
    },
    {
     "name": "stdout",
     "output_type": "stream",
     "text": [
      "\r90%"
     ]
    },
    {
     "name": "stdout",
     "output_type": "stream",
     "text": [
      "\r90%"
     ]
    },
    {
     "name": "stdout",
     "output_type": "stream",
     "text": [
      "\r91%"
     ]
    },
    {
     "name": "stdout",
     "output_type": "stream",
     "text": [
      "\r92%"
     ]
    },
    {
     "name": "stdout",
     "output_type": "stream",
     "text": [
      "\r93%"
     ]
    },
    {
     "name": "stdout",
     "output_type": "stream",
     "text": [
      "\r93%"
     ]
    },
    {
     "name": "stdout",
     "output_type": "stream",
     "text": [
      "\r94%"
     ]
    },
    {
     "name": "stdout",
     "output_type": "stream",
     "text": [
      "\r95%"
     ]
    },
    {
     "name": "stdout",
     "output_type": "stream",
     "text": [
      "\r96%"
     ]
    },
    {
     "name": "stdout",
     "output_type": "stream",
     "text": [
      "\r96%"
     ]
    },
    {
     "name": "stdout",
     "output_type": "stream",
     "text": [
      "\r97%"
     ]
    },
    {
     "name": "stdout",
     "output_type": "stream",
     "text": [
      "\r98%"
     ]
    },
    {
     "name": "stdout",
     "output_type": "stream",
     "text": [
      "\r99%"
     ]
    },
    {
     "name": "stdout",
     "output_type": "stream",
     "text": [
      "\r1 검증 세트 정확도: 0.97333336 "
     ]
    },
    {
     "name": "stdout",
     "output_type": "stream",
     "text": [
      "테스트 정확도: 0.9371\n\r0%"
     ]
    },
    {
     "name": "stdout",
     "output_type": "stream",
     "text": [
      "\r0%"
     ]
    },
    {
     "name": "stdout",
     "output_type": "stream",
     "text": [
      "\r1%"
     ]
    },
    {
     "name": "stdout",
     "output_type": "stream",
     "text": [
      "\r2%"
     ]
    },
    {
     "name": "stdout",
     "output_type": "stream",
     "text": [
      "\r3%"
     ]
    },
    {
     "name": "stdout",
     "output_type": "stream",
     "text": [
      "\r3%"
     ]
    },
    {
     "name": "stdout",
     "output_type": "stream",
     "text": [
      "\r4%"
     ]
    },
    {
     "name": "stdout",
     "output_type": "stream",
     "text": [
      "\r5%"
     ]
    },
    {
     "name": "stdout",
     "output_type": "stream",
     "text": [
      "\r6%"
     ]
    },
    {
     "name": "stdout",
     "output_type": "stream",
     "text": [
      "\r6%"
     ]
    },
    {
     "name": "stdout",
     "output_type": "stream",
     "text": [
      "\r7%"
     ]
    },
    {
     "name": "stdout",
     "output_type": "stream",
     "text": [
      "\r8%"
     ]
    },
    {
     "name": "stdout",
     "output_type": "stream",
     "text": [
      "\r9%"
     ]
    },
    {
     "name": "stdout",
     "output_type": "stream",
     "text": [
      "\r9%"
     ]
    },
    {
     "name": "stdout",
     "output_type": "stream",
     "text": [
      "\r10%"
     ]
    },
    {
     "name": "stdout",
     "output_type": "stream",
     "text": [
      "\r11%"
     ]
    },
    {
     "name": "stdout",
     "output_type": "stream",
     "text": [
      "\r12%"
     ]
    },
    {
     "name": "stdout",
     "output_type": "stream",
     "text": [
      "\r12%"
     ]
    },
    {
     "name": "stdout",
     "output_type": "stream",
     "text": [
      "\r13%"
     ]
    },
    {
     "name": "stdout",
     "output_type": "stream",
     "text": [
      "\r14%"
     ]
    },
    {
     "name": "stdout",
     "output_type": "stream",
     "text": [
      "\r15%"
     ]
    },
    {
     "name": "stdout",
     "output_type": "stream",
     "text": [
      "\r15%"
     ]
    },
    {
     "name": "stdout",
     "output_type": "stream",
     "text": [
      "\r16%"
     ]
    },
    {
     "name": "stdout",
     "output_type": "stream",
     "text": [
      "\r17%"
     ]
    },
    {
     "name": "stdout",
     "output_type": "stream",
     "text": [
      "\r18%"
     ]
    },
    {
     "name": "stdout",
     "output_type": "stream",
     "text": [
      "\r18%"
     ]
    },
    {
     "name": "stdout",
     "output_type": "stream",
     "text": [
      "\r19%"
     ]
    },
    {
     "name": "stdout",
     "output_type": "stream",
     "text": [
      "\r20%"
     ]
    },
    {
     "name": "stdout",
     "output_type": "stream",
     "text": [
      "\r21%"
     ]
    },
    {
     "name": "stdout",
     "output_type": "stream",
     "text": [
      "\r21%"
     ]
    },
    {
     "name": "stdout",
     "output_type": "stream",
     "text": [
      "\r22%"
     ]
    },
    {
     "name": "stdout",
     "output_type": "stream",
     "text": [
      "\r23%"
     ]
    },
    {
     "name": "stdout",
     "output_type": "stream",
     "text": [
      "\r24%"
     ]
    },
    {
     "name": "stdout",
     "output_type": "stream",
     "text": [
      "\r24%"
     ]
    },
    {
     "name": "stdout",
     "output_type": "stream",
     "text": [
      "\r25%"
     ]
    },
    {
     "name": "stdout",
     "output_type": "stream",
     "text": [
      "\r26%"
     ]
    },
    {
     "name": "stdout",
     "output_type": "stream",
     "text": [
      "\r27%"
     ]
    },
    {
     "name": "stdout",
     "output_type": "stream",
     "text": [
      "\r27%"
     ]
    },
    {
     "name": "stdout",
     "output_type": "stream",
     "text": [
      "\r28%"
     ]
    },
    {
     "name": "stdout",
     "output_type": "stream",
     "text": [
      "\r29%"
     ]
    },
    {
     "name": "stdout",
     "output_type": "stream",
     "text": [
      "\r30%"
     ]
    },
    {
     "name": "stdout",
     "output_type": "stream",
     "text": [
      "\r30%"
     ]
    },
    {
     "name": "stdout",
     "output_type": "stream",
     "text": [
      "\r31%"
     ]
    },
    {
     "name": "stdout",
     "output_type": "stream",
     "text": [
      "\r32%"
     ]
    },
    {
     "name": "stdout",
     "output_type": "stream",
     "text": [
      "\r33%"
     ]
    },
    {
     "name": "stdout",
     "output_type": "stream",
     "text": [
      "\r33%"
     ]
    },
    {
     "name": "stdout",
     "output_type": "stream",
     "text": [
      "\r34%"
     ]
    },
    {
     "name": "stdout",
     "output_type": "stream",
     "text": [
      "\r35%"
     ]
    },
    {
     "name": "stdout",
     "output_type": "stream",
     "text": [
      "\r36%"
     ]
    },
    {
     "name": "stdout",
     "output_type": "stream",
     "text": [
      "\r36%"
     ]
    },
    {
     "name": "stdout",
     "output_type": "stream",
     "text": [
      "\r37%"
     ]
    },
    {
     "name": "stdout",
     "output_type": "stream",
     "text": [
      "\r38%"
     ]
    },
    {
     "name": "stdout",
     "output_type": "stream",
     "text": [
      "\r39%"
     ]
    },
    {
     "name": "stdout",
     "output_type": "stream",
     "text": [
      "\r39%"
     ]
    },
    {
     "name": "stdout",
     "output_type": "stream",
     "text": [
      "\r40%"
     ]
    },
    {
     "name": "stdout",
     "output_type": "stream",
     "text": [
      "\r41%"
     ]
    },
    {
     "name": "stdout",
     "output_type": "stream",
     "text": [
      "\r42%"
     ]
    },
    {
     "name": "stdout",
     "output_type": "stream",
     "text": [
      "\r42%"
     ]
    },
    {
     "name": "stdout",
     "output_type": "stream",
     "text": [
      "\r43%"
     ]
    },
    {
     "name": "stdout",
     "output_type": "stream",
     "text": [
      "\r44%"
     ]
    },
    {
     "name": "stdout",
     "output_type": "stream",
     "text": [
      "\r45%"
     ]
    },
    {
     "name": "stdout",
     "output_type": "stream",
     "text": [
      "\r45%"
     ]
    },
    {
     "name": "stdout",
     "output_type": "stream",
     "text": [
      "\r46%"
     ]
    },
    {
     "name": "stdout",
     "output_type": "stream",
     "text": [
      "\r47%"
     ]
    },
    {
     "name": "stdout",
     "output_type": "stream",
     "text": [
      "\r48%"
     ]
    },
    {
     "name": "stdout",
     "output_type": "stream",
     "text": [
      "\r48%"
     ]
    },
    {
     "name": "stdout",
     "output_type": "stream",
     "text": [
      "\r49%"
     ]
    },
    {
     "name": "stdout",
     "output_type": "stream",
     "text": [
      "\r50%"
     ]
    },
    {
     "name": "stdout",
     "output_type": "stream",
     "text": [
      "\r51%"
     ]
    },
    {
     "name": "stdout",
     "output_type": "stream",
     "text": [
      "\r51%"
     ]
    },
    {
     "name": "stdout",
     "output_type": "stream",
     "text": [
      "\r52%"
     ]
    },
    {
     "name": "stdout",
     "output_type": "stream",
     "text": [
      "\r53%"
     ]
    },
    {
     "name": "stdout",
     "output_type": "stream",
     "text": [
      "\r54%"
     ]
    },
    {
     "name": "stdout",
     "output_type": "stream",
     "text": [
      "\r54%"
     ]
    },
    {
     "name": "stdout",
     "output_type": "stream",
     "text": [
      "\r55%"
     ]
    },
    {
     "name": "stdout",
     "output_type": "stream",
     "text": [
      "\r56%"
     ]
    },
    {
     "name": "stdout",
     "output_type": "stream",
     "text": [
      "\r57%"
     ]
    },
    {
     "name": "stdout",
     "output_type": "stream",
     "text": [
      "\r57%"
     ]
    },
    {
     "name": "stdout",
     "output_type": "stream",
     "text": [
      "\r58%"
     ]
    },
    {
     "name": "stdout",
     "output_type": "stream",
     "text": [
      "\r59%"
     ]
    },
    {
     "name": "stdout",
     "output_type": "stream",
     "text": [
      "\r60%"
     ]
    },
    {
     "name": "stdout",
     "output_type": "stream",
     "text": [
      "\r60%"
     ]
    },
    {
     "name": "stdout",
     "output_type": "stream",
     "text": [
      "\r61%"
     ]
    },
    {
     "name": "stdout",
     "output_type": "stream",
     "text": [
      "\r62%"
     ]
    },
    {
     "name": "stdout",
     "output_type": "stream",
     "text": [
      "\r63%"
     ]
    },
    {
     "name": "stdout",
     "output_type": "stream",
     "text": [
      "\r63%"
     ]
    },
    {
     "name": "stdout",
     "output_type": "stream",
     "text": [
      "\r64%"
     ]
    },
    {
     "name": "stdout",
     "output_type": "stream",
     "text": [
      "\r65%"
     ]
    },
    {
     "name": "stdout",
     "output_type": "stream",
     "text": [
      "\r66%"
     ]
    },
    {
     "name": "stdout",
     "output_type": "stream",
     "text": [
      "\r66%"
     ]
    },
    {
     "name": "stdout",
     "output_type": "stream",
     "text": [
      "\r67%"
     ]
    },
    {
     "name": "stdout",
     "output_type": "stream",
     "text": [
      "\r68%"
     ]
    },
    {
     "name": "stdout",
     "output_type": "stream",
     "text": [
      "\r69%"
     ]
    },
    {
     "name": "stdout",
     "output_type": "stream",
     "text": [
      "\r69%"
     ]
    },
    {
     "name": "stdout",
     "output_type": "stream",
     "text": [
      "\r70%"
     ]
    },
    {
     "name": "stdout",
     "output_type": "stream",
     "text": [
      "\r71%"
     ]
    },
    {
     "name": "stdout",
     "output_type": "stream",
     "text": [
      "\r72%"
     ]
    },
    {
     "name": "stdout",
     "output_type": "stream",
     "text": [
      "\r72%"
     ]
    },
    {
     "name": "stdout",
     "output_type": "stream",
     "text": [
      "\r73%"
     ]
    },
    {
     "name": "stdout",
     "output_type": "stream",
     "text": [
      "\r74%"
     ]
    },
    {
     "name": "stdout",
     "output_type": "stream",
     "text": [
      "\r75%"
     ]
    },
    {
     "name": "stdout",
     "output_type": "stream",
     "text": [
      "\r75%"
     ]
    },
    {
     "name": "stdout",
     "output_type": "stream",
     "text": [
      "\r76%"
     ]
    },
    {
     "name": "stdout",
     "output_type": "stream",
     "text": [
      "\r77%"
     ]
    },
    {
     "name": "stdout",
     "output_type": "stream",
     "text": [
      "\r78%"
     ]
    },
    {
     "name": "stdout",
     "output_type": "stream",
     "text": [
      "\r78%"
     ]
    },
    {
     "name": "stdout",
     "output_type": "stream",
     "text": [
      "\r79%"
     ]
    },
    {
     "name": "stdout",
     "output_type": "stream",
     "text": [
      "\r80%"
     ]
    },
    {
     "name": "stdout",
     "output_type": "stream",
     "text": [
      "\r81%"
     ]
    },
    {
     "name": "stdout",
     "output_type": "stream",
     "text": [
      "\r81%"
     ]
    },
    {
     "name": "stdout",
     "output_type": "stream",
     "text": [
      "\r82%"
     ]
    },
    {
     "name": "stdout",
     "output_type": "stream",
     "text": [
      "\r83%"
     ]
    },
    {
     "name": "stdout",
     "output_type": "stream",
     "text": [
      "\r84%"
     ]
    },
    {
     "name": "stdout",
     "output_type": "stream",
     "text": [
      "\r84%"
     ]
    },
    {
     "name": "stdout",
     "output_type": "stream",
     "text": [
      "\r85%"
     ]
    },
    {
     "name": "stdout",
     "output_type": "stream",
     "text": [
      "\r86%"
     ]
    },
    {
     "name": "stdout",
     "output_type": "stream",
     "text": [
      "\r87%"
     ]
    },
    {
     "name": "stdout",
     "output_type": "stream",
     "text": [
      "\r87%"
     ]
    },
    {
     "name": "stdout",
     "output_type": "stream",
     "text": [
      "\r88%"
     ]
    },
    {
     "name": "stdout",
     "output_type": "stream",
     "text": [
      "\r89%"
     ]
    },
    {
     "name": "stdout",
     "output_type": "stream",
     "text": [
      "\r90%"
     ]
    },
    {
     "name": "stdout",
     "output_type": "stream",
     "text": [
      "\r90%"
     ]
    },
    {
     "name": "stdout",
     "output_type": "stream",
     "text": [
      "\r91%"
     ]
    },
    {
     "name": "stdout",
     "output_type": "stream",
     "text": [
      "\r92%"
     ]
    },
    {
     "name": "stdout",
     "output_type": "stream",
     "text": [
      "\r93%"
     ]
    },
    {
     "name": "stdout",
     "output_type": "stream",
     "text": [
      "\r93%"
     ]
    },
    {
     "name": "stdout",
     "output_type": "stream",
     "text": [
      "\r94%"
     ]
    },
    {
     "name": "stdout",
     "output_type": "stream",
     "text": [
      "\r95%"
     ]
    },
    {
     "name": "stdout",
     "output_type": "stream",
     "text": [
      "\r96%"
     ]
    },
    {
     "name": "stdout",
     "output_type": "stream",
     "text": [
      "\r96%"
     ]
    },
    {
     "name": "stdout",
     "output_type": "stream",
     "text": [
      "\r97%"
     ]
    },
    {
     "name": "stdout",
     "output_type": "stream",
     "text": [
      "\r98%"
     ]
    },
    {
     "name": "stdout",
     "output_type": "stream",
     "text": [
      "\r99%"
     ]
    },
    {
     "name": "stdout",
     "output_type": "stream",
     "text": [
      "\r2 검증 세트 정확도: 0.9866667 "
     ]
    },
    {
     "name": "stdout",
     "output_type": "stream",
     "text": [
      "테스트 정확도: 0.9318\n\r0%"
     ]
    },
    {
     "name": "stdout",
     "output_type": "stream",
     "text": [
      "\r0%"
     ]
    },
    {
     "name": "stdout",
     "output_type": "stream",
     "text": [
      "\r1%"
     ]
    },
    {
     "name": "stdout",
     "output_type": "stream",
     "text": [
      "\r2%"
     ]
    },
    {
     "name": "stdout",
     "output_type": "stream",
     "text": [
      "\r3%"
     ]
    },
    {
     "name": "stdout",
     "output_type": "stream",
     "text": [
      "\r3%"
     ]
    },
    {
     "name": "stdout",
     "output_type": "stream",
     "text": [
      "\r4%"
     ]
    },
    {
     "name": "stdout",
     "output_type": "stream",
     "text": [
      "\r5%"
     ]
    },
    {
     "name": "stdout",
     "output_type": "stream",
     "text": [
      "\r6%"
     ]
    },
    {
     "name": "stdout",
     "output_type": "stream",
     "text": [
      "\r6%"
     ]
    },
    {
     "name": "stdout",
     "output_type": "stream",
     "text": [
      "\r7%"
     ]
    },
    {
     "name": "stdout",
     "output_type": "stream",
     "text": [
      "\r8%"
     ]
    },
    {
     "name": "stdout",
     "output_type": "stream",
     "text": [
      "\r9%"
     ]
    },
    {
     "name": "stdout",
     "output_type": "stream",
     "text": [
      "\r9%"
     ]
    },
    {
     "name": "stdout",
     "output_type": "stream",
     "text": [
      "\r10%"
     ]
    },
    {
     "name": "stdout",
     "output_type": "stream",
     "text": [
      "\r11%"
     ]
    },
    {
     "name": "stdout",
     "output_type": "stream",
     "text": [
      "\r12%"
     ]
    },
    {
     "name": "stdout",
     "output_type": "stream",
     "text": [
      "\r12%"
     ]
    },
    {
     "name": "stdout",
     "output_type": "stream",
     "text": [
      "\r13%"
     ]
    },
    {
     "name": "stdout",
     "output_type": "stream",
     "text": [
      "\r14%"
     ]
    },
    {
     "name": "stdout",
     "output_type": "stream",
     "text": [
      "\r15%"
     ]
    },
    {
     "name": "stdout",
     "output_type": "stream",
     "text": [
      "\r15%"
     ]
    },
    {
     "name": "stdout",
     "output_type": "stream",
     "text": [
      "\r16%"
     ]
    },
    {
     "name": "stdout",
     "output_type": "stream",
     "text": [
      "\r17%"
     ]
    },
    {
     "name": "stdout",
     "output_type": "stream",
     "text": [
      "\r18%"
     ]
    },
    {
     "name": "stdout",
     "output_type": "stream",
     "text": [
      "\r18%"
     ]
    },
    {
     "name": "stdout",
     "output_type": "stream",
     "text": [
      "\r19%"
     ]
    },
    {
     "name": "stdout",
     "output_type": "stream",
     "text": [
      "\r20%"
     ]
    },
    {
     "name": "stdout",
     "output_type": "stream",
     "text": [
      "\r21%"
     ]
    },
    {
     "name": "stdout",
     "output_type": "stream",
     "text": [
      "\r21%"
     ]
    },
    {
     "name": "stdout",
     "output_type": "stream",
     "text": [
      "\r22%"
     ]
    },
    {
     "name": "stdout",
     "output_type": "stream",
     "text": [
      "\r23%"
     ]
    },
    {
     "name": "stdout",
     "output_type": "stream",
     "text": [
      "\r24%"
     ]
    },
    {
     "name": "stdout",
     "output_type": "stream",
     "text": [
      "\r24%"
     ]
    },
    {
     "name": "stdout",
     "output_type": "stream",
     "text": [
      "\r25%"
     ]
    },
    {
     "name": "stdout",
     "output_type": "stream",
     "text": [
      "\r26%"
     ]
    },
    {
     "name": "stdout",
     "output_type": "stream",
     "text": [
      "\r27%"
     ]
    },
    {
     "name": "stdout",
     "output_type": "stream",
     "text": [
      "\r27%"
     ]
    },
    {
     "name": "stdout",
     "output_type": "stream",
     "text": [
      "\r28%"
     ]
    },
    {
     "name": "stdout",
     "output_type": "stream",
     "text": [
      "\r29%"
     ]
    },
    {
     "name": "stdout",
     "output_type": "stream",
     "text": [
      "\r30%"
     ]
    },
    {
     "name": "stdout",
     "output_type": "stream",
     "text": [
      "\r30%"
     ]
    },
    {
     "name": "stdout",
     "output_type": "stream",
     "text": [
      "\r31%"
     ]
    },
    {
     "name": "stdout",
     "output_type": "stream",
     "text": [
      "\r32%"
     ]
    },
    {
     "name": "stdout",
     "output_type": "stream",
     "text": [
      "\r33%"
     ]
    },
    {
     "name": "stdout",
     "output_type": "stream",
     "text": [
      "\r33%"
     ]
    },
    {
     "name": "stdout",
     "output_type": "stream",
     "text": [
      "\r34%"
     ]
    },
    {
     "name": "stdout",
     "output_type": "stream",
     "text": [
      "\r35%"
     ]
    },
    {
     "name": "stdout",
     "output_type": "stream",
     "text": [
      "\r36%"
     ]
    },
    {
     "name": "stdout",
     "output_type": "stream",
     "text": [
      "\r36%"
     ]
    },
    {
     "name": "stdout",
     "output_type": "stream",
     "text": [
      "\r37%"
     ]
    },
    {
     "name": "stdout",
     "output_type": "stream",
     "text": [
      "\r38%"
     ]
    },
    {
     "name": "stdout",
     "output_type": "stream",
     "text": [
      "\r39%"
     ]
    },
    {
     "name": "stdout",
     "output_type": "stream",
     "text": [
      "\r39%"
     ]
    },
    {
     "name": "stdout",
     "output_type": "stream",
     "text": [
      "\r40%"
     ]
    },
    {
     "name": "stdout",
     "output_type": "stream",
     "text": [
      "\r41%"
     ]
    },
    {
     "name": "stdout",
     "output_type": "stream",
     "text": [
      "\r42%"
     ]
    },
    {
     "name": "stdout",
     "output_type": "stream",
     "text": [
      "\r42%"
     ]
    },
    {
     "name": "stdout",
     "output_type": "stream",
     "text": [
      "\r43%"
     ]
    },
    {
     "name": "stdout",
     "output_type": "stream",
     "text": [
      "\r44%"
     ]
    },
    {
     "name": "stdout",
     "output_type": "stream",
     "text": [
      "\r45%"
     ]
    },
    {
     "name": "stdout",
     "output_type": "stream",
     "text": [
      "\r45%"
     ]
    },
    {
     "name": "stdout",
     "output_type": "stream",
     "text": [
      "\r46%"
     ]
    },
    {
     "name": "stdout",
     "output_type": "stream",
     "text": [
      "\r47%"
     ]
    },
    {
     "name": "stdout",
     "output_type": "stream",
     "text": [
      "\r48%"
     ]
    },
    {
     "name": "stdout",
     "output_type": "stream",
     "text": [
      "\r48%"
     ]
    },
    {
     "name": "stdout",
     "output_type": "stream",
     "text": [
      "\r49%"
     ]
    },
    {
     "name": "stdout",
     "output_type": "stream",
     "text": [
      "\r50%"
     ]
    },
    {
     "name": "stdout",
     "output_type": "stream",
     "text": [
      "\r51%"
     ]
    },
    {
     "name": "stdout",
     "output_type": "stream",
     "text": [
      "\r51%"
     ]
    },
    {
     "name": "stdout",
     "output_type": "stream",
     "text": [
      "\r52%"
     ]
    },
    {
     "name": "stdout",
     "output_type": "stream",
     "text": [
      "\r53%"
     ]
    },
    {
     "name": "stdout",
     "output_type": "stream",
     "text": [
      "\r54%"
     ]
    },
    {
     "name": "stdout",
     "output_type": "stream",
     "text": [
      "\r54%"
     ]
    },
    {
     "name": "stdout",
     "output_type": "stream",
     "text": [
      "\r55%"
     ]
    },
    {
     "name": "stdout",
     "output_type": "stream",
     "text": [
      "\r56%"
     ]
    },
    {
     "name": "stdout",
     "output_type": "stream",
     "text": [
      "\r57%"
     ]
    },
    {
     "name": "stdout",
     "output_type": "stream",
     "text": [
      "\r57%"
     ]
    },
    {
     "name": "stdout",
     "output_type": "stream",
     "text": [
      "\r58%"
     ]
    },
    {
     "name": "stdout",
     "output_type": "stream",
     "text": [
      "\r59%"
     ]
    },
    {
     "name": "stdout",
     "output_type": "stream",
     "text": [
      "\r60%"
     ]
    },
    {
     "name": "stdout",
     "output_type": "stream",
     "text": [
      "\r60%"
     ]
    },
    {
     "name": "stdout",
     "output_type": "stream",
     "text": [
      "\r61%"
     ]
    },
    {
     "name": "stdout",
     "output_type": "stream",
     "text": [
      "\r62%"
     ]
    },
    {
     "name": "stdout",
     "output_type": "stream",
     "text": [
      "\r63%"
     ]
    },
    {
     "name": "stdout",
     "output_type": "stream",
     "text": [
      "\r63%"
     ]
    },
    {
     "name": "stdout",
     "output_type": "stream",
     "text": [
      "\r64%"
     ]
    },
    {
     "name": "stdout",
     "output_type": "stream",
     "text": [
      "\r65%"
     ]
    },
    {
     "name": "stdout",
     "output_type": "stream",
     "text": [
      "\r66%"
     ]
    },
    {
     "name": "stdout",
     "output_type": "stream",
     "text": [
      "\r66%"
     ]
    },
    {
     "name": "stdout",
     "output_type": "stream",
     "text": [
      "\r67%"
     ]
    },
    {
     "name": "stdout",
     "output_type": "stream",
     "text": [
      "\r68%"
     ]
    },
    {
     "name": "stdout",
     "output_type": "stream",
     "text": [
      "\r69%"
     ]
    },
    {
     "name": "stdout",
     "output_type": "stream",
     "text": [
      "\r69%"
     ]
    },
    {
     "name": "stdout",
     "output_type": "stream",
     "text": [
      "\r70%"
     ]
    },
    {
     "name": "stdout",
     "output_type": "stream",
     "text": [
      "\r71%"
     ]
    },
    {
     "name": "stdout",
     "output_type": "stream",
     "text": [
      "\r72%"
     ]
    },
    {
     "name": "stdout",
     "output_type": "stream",
     "text": [
      "\r72%"
     ]
    },
    {
     "name": "stdout",
     "output_type": "stream",
     "text": [
      "\r73%"
     ]
    },
    {
     "name": "stdout",
     "output_type": "stream",
     "text": [
      "\r74%"
     ]
    },
    {
     "name": "stdout",
     "output_type": "stream",
     "text": [
      "\r75%"
     ]
    },
    {
     "name": "stdout",
     "output_type": "stream",
     "text": [
      "\r75%"
     ]
    },
    {
     "name": "stdout",
     "output_type": "stream",
     "text": [
      "\r76%"
     ]
    },
    {
     "name": "stdout",
     "output_type": "stream",
     "text": [
      "\r77%"
     ]
    },
    {
     "name": "stdout",
     "output_type": "stream",
     "text": [
      "\r78%"
     ]
    },
    {
     "name": "stdout",
     "output_type": "stream",
     "text": [
      "\r78%"
     ]
    },
    {
     "name": "stdout",
     "output_type": "stream",
     "text": [
      "\r79%"
     ]
    },
    {
     "name": "stdout",
     "output_type": "stream",
     "text": [
      "\r80%"
     ]
    },
    {
     "name": "stdout",
     "output_type": "stream",
     "text": [
      "\r81%"
     ]
    },
    {
     "name": "stdout",
     "output_type": "stream",
     "text": [
      "\r81%"
     ]
    },
    {
     "name": "stdout",
     "output_type": "stream",
     "text": [
      "\r82%"
     ]
    },
    {
     "name": "stdout",
     "output_type": "stream",
     "text": [
      "\r83%"
     ]
    },
    {
     "name": "stdout",
     "output_type": "stream",
     "text": [
      "\r84%"
     ]
    },
    {
     "name": "stdout",
     "output_type": "stream",
     "text": [
      "\r84%"
     ]
    },
    {
     "name": "stdout",
     "output_type": "stream",
     "text": [
      "\r85%"
     ]
    },
    {
     "name": "stdout",
     "output_type": "stream",
     "text": [
      "\r86%"
     ]
    },
    {
     "name": "stdout",
     "output_type": "stream",
     "text": [
      "\r87%"
     ]
    },
    {
     "name": "stdout",
     "output_type": "stream",
     "text": [
      "\r87%"
     ]
    },
    {
     "name": "stdout",
     "output_type": "stream",
     "text": [
      "\r88%"
     ]
    },
    {
     "name": "stdout",
     "output_type": "stream",
     "text": [
      "\r89%"
     ]
    },
    {
     "name": "stdout",
     "output_type": "stream",
     "text": [
      "\r90%"
     ]
    },
    {
     "name": "stdout",
     "output_type": "stream",
     "text": [
      "\r90%"
     ]
    },
    {
     "name": "stdout",
     "output_type": "stream",
     "text": [
      "\r91%"
     ]
    },
    {
     "name": "stdout",
     "output_type": "stream",
     "text": [
      "\r92%"
     ]
    },
    {
     "name": "stdout",
     "output_type": "stream",
     "text": [
      "\r93%"
     ]
    },
    {
     "name": "stdout",
     "output_type": "stream",
     "text": [
      "\r93%"
     ]
    },
    {
     "name": "stdout",
     "output_type": "stream",
     "text": [
      "\r94%"
     ]
    },
    {
     "name": "stdout",
     "output_type": "stream",
     "text": [
      "\r95%"
     ]
    },
    {
     "name": "stdout",
     "output_type": "stream",
     "text": [
      "\r96%"
     ]
    },
    {
     "name": "stdout",
     "output_type": "stream",
     "text": [
      "\r96%"
     ]
    },
    {
     "name": "stdout",
     "output_type": "stream",
     "text": [
      "\r97%"
     ]
    },
    {
     "name": "stdout",
     "output_type": "stream",
     "text": [
      "\r98%"
     ]
    },
    {
     "name": "stdout",
     "output_type": "stream",
     "text": [
      "\r99%"
     ]
    },
    {
     "name": "stdout",
     "output_type": "stream",
     "text": [
      "\r3 검증 세트 정확도: 0.97333336 "
     ]
    },
    {
     "name": "stdout",
     "output_type": "stream",
     "text": [
      "테스트 정확도: 0.9404\n"
     ]
    }
   ],
   "source": [
    "# 사전훈련이 없는 평범한 훈련\n",
    "import numpy.random as rnd\n",
    "\n",
    "n_epochs = 4\n",
    "batch_size = 150\n",
    "n_labeled_instances = 20000\n",
    "\n",
    "with tf.Session() as sess:\n",
    "    init.run()\n",
    "    \n",
    "    for epoch in range(n_epochs):\n",
    "        n_batches = n_labeled_instances // batch_size\n",
    "        \n",
    "        for iteration in range(n_batches):\n",
    "            print(\"\\r{}%\".format(100 * iteration // n_batches), end=\"\")\n",
    "            sys.stdout.flush()\n",
    "            indices = rnd.permutation(n_labeled_instances)[:batch_size]\n",
    "            X_batch, y_batch = X_train[indices], y_train[indices]\n",
    "            sess.run(training_op, feed_dict={X: X_batch, y: y_batch})\n",
    "            \n",
    "        accuracy_val = accuracy.eval(feed_dict={X: X_batch, y: y_batch})\n",
    "        print(\"\\r{}\".format(epoch), \"검증 세트 정확도:\", accuracy_val, end=\" \")\n",
    "        utils.save_tf(sess, \"note/supervied_normal/model\")\n",
    "        test_val = accuracy.eval(feed_dict={X: X_test, y: y_test})\n",
    "        print(\"테스트 정확도:\", test_val)"
   ]
  },
  {
   "cell_type": "code",
   "execution_count": 9,
   "metadata": {
    "collapsed": false
   },
   "outputs": [
    {
     "name": "stdout",
     "output_type": "stream",
     "text": [
      "INFO:tensorflow:Restoring parameters from /Users/eugene/Projects/DAEGUML/EGJ/Autoencoder/outputs/tf_sess/note/stack_weights_each/model_cached_frozen.ckpt\n"
     ]
    },
    {
     "name": "stdout",
     "output_type": "stream",
     "text": [
      "\r0%"
     ]
    },
    {
     "name": "stdout",
     "output_type": "stream",
     "text": [
      "\r0%"
     ]
    },
    {
     "name": "stdout",
     "output_type": "stream",
     "text": [
      "\r1%"
     ]
    },
    {
     "name": "stdout",
     "output_type": "stream",
     "text": [
      "\r2%"
     ]
    },
    {
     "name": "stdout",
     "output_type": "stream",
     "text": [
      "\r3%"
     ]
    },
    {
     "name": "stdout",
     "output_type": "stream",
     "text": [
      "\r3%"
     ]
    },
    {
     "name": "stdout",
     "output_type": "stream",
     "text": [
      "\r4%"
     ]
    },
    {
     "name": "stdout",
     "output_type": "stream",
     "text": [
      "\r5%"
     ]
    },
    {
     "name": "stdout",
     "output_type": "stream",
     "text": [
      "\r6%"
     ]
    },
    {
     "name": "stdout",
     "output_type": "stream",
     "text": [
      "\r6%"
     ]
    },
    {
     "name": "stdout",
     "output_type": "stream",
     "text": [
      "\r7%"
     ]
    },
    {
     "name": "stdout",
     "output_type": "stream",
     "text": [
      "\r8%"
     ]
    },
    {
     "name": "stdout",
     "output_type": "stream",
     "text": [
      "\r9%"
     ]
    },
    {
     "name": "stdout",
     "output_type": "stream",
     "text": [
      "\r9%"
     ]
    },
    {
     "name": "stdout",
     "output_type": "stream",
     "text": [
      "\r10%"
     ]
    },
    {
     "name": "stdout",
     "output_type": "stream",
     "text": [
      "\r11%"
     ]
    },
    {
     "name": "stdout",
     "output_type": "stream",
     "text": [
      "\r12%"
     ]
    },
    {
     "name": "stdout",
     "output_type": "stream",
     "text": [
      "\r12%"
     ]
    },
    {
     "name": "stdout",
     "output_type": "stream",
     "text": [
      "\r13%"
     ]
    },
    {
     "name": "stdout",
     "output_type": "stream",
     "text": [
      "\r14%"
     ]
    },
    {
     "name": "stdout",
     "output_type": "stream",
     "text": [
      "\r15%"
     ]
    },
    {
     "name": "stdout",
     "output_type": "stream",
     "text": [
      "\r15%"
     ]
    },
    {
     "name": "stdout",
     "output_type": "stream",
     "text": [
      "\r16%"
     ]
    },
    {
     "name": "stdout",
     "output_type": "stream",
     "text": [
      "\r17%"
     ]
    },
    {
     "name": "stdout",
     "output_type": "stream",
     "text": [
      "\r18%"
     ]
    },
    {
     "name": "stdout",
     "output_type": "stream",
     "text": [
      "\r18%"
     ]
    },
    {
     "name": "stdout",
     "output_type": "stream",
     "text": [
      "\r19%"
     ]
    },
    {
     "name": "stdout",
     "output_type": "stream",
     "text": [
      "\r20%"
     ]
    },
    {
     "name": "stdout",
     "output_type": "stream",
     "text": [
      "\r21%"
     ]
    },
    {
     "name": "stdout",
     "output_type": "stream",
     "text": [
      "\r21%"
     ]
    },
    {
     "name": "stdout",
     "output_type": "stream",
     "text": [
      "\r22%"
     ]
    },
    {
     "name": "stdout",
     "output_type": "stream",
     "text": [
      "\r23%"
     ]
    },
    {
     "name": "stdout",
     "output_type": "stream",
     "text": [
      "\r24%"
     ]
    },
    {
     "name": "stdout",
     "output_type": "stream",
     "text": [
      "\r24%"
     ]
    },
    {
     "name": "stdout",
     "output_type": "stream",
     "text": [
      "\r25%"
     ]
    },
    {
     "name": "stdout",
     "output_type": "stream",
     "text": [
      "\r26%"
     ]
    },
    {
     "name": "stdout",
     "output_type": "stream",
     "text": [
      "\r27%"
     ]
    },
    {
     "name": "stdout",
     "output_type": "stream",
     "text": [
      "\r27%"
     ]
    },
    {
     "name": "stdout",
     "output_type": "stream",
     "text": [
      "\r28%"
     ]
    },
    {
     "name": "stdout",
     "output_type": "stream",
     "text": [
      "\r29%"
     ]
    },
    {
     "name": "stdout",
     "output_type": "stream",
     "text": [
      "\r30%"
     ]
    },
    {
     "name": "stdout",
     "output_type": "stream",
     "text": [
      "\r30%"
     ]
    },
    {
     "name": "stdout",
     "output_type": "stream",
     "text": [
      "\r31%"
     ]
    },
    {
     "name": "stdout",
     "output_type": "stream",
     "text": [
      "\r32%"
     ]
    },
    {
     "name": "stdout",
     "output_type": "stream",
     "text": [
      "\r33%"
     ]
    },
    {
     "name": "stdout",
     "output_type": "stream",
     "text": [
      "\r33%"
     ]
    },
    {
     "name": "stdout",
     "output_type": "stream",
     "text": [
      "\r34%"
     ]
    },
    {
     "name": "stdout",
     "output_type": "stream",
     "text": [
      "\r35%"
     ]
    },
    {
     "name": "stdout",
     "output_type": "stream",
     "text": [
      "\r36%"
     ]
    },
    {
     "name": "stdout",
     "output_type": "stream",
     "text": [
      "\r36%"
     ]
    },
    {
     "name": "stdout",
     "output_type": "stream",
     "text": [
      "\r37%"
     ]
    },
    {
     "name": "stdout",
     "output_type": "stream",
     "text": [
      "\r38%"
     ]
    },
    {
     "name": "stdout",
     "output_type": "stream",
     "text": [
      "\r39%"
     ]
    },
    {
     "name": "stdout",
     "output_type": "stream",
     "text": [
      "\r39%"
     ]
    },
    {
     "name": "stdout",
     "output_type": "stream",
     "text": [
      "\r40%"
     ]
    },
    {
     "name": "stdout",
     "output_type": "stream",
     "text": [
      "\r41%"
     ]
    },
    {
     "name": "stdout",
     "output_type": "stream",
     "text": [
      "\r42%"
     ]
    },
    {
     "name": "stdout",
     "output_type": "stream",
     "text": [
      "\r42%"
     ]
    },
    {
     "name": "stdout",
     "output_type": "stream",
     "text": [
      "\r43%"
     ]
    },
    {
     "name": "stdout",
     "output_type": "stream",
     "text": [
      "\r44%"
     ]
    },
    {
     "name": "stdout",
     "output_type": "stream",
     "text": [
      "\r45%"
     ]
    },
    {
     "name": "stdout",
     "output_type": "stream",
     "text": [
      "\r45%"
     ]
    },
    {
     "name": "stdout",
     "output_type": "stream",
     "text": [
      "\r46%"
     ]
    },
    {
     "name": "stdout",
     "output_type": "stream",
     "text": [
      "\r47%"
     ]
    },
    {
     "name": "stdout",
     "output_type": "stream",
     "text": [
      "\r48%"
     ]
    },
    {
     "name": "stdout",
     "output_type": "stream",
     "text": [
      "\r48%"
     ]
    },
    {
     "name": "stdout",
     "output_type": "stream",
     "text": [
      "\r49%"
     ]
    },
    {
     "name": "stdout",
     "output_type": "stream",
     "text": [
      "\r50%"
     ]
    },
    {
     "name": "stdout",
     "output_type": "stream",
     "text": [
      "\r51%"
     ]
    },
    {
     "name": "stdout",
     "output_type": "stream",
     "text": [
      "\r51%"
     ]
    },
    {
     "name": "stdout",
     "output_type": "stream",
     "text": [
      "\r52%"
     ]
    },
    {
     "name": "stdout",
     "output_type": "stream",
     "text": [
      "\r53%"
     ]
    },
    {
     "name": "stdout",
     "output_type": "stream",
     "text": [
      "\r54%"
     ]
    },
    {
     "name": "stdout",
     "output_type": "stream",
     "text": [
      "\r54%"
     ]
    },
    {
     "name": "stdout",
     "output_type": "stream",
     "text": [
      "\r55%"
     ]
    },
    {
     "name": "stdout",
     "output_type": "stream",
     "text": [
      "\r56%"
     ]
    },
    {
     "name": "stdout",
     "output_type": "stream",
     "text": [
      "\r57%"
     ]
    },
    {
     "name": "stdout",
     "output_type": "stream",
     "text": [
      "\r57%"
     ]
    },
    {
     "name": "stdout",
     "output_type": "stream",
     "text": [
      "\r58%"
     ]
    },
    {
     "name": "stdout",
     "output_type": "stream",
     "text": [
      "\r59%"
     ]
    },
    {
     "name": "stdout",
     "output_type": "stream",
     "text": [
      "\r60%"
     ]
    },
    {
     "name": "stdout",
     "output_type": "stream",
     "text": [
      "\r60%"
     ]
    },
    {
     "name": "stdout",
     "output_type": "stream",
     "text": [
      "\r61%"
     ]
    },
    {
     "name": "stdout",
     "output_type": "stream",
     "text": [
      "\r62%"
     ]
    },
    {
     "name": "stdout",
     "output_type": "stream",
     "text": [
      "\r63%"
     ]
    },
    {
     "name": "stdout",
     "output_type": "stream",
     "text": [
      "\r63%"
     ]
    },
    {
     "name": "stdout",
     "output_type": "stream",
     "text": [
      "\r64%"
     ]
    },
    {
     "name": "stdout",
     "output_type": "stream",
     "text": [
      "\r65%"
     ]
    },
    {
     "name": "stdout",
     "output_type": "stream",
     "text": [
      "\r66%"
     ]
    },
    {
     "name": "stdout",
     "output_type": "stream",
     "text": [
      "\r66%"
     ]
    },
    {
     "name": "stdout",
     "output_type": "stream",
     "text": [
      "\r67%"
     ]
    },
    {
     "name": "stdout",
     "output_type": "stream",
     "text": [
      "\r68%"
     ]
    },
    {
     "name": "stdout",
     "output_type": "stream",
     "text": [
      "\r69%"
     ]
    },
    {
     "name": "stdout",
     "output_type": "stream",
     "text": [
      "\r69%"
     ]
    },
    {
     "name": "stdout",
     "output_type": "stream",
     "text": [
      "\r70%"
     ]
    },
    {
     "name": "stdout",
     "output_type": "stream",
     "text": [
      "\r71%"
     ]
    },
    {
     "name": "stdout",
     "output_type": "stream",
     "text": [
      "\r72%"
     ]
    },
    {
     "name": "stdout",
     "output_type": "stream",
     "text": [
      "\r72%"
     ]
    },
    {
     "name": "stdout",
     "output_type": "stream",
     "text": [
      "\r73%"
     ]
    },
    {
     "name": "stdout",
     "output_type": "stream",
     "text": [
      "\r74%"
     ]
    },
    {
     "name": "stdout",
     "output_type": "stream",
     "text": [
      "\r75%"
     ]
    },
    {
     "name": "stdout",
     "output_type": "stream",
     "text": [
      "\r75%"
     ]
    },
    {
     "name": "stdout",
     "output_type": "stream",
     "text": [
      "\r76%"
     ]
    },
    {
     "name": "stdout",
     "output_type": "stream",
     "text": [
      "\r77%"
     ]
    },
    {
     "name": "stdout",
     "output_type": "stream",
     "text": [
      "\r78%"
     ]
    },
    {
     "name": "stdout",
     "output_type": "stream",
     "text": [
      "\r78%"
     ]
    },
    {
     "name": "stdout",
     "output_type": "stream",
     "text": [
      "\r79%"
     ]
    },
    {
     "name": "stdout",
     "output_type": "stream",
     "text": [
      "\r80%"
     ]
    },
    {
     "name": "stdout",
     "output_type": "stream",
     "text": [
      "\r81%"
     ]
    },
    {
     "name": "stdout",
     "output_type": "stream",
     "text": [
      "\r81%"
     ]
    },
    {
     "name": "stdout",
     "output_type": "stream",
     "text": [
      "\r82%"
     ]
    },
    {
     "name": "stdout",
     "output_type": "stream",
     "text": [
      "\r83%"
     ]
    },
    {
     "name": "stdout",
     "output_type": "stream",
     "text": [
      "\r84%"
     ]
    },
    {
     "name": "stdout",
     "output_type": "stream",
     "text": [
      "\r84%"
     ]
    },
    {
     "name": "stdout",
     "output_type": "stream",
     "text": [
      "\r85%"
     ]
    },
    {
     "name": "stdout",
     "output_type": "stream",
     "text": [
      "\r86%"
     ]
    },
    {
     "name": "stdout",
     "output_type": "stream",
     "text": [
      "\r87%"
     ]
    },
    {
     "name": "stdout",
     "output_type": "stream",
     "text": [
      "\r87%"
     ]
    },
    {
     "name": "stdout",
     "output_type": "stream",
     "text": [
      "\r88%"
     ]
    },
    {
     "name": "stdout",
     "output_type": "stream",
     "text": [
      "\r89%"
     ]
    },
    {
     "name": "stdout",
     "output_type": "stream",
     "text": [
      "\r90%"
     ]
    },
    {
     "name": "stdout",
     "output_type": "stream",
     "text": [
      "\r90%"
     ]
    },
    {
     "name": "stdout",
     "output_type": "stream",
     "text": [
      "\r91%"
     ]
    },
    {
     "name": "stdout",
     "output_type": "stream",
     "text": [
      "\r92%"
     ]
    },
    {
     "name": "stdout",
     "output_type": "stream",
     "text": [
      "\r93%"
     ]
    },
    {
     "name": "stdout",
     "output_type": "stream",
     "text": [
      "\r93%"
     ]
    },
    {
     "name": "stdout",
     "output_type": "stream",
     "text": [
      "\r94%"
     ]
    },
    {
     "name": "stdout",
     "output_type": "stream",
     "text": [
      "\r95%"
     ]
    },
    {
     "name": "stdout",
     "output_type": "stream",
     "text": [
      "\r96%"
     ]
    },
    {
     "name": "stdout",
     "output_type": "stream",
     "text": [
      "\r96%"
     ]
    },
    {
     "name": "stdout",
     "output_type": "stream",
     "text": [
      "\r97%"
     ]
    },
    {
     "name": "stdout",
     "output_type": "stream",
     "text": [
      "\r98%"
     ]
    },
    {
     "name": "stdout",
     "output_type": "stream",
     "text": [
      "\r99%"
     ]
    },
    {
     "name": "stdout",
     "output_type": "stream",
     "text": [
      "\r0 훈련 정확도: 0.94666666\t"
     ]
    },
    {
     "name": "stdout",
     "output_type": "stream",
     "text": [
      "테스트 정확도: 0.9218\n\r0%"
     ]
    },
    {
     "name": "stdout",
     "output_type": "stream",
     "text": [
      "\r0%"
     ]
    },
    {
     "name": "stdout",
     "output_type": "stream",
     "text": [
      "\r1%"
     ]
    },
    {
     "name": "stdout",
     "output_type": "stream",
     "text": [
      "\r2%"
     ]
    },
    {
     "name": "stdout",
     "output_type": "stream",
     "text": [
      "\r3%"
     ]
    },
    {
     "name": "stdout",
     "output_type": "stream",
     "text": [
      "\r3%"
     ]
    },
    {
     "name": "stdout",
     "output_type": "stream",
     "text": [
      "\r4%"
     ]
    },
    {
     "name": "stdout",
     "output_type": "stream",
     "text": [
      "\r5%"
     ]
    },
    {
     "name": "stdout",
     "output_type": "stream",
     "text": [
      "\r6%"
     ]
    },
    {
     "name": "stdout",
     "output_type": "stream",
     "text": [
      "\r6%"
     ]
    },
    {
     "name": "stdout",
     "output_type": "stream",
     "text": [
      "\r7%"
     ]
    },
    {
     "name": "stdout",
     "output_type": "stream",
     "text": [
      "\r8%"
     ]
    },
    {
     "name": "stdout",
     "output_type": "stream",
     "text": [
      "\r9%"
     ]
    },
    {
     "name": "stdout",
     "output_type": "stream",
     "text": [
      "\r9%"
     ]
    },
    {
     "name": "stdout",
     "output_type": "stream",
     "text": [
      "\r10%"
     ]
    },
    {
     "name": "stdout",
     "output_type": "stream",
     "text": [
      "\r11%"
     ]
    },
    {
     "name": "stdout",
     "output_type": "stream",
     "text": [
      "\r12%"
     ]
    },
    {
     "name": "stdout",
     "output_type": "stream",
     "text": [
      "\r12%"
     ]
    },
    {
     "name": "stdout",
     "output_type": "stream",
     "text": [
      "\r13%"
     ]
    },
    {
     "name": "stdout",
     "output_type": "stream",
     "text": [
      "\r14%"
     ]
    },
    {
     "name": "stdout",
     "output_type": "stream",
     "text": [
      "\r15%"
     ]
    },
    {
     "name": "stdout",
     "output_type": "stream",
     "text": [
      "\r15%"
     ]
    },
    {
     "name": "stdout",
     "output_type": "stream",
     "text": [
      "\r16%"
     ]
    },
    {
     "name": "stdout",
     "output_type": "stream",
     "text": [
      "\r17%"
     ]
    },
    {
     "name": "stdout",
     "output_type": "stream",
     "text": [
      "\r18%"
     ]
    },
    {
     "name": "stdout",
     "output_type": "stream",
     "text": [
      "\r18%"
     ]
    },
    {
     "name": "stdout",
     "output_type": "stream",
     "text": [
      "\r19%"
     ]
    },
    {
     "name": "stdout",
     "output_type": "stream",
     "text": [
      "\r20%"
     ]
    },
    {
     "name": "stdout",
     "output_type": "stream",
     "text": [
      "\r21%"
     ]
    },
    {
     "name": "stdout",
     "output_type": "stream",
     "text": [
      "\r21%"
     ]
    },
    {
     "name": "stdout",
     "output_type": "stream",
     "text": [
      "\r22%"
     ]
    },
    {
     "name": "stdout",
     "output_type": "stream",
     "text": [
      "\r23%"
     ]
    },
    {
     "name": "stdout",
     "output_type": "stream",
     "text": [
      "\r24%"
     ]
    },
    {
     "name": "stdout",
     "output_type": "stream",
     "text": [
      "\r24%"
     ]
    },
    {
     "name": "stdout",
     "output_type": "stream",
     "text": [
      "\r25%"
     ]
    },
    {
     "name": "stdout",
     "output_type": "stream",
     "text": [
      "\r26%"
     ]
    },
    {
     "name": "stdout",
     "output_type": "stream",
     "text": [
      "\r27%"
     ]
    },
    {
     "name": "stdout",
     "output_type": "stream",
     "text": [
      "\r27%"
     ]
    },
    {
     "name": "stdout",
     "output_type": "stream",
     "text": [
      "\r28%"
     ]
    },
    {
     "name": "stdout",
     "output_type": "stream",
     "text": [
      "\r29%"
     ]
    },
    {
     "name": "stdout",
     "output_type": "stream",
     "text": [
      "\r30%"
     ]
    },
    {
     "name": "stdout",
     "output_type": "stream",
     "text": [
      "\r30%"
     ]
    },
    {
     "name": "stdout",
     "output_type": "stream",
     "text": [
      "\r31%"
     ]
    },
    {
     "name": "stdout",
     "output_type": "stream",
     "text": [
      "\r32%"
     ]
    },
    {
     "name": "stdout",
     "output_type": "stream",
     "text": [
      "\r33%"
     ]
    },
    {
     "name": "stdout",
     "output_type": "stream",
     "text": [
      "\r33%"
     ]
    },
    {
     "name": "stdout",
     "output_type": "stream",
     "text": [
      "\r34%"
     ]
    },
    {
     "name": "stdout",
     "output_type": "stream",
     "text": [
      "\r35%"
     ]
    },
    {
     "name": "stdout",
     "output_type": "stream",
     "text": [
      "\r36%"
     ]
    },
    {
     "name": "stdout",
     "output_type": "stream",
     "text": [
      "\r36%"
     ]
    },
    {
     "name": "stdout",
     "output_type": "stream",
     "text": [
      "\r37%"
     ]
    },
    {
     "name": "stdout",
     "output_type": "stream",
     "text": [
      "\r38%"
     ]
    },
    {
     "name": "stdout",
     "output_type": "stream",
     "text": [
      "\r39%"
     ]
    },
    {
     "name": "stdout",
     "output_type": "stream",
     "text": [
      "\r39%"
     ]
    },
    {
     "name": "stdout",
     "output_type": "stream",
     "text": [
      "\r40%"
     ]
    },
    {
     "name": "stdout",
     "output_type": "stream",
     "text": [
      "\r41%"
     ]
    },
    {
     "name": "stdout",
     "output_type": "stream",
     "text": [
      "\r42%"
     ]
    },
    {
     "name": "stdout",
     "output_type": "stream",
     "text": [
      "\r42%"
     ]
    },
    {
     "name": "stdout",
     "output_type": "stream",
     "text": [
      "\r43%"
     ]
    },
    {
     "name": "stdout",
     "output_type": "stream",
     "text": [
      "\r44%"
     ]
    },
    {
     "name": "stdout",
     "output_type": "stream",
     "text": [
      "\r45%"
     ]
    },
    {
     "name": "stdout",
     "output_type": "stream",
     "text": [
      "\r45%"
     ]
    },
    {
     "name": "stdout",
     "output_type": "stream",
     "text": [
      "\r46%"
     ]
    },
    {
     "name": "stdout",
     "output_type": "stream",
     "text": [
      "\r47%"
     ]
    },
    {
     "name": "stdout",
     "output_type": "stream",
     "text": [
      "\r48%"
     ]
    },
    {
     "name": "stdout",
     "output_type": "stream",
     "text": [
      "\r48%"
     ]
    },
    {
     "name": "stdout",
     "output_type": "stream",
     "text": [
      "\r49%"
     ]
    },
    {
     "name": "stdout",
     "output_type": "stream",
     "text": [
      "\r50%"
     ]
    },
    {
     "name": "stdout",
     "output_type": "stream",
     "text": [
      "\r51%"
     ]
    },
    {
     "name": "stdout",
     "output_type": "stream",
     "text": [
      "\r51%"
     ]
    },
    {
     "name": "stdout",
     "output_type": "stream",
     "text": [
      "\r52%"
     ]
    },
    {
     "name": "stdout",
     "output_type": "stream",
     "text": [
      "\r53%"
     ]
    },
    {
     "name": "stdout",
     "output_type": "stream",
     "text": [
      "\r54%"
     ]
    },
    {
     "name": "stdout",
     "output_type": "stream",
     "text": [
      "\r54%"
     ]
    },
    {
     "name": "stdout",
     "output_type": "stream",
     "text": [
      "\r55%"
     ]
    },
    {
     "name": "stdout",
     "output_type": "stream",
     "text": [
      "\r56%"
     ]
    },
    {
     "name": "stdout",
     "output_type": "stream",
     "text": [
      "\r57%"
     ]
    },
    {
     "name": "stdout",
     "output_type": "stream",
     "text": [
      "\r57%"
     ]
    },
    {
     "name": "stdout",
     "output_type": "stream",
     "text": [
      "\r58%"
     ]
    },
    {
     "name": "stdout",
     "output_type": "stream",
     "text": [
      "\r59%"
     ]
    },
    {
     "name": "stdout",
     "output_type": "stream",
     "text": [
      "\r60%"
     ]
    },
    {
     "name": "stdout",
     "output_type": "stream",
     "text": [
      "\r60%"
     ]
    },
    {
     "name": "stdout",
     "output_type": "stream",
     "text": [
      "\r61%"
     ]
    },
    {
     "name": "stdout",
     "output_type": "stream",
     "text": [
      "\r62%"
     ]
    },
    {
     "name": "stdout",
     "output_type": "stream",
     "text": [
      "\r63%"
     ]
    },
    {
     "name": "stdout",
     "output_type": "stream",
     "text": [
      "\r63%"
     ]
    },
    {
     "name": "stdout",
     "output_type": "stream",
     "text": [
      "\r64%"
     ]
    },
    {
     "name": "stdout",
     "output_type": "stream",
     "text": [
      "\r65%"
     ]
    },
    {
     "name": "stdout",
     "output_type": "stream",
     "text": [
      "\r66%"
     ]
    },
    {
     "name": "stdout",
     "output_type": "stream",
     "text": [
      "\r66%"
     ]
    },
    {
     "name": "stdout",
     "output_type": "stream",
     "text": [
      "\r67%"
     ]
    },
    {
     "name": "stdout",
     "output_type": "stream",
     "text": [
      "\r68%"
     ]
    },
    {
     "name": "stdout",
     "output_type": "stream",
     "text": [
      "\r69%"
     ]
    },
    {
     "name": "stdout",
     "output_type": "stream",
     "text": [
      "\r69%"
     ]
    },
    {
     "name": "stdout",
     "output_type": "stream",
     "text": [
      "\r70%"
     ]
    },
    {
     "name": "stdout",
     "output_type": "stream",
     "text": [
      "\r71%"
     ]
    },
    {
     "name": "stdout",
     "output_type": "stream",
     "text": [
      "\r72%"
     ]
    },
    {
     "name": "stdout",
     "output_type": "stream",
     "text": [
      "\r72%"
     ]
    },
    {
     "name": "stdout",
     "output_type": "stream",
     "text": [
      "\r73%"
     ]
    },
    {
     "name": "stdout",
     "output_type": "stream",
     "text": [
      "\r74%"
     ]
    },
    {
     "name": "stdout",
     "output_type": "stream",
     "text": [
      "\r75%"
     ]
    },
    {
     "name": "stdout",
     "output_type": "stream",
     "text": [
      "\r75%"
     ]
    },
    {
     "name": "stdout",
     "output_type": "stream",
     "text": [
      "\r76%"
     ]
    },
    {
     "name": "stdout",
     "output_type": "stream",
     "text": [
      "\r77%"
     ]
    },
    {
     "name": "stdout",
     "output_type": "stream",
     "text": [
      "\r78%"
     ]
    },
    {
     "name": "stdout",
     "output_type": "stream",
     "text": [
      "\r78%"
     ]
    },
    {
     "name": "stdout",
     "output_type": "stream",
     "text": [
      "\r79%"
     ]
    },
    {
     "name": "stdout",
     "output_type": "stream",
     "text": [
      "\r80%"
     ]
    },
    {
     "name": "stdout",
     "output_type": "stream",
     "text": [
      "\r81%"
     ]
    },
    {
     "name": "stdout",
     "output_type": "stream",
     "text": [
      "\r81%"
     ]
    },
    {
     "name": "stdout",
     "output_type": "stream",
     "text": [
      "\r82%"
     ]
    },
    {
     "name": "stdout",
     "output_type": "stream",
     "text": [
      "\r83%"
     ]
    },
    {
     "name": "stdout",
     "output_type": "stream",
     "text": [
      "\r84%"
     ]
    },
    {
     "name": "stdout",
     "output_type": "stream",
     "text": [
      "\r84%"
     ]
    },
    {
     "name": "stdout",
     "output_type": "stream",
     "text": [
      "\r85%"
     ]
    },
    {
     "name": "stdout",
     "output_type": "stream",
     "text": [
      "\r86%"
     ]
    },
    {
     "name": "stdout",
     "output_type": "stream",
     "text": [
      "\r87%"
     ]
    },
    {
     "name": "stdout",
     "output_type": "stream",
     "text": [
      "\r87%"
     ]
    },
    {
     "name": "stdout",
     "output_type": "stream",
     "text": [
      "\r88%"
     ]
    },
    {
     "name": "stdout",
     "output_type": "stream",
     "text": [
      "\r89%"
     ]
    },
    {
     "name": "stdout",
     "output_type": "stream",
     "text": [
      "\r90%"
     ]
    },
    {
     "name": "stdout",
     "output_type": "stream",
     "text": [
      "\r90%"
     ]
    },
    {
     "name": "stdout",
     "output_type": "stream",
     "text": [
      "\r91%"
     ]
    },
    {
     "name": "stdout",
     "output_type": "stream",
     "text": [
      "\r92%"
     ]
    },
    {
     "name": "stdout",
     "output_type": "stream",
     "text": [
      "\r93%"
     ]
    },
    {
     "name": "stdout",
     "output_type": "stream",
     "text": [
      "\r93%"
     ]
    },
    {
     "name": "stdout",
     "output_type": "stream",
     "text": [
      "\r94%"
     ]
    },
    {
     "name": "stdout",
     "output_type": "stream",
     "text": [
      "\r95%"
     ]
    },
    {
     "name": "stdout",
     "output_type": "stream",
     "text": [
      "\r96%"
     ]
    },
    {
     "name": "stdout",
     "output_type": "stream",
     "text": [
      "\r96%"
     ]
    },
    {
     "name": "stdout",
     "output_type": "stream",
     "text": [
      "\r97%"
     ]
    },
    {
     "name": "stdout",
     "output_type": "stream",
     "text": [
      "\r98%"
     ]
    },
    {
     "name": "stdout",
     "output_type": "stream",
     "text": [
      "\r99%"
     ]
    },
    {
     "name": "stdout",
     "output_type": "stream",
     "text": [
      "\r1 훈련 정확도: 0.96\t"
     ]
    },
    {
     "name": "stdout",
     "output_type": "stream",
     "text": [
      "테스트 정확도: 0.9388\n\r0%"
     ]
    },
    {
     "name": "stdout",
     "output_type": "stream",
     "text": [
      "\r0%"
     ]
    },
    {
     "name": "stdout",
     "output_type": "stream",
     "text": [
      "\r1%"
     ]
    },
    {
     "name": "stdout",
     "output_type": "stream",
     "text": [
      "\r2%"
     ]
    },
    {
     "name": "stdout",
     "output_type": "stream",
     "text": [
      "\r3%"
     ]
    },
    {
     "name": "stdout",
     "output_type": "stream",
     "text": [
      "\r3%"
     ]
    },
    {
     "name": "stdout",
     "output_type": "stream",
     "text": [
      "\r4%"
     ]
    },
    {
     "name": "stdout",
     "output_type": "stream",
     "text": [
      "\r5%"
     ]
    },
    {
     "name": "stdout",
     "output_type": "stream",
     "text": [
      "\r6%"
     ]
    },
    {
     "name": "stdout",
     "output_type": "stream",
     "text": [
      "\r6%"
     ]
    },
    {
     "name": "stdout",
     "output_type": "stream",
     "text": [
      "\r7%"
     ]
    },
    {
     "name": "stdout",
     "output_type": "stream",
     "text": [
      "\r8%"
     ]
    },
    {
     "name": "stdout",
     "output_type": "stream",
     "text": [
      "\r9%"
     ]
    },
    {
     "name": "stdout",
     "output_type": "stream",
     "text": [
      "\r9%"
     ]
    },
    {
     "name": "stdout",
     "output_type": "stream",
     "text": [
      "\r10%"
     ]
    },
    {
     "name": "stdout",
     "output_type": "stream",
     "text": [
      "\r11%"
     ]
    },
    {
     "name": "stdout",
     "output_type": "stream",
     "text": [
      "\r12%"
     ]
    },
    {
     "name": "stdout",
     "output_type": "stream",
     "text": [
      "\r12%"
     ]
    },
    {
     "name": "stdout",
     "output_type": "stream",
     "text": [
      "\r13%"
     ]
    },
    {
     "name": "stdout",
     "output_type": "stream",
     "text": [
      "\r14%"
     ]
    },
    {
     "name": "stdout",
     "output_type": "stream",
     "text": [
      "\r15%"
     ]
    },
    {
     "name": "stdout",
     "output_type": "stream",
     "text": [
      "\r15%"
     ]
    },
    {
     "name": "stdout",
     "output_type": "stream",
     "text": [
      "\r16%"
     ]
    },
    {
     "name": "stdout",
     "output_type": "stream",
     "text": [
      "\r17%"
     ]
    },
    {
     "name": "stdout",
     "output_type": "stream",
     "text": [
      "\r18%"
     ]
    },
    {
     "name": "stdout",
     "output_type": "stream",
     "text": [
      "\r18%"
     ]
    },
    {
     "name": "stdout",
     "output_type": "stream",
     "text": [
      "\r19%"
     ]
    },
    {
     "name": "stdout",
     "output_type": "stream",
     "text": [
      "\r20%"
     ]
    },
    {
     "name": "stdout",
     "output_type": "stream",
     "text": [
      "\r21%"
     ]
    },
    {
     "name": "stdout",
     "output_type": "stream",
     "text": [
      "\r21%"
     ]
    },
    {
     "name": "stdout",
     "output_type": "stream",
     "text": [
      "\r22%"
     ]
    },
    {
     "name": "stdout",
     "output_type": "stream",
     "text": [
      "\r23%"
     ]
    },
    {
     "name": "stdout",
     "output_type": "stream",
     "text": [
      "\r24%"
     ]
    },
    {
     "name": "stdout",
     "output_type": "stream",
     "text": [
      "\r24%"
     ]
    },
    {
     "name": "stdout",
     "output_type": "stream",
     "text": [
      "\r25%"
     ]
    },
    {
     "name": "stdout",
     "output_type": "stream",
     "text": [
      "\r26%"
     ]
    },
    {
     "name": "stdout",
     "output_type": "stream",
     "text": [
      "\r27%"
     ]
    },
    {
     "name": "stdout",
     "output_type": "stream",
     "text": [
      "\r27%"
     ]
    },
    {
     "name": "stdout",
     "output_type": "stream",
     "text": [
      "\r28%"
     ]
    },
    {
     "name": "stdout",
     "output_type": "stream",
     "text": [
      "\r29%"
     ]
    },
    {
     "name": "stdout",
     "output_type": "stream",
     "text": [
      "\r30%"
     ]
    },
    {
     "name": "stdout",
     "output_type": "stream",
     "text": [
      "\r30%"
     ]
    },
    {
     "name": "stdout",
     "output_type": "stream",
     "text": [
      "\r31%"
     ]
    },
    {
     "name": "stdout",
     "output_type": "stream",
     "text": [
      "\r32%"
     ]
    },
    {
     "name": "stdout",
     "output_type": "stream",
     "text": [
      "\r33%"
     ]
    },
    {
     "name": "stdout",
     "output_type": "stream",
     "text": [
      "\r33%"
     ]
    },
    {
     "name": "stdout",
     "output_type": "stream",
     "text": [
      "\r34%"
     ]
    },
    {
     "name": "stdout",
     "output_type": "stream",
     "text": [
      "\r35%"
     ]
    },
    {
     "name": "stdout",
     "output_type": "stream",
     "text": [
      "\r36%"
     ]
    },
    {
     "name": "stdout",
     "output_type": "stream",
     "text": [
      "\r36%"
     ]
    },
    {
     "name": "stdout",
     "output_type": "stream",
     "text": [
      "\r37%"
     ]
    },
    {
     "name": "stdout",
     "output_type": "stream",
     "text": [
      "\r38%"
     ]
    },
    {
     "name": "stdout",
     "output_type": "stream",
     "text": [
      "\r39%"
     ]
    },
    {
     "name": "stdout",
     "output_type": "stream",
     "text": [
      "\r39%"
     ]
    },
    {
     "name": "stdout",
     "output_type": "stream",
     "text": [
      "\r40%"
     ]
    },
    {
     "name": "stdout",
     "output_type": "stream",
     "text": [
      "\r41%"
     ]
    },
    {
     "name": "stdout",
     "output_type": "stream",
     "text": [
      "\r42%"
     ]
    },
    {
     "name": "stdout",
     "output_type": "stream",
     "text": [
      "\r42%"
     ]
    },
    {
     "name": "stdout",
     "output_type": "stream",
     "text": [
      "\r43%"
     ]
    },
    {
     "name": "stdout",
     "output_type": "stream",
     "text": [
      "\r44%"
     ]
    },
    {
     "name": "stdout",
     "output_type": "stream",
     "text": [
      "\r45%"
     ]
    },
    {
     "name": "stdout",
     "output_type": "stream",
     "text": [
      "\r45%"
     ]
    },
    {
     "name": "stdout",
     "output_type": "stream",
     "text": [
      "\r46%"
     ]
    },
    {
     "name": "stdout",
     "output_type": "stream",
     "text": [
      "\r47%"
     ]
    },
    {
     "name": "stdout",
     "output_type": "stream",
     "text": [
      "\r48%"
     ]
    },
    {
     "name": "stdout",
     "output_type": "stream",
     "text": [
      "\r48%"
     ]
    },
    {
     "name": "stdout",
     "output_type": "stream",
     "text": [
      "\r49%"
     ]
    },
    {
     "name": "stdout",
     "output_type": "stream",
     "text": [
      "\r50%"
     ]
    },
    {
     "name": "stdout",
     "output_type": "stream",
     "text": [
      "\r51%"
     ]
    },
    {
     "name": "stdout",
     "output_type": "stream",
     "text": [
      "\r51%"
     ]
    },
    {
     "name": "stdout",
     "output_type": "stream",
     "text": [
      "\r52%"
     ]
    },
    {
     "name": "stdout",
     "output_type": "stream",
     "text": [
      "\r53%"
     ]
    },
    {
     "name": "stdout",
     "output_type": "stream",
     "text": [
      "\r54%"
     ]
    },
    {
     "name": "stdout",
     "output_type": "stream",
     "text": [
      "\r54%"
     ]
    },
    {
     "name": "stdout",
     "output_type": "stream",
     "text": [
      "\r55%"
     ]
    },
    {
     "name": "stdout",
     "output_type": "stream",
     "text": [
      "\r56%"
     ]
    },
    {
     "name": "stdout",
     "output_type": "stream",
     "text": [
      "\r57%"
     ]
    },
    {
     "name": "stdout",
     "output_type": "stream",
     "text": [
      "\r57%"
     ]
    },
    {
     "name": "stdout",
     "output_type": "stream",
     "text": [
      "\r58%"
     ]
    },
    {
     "name": "stdout",
     "output_type": "stream",
     "text": [
      "\r59%"
     ]
    },
    {
     "name": "stdout",
     "output_type": "stream",
     "text": [
      "\r60%"
     ]
    },
    {
     "name": "stdout",
     "output_type": "stream",
     "text": [
      "\r60%"
     ]
    },
    {
     "name": "stdout",
     "output_type": "stream",
     "text": [
      "\r61%"
     ]
    },
    {
     "name": "stdout",
     "output_type": "stream",
     "text": [
      "\r62%"
     ]
    },
    {
     "name": "stdout",
     "output_type": "stream",
     "text": [
      "\r63%"
     ]
    },
    {
     "name": "stdout",
     "output_type": "stream",
     "text": [
      "\r63%"
     ]
    },
    {
     "name": "stdout",
     "output_type": "stream",
     "text": [
      "\r64%"
     ]
    },
    {
     "name": "stdout",
     "output_type": "stream",
     "text": [
      "\r65%"
     ]
    },
    {
     "name": "stdout",
     "output_type": "stream",
     "text": [
      "\r66%"
     ]
    },
    {
     "name": "stdout",
     "output_type": "stream",
     "text": [
      "\r66%"
     ]
    },
    {
     "name": "stdout",
     "output_type": "stream",
     "text": [
      "\r67%"
     ]
    },
    {
     "name": "stdout",
     "output_type": "stream",
     "text": [
      "\r68%"
     ]
    },
    {
     "name": "stdout",
     "output_type": "stream",
     "text": [
      "\r69%"
     ]
    },
    {
     "name": "stdout",
     "output_type": "stream",
     "text": [
      "\r69%"
     ]
    },
    {
     "name": "stdout",
     "output_type": "stream",
     "text": [
      "\r70%"
     ]
    },
    {
     "name": "stdout",
     "output_type": "stream",
     "text": [
      "\r71%"
     ]
    },
    {
     "name": "stdout",
     "output_type": "stream",
     "text": [
      "\r72%"
     ]
    },
    {
     "name": "stdout",
     "output_type": "stream",
     "text": [
      "\r72%"
     ]
    },
    {
     "name": "stdout",
     "output_type": "stream",
     "text": [
      "\r73%"
     ]
    },
    {
     "name": "stdout",
     "output_type": "stream",
     "text": [
      "\r74%"
     ]
    },
    {
     "name": "stdout",
     "output_type": "stream",
     "text": [
      "\r75%"
     ]
    },
    {
     "name": "stdout",
     "output_type": "stream",
     "text": [
      "\r75%"
     ]
    },
    {
     "name": "stdout",
     "output_type": "stream",
     "text": [
      "\r76%"
     ]
    },
    {
     "name": "stdout",
     "output_type": "stream",
     "text": [
      "\r77%"
     ]
    },
    {
     "name": "stdout",
     "output_type": "stream",
     "text": [
      "\r78%"
     ]
    },
    {
     "name": "stdout",
     "output_type": "stream",
     "text": [
      "\r78%"
     ]
    },
    {
     "name": "stdout",
     "output_type": "stream",
     "text": [
      "\r79%"
     ]
    },
    {
     "name": "stdout",
     "output_type": "stream",
     "text": [
      "\r80%"
     ]
    },
    {
     "name": "stdout",
     "output_type": "stream",
     "text": [
      "\r81%"
     ]
    },
    {
     "name": "stdout",
     "output_type": "stream",
     "text": [
      "\r81%"
     ]
    },
    {
     "name": "stdout",
     "output_type": "stream",
     "text": [
      "\r82%"
     ]
    },
    {
     "name": "stdout",
     "output_type": "stream",
     "text": [
      "\r83%"
     ]
    },
    {
     "name": "stdout",
     "output_type": "stream",
     "text": [
      "\r84%"
     ]
    },
    {
     "name": "stdout",
     "output_type": "stream",
     "text": [
      "\r84%"
     ]
    },
    {
     "name": "stdout",
     "output_type": "stream",
     "text": [
      "\r85%"
     ]
    },
    {
     "name": "stdout",
     "output_type": "stream",
     "text": [
      "\r86%"
     ]
    },
    {
     "name": "stdout",
     "output_type": "stream",
     "text": [
      "\r87%"
     ]
    },
    {
     "name": "stdout",
     "output_type": "stream",
     "text": [
      "\r87%"
     ]
    },
    {
     "name": "stdout",
     "output_type": "stream",
     "text": [
      "\r88%"
     ]
    },
    {
     "name": "stdout",
     "output_type": "stream",
     "text": [
      "\r89%"
     ]
    },
    {
     "name": "stdout",
     "output_type": "stream",
     "text": [
      "\r90%"
     ]
    },
    {
     "name": "stdout",
     "output_type": "stream",
     "text": [
      "\r90%"
     ]
    },
    {
     "name": "stdout",
     "output_type": "stream",
     "text": [
      "\r91%"
     ]
    },
    {
     "name": "stdout",
     "output_type": "stream",
     "text": [
      "\r92%"
     ]
    },
    {
     "name": "stdout",
     "output_type": "stream",
     "text": [
      "\r93%"
     ]
    },
    {
     "name": "stdout",
     "output_type": "stream",
     "text": [
      "\r93%"
     ]
    },
    {
     "name": "stdout",
     "output_type": "stream",
     "text": [
      "\r94%"
     ]
    },
    {
     "name": "stdout",
     "output_type": "stream",
     "text": [
      "\r95%"
     ]
    },
    {
     "name": "stdout",
     "output_type": "stream",
     "text": [
      "\r96%"
     ]
    },
    {
     "name": "stdout",
     "output_type": "stream",
     "text": [
      "\r96%"
     ]
    },
    {
     "name": "stdout",
     "output_type": "stream",
     "text": [
      "\r97%"
     ]
    },
    {
     "name": "stdout",
     "output_type": "stream",
     "text": [
      "\r98%"
     ]
    },
    {
     "name": "stdout",
     "output_type": "stream",
     "text": [
      "\r99%"
     ]
    },
    {
     "name": "stdout",
     "output_type": "stream",
     "text": [
      "\r2 훈련 정확도: 0.9533333\t"
     ]
    },
    {
     "name": "stdout",
     "output_type": "stream",
     "text": [
      "테스트 정확도: 0.9413\n\r0%"
     ]
    },
    {
     "name": "stdout",
     "output_type": "stream",
     "text": [
      "\r0%"
     ]
    },
    {
     "name": "stdout",
     "output_type": "stream",
     "text": [
      "\r1%"
     ]
    },
    {
     "name": "stdout",
     "output_type": "stream",
     "text": [
      "\r2%"
     ]
    },
    {
     "name": "stdout",
     "output_type": "stream",
     "text": [
      "\r3%"
     ]
    },
    {
     "name": "stdout",
     "output_type": "stream",
     "text": [
      "\r3%"
     ]
    },
    {
     "name": "stdout",
     "output_type": "stream",
     "text": [
      "\r4%"
     ]
    },
    {
     "name": "stdout",
     "output_type": "stream",
     "text": [
      "\r5%"
     ]
    },
    {
     "name": "stdout",
     "output_type": "stream",
     "text": [
      "\r6%"
     ]
    },
    {
     "name": "stdout",
     "output_type": "stream",
     "text": [
      "\r6%"
     ]
    },
    {
     "name": "stdout",
     "output_type": "stream",
     "text": [
      "\r7%"
     ]
    },
    {
     "name": "stdout",
     "output_type": "stream",
     "text": [
      "\r8%"
     ]
    },
    {
     "name": "stdout",
     "output_type": "stream",
     "text": [
      "\r9%"
     ]
    },
    {
     "name": "stdout",
     "output_type": "stream",
     "text": [
      "\r9%"
     ]
    },
    {
     "name": "stdout",
     "output_type": "stream",
     "text": [
      "\r10%"
     ]
    },
    {
     "name": "stdout",
     "output_type": "stream",
     "text": [
      "\r11%"
     ]
    },
    {
     "name": "stdout",
     "output_type": "stream",
     "text": [
      "\r12%"
     ]
    },
    {
     "name": "stdout",
     "output_type": "stream",
     "text": [
      "\r12%"
     ]
    },
    {
     "name": "stdout",
     "output_type": "stream",
     "text": [
      "\r13%"
     ]
    },
    {
     "name": "stdout",
     "output_type": "stream",
     "text": [
      "\r14%"
     ]
    },
    {
     "name": "stdout",
     "output_type": "stream",
     "text": [
      "\r15%"
     ]
    },
    {
     "name": "stdout",
     "output_type": "stream",
     "text": [
      "\r15%"
     ]
    },
    {
     "name": "stdout",
     "output_type": "stream",
     "text": [
      "\r16%"
     ]
    },
    {
     "name": "stdout",
     "output_type": "stream",
     "text": [
      "\r17%"
     ]
    },
    {
     "name": "stdout",
     "output_type": "stream",
     "text": [
      "\r18%"
     ]
    },
    {
     "name": "stdout",
     "output_type": "stream",
     "text": [
      "\r18%"
     ]
    },
    {
     "name": "stdout",
     "output_type": "stream",
     "text": [
      "\r19%"
     ]
    },
    {
     "name": "stdout",
     "output_type": "stream",
     "text": [
      "\r20%"
     ]
    },
    {
     "name": "stdout",
     "output_type": "stream",
     "text": [
      "\r21%"
     ]
    },
    {
     "name": "stdout",
     "output_type": "stream",
     "text": [
      "\r21%"
     ]
    },
    {
     "name": "stdout",
     "output_type": "stream",
     "text": [
      "\r22%"
     ]
    },
    {
     "name": "stdout",
     "output_type": "stream",
     "text": [
      "\r23%"
     ]
    },
    {
     "name": "stdout",
     "output_type": "stream",
     "text": [
      "\r24%"
     ]
    },
    {
     "name": "stdout",
     "output_type": "stream",
     "text": [
      "\r24%"
     ]
    },
    {
     "name": "stdout",
     "output_type": "stream",
     "text": [
      "\r25%"
     ]
    },
    {
     "name": "stdout",
     "output_type": "stream",
     "text": [
      "\r26%"
     ]
    },
    {
     "name": "stdout",
     "output_type": "stream",
     "text": [
      "\r27%"
     ]
    },
    {
     "name": "stdout",
     "output_type": "stream",
     "text": [
      "\r27%"
     ]
    },
    {
     "name": "stdout",
     "output_type": "stream",
     "text": [
      "\r28%"
     ]
    },
    {
     "name": "stdout",
     "output_type": "stream",
     "text": [
      "\r29%"
     ]
    },
    {
     "name": "stdout",
     "output_type": "stream",
     "text": [
      "\r30%"
     ]
    },
    {
     "name": "stdout",
     "output_type": "stream",
     "text": [
      "\r30%"
     ]
    },
    {
     "name": "stdout",
     "output_type": "stream",
     "text": [
      "\r31%"
     ]
    },
    {
     "name": "stdout",
     "output_type": "stream",
     "text": [
      "\r32%"
     ]
    },
    {
     "name": "stdout",
     "output_type": "stream",
     "text": [
      "\r33%"
     ]
    },
    {
     "name": "stdout",
     "output_type": "stream",
     "text": [
      "\r33%"
     ]
    },
    {
     "name": "stdout",
     "output_type": "stream",
     "text": [
      "\r34%"
     ]
    },
    {
     "name": "stdout",
     "output_type": "stream",
     "text": [
      "\r35%"
     ]
    },
    {
     "name": "stdout",
     "output_type": "stream",
     "text": [
      "\r36%"
     ]
    },
    {
     "name": "stdout",
     "output_type": "stream",
     "text": [
      "\r36%"
     ]
    },
    {
     "name": "stdout",
     "output_type": "stream",
     "text": [
      "\r37%"
     ]
    },
    {
     "name": "stdout",
     "output_type": "stream",
     "text": [
      "\r38%"
     ]
    },
    {
     "name": "stdout",
     "output_type": "stream",
     "text": [
      "\r39%"
     ]
    },
    {
     "name": "stdout",
     "output_type": "stream",
     "text": [
      "\r39%"
     ]
    },
    {
     "name": "stdout",
     "output_type": "stream",
     "text": [
      "\r40%"
     ]
    },
    {
     "name": "stdout",
     "output_type": "stream",
     "text": [
      "\r41%"
     ]
    },
    {
     "name": "stdout",
     "output_type": "stream",
     "text": [
      "\r42%"
     ]
    },
    {
     "name": "stdout",
     "output_type": "stream",
     "text": [
      "\r42%"
     ]
    },
    {
     "name": "stdout",
     "output_type": "stream",
     "text": [
      "\r43%"
     ]
    },
    {
     "name": "stdout",
     "output_type": "stream",
     "text": [
      "\r44%"
     ]
    },
    {
     "name": "stdout",
     "output_type": "stream",
     "text": [
      "\r45%"
     ]
    },
    {
     "name": "stdout",
     "output_type": "stream",
     "text": [
      "\r45%"
     ]
    },
    {
     "name": "stdout",
     "output_type": "stream",
     "text": [
      "\r46%"
     ]
    },
    {
     "name": "stdout",
     "output_type": "stream",
     "text": [
      "\r47%"
     ]
    },
    {
     "name": "stdout",
     "output_type": "stream",
     "text": [
      "\r48%"
     ]
    },
    {
     "name": "stdout",
     "output_type": "stream",
     "text": [
      "\r48%"
     ]
    },
    {
     "name": "stdout",
     "output_type": "stream",
     "text": [
      "\r49%"
     ]
    },
    {
     "name": "stdout",
     "output_type": "stream",
     "text": [
      "\r50%"
     ]
    },
    {
     "name": "stdout",
     "output_type": "stream",
     "text": [
      "\r51%"
     ]
    },
    {
     "name": "stdout",
     "output_type": "stream",
     "text": [
      "\r51%"
     ]
    },
    {
     "name": "stdout",
     "output_type": "stream",
     "text": [
      "\r52%"
     ]
    },
    {
     "name": "stdout",
     "output_type": "stream",
     "text": [
      "\r53%"
     ]
    },
    {
     "name": "stdout",
     "output_type": "stream",
     "text": [
      "\r54%"
     ]
    },
    {
     "name": "stdout",
     "output_type": "stream",
     "text": [
      "\r54%"
     ]
    },
    {
     "name": "stdout",
     "output_type": "stream",
     "text": [
      "\r55%"
     ]
    },
    {
     "name": "stdout",
     "output_type": "stream",
     "text": [
      "\r56%"
     ]
    },
    {
     "name": "stdout",
     "output_type": "stream",
     "text": [
      "\r57%"
     ]
    },
    {
     "name": "stdout",
     "output_type": "stream",
     "text": [
      "\r57%"
     ]
    },
    {
     "name": "stdout",
     "output_type": "stream",
     "text": [
      "\r58%"
     ]
    },
    {
     "name": "stdout",
     "output_type": "stream",
     "text": [
      "\r59%"
     ]
    },
    {
     "name": "stdout",
     "output_type": "stream",
     "text": [
      "\r60%"
     ]
    },
    {
     "name": "stdout",
     "output_type": "stream",
     "text": [
      "\r60%"
     ]
    },
    {
     "name": "stdout",
     "output_type": "stream",
     "text": [
      "\r61%"
     ]
    },
    {
     "name": "stdout",
     "output_type": "stream",
     "text": [
      "\r62%"
     ]
    },
    {
     "name": "stdout",
     "output_type": "stream",
     "text": [
      "\r63%"
     ]
    },
    {
     "name": "stdout",
     "output_type": "stream",
     "text": [
      "\r63%"
     ]
    },
    {
     "name": "stdout",
     "output_type": "stream",
     "text": [
      "\r64%"
     ]
    },
    {
     "name": "stdout",
     "output_type": "stream",
     "text": [
      "\r65%"
     ]
    },
    {
     "name": "stdout",
     "output_type": "stream",
     "text": [
      "\r66%"
     ]
    },
    {
     "name": "stdout",
     "output_type": "stream",
     "text": [
      "\r66%"
     ]
    },
    {
     "name": "stdout",
     "output_type": "stream",
     "text": [
      "\r67%"
     ]
    },
    {
     "name": "stdout",
     "output_type": "stream",
     "text": [
      "\r68%"
     ]
    },
    {
     "name": "stdout",
     "output_type": "stream",
     "text": [
      "\r69%"
     ]
    },
    {
     "name": "stdout",
     "output_type": "stream",
     "text": [
      "\r69%"
     ]
    },
    {
     "name": "stdout",
     "output_type": "stream",
     "text": [
      "\r70%"
     ]
    },
    {
     "name": "stdout",
     "output_type": "stream",
     "text": [
      "\r71%"
     ]
    },
    {
     "name": "stdout",
     "output_type": "stream",
     "text": [
      "\r72%"
     ]
    },
    {
     "name": "stdout",
     "output_type": "stream",
     "text": [
      "\r72%"
     ]
    },
    {
     "name": "stdout",
     "output_type": "stream",
     "text": [
      "\r73%"
     ]
    },
    {
     "name": "stdout",
     "output_type": "stream",
     "text": [
      "\r74%"
     ]
    },
    {
     "name": "stdout",
     "output_type": "stream",
     "text": [
      "\r75%"
     ]
    },
    {
     "name": "stdout",
     "output_type": "stream",
     "text": [
      "\r75%"
     ]
    },
    {
     "name": "stdout",
     "output_type": "stream",
     "text": [
      "\r76%"
     ]
    },
    {
     "name": "stdout",
     "output_type": "stream",
     "text": [
      "\r77%"
     ]
    },
    {
     "name": "stdout",
     "output_type": "stream",
     "text": [
      "\r78%"
     ]
    },
    {
     "name": "stdout",
     "output_type": "stream",
     "text": [
      "\r78%"
     ]
    },
    {
     "name": "stdout",
     "output_type": "stream",
     "text": [
      "\r79%"
     ]
    },
    {
     "name": "stdout",
     "output_type": "stream",
     "text": [
      "\r80%"
     ]
    },
    {
     "name": "stdout",
     "output_type": "stream",
     "text": [
      "\r81%"
     ]
    },
    {
     "name": "stdout",
     "output_type": "stream",
     "text": [
      "\r81%"
     ]
    },
    {
     "name": "stdout",
     "output_type": "stream",
     "text": [
      "\r82%"
     ]
    },
    {
     "name": "stdout",
     "output_type": "stream",
     "text": [
      "\r83%"
     ]
    },
    {
     "name": "stdout",
     "output_type": "stream",
     "text": [
      "\r84%"
     ]
    },
    {
     "name": "stdout",
     "output_type": "stream",
     "text": [
      "\r84%"
     ]
    },
    {
     "name": "stdout",
     "output_type": "stream",
     "text": [
      "\r85%"
     ]
    },
    {
     "name": "stdout",
     "output_type": "stream",
     "text": [
      "\r86%"
     ]
    },
    {
     "name": "stdout",
     "output_type": "stream",
     "text": [
      "\r87%"
     ]
    },
    {
     "name": "stdout",
     "output_type": "stream",
     "text": [
      "\r87%"
     ]
    },
    {
     "name": "stdout",
     "output_type": "stream",
     "text": [
      "\r88%"
     ]
    },
    {
     "name": "stdout",
     "output_type": "stream",
     "text": [
      "\r89%"
     ]
    },
    {
     "name": "stdout",
     "output_type": "stream",
     "text": [
      "\r90%"
     ]
    },
    {
     "name": "stdout",
     "output_type": "stream",
     "text": [
      "\r90%"
     ]
    },
    {
     "name": "stdout",
     "output_type": "stream",
     "text": [
      "\r91%"
     ]
    },
    {
     "name": "stdout",
     "output_type": "stream",
     "text": [
      "\r92%"
     ]
    },
    {
     "name": "stdout",
     "output_type": "stream",
     "text": [
      "\r93%"
     ]
    },
    {
     "name": "stdout",
     "output_type": "stream",
     "text": [
      "\r93%"
     ]
    },
    {
     "name": "stdout",
     "output_type": "stream",
     "text": [
      "\r94%"
     ]
    },
    {
     "name": "stdout",
     "output_type": "stream",
     "text": [
      "\r95%"
     ]
    },
    {
     "name": "stdout",
     "output_type": "stream",
     "text": [
      "\r96%"
     ]
    },
    {
     "name": "stdout",
     "output_type": "stream",
     "text": [
      "\r96%"
     ]
    },
    {
     "name": "stdout",
     "output_type": "stream",
     "text": [
      "\r97%"
     ]
    },
    {
     "name": "stdout",
     "output_type": "stream",
     "text": [
      "\r98%"
     ]
    },
    {
     "name": "stdout",
     "output_type": "stream",
     "text": [
      "\r99%"
     ]
    },
    {
     "name": "stdout",
     "output_type": "stream",
     "text": [
      "\r3 훈련 정확도: 0.9866667\t"
     ]
    },
    {
     "name": "stdout",
     "output_type": "stream",
     "text": [
      "테스트 정확도: 0.9409\n"
     ]
    }
   ],
   "source": [
    "# 사전 훈련된 오토인코더 이용; 첫 번째와 두 번째의 은닉층을 재사용\n",
    "n_epochs = 4\n",
    "batch_size = 150\n",
    "n_labeled_instances = 20000\n",
    "\n",
    "# layers 1와 2를 동결 (선택사항)\n",
    "# training_op = optimizer.minimize(loss, var_list=[weights3, biases3])\n",
    "\n",
    "with tf.Session() as sess:\n",
    "    init.run()\n",
    "    utils.load_pre_tf(var_list=[weights1, weights2, biases1, biases2], sess=sess, file_name=\"note/stack_weights_each/model_cached_frozen\", root_path=ROOT_PATH)\n",
    "    \n",
    "    for epoch in range(n_epochs):\n",
    "        n_batches = n_labeled_instances // batch_size\n",
    "        \n",
    "        for iteration in range(n_batches):\n",
    "            print(\"\\r{}%\".format(100 * iteration // n_batches), end=\"\")\n",
    "            sys.stdout.flush()\n",
    "            indices = rnd.permutation(n_labeled_instances)[:batch_size]\n",
    "            X_batch, y_batch = X_train[indices], y_train[indices]\n",
    "            sess.run(training_op, feed_dict={X: X_batch, y: y_batch})\n",
    "            \n",
    "        accuracy_val = accuracy.eval(feed_dict={X: X_batch, y: y_batch})\n",
    "        print(\"\\r{}\".format(epoch), \"훈련 정확도:\", accuracy_val, end=\"\\t\")\n",
    "        utils.save_tf(sess, \"note/supervied_pretrained/model\", root_path=ROOT_PATH)\n",
    "        test_val = accuracy.eval(feed_dict={X: X_test, y: y_test})\n",
    "        print(\"테스트 정확도:\", test_val)"
   ]
  },
  {
   "cell_type": "markdown",
   "metadata": {},
   "source": [
    "# Stacked Denoising Auto-Encoder; 적층 잡음제거 오토인코더\n",
    "\n",
    "<br/>가우시안(Gaussian) 잡음 또는 다롭아웃 방지"
   ]
  },
  {
   "cell_type": "code",
   "execution_count": 7,
   "metadata": {},
   "outputs": [],
   "source": [
    "utils.reset_graph()\n",
    "\n",
    "n_inputs = 28 * 28\n",
    "n_hiddens = [300, 150, 300]\n",
    "n_outputs = n_inputs\n",
    "\n",
    "learning_rate = 0.01"
   ]
  },
  {
   "cell_type": "code",
   "execution_count": 8,
   "metadata": {},
   "outputs": [],
   "source": [
    "noise_level = 1.0\n",
    "\n",
    "X = tf.placeholder(tf.float32, shape=[None, n_inputs])\n",
    "X_noisy = X + noise_level * tf.random_normal(tf.shape(X))\n",
    "\n",
    "hidden1 = tf.layers.dense(X_noisy, n_hiddens[0], activation=tf.nn.relu,\n",
    "                          name=\"hidden1\")\n",
    "hidden2 = tf.layers.dense(hidden1, n_hiddens[1], activation=tf.nn.relu, # 책에는 없음\n",
    "                          name=\"hidden2\")                            # 책에는 없음\n",
    "hidden3 = tf.layers.dense(hidden2, n_hiddens[2], activation=tf.nn.relu, # 책에는 없음\n",
    "                          name=\"hidden3\")                            # 책에는 없음\n",
    "outputs = tf.layers.dense(hidden3, n_outputs, name=\"outputs\")        # 책에는 없음\n",
    "\n",
    "reconstruction_loss = tf.reduce_mean(tf.square(outputs - X)) # MSE"
   ]
  },
  {
   "cell_type": "code",
   "execution_count": 9,
   "metadata": {},
   "outputs": [],
   "source": [
    "optimizer = tf.train.AdamOptimizer(learning_rate)\n",
    "training_op = optimizer.minimize(reconstruction_loss)\n",
    "    \n",
    "init = tf.global_variables_initializer()"
   ]
  },
  {
   "cell_type": "code",
   "execution_count": 13,
   "metadata": {},
   "outputs": [
    {
     "name": "stdout",
     "output_type": "stream",
     "text": [
      "\r0%"
     ]
    },
    {
     "name": "stdout",
     "output_type": "stream",
     "text": [
      "\r0%"
     ]
    },
    {
     "name": "stdout",
     "output_type": "stream",
     "text": [
      "\r0%"
     ]
    },
    {
     "name": "stdout",
     "output_type": "stream",
     "text": [
      "\r0%"
     ]
    },
    {
     "name": "stdout",
     "output_type": "stream",
     "text": [
      "\r1%"
     ]
    },
    {
     "name": "stdout",
     "output_type": "stream",
     "text": [
      "\r1%"
     ]
    },
    {
     "name": "stdout",
     "output_type": "stream",
     "text": [
      "\r1%"
     ]
    },
    {
     "name": "stdout",
     "output_type": "stream",
     "text": [
      "\r1%"
     ]
    },
    {
     "name": "stdout",
     "output_type": "stream",
     "text": [
      "\r2%"
     ]
    },
    {
     "name": "stdout",
     "output_type": "stream",
     "text": [
      "\r2%"
     ]
    },
    {
     "name": "stdout",
     "output_type": "stream",
     "text": [
      "\r2%"
     ]
    },
    {
     "name": "stdout",
     "output_type": "stream",
     "text": [
      "\r3%"
     ]
    },
    {
     "name": "stdout",
     "output_type": "stream",
     "text": [
      "\r3%"
     ]
    },
    {
     "name": "stdout",
     "output_type": "stream",
     "text": [
      "\r3%"
     ]
    },
    {
     "name": "stdout",
     "output_type": "stream",
     "text": [
      "\r3%"
     ]
    },
    {
     "name": "stdout",
     "output_type": "stream",
     "text": [
      "\r4%"
     ]
    },
    {
     "name": "stdout",
     "output_type": "stream",
     "text": [
      "\r4%"
     ]
    },
    {
     "name": "stdout",
     "output_type": "stream",
     "text": [
      "\r4%"
     ]
    },
    {
     "name": "stdout",
     "output_type": "stream",
     "text": [
      "\r4%"
     ]
    },
    {
     "name": "stdout",
     "output_type": "stream",
     "text": [
      "\r5%"
     ]
    },
    {
     "name": "stdout",
     "output_type": "stream",
     "text": [
      "\r5%"
     ]
    },
    {
     "name": "stdout",
     "output_type": "stream",
     "text": [
      "\r5%"
     ]
    },
    {
     "name": "stdout",
     "output_type": "stream",
     "text": [
      "\r6%"
     ]
    },
    {
     "name": "stdout",
     "output_type": "stream",
     "text": [
      "\r6%"
     ]
    },
    {
     "name": "stdout",
     "output_type": "stream",
     "text": [
      "\r6%"
     ]
    },
    {
     "name": "stdout",
     "output_type": "stream",
     "text": [
      "\r6%"
     ]
    },
    {
     "name": "stdout",
     "output_type": "stream",
     "text": [
      "\r7%"
     ]
    },
    {
     "name": "stdout",
     "output_type": "stream",
     "text": [
      "\r7%"
     ]
    },
    {
     "name": "stdout",
     "output_type": "stream",
     "text": [
      "\r7%"
     ]
    },
    {
     "name": "stdout",
     "output_type": "stream",
     "text": [
      "\r7%"
     ]
    },
    {
     "name": "stdout",
     "output_type": "stream",
     "text": [
      "\r8%"
     ]
    },
    {
     "name": "stdout",
     "output_type": "stream",
     "text": [
      "\r8%"
     ]
    },
    {
     "name": "stdout",
     "output_type": "stream",
     "text": [
      "\r8%"
     ]
    },
    {
     "name": "stdout",
     "output_type": "stream",
     "text": [
      "\r9%"
     ]
    },
    {
     "name": "stdout",
     "output_type": "stream",
     "text": [
      "\r9%"
     ]
    },
    {
     "name": "stdout",
     "output_type": "stream",
     "text": [
      "\r9%"
     ]
    },
    {
     "name": "stdout",
     "output_type": "stream",
     "text": [
      "\r9%"
     ]
    },
    {
     "name": "stdout",
     "output_type": "stream",
     "text": [
      "\r10%"
     ]
    },
    {
     "name": "stdout",
     "output_type": "stream",
     "text": [
      "\r10%"
     ]
    },
    {
     "name": "stdout",
     "output_type": "stream",
     "text": [
      "\r10%"
     ]
    },
    {
     "name": "stdout",
     "output_type": "stream",
     "text": [
      "\r10%"
     ]
    },
    {
     "name": "stdout",
     "output_type": "stream",
     "text": [
      "\r11%"
     ]
    },
    {
     "name": "stdout",
     "output_type": "stream",
     "text": [
      "\r11%"
     ]
    },
    {
     "name": "stdout",
     "output_type": "stream",
     "text": [
      "\r11%"
     ]
    },
    {
     "name": "stdout",
     "output_type": "stream",
     "text": [
      "\r12%"
     ]
    },
    {
     "name": "stdout",
     "output_type": "stream",
     "text": [
      "\r12%"
     ]
    },
    {
     "name": "stdout",
     "output_type": "stream",
     "text": [
      "\r12%"
     ]
    },
    {
     "name": "stdout",
     "output_type": "stream",
     "text": [
      "\r12%"
     ]
    },
    {
     "name": "stdout",
     "output_type": "stream",
     "text": [
      "\r13%"
     ]
    },
    {
     "name": "stdout",
     "output_type": "stream",
     "text": [
      "\r13%"
     ]
    },
    {
     "name": "stdout",
     "output_type": "stream",
     "text": [
      "\r13%"
     ]
    },
    {
     "name": "stdout",
     "output_type": "stream",
     "text": [
      "\r13%"
     ]
    },
    {
     "name": "stdout",
     "output_type": "stream",
     "text": [
      "\r14%"
     ]
    },
    {
     "name": "stdout",
     "output_type": "stream",
     "text": [
      "\r14%"
     ]
    },
    {
     "name": "stdout",
     "output_type": "stream",
     "text": [
      "\r14%"
     ]
    },
    {
     "name": "stdout",
     "output_type": "stream",
     "text": [
      "\r15%"
     ]
    },
    {
     "name": "stdout",
     "output_type": "stream",
     "text": [
      "\r15%"
     ]
    },
    {
     "name": "stdout",
     "output_type": "stream",
     "text": [
      "\r15%"
     ]
    },
    {
     "name": "stdout",
     "output_type": "stream",
     "text": [
      "\r15%"
     ]
    },
    {
     "name": "stdout",
     "output_type": "stream",
     "text": [
      "\r16%"
     ]
    },
    {
     "name": "stdout",
     "output_type": "stream",
     "text": [
      "\r16%"
     ]
    },
    {
     "name": "stdout",
     "output_type": "stream",
     "text": [
      "\r16%"
     ]
    },
    {
     "name": "stdout",
     "output_type": "stream",
     "text": [
      "\r16%"
     ]
    },
    {
     "name": "stdout",
     "output_type": "stream",
     "text": [
      "\r17%"
     ]
    },
    {
     "name": "stdout",
     "output_type": "stream",
     "text": [
      "\r17%"
     ]
    },
    {
     "name": "stdout",
     "output_type": "stream",
     "text": [
      "\r17%"
     ]
    },
    {
     "name": "stdout",
     "output_type": "stream",
     "text": [
      "\r18%"
     ]
    },
    {
     "name": "stdout",
     "output_type": "stream",
     "text": [
      "\r18%"
     ]
    },
    {
     "name": "stdout",
     "output_type": "stream",
     "text": [
      "\r18%"
     ]
    },
    {
     "name": "stdout",
     "output_type": "stream",
     "text": [
      "\r18%"
     ]
    },
    {
     "name": "stdout",
     "output_type": "stream",
     "text": [
      "\r19%"
     ]
    },
    {
     "name": "stdout",
     "output_type": "stream",
     "text": [
      "\r19%"
     ]
    },
    {
     "name": "stdout",
     "output_type": "stream",
     "text": [
      "\r19%"
     ]
    },
    {
     "name": "stdout",
     "output_type": "stream",
     "text": [
      "\r19%"
     ]
    },
    {
     "name": "stdout",
     "output_type": "stream",
     "text": [
      "\r20%"
     ]
    },
    {
     "name": "stdout",
     "output_type": "stream",
     "text": [
      "\r20%"
     ]
    },
    {
     "name": "stdout",
     "output_type": "stream",
     "text": [
      "\r20%"
     ]
    },
    {
     "name": "stdout",
     "output_type": "stream",
     "text": [
      "\r21%"
     ]
    },
    {
     "name": "stdout",
     "output_type": "stream",
     "text": [
      "\r21%"
     ]
    },
    {
     "name": "stdout",
     "output_type": "stream",
     "text": [
      "\r21%"
     ]
    },
    {
     "name": "stdout",
     "output_type": "stream",
     "text": [
      "\r21%"
     ]
    },
    {
     "name": "stdout",
     "output_type": "stream",
     "text": [
      "\r22%"
     ]
    },
    {
     "name": "stdout",
     "output_type": "stream",
     "text": [
      "\r22%"
     ]
    },
    {
     "name": "stdout",
     "output_type": "stream",
     "text": [
      "\r22%"
     ]
    },
    {
     "name": "stdout",
     "output_type": "stream",
     "text": [
      "\r22%"
     ]
    },
    {
     "name": "stdout",
     "output_type": "stream",
     "text": [
      "\r23%"
     ]
    },
    {
     "name": "stdout",
     "output_type": "stream",
     "text": [
      "\r23%"
     ]
    },
    {
     "name": "stdout",
     "output_type": "stream",
     "text": [
      "\r23%"
     ]
    },
    {
     "name": "stdout",
     "output_type": "stream",
     "text": [
      "\r24%"
     ]
    },
    {
     "name": "stdout",
     "output_type": "stream",
     "text": [
      "\r24%"
     ]
    },
    {
     "name": "stdout",
     "output_type": "stream",
     "text": [
      "\r24%"
     ]
    },
    {
     "name": "stdout",
     "output_type": "stream",
     "text": [
      "\r24%"
     ]
    },
    {
     "name": "stdout",
     "output_type": "stream",
     "text": [
      "\r25%"
     ]
    },
    {
     "name": "stdout",
     "output_type": "stream",
     "text": [
      "\r25%"
     ]
    },
    {
     "name": "stdout",
     "output_type": "stream",
     "text": [
      "\r25%"
     ]
    },
    {
     "name": "stdout",
     "output_type": "stream",
     "text": [
      "\r25%"
     ]
    },
    {
     "name": "stdout",
     "output_type": "stream",
     "text": [
      "\r26%"
     ]
    },
    {
     "name": "stdout",
     "output_type": "stream",
     "text": [
      "\r26%"
     ]
    },
    {
     "name": "stdout",
     "output_type": "stream",
     "text": [
      "\r26%"
     ]
    },
    {
     "name": "stdout",
     "output_type": "stream",
     "text": [
      "\r27%"
     ]
    },
    {
     "name": "stdout",
     "output_type": "stream",
     "text": [
      "\r27%"
     ]
    },
    {
     "name": "stdout",
     "output_type": "stream",
     "text": [
      "\r27%"
     ]
    },
    {
     "name": "stdout",
     "output_type": "stream",
     "text": [
      "\r27%"
     ]
    },
    {
     "name": "stdout",
     "output_type": "stream",
     "text": [
      "\r28%"
     ]
    },
    {
     "name": "stdout",
     "output_type": "stream",
     "text": [
      "\r28%"
     ]
    },
    {
     "name": "stdout",
     "output_type": "stream",
     "text": [
      "\r28%"
     ]
    },
    {
     "name": "stdout",
     "output_type": "stream",
     "text": [
      "\r28%"
     ]
    },
    {
     "name": "stdout",
     "output_type": "stream",
     "text": [
      "\r29%"
     ]
    },
    {
     "name": "stdout",
     "output_type": "stream",
     "text": [
      "\r29%"
     ]
    },
    {
     "name": "stdout",
     "output_type": "stream",
     "text": [
      "\r29%"
     ]
    },
    {
     "name": "stdout",
     "output_type": "stream",
     "text": [
      "\r30%"
     ]
    },
    {
     "name": "stdout",
     "output_type": "stream",
     "text": [
      "\r30%"
     ]
    },
    {
     "name": "stdout",
     "output_type": "stream",
     "text": [
      "\r30%"
     ]
    },
    {
     "name": "stdout",
     "output_type": "stream",
     "text": [
      "\r30%"
     ]
    },
    {
     "name": "stdout",
     "output_type": "stream",
     "text": [
      "\r31%"
     ]
    },
    {
     "name": "stdout",
     "output_type": "stream",
     "text": [
      "\r31%"
     ]
    },
    {
     "name": "stdout",
     "output_type": "stream",
     "text": [
      "\r31%"
     ]
    },
    {
     "name": "stdout",
     "output_type": "stream",
     "text": [
      "\r31%"
     ]
    },
    {
     "name": "stdout",
     "output_type": "stream",
     "text": [
      "\r32%"
     ]
    },
    {
     "name": "stdout",
     "output_type": "stream",
     "text": [
      "\r32%"
     ]
    },
    {
     "name": "stdout",
     "output_type": "stream",
     "text": [
      "\r32%"
     ]
    },
    {
     "name": "stdout",
     "output_type": "stream",
     "text": [
      "\r33%"
     ]
    },
    {
     "name": "stdout",
     "output_type": "stream",
     "text": [
      "\r33%"
     ]
    },
    {
     "name": "stdout",
     "output_type": "stream",
     "text": [
      "\r33%"
     ]
    },
    {
     "name": "stdout",
     "output_type": "stream",
     "text": [
      "\r33%"
     ]
    },
    {
     "name": "stdout",
     "output_type": "stream",
     "text": [
      "\r34%"
     ]
    },
    {
     "name": "stdout",
     "output_type": "stream",
     "text": [
      "\r34%"
     ]
    },
    {
     "name": "stdout",
     "output_type": "stream",
     "text": [
      "\r34%"
     ]
    },
    {
     "name": "stdout",
     "output_type": "stream",
     "text": [
      "\r34%"
     ]
    },
    {
     "name": "stdout",
     "output_type": "stream",
     "text": [
      "\r35%"
     ]
    },
    {
     "name": "stdout",
     "output_type": "stream",
     "text": [
      "\r35%"
     ]
    },
    {
     "name": "stdout",
     "output_type": "stream",
     "text": [
      "\r35%"
     ]
    },
    {
     "name": "stdout",
     "output_type": "stream",
     "text": [
      "\r36%"
     ]
    },
    {
     "name": "stdout",
     "output_type": "stream",
     "text": [
      "\r36%"
     ]
    },
    {
     "name": "stdout",
     "output_type": "stream",
     "text": [
      "\r36%"
     ]
    },
    {
     "name": "stdout",
     "output_type": "stream",
     "text": [
      "\r36%"
     ]
    },
    {
     "name": "stdout",
     "output_type": "stream",
     "text": [
      "\r37%"
     ]
    },
    {
     "name": "stdout",
     "output_type": "stream",
     "text": [
      "\r37%"
     ]
    },
    {
     "name": "stdout",
     "output_type": "stream",
     "text": [
      "\r37%"
     ]
    },
    {
     "name": "stdout",
     "output_type": "stream",
     "text": [
      "\r37%"
     ]
    },
    {
     "name": "stdout",
     "output_type": "stream",
     "text": [
      "\r38%"
     ]
    },
    {
     "name": "stdout",
     "output_type": "stream",
     "text": [
      "\r38%"
     ]
    },
    {
     "name": "stdout",
     "output_type": "stream",
     "text": [
      "\r38%"
     ]
    },
    {
     "name": "stdout",
     "output_type": "stream",
     "text": [
      "\r39%"
     ]
    },
    {
     "name": "stdout",
     "output_type": "stream",
     "text": [
      "\r39%"
     ]
    },
    {
     "name": "stdout",
     "output_type": "stream",
     "text": [
      "\r39%"
     ]
    },
    {
     "name": "stdout",
     "output_type": "stream",
     "text": [
      "\r39%"
     ]
    },
    {
     "name": "stdout",
     "output_type": "stream",
     "text": [
      "\r40%"
     ]
    },
    {
     "name": "stdout",
     "output_type": "stream",
     "text": [
      "\r40%"
     ]
    },
    {
     "name": "stdout",
     "output_type": "stream",
     "text": [
      "\r40%"
     ]
    },
    {
     "name": "stdout",
     "output_type": "stream",
     "text": [
      "\r40%"
     ]
    },
    {
     "name": "stdout",
     "output_type": "stream",
     "text": [
      "\r41%"
     ]
    },
    {
     "name": "stdout",
     "output_type": "stream",
     "text": [
      "\r41%"
     ]
    },
    {
     "name": "stdout",
     "output_type": "stream",
     "text": [
      "\r41%"
     ]
    },
    {
     "name": "stdout",
     "output_type": "stream",
     "text": [
      "\r42%"
     ]
    },
    {
     "name": "stdout",
     "output_type": "stream",
     "text": [
      "\r42%"
     ]
    },
    {
     "name": "stdout",
     "output_type": "stream",
     "text": [
      "\r42%"
     ]
    },
    {
     "name": "stdout",
     "output_type": "stream",
     "text": [
      "\r42%"
     ]
    },
    {
     "name": "stdout",
     "output_type": "stream",
     "text": [
      "\r43%"
     ]
    },
    {
     "name": "stdout",
     "output_type": "stream",
     "text": [
      "\r43%"
     ]
    },
    {
     "name": "stdout",
     "output_type": "stream",
     "text": [
      "\r43%"
     ]
    },
    {
     "name": "stdout",
     "output_type": "stream",
     "text": [
      "\r43%"
     ]
    },
    {
     "name": "stdout",
     "output_type": "stream",
     "text": [
      "\r44%"
     ]
    },
    {
     "name": "stdout",
     "output_type": "stream",
     "text": [
      "\r44%"
     ]
    },
    {
     "name": "stdout",
     "output_type": "stream",
     "text": [
      "\r44%"
     ]
    },
    {
     "name": "stdout",
     "output_type": "stream",
     "text": [
      "\r45%"
     ]
    },
    {
     "name": "stdout",
     "output_type": "stream",
     "text": [
      "\r45%"
     ]
    },
    {
     "name": "stdout",
     "output_type": "stream",
     "text": [
      "\r45%"
     ]
    },
    {
     "name": "stdout",
     "output_type": "stream",
     "text": [
      "\r45%"
     ]
    },
    {
     "name": "stdout",
     "output_type": "stream",
     "text": [
      "\r46%"
     ]
    },
    {
     "name": "stdout",
     "output_type": "stream",
     "text": [
      "\r46%"
     ]
    },
    {
     "name": "stdout",
     "output_type": "stream",
     "text": [
      "\r46%"
     ]
    },
    {
     "name": "stdout",
     "output_type": "stream",
     "text": [
      "\r46%"
     ]
    },
    {
     "name": "stdout",
     "output_type": "stream",
     "text": [
      "\r47%"
     ]
    },
    {
     "name": "stdout",
     "output_type": "stream",
     "text": [
      "\r47%"
     ]
    },
    {
     "name": "stdout",
     "output_type": "stream",
     "text": [
      "\r47%"
     ]
    },
    {
     "name": "stdout",
     "output_type": "stream",
     "text": [
      "\r48%"
     ]
    },
    {
     "name": "stdout",
     "output_type": "stream",
     "text": [
      "\r48%"
     ]
    },
    {
     "name": "stdout",
     "output_type": "stream",
     "text": [
      "\r48%"
     ]
    },
    {
     "name": "stdout",
     "output_type": "stream",
     "text": [
      "\r48%"
     ]
    },
    {
     "name": "stdout",
     "output_type": "stream",
     "text": [
      "\r49%"
     ]
    },
    {
     "name": "stdout",
     "output_type": "stream",
     "text": [
      "\r49%"
     ]
    },
    {
     "name": "stdout",
     "output_type": "stream",
     "text": [
      "\r49%"
     ]
    },
    {
     "name": "stdout",
     "output_type": "stream",
     "text": [
      "\r50%"
     ]
    },
    {
     "name": "stdout",
     "output_type": "stream",
     "text": [
      "\r50%"
     ]
    },
    {
     "name": "stdout",
     "output_type": "stream",
     "text": [
      "\r50%"
     ]
    },
    {
     "name": "stdout",
     "output_type": "stream",
     "text": [
      "\r50%"
     ]
    },
    {
     "name": "stdout",
     "output_type": "stream",
     "text": [
      "\r51%"
     ]
    },
    {
     "name": "stdout",
     "output_type": "stream",
     "text": [
      "\r51%"
     ]
    },
    {
     "name": "stdout",
     "output_type": "stream",
     "text": [
      "\r51%"
     ]
    },
    {
     "name": "stdout",
     "output_type": "stream",
     "text": [
      "\r51%"
     ]
    },
    {
     "name": "stdout",
     "output_type": "stream",
     "text": [
      "\r52%"
     ]
    },
    {
     "name": "stdout",
     "output_type": "stream",
     "text": [
      "\r52%"
     ]
    },
    {
     "name": "stdout",
     "output_type": "stream",
     "text": [
      "\r52%"
     ]
    },
    {
     "name": "stdout",
     "output_type": "stream",
     "text": [
      "\r53%"
     ]
    },
    {
     "name": "stdout",
     "output_type": "stream",
     "text": [
      "\r53%"
     ]
    },
    {
     "name": "stdout",
     "output_type": "stream",
     "text": [
      "\r53%"
     ]
    },
    {
     "name": "stdout",
     "output_type": "stream",
     "text": [
      "\r53%"
     ]
    },
    {
     "name": "stdout",
     "output_type": "stream",
     "text": [
      "\r54%"
     ]
    },
    {
     "name": "stdout",
     "output_type": "stream",
     "text": [
      "\r54%"
     ]
    },
    {
     "name": "stdout",
     "output_type": "stream",
     "text": [
      "\r54%"
     ]
    },
    {
     "name": "stdout",
     "output_type": "stream",
     "text": [
      "\r54%"
     ]
    },
    {
     "name": "stdout",
     "output_type": "stream",
     "text": [
      "\r55%"
     ]
    },
    {
     "name": "stdout",
     "output_type": "stream",
     "text": [
      "\r55%"
     ]
    },
    {
     "name": "stdout",
     "output_type": "stream",
     "text": [
      "\r55%"
     ]
    },
    {
     "name": "stdout",
     "output_type": "stream",
     "text": [
      "\r56%"
     ]
    },
    {
     "name": "stdout",
     "output_type": "stream",
     "text": [
      "\r56%"
     ]
    },
    {
     "name": "stdout",
     "output_type": "stream",
     "text": [
      "\r56%"
     ]
    },
    {
     "name": "stdout",
     "output_type": "stream",
     "text": [
      "\r56%"
     ]
    },
    {
     "name": "stdout",
     "output_type": "stream",
     "text": [
      "\r57%"
     ]
    },
    {
     "name": "stdout",
     "output_type": "stream",
     "text": [
      "\r57%"
     ]
    },
    {
     "name": "stdout",
     "output_type": "stream",
     "text": [
      "\r57%"
     ]
    },
    {
     "name": "stdout",
     "output_type": "stream",
     "text": [
      "\r57%"
     ]
    },
    {
     "name": "stdout",
     "output_type": "stream",
     "text": [
      "\r58%"
     ]
    },
    {
     "name": "stdout",
     "output_type": "stream",
     "text": [
      "\r58%"
     ]
    },
    {
     "name": "stdout",
     "output_type": "stream",
     "text": [
      "\r58%"
     ]
    },
    {
     "name": "stdout",
     "output_type": "stream",
     "text": [
      "\r59%"
     ]
    },
    {
     "name": "stdout",
     "output_type": "stream",
     "text": [
      "\r59%"
     ]
    },
    {
     "name": "stdout",
     "output_type": "stream",
     "text": [
      "\r59%"
     ]
    },
    {
     "name": "stdout",
     "output_type": "stream",
     "text": [
      "\r59%"
     ]
    },
    {
     "name": "stdout",
     "output_type": "stream",
     "text": [
      "\r60%"
     ]
    },
    {
     "name": "stdout",
     "output_type": "stream",
     "text": [
      "\r60%"
     ]
    },
    {
     "name": "stdout",
     "output_type": "stream",
     "text": [
      "\r60%"
     ]
    },
    {
     "name": "stdout",
     "output_type": "stream",
     "text": [
      "\r60%"
     ]
    },
    {
     "name": "stdout",
     "output_type": "stream",
     "text": [
      "\r61%"
     ]
    },
    {
     "name": "stdout",
     "output_type": "stream",
     "text": [
      "\r61%"
     ]
    },
    {
     "name": "stdout",
     "output_type": "stream",
     "text": [
      "\r61%"
     ]
    },
    {
     "name": "stdout",
     "output_type": "stream",
     "text": [
      "\r62%"
     ]
    },
    {
     "name": "stdout",
     "output_type": "stream",
     "text": [
      "\r62%"
     ]
    },
    {
     "name": "stdout",
     "output_type": "stream",
     "text": [
      "\r62%"
     ]
    },
    {
     "name": "stdout",
     "output_type": "stream",
     "text": [
      "\r62%"
     ]
    },
    {
     "name": "stdout",
     "output_type": "stream",
     "text": [
      "\r63%"
     ]
    },
    {
     "name": "stdout",
     "output_type": "stream",
     "text": [
      "\r63%"
     ]
    },
    {
     "name": "stdout",
     "output_type": "stream",
     "text": [
      "\r63%"
     ]
    },
    {
     "name": "stdout",
     "output_type": "stream",
     "text": [
      "\r63%"
     ]
    },
    {
     "name": "stdout",
     "output_type": "stream",
     "text": [
      "\r64%"
     ]
    },
    {
     "name": "stdout",
     "output_type": "stream",
     "text": [
      "\r64%"
     ]
    },
    {
     "name": "stdout",
     "output_type": "stream",
     "text": [
      "\r64%"
     ]
    },
    {
     "name": "stdout",
     "output_type": "stream",
     "text": [
      "\r65%"
     ]
    },
    {
     "name": "stdout",
     "output_type": "stream",
     "text": [
      "\r65%"
     ]
    },
    {
     "name": "stdout",
     "output_type": "stream",
     "text": [
      "\r65%"
     ]
    },
    {
     "name": "stdout",
     "output_type": "stream",
     "text": [
      "\r65%"
     ]
    },
    {
     "name": "stdout",
     "output_type": "stream",
     "text": [
      "\r66%"
     ]
    },
    {
     "name": "stdout",
     "output_type": "stream",
     "text": [
      "\r66%"
     ]
    },
    {
     "name": "stdout",
     "output_type": "stream",
     "text": [
      "\r66%"
     ]
    },
    {
     "name": "stdout",
     "output_type": "stream",
     "text": [
      "\r66%"
     ]
    },
    {
     "name": "stdout",
     "output_type": "stream",
     "text": [
      "\r67%"
     ]
    },
    {
     "name": "stdout",
     "output_type": "stream",
     "text": [
      "\r67%"
     ]
    },
    {
     "name": "stdout",
     "output_type": "stream",
     "text": [
      "\r67%"
     ]
    },
    {
     "name": "stdout",
     "output_type": "stream",
     "text": [
      "\r68%"
     ]
    },
    {
     "name": "stdout",
     "output_type": "stream",
     "text": [
      "\r68%"
     ]
    },
    {
     "name": "stdout",
     "output_type": "stream",
     "text": [
      "\r68%"
     ]
    },
    {
     "name": "stdout",
     "output_type": "stream",
     "text": [
      "\r68%"
     ]
    },
    {
     "name": "stdout",
     "output_type": "stream",
     "text": [
      "\r69%"
     ]
    },
    {
     "name": "stdout",
     "output_type": "stream",
     "text": [
      "\r69%"
     ]
    },
    {
     "name": "stdout",
     "output_type": "stream",
     "text": [
      "\r69%"
     ]
    },
    {
     "name": "stdout",
     "output_type": "stream",
     "text": [
      "\r69%"
     ]
    },
    {
     "name": "stdout",
     "output_type": "stream",
     "text": [
      "\r70%"
     ]
    },
    {
     "name": "stdout",
     "output_type": "stream",
     "text": [
      "\r70%"
     ]
    },
    {
     "name": "stdout",
     "output_type": "stream",
     "text": [
      "\r70%"
     ]
    },
    {
     "name": "stdout",
     "output_type": "stream",
     "text": [
      "\r71%"
     ]
    },
    {
     "name": "stdout",
     "output_type": "stream",
     "text": [
      "\r71%"
     ]
    },
    {
     "name": "stdout",
     "output_type": "stream",
     "text": [
      "\r71%"
     ]
    },
    {
     "name": "stdout",
     "output_type": "stream",
     "text": [
      "\r71%"
     ]
    },
    {
     "name": "stdout",
     "output_type": "stream",
     "text": [
      "\r72%"
     ]
    },
    {
     "name": "stdout",
     "output_type": "stream",
     "text": [
      "\r72%"
     ]
    },
    {
     "name": "stdout",
     "output_type": "stream",
     "text": [
      "\r72%"
     ]
    },
    {
     "name": "stdout",
     "output_type": "stream",
     "text": [
      "\r72%"
     ]
    },
    {
     "name": "stdout",
     "output_type": "stream",
     "text": [
      "\r73%"
     ]
    },
    {
     "name": "stdout",
     "output_type": "stream",
     "text": [
      "\r73%"
     ]
    },
    {
     "name": "stdout",
     "output_type": "stream",
     "text": [
      "\r73%"
     ]
    },
    {
     "name": "stdout",
     "output_type": "stream",
     "text": [
      "\r74%"
     ]
    },
    {
     "name": "stdout",
     "output_type": "stream",
     "text": [
      "\r74%"
     ]
    },
    {
     "name": "stdout",
     "output_type": "stream",
     "text": [
      "\r74%"
     ]
    },
    {
     "name": "stdout",
     "output_type": "stream",
     "text": [
      "\r74%"
     ]
    },
    {
     "name": "stdout",
     "output_type": "stream",
     "text": [
      "\r75%"
     ]
    },
    {
     "name": "stdout",
     "output_type": "stream",
     "text": [
      "\r75%"
     ]
    },
    {
     "name": "stdout",
     "output_type": "stream",
     "text": [
      "\r75%"
     ]
    },
    {
     "name": "stdout",
     "output_type": "stream",
     "text": [
      "\r75%"
     ]
    },
    {
     "name": "stdout",
     "output_type": "stream",
     "text": [
      "\r76%"
     ]
    },
    {
     "name": "stdout",
     "output_type": "stream",
     "text": [
      "\r76%"
     ]
    },
    {
     "name": "stdout",
     "output_type": "stream",
     "text": [
      "\r76%"
     ]
    },
    {
     "name": "stdout",
     "output_type": "stream",
     "text": [
      "\r77%"
     ]
    },
    {
     "name": "stdout",
     "output_type": "stream",
     "text": [
      "\r77%"
     ]
    },
    {
     "name": "stdout",
     "output_type": "stream",
     "text": [
      "\r77%"
     ]
    },
    {
     "name": "stdout",
     "output_type": "stream",
     "text": [
      "\r77%"
     ]
    },
    {
     "name": "stdout",
     "output_type": "stream",
     "text": [
      "\r78%"
     ]
    },
    {
     "name": "stdout",
     "output_type": "stream",
     "text": [
      "\r78%"
     ]
    },
    {
     "name": "stdout",
     "output_type": "stream",
     "text": [
      "\r78%"
     ]
    },
    {
     "name": "stdout",
     "output_type": "stream",
     "text": [
      "\r78%"
     ]
    },
    {
     "name": "stdout",
     "output_type": "stream",
     "text": [
      "\r79%"
     ]
    },
    {
     "name": "stdout",
     "output_type": "stream",
     "text": [
      "\r79%"
     ]
    },
    {
     "name": "stdout",
     "output_type": "stream",
     "text": [
      "\r79%"
     ]
    },
    {
     "name": "stdout",
     "output_type": "stream",
     "text": [
      "\r80%"
     ]
    },
    {
     "name": "stdout",
     "output_type": "stream",
     "text": [
      "\r80%"
     ]
    },
    {
     "name": "stdout",
     "output_type": "stream",
     "text": [
      "\r80%"
     ]
    },
    {
     "name": "stdout",
     "output_type": "stream",
     "text": [
      "\r80%"
     ]
    },
    {
     "name": "stdout",
     "output_type": "stream",
     "text": [
      "\r81%"
     ]
    },
    {
     "name": "stdout",
     "output_type": "stream",
     "text": [
      "\r81%"
     ]
    },
    {
     "name": "stdout",
     "output_type": "stream",
     "text": [
      "\r81%"
     ]
    },
    {
     "name": "stdout",
     "output_type": "stream",
     "text": [
      "\r81%"
     ]
    },
    {
     "name": "stdout",
     "output_type": "stream",
     "text": [
      "\r82%"
     ]
    },
    {
     "name": "stdout",
     "output_type": "stream",
     "text": [
      "\r82%"
     ]
    },
    {
     "name": "stdout",
     "output_type": "stream",
     "text": [
      "\r82%"
     ]
    },
    {
     "name": "stdout",
     "output_type": "stream",
     "text": [
      "\r83%"
     ]
    },
    {
     "name": "stdout",
     "output_type": "stream",
     "text": [
      "\r83%"
     ]
    },
    {
     "name": "stdout",
     "output_type": "stream",
     "text": [
      "\r83%"
     ]
    },
    {
     "name": "stdout",
     "output_type": "stream",
     "text": [
      "\r83%"
     ]
    },
    {
     "name": "stdout",
     "output_type": "stream",
     "text": [
      "\r84%"
     ]
    },
    {
     "name": "stdout",
     "output_type": "stream",
     "text": [
      "\r84%"
     ]
    },
    {
     "name": "stdout",
     "output_type": "stream",
     "text": [
      "\r84%"
     ]
    },
    {
     "name": "stdout",
     "output_type": "stream",
     "text": [
      "\r84%"
     ]
    },
    {
     "name": "stdout",
     "output_type": "stream",
     "text": [
      "\r85%"
     ]
    },
    {
     "name": "stdout",
     "output_type": "stream",
     "text": [
      "\r85%"
     ]
    },
    {
     "name": "stdout",
     "output_type": "stream",
     "text": [
      "\r85%"
     ]
    },
    {
     "name": "stdout",
     "output_type": "stream",
     "text": [
      "\r86%"
     ]
    },
    {
     "name": "stdout",
     "output_type": "stream",
     "text": [
      "\r86%"
     ]
    },
    {
     "name": "stdout",
     "output_type": "stream",
     "text": [
      "\r86%"
     ]
    },
    {
     "name": "stdout",
     "output_type": "stream",
     "text": [
      "\r86%"
     ]
    },
    {
     "name": "stdout",
     "output_type": "stream",
     "text": [
      "\r87%"
     ]
    },
    {
     "name": "stdout",
     "output_type": "stream",
     "text": [
      "\r87%"
     ]
    },
    {
     "name": "stdout",
     "output_type": "stream",
     "text": [
      "\r87%"
     ]
    },
    {
     "name": "stdout",
     "output_type": "stream",
     "text": [
      "\r87%"
     ]
    },
    {
     "name": "stdout",
     "output_type": "stream",
     "text": [
      "\r88%"
     ]
    },
    {
     "name": "stdout",
     "output_type": "stream",
     "text": [
      "\r88%"
     ]
    },
    {
     "name": "stdout",
     "output_type": "stream",
     "text": [
      "\r88%"
     ]
    },
    {
     "name": "stdout",
     "output_type": "stream",
     "text": [
      "\r89%"
     ]
    },
    {
     "name": "stdout",
     "output_type": "stream",
     "text": [
      "\r89%"
     ]
    },
    {
     "name": "stdout",
     "output_type": "stream",
     "text": [
      "\r89%"
     ]
    },
    {
     "name": "stdout",
     "output_type": "stream",
     "text": [
      "\r89%"
     ]
    },
    {
     "name": "stdout",
     "output_type": "stream",
     "text": [
      "\r90%"
     ]
    },
    {
     "name": "stdout",
     "output_type": "stream",
     "text": [
      "\r90%"
     ]
    },
    {
     "name": "stdout",
     "output_type": "stream",
     "text": [
      "\r90%"
     ]
    },
    {
     "name": "stdout",
     "output_type": "stream",
     "text": [
      "\r90%"
     ]
    },
    {
     "name": "stdout",
     "output_type": "stream",
     "text": [
      "\r91%"
     ]
    },
    {
     "name": "stdout",
     "output_type": "stream",
     "text": [
      "\r91%"
     ]
    },
    {
     "name": "stdout",
     "output_type": "stream",
     "text": [
      "\r91%"
     ]
    },
    {
     "name": "stdout",
     "output_type": "stream",
     "text": [
      "\r92%"
     ]
    },
    {
     "name": "stdout",
     "output_type": "stream",
     "text": [
      "\r92%"
     ]
    },
    {
     "name": "stdout",
     "output_type": "stream",
     "text": [
      "\r92%"
     ]
    },
    {
     "name": "stdout",
     "output_type": "stream",
     "text": [
      "\r92%"
     ]
    },
    {
     "name": "stdout",
     "output_type": "stream",
     "text": [
      "\r93%"
     ]
    },
    {
     "name": "stdout",
     "output_type": "stream",
     "text": [
      "\r93%"
     ]
    },
    {
     "name": "stdout",
     "output_type": "stream",
     "text": [
      "\r93%"
     ]
    },
    {
     "name": "stdout",
     "output_type": "stream",
     "text": [
      "\r93%"
     ]
    },
    {
     "name": "stdout",
     "output_type": "stream",
     "text": [
      "\r94%"
     ]
    },
    {
     "name": "stdout",
     "output_type": "stream",
     "text": [
      "\r94%"
     ]
    },
    {
     "name": "stdout",
     "output_type": "stream",
     "text": [
      "\r94%"
     ]
    },
    {
     "name": "stdout",
     "output_type": "stream",
     "text": [
      "\r95%"
     ]
    },
    {
     "name": "stdout",
     "output_type": "stream",
     "text": [
      "\r95%"
     ]
    },
    {
     "name": "stdout",
     "output_type": "stream",
     "text": [
      "\r95%"
     ]
    },
    {
     "name": "stdout",
     "output_type": "stream",
     "text": [
      "\r95%"
     ]
    },
    {
     "name": "stdout",
     "output_type": "stream",
     "text": [
      "\r96%"
     ]
    },
    {
     "name": "stdout",
     "output_type": "stream",
     "text": [
      "\r96%"
     ]
    },
    {
     "name": "stdout",
     "output_type": "stream",
     "text": [
      "\r96%"
     ]
    },
    {
     "name": "stdout",
     "output_type": "stream",
     "text": [
      "\r96%"
     ]
    },
    {
     "name": "stdout",
     "output_type": "stream",
     "text": [
      "\r97%"
     ]
    },
    {
     "name": "stdout",
     "output_type": "stream",
     "text": [
      "\r97%"
     ]
    },
    {
     "name": "stdout",
     "output_type": "stream",
     "text": [
      "\r97%"
     ]
    },
    {
     "name": "stdout",
     "output_type": "stream",
     "text": [
      "\r98%"
     ]
    },
    {
     "name": "stdout",
     "output_type": "stream",
     "text": [
      "\r98%"
     ]
    },
    {
     "name": "stdout",
     "output_type": "stream",
     "text": [
      "\r98%"
     ]
    },
    {
     "name": "stdout",
     "output_type": "stream",
     "text": [
      "\r98%"
     ]
    },
    {
     "name": "stdout",
     "output_type": "stream",
     "text": [
      "\r99%"
     ]
    },
    {
     "name": "stdout",
     "output_type": "stream",
     "text": [
      "\r99%"
     ]
    },
    {
     "name": "stdout",
     "output_type": "stream",
     "text": [
      "\r99%"
     ]
    },
    {
     "name": "stdout",
     "output_type": "stream",
     "text": [
      "\r0 훈련 MSE: 0.04444995\n"
     ]
    },
    {
     "name": "stdout",
     "output_type": "stream",
     "text": [
      "\r0%"
     ]
    },
    {
     "name": "stdout",
     "output_type": "stream",
     "text": [
      "\r0%"
     ]
    },
    {
     "name": "stdout",
     "output_type": "stream",
     "text": [
      "\r0%"
     ]
    },
    {
     "name": "stdout",
     "output_type": "stream",
     "text": [
      "\r0%"
     ]
    },
    {
     "name": "stdout",
     "output_type": "stream",
     "text": [
      "\r1%"
     ]
    },
    {
     "name": "stdout",
     "output_type": "stream",
     "text": [
      "\r1%"
     ]
    },
    {
     "name": "stdout",
     "output_type": "stream",
     "text": [
      "\r1%"
     ]
    },
    {
     "name": "stdout",
     "output_type": "stream",
     "text": [
      "\r1%"
     ]
    },
    {
     "name": "stdout",
     "output_type": "stream",
     "text": [
      "\r2%"
     ]
    },
    {
     "name": "stdout",
     "output_type": "stream",
     "text": [
      "\r2%"
     ]
    },
    {
     "name": "stdout",
     "output_type": "stream",
     "text": [
      "\r2%"
     ]
    },
    {
     "name": "stdout",
     "output_type": "stream",
     "text": [
      "\r3%"
     ]
    },
    {
     "name": "stdout",
     "output_type": "stream",
     "text": [
      "\r3%"
     ]
    },
    {
     "name": "stdout",
     "output_type": "stream",
     "text": [
      "\r3%"
     ]
    },
    {
     "name": "stdout",
     "output_type": "stream",
     "text": [
      "\r3%"
     ]
    },
    {
     "name": "stdout",
     "output_type": "stream",
     "text": [
      "\r4%"
     ]
    },
    {
     "name": "stdout",
     "output_type": "stream",
     "text": [
      "\r4%"
     ]
    },
    {
     "name": "stdout",
     "output_type": "stream",
     "text": [
      "\r4%"
     ]
    },
    {
     "name": "stdout",
     "output_type": "stream",
     "text": [
      "\r4%"
     ]
    },
    {
     "name": "stdout",
     "output_type": "stream",
     "text": [
      "\r5%"
     ]
    },
    {
     "name": "stdout",
     "output_type": "stream",
     "text": [
      "\r5%"
     ]
    },
    {
     "name": "stdout",
     "output_type": "stream",
     "text": [
      "\r5%"
     ]
    },
    {
     "name": "stdout",
     "output_type": "stream",
     "text": [
      "\r6%"
     ]
    },
    {
     "name": "stdout",
     "output_type": "stream",
     "text": [
      "\r6%"
     ]
    },
    {
     "name": "stdout",
     "output_type": "stream",
     "text": [
      "\r6%"
     ]
    },
    {
     "name": "stdout",
     "output_type": "stream",
     "text": [
      "\r6%"
     ]
    },
    {
     "name": "stdout",
     "output_type": "stream",
     "text": [
      "\r7%"
     ]
    },
    {
     "name": "stdout",
     "output_type": "stream",
     "text": [
      "\r7%"
     ]
    },
    {
     "name": "stdout",
     "output_type": "stream",
     "text": [
      "\r7%"
     ]
    },
    {
     "name": "stdout",
     "output_type": "stream",
     "text": [
      "\r7%"
     ]
    },
    {
     "name": "stdout",
     "output_type": "stream",
     "text": [
      "\r8%"
     ]
    },
    {
     "name": "stdout",
     "output_type": "stream",
     "text": [
      "\r8%"
     ]
    },
    {
     "name": "stdout",
     "output_type": "stream",
     "text": [
      "\r8%"
     ]
    },
    {
     "name": "stdout",
     "output_type": "stream",
     "text": [
      "\r9%"
     ]
    },
    {
     "name": "stdout",
     "output_type": "stream",
     "text": [
      "\r9%"
     ]
    },
    {
     "name": "stdout",
     "output_type": "stream",
     "text": [
      "\r9%"
     ]
    },
    {
     "name": "stdout",
     "output_type": "stream",
     "text": [
      "\r9%"
     ]
    },
    {
     "name": "stdout",
     "output_type": "stream",
     "text": [
      "\r10%"
     ]
    },
    {
     "name": "stdout",
     "output_type": "stream",
     "text": [
      "\r10%"
     ]
    },
    {
     "name": "stdout",
     "output_type": "stream",
     "text": [
      "\r10%"
     ]
    },
    {
     "name": "stdout",
     "output_type": "stream",
     "text": [
      "\r10%"
     ]
    },
    {
     "name": "stdout",
     "output_type": "stream",
     "text": [
      "\r11%"
     ]
    },
    {
     "name": "stdout",
     "output_type": "stream",
     "text": [
      "\r11%"
     ]
    },
    {
     "name": "stdout",
     "output_type": "stream",
     "text": [
      "\r11%"
     ]
    },
    {
     "name": "stdout",
     "output_type": "stream",
     "text": [
      "\r12%"
     ]
    },
    {
     "name": "stdout",
     "output_type": "stream",
     "text": [
      "\r12%"
     ]
    },
    {
     "name": "stdout",
     "output_type": "stream",
     "text": [
      "\r12%"
     ]
    },
    {
     "name": "stdout",
     "output_type": "stream",
     "text": [
      "\r12%"
     ]
    },
    {
     "name": "stdout",
     "output_type": "stream",
     "text": [
      "\r13%"
     ]
    },
    {
     "name": "stdout",
     "output_type": "stream",
     "text": [
      "\r13%"
     ]
    },
    {
     "name": "stdout",
     "output_type": "stream",
     "text": [
      "\r13%"
     ]
    },
    {
     "name": "stdout",
     "output_type": "stream",
     "text": [
      "\r13%"
     ]
    },
    {
     "name": "stdout",
     "output_type": "stream",
     "text": [
      "\r14%"
     ]
    },
    {
     "name": "stdout",
     "output_type": "stream",
     "text": [
      "\r14%"
     ]
    },
    {
     "name": "stdout",
     "output_type": "stream",
     "text": [
      "\r14%"
     ]
    },
    {
     "name": "stdout",
     "output_type": "stream",
     "text": [
      "\r15%"
     ]
    },
    {
     "name": "stdout",
     "output_type": "stream",
     "text": [
      "\r15%"
     ]
    },
    {
     "name": "stdout",
     "output_type": "stream",
     "text": [
      "\r15%"
     ]
    },
    {
     "name": "stdout",
     "output_type": "stream",
     "text": [
      "\r15%"
     ]
    },
    {
     "name": "stdout",
     "output_type": "stream",
     "text": [
      "\r16%"
     ]
    },
    {
     "name": "stdout",
     "output_type": "stream",
     "text": [
      "\r16%"
     ]
    },
    {
     "name": "stdout",
     "output_type": "stream",
     "text": [
      "\r16%"
     ]
    },
    {
     "name": "stdout",
     "output_type": "stream",
     "text": [
      "\r16%"
     ]
    },
    {
     "name": "stdout",
     "output_type": "stream",
     "text": [
      "\r17%"
     ]
    },
    {
     "name": "stdout",
     "output_type": "stream",
     "text": [
      "\r17%"
     ]
    },
    {
     "name": "stdout",
     "output_type": "stream",
     "text": [
      "\r17%"
     ]
    },
    {
     "name": "stdout",
     "output_type": "stream",
     "text": [
      "\r18%"
     ]
    },
    {
     "name": "stdout",
     "output_type": "stream",
     "text": [
      "\r18%"
     ]
    },
    {
     "name": "stdout",
     "output_type": "stream",
     "text": [
      "\r18%"
     ]
    },
    {
     "name": "stdout",
     "output_type": "stream",
     "text": [
      "\r18%"
     ]
    },
    {
     "name": "stdout",
     "output_type": "stream",
     "text": [
      "\r19%"
     ]
    },
    {
     "name": "stdout",
     "output_type": "stream",
     "text": [
      "\r19%"
     ]
    },
    {
     "name": "stdout",
     "output_type": "stream",
     "text": [
      "\r19%"
     ]
    },
    {
     "name": "stdout",
     "output_type": "stream",
     "text": [
      "\r19%"
     ]
    },
    {
     "name": "stdout",
     "output_type": "stream",
     "text": [
      "\r20%"
     ]
    },
    {
     "name": "stdout",
     "output_type": "stream",
     "text": [
      "\r20%"
     ]
    },
    {
     "name": "stdout",
     "output_type": "stream",
     "text": [
      "\r20%"
     ]
    },
    {
     "name": "stdout",
     "output_type": "stream",
     "text": [
      "\r21%"
     ]
    },
    {
     "name": "stdout",
     "output_type": "stream",
     "text": [
      "\r21%"
     ]
    },
    {
     "name": "stdout",
     "output_type": "stream",
     "text": [
      "\r21%"
     ]
    },
    {
     "name": "stdout",
     "output_type": "stream",
     "text": [
      "\r21%"
     ]
    },
    {
     "name": "stdout",
     "output_type": "stream",
     "text": [
      "\r22%"
     ]
    },
    {
     "name": "stdout",
     "output_type": "stream",
     "text": [
      "\r22%"
     ]
    },
    {
     "name": "stdout",
     "output_type": "stream",
     "text": [
      "\r22%"
     ]
    },
    {
     "name": "stdout",
     "output_type": "stream",
     "text": [
      "\r22%"
     ]
    },
    {
     "name": "stdout",
     "output_type": "stream",
     "text": [
      "\r23%"
     ]
    },
    {
     "name": "stdout",
     "output_type": "stream",
     "text": [
      "\r23%"
     ]
    },
    {
     "name": "stdout",
     "output_type": "stream",
     "text": [
      "\r23%"
     ]
    },
    {
     "name": "stdout",
     "output_type": "stream",
     "text": [
      "\r24%"
     ]
    },
    {
     "name": "stdout",
     "output_type": "stream",
     "text": [
      "\r24%"
     ]
    },
    {
     "name": "stdout",
     "output_type": "stream",
     "text": [
      "\r24%"
     ]
    },
    {
     "name": "stdout",
     "output_type": "stream",
     "text": [
      "\r24%"
     ]
    },
    {
     "name": "stdout",
     "output_type": "stream",
     "text": [
      "\r25%"
     ]
    },
    {
     "name": "stdout",
     "output_type": "stream",
     "text": [
      "\r25%"
     ]
    },
    {
     "name": "stdout",
     "output_type": "stream",
     "text": [
      "\r25%"
     ]
    },
    {
     "name": "stdout",
     "output_type": "stream",
     "text": [
      "\r25%"
     ]
    },
    {
     "name": "stdout",
     "output_type": "stream",
     "text": [
      "\r26%"
     ]
    },
    {
     "name": "stdout",
     "output_type": "stream",
     "text": [
      "\r26%"
     ]
    },
    {
     "name": "stdout",
     "output_type": "stream",
     "text": [
      "\r26%"
     ]
    },
    {
     "name": "stdout",
     "output_type": "stream",
     "text": [
      "\r27%"
     ]
    },
    {
     "name": "stdout",
     "output_type": "stream",
     "text": [
      "\r27%"
     ]
    },
    {
     "name": "stdout",
     "output_type": "stream",
     "text": [
      "\r27%"
     ]
    },
    {
     "name": "stdout",
     "output_type": "stream",
     "text": [
      "\r27%"
     ]
    },
    {
     "name": "stdout",
     "output_type": "stream",
     "text": [
      "\r28%"
     ]
    },
    {
     "name": "stdout",
     "output_type": "stream",
     "text": [
      "\r28%"
     ]
    },
    {
     "name": "stdout",
     "output_type": "stream",
     "text": [
      "\r28%"
     ]
    },
    {
     "name": "stdout",
     "output_type": "stream",
     "text": [
      "\r28%"
     ]
    },
    {
     "name": "stdout",
     "output_type": "stream",
     "text": [
      "\r29%"
     ]
    },
    {
     "name": "stdout",
     "output_type": "stream",
     "text": [
      "\r29%"
     ]
    },
    {
     "name": "stdout",
     "output_type": "stream",
     "text": [
      "\r29%"
     ]
    },
    {
     "name": "stdout",
     "output_type": "stream",
     "text": [
      "\r30%"
     ]
    },
    {
     "name": "stdout",
     "output_type": "stream",
     "text": [
      "\r30%"
     ]
    },
    {
     "name": "stdout",
     "output_type": "stream",
     "text": [
      "\r30%"
     ]
    },
    {
     "name": "stdout",
     "output_type": "stream",
     "text": [
      "\r30%"
     ]
    },
    {
     "name": "stdout",
     "output_type": "stream",
     "text": [
      "\r31%"
     ]
    },
    {
     "name": "stdout",
     "output_type": "stream",
     "text": [
      "\r31%"
     ]
    },
    {
     "name": "stdout",
     "output_type": "stream",
     "text": [
      "\r31%"
     ]
    },
    {
     "name": "stdout",
     "output_type": "stream",
     "text": [
      "\r31%"
     ]
    },
    {
     "name": "stdout",
     "output_type": "stream",
     "text": [
      "\r32%"
     ]
    },
    {
     "name": "stdout",
     "output_type": "stream",
     "text": [
      "\r32%"
     ]
    },
    {
     "name": "stdout",
     "output_type": "stream",
     "text": [
      "\r32%"
     ]
    },
    {
     "name": "stdout",
     "output_type": "stream",
     "text": [
      "\r33%"
     ]
    },
    {
     "name": "stdout",
     "output_type": "stream",
     "text": [
      "\r33%"
     ]
    },
    {
     "name": "stdout",
     "output_type": "stream",
     "text": [
      "\r33%"
     ]
    },
    {
     "name": "stdout",
     "output_type": "stream",
     "text": [
      "\r33%"
     ]
    },
    {
     "name": "stdout",
     "output_type": "stream",
     "text": [
      "\r34%"
     ]
    },
    {
     "name": "stdout",
     "output_type": "stream",
     "text": [
      "\r34%"
     ]
    },
    {
     "name": "stdout",
     "output_type": "stream",
     "text": [
      "\r34%"
     ]
    },
    {
     "name": "stdout",
     "output_type": "stream",
     "text": [
      "\r34%"
     ]
    },
    {
     "name": "stdout",
     "output_type": "stream",
     "text": [
      "\r35%"
     ]
    },
    {
     "name": "stdout",
     "output_type": "stream",
     "text": [
      "\r35%"
     ]
    },
    {
     "name": "stdout",
     "output_type": "stream",
     "text": [
      "\r35%"
     ]
    },
    {
     "name": "stdout",
     "output_type": "stream",
     "text": [
      "\r36%"
     ]
    },
    {
     "name": "stdout",
     "output_type": "stream",
     "text": [
      "\r36%"
     ]
    },
    {
     "name": "stdout",
     "output_type": "stream",
     "text": [
      "\r36%"
     ]
    },
    {
     "name": "stdout",
     "output_type": "stream",
     "text": [
      "\r36%"
     ]
    },
    {
     "name": "stdout",
     "output_type": "stream",
     "text": [
      "\r37%"
     ]
    },
    {
     "name": "stdout",
     "output_type": "stream",
     "text": [
      "\r37%"
     ]
    },
    {
     "name": "stdout",
     "output_type": "stream",
     "text": [
      "\r37%"
     ]
    },
    {
     "name": "stdout",
     "output_type": "stream",
     "text": [
      "\r37%"
     ]
    },
    {
     "name": "stdout",
     "output_type": "stream",
     "text": [
      "\r38%"
     ]
    },
    {
     "name": "stdout",
     "output_type": "stream",
     "text": [
      "\r38%"
     ]
    },
    {
     "name": "stdout",
     "output_type": "stream",
     "text": [
      "\r38%"
     ]
    },
    {
     "name": "stdout",
     "output_type": "stream",
     "text": [
      "\r39%"
     ]
    },
    {
     "name": "stdout",
     "output_type": "stream",
     "text": [
      "\r39%"
     ]
    },
    {
     "name": "stdout",
     "output_type": "stream",
     "text": [
      "\r39%"
     ]
    },
    {
     "name": "stdout",
     "output_type": "stream",
     "text": [
      "\r39%"
     ]
    },
    {
     "name": "stdout",
     "output_type": "stream",
     "text": [
      "\r40%"
     ]
    },
    {
     "name": "stdout",
     "output_type": "stream",
     "text": [
      "\r40%"
     ]
    },
    {
     "name": "stdout",
     "output_type": "stream",
     "text": [
      "\r40%"
     ]
    },
    {
     "name": "stdout",
     "output_type": "stream",
     "text": [
      "\r40%"
     ]
    },
    {
     "name": "stdout",
     "output_type": "stream",
     "text": [
      "\r41%"
     ]
    },
    {
     "name": "stdout",
     "output_type": "stream",
     "text": [
      "\r41%"
     ]
    },
    {
     "name": "stdout",
     "output_type": "stream",
     "text": [
      "\r41%"
     ]
    },
    {
     "name": "stdout",
     "output_type": "stream",
     "text": [
      "\r42%"
     ]
    },
    {
     "name": "stdout",
     "output_type": "stream",
     "text": [
      "\r42%"
     ]
    },
    {
     "name": "stdout",
     "output_type": "stream",
     "text": [
      "\r42%"
     ]
    },
    {
     "name": "stdout",
     "output_type": "stream",
     "text": [
      "\r42%"
     ]
    },
    {
     "name": "stdout",
     "output_type": "stream",
     "text": [
      "\r43%"
     ]
    },
    {
     "name": "stdout",
     "output_type": "stream",
     "text": [
      "\r43%"
     ]
    },
    {
     "name": "stdout",
     "output_type": "stream",
     "text": [
      "\r43%"
     ]
    },
    {
     "name": "stdout",
     "output_type": "stream",
     "text": [
      "\r43%"
     ]
    },
    {
     "name": "stdout",
     "output_type": "stream",
     "text": [
      "\r44%"
     ]
    },
    {
     "name": "stdout",
     "output_type": "stream",
     "text": [
      "\r44%"
     ]
    },
    {
     "name": "stdout",
     "output_type": "stream",
     "text": [
      "\r44%"
     ]
    },
    {
     "name": "stdout",
     "output_type": "stream",
     "text": [
      "\r45%"
     ]
    },
    {
     "name": "stdout",
     "output_type": "stream",
     "text": [
      "\r45%"
     ]
    },
    {
     "name": "stdout",
     "output_type": "stream",
     "text": [
      "\r45%"
     ]
    },
    {
     "name": "stdout",
     "output_type": "stream",
     "text": [
      "\r45%"
     ]
    },
    {
     "name": "stdout",
     "output_type": "stream",
     "text": [
      "\r46%"
     ]
    },
    {
     "name": "stdout",
     "output_type": "stream",
     "text": [
      "\r46%"
     ]
    },
    {
     "name": "stdout",
     "output_type": "stream",
     "text": [
      "\r46%"
     ]
    },
    {
     "name": "stdout",
     "output_type": "stream",
     "text": [
      "\r46%"
     ]
    },
    {
     "name": "stdout",
     "output_type": "stream",
     "text": [
      "\r47%"
     ]
    },
    {
     "name": "stdout",
     "output_type": "stream",
     "text": [
      "\r47%"
     ]
    },
    {
     "name": "stdout",
     "output_type": "stream",
     "text": [
      "\r47%"
     ]
    },
    {
     "name": "stdout",
     "output_type": "stream",
     "text": [
      "\r48%"
     ]
    },
    {
     "name": "stdout",
     "output_type": "stream",
     "text": [
      "\r48%"
     ]
    },
    {
     "name": "stdout",
     "output_type": "stream",
     "text": [
      "\r48%"
     ]
    },
    {
     "name": "stdout",
     "output_type": "stream",
     "text": [
      "\r48%"
     ]
    },
    {
     "name": "stdout",
     "output_type": "stream",
     "text": [
      "\r49%"
     ]
    },
    {
     "name": "stdout",
     "output_type": "stream",
     "text": [
      "\r49%"
     ]
    },
    {
     "name": "stdout",
     "output_type": "stream",
     "text": [
      "\r49%"
     ]
    },
    {
     "name": "stdout",
     "output_type": "stream",
     "text": [
      "\r50%"
     ]
    },
    {
     "name": "stdout",
     "output_type": "stream",
     "text": [
      "\r50%"
     ]
    },
    {
     "name": "stdout",
     "output_type": "stream",
     "text": [
      "\r50%"
     ]
    },
    {
     "name": "stdout",
     "output_type": "stream",
     "text": [
      "\r50%"
     ]
    },
    {
     "name": "stdout",
     "output_type": "stream",
     "text": [
      "\r51%"
     ]
    },
    {
     "name": "stdout",
     "output_type": "stream",
     "text": [
      "\r51%"
     ]
    },
    {
     "name": "stdout",
     "output_type": "stream",
     "text": [
      "\r51%"
     ]
    },
    {
     "name": "stdout",
     "output_type": "stream",
     "text": [
      "\r51%"
     ]
    },
    {
     "name": "stdout",
     "output_type": "stream",
     "text": [
      "\r52%"
     ]
    },
    {
     "name": "stdout",
     "output_type": "stream",
     "text": [
      "\r52%"
     ]
    },
    {
     "name": "stdout",
     "output_type": "stream",
     "text": [
      "\r52%"
     ]
    },
    {
     "name": "stdout",
     "output_type": "stream",
     "text": [
      "\r53%"
     ]
    },
    {
     "name": "stdout",
     "output_type": "stream",
     "text": [
      "\r53%"
     ]
    },
    {
     "name": "stdout",
     "output_type": "stream",
     "text": [
      "\r53%"
     ]
    },
    {
     "name": "stdout",
     "output_type": "stream",
     "text": [
      "\r53%"
     ]
    },
    {
     "name": "stdout",
     "output_type": "stream",
     "text": [
      "\r54%"
     ]
    },
    {
     "name": "stdout",
     "output_type": "stream",
     "text": [
      "\r54%"
     ]
    },
    {
     "name": "stdout",
     "output_type": "stream",
     "text": [
      "\r54%"
     ]
    },
    {
     "name": "stdout",
     "output_type": "stream",
     "text": [
      "\r54%"
     ]
    },
    {
     "name": "stdout",
     "output_type": "stream",
     "text": [
      "\r55%"
     ]
    },
    {
     "name": "stdout",
     "output_type": "stream",
     "text": [
      "\r55%"
     ]
    },
    {
     "name": "stdout",
     "output_type": "stream",
     "text": [
      "\r55%"
     ]
    },
    {
     "name": "stdout",
     "output_type": "stream",
     "text": [
      "\r56%"
     ]
    },
    {
     "name": "stdout",
     "output_type": "stream",
     "text": [
      "\r56%"
     ]
    },
    {
     "name": "stdout",
     "output_type": "stream",
     "text": [
      "\r56%"
     ]
    },
    {
     "name": "stdout",
     "output_type": "stream",
     "text": [
      "\r56%"
     ]
    },
    {
     "name": "stdout",
     "output_type": "stream",
     "text": [
      "\r57%"
     ]
    },
    {
     "name": "stdout",
     "output_type": "stream",
     "text": [
      "\r57%"
     ]
    },
    {
     "name": "stdout",
     "output_type": "stream",
     "text": [
      "\r57%"
     ]
    },
    {
     "name": "stdout",
     "output_type": "stream",
     "text": [
      "\r57%"
     ]
    },
    {
     "name": "stdout",
     "output_type": "stream",
     "text": [
      "\r58%"
     ]
    },
    {
     "name": "stdout",
     "output_type": "stream",
     "text": [
      "\r58%"
     ]
    },
    {
     "name": "stdout",
     "output_type": "stream",
     "text": [
      "\r58%"
     ]
    },
    {
     "name": "stdout",
     "output_type": "stream",
     "text": [
      "\r59%"
     ]
    },
    {
     "name": "stdout",
     "output_type": "stream",
     "text": [
      "\r59%"
     ]
    },
    {
     "name": "stdout",
     "output_type": "stream",
     "text": [
      "\r59%"
     ]
    },
    {
     "name": "stdout",
     "output_type": "stream",
     "text": [
      "\r59%"
     ]
    },
    {
     "name": "stdout",
     "output_type": "stream",
     "text": [
      "\r60%"
     ]
    },
    {
     "name": "stdout",
     "output_type": "stream",
     "text": [
      "\r60%"
     ]
    },
    {
     "name": "stdout",
     "output_type": "stream",
     "text": [
      "\r60%"
     ]
    },
    {
     "name": "stdout",
     "output_type": "stream",
     "text": [
      "\r60%"
     ]
    },
    {
     "name": "stdout",
     "output_type": "stream",
     "text": [
      "\r61%"
     ]
    },
    {
     "name": "stdout",
     "output_type": "stream",
     "text": [
      "\r61%"
     ]
    },
    {
     "name": "stdout",
     "output_type": "stream",
     "text": [
      "\r61%"
     ]
    },
    {
     "name": "stdout",
     "output_type": "stream",
     "text": [
      "\r62%"
     ]
    },
    {
     "name": "stdout",
     "output_type": "stream",
     "text": [
      "\r62%"
     ]
    },
    {
     "name": "stdout",
     "output_type": "stream",
     "text": [
      "\r62%"
     ]
    },
    {
     "name": "stdout",
     "output_type": "stream",
     "text": [
      "\r62%"
     ]
    },
    {
     "name": "stdout",
     "output_type": "stream",
     "text": [
      "\r63%"
     ]
    },
    {
     "name": "stdout",
     "output_type": "stream",
     "text": [
      "\r63%"
     ]
    },
    {
     "name": "stdout",
     "output_type": "stream",
     "text": [
      "\r63%"
     ]
    },
    {
     "name": "stdout",
     "output_type": "stream",
     "text": [
      "\r63%"
     ]
    },
    {
     "name": "stdout",
     "output_type": "stream",
     "text": [
      "\r64%"
     ]
    },
    {
     "name": "stdout",
     "output_type": "stream",
     "text": [
      "\r64%"
     ]
    },
    {
     "name": "stdout",
     "output_type": "stream",
     "text": [
      "\r64%"
     ]
    },
    {
     "name": "stdout",
     "output_type": "stream",
     "text": [
      "\r65%"
     ]
    },
    {
     "name": "stdout",
     "output_type": "stream",
     "text": [
      "\r65%"
     ]
    },
    {
     "name": "stdout",
     "output_type": "stream",
     "text": [
      "\r65%"
     ]
    },
    {
     "name": "stdout",
     "output_type": "stream",
     "text": [
      "\r65%"
     ]
    },
    {
     "name": "stdout",
     "output_type": "stream",
     "text": [
      "\r66%"
     ]
    },
    {
     "name": "stdout",
     "output_type": "stream",
     "text": [
      "\r66%"
     ]
    },
    {
     "name": "stdout",
     "output_type": "stream",
     "text": [
      "\r66%"
     ]
    },
    {
     "name": "stdout",
     "output_type": "stream",
     "text": [
      "\r66%"
     ]
    },
    {
     "name": "stdout",
     "output_type": "stream",
     "text": [
      "\r67%"
     ]
    },
    {
     "name": "stdout",
     "output_type": "stream",
     "text": [
      "\r67%"
     ]
    },
    {
     "name": "stdout",
     "output_type": "stream",
     "text": [
      "\r67%"
     ]
    },
    {
     "name": "stdout",
     "output_type": "stream",
     "text": [
      "\r68%"
     ]
    },
    {
     "name": "stdout",
     "output_type": "stream",
     "text": [
      "\r68%"
     ]
    },
    {
     "name": "stdout",
     "output_type": "stream",
     "text": [
      "\r68%"
     ]
    },
    {
     "name": "stdout",
     "output_type": "stream",
     "text": [
      "\r68%"
     ]
    },
    {
     "name": "stdout",
     "output_type": "stream",
     "text": [
      "\r69%"
     ]
    },
    {
     "name": "stdout",
     "output_type": "stream",
     "text": [
      "\r69%"
     ]
    },
    {
     "name": "stdout",
     "output_type": "stream",
     "text": [
      "\r69%"
     ]
    },
    {
     "name": "stdout",
     "output_type": "stream",
     "text": [
      "\r69%"
     ]
    },
    {
     "name": "stdout",
     "output_type": "stream",
     "text": [
      "\r70%"
     ]
    },
    {
     "name": "stdout",
     "output_type": "stream",
     "text": [
      "\r70%"
     ]
    },
    {
     "name": "stdout",
     "output_type": "stream",
     "text": [
      "\r70%"
     ]
    },
    {
     "name": "stdout",
     "output_type": "stream",
     "text": [
      "\r71%"
     ]
    },
    {
     "name": "stdout",
     "output_type": "stream",
     "text": [
      "\r71%"
     ]
    },
    {
     "name": "stdout",
     "output_type": "stream",
     "text": [
      "\r71%"
     ]
    },
    {
     "name": "stdout",
     "output_type": "stream",
     "text": [
      "\r71%"
     ]
    },
    {
     "name": "stdout",
     "output_type": "stream",
     "text": [
      "\r72%"
     ]
    },
    {
     "name": "stdout",
     "output_type": "stream",
     "text": [
      "\r72%"
     ]
    },
    {
     "name": "stdout",
     "output_type": "stream",
     "text": [
      "\r72%"
     ]
    },
    {
     "name": "stdout",
     "output_type": "stream",
     "text": [
      "\r72%"
     ]
    },
    {
     "name": "stdout",
     "output_type": "stream",
     "text": [
      "\r73%"
     ]
    },
    {
     "name": "stdout",
     "output_type": "stream",
     "text": [
      "\r73%"
     ]
    },
    {
     "name": "stdout",
     "output_type": "stream",
     "text": [
      "\r73%"
     ]
    },
    {
     "name": "stdout",
     "output_type": "stream",
     "text": [
      "\r74%"
     ]
    },
    {
     "name": "stdout",
     "output_type": "stream",
     "text": [
      "\r74%"
     ]
    },
    {
     "name": "stdout",
     "output_type": "stream",
     "text": [
      "\r74%"
     ]
    },
    {
     "name": "stdout",
     "output_type": "stream",
     "text": [
      "\r74%"
     ]
    },
    {
     "name": "stdout",
     "output_type": "stream",
     "text": [
      "\r75%"
     ]
    },
    {
     "name": "stdout",
     "output_type": "stream",
     "text": [
      "\r75%"
     ]
    },
    {
     "name": "stdout",
     "output_type": "stream",
     "text": [
      "\r75%"
     ]
    },
    {
     "name": "stdout",
     "output_type": "stream",
     "text": [
      "\r75%"
     ]
    },
    {
     "name": "stdout",
     "output_type": "stream",
     "text": [
      "\r76%"
     ]
    },
    {
     "name": "stdout",
     "output_type": "stream",
     "text": [
      "\r76%"
     ]
    },
    {
     "name": "stdout",
     "output_type": "stream",
     "text": [
      "\r76%"
     ]
    },
    {
     "name": "stdout",
     "output_type": "stream",
     "text": [
      "\r77%"
     ]
    },
    {
     "name": "stdout",
     "output_type": "stream",
     "text": [
      "\r77%"
     ]
    },
    {
     "name": "stdout",
     "output_type": "stream",
     "text": [
      "\r77%"
     ]
    },
    {
     "name": "stdout",
     "output_type": "stream",
     "text": [
      "\r77%"
     ]
    },
    {
     "name": "stdout",
     "output_type": "stream",
     "text": [
      "\r78%"
     ]
    },
    {
     "name": "stdout",
     "output_type": "stream",
     "text": [
      "\r78%"
     ]
    },
    {
     "name": "stdout",
     "output_type": "stream",
     "text": [
      "\r78%"
     ]
    },
    {
     "name": "stdout",
     "output_type": "stream",
     "text": [
      "\r78%"
     ]
    },
    {
     "name": "stdout",
     "output_type": "stream",
     "text": [
      "\r79%"
     ]
    },
    {
     "name": "stdout",
     "output_type": "stream",
     "text": [
      "\r79%"
     ]
    },
    {
     "name": "stdout",
     "output_type": "stream",
     "text": [
      "\r79%"
     ]
    },
    {
     "name": "stdout",
     "output_type": "stream",
     "text": [
      "\r80%"
     ]
    },
    {
     "name": "stdout",
     "output_type": "stream",
     "text": [
      "\r80%"
     ]
    },
    {
     "name": "stdout",
     "output_type": "stream",
     "text": [
      "\r80%"
     ]
    },
    {
     "name": "stdout",
     "output_type": "stream",
     "text": [
      "\r80%"
     ]
    },
    {
     "name": "stdout",
     "output_type": "stream",
     "text": [
      "\r81%"
     ]
    },
    {
     "name": "stdout",
     "output_type": "stream",
     "text": [
      "\r81%"
     ]
    },
    {
     "name": "stdout",
     "output_type": "stream",
     "text": [
      "\r81%"
     ]
    },
    {
     "name": "stdout",
     "output_type": "stream",
     "text": [
      "\r81%"
     ]
    },
    {
     "name": "stdout",
     "output_type": "stream",
     "text": [
      "\r82%"
     ]
    },
    {
     "name": "stdout",
     "output_type": "stream",
     "text": [
      "\r82%"
     ]
    },
    {
     "name": "stdout",
     "output_type": "stream",
     "text": [
      "\r82%"
     ]
    },
    {
     "name": "stdout",
     "output_type": "stream",
     "text": [
      "\r83%"
     ]
    },
    {
     "name": "stdout",
     "output_type": "stream",
     "text": [
      "\r83%"
     ]
    },
    {
     "name": "stdout",
     "output_type": "stream",
     "text": [
      "\r83%"
     ]
    },
    {
     "name": "stdout",
     "output_type": "stream",
     "text": [
      "\r83%"
     ]
    },
    {
     "name": "stdout",
     "output_type": "stream",
     "text": [
      "\r84%"
     ]
    },
    {
     "name": "stdout",
     "output_type": "stream",
     "text": [
      "\r84%"
     ]
    },
    {
     "name": "stdout",
     "output_type": "stream",
     "text": [
      "\r84%"
     ]
    },
    {
     "name": "stdout",
     "output_type": "stream",
     "text": [
      "\r84%"
     ]
    },
    {
     "name": "stdout",
     "output_type": "stream",
     "text": [
      "\r85%"
     ]
    },
    {
     "name": "stdout",
     "output_type": "stream",
     "text": [
      "\r85%"
     ]
    },
    {
     "name": "stdout",
     "output_type": "stream",
     "text": [
      "\r85%"
     ]
    },
    {
     "name": "stdout",
     "output_type": "stream",
     "text": [
      "\r86%"
     ]
    },
    {
     "name": "stdout",
     "output_type": "stream",
     "text": [
      "\r86%"
     ]
    },
    {
     "name": "stdout",
     "output_type": "stream",
     "text": [
      "\r86%"
     ]
    },
    {
     "name": "stdout",
     "output_type": "stream",
     "text": [
      "\r86%"
     ]
    },
    {
     "name": "stdout",
     "output_type": "stream",
     "text": [
      "\r87%"
     ]
    },
    {
     "name": "stdout",
     "output_type": "stream",
     "text": [
      "\r87%"
     ]
    },
    {
     "name": "stdout",
     "output_type": "stream",
     "text": [
      "\r87%"
     ]
    },
    {
     "name": "stdout",
     "output_type": "stream",
     "text": [
      "\r87%"
     ]
    },
    {
     "name": "stdout",
     "output_type": "stream",
     "text": [
      "\r88%"
     ]
    },
    {
     "name": "stdout",
     "output_type": "stream",
     "text": [
      "\r88%"
     ]
    },
    {
     "name": "stdout",
     "output_type": "stream",
     "text": [
      "\r88%"
     ]
    },
    {
     "name": "stdout",
     "output_type": "stream",
     "text": [
      "\r89%"
     ]
    },
    {
     "name": "stdout",
     "output_type": "stream",
     "text": [
      "\r89%"
     ]
    },
    {
     "name": "stdout",
     "output_type": "stream",
     "text": [
      "\r89%"
     ]
    },
    {
     "name": "stdout",
     "output_type": "stream",
     "text": [
      "\r89%"
     ]
    },
    {
     "name": "stdout",
     "output_type": "stream",
     "text": [
      "\r90%"
     ]
    },
    {
     "name": "stdout",
     "output_type": "stream",
     "text": [
      "\r90%"
     ]
    },
    {
     "name": "stdout",
     "output_type": "stream",
     "text": [
      "\r90%"
     ]
    },
    {
     "name": "stdout",
     "output_type": "stream",
     "text": [
      "\r90%"
     ]
    },
    {
     "name": "stdout",
     "output_type": "stream",
     "text": [
      "\r91%"
     ]
    },
    {
     "name": "stdout",
     "output_type": "stream",
     "text": [
      "\r91%"
     ]
    },
    {
     "name": "stdout",
     "output_type": "stream",
     "text": [
      "\r91%"
     ]
    },
    {
     "name": "stdout",
     "output_type": "stream",
     "text": [
      "\r92%"
     ]
    },
    {
     "name": "stdout",
     "output_type": "stream",
     "text": [
      "\r92%"
     ]
    },
    {
     "name": "stdout",
     "output_type": "stream",
     "text": [
      "\r92%"
     ]
    },
    {
     "name": "stdout",
     "output_type": "stream",
     "text": [
      "\r92%"
     ]
    },
    {
     "name": "stdout",
     "output_type": "stream",
     "text": [
      "\r93%"
     ]
    },
    {
     "name": "stdout",
     "output_type": "stream",
     "text": [
      "\r93%"
     ]
    },
    {
     "name": "stdout",
     "output_type": "stream",
     "text": [
      "\r93%"
     ]
    },
    {
     "name": "stdout",
     "output_type": "stream",
     "text": [
      "\r93%"
     ]
    },
    {
     "name": "stdout",
     "output_type": "stream",
     "text": [
      "\r94%"
     ]
    },
    {
     "name": "stdout",
     "output_type": "stream",
     "text": [
      "\r94%"
     ]
    },
    {
     "name": "stdout",
     "output_type": "stream",
     "text": [
      "\r94%"
     ]
    },
    {
     "name": "stdout",
     "output_type": "stream",
     "text": [
      "\r95%"
     ]
    },
    {
     "name": "stdout",
     "output_type": "stream",
     "text": [
      "\r95%"
     ]
    },
    {
     "name": "stdout",
     "output_type": "stream",
     "text": [
      "\r95%"
     ]
    },
    {
     "name": "stdout",
     "output_type": "stream",
     "text": [
      "\r95%"
     ]
    },
    {
     "name": "stdout",
     "output_type": "stream",
     "text": [
      "\r96%"
     ]
    },
    {
     "name": "stdout",
     "output_type": "stream",
     "text": [
      "\r96%"
     ]
    },
    {
     "name": "stdout",
     "output_type": "stream",
     "text": [
      "\r96%"
     ]
    },
    {
     "name": "stdout",
     "output_type": "stream",
     "text": [
      "\r96%"
     ]
    },
    {
     "name": "stdout",
     "output_type": "stream",
     "text": [
      "\r97%"
     ]
    },
    {
     "name": "stdout",
     "output_type": "stream",
     "text": [
      "\r97%"
     ]
    },
    {
     "name": "stdout",
     "output_type": "stream",
     "text": [
      "\r97%"
     ]
    },
    {
     "name": "stdout",
     "output_type": "stream",
     "text": [
      "\r98%"
     ]
    },
    {
     "name": "stdout",
     "output_type": "stream",
     "text": [
      "\r98%"
     ]
    },
    {
     "name": "stdout",
     "output_type": "stream",
     "text": [
      "\r98%"
     ]
    },
    {
     "name": "stdout",
     "output_type": "stream",
     "text": [
      "\r98%"
     ]
    },
    {
     "name": "stdout",
     "output_type": "stream",
     "text": [
      "\r99%"
     ]
    },
    {
     "name": "stdout",
     "output_type": "stream",
     "text": [
      "\r99%"
     ]
    },
    {
     "name": "stdout",
     "output_type": "stream",
     "text": [
      "\r99%"
     ]
    },
    {
     "name": "stdout",
     "output_type": "stream",
     "text": [
      "\r1 훈련 MSE: 0.038391314\n"
     ]
    },
    {
     "name": "stdout",
     "output_type": "stream",
     "text": [
      "\r0%"
     ]
    },
    {
     "name": "stdout",
     "output_type": "stream",
     "text": [
      "\r0%"
     ]
    },
    {
     "name": "stdout",
     "output_type": "stream",
     "text": [
      "\r0%"
     ]
    },
    {
     "name": "stdout",
     "output_type": "stream",
     "text": [
      "\r0%"
     ]
    },
    {
     "name": "stdout",
     "output_type": "stream",
     "text": [
      "\r1%"
     ]
    },
    {
     "name": "stdout",
     "output_type": "stream",
     "text": [
      "\r1%"
     ]
    },
    {
     "name": "stdout",
     "output_type": "stream",
     "text": [
      "\r1%"
     ]
    },
    {
     "name": "stdout",
     "output_type": "stream",
     "text": [
      "\r1%"
     ]
    },
    {
     "name": "stdout",
     "output_type": "stream",
     "text": [
      "\r2%"
     ]
    },
    {
     "name": "stdout",
     "output_type": "stream",
     "text": [
      "\r2%"
     ]
    },
    {
     "name": "stdout",
     "output_type": "stream",
     "text": [
      "\r2%"
     ]
    },
    {
     "name": "stdout",
     "output_type": "stream",
     "text": [
      "\r3%"
     ]
    },
    {
     "name": "stdout",
     "output_type": "stream",
     "text": [
      "\r3%"
     ]
    },
    {
     "name": "stdout",
     "output_type": "stream",
     "text": [
      "\r3%"
     ]
    },
    {
     "name": "stdout",
     "output_type": "stream",
     "text": [
      "\r3%"
     ]
    },
    {
     "name": "stdout",
     "output_type": "stream",
     "text": [
      "\r4%"
     ]
    },
    {
     "name": "stdout",
     "output_type": "stream",
     "text": [
      "\r4%"
     ]
    },
    {
     "name": "stdout",
     "output_type": "stream",
     "text": [
      "\r4%"
     ]
    },
    {
     "name": "stdout",
     "output_type": "stream",
     "text": [
      "\r4%"
     ]
    },
    {
     "name": "stdout",
     "output_type": "stream",
     "text": [
      "\r5%"
     ]
    },
    {
     "name": "stdout",
     "output_type": "stream",
     "text": [
      "\r5%"
     ]
    },
    {
     "name": "stdout",
     "output_type": "stream",
     "text": [
      "\r5%"
     ]
    },
    {
     "name": "stdout",
     "output_type": "stream",
     "text": [
      "\r6%"
     ]
    },
    {
     "name": "stdout",
     "output_type": "stream",
     "text": [
      "\r6%"
     ]
    },
    {
     "name": "stdout",
     "output_type": "stream",
     "text": [
      "\r6%"
     ]
    },
    {
     "name": "stdout",
     "output_type": "stream",
     "text": [
      "\r6%"
     ]
    },
    {
     "name": "stdout",
     "output_type": "stream",
     "text": [
      "\r7%"
     ]
    },
    {
     "name": "stdout",
     "output_type": "stream",
     "text": [
      "\r7%"
     ]
    },
    {
     "name": "stdout",
     "output_type": "stream",
     "text": [
      "\r7%"
     ]
    },
    {
     "name": "stdout",
     "output_type": "stream",
     "text": [
      "\r7%"
     ]
    },
    {
     "name": "stdout",
     "output_type": "stream",
     "text": [
      "\r8%"
     ]
    },
    {
     "name": "stdout",
     "output_type": "stream",
     "text": [
      "\r8%"
     ]
    },
    {
     "name": "stdout",
     "output_type": "stream",
     "text": [
      "\r8%"
     ]
    },
    {
     "name": "stdout",
     "output_type": "stream",
     "text": [
      "\r9%"
     ]
    },
    {
     "name": "stdout",
     "output_type": "stream",
     "text": [
      "\r9%"
     ]
    },
    {
     "name": "stdout",
     "output_type": "stream",
     "text": [
      "\r9%"
     ]
    },
    {
     "name": "stdout",
     "output_type": "stream",
     "text": [
      "\r9%"
     ]
    },
    {
     "name": "stdout",
     "output_type": "stream",
     "text": [
      "\r10%"
     ]
    },
    {
     "name": "stdout",
     "output_type": "stream",
     "text": [
      "\r10%"
     ]
    },
    {
     "name": "stdout",
     "output_type": "stream",
     "text": [
      "\r10%"
     ]
    },
    {
     "name": "stdout",
     "output_type": "stream",
     "text": [
      "\r10%"
     ]
    },
    {
     "name": "stdout",
     "output_type": "stream",
     "text": [
      "\r11%"
     ]
    },
    {
     "name": "stdout",
     "output_type": "stream",
     "text": [
      "\r11%"
     ]
    },
    {
     "name": "stdout",
     "output_type": "stream",
     "text": [
      "\r11%"
     ]
    },
    {
     "name": "stdout",
     "output_type": "stream",
     "text": [
      "\r12%"
     ]
    },
    {
     "name": "stdout",
     "output_type": "stream",
     "text": [
      "\r12%"
     ]
    },
    {
     "name": "stdout",
     "output_type": "stream",
     "text": [
      "\r12%"
     ]
    },
    {
     "name": "stdout",
     "output_type": "stream",
     "text": [
      "\r12%"
     ]
    },
    {
     "name": "stdout",
     "output_type": "stream",
     "text": [
      "\r13%"
     ]
    },
    {
     "name": "stdout",
     "output_type": "stream",
     "text": [
      "\r13%"
     ]
    },
    {
     "name": "stdout",
     "output_type": "stream",
     "text": [
      "\r13%"
     ]
    },
    {
     "name": "stdout",
     "output_type": "stream",
     "text": [
      "\r13%"
     ]
    },
    {
     "name": "stdout",
     "output_type": "stream",
     "text": [
      "\r14%"
     ]
    },
    {
     "name": "stdout",
     "output_type": "stream",
     "text": [
      "\r14%"
     ]
    },
    {
     "name": "stdout",
     "output_type": "stream",
     "text": [
      "\r14%"
     ]
    },
    {
     "name": "stdout",
     "output_type": "stream",
     "text": [
      "\r15%"
     ]
    },
    {
     "name": "stdout",
     "output_type": "stream",
     "text": [
      "\r15%"
     ]
    },
    {
     "name": "stdout",
     "output_type": "stream",
     "text": [
      "\r15%"
     ]
    },
    {
     "name": "stdout",
     "output_type": "stream",
     "text": [
      "\r15%"
     ]
    },
    {
     "name": "stdout",
     "output_type": "stream",
     "text": [
      "\r16%"
     ]
    },
    {
     "name": "stdout",
     "output_type": "stream",
     "text": [
      "\r16%"
     ]
    },
    {
     "name": "stdout",
     "output_type": "stream",
     "text": [
      "\r16%"
     ]
    },
    {
     "name": "stdout",
     "output_type": "stream",
     "text": [
      "\r16%"
     ]
    },
    {
     "name": "stdout",
     "output_type": "stream",
     "text": [
      "\r17%"
     ]
    },
    {
     "name": "stdout",
     "output_type": "stream",
     "text": [
      "\r17%"
     ]
    },
    {
     "name": "stdout",
     "output_type": "stream",
     "text": [
      "\r17%"
     ]
    },
    {
     "name": "stdout",
     "output_type": "stream",
     "text": [
      "\r18%"
     ]
    },
    {
     "name": "stdout",
     "output_type": "stream",
     "text": [
      "\r18%"
     ]
    },
    {
     "name": "stdout",
     "output_type": "stream",
     "text": [
      "\r18%"
     ]
    },
    {
     "name": "stdout",
     "output_type": "stream",
     "text": [
      "\r18%"
     ]
    },
    {
     "name": "stdout",
     "output_type": "stream",
     "text": [
      "\r19%"
     ]
    },
    {
     "name": "stdout",
     "output_type": "stream",
     "text": [
      "\r19%"
     ]
    },
    {
     "name": "stdout",
     "output_type": "stream",
     "text": [
      "\r19%"
     ]
    },
    {
     "name": "stdout",
     "output_type": "stream",
     "text": [
      "\r19%"
     ]
    },
    {
     "name": "stdout",
     "output_type": "stream",
     "text": [
      "\r20%"
     ]
    },
    {
     "name": "stdout",
     "output_type": "stream",
     "text": [
      "\r20%"
     ]
    },
    {
     "name": "stdout",
     "output_type": "stream",
     "text": [
      "\r20%"
     ]
    },
    {
     "name": "stdout",
     "output_type": "stream",
     "text": [
      "\r21%"
     ]
    },
    {
     "name": "stdout",
     "output_type": "stream",
     "text": [
      "\r21%"
     ]
    },
    {
     "name": "stdout",
     "output_type": "stream",
     "text": [
      "\r21%"
     ]
    },
    {
     "name": "stdout",
     "output_type": "stream",
     "text": [
      "\r21%"
     ]
    },
    {
     "name": "stdout",
     "output_type": "stream",
     "text": [
      "\r22%"
     ]
    },
    {
     "name": "stdout",
     "output_type": "stream",
     "text": [
      "\r22%"
     ]
    },
    {
     "name": "stdout",
     "output_type": "stream",
     "text": [
      "\r22%"
     ]
    },
    {
     "name": "stdout",
     "output_type": "stream",
     "text": [
      "\r22%"
     ]
    },
    {
     "name": "stdout",
     "output_type": "stream",
     "text": [
      "\r23%"
     ]
    },
    {
     "name": "stdout",
     "output_type": "stream",
     "text": [
      "\r23%"
     ]
    },
    {
     "name": "stdout",
     "output_type": "stream",
     "text": [
      "\r23%"
     ]
    },
    {
     "name": "stdout",
     "output_type": "stream",
     "text": [
      "\r24%"
     ]
    },
    {
     "name": "stdout",
     "output_type": "stream",
     "text": [
      "\r24%"
     ]
    },
    {
     "name": "stdout",
     "output_type": "stream",
     "text": [
      "\r24%"
     ]
    },
    {
     "name": "stdout",
     "output_type": "stream",
     "text": [
      "\r24%"
     ]
    },
    {
     "name": "stdout",
     "output_type": "stream",
     "text": [
      "\r25%"
     ]
    },
    {
     "name": "stdout",
     "output_type": "stream",
     "text": [
      "\r25%"
     ]
    },
    {
     "name": "stdout",
     "output_type": "stream",
     "text": [
      "\r25%"
     ]
    },
    {
     "name": "stdout",
     "output_type": "stream",
     "text": [
      "\r25%"
     ]
    },
    {
     "name": "stdout",
     "output_type": "stream",
     "text": [
      "\r26%"
     ]
    },
    {
     "name": "stdout",
     "output_type": "stream",
     "text": [
      "\r26%"
     ]
    },
    {
     "name": "stdout",
     "output_type": "stream",
     "text": [
      "\r26%"
     ]
    },
    {
     "name": "stdout",
     "output_type": "stream",
     "text": [
      "\r27%"
     ]
    },
    {
     "name": "stdout",
     "output_type": "stream",
     "text": [
      "\r27%"
     ]
    },
    {
     "name": "stdout",
     "output_type": "stream",
     "text": [
      "\r27%"
     ]
    },
    {
     "name": "stdout",
     "output_type": "stream",
     "text": [
      "\r27%"
     ]
    },
    {
     "name": "stdout",
     "output_type": "stream",
     "text": [
      "\r28%"
     ]
    },
    {
     "name": "stdout",
     "output_type": "stream",
     "text": [
      "\r28%"
     ]
    },
    {
     "name": "stdout",
     "output_type": "stream",
     "text": [
      "\r28%"
     ]
    },
    {
     "name": "stdout",
     "output_type": "stream",
     "text": [
      "\r28%"
     ]
    },
    {
     "name": "stdout",
     "output_type": "stream",
     "text": [
      "\r29%"
     ]
    },
    {
     "name": "stdout",
     "output_type": "stream",
     "text": [
      "\r29%"
     ]
    },
    {
     "name": "stdout",
     "output_type": "stream",
     "text": [
      "\r29%"
     ]
    },
    {
     "name": "stdout",
     "output_type": "stream",
     "text": [
      "\r30%"
     ]
    },
    {
     "name": "stdout",
     "output_type": "stream",
     "text": [
      "\r30%"
     ]
    },
    {
     "name": "stdout",
     "output_type": "stream",
     "text": [
      "\r30%"
     ]
    },
    {
     "name": "stdout",
     "output_type": "stream",
     "text": [
      "\r30%"
     ]
    },
    {
     "name": "stdout",
     "output_type": "stream",
     "text": [
      "\r31%"
     ]
    },
    {
     "name": "stdout",
     "output_type": "stream",
     "text": [
      "\r31%"
     ]
    },
    {
     "name": "stdout",
     "output_type": "stream",
     "text": [
      "\r31%"
     ]
    },
    {
     "name": "stdout",
     "output_type": "stream",
     "text": [
      "\r31%"
     ]
    },
    {
     "name": "stdout",
     "output_type": "stream",
     "text": [
      "\r32%"
     ]
    },
    {
     "name": "stdout",
     "output_type": "stream",
     "text": [
      "\r32%"
     ]
    },
    {
     "name": "stdout",
     "output_type": "stream",
     "text": [
      "\r32%"
     ]
    },
    {
     "name": "stdout",
     "output_type": "stream",
     "text": [
      "\r33%"
     ]
    },
    {
     "name": "stdout",
     "output_type": "stream",
     "text": [
      "\r33%"
     ]
    },
    {
     "name": "stdout",
     "output_type": "stream",
     "text": [
      "\r33%"
     ]
    },
    {
     "name": "stdout",
     "output_type": "stream",
     "text": [
      "\r33%"
     ]
    },
    {
     "name": "stdout",
     "output_type": "stream",
     "text": [
      "\r34%"
     ]
    },
    {
     "name": "stdout",
     "output_type": "stream",
     "text": [
      "\r34%"
     ]
    },
    {
     "name": "stdout",
     "output_type": "stream",
     "text": [
      "\r34%"
     ]
    },
    {
     "name": "stdout",
     "output_type": "stream",
     "text": [
      "\r34%"
     ]
    },
    {
     "name": "stdout",
     "output_type": "stream",
     "text": [
      "\r35%"
     ]
    },
    {
     "name": "stdout",
     "output_type": "stream",
     "text": [
      "\r35%"
     ]
    },
    {
     "name": "stdout",
     "output_type": "stream",
     "text": [
      "\r35%"
     ]
    },
    {
     "name": "stdout",
     "output_type": "stream",
     "text": [
      "\r36%"
     ]
    },
    {
     "name": "stdout",
     "output_type": "stream",
     "text": [
      "\r36%"
     ]
    },
    {
     "name": "stdout",
     "output_type": "stream",
     "text": [
      "\r36%"
     ]
    },
    {
     "name": "stdout",
     "output_type": "stream",
     "text": [
      "\r36%"
     ]
    },
    {
     "name": "stdout",
     "output_type": "stream",
     "text": [
      "\r37%"
     ]
    },
    {
     "name": "stdout",
     "output_type": "stream",
     "text": [
      "\r37%"
     ]
    },
    {
     "name": "stdout",
     "output_type": "stream",
     "text": [
      "\r37%"
     ]
    },
    {
     "name": "stdout",
     "output_type": "stream",
     "text": [
      "\r37%"
     ]
    },
    {
     "name": "stdout",
     "output_type": "stream",
     "text": [
      "\r38%"
     ]
    },
    {
     "name": "stdout",
     "output_type": "stream",
     "text": [
      "\r38%"
     ]
    },
    {
     "name": "stdout",
     "output_type": "stream",
     "text": [
      "\r38%"
     ]
    },
    {
     "name": "stdout",
     "output_type": "stream",
     "text": [
      "\r39%"
     ]
    },
    {
     "name": "stdout",
     "output_type": "stream",
     "text": [
      "\r39%"
     ]
    },
    {
     "name": "stdout",
     "output_type": "stream",
     "text": [
      "\r39%"
     ]
    },
    {
     "name": "stdout",
     "output_type": "stream",
     "text": [
      "\r39%"
     ]
    },
    {
     "name": "stdout",
     "output_type": "stream",
     "text": [
      "\r40%"
     ]
    },
    {
     "name": "stdout",
     "output_type": "stream",
     "text": [
      "\r40%"
     ]
    },
    {
     "name": "stdout",
     "output_type": "stream",
     "text": [
      "\r40%"
     ]
    },
    {
     "name": "stdout",
     "output_type": "stream",
     "text": [
      "\r40%"
     ]
    },
    {
     "name": "stdout",
     "output_type": "stream",
     "text": [
      "\r41%"
     ]
    },
    {
     "name": "stdout",
     "output_type": "stream",
     "text": [
      "\r41%"
     ]
    },
    {
     "name": "stdout",
     "output_type": "stream",
     "text": [
      "\r41%"
     ]
    },
    {
     "name": "stdout",
     "output_type": "stream",
     "text": [
      "\r42%"
     ]
    },
    {
     "name": "stdout",
     "output_type": "stream",
     "text": [
      "\r42%"
     ]
    },
    {
     "name": "stdout",
     "output_type": "stream",
     "text": [
      "\r42%"
     ]
    },
    {
     "name": "stdout",
     "output_type": "stream",
     "text": [
      "\r42%"
     ]
    },
    {
     "name": "stdout",
     "output_type": "stream",
     "text": [
      "\r43%"
     ]
    },
    {
     "name": "stdout",
     "output_type": "stream",
     "text": [
      "\r43%"
     ]
    },
    {
     "name": "stdout",
     "output_type": "stream",
     "text": [
      "\r43%"
     ]
    },
    {
     "name": "stdout",
     "output_type": "stream",
     "text": [
      "\r43%"
     ]
    },
    {
     "name": "stdout",
     "output_type": "stream",
     "text": [
      "\r44%"
     ]
    },
    {
     "name": "stdout",
     "output_type": "stream",
     "text": [
      "\r44%"
     ]
    },
    {
     "name": "stdout",
     "output_type": "stream",
     "text": [
      "\r44%"
     ]
    },
    {
     "name": "stdout",
     "output_type": "stream",
     "text": [
      "\r45%"
     ]
    },
    {
     "name": "stdout",
     "output_type": "stream",
     "text": [
      "\r45%"
     ]
    },
    {
     "name": "stdout",
     "output_type": "stream",
     "text": [
      "\r45%"
     ]
    },
    {
     "name": "stdout",
     "output_type": "stream",
     "text": [
      "\r45%"
     ]
    },
    {
     "name": "stdout",
     "output_type": "stream",
     "text": [
      "\r46%"
     ]
    },
    {
     "name": "stdout",
     "output_type": "stream",
     "text": [
      "\r46%"
     ]
    },
    {
     "name": "stdout",
     "output_type": "stream",
     "text": [
      "\r46%"
     ]
    },
    {
     "name": "stdout",
     "output_type": "stream",
     "text": [
      "\r46%"
     ]
    },
    {
     "name": "stdout",
     "output_type": "stream",
     "text": [
      "\r47%"
     ]
    },
    {
     "name": "stdout",
     "output_type": "stream",
     "text": [
      "\r47%"
     ]
    },
    {
     "name": "stdout",
     "output_type": "stream",
     "text": [
      "\r47%"
     ]
    },
    {
     "name": "stdout",
     "output_type": "stream",
     "text": [
      "\r48%"
     ]
    },
    {
     "name": "stdout",
     "output_type": "stream",
     "text": [
      "\r48%"
     ]
    },
    {
     "name": "stdout",
     "output_type": "stream",
     "text": [
      "\r48%"
     ]
    },
    {
     "name": "stdout",
     "output_type": "stream",
     "text": [
      "\r48%"
     ]
    },
    {
     "name": "stdout",
     "output_type": "stream",
     "text": [
      "\r49%"
     ]
    },
    {
     "name": "stdout",
     "output_type": "stream",
     "text": [
      "\r49%"
     ]
    },
    {
     "name": "stdout",
     "output_type": "stream",
     "text": [
      "\r49%"
     ]
    },
    {
     "name": "stdout",
     "output_type": "stream",
     "text": [
      "\r50%"
     ]
    },
    {
     "name": "stdout",
     "output_type": "stream",
     "text": [
      "\r50%"
     ]
    },
    {
     "name": "stdout",
     "output_type": "stream",
     "text": [
      "\r50%"
     ]
    },
    {
     "name": "stdout",
     "output_type": "stream",
     "text": [
      "\r50%"
     ]
    },
    {
     "name": "stdout",
     "output_type": "stream",
     "text": [
      "\r51%"
     ]
    },
    {
     "name": "stdout",
     "output_type": "stream",
     "text": [
      "\r51%"
     ]
    },
    {
     "name": "stdout",
     "output_type": "stream",
     "text": [
      "\r51%"
     ]
    },
    {
     "name": "stdout",
     "output_type": "stream",
     "text": [
      "\r51%"
     ]
    },
    {
     "name": "stdout",
     "output_type": "stream",
     "text": [
      "\r52%"
     ]
    },
    {
     "name": "stdout",
     "output_type": "stream",
     "text": [
      "\r52%"
     ]
    },
    {
     "name": "stdout",
     "output_type": "stream",
     "text": [
      "\r52%"
     ]
    },
    {
     "name": "stdout",
     "output_type": "stream",
     "text": [
      "\r53%"
     ]
    },
    {
     "name": "stdout",
     "output_type": "stream",
     "text": [
      "\r53%"
     ]
    },
    {
     "name": "stdout",
     "output_type": "stream",
     "text": [
      "\r53%"
     ]
    },
    {
     "name": "stdout",
     "output_type": "stream",
     "text": [
      "\r53%"
     ]
    },
    {
     "name": "stdout",
     "output_type": "stream",
     "text": [
      "\r54%"
     ]
    },
    {
     "name": "stdout",
     "output_type": "stream",
     "text": [
      "\r54%"
     ]
    },
    {
     "name": "stdout",
     "output_type": "stream",
     "text": [
      "\r54%"
     ]
    },
    {
     "name": "stdout",
     "output_type": "stream",
     "text": [
      "\r54%"
     ]
    },
    {
     "name": "stdout",
     "output_type": "stream",
     "text": [
      "\r55%"
     ]
    },
    {
     "name": "stdout",
     "output_type": "stream",
     "text": [
      "\r55%"
     ]
    },
    {
     "name": "stdout",
     "output_type": "stream",
     "text": [
      "\r55%"
     ]
    },
    {
     "name": "stdout",
     "output_type": "stream",
     "text": [
      "\r56%"
     ]
    },
    {
     "name": "stdout",
     "output_type": "stream",
     "text": [
      "\r56%"
     ]
    },
    {
     "name": "stdout",
     "output_type": "stream",
     "text": [
      "\r56%"
     ]
    },
    {
     "name": "stdout",
     "output_type": "stream",
     "text": [
      "\r56%"
     ]
    },
    {
     "name": "stdout",
     "output_type": "stream",
     "text": [
      "\r57%"
     ]
    },
    {
     "name": "stdout",
     "output_type": "stream",
     "text": [
      "\r57%"
     ]
    },
    {
     "name": "stdout",
     "output_type": "stream",
     "text": [
      "\r57%"
     ]
    },
    {
     "name": "stdout",
     "output_type": "stream",
     "text": [
      "\r57%"
     ]
    },
    {
     "name": "stdout",
     "output_type": "stream",
     "text": [
      "\r58%"
     ]
    },
    {
     "name": "stdout",
     "output_type": "stream",
     "text": [
      "\r58%"
     ]
    },
    {
     "name": "stdout",
     "output_type": "stream",
     "text": [
      "\r58%"
     ]
    },
    {
     "name": "stdout",
     "output_type": "stream",
     "text": [
      "\r59%"
     ]
    },
    {
     "name": "stdout",
     "output_type": "stream",
     "text": [
      "\r59%"
     ]
    },
    {
     "name": "stdout",
     "output_type": "stream",
     "text": [
      "\r59%"
     ]
    },
    {
     "name": "stdout",
     "output_type": "stream",
     "text": [
      "\r59%"
     ]
    },
    {
     "name": "stdout",
     "output_type": "stream",
     "text": [
      "\r60%"
     ]
    },
    {
     "name": "stdout",
     "output_type": "stream",
     "text": [
      "\r60%"
     ]
    },
    {
     "name": "stdout",
     "output_type": "stream",
     "text": [
      "\r60%"
     ]
    },
    {
     "name": "stdout",
     "output_type": "stream",
     "text": [
      "\r60%"
     ]
    },
    {
     "name": "stdout",
     "output_type": "stream",
     "text": [
      "\r61%"
     ]
    },
    {
     "name": "stdout",
     "output_type": "stream",
     "text": [
      "\r61%"
     ]
    },
    {
     "name": "stdout",
     "output_type": "stream",
     "text": [
      "\r61%"
     ]
    },
    {
     "name": "stdout",
     "output_type": "stream",
     "text": [
      "\r62%"
     ]
    },
    {
     "name": "stdout",
     "output_type": "stream",
     "text": [
      "\r62%"
     ]
    },
    {
     "name": "stdout",
     "output_type": "stream",
     "text": [
      "\r62%"
     ]
    },
    {
     "name": "stdout",
     "output_type": "stream",
     "text": [
      "\r62%"
     ]
    },
    {
     "name": "stdout",
     "output_type": "stream",
     "text": [
      "\r63%"
     ]
    },
    {
     "name": "stdout",
     "output_type": "stream",
     "text": [
      "\r63%"
     ]
    },
    {
     "name": "stdout",
     "output_type": "stream",
     "text": [
      "\r63%"
     ]
    },
    {
     "name": "stdout",
     "output_type": "stream",
     "text": [
      "\r63%"
     ]
    },
    {
     "name": "stdout",
     "output_type": "stream",
     "text": [
      "\r64%"
     ]
    },
    {
     "name": "stdout",
     "output_type": "stream",
     "text": [
      "\r64%"
     ]
    },
    {
     "name": "stdout",
     "output_type": "stream",
     "text": [
      "\r64%"
     ]
    },
    {
     "name": "stdout",
     "output_type": "stream",
     "text": [
      "\r65%"
     ]
    },
    {
     "name": "stdout",
     "output_type": "stream",
     "text": [
      "\r65%"
     ]
    },
    {
     "name": "stdout",
     "output_type": "stream",
     "text": [
      "\r65%"
     ]
    },
    {
     "name": "stdout",
     "output_type": "stream",
     "text": [
      "\r65%"
     ]
    },
    {
     "name": "stdout",
     "output_type": "stream",
     "text": [
      "\r66%"
     ]
    },
    {
     "name": "stdout",
     "output_type": "stream",
     "text": [
      "\r66%"
     ]
    },
    {
     "name": "stdout",
     "output_type": "stream",
     "text": [
      "\r66%"
     ]
    },
    {
     "name": "stdout",
     "output_type": "stream",
     "text": [
      "\r66%"
     ]
    },
    {
     "name": "stdout",
     "output_type": "stream",
     "text": [
      "\r67%"
     ]
    },
    {
     "name": "stdout",
     "output_type": "stream",
     "text": [
      "\r67%"
     ]
    },
    {
     "name": "stdout",
     "output_type": "stream",
     "text": [
      "\r67%"
     ]
    },
    {
     "name": "stdout",
     "output_type": "stream",
     "text": [
      "\r68%"
     ]
    },
    {
     "name": "stdout",
     "output_type": "stream",
     "text": [
      "\r68%"
     ]
    },
    {
     "name": "stdout",
     "output_type": "stream",
     "text": [
      "\r68%"
     ]
    },
    {
     "name": "stdout",
     "output_type": "stream",
     "text": [
      "\r68%"
     ]
    },
    {
     "name": "stdout",
     "output_type": "stream",
     "text": [
      "\r69%"
     ]
    },
    {
     "name": "stdout",
     "output_type": "stream",
     "text": [
      "\r69%"
     ]
    },
    {
     "name": "stdout",
     "output_type": "stream",
     "text": [
      "\r69%"
     ]
    },
    {
     "name": "stdout",
     "output_type": "stream",
     "text": [
      "\r69%"
     ]
    },
    {
     "name": "stdout",
     "output_type": "stream",
     "text": [
      "\r70%"
     ]
    },
    {
     "name": "stdout",
     "output_type": "stream",
     "text": [
      "\r70%"
     ]
    },
    {
     "name": "stdout",
     "output_type": "stream",
     "text": [
      "\r70%"
     ]
    },
    {
     "name": "stdout",
     "output_type": "stream",
     "text": [
      "\r71%"
     ]
    },
    {
     "name": "stdout",
     "output_type": "stream",
     "text": [
      "\r71%"
     ]
    },
    {
     "name": "stdout",
     "output_type": "stream",
     "text": [
      "\r71%"
     ]
    },
    {
     "name": "stdout",
     "output_type": "stream",
     "text": [
      "\r71%"
     ]
    },
    {
     "name": "stdout",
     "output_type": "stream",
     "text": [
      "\r72%"
     ]
    },
    {
     "name": "stdout",
     "output_type": "stream",
     "text": [
      "\r72%"
     ]
    },
    {
     "name": "stdout",
     "output_type": "stream",
     "text": [
      "\r72%"
     ]
    },
    {
     "name": "stdout",
     "output_type": "stream",
     "text": [
      "\r72%"
     ]
    },
    {
     "name": "stdout",
     "output_type": "stream",
     "text": [
      "\r73%"
     ]
    },
    {
     "name": "stdout",
     "output_type": "stream",
     "text": [
      "\r73%"
     ]
    },
    {
     "name": "stdout",
     "output_type": "stream",
     "text": [
      "\r73%"
     ]
    },
    {
     "name": "stdout",
     "output_type": "stream",
     "text": [
      "\r74%"
     ]
    },
    {
     "name": "stdout",
     "output_type": "stream",
     "text": [
      "\r74%"
     ]
    },
    {
     "name": "stdout",
     "output_type": "stream",
     "text": [
      "\r74%"
     ]
    },
    {
     "name": "stdout",
     "output_type": "stream",
     "text": [
      "\r74%"
     ]
    },
    {
     "name": "stdout",
     "output_type": "stream",
     "text": [
      "\r75%"
     ]
    },
    {
     "name": "stdout",
     "output_type": "stream",
     "text": [
      "\r75%"
     ]
    },
    {
     "name": "stdout",
     "output_type": "stream",
     "text": [
      "\r75%"
     ]
    },
    {
     "name": "stdout",
     "output_type": "stream",
     "text": [
      "\r75%"
     ]
    },
    {
     "name": "stdout",
     "output_type": "stream",
     "text": [
      "\r76%"
     ]
    },
    {
     "name": "stdout",
     "output_type": "stream",
     "text": [
      "\r76%"
     ]
    },
    {
     "name": "stdout",
     "output_type": "stream",
     "text": [
      "\r76%"
     ]
    },
    {
     "name": "stdout",
     "output_type": "stream",
     "text": [
      "\r77%"
     ]
    },
    {
     "name": "stdout",
     "output_type": "stream",
     "text": [
      "\r77%"
     ]
    },
    {
     "name": "stdout",
     "output_type": "stream",
     "text": [
      "\r77%"
     ]
    },
    {
     "name": "stdout",
     "output_type": "stream",
     "text": [
      "\r77%"
     ]
    },
    {
     "name": "stdout",
     "output_type": "stream",
     "text": [
      "\r78%"
     ]
    },
    {
     "name": "stdout",
     "output_type": "stream",
     "text": [
      "\r78%"
     ]
    },
    {
     "name": "stdout",
     "output_type": "stream",
     "text": [
      "\r78%"
     ]
    },
    {
     "name": "stdout",
     "output_type": "stream",
     "text": [
      "\r78%"
     ]
    },
    {
     "name": "stdout",
     "output_type": "stream",
     "text": [
      "\r79%"
     ]
    },
    {
     "name": "stdout",
     "output_type": "stream",
     "text": [
      "\r79%"
     ]
    },
    {
     "name": "stdout",
     "output_type": "stream",
     "text": [
      "\r79%"
     ]
    },
    {
     "name": "stdout",
     "output_type": "stream",
     "text": [
      "\r80%"
     ]
    },
    {
     "name": "stdout",
     "output_type": "stream",
     "text": [
      "\r80%"
     ]
    },
    {
     "name": "stdout",
     "output_type": "stream",
     "text": [
      "\r80%"
     ]
    },
    {
     "name": "stdout",
     "output_type": "stream",
     "text": [
      "\r80%"
     ]
    },
    {
     "name": "stdout",
     "output_type": "stream",
     "text": [
      "\r81%"
     ]
    },
    {
     "name": "stdout",
     "output_type": "stream",
     "text": [
      "\r81%"
     ]
    },
    {
     "name": "stdout",
     "output_type": "stream",
     "text": [
      "\r81%"
     ]
    },
    {
     "name": "stdout",
     "output_type": "stream",
     "text": [
      "\r81%"
     ]
    },
    {
     "name": "stdout",
     "output_type": "stream",
     "text": [
      "\r82%"
     ]
    },
    {
     "name": "stdout",
     "output_type": "stream",
     "text": [
      "\r82%"
     ]
    },
    {
     "name": "stdout",
     "output_type": "stream",
     "text": [
      "\r82%"
     ]
    },
    {
     "name": "stdout",
     "output_type": "stream",
     "text": [
      "\r83%"
     ]
    },
    {
     "name": "stdout",
     "output_type": "stream",
     "text": [
      "\r83%"
     ]
    },
    {
     "name": "stdout",
     "output_type": "stream",
     "text": [
      "\r83%"
     ]
    },
    {
     "name": "stdout",
     "output_type": "stream",
     "text": [
      "\r83%"
     ]
    },
    {
     "name": "stdout",
     "output_type": "stream",
     "text": [
      "\r84%"
     ]
    },
    {
     "name": "stdout",
     "output_type": "stream",
     "text": [
      "\r84%"
     ]
    },
    {
     "name": "stdout",
     "output_type": "stream",
     "text": [
      "\r84%"
     ]
    },
    {
     "name": "stdout",
     "output_type": "stream",
     "text": [
      "\r84%"
     ]
    },
    {
     "name": "stdout",
     "output_type": "stream",
     "text": [
      "\r85%"
     ]
    },
    {
     "name": "stdout",
     "output_type": "stream",
     "text": [
      "\r85%"
     ]
    },
    {
     "name": "stdout",
     "output_type": "stream",
     "text": [
      "\r85%"
     ]
    },
    {
     "name": "stdout",
     "output_type": "stream",
     "text": [
      "\r86%"
     ]
    },
    {
     "name": "stdout",
     "output_type": "stream",
     "text": [
      "\r86%"
     ]
    },
    {
     "name": "stdout",
     "output_type": "stream",
     "text": [
      "\r86%"
     ]
    },
    {
     "name": "stdout",
     "output_type": "stream",
     "text": [
      "\r86%"
     ]
    },
    {
     "name": "stdout",
     "output_type": "stream",
     "text": [
      "\r87%"
     ]
    },
    {
     "name": "stdout",
     "output_type": "stream",
     "text": [
      "\r87%"
     ]
    },
    {
     "name": "stdout",
     "output_type": "stream",
     "text": [
      "\r87%"
     ]
    },
    {
     "name": "stdout",
     "output_type": "stream",
     "text": [
      "\r87%"
     ]
    },
    {
     "name": "stdout",
     "output_type": "stream",
     "text": [
      "\r88%"
     ]
    },
    {
     "name": "stdout",
     "output_type": "stream",
     "text": [
      "\r88%"
     ]
    },
    {
     "name": "stdout",
     "output_type": "stream",
     "text": [
      "\r88%"
     ]
    },
    {
     "name": "stdout",
     "output_type": "stream",
     "text": [
      "\r89%"
     ]
    },
    {
     "name": "stdout",
     "output_type": "stream",
     "text": [
      "\r89%"
     ]
    },
    {
     "name": "stdout",
     "output_type": "stream",
     "text": [
      "\r89%"
     ]
    },
    {
     "name": "stdout",
     "output_type": "stream",
     "text": [
      "\r89%"
     ]
    },
    {
     "name": "stdout",
     "output_type": "stream",
     "text": [
      "\r90%"
     ]
    },
    {
     "name": "stdout",
     "output_type": "stream",
     "text": [
      "\r90%"
     ]
    },
    {
     "name": "stdout",
     "output_type": "stream",
     "text": [
      "\r90%"
     ]
    },
    {
     "name": "stdout",
     "output_type": "stream",
     "text": [
      "\r90%"
     ]
    },
    {
     "name": "stdout",
     "output_type": "stream",
     "text": [
      "\r91%"
     ]
    },
    {
     "name": "stdout",
     "output_type": "stream",
     "text": [
      "\r91%"
     ]
    },
    {
     "name": "stdout",
     "output_type": "stream",
     "text": [
      "\r91%"
     ]
    },
    {
     "name": "stdout",
     "output_type": "stream",
     "text": [
      "\r92%"
     ]
    },
    {
     "name": "stdout",
     "output_type": "stream",
     "text": [
      "\r92%"
     ]
    },
    {
     "name": "stdout",
     "output_type": "stream",
     "text": [
      "\r92%"
     ]
    },
    {
     "name": "stdout",
     "output_type": "stream",
     "text": [
      "\r92%"
     ]
    },
    {
     "name": "stdout",
     "output_type": "stream",
     "text": [
      "\r93%"
     ]
    },
    {
     "name": "stdout",
     "output_type": "stream",
     "text": [
      "\r93%"
     ]
    },
    {
     "name": "stdout",
     "output_type": "stream",
     "text": [
      "\r93%"
     ]
    },
    {
     "name": "stdout",
     "output_type": "stream",
     "text": [
      "\r93%"
     ]
    },
    {
     "name": "stdout",
     "output_type": "stream",
     "text": [
      "\r94%"
     ]
    },
    {
     "name": "stdout",
     "output_type": "stream",
     "text": [
      "\r94%"
     ]
    },
    {
     "name": "stdout",
     "output_type": "stream",
     "text": [
      "\r94%"
     ]
    },
    {
     "name": "stdout",
     "output_type": "stream",
     "text": [
      "\r95%"
     ]
    },
    {
     "name": "stdout",
     "output_type": "stream",
     "text": [
      "\r95%"
     ]
    },
    {
     "name": "stdout",
     "output_type": "stream",
     "text": [
      "\r95%"
     ]
    },
    {
     "name": "stdout",
     "output_type": "stream",
     "text": [
      "\r95%"
     ]
    },
    {
     "name": "stdout",
     "output_type": "stream",
     "text": [
      "\r96%"
     ]
    },
    {
     "name": "stdout",
     "output_type": "stream",
     "text": [
      "\r96%"
     ]
    },
    {
     "name": "stdout",
     "output_type": "stream",
     "text": [
      "\r96%"
     ]
    },
    {
     "name": "stdout",
     "output_type": "stream",
     "text": [
      "\r96%"
     ]
    },
    {
     "name": "stdout",
     "output_type": "stream",
     "text": [
      "\r97%"
     ]
    },
    {
     "name": "stdout",
     "output_type": "stream",
     "text": [
      "\r97%"
     ]
    },
    {
     "name": "stdout",
     "output_type": "stream",
     "text": [
      "\r97%"
     ]
    },
    {
     "name": "stdout",
     "output_type": "stream",
     "text": [
      "\r98%"
     ]
    },
    {
     "name": "stdout",
     "output_type": "stream",
     "text": [
      "\r98%"
     ]
    },
    {
     "name": "stdout",
     "output_type": "stream",
     "text": [
      "\r98%"
     ]
    },
    {
     "name": "stdout",
     "output_type": "stream",
     "text": [
      "\r98%"
     ]
    },
    {
     "name": "stdout",
     "output_type": "stream",
     "text": [
      "\r99%"
     ]
    },
    {
     "name": "stdout",
     "output_type": "stream",
     "text": [
      "\r99%"
     ]
    },
    {
     "name": "stdout",
     "output_type": "stream",
     "text": [
      "\r99%"
     ]
    },
    {
     "name": "stdout",
     "output_type": "stream",
     "text": [
      "\r2 훈련 MSE: 0.043686826\n"
     ]
    },
    {
     "name": "stdout",
     "output_type": "stream",
     "text": [
      "\r0%"
     ]
    },
    {
     "name": "stdout",
     "output_type": "stream",
     "text": [
      "\r0%"
     ]
    },
    {
     "name": "stdout",
     "output_type": "stream",
     "text": [
      "\r0%"
     ]
    },
    {
     "name": "stdout",
     "output_type": "stream",
     "text": [
      "\r0%"
     ]
    },
    {
     "name": "stdout",
     "output_type": "stream",
     "text": [
      "\r1%"
     ]
    },
    {
     "name": "stdout",
     "output_type": "stream",
     "text": [
      "\r1%"
     ]
    },
    {
     "name": "stdout",
     "output_type": "stream",
     "text": [
      "\r1%"
     ]
    },
    {
     "name": "stdout",
     "output_type": "stream",
     "text": [
      "\r1%"
     ]
    },
    {
     "name": "stdout",
     "output_type": "stream",
     "text": [
      "\r2%"
     ]
    },
    {
     "name": "stdout",
     "output_type": "stream",
     "text": [
      "\r2%"
     ]
    },
    {
     "name": "stdout",
     "output_type": "stream",
     "text": [
      "\r2%"
     ]
    },
    {
     "name": "stdout",
     "output_type": "stream",
     "text": [
      "\r3%"
     ]
    },
    {
     "name": "stdout",
     "output_type": "stream",
     "text": [
      "\r3%"
     ]
    },
    {
     "name": "stdout",
     "output_type": "stream",
     "text": [
      "\r3%"
     ]
    },
    {
     "name": "stdout",
     "output_type": "stream",
     "text": [
      "\r3%"
     ]
    },
    {
     "name": "stdout",
     "output_type": "stream",
     "text": [
      "\r4%"
     ]
    },
    {
     "name": "stdout",
     "output_type": "stream",
     "text": [
      "\r4%"
     ]
    },
    {
     "name": "stdout",
     "output_type": "stream",
     "text": [
      "\r4%"
     ]
    },
    {
     "name": "stdout",
     "output_type": "stream",
     "text": [
      "\r4%"
     ]
    },
    {
     "name": "stdout",
     "output_type": "stream",
     "text": [
      "\r5%"
     ]
    },
    {
     "name": "stdout",
     "output_type": "stream",
     "text": [
      "\r5%"
     ]
    },
    {
     "name": "stdout",
     "output_type": "stream",
     "text": [
      "\r5%"
     ]
    },
    {
     "name": "stdout",
     "output_type": "stream",
     "text": [
      "\r6%"
     ]
    },
    {
     "name": "stdout",
     "output_type": "stream",
     "text": [
      "\r6%"
     ]
    },
    {
     "name": "stdout",
     "output_type": "stream",
     "text": [
      "\r6%"
     ]
    },
    {
     "name": "stdout",
     "output_type": "stream",
     "text": [
      "\r6%"
     ]
    },
    {
     "name": "stdout",
     "output_type": "stream",
     "text": [
      "\r7%"
     ]
    },
    {
     "name": "stdout",
     "output_type": "stream",
     "text": [
      "\r7%"
     ]
    },
    {
     "name": "stdout",
     "output_type": "stream",
     "text": [
      "\r7%"
     ]
    },
    {
     "name": "stdout",
     "output_type": "stream",
     "text": [
      "\r7%"
     ]
    },
    {
     "name": "stdout",
     "output_type": "stream",
     "text": [
      "\r8%"
     ]
    },
    {
     "name": "stdout",
     "output_type": "stream",
     "text": [
      "\r8%"
     ]
    },
    {
     "name": "stdout",
     "output_type": "stream",
     "text": [
      "\r8%"
     ]
    },
    {
     "name": "stdout",
     "output_type": "stream",
     "text": [
      "\r9%"
     ]
    },
    {
     "name": "stdout",
     "output_type": "stream",
     "text": [
      "\r9%"
     ]
    },
    {
     "name": "stdout",
     "output_type": "stream",
     "text": [
      "\r9%"
     ]
    },
    {
     "name": "stdout",
     "output_type": "stream",
     "text": [
      "\r9%"
     ]
    },
    {
     "name": "stdout",
     "output_type": "stream",
     "text": [
      "\r10%"
     ]
    },
    {
     "name": "stdout",
     "output_type": "stream",
     "text": [
      "\r10%"
     ]
    },
    {
     "name": "stdout",
     "output_type": "stream",
     "text": [
      "\r10%"
     ]
    },
    {
     "name": "stdout",
     "output_type": "stream",
     "text": [
      "\r10%"
     ]
    },
    {
     "name": "stdout",
     "output_type": "stream",
     "text": [
      "\r11%"
     ]
    },
    {
     "name": "stdout",
     "output_type": "stream",
     "text": [
      "\r11%"
     ]
    },
    {
     "name": "stdout",
     "output_type": "stream",
     "text": [
      "\r11%"
     ]
    },
    {
     "name": "stdout",
     "output_type": "stream",
     "text": [
      "\r12%"
     ]
    },
    {
     "name": "stdout",
     "output_type": "stream",
     "text": [
      "\r12%"
     ]
    },
    {
     "name": "stdout",
     "output_type": "stream",
     "text": [
      "\r12%"
     ]
    },
    {
     "name": "stdout",
     "output_type": "stream",
     "text": [
      "\r12%"
     ]
    },
    {
     "name": "stdout",
     "output_type": "stream",
     "text": [
      "\r13%"
     ]
    },
    {
     "name": "stdout",
     "output_type": "stream",
     "text": [
      "\r13%"
     ]
    },
    {
     "name": "stdout",
     "output_type": "stream",
     "text": [
      "\r13%"
     ]
    },
    {
     "name": "stdout",
     "output_type": "stream",
     "text": [
      "\r13%"
     ]
    },
    {
     "name": "stdout",
     "output_type": "stream",
     "text": [
      "\r14%"
     ]
    },
    {
     "name": "stdout",
     "output_type": "stream",
     "text": [
      "\r14%"
     ]
    },
    {
     "name": "stdout",
     "output_type": "stream",
     "text": [
      "\r14%"
     ]
    },
    {
     "name": "stdout",
     "output_type": "stream",
     "text": [
      "\r15%"
     ]
    },
    {
     "name": "stdout",
     "output_type": "stream",
     "text": [
      "\r15%"
     ]
    },
    {
     "name": "stdout",
     "output_type": "stream",
     "text": [
      "\r15%"
     ]
    },
    {
     "name": "stdout",
     "output_type": "stream",
     "text": [
      "\r15%"
     ]
    },
    {
     "name": "stdout",
     "output_type": "stream",
     "text": [
      "\r16%"
     ]
    },
    {
     "name": "stdout",
     "output_type": "stream",
     "text": [
      "\r16%"
     ]
    },
    {
     "name": "stdout",
     "output_type": "stream",
     "text": [
      "\r16%"
     ]
    },
    {
     "name": "stdout",
     "output_type": "stream",
     "text": [
      "\r16%"
     ]
    },
    {
     "name": "stdout",
     "output_type": "stream",
     "text": [
      "\r17%"
     ]
    },
    {
     "name": "stdout",
     "output_type": "stream",
     "text": [
      "\r17%"
     ]
    },
    {
     "name": "stdout",
     "output_type": "stream",
     "text": [
      "\r17%"
     ]
    },
    {
     "name": "stdout",
     "output_type": "stream",
     "text": [
      "\r18%"
     ]
    },
    {
     "name": "stdout",
     "output_type": "stream",
     "text": [
      "\r18%"
     ]
    },
    {
     "name": "stdout",
     "output_type": "stream",
     "text": [
      "\r18%"
     ]
    },
    {
     "name": "stdout",
     "output_type": "stream",
     "text": [
      "\r18%"
     ]
    },
    {
     "name": "stdout",
     "output_type": "stream",
     "text": [
      "\r19%"
     ]
    },
    {
     "name": "stdout",
     "output_type": "stream",
     "text": [
      "\r19%"
     ]
    },
    {
     "name": "stdout",
     "output_type": "stream",
     "text": [
      "\r19%"
     ]
    },
    {
     "name": "stdout",
     "output_type": "stream",
     "text": [
      "\r19%"
     ]
    },
    {
     "name": "stdout",
     "output_type": "stream",
     "text": [
      "\r20%"
     ]
    },
    {
     "name": "stdout",
     "output_type": "stream",
     "text": [
      "\r20%"
     ]
    },
    {
     "name": "stdout",
     "output_type": "stream",
     "text": [
      "\r20%"
     ]
    },
    {
     "name": "stdout",
     "output_type": "stream",
     "text": [
      "\r21%"
     ]
    },
    {
     "name": "stdout",
     "output_type": "stream",
     "text": [
      "\r21%"
     ]
    },
    {
     "name": "stdout",
     "output_type": "stream",
     "text": [
      "\r21%"
     ]
    },
    {
     "name": "stdout",
     "output_type": "stream",
     "text": [
      "\r21%"
     ]
    },
    {
     "name": "stdout",
     "output_type": "stream",
     "text": [
      "\r22%"
     ]
    },
    {
     "name": "stdout",
     "output_type": "stream",
     "text": [
      "\r22%"
     ]
    },
    {
     "name": "stdout",
     "output_type": "stream",
     "text": [
      "\r22%"
     ]
    },
    {
     "name": "stdout",
     "output_type": "stream",
     "text": [
      "\r22%"
     ]
    },
    {
     "name": "stdout",
     "output_type": "stream",
     "text": [
      "\r23%"
     ]
    },
    {
     "name": "stdout",
     "output_type": "stream",
     "text": [
      "\r23%"
     ]
    },
    {
     "name": "stdout",
     "output_type": "stream",
     "text": [
      "\r23%"
     ]
    },
    {
     "name": "stdout",
     "output_type": "stream",
     "text": [
      "\r24%"
     ]
    },
    {
     "name": "stdout",
     "output_type": "stream",
     "text": [
      "\r24%"
     ]
    },
    {
     "name": "stdout",
     "output_type": "stream",
     "text": [
      "\r24%"
     ]
    },
    {
     "name": "stdout",
     "output_type": "stream",
     "text": [
      "\r24%"
     ]
    },
    {
     "name": "stdout",
     "output_type": "stream",
     "text": [
      "\r25%"
     ]
    },
    {
     "name": "stdout",
     "output_type": "stream",
     "text": [
      "\r25%"
     ]
    },
    {
     "name": "stdout",
     "output_type": "stream",
     "text": [
      "\r25%"
     ]
    },
    {
     "name": "stdout",
     "output_type": "stream",
     "text": [
      "\r25%"
     ]
    },
    {
     "name": "stdout",
     "output_type": "stream",
     "text": [
      "\r26%"
     ]
    },
    {
     "name": "stdout",
     "output_type": "stream",
     "text": [
      "\r26%"
     ]
    },
    {
     "name": "stdout",
     "output_type": "stream",
     "text": [
      "\r26%"
     ]
    },
    {
     "name": "stdout",
     "output_type": "stream",
     "text": [
      "\r27%"
     ]
    },
    {
     "name": "stdout",
     "output_type": "stream",
     "text": [
      "\r27%"
     ]
    },
    {
     "name": "stdout",
     "output_type": "stream",
     "text": [
      "\r27%"
     ]
    },
    {
     "name": "stdout",
     "output_type": "stream",
     "text": [
      "\r27%"
     ]
    },
    {
     "name": "stdout",
     "output_type": "stream",
     "text": [
      "\r28%"
     ]
    },
    {
     "name": "stdout",
     "output_type": "stream",
     "text": [
      "\r28%"
     ]
    },
    {
     "name": "stdout",
     "output_type": "stream",
     "text": [
      "\r28%"
     ]
    },
    {
     "name": "stdout",
     "output_type": "stream",
     "text": [
      "\r28%"
     ]
    },
    {
     "name": "stdout",
     "output_type": "stream",
     "text": [
      "\r29%"
     ]
    },
    {
     "name": "stdout",
     "output_type": "stream",
     "text": [
      "\r29%"
     ]
    },
    {
     "name": "stdout",
     "output_type": "stream",
     "text": [
      "\r29%"
     ]
    },
    {
     "name": "stdout",
     "output_type": "stream",
     "text": [
      "\r30%"
     ]
    },
    {
     "name": "stdout",
     "output_type": "stream",
     "text": [
      "\r30%"
     ]
    },
    {
     "name": "stdout",
     "output_type": "stream",
     "text": [
      "\r30%"
     ]
    },
    {
     "name": "stdout",
     "output_type": "stream",
     "text": [
      "\r30%"
     ]
    },
    {
     "name": "stdout",
     "output_type": "stream",
     "text": [
      "\r31%"
     ]
    },
    {
     "name": "stdout",
     "output_type": "stream",
     "text": [
      "\r31%"
     ]
    },
    {
     "name": "stdout",
     "output_type": "stream",
     "text": [
      "\r31%"
     ]
    },
    {
     "name": "stdout",
     "output_type": "stream",
     "text": [
      "\r31%"
     ]
    },
    {
     "name": "stdout",
     "output_type": "stream",
     "text": [
      "\r32%"
     ]
    },
    {
     "name": "stdout",
     "output_type": "stream",
     "text": [
      "\r32%"
     ]
    },
    {
     "name": "stdout",
     "output_type": "stream",
     "text": [
      "\r32%"
     ]
    },
    {
     "name": "stdout",
     "output_type": "stream",
     "text": [
      "\r33%"
     ]
    },
    {
     "name": "stdout",
     "output_type": "stream",
     "text": [
      "\r33%"
     ]
    },
    {
     "name": "stdout",
     "output_type": "stream",
     "text": [
      "\r33%"
     ]
    },
    {
     "name": "stdout",
     "output_type": "stream",
     "text": [
      "\r33%"
     ]
    },
    {
     "name": "stdout",
     "output_type": "stream",
     "text": [
      "\r34%"
     ]
    },
    {
     "name": "stdout",
     "output_type": "stream",
     "text": [
      "\r34%"
     ]
    },
    {
     "name": "stdout",
     "output_type": "stream",
     "text": [
      "\r34%"
     ]
    },
    {
     "name": "stdout",
     "output_type": "stream",
     "text": [
      "\r34%"
     ]
    },
    {
     "name": "stdout",
     "output_type": "stream",
     "text": [
      "\r35%"
     ]
    },
    {
     "name": "stdout",
     "output_type": "stream",
     "text": [
      "\r35%"
     ]
    },
    {
     "name": "stdout",
     "output_type": "stream",
     "text": [
      "\r35%"
     ]
    },
    {
     "name": "stdout",
     "output_type": "stream",
     "text": [
      "\r36%"
     ]
    },
    {
     "name": "stdout",
     "output_type": "stream",
     "text": [
      "\r36%"
     ]
    },
    {
     "name": "stdout",
     "output_type": "stream",
     "text": [
      "\r36%"
     ]
    },
    {
     "name": "stdout",
     "output_type": "stream",
     "text": [
      "\r36%"
     ]
    },
    {
     "name": "stdout",
     "output_type": "stream",
     "text": [
      "\r37%"
     ]
    },
    {
     "name": "stdout",
     "output_type": "stream",
     "text": [
      "\r37%"
     ]
    },
    {
     "name": "stdout",
     "output_type": "stream",
     "text": [
      "\r37%"
     ]
    },
    {
     "name": "stdout",
     "output_type": "stream",
     "text": [
      "\r37%"
     ]
    },
    {
     "name": "stdout",
     "output_type": "stream",
     "text": [
      "\r38%"
     ]
    },
    {
     "name": "stdout",
     "output_type": "stream",
     "text": [
      "\r38%"
     ]
    },
    {
     "name": "stdout",
     "output_type": "stream",
     "text": [
      "\r38%"
     ]
    },
    {
     "name": "stdout",
     "output_type": "stream",
     "text": [
      "\r39%"
     ]
    },
    {
     "name": "stdout",
     "output_type": "stream",
     "text": [
      "\r39%"
     ]
    },
    {
     "name": "stdout",
     "output_type": "stream",
     "text": [
      "\r39%"
     ]
    },
    {
     "name": "stdout",
     "output_type": "stream",
     "text": [
      "\r39%"
     ]
    },
    {
     "name": "stdout",
     "output_type": "stream",
     "text": [
      "\r40%"
     ]
    },
    {
     "name": "stdout",
     "output_type": "stream",
     "text": [
      "\r40%"
     ]
    },
    {
     "name": "stdout",
     "output_type": "stream",
     "text": [
      "\r40%"
     ]
    },
    {
     "name": "stdout",
     "output_type": "stream",
     "text": [
      "\r40%"
     ]
    },
    {
     "name": "stdout",
     "output_type": "stream",
     "text": [
      "\r41%"
     ]
    },
    {
     "name": "stdout",
     "output_type": "stream",
     "text": [
      "\r41%"
     ]
    },
    {
     "name": "stdout",
     "output_type": "stream",
     "text": [
      "\r41%"
     ]
    },
    {
     "name": "stdout",
     "output_type": "stream",
     "text": [
      "\r42%"
     ]
    },
    {
     "name": "stdout",
     "output_type": "stream",
     "text": [
      "\r42%"
     ]
    },
    {
     "name": "stdout",
     "output_type": "stream",
     "text": [
      "\r42%"
     ]
    },
    {
     "name": "stdout",
     "output_type": "stream",
     "text": [
      "\r42%"
     ]
    },
    {
     "name": "stdout",
     "output_type": "stream",
     "text": [
      "\r43%"
     ]
    },
    {
     "name": "stdout",
     "output_type": "stream",
     "text": [
      "\r43%"
     ]
    },
    {
     "name": "stdout",
     "output_type": "stream",
     "text": [
      "\r43%"
     ]
    },
    {
     "name": "stdout",
     "output_type": "stream",
     "text": [
      "\r43%"
     ]
    },
    {
     "name": "stdout",
     "output_type": "stream",
     "text": [
      "\r44%"
     ]
    },
    {
     "name": "stdout",
     "output_type": "stream",
     "text": [
      "\r44%"
     ]
    },
    {
     "name": "stdout",
     "output_type": "stream",
     "text": [
      "\r44%"
     ]
    },
    {
     "name": "stdout",
     "output_type": "stream",
     "text": [
      "\r45%"
     ]
    },
    {
     "name": "stdout",
     "output_type": "stream",
     "text": [
      "\r45%"
     ]
    },
    {
     "name": "stdout",
     "output_type": "stream",
     "text": [
      "\r45%"
     ]
    },
    {
     "name": "stdout",
     "output_type": "stream",
     "text": [
      "\r45%"
     ]
    },
    {
     "name": "stdout",
     "output_type": "stream",
     "text": [
      "\r46%"
     ]
    },
    {
     "name": "stdout",
     "output_type": "stream",
     "text": [
      "\r46%"
     ]
    },
    {
     "name": "stdout",
     "output_type": "stream",
     "text": [
      "\r46%"
     ]
    },
    {
     "name": "stdout",
     "output_type": "stream",
     "text": [
      "\r46%"
     ]
    },
    {
     "name": "stdout",
     "output_type": "stream",
     "text": [
      "\r47%"
     ]
    },
    {
     "name": "stdout",
     "output_type": "stream",
     "text": [
      "\r47%"
     ]
    },
    {
     "name": "stdout",
     "output_type": "stream",
     "text": [
      "\r47%"
     ]
    },
    {
     "name": "stdout",
     "output_type": "stream",
     "text": [
      "\r48%"
     ]
    },
    {
     "name": "stdout",
     "output_type": "stream",
     "text": [
      "\r48%"
     ]
    },
    {
     "name": "stdout",
     "output_type": "stream",
     "text": [
      "\r48%"
     ]
    },
    {
     "name": "stdout",
     "output_type": "stream",
     "text": [
      "\r48%"
     ]
    },
    {
     "name": "stdout",
     "output_type": "stream",
     "text": [
      "\r49%"
     ]
    },
    {
     "name": "stdout",
     "output_type": "stream",
     "text": [
      "\r49%"
     ]
    },
    {
     "name": "stdout",
     "output_type": "stream",
     "text": [
      "\r49%"
     ]
    },
    {
     "name": "stdout",
     "output_type": "stream",
     "text": [
      "\r50%"
     ]
    },
    {
     "name": "stdout",
     "output_type": "stream",
     "text": [
      "\r50%"
     ]
    },
    {
     "name": "stdout",
     "output_type": "stream",
     "text": [
      "\r50%"
     ]
    },
    {
     "name": "stdout",
     "output_type": "stream",
     "text": [
      "\r50%"
     ]
    },
    {
     "name": "stdout",
     "output_type": "stream",
     "text": [
      "\r51%"
     ]
    },
    {
     "name": "stdout",
     "output_type": "stream",
     "text": [
      "\r51%"
     ]
    },
    {
     "name": "stdout",
     "output_type": "stream",
     "text": [
      "\r51%"
     ]
    },
    {
     "name": "stdout",
     "output_type": "stream",
     "text": [
      "\r51%"
     ]
    },
    {
     "name": "stdout",
     "output_type": "stream",
     "text": [
      "\r52%"
     ]
    },
    {
     "name": "stdout",
     "output_type": "stream",
     "text": [
      "\r52%"
     ]
    },
    {
     "name": "stdout",
     "output_type": "stream",
     "text": [
      "\r52%"
     ]
    },
    {
     "name": "stdout",
     "output_type": "stream",
     "text": [
      "\r53%"
     ]
    },
    {
     "name": "stdout",
     "output_type": "stream",
     "text": [
      "\r53%"
     ]
    },
    {
     "name": "stdout",
     "output_type": "stream",
     "text": [
      "\r53%"
     ]
    },
    {
     "name": "stdout",
     "output_type": "stream",
     "text": [
      "\r53%"
     ]
    },
    {
     "name": "stdout",
     "output_type": "stream",
     "text": [
      "\r54%"
     ]
    },
    {
     "name": "stdout",
     "output_type": "stream",
     "text": [
      "\r54%"
     ]
    },
    {
     "name": "stdout",
     "output_type": "stream",
     "text": [
      "\r54%"
     ]
    },
    {
     "name": "stdout",
     "output_type": "stream",
     "text": [
      "\r54%"
     ]
    },
    {
     "name": "stdout",
     "output_type": "stream",
     "text": [
      "\r55%"
     ]
    },
    {
     "name": "stdout",
     "output_type": "stream",
     "text": [
      "\r55%"
     ]
    },
    {
     "name": "stdout",
     "output_type": "stream",
     "text": [
      "\r55%"
     ]
    },
    {
     "name": "stdout",
     "output_type": "stream",
     "text": [
      "\r56%"
     ]
    },
    {
     "name": "stdout",
     "output_type": "stream",
     "text": [
      "\r56%"
     ]
    },
    {
     "name": "stdout",
     "output_type": "stream",
     "text": [
      "\r56%"
     ]
    },
    {
     "name": "stdout",
     "output_type": "stream",
     "text": [
      "\r56%"
     ]
    },
    {
     "name": "stdout",
     "output_type": "stream",
     "text": [
      "\r57%"
     ]
    },
    {
     "name": "stdout",
     "output_type": "stream",
     "text": [
      "\r57%"
     ]
    },
    {
     "name": "stdout",
     "output_type": "stream",
     "text": [
      "\r57%"
     ]
    },
    {
     "name": "stdout",
     "output_type": "stream",
     "text": [
      "\r57%"
     ]
    },
    {
     "name": "stdout",
     "output_type": "stream",
     "text": [
      "\r58%"
     ]
    },
    {
     "name": "stdout",
     "output_type": "stream",
     "text": [
      "\r58%"
     ]
    },
    {
     "name": "stdout",
     "output_type": "stream",
     "text": [
      "\r58%"
     ]
    },
    {
     "name": "stdout",
     "output_type": "stream",
     "text": [
      "\r59%"
     ]
    },
    {
     "name": "stdout",
     "output_type": "stream",
     "text": [
      "\r59%"
     ]
    },
    {
     "name": "stdout",
     "output_type": "stream",
     "text": [
      "\r59%"
     ]
    },
    {
     "name": "stdout",
     "output_type": "stream",
     "text": [
      "\r59%"
     ]
    },
    {
     "name": "stdout",
     "output_type": "stream",
     "text": [
      "\r60%"
     ]
    },
    {
     "name": "stdout",
     "output_type": "stream",
     "text": [
      "\r60%"
     ]
    },
    {
     "name": "stdout",
     "output_type": "stream",
     "text": [
      "\r60%"
     ]
    },
    {
     "name": "stdout",
     "output_type": "stream",
     "text": [
      "\r60%"
     ]
    },
    {
     "name": "stdout",
     "output_type": "stream",
     "text": [
      "\r61%"
     ]
    },
    {
     "name": "stdout",
     "output_type": "stream",
     "text": [
      "\r61%"
     ]
    },
    {
     "name": "stdout",
     "output_type": "stream",
     "text": [
      "\r61%"
     ]
    },
    {
     "name": "stdout",
     "output_type": "stream",
     "text": [
      "\r62%"
     ]
    },
    {
     "name": "stdout",
     "output_type": "stream",
     "text": [
      "\r62%"
     ]
    },
    {
     "name": "stdout",
     "output_type": "stream",
     "text": [
      "\r62%"
     ]
    },
    {
     "name": "stdout",
     "output_type": "stream",
     "text": [
      "\r62%"
     ]
    },
    {
     "name": "stdout",
     "output_type": "stream",
     "text": [
      "\r63%"
     ]
    },
    {
     "name": "stdout",
     "output_type": "stream",
     "text": [
      "\r63%"
     ]
    },
    {
     "name": "stdout",
     "output_type": "stream",
     "text": [
      "\r63%"
     ]
    },
    {
     "name": "stdout",
     "output_type": "stream",
     "text": [
      "\r63%"
     ]
    },
    {
     "name": "stdout",
     "output_type": "stream",
     "text": [
      "\r64%"
     ]
    },
    {
     "name": "stdout",
     "output_type": "stream",
     "text": [
      "\r64%"
     ]
    },
    {
     "name": "stdout",
     "output_type": "stream",
     "text": [
      "\r64%"
     ]
    },
    {
     "name": "stdout",
     "output_type": "stream",
     "text": [
      "\r65%"
     ]
    },
    {
     "name": "stdout",
     "output_type": "stream",
     "text": [
      "\r65%"
     ]
    },
    {
     "name": "stdout",
     "output_type": "stream",
     "text": [
      "\r65%"
     ]
    },
    {
     "name": "stdout",
     "output_type": "stream",
     "text": [
      "\r65%"
     ]
    },
    {
     "name": "stdout",
     "output_type": "stream",
     "text": [
      "\r66%"
     ]
    },
    {
     "name": "stdout",
     "output_type": "stream",
     "text": [
      "\r66%"
     ]
    },
    {
     "name": "stdout",
     "output_type": "stream",
     "text": [
      "\r66%"
     ]
    },
    {
     "name": "stdout",
     "output_type": "stream",
     "text": [
      "\r66%"
     ]
    },
    {
     "name": "stdout",
     "output_type": "stream",
     "text": [
      "\r67%"
     ]
    },
    {
     "name": "stdout",
     "output_type": "stream",
     "text": [
      "\r67%"
     ]
    },
    {
     "name": "stdout",
     "output_type": "stream",
     "text": [
      "\r67%"
     ]
    },
    {
     "name": "stdout",
     "output_type": "stream",
     "text": [
      "\r68%"
     ]
    },
    {
     "name": "stdout",
     "output_type": "stream",
     "text": [
      "\r68%"
     ]
    },
    {
     "name": "stdout",
     "output_type": "stream",
     "text": [
      "\r68%"
     ]
    },
    {
     "name": "stdout",
     "output_type": "stream",
     "text": [
      "\r68%"
     ]
    },
    {
     "name": "stdout",
     "output_type": "stream",
     "text": [
      "\r69%"
     ]
    },
    {
     "name": "stdout",
     "output_type": "stream",
     "text": [
      "\r69%"
     ]
    },
    {
     "name": "stdout",
     "output_type": "stream",
     "text": [
      "\r69%"
     ]
    },
    {
     "name": "stdout",
     "output_type": "stream",
     "text": [
      "\r69%"
     ]
    },
    {
     "name": "stdout",
     "output_type": "stream",
     "text": [
      "\r70%"
     ]
    },
    {
     "name": "stdout",
     "output_type": "stream",
     "text": [
      "\r70%"
     ]
    },
    {
     "name": "stdout",
     "output_type": "stream",
     "text": [
      "\r70%"
     ]
    },
    {
     "name": "stdout",
     "output_type": "stream",
     "text": [
      "\r71%"
     ]
    },
    {
     "name": "stdout",
     "output_type": "stream",
     "text": [
      "\r71%"
     ]
    },
    {
     "name": "stdout",
     "output_type": "stream",
     "text": [
      "\r71%"
     ]
    },
    {
     "name": "stdout",
     "output_type": "stream",
     "text": [
      "\r71%"
     ]
    },
    {
     "name": "stdout",
     "output_type": "stream",
     "text": [
      "\r72%"
     ]
    },
    {
     "name": "stdout",
     "output_type": "stream",
     "text": [
      "\r72%"
     ]
    },
    {
     "name": "stdout",
     "output_type": "stream",
     "text": [
      "\r72%"
     ]
    },
    {
     "name": "stdout",
     "output_type": "stream",
     "text": [
      "\r72%"
     ]
    },
    {
     "name": "stdout",
     "output_type": "stream",
     "text": [
      "\r73%"
     ]
    },
    {
     "name": "stdout",
     "output_type": "stream",
     "text": [
      "\r73%"
     ]
    },
    {
     "name": "stdout",
     "output_type": "stream",
     "text": [
      "\r73%"
     ]
    },
    {
     "name": "stdout",
     "output_type": "stream",
     "text": [
      "\r74%"
     ]
    },
    {
     "name": "stdout",
     "output_type": "stream",
     "text": [
      "\r74%"
     ]
    },
    {
     "name": "stdout",
     "output_type": "stream",
     "text": [
      "\r74%"
     ]
    },
    {
     "name": "stdout",
     "output_type": "stream",
     "text": [
      "\r74%"
     ]
    },
    {
     "name": "stdout",
     "output_type": "stream",
     "text": [
      "\r75%"
     ]
    },
    {
     "name": "stdout",
     "output_type": "stream",
     "text": [
      "\r75%"
     ]
    },
    {
     "name": "stdout",
     "output_type": "stream",
     "text": [
      "\r75%"
     ]
    },
    {
     "name": "stdout",
     "output_type": "stream",
     "text": [
      "\r75%"
     ]
    },
    {
     "name": "stdout",
     "output_type": "stream",
     "text": [
      "\r76%"
     ]
    },
    {
     "name": "stdout",
     "output_type": "stream",
     "text": [
      "\r76%"
     ]
    },
    {
     "name": "stdout",
     "output_type": "stream",
     "text": [
      "\r76%"
     ]
    },
    {
     "name": "stdout",
     "output_type": "stream",
     "text": [
      "\r77%"
     ]
    },
    {
     "name": "stdout",
     "output_type": "stream",
     "text": [
      "\r77%"
     ]
    },
    {
     "name": "stdout",
     "output_type": "stream",
     "text": [
      "\r77%"
     ]
    },
    {
     "name": "stdout",
     "output_type": "stream",
     "text": [
      "\r77%"
     ]
    },
    {
     "name": "stdout",
     "output_type": "stream",
     "text": [
      "\r78%"
     ]
    },
    {
     "name": "stdout",
     "output_type": "stream",
     "text": [
      "\r78%"
     ]
    },
    {
     "name": "stdout",
     "output_type": "stream",
     "text": [
      "\r78%"
     ]
    },
    {
     "name": "stdout",
     "output_type": "stream",
     "text": [
      "\r78%"
     ]
    },
    {
     "name": "stdout",
     "output_type": "stream",
     "text": [
      "\r79%"
     ]
    },
    {
     "name": "stdout",
     "output_type": "stream",
     "text": [
      "\r79%"
     ]
    },
    {
     "name": "stdout",
     "output_type": "stream",
     "text": [
      "\r79%"
     ]
    },
    {
     "name": "stdout",
     "output_type": "stream",
     "text": [
      "\r80%"
     ]
    },
    {
     "name": "stdout",
     "output_type": "stream",
     "text": [
      "\r80%"
     ]
    },
    {
     "name": "stdout",
     "output_type": "stream",
     "text": [
      "\r80%"
     ]
    },
    {
     "name": "stdout",
     "output_type": "stream",
     "text": [
      "\r80%"
     ]
    },
    {
     "name": "stdout",
     "output_type": "stream",
     "text": [
      "\r81%"
     ]
    },
    {
     "name": "stdout",
     "output_type": "stream",
     "text": [
      "\r81%"
     ]
    },
    {
     "name": "stdout",
     "output_type": "stream",
     "text": [
      "\r81%"
     ]
    },
    {
     "name": "stdout",
     "output_type": "stream",
     "text": [
      "\r81%"
     ]
    },
    {
     "name": "stdout",
     "output_type": "stream",
     "text": [
      "\r82%"
     ]
    },
    {
     "name": "stdout",
     "output_type": "stream",
     "text": [
      "\r82%"
     ]
    },
    {
     "name": "stdout",
     "output_type": "stream",
     "text": [
      "\r82%"
     ]
    },
    {
     "name": "stdout",
     "output_type": "stream",
     "text": [
      "\r83%"
     ]
    },
    {
     "name": "stdout",
     "output_type": "stream",
     "text": [
      "\r83%"
     ]
    },
    {
     "name": "stdout",
     "output_type": "stream",
     "text": [
      "\r83%"
     ]
    },
    {
     "name": "stdout",
     "output_type": "stream",
     "text": [
      "\r83%"
     ]
    },
    {
     "name": "stdout",
     "output_type": "stream",
     "text": [
      "\r84%"
     ]
    },
    {
     "name": "stdout",
     "output_type": "stream",
     "text": [
      "\r84%"
     ]
    },
    {
     "name": "stdout",
     "output_type": "stream",
     "text": [
      "\r84%"
     ]
    },
    {
     "name": "stdout",
     "output_type": "stream",
     "text": [
      "\r84%"
     ]
    },
    {
     "name": "stdout",
     "output_type": "stream",
     "text": [
      "\r85%"
     ]
    },
    {
     "name": "stdout",
     "output_type": "stream",
     "text": [
      "\r85%"
     ]
    },
    {
     "name": "stdout",
     "output_type": "stream",
     "text": [
      "\r85%"
     ]
    },
    {
     "name": "stdout",
     "output_type": "stream",
     "text": [
      "\r86%"
     ]
    },
    {
     "name": "stdout",
     "output_type": "stream",
     "text": [
      "\r86%"
     ]
    },
    {
     "name": "stdout",
     "output_type": "stream",
     "text": [
      "\r86%"
     ]
    },
    {
     "name": "stdout",
     "output_type": "stream",
     "text": [
      "\r86%"
     ]
    },
    {
     "name": "stdout",
     "output_type": "stream",
     "text": [
      "\r87%"
     ]
    },
    {
     "name": "stdout",
     "output_type": "stream",
     "text": [
      "\r87%"
     ]
    },
    {
     "name": "stdout",
     "output_type": "stream",
     "text": [
      "\r87%"
     ]
    },
    {
     "name": "stdout",
     "output_type": "stream",
     "text": [
      "\r87%"
     ]
    },
    {
     "name": "stdout",
     "output_type": "stream",
     "text": [
      "\r88%"
     ]
    },
    {
     "name": "stdout",
     "output_type": "stream",
     "text": [
      "\r88%"
     ]
    },
    {
     "name": "stdout",
     "output_type": "stream",
     "text": [
      "\r88%"
     ]
    },
    {
     "name": "stdout",
     "output_type": "stream",
     "text": [
      "\r89%"
     ]
    },
    {
     "name": "stdout",
     "output_type": "stream",
     "text": [
      "\r89%"
     ]
    },
    {
     "name": "stdout",
     "output_type": "stream",
     "text": [
      "\r89%"
     ]
    },
    {
     "name": "stdout",
     "output_type": "stream",
     "text": [
      "\r89%"
     ]
    },
    {
     "name": "stdout",
     "output_type": "stream",
     "text": [
      "\r90%"
     ]
    },
    {
     "name": "stdout",
     "output_type": "stream",
     "text": [
      "\r90%"
     ]
    },
    {
     "name": "stdout",
     "output_type": "stream",
     "text": [
      "\r90%"
     ]
    },
    {
     "name": "stdout",
     "output_type": "stream",
     "text": [
      "\r90%"
     ]
    },
    {
     "name": "stdout",
     "output_type": "stream",
     "text": [
      "\r91%"
     ]
    },
    {
     "name": "stdout",
     "output_type": "stream",
     "text": [
      "\r91%"
     ]
    },
    {
     "name": "stdout",
     "output_type": "stream",
     "text": [
      "\r91%"
     ]
    },
    {
     "name": "stdout",
     "output_type": "stream",
     "text": [
      "\r92%"
     ]
    },
    {
     "name": "stdout",
     "output_type": "stream",
     "text": [
      "\r92%"
     ]
    },
    {
     "name": "stdout",
     "output_type": "stream",
     "text": [
      "\r92%"
     ]
    },
    {
     "name": "stdout",
     "output_type": "stream",
     "text": [
      "\r92%"
     ]
    },
    {
     "name": "stdout",
     "output_type": "stream",
     "text": [
      "\r93%"
     ]
    },
    {
     "name": "stdout",
     "output_type": "stream",
     "text": [
      "\r93%"
     ]
    },
    {
     "name": "stdout",
     "output_type": "stream",
     "text": [
      "\r93%"
     ]
    },
    {
     "name": "stdout",
     "output_type": "stream",
     "text": [
      "\r93%"
     ]
    },
    {
     "name": "stdout",
     "output_type": "stream",
     "text": [
      "\r94%"
     ]
    },
    {
     "name": "stdout",
     "output_type": "stream",
     "text": [
      "\r94%"
     ]
    },
    {
     "name": "stdout",
     "output_type": "stream",
     "text": [
      "\r94%"
     ]
    },
    {
     "name": "stdout",
     "output_type": "stream",
     "text": [
      "\r95%"
     ]
    },
    {
     "name": "stdout",
     "output_type": "stream",
     "text": [
      "\r95%"
     ]
    },
    {
     "name": "stdout",
     "output_type": "stream",
     "text": [
      "\r95%"
     ]
    },
    {
     "name": "stdout",
     "output_type": "stream",
     "text": [
      "\r95%"
     ]
    },
    {
     "name": "stdout",
     "output_type": "stream",
     "text": [
      "\r96%"
     ]
    },
    {
     "name": "stdout",
     "output_type": "stream",
     "text": [
      "\r96%"
     ]
    },
    {
     "name": "stdout",
     "output_type": "stream",
     "text": [
      "\r96%"
     ]
    },
    {
     "name": "stdout",
     "output_type": "stream",
     "text": [
      "\r96%"
     ]
    },
    {
     "name": "stdout",
     "output_type": "stream",
     "text": [
      "\r97%"
     ]
    },
    {
     "name": "stdout",
     "output_type": "stream",
     "text": [
      "\r97%"
     ]
    },
    {
     "name": "stdout",
     "output_type": "stream",
     "text": [
      "\r97%"
     ]
    },
    {
     "name": "stdout",
     "output_type": "stream",
     "text": [
      "\r98%"
     ]
    },
    {
     "name": "stdout",
     "output_type": "stream",
     "text": [
      "\r98%"
     ]
    },
    {
     "name": "stdout",
     "output_type": "stream",
     "text": [
      "\r98%"
     ]
    },
    {
     "name": "stdout",
     "output_type": "stream",
     "text": [
      "\r98%"
     ]
    },
    {
     "name": "stdout",
     "output_type": "stream",
     "text": [
      "\r99%"
     ]
    },
    {
     "name": "stdout",
     "output_type": "stream",
     "text": [
      "\r99%"
     ]
    },
    {
     "name": "stdout",
     "output_type": "stream",
     "text": [
      "\r99%"
     ]
    },
    {
     "name": "stdout",
     "output_type": "stream",
     "text": [
      "\r3 훈련 MSE: 0.04251602\n"
     ]
    },
    {
     "name": "stdout",
     "output_type": "stream",
     "text": [
      "\r0%"
     ]
    },
    {
     "name": "stdout",
     "output_type": "stream",
     "text": [
      "\r0%"
     ]
    },
    {
     "name": "stdout",
     "output_type": "stream",
     "text": [
      "\r0%"
     ]
    },
    {
     "name": "stdout",
     "output_type": "stream",
     "text": [
      "\r0%"
     ]
    },
    {
     "name": "stdout",
     "output_type": "stream",
     "text": [
      "\r1%"
     ]
    },
    {
     "name": "stdout",
     "output_type": "stream",
     "text": [
      "\r1%"
     ]
    },
    {
     "name": "stdout",
     "output_type": "stream",
     "text": [
      "\r1%"
     ]
    },
    {
     "name": "stdout",
     "output_type": "stream",
     "text": [
      "\r1%"
     ]
    },
    {
     "name": "stdout",
     "output_type": "stream",
     "text": [
      "\r2%"
     ]
    },
    {
     "name": "stdout",
     "output_type": "stream",
     "text": [
      "\r2%"
     ]
    },
    {
     "name": "stdout",
     "output_type": "stream",
     "text": [
      "\r2%"
     ]
    },
    {
     "name": "stdout",
     "output_type": "stream",
     "text": [
      "\r3%"
     ]
    },
    {
     "name": "stdout",
     "output_type": "stream",
     "text": [
      "\r3%"
     ]
    },
    {
     "name": "stdout",
     "output_type": "stream",
     "text": [
      "\r3%"
     ]
    },
    {
     "name": "stdout",
     "output_type": "stream",
     "text": [
      "\r3%"
     ]
    },
    {
     "name": "stdout",
     "output_type": "stream",
     "text": [
      "\r4%"
     ]
    },
    {
     "name": "stdout",
     "output_type": "stream",
     "text": [
      "\r4%"
     ]
    },
    {
     "name": "stdout",
     "output_type": "stream",
     "text": [
      "\r4%"
     ]
    },
    {
     "name": "stdout",
     "output_type": "stream",
     "text": [
      "\r4%"
     ]
    },
    {
     "name": "stdout",
     "output_type": "stream",
     "text": [
      "\r5%"
     ]
    },
    {
     "name": "stdout",
     "output_type": "stream",
     "text": [
      "\r5%"
     ]
    },
    {
     "name": "stdout",
     "output_type": "stream",
     "text": [
      "\r5%"
     ]
    },
    {
     "name": "stdout",
     "output_type": "stream",
     "text": [
      "\r6%"
     ]
    },
    {
     "name": "stdout",
     "output_type": "stream",
     "text": [
      "\r6%"
     ]
    },
    {
     "name": "stdout",
     "output_type": "stream",
     "text": [
      "\r6%"
     ]
    },
    {
     "name": "stdout",
     "output_type": "stream",
     "text": [
      "\r6%"
     ]
    },
    {
     "name": "stdout",
     "output_type": "stream",
     "text": [
      "\r7%"
     ]
    },
    {
     "name": "stdout",
     "output_type": "stream",
     "text": [
      "\r7%"
     ]
    },
    {
     "name": "stdout",
     "output_type": "stream",
     "text": [
      "\r7%"
     ]
    },
    {
     "name": "stdout",
     "output_type": "stream",
     "text": [
      "\r7%"
     ]
    },
    {
     "name": "stdout",
     "output_type": "stream",
     "text": [
      "\r8%"
     ]
    },
    {
     "name": "stdout",
     "output_type": "stream",
     "text": [
      "\r8%"
     ]
    },
    {
     "name": "stdout",
     "output_type": "stream",
     "text": [
      "\r8%"
     ]
    },
    {
     "name": "stdout",
     "output_type": "stream",
     "text": [
      "\r9%"
     ]
    },
    {
     "name": "stdout",
     "output_type": "stream",
     "text": [
      "\r9%"
     ]
    },
    {
     "name": "stdout",
     "output_type": "stream",
     "text": [
      "\r9%"
     ]
    },
    {
     "name": "stdout",
     "output_type": "stream",
     "text": [
      "\r9%"
     ]
    },
    {
     "name": "stdout",
     "output_type": "stream",
     "text": [
      "\r10%"
     ]
    },
    {
     "name": "stdout",
     "output_type": "stream",
     "text": [
      "\r10%"
     ]
    },
    {
     "name": "stdout",
     "output_type": "stream",
     "text": [
      "\r10%"
     ]
    },
    {
     "name": "stdout",
     "output_type": "stream",
     "text": [
      "\r10%"
     ]
    },
    {
     "name": "stdout",
     "output_type": "stream",
     "text": [
      "\r11%"
     ]
    },
    {
     "name": "stdout",
     "output_type": "stream",
     "text": [
      "\r11%"
     ]
    },
    {
     "name": "stdout",
     "output_type": "stream",
     "text": [
      "\r11%"
     ]
    },
    {
     "name": "stdout",
     "output_type": "stream",
     "text": [
      "\r12%"
     ]
    },
    {
     "name": "stdout",
     "output_type": "stream",
     "text": [
      "\r12%"
     ]
    },
    {
     "name": "stdout",
     "output_type": "stream",
     "text": [
      "\r12%"
     ]
    },
    {
     "name": "stdout",
     "output_type": "stream",
     "text": [
      "\r12%"
     ]
    },
    {
     "name": "stdout",
     "output_type": "stream",
     "text": [
      "\r13%"
     ]
    },
    {
     "name": "stdout",
     "output_type": "stream",
     "text": [
      "\r13%"
     ]
    },
    {
     "name": "stdout",
     "output_type": "stream",
     "text": [
      "\r13%"
     ]
    },
    {
     "name": "stdout",
     "output_type": "stream",
     "text": [
      "\r13%"
     ]
    },
    {
     "name": "stdout",
     "output_type": "stream",
     "text": [
      "\r14%"
     ]
    },
    {
     "name": "stdout",
     "output_type": "stream",
     "text": [
      "\r14%"
     ]
    },
    {
     "name": "stdout",
     "output_type": "stream",
     "text": [
      "\r14%"
     ]
    },
    {
     "name": "stdout",
     "output_type": "stream",
     "text": [
      "\r15%"
     ]
    },
    {
     "name": "stdout",
     "output_type": "stream",
     "text": [
      "\r15%"
     ]
    },
    {
     "name": "stdout",
     "output_type": "stream",
     "text": [
      "\r15%"
     ]
    },
    {
     "name": "stdout",
     "output_type": "stream",
     "text": [
      "\r15%"
     ]
    },
    {
     "name": "stdout",
     "output_type": "stream",
     "text": [
      "\r16%"
     ]
    },
    {
     "name": "stdout",
     "output_type": "stream",
     "text": [
      "\r16%"
     ]
    },
    {
     "name": "stdout",
     "output_type": "stream",
     "text": [
      "\r16%"
     ]
    },
    {
     "name": "stdout",
     "output_type": "stream",
     "text": [
      "\r16%"
     ]
    },
    {
     "name": "stdout",
     "output_type": "stream",
     "text": [
      "\r17%"
     ]
    },
    {
     "name": "stdout",
     "output_type": "stream",
     "text": [
      "\r17%"
     ]
    },
    {
     "name": "stdout",
     "output_type": "stream",
     "text": [
      "\r17%"
     ]
    },
    {
     "name": "stdout",
     "output_type": "stream",
     "text": [
      "\r18%"
     ]
    },
    {
     "name": "stdout",
     "output_type": "stream",
     "text": [
      "\r18%"
     ]
    },
    {
     "name": "stdout",
     "output_type": "stream",
     "text": [
      "\r18%"
     ]
    },
    {
     "name": "stdout",
     "output_type": "stream",
     "text": [
      "\r18%"
     ]
    },
    {
     "name": "stdout",
     "output_type": "stream",
     "text": [
      "\r19%"
     ]
    },
    {
     "name": "stdout",
     "output_type": "stream",
     "text": [
      "\r19%"
     ]
    },
    {
     "name": "stdout",
     "output_type": "stream",
     "text": [
      "\r19%"
     ]
    },
    {
     "name": "stdout",
     "output_type": "stream",
     "text": [
      "\r19%"
     ]
    },
    {
     "name": "stdout",
     "output_type": "stream",
     "text": [
      "\r20%"
     ]
    },
    {
     "name": "stdout",
     "output_type": "stream",
     "text": [
      "\r20%"
     ]
    },
    {
     "name": "stdout",
     "output_type": "stream",
     "text": [
      "\r20%"
     ]
    },
    {
     "name": "stdout",
     "output_type": "stream",
     "text": [
      "\r21%"
     ]
    },
    {
     "name": "stdout",
     "output_type": "stream",
     "text": [
      "\r21%"
     ]
    },
    {
     "name": "stdout",
     "output_type": "stream",
     "text": [
      "\r21%"
     ]
    },
    {
     "name": "stdout",
     "output_type": "stream",
     "text": [
      "\r21%"
     ]
    },
    {
     "name": "stdout",
     "output_type": "stream",
     "text": [
      "\r22%"
     ]
    },
    {
     "name": "stdout",
     "output_type": "stream",
     "text": [
      "\r22%"
     ]
    },
    {
     "name": "stdout",
     "output_type": "stream",
     "text": [
      "\r22%"
     ]
    },
    {
     "name": "stdout",
     "output_type": "stream",
     "text": [
      "\r22%"
     ]
    },
    {
     "name": "stdout",
     "output_type": "stream",
     "text": [
      "\r23%"
     ]
    },
    {
     "name": "stdout",
     "output_type": "stream",
     "text": [
      "\r23%"
     ]
    },
    {
     "name": "stdout",
     "output_type": "stream",
     "text": [
      "\r23%"
     ]
    },
    {
     "name": "stdout",
     "output_type": "stream",
     "text": [
      "\r24%"
     ]
    },
    {
     "name": "stdout",
     "output_type": "stream",
     "text": [
      "\r24%"
     ]
    },
    {
     "name": "stdout",
     "output_type": "stream",
     "text": [
      "\r24%"
     ]
    },
    {
     "name": "stdout",
     "output_type": "stream",
     "text": [
      "\r24%"
     ]
    },
    {
     "name": "stdout",
     "output_type": "stream",
     "text": [
      "\r25%"
     ]
    },
    {
     "name": "stdout",
     "output_type": "stream",
     "text": [
      "\r25%"
     ]
    },
    {
     "name": "stdout",
     "output_type": "stream",
     "text": [
      "\r25%"
     ]
    },
    {
     "name": "stdout",
     "output_type": "stream",
     "text": [
      "\r25%"
     ]
    },
    {
     "name": "stdout",
     "output_type": "stream",
     "text": [
      "\r26%"
     ]
    },
    {
     "name": "stdout",
     "output_type": "stream",
     "text": [
      "\r26%"
     ]
    },
    {
     "name": "stdout",
     "output_type": "stream",
     "text": [
      "\r26%"
     ]
    },
    {
     "name": "stdout",
     "output_type": "stream",
     "text": [
      "\r27%"
     ]
    },
    {
     "name": "stdout",
     "output_type": "stream",
     "text": [
      "\r27%"
     ]
    },
    {
     "name": "stdout",
     "output_type": "stream",
     "text": [
      "\r27%"
     ]
    },
    {
     "name": "stdout",
     "output_type": "stream",
     "text": [
      "\r27%"
     ]
    },
    {
     "name": "stdout",
     "output_type": "stream",
     "text": [
      "\r28%"
     ]
    },
    {
     "name": "stdout",
     "output_type": "stream",
     "text": [
      "\r28%"
     ]
    },
    {
     "name": "stdout",
     "output_type": "stream",
     "text": [
      "\r28%"
     ]
    },
    {
     "name": "stdout",
     "output_type": "stream",
     "text": [
      "\r28%"
     ]
    },
    {
     "name": "stdout",
     "output_type": "stream",
     "text": [
      "\r29%"
     ]
    },
    {
     "name": "stdout",
     "output_type": "stream",
     "text": [
      "\r29%"
     ]
    },
    {
     "name": "stdout",
     "output_type": "stream",
     "text": [
      "\r29%"
     ]
    },
    {
     "name": "stdout",
     "output_type": "stream",
     "text": [
      "\r30%"
     ]
    },
    {
     "name": "stdout",
     "output_type": "stream",
     "text": [
      "\r30%"
     ]
    },
    {
     "name": "stdout",
     "output_type": "stream",
     "text": [
      "\r30%"
     ]
    },
    {
     "name": "stdout",
     "output_type": "stream",
     "text": [
      "\r30%"
     ]
    },
    {
     "name": "stdout",
     "output_type": "stream",
     "text": [
      "\r31%"
     ]
    },
    {
     "name": "stdout",
     "output_type": "stream",
     "text": [
      "\r31%"
     ]
    },
    {
     "name": "stdout",
     "output_type": "stream",
     "text": [
      "\r31%"
     ]
    },
    {
     "name": "stdout",
     "output_type": "stream",
     "text": [
      "\r31%"
     ]
    },
    {
     "name": "stdout",
     "output_type": "stream",
     "text": [
      "\r32%"
     ]
    },
    {
     "name": "stdout",
     "output_type": "stream",
     "text": [
      "\r32%"
     ]
    },
    {
     "name": "stdout",
     "output_type": "stream",
     "text": [
      "\r32%"
     ]
    },
    {
     "name": "stdout",
     "output_type": "stream",
     "text": [
      "\r33%"
     ]
    },
    {
     "name": "stdout",
     "output_type": "stream",
     "text": [
      "\r33%"
     ]
    },
    {
     "name": "stdout",
     "output_type": "stream",
     "text": [
      "\r33%"
     ]
    },
    {
     "name": "stdout",
     "output_type": "stream",
     "text": [
      "\r33%"
     ]
    },
    {
     "name": "stdout",
     "output_type": "stream",
     "text": [
      "\r34%"
     ]
    },
    {
     "name": "stdout",
     "output_type": "stream",
     "text": [
      "\r34%"
     ]
    },
    {
     "name": "stdout",
     "output_type": "stream",
     "text": [
      "\r34%"
     ]
    },
    {
     "name": "stdout",
     "output_type": "stream",
     "text": [
      "\r34%"
     ]
    },
    {
     "name": "stdout",
     "output_type": "stream",
     "text": [
      "\r35%"
     ]
    },
    {
     "name": "stdout",
     "output_type": "stream",
     "text": [
      "\r35%"
     ]
    },
    {
     "name": "stdout",
     "output_type": "stream",
     "text": [
      "\r35%"
     ]
    },
    {
     "name": "stdout",
     "output_type": "stream",
     "text": [
      "\r36%"
     ]
    },
    {
     "name": "stdout",
     "output_type": "stream",
     "text": [
      "\r36%"
     ]
    },
    {
     "name": "stdout",
     "output_type": "stream",
     "text": [
      "\r36%"
     ]
    },
    {
     "name": "stdout",
     "output_type": "stream",
     "text": [
      "\r36%"
     ]
    },
    {
     "name": "stdout",
     "output_type": "stream",
     "text": [
      "\r37%"
     ]
    },
    {
     "name": "stdout",
     "output_type": "stream",
     "text": [
      "\r37%"
     ]
    },
    {
     "name": "stdout",
     "output_type": "stream",
     "text": [
      "\r37%"
     ]
    },
    {
     "name": "stdout",
     "output_type": "stream",
     "text": [
      "\r37%"
     ]
    },
    {
     "name": "stdout",
     "output_type": "stream",
     "text": [
      "\r38%"
     ]
    },
    {
     "name": "stdout",
     "output_type": "stream",
     "text": [
      "\r38%"
     ]
    },
    {
     "name": "stdout",
     "output_type": "stream",
     "text": [
      "\r38%"
     ]
    },
    {
     "name": "stdout",
     "output_type": "stream",
     "text": [
      "\r39%"
     ]
    },
    {
     "name": "stdout",
     "output_type": "stream",
     "text": [
      "\r39%"
     ]
    },
    {
     "name": "stdout",
     "output_type": "stream",
     "text": [
      "\r39%"
     ]
    },
    {
     "name": "stdout",
     "output_type": "stream",
     "text": [
      "\r39%"
     ]
    },
    {
     "name": "stdout",
     "output_type": "stream",
     "text": [
      "\r40%"
     ]
    },
    {
     "name": "stdout",
     "output_type": "stream",
     "text": [
      "\r40%"
     ]
    },
    {
     "name": "stdout",
     "output_type": "stream",
     "text": [
      "\r40%"
     ]
    },
    {
     "name": "stdout",
     "output_type": "stream",
     "text": [
      "\r40%"
     ]
    },
    {
     "name": "stdout",
     "output_type": "stream",
     "text": [
      "\r41%"
     ]
    },
    {
     "name": "stdout",
     "output_type": "stream",
     "text": [
      "\r41%"
     ]
    },
    {
     "name": "stdout",
     "output_type": "stream",
     "text": [
      "\r41%"
     ]
    },
    {
     "name": "stdout",
     "output_type": "stream",
     "text": [
      "\r42%"
     ]
    },
    {
     "name": "stdout",
     "output_type": "stream",
     "text": [
      "\r42%"
     ]
    },
    {
     "name": "stdout",
     "output_type": "stream",
     "text": [
      "\r42%"
     ]
    },
    {
     "name": "stdout",
     "output_type": "stream",
     "text": [
      "\r42%"
     ]
    },
    {
     "name": "stdout",
     "output_type": "stream",
     "text": [
      "\r43%"
     ]
    },
    {
     "name": "stdout",
     "output_type": "stream",
     "text": [
      "\r43%"
     ]
    },
    {
     "name": "stdout",
     "output_type": "stream",
     "text": [
      "\r43%"
     ]
    },
    {
     "name": "stdout",
     "output_type": "stream",
     "text": [
      "\r43%"
     ]
    },
    {
     "name": "stdout",
     "output_type": "stream",
     "text": [
      "\r44%"
     ]
    },
    {
     "name": "stdout",
     "output_type": "stream",
     "text": [
      "\r44%"
     ]
    },
    {
     "name": "stdout",
     "output_type": "stream",
     "text": [
      "\r44%"
     ]
    },
    {
     "name": "stdout",
     "output_type": "stream",
     "text": [
      "\r45%"
     ]
    },
    {
     "name": "stdout",
     "output_type": "stream",
     "text": [
      "\r45%"
     ]
    },
    {
     "name": "stdout",
     "output_type": "stream",
     "text": [
      "\r45%"
     ]
    },
    {
     "name": "stdout",
     "output_type": "stream",
     "text": [
      "\r45%"
     ]
    },
    {
     "name": "stdout",
     "output_type": "stream",
     "text": [
      "\r46%"
     ]
    },
    {
     "name": "stdout",
     "output_type": "stream",
     "text": [
      "\r46%"
     ]
    },
    {
     "name": "stdout",
     "output_type": "stream",
     "text": [
      "\r46%"
     ]
    },
    {
     "name": "stdout",
     "output_type": "stream",
     "text": [
      "\r46%"
     ]
    },
    {
     "name": "stdout",
     "output_type": "stream",
     "text": [
      "\r47%"
     ]
    },
    {
     "name": "stdout",
     "output_type": "stream",
     "text": [
      "\r47%"
     ]
    },
    {
     "name": "stdout",
     "output_type": "stream",
     "text": [
      "\r47%"
     ]
    },
    {
     "name": "stdout",
     "output_type": "stream",
     "text": [
      "\r48%"
     ]
    },
    {
     "name": "stdout",
     "output_type": "stream",
     "text": [
      "\r48%"
     ]
    },
    {
     "name": "stdout",
     "output_type": "stream",
     "text": [
      "\r48%"
     ]
    },
    {
     "name": "stdout",
     "output_type": "stream",
     "text": [
      "\r48%"
     ]
    },
    {
     "name": "stdout",
     "output_type": "stream",
     "text": [
      "\r49%"
     ]
    },
    {
     "name": "stdout",
     "output_type": "stream",
     "text": [
      "\r49%"
     ]
    },
    {
     "name": "stdout",
     "output_type": "stream",
     "text": [
      "\r49%"
     ]
    },
    {
     "name": "stdout",
     "output_type": "stream",
     "text": [
      "\r50%"
     ]
    },
    {
     "name": "stdout",
     "output_type": "stream",
     "text": [
      "\r50%"
     ]
    },
    {
     "name": "stdout",
     "output_type": "stream",
     "text": [
      "\r50%"
     ]
    },
    {
     "name": "stdout",
     "output_type": "stream",
     "text": [
      "\r50%"
     ]
    },
    {
     "name": "stdout",
     "output_type": "stream",
     "text": [
      "\r51%"
     ]
    },
    {
     "name": "stdout",
     "output_type": "stream",
     "text": [
      "\r51%"
     ]
    },
    {
     "name": "stdout",
     "output_type": "stream",
     "text": [
      "\r51%"
     ]
    },
    {
     "name": "stdout",
     "output_type": "stream",
     "text": [
      "\r51%"
     ]
    },
    {
     "name": "stdout",
     "output_type": "stream",
     "text": [
      "\r52%"
     ]
    },
    {
     "name": "stdout",
     "output_type": "stream",
     "text": [
      "\r52%"
     ]
    },
    {
     "name": "stdout",
     "output_type": "stream",
     "text": [
      "\r52%"
     ]
    },
    {
     "name": "stdout",
     "output_type": "stream",
     "text": [
      "\r53%"
     ]
    },
    {
     "name": "stdout",
     "output_type": "stream",
     "text": [
      "\r53%"
     ]
    },
    {
     "name": "stdout",
     "output_type": "stream",
     "text": [
      "\r53%"
     ]
    },
    {
     "name": "stdout",
     "output_type": "stream",
     "text": [
      "\r53%"
     ]
    },
    {
     "name": "stdout",
     "output_type": "stream",
     "text": [
      "\r54%"
     ]
    },
    {
     "name": "stdout",
     "output_type": "stream",
     "text": [
      "\r54%"
     ]
    },
    {
     "name": "stdout",
     "output_type": "stream",
     "text": [
      "\r54%"
     ]
    },
    {
     "name": "stdout",
     "output_type": "stream",
     "text": [
      "\r54%"
     ]
    },
    {
     "name": "stdout",
     "output_type": "stream",
     "text": [
      "\r55%"
     ]
    },
    {
     "name": "stdout",
     "output_type": "stream",
     "text": [
      "\r55%"
     ]
    },
    {
     "name": "stdout",
     "output_type": "stream",
     "text": [
      "\r55%"
     ]
    },
    {
     "name": "stdout",
     "output_type": "stream",
     "text": [
      "\r56%"
     ]
    },
    {
     "name": "stdout",
     "output_type": "stream",
     "text": [
      "\r56%"
     ]
    },
    {
     "name": "stdout",
     "output_type": "stream",
     "text": [
      "\r56%"
     ]
    },
    {
     "name": "stdout",
     "output_type": "stream",
     "text": [
      "\r56%"
     ]
    },
    {
     "name": "stdout",
     "output_type": "stream",
     "text": [
      "\r57%"
     ]
    },
    {
     "name": "stdout",
     "output_type": "stream",
     "text": [
      "\r57%"
     ]
    },
    {
     "name": "stdout",
     "output_type": "stream",
     "text": [
      "\r57%"
     ]
    },
    {
     "name": "stdout",
     "output_type": "stream",
     "text": [
      "\r57%"
     ]
    },
    {
     "name": "stdout",
     "output_type": "stream",
     "text": [
      "\r58%"
     ]
    },
    {
     "name": "stdout",
     "output_type": "stream",
     "text": [
      "\r58%"
     ]
    },
    {
     "name": "stdout",
     "output_type": "stream",
     "text": [
      "\r58%"
     ]
    },
    {
     "name": "stdout",
     "output_type": "stream",
     "text": [
      "\r59%"
     ]
    },
    {
     "name": "stdout",
     "output_type": "stream",
     "text": [
      "\r59%"
     ]
    },
    {
     "name": "stdout",
     "output_type": "stream",
     "text": [
      "\r59%"
     ]
    },
    {
     "name": "stdout",
     "output_type": "stream",
     "text": [
      "\r59%"
     ]
    },
    {
     "name": "stdout",
     "output_type": "stream",
     "text": [
      "\r60%"
     ]
    },
    {
     "name": "stdout",
     "output_type": "stream",
     "text": [
      "\r60%"
     ]
    },
    {
     "name": "stdout",
     "output_type": "stream",
     "text": [
      "\r60%"
     ]
    },
    {
     "name": "stdout",
     "output_type": "stream",
     "text": [
      "\r60%"
     ]
    },
    {
     "name": "stdout",
     "output_type": "stream",
     "text": [
      "\r61%"
     ]
    },
    {
     "name": "stdout",
     "output_type": "stream",
     "text": [
      "\r61%"
     ]
    },
    {
     "name": "stdout",
     "output_type": "stream",
     "text": [
      "\r61%"
     ]
    },
    {
     "name": "stdout",
     "output_type": "stream",
     "text": [
      "\r62%"
     ]
    },
    {
     "name": "stdout",
     "output_type": "stream",
     "text": [
      "\r62%"
     ]
    },
    {
     "name": "stdout",
     "output_type": "stream",
     "text": [
      "\r62%"
     ]
    },
    {
     "name": "stdout",
     "output_type": "stream",
     "text": [
      "\r62%"
     ]
    },
    {
     "name": "stdout",
     "output_type": "stream",
     "text": [
      "\r63%"
     ]
    },
    {
     "name": "stdout",
     "output_type": "stream",
     "text": [
      "\r63%"
     ]
    },
    {
     "name": "stdout",
     "output_type": "stream",
     "text": [
      "\r63%"
     ]
    },
    {
     "name": "stdout",
     "output_type": "stream",
     "text": [
      "\r63%"
     ]
    },
    {
     "name": "stdout",
     "output_type": "stream",
     "text": [
      "\r64%"
     ]
    },
    {
     "name": "stdout",
     "output_type": "stream",
     "text": [
      "\r64%"
     ]
    },
    {
     "name": "stdout",
     "output_type": "stream",
     "text": [
      "\r64%"
     ]
    },
    {
     "name": "stdout",
     "output_type": "stream",
     "text": [
      "\r65%"
     ]
    },
    {
     "name": "stdout",
     "output_type": "stream",
     "text": [
      "\r65%"
     ]
    },
    {
     "name": "stdout",
     "output_type": "stream",
     "text": [
      "\r65%"
     ]
    },
    {
     "name": "stdout",
     "output_type": "stream",
     "text": [
      "\r65%"
     ]
    },
    {
     "name": "stdout",
     "output_type": "stream",
     "text": [
      "\r66%"
     ]
    },
    {
     "name": "stdout",
     "output_type": "stream",
     "text": [
      "\r66%"
     ]
    },
    {
     "name": "stdout",
     "output_type": "stream",
     "text": [
      "\r66%"
     ]
    },
    {
     "name": "stdout",
     "output_type": "stream",
     "text": [
      "\r66%"
     ]
    },
    {
     "name": "stdout",
     "output_type": "stream",
     "text": [
      "\r67%"
     ]
    },
    {
     "name": "stdout",
     "output_type": "stream",
     "text": [
      "\r67%"
     ]
    },
    {
     "name": "stdout",
     "output_type": "stream",
     "text": [
      "\r67%"
     ]
    },
    {
     "name": "stdout",
     "output_type": "stream",
     "text": [
      "\r68%"
     ]
    },
    {
     "name": "stdout",
     "output_type": "stream",
     "text": [
      "\r68%"
     ]
    },
    {
     "name": "stdout",
     "output_type": "stream",
     "text": [
      "\r68%"
     ]
    },
    {
     "name": "stdout",
     "output_type": "stream",
     "text": [
      "\r68%"
     ]
    },
    {
     "name": "stdout",
     "output_type": "stream",
     "text": [
      "\r69%"
     ]
    },
    {
     "name": "stdout",
     "output_type": "stream",
     "text": [
      "\r69%"
     ]
    },
    {
     "name": "stdout",
     "output_type": "stream",
     "text": [
      "\r69%"
     ]
    },
    {
     "name": "stdout",
     "output_type": "stream",
     "text": [
      "\r69%"
     ]
    },
    {
     "name": "stdout",
     "output_type": "stream",
     "text": [
      "\r70%"
     ]
    },
    {
     "name": "stdout",
     "output_type": "stream",
     "text": [
      "\r70%"
     ]
    },
    {
     "name": "stdout",
     "output_type": "stream",
     "text": [
      "\r70%"
     ]
    },
    {
     "name": "stdout",
     "output_type": "stream",
     "text": [
      "\r71%"
     ]
    },
    {
     "name": "stdout",
     "output_type": "stream",
     "text": [
      "\r71%"
     ]
    },
    {
     "name": "stdout",
     "output_type": "stream",
     "text": [
      "\r71%"
     ]
    },
    {
     "name": "stdout",
     "output_type": "stream",
     "text": [
      "\r71%"
     ]
    },
    {
     "name": "stdout",
     "output_type": "stream",
     "text": [
      "\r72%"
     ]
    },
    {
     "name": "stdout",
     "output_type": "stream",
     "text": [
      "\r72%"
     ]
    },
    {
     "name": "stdout",
     "output_type": "stream",
     "text": [
      "\r72%"
     ]
    },
    {
     "name": "stdout",
     "output_type": "stream",
     "text": [
      "\r72%"
     ]
    },
    {
     "name": "stdout",
     "output_type": "stream",
     "text": [
      "\r73%"
     ]
    },
    {
     "name": "stdout",
     "output_type": "stream",
     "text": [
      "\r73%"
     ]
    },
    {
     "name": "stdout",
     "output_type": "stream",
     "text": [
      "\r73%"
     ]
    },
    {
     "name": "stdout",
     "output_type": "stream",
     "text": [
      "\r74%"
     ]
    },
    {
     "name": "stdout",
     "output_type": "stream",
     "text": [
      "\r74%"
     ]
    },
    {
     "name": "stdout",
     "output_type": "stream",
     "text": [
      "\r74%"
     ]
    },
    {
     "name": "stdout",
     "output_type": "stream",
     "text": [
      "\r74%"
     ]
    },
    {
     "name": "stdout",
     "output_type": "stream",
     "text": [
      "\r75%"
     ]
    },
    {
     "name": "stdout",
     "output_type": "stream",
     "text": [
      "\r75%"
     ]
    },
    {
     "name": "stdout",
     "output_type": "stream",
     "text": [
      "\r75%"
     ]
    },
    {
     "name": "stdout",
     "output_type": "stream",
     "text": [
      "\r75%"
     ]
    },
    {
     "name": "stdout",
     "output_type": "stream",
     "text": [
      "\r76%"
     ]
    },
    {
     "name": "stdout",
     "output_type": "stream",
     "text": [
      "\r76%"
     ]
    },
    {
     "name": "stdout",
     "output_type": "stream",
     "text": [
      "\r76%"
     ]
    },
    {
     "name": "stdout",
     "output_type": "stream",
     "text": [
      "\r77%"
     ]
    },
    {
     "name": "stdout",
     "output_type": "stream",
     "text": [
      "\r77%"
     ]
    },
    {
     "name": "stdout",
     "output_type": "stream",
     "text": [
      "\r77%"
     ]
    },
    {
     "name": "stdout",
     "output_type": "stream",
     "text": [
      "\r77%"
     ]
    },
    {
     "name": "stdout",
     "output_type": "stream",
     "text": [
      "\r78%"
     ]
    },
    {
     "name": "stdout",
     "output_type": "stream",
     "text": [
      "\r78%"
     ]
    },
    {
     "name": "stdout",
     "output_type": "stream",
     "text": [
      "\r78%"
     ]
    },
    {
     "name": "stdout",
     "output_type": "stream",
     "text": [
      "\r78%"
     ]
    },
    {
     "name": "stdout",
     "output_type": "stream",
     "text": [
      "\r79%"
     ]
    },
    {
     "name": "stdout",
     "output_type": "stream",
     "text": [
      "\r79%"
     ]
    },
    {
     "name": "stdout",
     "output_type": "stream",
     "text": [
      "\r79%"
     ]
    },
    {
     "name": "stdout",
     "output_type": "stream",
     "text": [
      "\r80%"
     ]
    },
    {
     "name": "stdout",
     "output_type": "stream",
     "text": [
      "\r80%"
     ]
    },
    {
     "name": "stdout",
     "output_type": "stream",
     "text": [
      "\r80%"
     ]
    },
    {
     "name": "stdout",
     "output_type": "stream",
     "text": [
      "\r80%"
     ]
    },
    {
     "name": "stdout",
     "output_type": "stream",
     "text": [
      "\r81%"
     ]
    },
    {
     "name": "stdout",
     "output_type": "stream",
     "text": [
      "\r81%"
     ]
    },
    {
     "name": "stdout",
     "output_type": "stream",
     "text": [
      "\r81%"
     ]
    },
    {
     "name": "stdout",
     "output_type": "stream",
     "text": [
      "\r81%"
     ]
    },
    {
     "name": "stdout",
     "output_type": "stream",
     "text": [
      "\r82%"
     ]
    },
    {
     "name": "stdout",
     "output_type": "stream",
     "text": [
      "\r82%"
     ]
    },
    {
     "name": "stdout",
     "output_type": "stream",
     "text": [
      "\r82%"
     ]
    },
    {
     "name": "stdout",
     "output_type": "stream",
     "text": [
      "\r83%"
     ]
    },
    {
     "name": "stdout",
     "output_type": "stream",
     "text": [
      "\r83%"
     ]
    },
    {
     "name": "stdout",
     "output_type": "stream",
     "text": [
      "\r83%"
     ]
    },
    {
     "name": "stdout",
     "output_type": "stream",
     "text": [
      "\r83%"
     ]
    },
    {
     "name": "stdout",
     "output_type": "stream",
     "text": [
      "\r84%"
     ]
    },
    {
     "name": "stdout",
     "output_type": "stream",
     "text": [
      "\r84%"
     ]
    },
    {
     "name": "stdout",
     "output_type": "stream",
     "text": [
      "\r84%"
     ]
    },
    {
     "name": "stdout",
     "output_type": "stream",
     "text": [
      "\r84%"
     ]
    },
    {
     "name": "stdout",
     "output_type": "stream",
     "text": [
      "\r85%"
     ]
    },
    {
     "name": "stdout",
     "output_type": "stream",
     "text": [
      "\r85%"
     ]
    },
    {
     "name": "stdout",
     "output_type": "stream",
     "text": [
      "\r85%"
     ]
    },
    {
     "name": "stdout",
     "output_type": "stream",
     "text": [
      "\r86%"
     ]
    },
    {
     "name": "stdout",
     "output_type": "stream",
     "text": [
      "\r86%"
     ]
    },
    {
     "name": "stdout",
     "output_type": "stream",
     "text": [
      "\r86%"
     ]
    },
    {
     "name": "stdout",
     "output_type": "stream",
     "text": [
      "\r86%"
     ]
    },
    {
     "name": "stdout",
     "output_type": "stream",
     "text": [
      "\r87%"
     ]
    },
    {
     "name": "stdout",
     "output_type": "stream",
     "text": [
      "\r87%"
     ]
    },
    {
     "name": "stdout",
     "output_type": "stream",
     "text": [
      "\r87%"
     ]
    },
    {
     "name": "stdout",
     "output_type": "stream",
     "text": [
      "\r87%"
     ]
    },
    {
     "name": "stdout",
     "output_type": "stream",
     "text": [
      "\r88%"
     ]
    },
    {
     "name": "stdout",
     "output_type": "stream",
     "text": [
      "\r88%"
     ]
    },
    {
     "name": "stdout",
     "output_type": "stream",
     "text": [
      "\r88%"
     ]
    },
    {
     "name": "stdout",
     "output_type": "stream",
     "text": [
      "\r89%"
     ]
    },
    {
     "name": "stdout",
     "output_type": "stream",
     "text": [
      "\r89%"
     ]
    },
    {
     "name": "stdout",
     "output_type": "stream",
     "text": [
      "\r89%"
     ]
    },
    {
     "name": "stdout",
     "output_type": "stream",
     "text": [
      "\r89%"
     ]
    },
    {
     "name": "stdout",
     "output_type": "stream",
     "text": [
      "\r90%"
     ]
    },
    {
     "name": "stdout",
     "output_type": "stream",
     "text": [
      "\r90%"
     ]
    },
    {
     "name": "stdout",
     "output_type": "stream",
     "text": [
      "\r90%"
     ]
    },
    {
     "name": "stdout",
     "output_type": "stream",
     "text": [
      "\r90%"
     ]
    },
    {
     "name": "stdout",
     "output_type": "stream",
     "text": [
      "\r91%"
     ]
    },
    {
     "name": "stdout",
     "output_type": "stream",
     "text": [
      "\r91%"
     ]
    },
    {
     "name": "stdout",
     "output_type": "stream",
     "text": [
      "\r91%"
     ]
    },
    {
     "name": "stdout",
     "output_type": "stream",
     "text": [
      "\r92%"
     ]
    },
    {
     "name": "stdout",
     "output_type": "stream",
     "text": [
      "\r92%"
     ]
    },
    {
     "name": "stdout",
     "output_type": "stream",
     "text": [
      "\r92%"
     ]
    },
    {
     "name": "stdout",
     "output_type": "stream",
     "text": [
      "\r92%"
     ]
    },
    {
     "name": "stdout",
     "output_type": "stream",
     "text": [
      "\r93%"
     ]
    },
    {
     "name": "stdout",
     "output_type": "stream",
     "text": [
      "\r93%"
     ]
    },
    {
     "name": "stdout",
     "output_type": "stream",
     "text": [
      "\r93%"
     ]
    },
    {
     "name": "stdout",
     "output_type": "stream",
     "text": [
      "\r93%"
     ]
    },
    {
     "name": "stdout",
     "output_type": "stream",
     "text": [
      "\r94%"
     ]
    },
    {
     "name": "stdout",
     "output_type": "stream",
     "text": [
      "\r94%"
     ]
    },
    {
     "name": "stdout",
     "output_type": "stream",
     "text": [
      "\r94%"
     ]
    },
    {
     "name": "stdout",
     "output_type": "stream",
     "text": [
      "\r95%"
     ]
    },
    {
     "name": "stdout",
     "output_type": "stream",
     "text": [
      "\r95%"
     ]
    },
    {
     "name": "stdout",
     "output_type": "stream",
     "text": [
      "\r95%"
     ]
    },
    {
     "name": "stdout",
     "output_type": "stream",
     "text": [
      "\r95%"
     ]
    },
    {
     "name": "stdout",
     "output_type": "stream",
     "text": [
      "\r96%"
     ]
    },
    {
     "name": "stdout",
     "output_type": "stream",
     "text": [
      "\r96%"
     ]
    },
    {
     "name": "stdout",
     "output_type": "stream",
     "text": [
      "\r96%"
     ]
    },
    {
     "name": "stdout",
     "output_type": "stream",
     "text": [
      "\r96%"
     ]
    },
    {
     "name": "stdout",
     "output_type": "stream",
     "text": [
      "\r97%"
     ]
    },
    {
     "name": "stdout",
     "output_type": "stream",
     "text": [
      "\r97%"
     ]
    },
    {
     "name": "stdout",
     "output_type": "stream",
     "text": [
      "\r97%"
     ]
    },
    {
     "name": "stdout",
     "output_type": "stream",
     "text": [
      "\r98%"
     ]
    },
    {
     "name": "stdout",
     "output_type": "stream",
     "text": [
      "\r98%"
     ]
    },
    {
     "name": "stdout",
     "output_type": "stream",
     "text": [
      "\r98%"
     ]
    },
    {
     "name": "stdout",
     "output_type": "stream",
     "text": [
      "\r98%"
     ]
    },
    {
     "name": "stdout",
     "output_type": "stream",
     "text": [
      "\r99%"
     ]
    },
    {
     "name": "stdout",
     "output_type": "stream",
     "text": [
      "\r99%"
     ]
    },
    {
     "name": "stdout",
     "output_type": "stream",
     "text": [
      "\r99%"
     ]
    },
    {
     "name": "stdout",
     "output_type": "stream",
     "text": [
      "\r4 훈련 MSE: 0.041144673\n"
     ]
    },
    {
     "name": "stdout",
     "output_type": "stream",
     "text": [
      "\r0%"
     ]
    },
    {
     "name": "stdout",
     "output_type": "stream",
     "text": [
      "\r0%"
     ]
    },
    {
     "name": "stdout",
     "output_type": "stream",
     "text": [
      "\r0%"
     ]
    },
    {
     "name": "stdout",
     "output_type": "stream",
     "text": [
      "\r0%"
     ]
    },
    {
     "name": "stdout",
     "output_type": "stream",
     "text": [
      "\r1%"
     ]
    },
    {
     "name": "stdout",
     "output_type": "stream",
     "text": [
      "\r1%"
     ]
    },
    {
     "name": "stdout",
     "output_type": "stream",
     "text": [
      "\r1%"
     ]
    },
    {
     "name": "stdout",
     "output_type": "stream",
     "text": [
      "\r1%"
     ]
    },
    {
     "name": "stdout",
     "output_type": "stream",
     "text": [
      "\r2%"
     ]
    },
    {
     "name": "stdout",
     "output_type": "stream",
     "text": [
      "\r2%"
     ]
    },
    {
     "name": "stdout",
     "output_type": "stream",
     "text": [
      "\r2%"
     ]
    },
    {
     "name": "stdout",
     "output_type": "stream",
     "text": [
      "\r3%"
     ]
    },
    {
     "name": "stdout",
     "output_type": "stream",
     "text": [
      "\r3%"
     ]
    },
    {
     "name": "stdout",
     "output_type": "stream",
     "text": [
      "\r3%"
     ]
    },
    {
     "name": "stdout",
     "output_type": "stream",
     "text": [
      "\r3%"
     ]
    },
    {
     "name": "stdout",
     "output_type": "stream",
     "text": [
      "\r4%"
     ]
    },
    {
     "name": "stdout",
     "output_type": "stream",
     "text": [
      "\r4%"
     ]
    },
    {
     "name": "stdout",
     "output_type": "stream",
     "text": [
      "\r4%"
     ]
    },
    {
     "name": "stdout",
     "output_type": "stream",
     "text": [
      "\r4%"
     ]
    },
    {
     "name": "stdout",
     "output_type": "stream",
     "text": [
      "\r5%"
     ]
    },
    {
     "name": "stdout",
     "output_type": "stream",
     "text": [
      "\r5%"
     ]
    },
    {
     "name": "stdout",
     "output_type": "stream",
     "text": [
      "\r5%"
     ]
    },
    {
     "name": "stdout",
     "output_type": "stream",
     "text": [
      "\r6%"
     ]
    },
    {
     "name": "stdout",
     "output_type": "stream",
     "text": [
      "\r6%"
     ]
    },
    {
     "name": "stdout",
     "output_type": "stream",
     "text": [
      "\r6%"
     ]
    },
    {
     "name": "stdout",
     "output_type": "stream",
     "text": [
      "\r6%"
     ]
    },
    {
     "name": "stdout",
     "output_type": "stream",
     "text": [
      "\r7%"
     ]
    },
    {
     "name": "stdout",
     "output_type": "stream",
     "text": [
      "\r7%"
     ]
    },
    {
     "name": "stdout",
     "output_type": "stream",
     "text": [
      "\r7%"
     ]
    },
    {
     "name": "stdout",
     "output_type": "stream",
     "text": [
      "\r7%"
     ]
    },
    {
     "name": "stdout",
     "output_type": "stream",
     "text": [
      "\r8%"
     ]
    },
    {
     "name": "stdout",
     "output_type": "stream",
     "text": [
      "\r8%"
     ]
    },
    {
     "name": "stdout",
     "output_type": "stream",
     "text": [
      "\r8%"
     ]
    },
    {
     "name": "stdout",
     "output_type": "stream",
     "text": [
      "\r9%"
     ]
    },
    {
     "name": "stdout",
     "output_type": "stream",
     "text": [
      "\r9%"
     ]
    },
    {
     "name": "stdout",
     "output_type": "stream",
     "text": [
      "\r9%"
     ]
    },
    {
     "name": "stdout",
     "output_type": "stream",
     "text": [
      "\r9%"
     ]
    },
    {
     "name": "stdout",
     "output_type": "stream",
     "text": [
      "\r10%"
     ]
    },
    {
     "name": "stdout",
     "output_type": "stream",
     "text": [
      "\r10%"
     ]
    },
    {
     "name": "stdout",
     "output_type": "stream",
     "text": [
      "\r10%"
     ]
    },
    {
     "name": "stdout",
     "output_type": "stream",
     "text": [
      "\r10%"
     ]
    },
    {
     "name": "stdout",
     "output_type": "stream",
     "text": [
      "\r11%"
     ]
    },
    {
     "name": "stdout",
     "output_type": "stream",
     "text": [
      "\r11%"
     ]
    },
    {
     "name": "stdout",
     "output_type": "stream",
     "text": [
      "\r11%"
     ]
    },
    {
     "name": "stdout",
     "output_type": "stream",
     "text": [
      "\r12%"
     ]
    },
    {
     "name": "stdout",
     "output_type": "stream",
     "text": [
      "\r12%"
     ]
    },
    {
     "name": "stdout",
     "output_type": "stream",
     "text": [
      "\r12%"
     ]
    },
    {
     "name": "stdout",
     "output_type": "stream",
     "text": [
      "\r12%"
     ]
    },
    {
     "name": "stdout",
     "output_type": "stream",
     "text": [
      "\r13%"
     ]
    },
    {
     "name": "stdout",
     "output_type": "stream",
     "text": [
      "\r13%"
     ]
    },
    {
     "name": "stdout",
     "output_type": "stream",
     "text": [
      "\r13%"
     ]
    },
    {
     "name": "stdout",
     "output_type": "stream",
     "text": [
      "\r13%"
     ]
    },
    {
     "name": "stdout",
     "output_type": "stream",
     "text": [
      "\r14%"
     ]
    },
    {
     "name": "stdout",
     "output_type": "stream",
     "text": [
      "\r14%"
     ]
    },
    {
     "name": "stdout",
     "output_type": "stream",
     "text": [
      "\r14%"
     ]
    },
    {
     "name": "stdout",
     "output_type": "stream",
     "text": [
      "\r15%"
     ]
    },
    {
     "name": "stdout",
     "output_type": "stream",
     "text": [
      "\r15%"
     ]
    },
    {
     "name": "stdout",
     "output_type": "stream",
     "text": [
      "\r15%"
     ]
    },
    {
     "name": "stdout",
     "output_type": "stream",
     "text": [
      "\r15%"
     ]
    },
    {
     "name": "stdout",
     "output_type": "stream",
     "text": [
      "\r16%"
     ]
    },
    {
     "name": "stdout",
     "output_type": "stream",
     "text": [
      "\r16%"
     ]
    },
    {
     "name": "stdout",
     "output_type": "stream",
     "text": [
      "\r16%"
     ]
    },
    {
     "name": "stdout",
     "output_type": "stream",
     "text": [
      "\r16%"
     ]
    },
    {
     "name": "stdout",
     "output_type": "stream",
     "text": [
      "\r17%"
     ]
    },
    {
     "name": "stdout",
     "output_type": "stream",
     "text": [
      "\r17%"
     ]
    },
    {
     "name": "stdout",
     "output_type": "stream",
     "text": [
      "\r17%"
     ]
    },
    {
     "name": "stdout",
     "output_type": "stream",
     "text": [
      "\r18%"
     ]
    },
    {
     "name": "stdout",
     "output_type": "stream",
     "text": [
      "\r18%"
     ]
    },
    {
     "name": "stdout",
     "output_type": "stream",
     "text": [
      "\r18%"
     ]
    },
    {
     "name": "stdout",
     "output_type": "stream",
     "text": [
      "\r18%"
     ]
    },
    {
     "name": "stdout",
     "output_type": "stream",
     "text": [
      "\r19%"
     ]
    },
    {
     "name": "stdout",
     "output_type": "stream",
     "text": [
      "\r19%"
     ]
    },
    {
     "name": "stdout",
     "output_type": "stream",
     "text": [
      "\r19%"
     ]
    },
    {
     "name": "stdout",
     "output_type": "stream",
     "text": [
      "\r19%"
     ]
    },
    {
     "name": "stdout",
     "output_type": "stream",
     "text": [
      "\r20%"
     ]
    },
    {
     "name": "stdout",
     "output_type": "stream",
     "text": [
      "\r20%"
     ]
    },
    {
     "name": "stdout",
     "output_type": "stream",
     "text": [
      "\r20%"
     ]
    },
    {
     "name": "stdout",
     "output_type": "stream",
     "text": [
      "\r21%"
     ]
    },
    {
     "name": "stdout",
     "output_type": "stream",
     "text": [
      "\r21%"
     ]
    },
    {
     "name": "stdout",
     "output_type": "stream",
     "text": [
      "\r21%"
     ]
    },
    {
     "name": "stdout",
     "output_type": "stream",
     "text": [
      "\r21%"
     ]
    },
    {
     "name": "stdout",
     "output_type": "stream",
     "text": [
      "\r22%"
     ]
    },
    {
     "name": "stdout",
     "output_type": "stream",
     "text": [
      "\r22%"
     ]
    },
    {
     "name": "stdout",
     "output_type": "stream",
     "text": [
      "\r22%"
     ]
    },
    {
     "name": "stdout",
     "output_type": "stream",
     "text": [
      "\r22%"
     ]
    },
    {
     "name": "stdout",
     "output_type": "stream",
     "text": [
      "\r23%"
     ]
    },
    {
     "name": "stdout",
     "output_type": "stream",
     "text": [
      "\r23%"
     ]
    },
    {
     "name": "stdout",
     "output_type": "stream",
     "text": [
      "\r23%"
     ]
    },
    {
     "name": "stdout",
     "output_type": "stream",
     "text": [
      "\r24%"
     ]
    },
    {
     "name": "stdout",
     "output_type": "stream",
     "text": [
      "\r24%"
     ]
    },
    {
     "name": "stdout",
     "output_type": "stream",
     "text": [
      "\r24%"
     ]
    },
    {
     "name": "stdout",
     "output_type": "stream",
     "text": [
      "\r24%"
     ]
    },
    {
     "name": "stdout",
     "output_type": "stream",
     "text": [
      "\r25%"
     ]
    },
    {
     "name": "stdout",
     "output_type": "stream",
     "text": [
      "\r25%"
     ]
    },
    {
     "name": "stdout",
     "output_type": "stream",
     "text": [
      "\r25%"
     ]
    },
    {
     "name": "stdout",
     "output_type": "stream",
     "text": [
      "\r25%"
     ]
    },
    {
     "name": "stdout",
     "output_type": "stream",
     "text": [
      "\r26%"
     ]
    },
    {
     "name": "stdout",
     "output_type": "stream",
     "text": [
      "\r26%"
     ]
    },
    {
     "name": "stdout",
     "output_type": "stream",
     "text": [
      "\r26%"
     ]
    },
    {
     "name": "stdout",
     "output_type": "stream",
     "text": [
      "\r27%"
     ]
    },
    {
     "name": "stdout",
     "output_type": "stream",
     "text": [
      "\r27%"
     ]
    },
    {
     "name": "stdout",
     "output_type": "stream",
     "text": [
      "\r27%"
     ]
    },
    {
     "name": "stdout",
     "output_type": "stream",
     "text": [
      "\r27%"
     ]
    },
    {
     "name": "stdout",
     "output_type": "stream",
     "text": [
      "\r28%"
     ]
    },
    {
     "name": "stdout",
     "output_type": "stream",
     "text": [
      "\r28%"
     ]
    },
    {
     "name": "stdout",
     "output_type": "stream",
     "text": [
      "\r28%"
     ]
    },
    {
     "name": "stdout",
     "output_type": "stream",
     "text": [
      "\r28%"
     ]
    },
    {
     "name": "stdout",
     "output_type": "stream",
     "text": [
      "\r29%"
     ]
    },
    {
     "name": "stdout",
     "output_type": "stream",
     "text": [
      "\r29%"
     ]
    },
    {
     "name": "stdout",
     "output_type": "stream",
     "text": [
      "\r29%"
     ]
    },
    {
     "name": "stdout",
     "output_type": "stream",
     "text": [
      "\r30%"
     ]
    },
    {
     "name": "stdout",
     "output_type": "stream",
     "text": [
      "\r30%"
     ]
    },
    {
     "name": "stdout",
     "output_type": "stream",
     "text": [
      "\r30%"
     ]
    },
    {
     "name": "stdout",
     "output_type": "stream",
     "text": [
      "\r30%"
     ]
    },
    {
     "name": "stdout",
     "output_type": "stream",
     "text": [
      "\r31%"
     ]
    },
    {
     "name": "stdout",
     "output_type": "stream",
     "text": [
      "\r31%"
     ]
    },
    {
     "name": "stdout",
     "output_type": "stream",
     "text": [
      "\r31%"
     ]
    },
    {
     "name": "stdout",
     "output_type": "stream",
     "text": [
      "\r31%"
     ]
    },
    {
     "name": "stdout",
     "output_type": "stream",
     "text": [
      "\r32%"
     ]
    },
    {
     "name": "stdout",
     "output_type": "stream",
     "text": [
      "\r32%"
     ]
    },
    {
     "name": "stdout",
     "output_type": "stream",
     "text": [
      "\r32%"
     ]
    },
    {
     "name": "stdout",
     "output_type": "stream",
     "text": [
      "\r33%"
     ]
    },
    {
     "name": "stdout",
     "output_type": "stream",
     "text": [
      "\r33%"
     ]
    },
    {
     "name": "stdout",
     "output_type": "stream",
     "text": [
      "\r33%"
     ]
    },
    {
     "name": "stdout",
     "output_type": "stream",
     "text": [
      "\r33%"
     ]
    },
    {
     "name": "stdout",
     "output_type": "stream",
     "text": [
      "\r34%"
     ]
    },
    {
     "name": "stdout",
     "output_type": "stream",
     "text": [
      "\r34%"
     ]
    },
    {
     "name": "stdout",
     "output_type": "stream",
     "text": [
      "\r34%"
     ]
    },
    {
     "name": "stdout",
     "output_type": "stream",
     "text": [
      "\r34%"
     ]
    },
    {
     "name": "stdout",
     "output_type": "stream",
     "text": [
      "\r35%"
     ]
    },
    {
     "name": "stdout",
     "output_type": "stream",
     "text": [
      "\r35%"
     ]
    },
    {
     "name": "stdout",
     "output_type": "stream",
     "text": [
      "\r35%"
     ]
    },
    {
     "name": "stdout",
     "output_type": "stream",
     "text": [
      "\r36%"
     ]
    },
    {
     "name": "stdout",
     "output_type": "stream",
     "text": [
      "\r36%"
     ]
    },
    {
     "name": "stdout",
     "output_type": "stream",
     "text": [
      "\r36%"
     ]
    },
    {
     "name": "stdout",
     "output_type": "stream",
     "text": [
      "\r36%"
     ]
    },
    {
     "name": "stdout",
     "output_type": "stream",
     "text": [
      "\r37%"
     ]
    },
    {
     "name": "stdout",
     "output_type": "stream",
     "text": [
      "\r37%"
     ]
    },
    {
     "name": "stdout",
     "output_type": "stream",
     "text": [
      "\r37%"
     ]
    },
    {
     "name": "stdout",
     "output_type": "stream",
     "text": [
      "\r37%"
     ]
    },
    {
     "name": "stdout",
     "output_type": "stream",
     "text": [
      "\r38%"
     ]
    },
    {
     "name": "stdout",
     "output_type": "stream",
     "text": [
      "\r38%"
     ]
    },
    {
     "name": "stdout",
     "output_type": "stream",
     "text": [
      "\r38%"
     ]
    },
    {
     "name": "stdout",
     "output_type": "stream",
     "text": [
      "\r39%"
     ]
    },
    {
     "name": "stdout",
     "output_type": "stream",
     "text": [
      "\r39%"
     ]
    },
    {
     "name": "stdout",
     "output_type": "stream",
     "text": [
      "\r39%"
     ]
    },
    {
     "name": "stdout",
     "output_type": "stream",
     "text": [
      "\r39%"
     ]
    },
    {
     "name": "stdout",
     "output_type": "stream",
     "text": [
      "\r40%"
     ]
    },
    {
     "name": "stdout",
     "output_type": "stream",
     "text": [
      "\r40%"
     ]
    },
    {
     "name": "stdout",
     "output_type": "stream",
     "text": [
      "\r40%"
     ]
    },
    {
     "name": "stdout",
     "output_type": "stream",
     "text": [
      "\r40%"
     ]
    },
    {
     "name": "stdout",
     "output_type": "stream",
     "text": [
      "\r41%"
     ]
    },
    {
     "name": "stdout",
     "output_type": "stream",
     "text": [
      "\r41%"
     ]
    },
    {
     "name": "stdout",
     "output_type": "stream",
     "text": [
      "\r41%"
     ]
    },
    {
     "name": "stdout",
     "output_type": "stream",
     "text": [
      "\r42%"
     ]
    },
    {
     "name": "stdout",
     "output_type": "stream",
     "text": [
      "\r42%"
     ]
    },
    {
     "name": "stdout",
     "output_type": "stream",
     "text": [
      "\r42%"
     ]
    },
    {
     "name": "stdout",
     "output_type": "stream",
     "text": [
      "\r42%"
     ]
    },
    {
     "name": "stdout",
     "output_type": "stream",
     "text": [
      "\r43%"
     ]
    },
    {
     "name": "stdout",
     "output_type": "stream",
     "text": [
      "\r43%"
     ]
    },
    {
     "name": "stdout",
     "output_type": "stream",
     "text": [
      "\r43%"
     ]
    },
    {
     "name": "stdout",
     "output_type": "stream",
     "text": [
      "\r43%"
     ]
    },
    {
     "name": "stdout",
     "output_type": "stream",
     "text": [
      "\r44%"
     ]
    },
    {
     "name": "stdout",
     "output_type": "stream",
     "text": [
      "\r44%"
     ]
    },
    {
     "name": "stdout",
     "output_type": "stream",
     "text": [
      "\r44%"
     ]
    },
    {
     "name": "stdout",
     "output_type": "stream",
     "text": [
      "\r45%"
     ]
    },
    {
     "name": "stdout",
     "output_type": "stream",
     "text": [
      "\r45%"
     ]
    },
    {
     "name": "stdout",
     "output_type": "stream",
     "text": [
      "\r45%"
     ]
    },
    {
     "name": "stdout",
     "output_type": "stream",
     "text": [
      "\r45%"
     ]
    },
    {
     "name": "stdout",
     "output_type": "stream",
     "text": [
      "\r46%"
     ]
    },
    {
     "name": "stdout",
     "output_type": "stream",
     "text": [
      "\r46%"
     ]
    },
    {
     "name": "stdout",
     "output_type": "stream",
     "text": [
      "\r46%"
     ]
    },
    {
     "name": "stdout",
     "output_type": "stream",
     "text": [
      "\r46%"
     ]
    },
    {
     "name": "stdout",
     "output_type": "stream",
     "text": [
      "\r47%"
     ]
    },
    {
     "name": "stdout",
     "output_type": "stream",
     "text": [
      "\r47%"
     ]
    },
    {
     "name": "stdout",
     "output_type": "stream",
     "text": [
      "\r47%"
     ]
    },
    {
     "name": "stdout",
     "output_type": "stream",
     "text": [
      "\r48%"
     ]
    },
    {
     "name": "stdout",
     "output_type": "stream",
     "text": [
      "\r48%"
     ]
    },
    {
     "name": "stdout",
     "output_type": "stream",
     "text": [
      "\r48%"
     ]
    },
    {
     "name": "stdout",
     "output_type": "stream",
     "text": [
      "\r48%"
     ]
    },
    {
     "name": "stdout",
     "output_type": "stream",
     "text": [
      "\r49%"
     ]
    },
    {
     "name": "stdout",
     "output_type": "stream",
     "text": [
      "\r49%"
     ]
    },
    {
     "name": "stdout",
     "output_type": "stream",
     "text": [
      "\r49%"
     ]
    },
    {
     "name": "stdout",
     "output_type": "stream",
     "text": [
      "\r50%"
     ]
    },
    {
     "name": "stdout",
     "output_type": "stream",
     "text": [
      "\r50%"
     ]
    },
    {
     "name": "stdout",
     "output_type": "stream",
     "text": [
      "\r50%"
     ]
    },
    {
     "name": "stdout",
     "output_type": "stream",
     "text": [
      "\r50%"
     ]
    },
    {
     "name": "stdout",
     "output_type": "stream",
     "text": [
      "\r51%"
     ]
    },
    {
     "name": "stdout",
     "output_type": "stream",
     "text": [
      "\r51%"
     ]
    },
    {
     "name": "stdout",
     "output_type": "stream",
     "text": [
      "\r51%"
     ]
    },
    {
     "name": "stdout",
     "output_type": "stream",
     "text": [
      "\r51%"
     ]
    },
    {
     "name": "stdout",
     "output_type": "stream",
     "text": [
      "\r52%"
     ]
    },
    {
     "name": "stdout",
     "output_type": "stream",
     "text": [
      "\r52%"
     ]
    },
    {
     "name": "stdout",
     "output_type": "stream",
     "text": [
      "\r52%"
     ]
    },
    {
     "name": "stdout",
     "output_type": "stream",
     "text": [
      "\r53%"
     ]
    },
    {
     "name": "stdout",
     "output_type": "stream",
     "text": [
      "\r53%"
     ]
    },
    {
     "name": "stdout",
     "output_type": "stream",
     "text": [
      "\r53%"
     ]
    },
    {
     "name": "stdout",
     "output_type": "stream",
     "text": [
      "\r53%"
     ]
    },
    {
     "name": "stdout",
     "output_type": "stream",
     "text": [
      "\r54%"
     ]
    },
    {
     "name": "stdout",
     "output_type": "stream",
     "text": [
      "\r54%"
     ]
    },
    {
     "name": "stdout",
     "output_type": "stream",
     "text": [
      "\r54%"
     ]
    },
    {
     "name": "stdout",
     "output_type": "stream",
     "text": [
      "\r54%"
     ]
    },
    {
     "name": "stdout",
     "output_type": "stream",
     "text": [
      "\r55%"
     ]
    },
    {
     "name": "stdout",
     "output_type": "stream",
     "text": [
      "\r55%"
     ]
    },
    {
     "name": "stdout",
     "output_type": "stream",
     "text": [
      "\r55%"
     ]
    },
    {
     "name": "stdout",
     "output_type": "stream",
     "text": [
      "\r56%"
     ]
    },
    {
     "name": "stdout",
     "output_type": "stream",
     "text": [
      "\r56%"
     ]
    },
    {
     "name": "stdout",
     "output_type": "stream",
     "text": [
      "\r56%"
     ]
    },
    {
     "name": "stdout",
     "output_type": "stream",
     "text": [
      "\r56%"
     ]
    },
    {
     "name": "stdout",
     "output_type": "stream",
     "text": [
      "\r57%"
     ]
    },
    {
     "name": "stdout",
     "output_type": "stream",
     "text": [
      "\r57%"
     ]
    },
    {
     "name": "stdout",
     "output_type": "stream",
     "text": [
      "\r57%"
     ]
    },
    {
     "name": "stdout",
     "output_type": "stream",
     "text": [
      "\r57%"
     ]
    },
    {
     "name": "stdout",
     "output_type": "stream",
     "text": [
      "\r58%"
     ]
    },
    {
     "name": "stdout",
     "output_type": "stream",
     "text": [
      "\r58%"
     ]
    },
    {
     "name": "stdout",
     "output_type": "stream",
     "text": [
      "\r58%"
     ]
    },
    {
     "name": "stdout",
     "output_type": "stream",
     "text": [
      "\r59%"
     ]
    },
    {
     "name": "stdout",
     "output_type": "stream",
     "text": [
      "\r59%"
     ]
    },
    {
     "name": "stdout",
     "output_type": "stream",
     "text": [
      "\r59%"
     ]
    },
    {
     "name": "stdout",
     "output_type": "stream",
     "text": [
      "\r59%"
     ]
    },
    {
     "name": "stdout",
     "output_type": "stream",
     "text": [
      "\r60%"
     ]
    },
    {
     "name": "stdout",
     "output_type": "stream",
     "text": [
      "\r60%"
     ]
    },
    {
     "name": "stdout",
     "output_type": "stream",
     "text": [
      "\r60%"
     ]
    },
    {
     "name": "stdout",
     "output_type": "stream",
     "text": [
      "\r60%"
     ]
    },
    {
     "name": "stdout",
     "output_type": "stream",
     "text": [
      "\r61%"
     ]
    },
    {
     "name": "stdout",
     "output_type": "stream",
     "text": [
      "\r61%"
     ]
    },
    {
     "name": "stdout",
     "output_type": "stream",
     "text": [
      "\r61%"
     ]
    },
    {
     "name": "stdout",
     "output_type": "stream",
     "text": [
      "\r62%"
     ]
    },
    {
     "name": "stdout",
     "output_type": "stream",
     "text": [
      "\r62%"
     ]
    },
    {
     "name": "stdout",
     "output_type": "stream",
     "text": [
      "\r62%"
     ]
    },
    {
     "name": "stdout",
     "output_type": "stream",
     "text": [
      "\r62%"
     ]
    },
    {
     "name": "stdout",
     "output_type": "stream",
     "text": [
      "\r63%"
     ]
    },
    {
     "name": "stdout",
     "output_type": "stream",
     "text": [
      "\r63%"
     ]
    },
    {
     "name": "stdout",
     "output_type": "stream",
     "text": [
      "\r63%"
     ]
    },
    {
     "name": "stdout",
     "output_type": "stream",
     "text": [
      "\r63%"
     ]
    },
    {
     "name": "stdout",
     "output_type": "stream",
     "text": [
      "\r64%"
     ]
    },
    {
     "name": "stdout",
     "output_type": "stream",
     "text": [
      "\r64%"
     ]
    },
    {
     "name": "stdout",
     "output_type": "stream",
     "text": [
      "\r64%"
     ]
    },
    {
     "name": "stdout",
     "output_type": "stream",
     "text": [
      "\r65%"
     ]
    },
    {
     "name": "stdout",
     "output_type": "stream",
     "text": [
      "\r65%"
     ]
    },
    {
     "name": "stdout",
     "output_type": "stream",
     "text": [
      "\r65%"
     ]
    },
    {
     "name": "stdout",
     "output_type": "stream",
     "text": [
      "\r65%"
     ]
    },
    {
     "name": "stdout",
     "output_type": "stream",
     "text": [
      "\r66%"
     ]
    },
    {
     "name": "stdout",
     "output_type": "stream",
     "text": [
      "\r66%"
     ]
    },
    {
     "name": "stdout",
     "output_type": "stream",
     "text": [
      "\r66%"
     ]
    },
    {
     "name": "stdout",
     "output_type": "stream",
     "text": [
      "\r66%"
     ]
    },
    {
     "name": "stdout",
     "output_type": "stream",
     "text": [
      "\r67%"
     ]
    },
    {
     "name": "stdout",
     "output_type": "stream",
     "text": [
      "\r67%"
     ]
    },
    {
     "name": "stdout",
     "output_type": "stream",
     "text": [
      "\r67%"
     ]
    },
    {
     "name": "stdout",
     "output_type": "stream",
     "text": [
      "\r68%"
     ]
    },
    {
     "name": "stdout",
     "output_type": "stream",
     "text": [
      "\r68%"
     ]
    },
    {
     "name": "stdout",
     "output_type": "stream",
     "text": [
      "\r68%"
     ]
    },
    {
     "name": "stdout",
     "output_type": "stream",
     "text": [
      "\r68%"
     ]
    },
    {
     "name": "stdout",
     "output_type": "stream",
     "text": [
      "\r69%"
     ]
    },
    {
     "name": "stdout",
     "output_type": "stream",
     "text": [
      "\r69%"
     ]
    },
    {
     "name": "stdout",
     "output_type": "stream",
     "text": [
      "\r69%"
     ]
    },
    {
     "name": "stdout",
     "output_type": "stream",
     "text": [
      "\r69%"
     ]
    },
    {
     "name": "stdout",
     "output_type": "stream",
     "text": [
      "\r70%"
     ]
    },
    {
     "name": "stdout",
     "output_type": "stream",
     "text": [
      "\r70%"
     ]
    },
    {
     "name": "stdout",
     "output_type": "stream",
     "text": [
      "\r70%"
     ]
    },
    {
     "name": "stdout",
     "output_type": "stream",
     "text": [
      "\r71%"
     ]
    },
    {
     "name": "stdout",
     "output_type": "stream",
     "text": [
      "\r71%"
     ]
    },
    {
     "name": "stdout",
     "output_type": "stream",
     "text": [
      "\r71%"
     ]
    },
    {
     "name": "stdout",
     "output_type": "stream",
     "text": [
      "\r71%"
     ]
    },
    {
     "name": "stdout",
     "output_type": "stream",
     "text": [
      "\r72%"
     ]
    },
    {
     "name": "stdout",
     "output_type": "stream",
     "text": [
      "\r72%"
     ]
    },
    {
     "name": "stdout",
     "output_type": "stream",
     "text": [
      "\r72%"
     ]
    },
    {
     "name": "stdout",
     "output_type": "stream",
     "text": [
      "\r72%"
     ]
    },
    {
     "name": "stdout",
     "output_type": "stream",
     "text": [
      "\r73%"
     ]
    },
    {
     "name": "stdout",
     "output_type": "stream",
     "text": [
      "\r73%"
     ]
    },
    {
     "name": "stdout",
     "output_type": "stream",
     "text": [
      "\r73%"
     ]
    },
    {
     "name": "stdout",
     "output_type": "stream",
     "text": [
      "\r74%"
     ]
    },
    {
     "name": "stdout",
     "output_type": "stream",
     "text": [
      "\r74%"
     ]
    },
    {
     "name": "stdout",
     "output_type": "stream",
     "text": [
      "\r74%"
     ]
    },
    {
     "name": "stdout",
     "output_type": "stream",
     "text": [
      "\r74%"
     ]
    },
    {
     "name": "stdout",
     "output_type": "stream",
     "text": [
      "\r75%"
     ]
    },
    {
     "name": "stdout",
     "output_type": "stream",
     "text": [
      "\r75%"
     ]
    },
    {
     "name": "stdout",
     "output_type": "stream",
     "text": [
      "\r75%"
     ]
    },
    {
     "name": "stdout",
     "output_type": "stream",
     "text": [
      "\r75%"
     ]
    },
    {
     "name": "stdout",
     "output_type": "stream",
     "text": [
      "\r76%"
     ]
    },
    {
     "name": "stdout",
     "output_type": "stream",
     "text": [
      "\r76%"
     ]
    },
    {
     "name": "stdout",
     "output_type": "stream",
     "text": [
      "\r76%"
     ]
    },
    {
     "name": "stdout",
     "output_type": "stream",
     "text": [
      "\r77%"
     ]
    },
    {
     "name": "stdout",
     "output_type": "stream",
     "text": [
      "\r77%"
     ]
    },
    {
     "name": "stdout",
     "output_type": "stream",
     "text": [
      "\r77%"
     ]
    },
    {
     "name": "stdout",
     "output_type": "stream",
     "text": [
      "\r77%"
     ]
    },
    {
     "name": "stdout",
     "output_type": "stream",
     "text": [
      "\r78%"
     ]
    },
    {
     "name": "stdout",
     "output_type": "stream",
     "text": [
      "\r78%"
     ]
    },
    {
     "name": "stdout",
     "output_type": "stream",
     "text": [
      "\r78%"
     ]
    },
    {
     "name": "stdout",
     "output_type": "stream",
     "text": [
      "\r78%"
     ]
    },
    {
     "name": "stdout",
     "output_type": "stream",
     "text": [
      "\r79%"
     ]
    },
    {
     "name": "stdout",
     "output_type": "stream",
     "text": [
      "\r79%"
     ]
    },
    {
     "name": "stdout",
     "output_type": "stream",
     "text": [
      "\r79%"
     ]
    },
    {
     "name": "stdout",
     "output_type": "stream",
     "text": [
      "\r80%"
     ]
    },
    {
     "name": "stdout",
     "output_type": "stream",
     "text": [
      "\r80%"
     ]
    },
    {
     "name": "stdout",
     "output_type": "stream",
     "text": [
      "\r80%"
     ]
    },
    {
     "name": "stdout",
     "output_type": "stream",
     "text": [
      "\r80%"
     ]
    },
    {
     "name": "stdout",
     "output_type": "stream",
     "text": [
      "\r81%"
     ]
    },
    {
     "name": "stdout",
     "output_type": "stream",
     "text": [
      "\r81%"
     ]
    },
    {
     "name": "stdout",
     "output_type": "stream",
     "text": [
      "\r81%"
     ]
    },
    {
     "name": "stdout",
     "output_type": "stream",
     "text": [
      "\r81%"
     ]
    },
    {
     "name": "stdout",
     "output_type": "stream",
     "text": [
      "\r82%"
     ]
    },
    {
     "name": "stdout",
     "output_type": "stream",
     "text": [
      "\r82%"
     ]
    },
    {
     "name": "stdout",
     "output_type": "stream",
     "text": [
      "\r82%"
     ]
    },
    {
     "name": "stdout",
     "output_type": "stream",
     "text": [
      "\r83%"
     ]
    },
    {
     "name": "stdout",
     "output_type": "stream",
     "text": [
      "\r83%"
     ]
    },
    {
     "name": "stdout",
     "output_type": "stream",
     "text": [
      "\r83%"
     ]
    },
    {
     "name": "stdout",
     "output_type": "stream",
     "text": [
      "\r83%"
     ]
    },
    {
     "name": "stdout",
     "output_type": "stream",
     "text": [
      "\r84%"
     ]
    },
    {
     "name": "stdout",
     "output_type": "stream",
     "text": [
      "\r84%"
     ]
    },
    {
     "name": "stdout",
     "output_type": "stream",
     "text": [
      "\r84%"
     ]
    },
    {
     "name": "stdout",
     "output_type": "stream",
     "text": [
      "\r84%"
     ]
    },
    {
     "name": "stdout",
     "output_type": "stream",
     "text": [
      "\r85%"
     ]
    },
    {
     "name": "stdout",
     "output_type": "stream",
     "text": [
      "\r85%"
     ]
    },
    {
     "name": "stdout",
     "output_type": "stream",
     "text": [
      "\r85%"
     ]
    },
    {
     "name": "stdout",
     "output_type": "stream",
     "text": [
      "\r86%"
     ]
    },
    {
     "name": "stdout",
     "output_type": "stream",
     "text": [
      "\r86%"
     ]
    },
    {
     "name": "stdout",
     "output_type": "stream",
     "text": [
      "\r86%"
     ]
    },
    {
     "name": "stdout",
     "output_type": "stream",
     "text": [
      "\r86%"
     ]
    },
    {
     "name": "stdout",
     "output_type": "stream",
     "text": [
      "\r87%"
     ]
    },
    {
     "name": "stdout",
     "output_type": "stream",
     "text": [
      "\r87%"
     ]
    },
    {
     "name": "stdout",
     "output_type": "stream",
     "text": [
      "\r87%"
     ]
    },
    {
     "name": "stdout",
     "output_type": "stream",
     "text": [
      "\r87%"
     ]
    },
    {
     "name": "stdout",
     "output_type": "stream",
     "text": [
      "\r88%"
     ]
    },
    {
     "name": "stdout",
     "output_type": "stream",
     "text": [
      "\r88%"
     ]
    },
    {
     "name": "stdout",
     "output_type": "stream",
     "text": [
      "\r88%"
     ]
    },
    {
     "name": "stdout",
     "output_type": "stream",
     "text": [
      "\r89%"
     ]
    },
    {
     "name": "stdout",
     "output_type": "stream",
     "text": [
      "\r89%"
     ]
    },
    {
     "name": "stdout",
     "output_type": "stream",
     "text": [
      "\r89%"
     ]
    },
    {
     "name": "stdout",
     "output_type": "stream",
     "text": [
      "\r89%"
     ]
    },
    {
     "name": "stdout",
     "output_type": "stream",
     "text": [
      "\r90%"
     ]
    },
    {
     "name": "stdout",
     "output_type": "stream",
     "text": [
      "\r90%"
     ]
    },
    {
     "name": "stdout",
     "output_type": "stream",
     "text": [
      "\r90%"
     ]
    },
    {
     "name": "stdout",
     "output_type": "stream",
     "text": [
      "\r90%"
     ]
    },
    {
     "name": "stdout",
     "output_type": "stream",
     "text": [
      "\r91%"
     ]
    },
    {
     "name": "stdout",
     "output_type": "stream",
     "text": [
      "\r91%"
     ]
    },
    {
     "name": "stdout",
     "output_type": "stream",
     "text": [
      "\r91%"
     ]
    },
    {
     "name": "stdout",
     "output_type": "stream",
     "text": [
      "\r92%"
     ]
    },
    {
     "name": "stdout",
     "output_type": "stream",
     "text": [
      "\r92%"
     ]
    },
    {
     "name": "stdout",
     "output_type": "stream",
     "text": [
      "\r92%"
     ]
    },
    {
     "name": "stdout",
     "output_type": "stream",
     "text": [
      "\r92%"
     ]
    },
    {
     "name": "stdout",
     "output_type": "stream",
     "text": [
      "\r93%"
     ]
    },
    {
     "name": "stdout",
     "output_type": "stream",
     "text": [
      "\r93%"
     ]
    },
    {
     "name": "stdout",
     "output_type": "stream",
     "text": [
      "\r93%"
     ]
    },
    {
     "name": "stdout",
     "output_type": "stream",
     "text": [
      "\r93%"
     ]
    },
    {
     "name": "stdout",
     "output_type": "stream",
     "text": [
      "\r94%"
     ]
    },
    {
     "name": "stdout",
     "output_type": "stream",
     "text": [
      "\r94%"
     ]
    },
    {
     "name": "stdout",
     "output_type": "stream",
     "text": [
      "\r94%"
     ]
    },
    {
     "name": "stdout",
     "output_type": "stream",
     "text": [
      "\r95%"
     ]
    },
    {
     "name": "stdout",
     "output_type": "stream",
     "text": [
      "\r95%"
     ]
    },
    {
     "name": "stdout",
     "output_type": "stream",
     "text": [
      "\r95%"
     ]
    },
    {
     "name": "stdout",
     "output_type": "stream",
     "text": [
      "\r95%"
     ]
    },
    {
     "name": "stdout",
     "output_type": "stream",
     "text": [
      "\r96%"
     ]
    },
    {
     "name": "stdout",
     "output_type": "stream",
     "text": [
      "\r96%"
     ]
    },
    {
     "name": "stdout",
     "output_type": "stream",
     "text": [
      "\r96%"
     ]
    },
    {
     "name": "stdout",
     "output_type": "stream",
     "text": [
      "\r96%"
     ]
    },
    {
     "name": "stdout",
     "output_type": "stream",
     "text": [
      "\r97%"
     ]
    },
    {
     "name": "stdout",
     "output_type": "stream",
     "text": [
      "\r97%"
     ]
    },
    {
     "name": "stdout",
     "output_type": "stream",
     "text": [
      "\r97%"
     ]
    },
    {
     "name": "stdout",
     "output_type": "stream",
     "text": [
      "\r98%"
     ]
    },
    {
     "name": "stdout",
     "output_type": "stream",
     "text": [
      "\r98%"
     ]
    },
    {
     "name": "stdout",
     "output_type": "stream",
     "text": [
      "\r98%"
     ]
    },
    {
     "name": "stdout",
     "output_type": "stream",
     "text": [
      "\r98%"
     ]
    },
    {
     "name": "stdout",
     "output_type": "stream",
     "text": [
      "\r99%"
     ]
    },
    {
     "name": "stdout",
     "output_type": "stream",
     "text": [
      "\r99%"
     ]
    },
    {
     "name": "stdout",
     "output_type": "stream",
     "text": [
      "\r99%"
     ]
    },
    {
     "name": "stdout",
     "output_type": "stream",
     "text": [
      "\r5 훈련 MSE: 0.04154353\n"
     ]
    },
    {
     "name": "stdout",
     "output_type": "stream",
     "text": [
      "\r0%"
     ]
    },
    {
     "name": "stdout",
     "output_type": "stream",
     "text": [
      "\r0%"
     ]
    },
    {
     "name": "stdout",
     "output_type": "stream",
     "text": [
      "\r0%"
     ]
    },
    {
     "name": "stdout",
     "output_type": "stream",
     "text": [
      "\r0%"
     ]
    },
    {
     "name": "stdout",
     "output_type": "stream",
     "text": [
      "\r1%"
     ]
    },
    {
     "name": "stdout",
     "output_type": "stream",
     "text": [
      "\r1%"
     ]
    },
    {
     "name": "stdout",
     "output_type": "stream",
     "text": [
      "\r1%"
     ]
    },
    {
     "name": "stdout",
     "output_type": "stream",
     "text": [
      "\r1%"
     ]
    },
    {
     "name": "stdout",
     "output_type": "stream",
     "text": [
      "\r2%"
     ]
    },
    {
     "name": "stdout",
     "output_type": "stream",
     "text": [
      "\r2%"
     ]
    },
    {
     "name": "stdout",
     "output_type": "stream",
     "text": [
      "\r2%"
     ]
    },
    {
     "name": "stdout",
     "output_type": "stream",
     "text": [
      "\r3%"
     ]
    },
    {
     "name": "stdout",
     "output_type": "stream",
     "text": [
      "\r3%"
     ]
    },
    {
     "name": "stdout",
     "output_type": "stream",
     "text": [
      "\r3%"
     ]
    },
    {
     "name": "stdout",
     "output_type": "stream",
     "text": [
      "\r3%"
     ]
    },
    {
     "name": "stdout",
     "output_type": "stream",
     "text": [
      "\r4%"
     ]
    },
    {
     "name": "stdout",
     "output_type": "stream",
     "text": [
      "\r4%"
     ]
    },
    {
     "name": "stdout",
     "output_type": "stream",
     "text": [
      "\r4%"
     ]
    },
    {
     "name": "stdout",
     "output_type": "stream",
     "text": [
      "\r4%"
     ]
    },
    {
     "name": "stdout",
     "output_type": "stream",
     "text": [
      "\r5%"
     ]
    },
    {
     "name": "stdout",
     "output_type": "stream",
     "text": [
      "\r5%"
     ]
    },
    {
     "name": "stdout",
     "output_type": "stream",
     "text": [
      "\r5%"
     ]
    },
    {
     "name": "stdout",
     "output_type": "stream",
     "text": [
      "\r6%"
     ]
    },
    {
     "name": "stdout",
     "output_type": "stream",
     "text": [
      "\r6%"
     ]
    },
    {
     "name": "stdout",
     "output_type": "stream",
     "text": [
      "\r6%"
     ]
    },
    {
     "name": "stdout",
     "output_type": "stream",
     "text": [
      "\r6%"
     ]
    },
    {
     "name": "stdout",
     "output_type": "stream",
     "text": [
      "\r7%"
     ]
    },
    {
     "name": "stdout",
     "output_type": "stream",
     "text": [
      "\r7%"
     ]
    },
    {
     "name": "stdout",
     "output_type": "stream",
     "text": [
      "\r7%"
     ]
    },
    {
     "name": "stdout",
     "output_type": "stream",
     "text": [
      "\r7%"
     ]
    },
    {
     "name": "stdout",
     "output_type": "stream",
     "text": [
      "\r8%"
     ]
    },
    {
     "name": "stdout",
     "output_type": "stream",
     "text": [
      "\r8%"
     ]
    },
    {
     "name": "stdout",
     "output_type": "stream",
     "text": [
      "\r8%"
     ]
    },
    {
     "name": "stdout",
     "output_type": "stream",
     "text": [
      "\r9%"
     ]
    },
    {
     "name": "stdout",
     "output_type": "stream",
     "text": [
      "\r9%"
     ]
    },
    {
     "name": "stdout",
     "output_type": "stream",
     "text": [
      "\r9%"
     ]
    },
    {
     "name": "stdout",
     "output_type": "stream",
     "text": [
      "\r9%"
     ]
    },
    {
     "name": "stdout",
     "output_type": "stream",
     "text": [
      "\r10%"
     ]
    },
    {
     "name": "stdout",
     "output_type": "stream",
     "text": [
      "\r10%"
     ]
    },
    {
     "name": "stdout",
     "output_type": "stream",
     "text": [
      "\r10%"
     ]
    },
    {
     "name": "stdout",
     "output_type": "stream",
     "text": [
      "\r10%"
     ]
    },
    {
     "name": "stdout",
     "output_type": "stream",
     "text": [
      "\r11%"
     ]
    },
    {
     "name": "stdout",
     "output_type": "stream",
     "text": [
      "\r11%"
     ]
    },
    {
     "name": "stdout",
     "output_type": "stream",
     "text": [
      "\r11%"
     ]
    },
    {
     "name": "stdout",
     "output_type": "stream",
     "text": [
      "\r12%"
     ]
    },
    {
     "name": "stdout",
     "output_type": "stream",
     "text": [
      "\r12%"
     ]
    },
    {
     "name": "stdout",
     "output_type": "stream",
     "text": [
      "\r12%"
     ]
    },
    {
     "name": "stdout",
     "output_type": "stream",
     "text": [
      "\r12%"
     ]
    },
    {
     "name": "stdout",
     "output_type": "stream",
     "text": [
      "\r13%"
     ]
    },
    {
     "name": "stdout",
     "output_type": "stream",
     "text": [
      "\r13%"
     ]
    },
    {
     "name": "stdout",
     "output_type": "stream",
     "text": [
      "\r13%"
     ]
    },
    {
     "name": "stdout",
     "output_type": "stream",
     "text": [
      "\r13%"
     ]
    },
    {
     "name": "stdout",
     "output_type": "stream",
     "text": [
      "\r14%"
     ]
    },
    {
     "name": "stdout",
     "output_type": "stream",
     "text": [
      "\r14%"
     ]
    },
    {
     "name": "stdout",
     "output_type": "stream",
     "text": [
      "\r14%"
     ]
    },
    {
     "name": "stdout",
     "output_type": "stream",
     "text": [
      "\r15%"
     ]
    },
    {
     "name": "stdout",
     "output_type": "stream",
     "text": [
      "\r15%"
     ]
    },
    {
     "name": "stdout",
     "output_type": "stream",
     "text": [
      "\r15%"
     ]
    },
    {
     "name": "stdout",
     "output_type": "stream",
     "text": [
      "\r15%"
     ]
    },
    {
     "name": "stdout",
     "output_type": "stream",
     "text": [
      "\r16%"
     ]
    },
    {
     "name": "stdout",
     "output_type": "stream",
     "text": [
      "\r16%"
     ]
    },
    {
     "name": "stdout",
     "output_type": "stream",
     "text": [
      "\r16%"
     ]
    },
    {
     "name": "stdout",
     "output_type": "stream",
     "text": [
      "\r16%"
     ]
    },
    {
     "name": "stdout",
     "output_type": "stream",
     "text": [
      "\r17%"
     ]
    },
    {
     "name": "stdout",
     "output_type": "stream",
     "text": [
      "\r17%"
     ]
    },
    {
     "name": "stdout",
     "output_type": "stream",
     "text": [
      "\r17%"
     ]
    },
    {
     "name": "stdout",
     "output_type": "stream",
     "text": [
      "\r18%"
     ]
    },
    {
     "name": "stdout",
     "output_type": "stream",
     "text": [
      "\r18%"
     ]
    },
    {
     "name": "stdout",
     "output_type": "stream",
     "text": [
      "\r18%"
     ]
    },
    {
     "name": "stdout",
     "output_type": "stream",
     "text": [
      "\r18%"
     ]
    },
    {
     "name": "stdout",
     "output_type": "stream",
     "text": [
      "\r19%"
     ]
    },
    {
     "name": "stdout",
     "output_type": "stream",
     "text": [
      "\r19%"
     ]
    },
    {
     "name": "stdout",
     "output_type": "stream",
     "text": [
      "\r19%"
     ]
    },
    {
     "name": "stdout",
     "output_type": "stream",
     "text": [
      "\r19%"
     ]
    },
    {
     "name": "stdout",
     "output_type": "stream",
     "text": [
      "\r20%"
     ]
    },
    {
     "name": "stdout",
     "output_type": "stream",
     "text": [
      "\r20%"
     ]
    },
    {
     "name": "stdout",
     "output_type": "stream",
     "text": [
      "\r20%"
     ]
    },
    {
     "name": "stdout",
     "output_type": "stream",
     "text": [
      "\r21%"
     ]
    },
    {
     "name": "stdout",
     "output_type": "stream",
     "text": [
      "\r21%"
     ]
    },
    {
     "name": "stdout",
     "output_type": "stream",
     "text": [
      "\r21%"
     ]
    },
    {
     "name": "stdout",
     "output_type": "stream",
     "text": [
      "\r21%"
     ]
    },
    {
     "name": "stdout",
     "output_type": "stream",
     "text": [
      "\r22%"
     ]
    },
    {
     "name": "stdout",
     "output_type": "stream",
     "text": [
      "\r22%"
     ]
    },
    {
     "name": "stdout",
     "output_type": "stream",
     "text": [
      "\r22%"
     ]
    },
    {
     "name": "stdout",
     "output_type": "stream",
     "text": [
      "\r22%"
     ]
    },
    {
     "name": "stdout",
     "output_type": "stream",
     "text": [
      "\r23%"
     ]
    },
    {
     "name": "stdout",
     "output_type": "stream",
     "text": [
      "\r23%"
     ]
    },
    {
     "name": "stdout",
     "output_type": "stream",
     "text": [
      "\r23%"
     ]
    },
    {
     "name": "stdout",
     "output_type": "stream",
     "text": [
      "\r24%"
     ]
    },
    {
     "name": "stdout",
     "output_type": "stream",
     "text": [
      "\r24%"
     ]
    },
    {
     "name": "stdout",
     "output_type": "stream",
     "text": [
      "\r24%"
     ]
    },
    {
     "name": "stdout",
     "output_type": "stream",
     "text": [
      "\r24%"
     ]
    },
    {
     "name": "stdout",
     "output_type": "stream",
     "text": [
      "\r25%"
     ]
    },
    {
     "name": "stdout",
     "output_type": "stream",
     "text": [
      "\r25%"
     ]
    },
    {
     "name": "stdout",
     "output_type": "stream",
     "text": [
      "\r25%"
     ]
    },
    {
     "name": "stdout",
     "output_type": "stream",
     "text": [
      "\r25%"
     ]
    },
    {
     "name": "stdout",
     "output_type": "stream",
     "text": [
      "\r26%"
     ]
    },
    {
     "name": "stdout",
     "output_type": "stream",
     "text": [
      "\r26%"
     ]
    },
    {
     "name": "stdout",
     "output_type": "stream",
     "text": [
      "\r26%"
     ]
    },
    {
     "name": "stdout",
     "output_type": "stream",
     "text": [
      "\r27%"
     ]
    },
    {
     "name": "stdout",
     "output_type": "stream",
     "text": [
      "\r27%"
     ]
    },
    {
     "name": "stdout",
     "output_type": "stream",
     "text": [
      "\r27%"
     ]
    },
    {
     "name": "stdout",
     "output_type": "stream",
     "text": [
      "\r27%"
     ]
    },
    {
     "name": "stdout",
     "output_type": "stream",
     "text": [
      "\r28%"
     ]
    },
    {
     "name": "stdout",
     "output_type": "stream",
     "text": [
      "\r28%"
     ]
    },
    {
     "name": "stdout",
     "output_type": "stream",
     "text": [
      "\r28%"
     ]
    },
    {
     "name": "stdout",
     "output_type": "stream",
     "text": [
      "\r28%"
     ]
    },
    {
     "name": "stdout",
     "output_type": "stream",
     "text": [
      "\r29%"
     ]
    },
    {
     "name": "stdout",
     "output_type": "stream",
     "text": [
      "\r29%"
     ]
    },
    {
     "name": "stdout",
     "output_type": "stream",
     "text": [
      "\r29%"
     ]
    },
    {
     "name": "stdout",
     "output_type": "stream",
     "text": [
      "\r30%"
     ]
    },
    {
     "name": "stdout",
     "output_type": "stream",
     "text": [
      "\r30%"
     ]
    },
    {
     "name": "stdout",
     "output_type": "stream",
     "text": [
      "\r30%"
     ]
    },
    {
     "name": "stdout",
     "output_type": "stream",
     "text": [
      "\r30%"
     ]
    },
    {
     "name": "stdout",
     "output_type": "stream",
     "text": [
      "\r31%"
     ]
    },
    {
     "name": "stdout",
     "output_type": "stream",
     "text": [
      "\r31%"
     ]
    },
    {
     "name": "stdout",
     "output_type": "stream",
     "text": [
      "\r31%"
     ]
    },
    {
     "name": "stdout",
     "output_type": "stream",
     "text": [
      "\r31%"
     ]
    },
    {
     "name": "stdout",
     "output_type": "stream",
     "text": [
      "\r32%"
     ]
    },
    {
     "name": "stdout",
     "output_type": "stream",
     "text": [
      "\r32%"
     ]
    },
    {
     "name": "stdout",
     "output_type": "stream",
     "text": [
      "\r32%"
     ]
    },
    {
     "name": "stdout",
     "output_type": "stream",
     "text": [
      "\r33%"
     ]
    },
    {
     "name": "stdout",
     "output_type": "stream",
     "text": [
      "\r33%"
     ]
    },
    {
     "name": "stdout",
     "output_type": "stream",
     "text": [
      "\r33%"
     ]
    },
    {
     "name": "stdout",
     "output_type": "stream",
     "text": [
      "\r33%"
     ]
    },
    {
     "name": "stdout",
     "output_type": "stream",
     "text": [
      "\r34%"
     ]
    },
    {
     "name": "stdout",
     "output_type": "stream",
     "text": [
      "\r34%"
     ]
    },
    {
     "name": "stdout",
     "output_type": "stream",
     "text": [
      "\r34%"
     ]
    },
    {
     "name": "stdout",
     "output_type": "stream",
     "text": [
      "\r34%"
     ]
    },
    {
     "name": "stdout",
     "output_type": "stream",
     "text": [
      "\r35%"
     ]
    },
    {
     "name": "stdout",
     "output_type": "stream",
     "text": [
      "\r35%"
     ]
    },
    {
     "name": "stdout",
     "output_type": "stream",
     "text": [
      "\r35%"
     ]
    },
    {
     "name": "stdout",
     "output_type": "stream",
     "text": [
      "\r36%"
     ]
    },
    {
     "name": "stdout",
     "output_type": "stream",
     "text": [
      "\r36%"
     ]
    },
    {
     "name": "stdout",
     "output_type": "stream",
     "text": [
      "\r36%"
     ]
    },
    {
     "name": "stdout",
     "output_type": "stream",
     "text": [
      "\r36%"
     ]
    },
    {
     "name": "stdout",
     "output_type": "stream",
     "text": [
      "\r37%"
     ]
    },
    {
     "name": "stdout",
     "output_type": "stream",
     "text": [
      "\r37%"
     ]
    },
    {
     "name": "stdout",
     "output_type": "stream",
     "text": [
      "\r37%"
     ]
    },
    {
     "name": "stdout",
     "output_type": "stream",
     "text": [
      "\r37%"
     ]
    },
    {
     "name": "stdout",
     "output_type": "stream",
     "text": [
      "\r38%"
     ]
    },
    {
     "name": "stdout",
     "output_type": "stream",
     "text": [
      "\r38%"
     ]
    },
    {
     "name": "stdout",
     "output_type": "stream",
     "text": [
      "\r38%"
     ]
    },
    {
     "name": "stdout",
     "output_type": "stream",
     "text": [
      "\r39%"
     ]
    },
    {
     "name": "stdout",
     "output_type": "stream",
     "text": [
      "\r39%"
     ]
    },
    {
     "name": "stdout",
     "output_type": "stream",
     "text": [
      "\r39%"
     ]
    },
    {
     "name": "stdout",
     "output_type": "stream",
     "text": [
      "\r39%"
     ]
    },
    {
     "name": "stdout",
     "output_type": "stream",
     "text": [
      "\r40%"
     ]
    },
    {
     "name": "stdout",
     "output_type": "stream",
     "text": [
      "\r40%"
     ]
    },
    {
     "name": "stdout",
     "output_type": "stream",
     "text": [
      "\r40%"
     ]
    },
    {
     "name": "stdout",
     "output_type": "stream",
     "text": [
      "\r40%"
     ]
    },
    {
     "name": "stdout",
     "output_type": "stream",
     "text": [
      "\r41%"
     ]
    },
    {
     "name": "stdout",
     "output_type": "stream",
     "text": [
      "\r41%"
     ]
    },
    {
     "name": "stdout",
     "output_type": "stream",
     "text": [
      "\r41%"
     ]
    },
    {
     "name": "stdout",
     "output_type": "stream",
     "text": [
      "\r42%"
     ]
    },
    {
     "name": "stdout",
     "output_type": "stream",
     "text": [
      "\r42%"
     ]
    },
    {
     "name": "stdout",
     "output_type": "stream",
     "text": [
      "\r42%"
     ]
    },
    {
     "name": "stdout",
     "output_type": "stream",
     "text": [
      "\r42%"
     ]
    },
    {
     "name": "stdout",
     "output_type": "stream",
     "text": [
      "\r43%"
     ]
    },
    {
     "name": "stdout",
     "output_type": "stream",
     "text": [
      "\r43%"
     ]
    },
    {
     "name": "stdout",
     "output_type": "stream",
     "text": [
      "\r43%"
     ]
    },
    {
     "name": "stdout",
     "output_type": "stream",
     "text": [
      "\r43%"
     ]
    },
    {
     "name": "stdout",
     "output_type": "stream",
     "text": [
      "\r44%"
     ]
    },
    {
     "name": "stdout",
     "output_type": "stream",
     "text": [
      "\r44%"
     ]
    },
    {
     "name": "stdout",
     "output_type": "stream",
     "text": [
      "\r44%"
     ]
    },
    {
     "name": "stdout",
     "output_type": "stream",
     "text": [
      "\r45%"
     ]
    },
    {
     "name": "stdout",
     "output_type": "stream",
     "text": [
      "\r45%"
     ]
    },
    {
     "name": "stdout",
     "output_type": "stream",
     "text": [
      "\r45%"
     ]
    },
    {
     "name": "stdout",
     "output_type": "stream",
     "text": [
      "\r45%"
     ]
    },
    {
     "name": "stdout",
     "output_type": "stream",
     "text": [
      "\r46%"
     ]
    },
    {
     "name": "stdout",
     "output_type": "stream",
     "text": [
      "\r46%"
     ]
    },
    {
     "name": "stdout",
     "output_type": "stream",
     "text": [
      "\r46%"
     ]
    },
    {
     "name": "stdout",
     "output_type": "stream",
     "text": [
      "\r46%"
     ]
    },
    {
     "name": "stdout",
     "output_type": "stream",
     "text": [
      "\r47%"
     ]
    },
    {
     "name": "stdout",
     "output_type": "stream",
     "text": [
      "\r47%"
     ]
    },
    {
     "name": "stdout",
     "output_type": "stream",
     "text": [
      "\r47%"
     ]
    },
    {
     "name": "stdout",
     "output_type": "stream",
     "text": [
      "\r48%"
     ]
    },
    {
     "name": "stdout",
     "output_type": "stream",
     "text": [
      "\r48%"
     ]
    },
    {
     "name": "stdout",
     "output_type": "stream",
     "text": [
      "\r48%"
     ]
    },
    {
     "name": "stdout",
     "output_type": "stream",
     "text": [
      "\r48%"
     ]
    },
    {
     "name": "stdout",
     "output_type": "stream",
     "text": [
      "\r49%"
     ]
    },
    {
     "name": "stdout",
     "output_type": "stream",
     "text": [
      "\r49%"
     ]
    },
    {
     "name": "stdout",
     "output_type": "stream",
     "text": [
      "\r49%"
     ]
    },
    {
     "name": "stdout",
     "output_type": "stream",
     "text": [
      "\r50%"
     ]
    },
    {
     "name": "stdout",
     "output_type": "stream",
     "text": [
      "\r50%"
     ]
    },
    {
     "name": "stdout",
     "output_type": "stream",
     "text": [
      "\r50%"
     ]
    },
    {
     "name": "stdout",
     "output_type": "stream",
     "text": [
      "\r50%"
     ]
    },
    {
     "name": "stdout",
     "output_type": "stream",
     "text": [
      "\r51%"
     ]
    },
    {
     "name": "stdout",
     "output_type": "stream",
     "text": [
      "\r51%"
     ]
    },
    {
     "name": "stdout",
     "output_type": "stream",
     "text": [
      "\r51%"
     ]
    },
    {
     "name": "stdout",
     "output_type": "stream",
     "text": [
      "\r51%"
     ]
    },
    {
     "name": "stdout",
     "output_type": "stream",
     "text": [
      "\r52%"
     ]
    },
    {
     "name": "stdout",
     "output_type": "stream",
     "text": [
      "\r52%"
     ]
    },
    {
     "name": "stdout",
     "output_type": "stream",
     "text": [
      "\r52%"
     ]
    },
    {
     "name": "stdout",
     "output_type": "stream",
     "text": [
      "\r53%"
     ]
    },
    {
     "name": "stdout",
     "output_type": "stream",
     "text": [
      "\r53%"
     ]
    },
    {
     "name": "stdout",
     "output_type": "stream",
     "text": [
      "\r53%"
     ]
    },
    {
     "name": "stdout",
     "output_type": "stream",
     "text": [
      "\r53%"
     ]
    },
    {
     "name": "stdout",
     "output_type": "stream",
     "text": [
      "\r54%"
     ]
    },
    {
     "name": "stdout",
     "output_type": "stream",
     "text": [
      "\r54%"
     ]
    },
    {
     "name": "stdout",
     "output_type": "stream",
     "text": [
      "\r54%"
     ]
    },
    {
     "name": "stdout",
     "output_type": "stream",
     "text": [
      "\r54%"
     ]
    },
    {
     "name": "stdout",
     "output_type": "stream",
     "text": [
      "\r55%"
     ]
    },
    {
     "name": "stdout",
     "output_type": "stream",
     "text": [
      "\r55%"
     ]
    },
    {
     "name": "stdout",
     "output_type": "stream",
     "text": [
      "\r55%"
     ]
    },
    {
     "name": "stdout",
     "output_type": "stream",
     "text": [
      "\r56%"
     ]
    },
    {
     "name": "stdout",
     "output_type": "stream",
     "text": [
      "\r56%"
     ]
    },
    {
     "name": "stdout",
     "output_type": "stream",
     "text": [
      "\r56%"
     ]
    },
    {
     "name": "stdout",
     "output_type": "stream",
     "text": [
      "\r56%"
     ]
    },
    {
     "name": "stdout",
     "output_type": "stream",
     "text": [
      "\r57%"
     ]
    },
    {
     "name": "stdout",
     "output_type": "stream",
     "text": [
      "\r57%"
     ]
    },
    {
     "name": "stdout",
     "output_type": "stream",
     "text": [
      "\r57%"
     ]
    },
    {
     "name": "stdout",
     "output_type": "stream",
     "text": [
      "\r57%"
     ]
    },
    {
     "name": "stdout",
     "output_type": "stream",
     "text": [
      "\r58%"
     ]
    },
    {
     "name": "stdout",
     "output_type": "stream",
     "text": [
      "\r58%"
     ]
    },
    {
     "name": "stdout",
     "output_type": "stream",
     "text": [
      "\r58%"
     ]
    },
    {
     "name": "stdout",
     "output_type": "stream",
     "text": [
      "\r59%"
     ]
    },
    {
     "name": "stdout",
     "output_type": "stream",
     "text": [
      "\r59%"
     ]
    },
    {
     "name": "stdout",
     "output_type": "stream",
     "text": [
      "\r59%"
     ]
    },
    {
     "name": "stdout",
     "output_type": "stream",
     "text": [
      "\r59%"
     ]
    },
    {
     "name": "stdout",
     "output_type": "stream",
     "text": [
      "\r60%"
     ]
    },
    {
     "name": "stdout",
     "output_type": "stream",
     "text": [
      "\r60%"
     ]
    },
    {
     "name": "stdout",
     "output_type": "stream",
     "text": [
      "\r60%"
     ]
    },
    {
     "name": "stdout",
     "output_type": "stream",
     "text": [
      "\r60%"
     ]
    },
    {
     "name": "stdout",
     "output_type": "stream",
     "text": [
      "\r61%"
     ]
    },
    {
     "name": "stdout",
     "output_type": "stream",
     "text": [
      "\r61%"
     ]
    },
    {
     "name": "stdout",
     "output_type": "stream",
     "text": [
      "\r61%"
     ]
    },
    {
     "name": "stdout",
     "output_type": "stream",
     "text": [
      "\r62%"
     ]
    },
    {
     "name": "stdout",
     "output_type": "stream",
     "text": [
      "\r62%"
     ]
    },
    {
     "name": "stdout",
     "output_type": "stream",
     "text": [
      "\r62%"
     ]
    },
    {
     "name": "stdout",
     "output_type": "stream",
     "text": [
      "\r62%"
     ]
    },
    {
     "name": "stdout",
     "output_type": "stream",
     "text": [
      "\r63%"
     ]
    },
    {
     "name": "stdout",
     "output_type": "stream",
     "text": [
      "\r63%"
     ]
    },
    {
     "name": "stdout",
     "output_type": "stream",
     "text": [
      "\r63%"
     ]
    },
    {
     "name": "stdout",
     "output_type": "stream",
     "text": [
      "\r63%"
     ]
    },
    {
     "name": "stdout",
     "output_type": "stream",
     "text": [
      "\r64%"
     ]
    },
    {
     "name": "stdout",
     "output_type": "stream",
     "text": [
      "\r64%"
     ]
    },
    {
     "name": "stdout",
     "output_type": "stream",
     "text": [
      "\r64%"
     ]
    },
    {
     "name": "stdout",
     "output_type": "stream",
     "text": [
      "\r65%"
     ]
    },
    {
     "name": "stdout",
     "output_type": "stream",
     "text": [
      "\r65%"
     ]
    },
    {
     "name": "stdout",
     "output_type": "stream",
     "text": [
      "\r65%"
     ]
    },
    {
     "name": "stdout",
     "output_type": "stream",
     "text": [
      "\r65%"
     ]
    },
    {
     "name": "stdout",
     "output_type": "stream",
     "text": [
      "\r66%"
     ]
    },
    {
     "name": "stdout",
     "output_type": "stream",
     "text": [
      "\r66%"
     ]
    },
    {
     "name": "stdout",
     "output_type": "stream",
     "text": [
      "\r66%"
     ]
    },
    {
     "name": "stdout",
     "output_type": "stream",
     "text": [
      "\r66%"
     ]
    },
    {
     "name": "stdout",
     "output_type": "stream",
     "text": [
      "\r67%"
     ]
    },
    {
     "name": "stdout",
     "output_type": "stream",
     "text": [
      "\r67%"
     ]
    },
    {
     "name": "stdout",
     "output_type": "stream",
     "text": [
      "\r67%"
     ]
    },
    {
     "name": "stdout",
     "output_type": "stream",
     "text": [
      "\r68%"
     ]
    },
    {
     "name": "stdout",
     "output_type": "stream",
     "text": [
      "\r68%"
     ]
    },
    {
     "name": "stdout",
     "output_type": "stream",
     "text": [
      "\r68%"
     ]
    },
    {
     "name": "stdout",
     "output_type": "stream",
     "text": [
      "\r68%"
     ]
    },
    {
     "name": "stdout",
     "output_type": "stream",
     "text": [
      "\r69%"
     ]
    },
    {
     "name": "stdout",
     "output_type": "stream",
     "text": [
      "\r69%"
     ]
    },
    {
     "name": "stdout",
     "output_type": "stream",
     "text": [
      "\r69%"
     ]
    },
    {
     "name": "stdout",
     "output_type": "stream",
     "text": [
      "\r69%"
     ]
    },
    {
     "name": "stdout",
     "output_type": "stream",
     "text": [
      "\r70%"
     ]
    },
    {
     "name": "stdout",
     "output_type": "stream",
     "text": [
      "\r70%"
     ]
    },
    {
     "name": "stdout",
     "output_type": "stream",
     "text": [
      "\r70%"
     ]
    },
    {
     "name": "stdout",
     "output_type": "stream",
     "text": [
      "\r71%"
     ]
    },
    {
     "name": "stdout",
     "output_type": "stream",
     "text": [
      "\r71%"
     ]
    },
    {
     "name": "stdout",
     "output_type": "stream",
     "text": [
      "\r71%"
     ]
    },
    {
     "name": "stdout",
     "output_type": "stream",
     "text": [
      "\r71%"
     ]
    },
    {
     "name": "stdout",
     "output_type": "stream",
     "text": [
      "\r72%"
     ]
    },
    {
     "name": "stdout",
     "output_type": "stream",
     "text": [
      "\r72%"
     ]
    },
    {
     "name": "stdout",
     "output_type": "stream",
     "text": [
      "\r72%"
     ]
    },
    {
     "name": "stdout",
     "output_type": "stream",
     "text": [
      "\r72%"
     ]
    },
    {
     "name": "stdout",
     "output_type": "stream",
     "text": [
      "\r73%"
     ]
    },
    {
     "name": "stdout",
     "output_type": "stream",
     "text": [
      "\r73%"
     ]
    },
    {
     "name": "stdout",
     "output_type": "stream",
     "text": [
      "\r73%"
     ]
    },
    {
     "name": "stdout",
     "output_type": "stream",
     "text": [
      "\r74%"
     ]
    },
    {
     "name": "stdout",
     "output_type": "stream",
     "text": [
      "\r74%"
     ]
    },
    {
     "name": "stdout",
     "output_type": "stream",
     "text": [
      "\r74%"
     ]
    },
    {
     "name": "stdout",
     "output_type": "stream",
     "text": [
      "\r74%"
     ]
    },
    {
     "name": "stdout",
     "output_type": "stream",
     "text": [
      "\r75%"
     ]
    },
    {
     "name": "stdout",
     "output_type": "stream",
     "text": [
      "\r75%"
     ]
    },
    {
     "name": "stdout",
     "output_type": "stream",
     "text": [
      "\r75%"
     ]
    },
    {
     "name": "stdout",
     "output_type": "stream",
     "text": [
      "\r75%"
     ]
    },
    {
     "name": "stdout",
     "output_type": "stream",
     "text": [
      "\r76%"
     ]
    },
    {
     "name": "stdout",
     "output_type": "stream",
     "text": [
      "\r76%"
     ]
    },
    {
     "name": "stdout",
     "output_type": "stream",
     "text": [
      "\r76%"
     ]
    },
    {
     "name": "stdout",
     "output_type": "stream",
     "text": [
      "\r77%"
     ]
    },
    {
     "name": "stdout",
     "output_type": "stream",
     "text": [
      "\r77%"
     ]
    },
    {
     "name": "stdout",
     "output_type": "stream",
     "text": [
      "\r77%"
     ]
    },
    {
     "name": "stdout",
     "output_type": "stream",
     "text": [
      "\r77%"
     ]
    },
    {
     "name": "stdout",
     "output_type": "stream",
     "text": [
      "\r78%"
     ]
    },
    {
     "name": "stdout",
     "output_type": "stream",
     "text": [
      "\r78%"
     ]
    },
    {
     "name": "stdout",
     "output_type": "stream",
     "text": [
      "\r78%"
     ]
    },
    {
     "name": "stdout",
     "output_type": "stream",
     "text": [
      "\r78%"
     ]
    },
    {
     "name": "stdout",
     "output_type": "stream",
     "text": [
      "\r79%"
     ]
    },
    {
     "name": "stdout",
     "output_type": "stream",
     "text": [
      "\r79%"
     ]
    },
    {
     "name": "stdout",
     "output_type": "stream",
     "text": [
      "\r79%"
     ]
    },
    {
     "name": "stdout",
     "output_type": "stream",
     "text": [
      "\r80%"
     ]
    },
    {
     "name": "stdout",
     "output_type": "stream",
     "text": [
      "\r80%"
     ]
    },
    {
     "name": "stdout",
     "output_type": "stream",
     "text": [
      "\r80%"
     ]
    },
    {
     "name": "stdout",
     "output_type": "stream",
     "text": [
      "\r80%"
     ]
    },
    {
     "name": "stdout",
     "output_type": "stream",
     "text": [
      "\r81%"
     ]
    },
    {
     "name": "stdout",
     "output_type": "stream",
     "text": [
      "\r81%"
     ]
    },
    {
     "name": "stdout",
     "output_type": "stream",
     "text": [
      "\r81%"
     ]
    },
    {
     "name": "stdout",
     "output_type": "stream",
     "text": [
      "\r81%"
     ]
    },
    {
     "name": "stdout",
     "output_type": "stream",
     "text": [
      "\r82%"
     ]
    },
    {
     "name": "stdout",
     "output_type": "stream",
     "text": [
      "\r82%"
     ]
    },
    {
     "name": "stdout",
     "output_type": "stream",
     "text": [
      "\r82%"
     ]
    },
    {
     "name": "stdout",
     "output_type": "stream",
     "text": [
      "\r83%"
     ]
    },
    {
     "name": "stdout",
     "output_type": "stream",
     "text": [
      "\r83%"
     ]
    },
    {
     "name": "stdout",
     "output_type": "stream",
     "text": [
      "\r83%"
     ]
    },
    {
     "name": "stdout",
     "output_type": "stream",
     "text": [
      "\r83%"
     ]
    },
    {
     "name": "stdout",
     "output_type": "stream",
     "text": [
      "\r84%"
     ]
    },
    {
     "name": "stdout",
     "output_type": "stream",
     "text": [
      "\r84%"
     ]
    },
    {
     "name": "stdout",
     "output_type": "stream",
     "text": [
      "\r84%"
     ]
    },
    {
     "name": "stdout",
     "output_type": "stream",
     "text": [
      "\r84%"
     ]
    },
    {
     "name": "stdout",
     "output_type": "stream",
     "text": [
      "\r85%"
     ]
    },
    {
     "name": "stdout",
     "output_type": "stream",
     "text": [
      "\r85%"
     ]
    },
    {
     "name": "stdout",
     "output_type": "stream",
     "text": [
      "\r85%"
     ]
    },
    {
     "name": "stdout",
     "output_type": "stream",
     "text": [
      "\r86%"
     ]
    },
    {
     "name": "stdout",
     "output_type": "stream",
     "text": [
      "\r86%"
     ]
    },
    {
     "name": "stdout",
     "output_type": "stream",
     "text": [
      "\r86%"
     ]
    },
    {
     "name": "stdout",
     "output_type": "stream",
     "text": [
      "\r86%"
     ]
    },
    {
     "name": "stdout",
     "output_type": "stream",
     "text": [
      "\r87%"
     ]
    },
    {
     "name": "stdout",
     "output_type": "stream",
     "text": [
      "\r87%"
     ]
    },
    {
     "name": "stdout",
     "output_type": "stream",
     "text": [
      "\r87%"
     ]
    },
    {
     "name": "stdout",
     "output_type": "stream",
     "text": [
      "\r87%"
     ]
    },
    {
     "name": "stdout",
     "output_type": "stream",
     "text": [
      "\r88%"
     ]
    },
    {
     "name": "stdout",
     "output_type": "stream",
     "text": [
      "\r88%"
     ]
    },
    {
     "name": "stdout",
     "output_type": "stream",
     "text": [
      "\r88%"
     ]
    },
    {
     "name": "stdout",
     "output_type": "stream",
     "text": [
      "\r89%"
     ]
    },
    {
     "name": "stdout",
     "output_type": "stream",
     "text": [
      "\r89%"
     ]
    },
    {
     "name": "stdout",
     "output_type": "stream",
     "text": [
      "\r89%"
     ]
    },
    {
     "name": "stdout",
     "output_type": "stream",
     "text": [
      "\r89%"
     ]
    },
    {
     "name": "stdout",
     "output_type": "stream",
     "text": [
      "\r90%"
     ]
    },
    {
     "name": "stdout",
     "output_type": "stream",
     "text": [
      "\r90%"
     ]
    },
    {
     "name": "stdout",
     "output_type": "stream",
     "text": [
      "\r90%"
     ]
    },
    {
     "name": "stdout",
     "output_type": "stream",
     "text": [
      "\r90%"
     ]
    },
    {
     "name": "stdout",
     "output_type": "stream",
     "text": [
      "\r91%"
     ]
    },
    {
     "name": "stdout",
     "output_type": "stream",
     "text": [
      "\r91%"
     ]
    },
    {
     "name": "stdout",
     "output_type": "stream",
     "text": [
      "\r91%"
     ]
    },
    {
     "name": "stdout",
     "output_type": "stream",
     "text": [
      "\r92%"
     ]
    },
    {
     "name": "stdout",
     "output_type": "stream",
     "text": [
      "\r92%"
     ]
    },
    {
     "name": "stdout",
     "output_type": "stream",
     "text": [
      "\r92%"
     ]
    },
    {
     "name": "stdout",
     "output_type": "stream",
     "text": [
      "\r92%"
     ]
    },
    {
     "name": "stdout",
     "output_type": "stream",
     "text": [
      "\r93%"
     ]
    },
    {
     "name": "stdout",
     "output_type": "stream",
     "text": [
      "\r93%"
     ]
    },
    {
     "name": "stdout",
     "output_type": "stream",
     "text": [
      "\r93%"
     ]
    },
    {
     "name": "stdout",
     "output_type": "stream",
     "text": [
      "\r93%"
     ]
    },
    {
     "name": "stdout",
     "output_type": "stream",
     "text": [
      "\r94%"
     ]
    },
    {
     "name": "stdout",
     "output_type": "stream",
     "text": [
      "\r94%"
     ]
    },
    {
     "name": "stdout",
     "output_type": "stream",
     "text": [
      "\r94%"
     ]
    },
    {
     "name": "stdout",
     "output_type": "stream",
     "text": [
      "\r95%"
     ]
    },
    {
     "name": "stdout",
     "output_type": "stream",
     "text": [
      "\r95%"
     ]
    },
    {
     "name": "stdout",
     "output_type": "stream",
     "text": [
      "\r95%"
     ]
    },
    {
     "name": "stdout",
     "output_type": "stream",
     "text": [
      "\r95%"
     ]
    },
    {
     "name": "stdout",
     "output_type": "stream",
     "text": [
      "\r96%"
     ]
    },
    {
     "name": "stdout",
     "output_type": "stream",
     "text": [
      "\r96%"
     ]
    },
    {
     "name": "stdout",
     "output_type": "stream",
     "text": [
      "\r96%"
     ]
    },
    {
     "name": "stdout",
     "output_type": "stream",
     "text": [
      "\r96%"
     ]
    },
    {
     "name": "stdout",
     "output_type": "stream",
     "text": [
      "\r97%"
     ]
    },
    {
     "name": "stdout",
     "output_type": "stream",
     "text": [
      "\r97%"
     ]
    },
    {
     "name": "stdout",
     "output_type": "stream",
     "text": [
      "\r97%"
     ]
    },
    {
     "name": "stdout",
     "output_type": "stream",
     "text": [
      "\r98%"
     ]
    },
    {
     "name": "stdout",
     "output_type": "stream",
     "text": [
      "\r98%"
     ]
    },
    {
     "name": "stdout",
     "output_type": "stream",
     "text": [
      "\r98%"
     ]
    },
    {
     "name": "stdout",
     "output_type": "stream",
     "text": [
      "\r98%"
     ]
    },
    {
     "name": "stdout",
     "output_type": "stream",
     "text": [
      "\r99%"
     ]
    },
    {
     "name": "stdout",
     "output_type": "stream",
     "text": [
      "\r99%"
     ]
    },
    {
     "name": "stdout",
     "output_type": "stream",
     "text": [
      "\r99%"
     ]
    },
    {
     "name": "stdout",
     "output_type": "stream",
     "text": [
      "\r6 훈련 MSE: 0.04288338\n"
     ]
    },
    {
     "name": "stdout",
     "output_type": "stream",
     "text": [
      "\r0%"
     ]
    },
    {
     "name": "stdout",
     "output_type": "stream",
     "text": [
      "\r0%"
     ]
    },
    {
     "name": "stdout",
     "output_type": "stream",
     "text": [
      "\r0%"
     ]
    },
    {
     "name": "stdout",
     "output_type": "stream",
     "text": [
      "\r0%"
     ]
    },
    {
     "name": "stdout",
     "output_type": "stream",
     "text": [
      "\r1%"
     ]
    },
    {
     "name": "stdout",
     "output_type": "stream",
     "text": [
      "\r1%"
     ]
    },
    {
     "name": "stdout",
     "output_type": "stream",
     "text": [
      "\r1%"
     ]
    },
    {
     "name": "stdout",
     "output_type": "stream",
     "text": [
      "\r1%"
     ]
    },
    {
     "name": "stdout",
     "output_type": "stream",
     "text": [
      "\r2%"
     ]
    },
    {
     "name": "stdout",
     "output_type": "stream",
     "text": [
      "\r2%"
     ]
    },
    {
     "name": "stdout",
     "output_type": "stream",
     "text": [
      "\r2%"
     ]
    },
    {
     "name": "stdout",
     "output_type": "stream",
     "text": [
      "\r3%"
     ]
    },
    {
     "name": "stdout",
     "output_type": "stream",
     "text": [
      "\r3%"
     ]
    },
    {
     "name": "stdout",
     "output_type": "stream",
     "text": [
      "\r3%"
     ]
    },
    {
     "name": "stdout",
     "output_type": "stream",
     "text": [
      "\r3%"
     ]
    },
    {
     "name": "stdout",
     "output_type": "stream",
     "text": [
      "\r4%"
     ]
    },
    {
     "name": "stdout",
     "output_type": "stream",
     "text": [
      "\r4%"
     ]
    },
    {
     "name": "stdout",
     "output_type": "stream",
     "text": [
      "\r4%"
     ]
    },
    {
     "name": "stdout",
     "output_type": "stream",
     "text": [
      "\r4%"
     ]
    },
    {
     "name": "stdout",
     "output_type": "stream",
     "text": [
      "\r5%"
     ]
    },
    {
     "name": "stdout",
     "output_type": "stream",
     "text": [
      "\r5%"
     ]
    },
    {
     "name": "stdout",
     "output_type": "stream",
     "text": [
      "\r5%"
     ]
    },
    {
     "name": "stdout",
     "output_type": "stream",
     "text": [
      "\r6%"
     ]
    },
    {
     "name": "stdout",
     "output_type": "stream",
     "text": [
      "\r6%"
     ]
    },
    {
     "name": "stdout",
     "output_type": "stream",
     "text": [
      "\r6%"
     ]
    },
    {
     "name": "stdout",
     "output_type": "stream",
     "text": [
      "\r6%"
     ]
    },
    {
     "name": "stdout",
     "output_type": "stream",
     "text": [
      "\r7%"
     ]
    },
    {
     "name": "stdout",
     "output_type": "stream",
     "text": [
      "\r7%"
     ]
    },
    {
     "name": "stdout",
     "output_type": "stream",
     "text": [
      "\r7%"
     ]
    },
    {
     "name": "stdout",
     "output_type": "stream",
     "text": [
      "\r7%"
     ]
    },
    {
     "name": "stdout",
     "output_type": "stream",
     "text": [
      "\r8%"
     ]
    },
    {
     "name": "stdout",
     "output_type": "stream",
     "text": [
      "\r8%"
     ]
    },
    {
     "name": "stdout",
     "output_type": "stream",
     "text": [
      "\r8%"
     ]
    },
    {
     "name": "stdout",
     "output_type": "stream",
     "text": [
      "\r9%"
     ]
    },
    {
     "name": "stdout",
     "output_type": "stream",
     "text": [
      "\r9%"
     ]
    },
    {
     "name": "stdout",
     "output_type": "stream",
     "text": [
      "\r9%"
     ]
    },
    {
     "name": "stdout",
     "output_type": "stream",
     "text": [
      "\r9%"
     ]
    },
    {
     "name": "stdout",
     "output_type": "stream",
     "text": [
      "\r10%"
     ]
    },
    {
     "name": "stdout",
     "output_type": "stream",
     "text": [
      "\r10%"
     ]
    },
    {
     "name": "stdout",
     "output_type": "stream",
     "text": [
      "\r10%"
     ]
    },
    {
     "name": "stdout",
     "output_type": "stream",
     "text": [
      "\r10%"
     ]
    },
    {
     "name": "stdout",
     "output_type": "stream",
     "text": [
      "\r11%"
     ]
    },
    {
     "name": "stdout",
     "output_type": "stream",
     "text": [
      "\r11%"
     ]
    },
    {
     "name": "stdout",
     "output_type": "stream",
     "text": [
      "\r11%"
     ]
    },
    {
     "name": "stdout",
     "output_type": "stream",
     "text": [
      "\r12%"
     ]
    },
    {
     "name": "stdout",
     "output_type": "stream",
     "text": [
      "\r12%"
     ]
    },
    {
     "name": "stdout",
     "output_type": "stream",
     "text": [
      "\r12%"
     ]
    },
    {
     "name": "stdout",
     "output_type": "stream",
     "text": [
      "\r12%"
     ]
    },
    {
     "name": "stdout",
     "output_type": "stream",
     "text": [
      "\r13%"
     ]
    },
    {
     "name": "stdout",
     "output_type": "stream",
     "text": [
      "\r13%"
     ]
    },
    {
     "name": "stdout",
     "output_type": "stream",
     "text": [
      "\r13%"
     ]
    },
    {
     "name": "stdout",
     "output_type": "stream",
     "text": [
      "\r13%"
     ]
    },
    {
     "name": "stdout",
     "output_type": "stream",
     "text": [
      "\r14%"
     ]
    },
    {
     "name": "stdout",
     "output_type": "stream",
     "text": [
      "\r14%"
     ]
    },
    {
     "name": "stdout",
     "output_type": "stream",
     "text": [
      "\r14%"
     ]
    },
    {
     "name": "stdout",
     "output_type": "stream",
     "text": [
      "\r15%"
     ]
    },
    {
     "name": "stdout",
     "output_type": "stream",
     "text": [
      "\r15%"
     ]
    },
    {
     "name": "stdout",
     "output_type": "stream",
     "text": [
      "\r15%"
     ]
    },
    {
     "name": "stdout",
     "output_type": "stream",
     "text": [
      "\r15%"
     ]
    },
    {
     "name": "stdout",
     "output_type": "stream",
     "text": [
      "\r16%"
     ]
    },
    {
     "name": "stdout",
     "output_type": "stream",
     "text": [
      "\r16%"
     ]
    },
    {
     "name": "stdout",
     "output_type": "stream",
     "text": [
      "\r16%"
     ]
    },
    {
     "name": "stdout",
     "output_type": "stream",
     "text": [
      "\r16%"
     ]
    },
    {
     "name": "stdout",
     "output_type": "stream",
     "text": [
      "\r17%"
     ]
    },
    {
     "name": "stdout",
     "output_type": "stream",
     "text": [
      "\r17%"
     ]
    },
    {
     "name": "stdout",
     "output_type": "stream",
     "text": [
      "\r17%"
     ]
    },
    {
     "name": "stdout",
     "output_type": "stream",
     "text": [
      "\r18%"
     ]
    },
    {
     "name": "stdout",
     "output_type": "stream",
     "text": [
      "\r18%"
     ]
    },
    {
     "name": "stdout",
     "output_type": "stream",
     "text": [
      "\r18%"
     ]
    },
    {
     "name": "stdout",
     "output_type": "stream",
     "text": [
      "\r18%"
     ]
    },
    {
     "name": "stdout",
     "output_type": "stream",
     "text": [
      "\r19%"
     ]
    },
    {
     "name": "stdout",
     "output_type": "stream",
     "text": [
      "\r19%"
     ]
    },
    {
     "name": "stdout",
     "output_type": "stream",
     "text": [
      "\r19%"
     ]
    },
    {
     "name": "stdout",
     "output_type": "stream",
     "text": [
      "\r19%"
     ]
    },
    {
     "name": "stdout",
     "output_type": "stream",
     "text": [
      "\r20%"
     ]
    },
    {
     "name": "stdout",
     "output_type": "stream",
     "text": [
      "\r20%"
     ]
    },
    {
     "name": "stdout",
     "output_type": "stream",
     "text": [
      "\r20%"
     ]
    },
    {
     "name": "stdout",
     "output_type": "stream",
     "text": [
      "\r21%"
     ]
    },
    {
     "name": "stdout",
     "output_type": "stream",
     "text": [
      "\r21%"
     ]
    },
    {
     "name": "stdout",
     "output_type": "stream",
     "text": [
      "\r21%"
     ]
    },
    {
     "name": "stdout",
     "output_type": "stream",
     "text": [
      "\r21%"
     ]
    },
    {
     "name": "stdout",
     "output_type": "stream",
     "text": [
      "\r22%"
     ]
    },
    {
     "name": "stdout",
     "output_type": "stream",
     "text": [
      "\r22%"
     ]
    },
    {
     "name": "stdout",
     "output_type": "stream",
     "text": [
      "\r22%"
     ]
    },
    {
     "name": "stdout",
     "output_type": "stream",
     "text": [
      "\r22%"
     ]
    },
    {
     "name": "stdout",
     "output_type": "stream",
     "text": [
      "\r23%"
     ]
    },
    {
     "name": "stdout",
     "output_type": "stream",
     "text": [
      "\r23%"
     ]
    },
    {
     "name": "stdout",
     "output_type": "stream",
     "text": [
      "\r23%"
     ]
    },
    {
     "name": "stdout",
     "output_type": "stream",
     "text": [
      "\r24%"
     ]
    },
    {
     "name": "stdout",
     "output_type": "stream",
     "text": [
      "\r24%"
     ]
    },
    {
     "name": "stdout",
     "output_type": "stream",
     "text": [
      "\r24%"
     ]
    },
    {
     "name": "stdout",
     "output_type": "stream",
     "text": [
      "\r24%"
     ]
    },
    {
     "name": "stdout",
     "output_type": "stream",
     "text": [
      "\r25%"
     ]
    },
    {
     "name": "stdout",
     "output_type": "stream",
     "text": [
      "\r25%"
     ]
    },
    {
     "name": "stdout",
     "output_type": "stream",
     "text": [
      "\r25%"
     ]
    },
    {
     "name": "stdout",
     "output_type": "stream",
     "text": [
      "\r25%"
     ]
    },
    {
     "name": "stdout",
     "output_type": "stream",
     "text": [
      "\r26%"
     ]
    },
    {
     "name": "stdout",
     "output_type": "stream",
     "text": [
      "\r26%"
     ]
    },
    {
     "name": "stdout",
     "output_type": "stream",
     "text": [
      "\r26%"
     ]
    },
    {
     "name": "stdout",
     "output_type": "stream",
     "text": [
      "\r27%"
     ]
    },
    {
     "name": "stdout",
     "output_type": "stream",
     "text": [
      "\r27%"
     ]
    },
    {
     "name": "stdout",
     "output_type": "stream",
     "text": [
      "\r27%"
     ]
    },
    {
     "name": "stdout",
     "output_type": "stream",
     "text": [
      "\r27%"
     ]
    },
    {
     "name": "stdout",
     "output_type": "stream",
     "text": [
      "\r28%"
     ]
    },
    {
     "name": "stdout",
     "output_type": "stream",
     "text": [
      "\r28%"
     ]
    },
    {
     "name": "stdout",
     "output_type": "stream",
     "text": [
      "\r28%"
     ]
    },
    {
     "name": "stdout",
     "output_type": "stream",
     "text": [
      "\r28%"
     ]
    },
    {
     "name": "stdout",
     "output_type": "stream",
     "text": [
      "\r29%"
     ]
    },
    {
     "name": "stdout",
     "output_type": "stream",
     "text": [
      "\r29%"
     ]
    },
    {
     "name": "stdout",
     "output_type": "stream",
     "text": [
      "\r29%"
     ]
    },
    {
     "name": "stdout",
     "output_type": "stream",
     "text": [
      "\r30%"
     ]
    },
    {
     "name": "stdout",
     "output_type": "stream",
     "text": [
      "\r30%"
     ]
    },
    {
     "name": "stdout",
     "output_type": "stream",
     "text": [
      "\r30%"
     ]
    },
    {
     "name": "stdout",
     "output_type": "stream",
     "text": [
      "\r30%"
     ]
    },
    {
     "name": "stdout",
     "output_type": "stream",
     "text": [
      "\r31%"
     ]
    },
    {
     "name": "stdout",
     "output_type": "stream",
     "text": [
      "\r31%"
     ]
    },
    {
     "name": "stdout",
     "output_type": "stream",
     "text": [
      "\r31%"
     ]
    },
    {
     "name": "stdout",
     "output_type": "stream",
     "text": [
      "\r31%"
     ]
    },
    {
     "name": "stdout",
     "output_type": "stream",
     "text": [
      "\r32%"
     ]
    },
    {
     "name": "stdout",
     "output_type": "stream",
     "text": [
      "\r32%"
     ]
    },
    {
     "name": "stdout",
     "output_type": "stream",
     "text": [
      "\r32%"
     ]
    },
    {
     "name": "stdout",
     "output_type": "stream",
     "text": [
      "\r33%"
     ]
    },
    {
     "name": "stdout",
     "output_type": "stream",
     "text": [
      "\r33%"
     ]
    },
    {
     "name": "stdout",
     "output_type": "stream",
     "text": [
      "\r33%"
     ]
    },
    {
     "name": "stdout",
     "output_type": "stream",
     "text": [
      "\r33%"
     ]
    },
    {
     "name": "stdout",
     "output_type": "stream",
     "text": [
      "\r34%"
     ]
    },
    {
     "name": "stdout",
     "output_type": "stream",
     "text": [
      "\r34%"
     ]
    },
    {
     "name": "stdout",
     "output_type": "stream",
     "text": [
      "\r34%"
     ]
    },
    {
     "name": "stdout",
     "output_type": "stream",
     "text": [
      "\r34%"
     ]
    },
    {
     "name": "stdout",
     "output_type": "stream",
     "text": [
      "\r35%"
     ]
    },
    {
     "name": "stdout",
     "output_type": "stream",
     "text": [
      "\r35%"
     ]
    },
    {
     "name": "stdout",
     "output_type": "stream",
     "text": [
      "\r35%"
     ]
    },
    {
     "name": "stdout",
     "output_type": "stream",
     "text": [
      "\r36%"
     ]
    },
    {
     "name": "stdout",
     "output_type": "stream",
     "text": [
      "\r36%"
     ]
    },
    {
     "name": "stdout",
     "output_type": "stream",
     "text": [
      "\r36%"
     ]
    },
    {
     "name": "stdout",
     "output_type": "stream",
     "text": [
      "\r36%"
     ]
    },
    {
     "name": "stdout",
     "output_type": "stream",
     "text": [
      "\r37%"
     ]
    },
    {
     "name": "stdout",
     "output_type": "stream",
     "text": [
      "\r37%"
     ]
    },
    {
     "name": "stdout",
     "output_type": "stream",
     "text": [
      "\r37%"
     ]
    },
    {
     "name": "stdout",
     "output_type": "stream",
     "text": [
      "\r37%"
     ]
    },
    {
     "name": "stdout",
     "output_type": "stream",
     "text": [
      "\r38%"
     ]
    },
    {
     "name": "stdout",
     "output_type": "stream",
     "text": [
      "\r38%"
     ]
    },
    {
     "name": "stdout",
     "output_type": "stream",
     "text": [
      "\r38%"
     ]
    },
    {
     "name": "stdout",
     "output_type": "stream",
     "text": [
      "\r39%"
     ]
    },
    {
     "name": "stdout",
     "output_type": "stream",
     "text": [
      "\r39%"
     ]
    },
    {
     "name": "stdout",
     "output_type": "stream",
     "text": [
      "\r39%"
     ]
    },
    {
     "name": "stdout",
     "output_type": "stream",
     "text": [
      "\r39%"
     ]
    },
    {
     "name": "stdout",
     "output_type": "stream",
     "text": [
      "\r40%"
     ]
    },
    {
     "name": "stdout",
     "output_type": "stream",
     "text": [
      "\r40%"
     ]
    },
    {
     "name": "stdout",
     "output_type": "stream",
     "text": [
      "\r40%"
     ]
    },
    {
     "name": "stdout",
     "output_type": "stream",
     "text": [
      "\r40%"
     ]
    },
    {
     "name": "stdout",
     "output_type": "stream",
     "text": [
      "\r41%"
     ]
    },
    {
     "name": "stdout",
     "output_type": "stream",
     "text": [
      "\r41%"
     ]
    },
    {
     "name": "stdout",
     "output_type": "stream",
     "text": [
      "\r41%"
     ]
    },
    {
     "name": "stdout",
     "output_type": "stream",
     "text": [
      "\r42%"
     ]
    },
    {
     "name": "stdout",
     "output_type": "stream",
     "text": [
      "\r42%"
     ]
    },
    {
     "name": "stdout",
     "output_type": "stream",
     "text": [
      "\r42%"
     ]
    },
    {
     "name": "stdout",
     "output_type": "stream",
     "text": [
      "\r42%"
     ]
    },
    {
     "name": "stdout",
     "output_type": "stream",
     "text": [
      "\r43%"
     ]
    },
    {
     "name": "stdout",
     "output_type": "stream",
     "text": [
      "\r43%"
     ]
    },
    {
     "name": "stdout",
     "output_type": "stream",
     "text": [
      "\r43%"
     ]
    },
    {
     "name": "stdout",
     "output_type": "stream",
     "text": [
      "\r43%"
     ]
    },
    {
     "name": "stdout",
     "output_type": "stream",
     "text": [
      "\r44%"
     ]
    },
    {
     "name": "stdout",
     "output_type": "stream",
     "text": [
      "\r44%"
     ]
    },
    {
     "name": "stdout",
     "output_type": "stream",
     "text": [
      "\r44%"
     ]
    },
    {
     "name": "stdout",
     "output_type": "stream",
     "text": [
      "\r45%"
     ]
    },
    {
     "name": "stdout",
     "output_type": "stream",
     "text": [
      "\r45%"
     ]
    },
    {
     "name": "stdout",
     "output_type": "stream",
     "text": [
      "\r45%"
     ]
    },
    {
     "name": "stdout",
     "output_type": "stream",
     "text": [
      "\r45%"
     ]
    },
    {
     "name": "stdout",
     "output_type": "stream",
     "text": [
      "\r46%"
     ]
    },
    {
     "name": "stdout",
     "output_type": "stream",
     "text": [
      "\r46%"
     ]
    },
    {
     "name": "stdout",
     "output_type": "stream",
     "text": [
      "\r46%"
     ]
    },
    {
     "name": "stdout",
     "output_type": "stream",
     "text": [
      "\r46%"
     ]
    },
    {
     "name": "stdout",
     "output_type": "stream",
     "text": [
      "\r47%"
     ]
    },
    {
     "name": "stdout",
     "output_type": "stream",
     "text": [
      "\r47%"
     ]
    },
    {
     "name": "stdout",
     "output_type": "stream",
     "text": [
      "\r47%"
     ]
    },
    {
     "name": "stdout",
     "output_type": "stream",
     "text": [
      "\r48%"
     ]
    },
    {
     "name": "stdout",
     "output_type": "stream",
     "text": [
      "\r48%"
     ]
    },
    {
     "name": "stdout",
     "output_type": "stream",
     "text": [
      "\r48%"
     ]
    },
    {
     "name": "stdout",
     "output_type": "stream",
     "text": [
      "\r48%"
     ]
    },
    {
     "name": "stdout",
     "output_type": "stream",
     "text": [
      "\r49%"
     ]
    },
    {
     "name": "stdout",
     "output_type": "stream",
     "text": [
      "\r49%"
     ]
    },
    {
     "name": "stdout",
     "output_type": "stream",
     "text": [
      "\r49%"
     ]
    },
    {
     "name": "stdout",
     "output_type": "stream",
     "text": [
      "\r50%"
     ]
    },
    {
     "name": "stdout",
     "output_type": "stream",
     "text": [
      "\r50%"
     ]
    },
    {
     "name": "stdout",
     "output_type": "stream",
     "text": [
      "\r50%"
     ]
    },
    {
     "name": "stdout",
     "output_type": "stream",
     "text": [
      "\r50%"
     ]
    },
    {
     "name": "stdout",
     "output_type": "stream",
     "text": [
      "\r51%"
     ]
    },
    {
     "name": "stdout",
     "output_type": "stream",
     "text": [
      "\r51%"
     ]
    },
    {
     "name": "stdout",
     "output_type": "stream",
     "text": [
      "\r51%"
     ]
    },
    {
     "name": "stdout",
     "output_type": "stream",
     "text": [
      "\r51%"
     ]
    },
    {
     "name": "stdout",
     "output_type": "stream",
     "text": [
      "\r52%"
     ]
    },
    {
     "name": "stdout",
     "output_type": "stream",
     "text": [
      "\r52%"
     ]
    },
    {
     "name": "stdout",
     "output_type": "stream",
     "text": [
      "\r52%"
     ]
    },
    {
     "name": "stdout",
     "output_type": "stream",
     "text": [
      "\r53%"
     ]
    },
    {
     "name": "stdout",
     "output_type": "stream",
     "text": [
      "\r53%"
     ]
    },
    {
     "name": "stdout",
     "output_type": "stream",
     "text": [
      "\r53%"
     ]
    },
    {
     "name": "stdout",
     "output_type": "stream",
     "text": [
      "\r53%"
     ]
    },
    {
     "name": "stdout",
     "output_type": "stream",
     "text": [
      "\r54%"
     ]
    },
    {
     "name": "stdout",
     "output_type": "stream",
     "text": [
      "\r54%"
     ]
    },
    {
     "name": "stdout",
     "output_type": "stream",
     "text": [
      "\r54%"
     ]
    },
    {
     "name": "stdout",
     "output_type": "stream",
     "text": [
      "\r54%"
     ]
    },
    {
     "name": "stdout",
     "output_type": "stream",
     "text": [
      "\r55%"
     ]
    },
    {
     "name": "stdout",
     "output_type": "stream",
     "text": [
      "\r55%"
     ]
    },
    {
     "name": "stdout",
     "output_type": "stream",
     "text": [
      "\r55%"
     ]
    },
    {
     "name": "stdout",
     "output_type": "stream",
     "text": [
      "\r56%"
     ]
    },
    {
     "name": "stdout",
     "output_type": "stream",
     "text": [
      "\r56%"
     ]
    },
    {
     "name": "stdout",
     "output_type": "stream",
     "text": [
      "\r56%"
     ]
    },
    {
     "name": "stdout",
     "output_type": "stream",
     "text": [
      "\r56%"
     ]
    },
    {
     "name": "stdout",
     "output_type": "stream",
     "text": [
      "\r57%"
     ]
    },
    {
     "name": "stdout",
     "output_type": "stream",
     "text": [
      "\r57%"
     ]
    },
    {
     "name": "stdout",
     "output_type": "stream",
     "text": [
      "\r57%"
     ]
    },
    {
     "name": "stdout",
     "output_type": "stream",
     "text": [
      "\r57%"
     ]
    },
    {
     "name": "stdout",
     "output_type": "stream",
     "text": [
      "\r58%"
     ]
    },
    {
     "name": "stdout",
     "output_type": "stream",
     "text": [
      "\r58%"
     ]
    },
    {
     "name": "stdout",
     "output_type": "stream",
     "text": [
      "\r58%"
     ]
    },
    {
     "name": "stdout",
     "output_type": "stream",
     "text": [
      "\r59%"
     ]
    },
    {
     "name": "stdout",
     "output_type": "stream",
     "text": [
      "\r59%"
     ]
    },
    {
     "name": "stdout",
     "output_type": "stream",
     "text": [
      "\r59%"
     ]
    },
    {
     "name": "stdout",
     "output_type": "stream",
     "text": [
      "\r59%"
     ]
    },
    {
     "name": "stdout",
     "output_type": "stream",
     "text": [
      "\r60%"
     ]
    },
    {
     "name": "stdout",
     "output_type": "stream",
     "text": [
      "\r60%"
     ]
    },
    {
     "name": "stdout",
     "output_type": "stream",
     "text": [
      "\r60%"
     ]
    },
    {
     "name": "stdout",
     "output_type": "stream",
     "text": [
      "\r60%"
     ]
    },
    {
     "name": "stdout",
     "output_type": "stream",
     "text": [
      "\r61%"
     ]
    },
    {
     "name": "stdout",
     "output_type": "stream",
     "text": [
      "\r61%"
     ]
    },
    {
     "name": "stdout",
     "output_type": "stream",
     "text": [
      "\r61%"
     ]
    },
    {
     "name": "stdout",
     "output_type": "stream",
     "text": [
      "\r62%"
     ]
    },
    {
     "name": "stdout",
     "output_type": "stream",
     "text": [
      "\r62%"
     ]
    },
    {
     "name": "stdout",
     "output_type": "stream",
     "text": [
      "\r62%"
     ]
    },
    {
     "name": "stdout",
     "output_type": "stream",
     "text": [
      "\r62%"
     ]
    },
    {
     "name": "stdout",
     "output_type": "stream",
     "text": [
      "\r63%"
     ]
    },
    {
     "name": "stdout",
     "output_type": "stream",
     "text": [
      "\r63%"
     ]
    },
    {
     "name": "stdout",
     "output_type": "stream",
     "text": [
      "\r63%"
     ]
    },
    {
     "name": "stdout",
     "output_type": "stream",
     "text": [
      "\r63%"
     ]
    },
    {
     "name": "stdout",
     "output_type": "stream",
     "text": [
      "\r64%"
     ]
    },
    {
     "name": "stdout",
     "output_type": "stream",
     "text": [
      "\r64%"
     ]
    },
    {
     "name": "stdout",
     "output_type": "stream",
     "text": [
      "\r64%"
     ]
    },
    {
     "name": "stdout",
     "output_type": "stream",
     "text": [
      "\r65%"
     ]
    },
    {
     "name": "stdout",
     "output_type": "stream",
     "text": [
      "\r65%"
     ]
    },
    {
     "name": "stdout",
     "output_type": "stream",
     "text": [
      "\r65%"
     ]
    },
    {
     "name": "stdout",
     "output_type": "stream",
     "text": [
      "\r65%"
     ]
    },
    {
     "name": "stdout",
     "output_type": "stream",
     "text": [
      "\r66%"
     ]
    },
    {
     "name": "stdout",
     "output_type": "stream",
     "text": [
      "\r66%"
     ]
    },
    {
     "name": "stdout",
     "output_type": "stream",
     "text": [
      "\r66%"
     ]
    },
    {
     "name": "stdout",
     "output_type": "stream",
     "text": [
      "\r66%"
     ]
    },
    {
     "name": "stdout",
     "output_type": "stream",
     "text": [
      "\r67%"
     ]
    },
    {
     "name": "stdout",
     "output_type": "stream",
     "text": [
      "\r67%"
     ]
    },
    {
     "name": "stdout",
     "output_type": "stream",
     "text": [
      "\r67%"
     ]
    },
    {
     "name": "stdout",
     "output_type": "stream",
     "text": [
      "\r68%"
     ]
    },
    {
     "name": "stdout",
     "output_type": "stream",
     "text": [
      "\r68%"
     ]
    },
    {
     "name": "stdout",
     "output_type": "stream",
     "text": [
      "\r68%"
     ]
    },
    {
     "name": "stdout",
     "output_type": "stream",
     "text": [
      "\r68%"
     ]
    },
    {
     "name": "stdout",
     "output_type": "stream",
     "text": [
      "\r69%"
     ]
    },
    {
     "name": "stdout",
     "output_type": "stream",
     "text": [
      "\r69%"
     ]
    },
    {
     "name": "stdout",
     "output_type": "stream",
     "text": [
      "\r69%"
     ]
    },
    {
     "name": "stdout",
     "output_type": "stream",
     "text": [
      "\r69%"
     ]
    },
    {
     "name": "stdout",
     "output_type": "stream",
     "text": [
      "\r70%"
     ]
    },
    {
     "name": "stdout",
     "output_type": "stream",
     "text": [
      "\r70%"
     ]
    },
    {
     "name": "stdout",
     "output_type": "stream",
     "text": [
      "\r70%"
     ]
    },
    {
     "name": "stdout",
     "output_type": "stream",
     "text": [
      "\r71%"
     ]
    },
    {
     "name": "stdout",
     "output_type": "stream",
     "text": [
      "\r71%"
     ]
    },
    {
     "name": "stdout",
     "output_type": "stream",
     "text": [
      "\r71%"
     ]
    },
    {
     "name": "stdout",
     "output_type": "stream",
     "text": [
      "\r71%"
     ]
    },
    {
     "name": "stdout",
     "output_type": "stream",
     "text": [
      "\r72%"
     ]
    },
    {
     "name": "stdout",
     "output_type": "stream",
     "text": [
      "\r72%"
     ]
    },
    {
     "name": "stdout",
     "output_type": "stream",
     "text": [
      "\r72%"
     ]
    },
    {
     "name": "stdout",
     "output_type": "stream",
     "text": [
      "\r72%"
     ]
    },
    {
     "name": "stdout",
     "output_type": "stream",
     "text": [
      "\r73%"
     ]
    },
    {
     "name": "stdout",
     "output_type": "stream",
     "text": [
      "\r73%"
     ]
    },
    {
     "name": "stdout",
     "output_type": "stream",
     "text": [
      "\r73%"
     ]
    },
    {
     "name": "stdout",
     "output_type": "stream",
     "text": [
      "\r74%"
     ]
    },
    {
     "name": "stdout",
     "output_type": "stream",
     "text": [
      "\r74%"
     ]
    },
    {
     "name": "stdout",
     "output_type": "stream",
     "text": [
      "\r74%"
     ]
    },
    {
     "name": "stdout",
     "output_type": "stream",
     "text": [
      "\r74%"
     ]
    },
    {
     "name": "stdout",
     "output_type": "stream",
     "text": [
      "\r75%"
     ]
    },
    {
     "name": "stdout",
     "output_type": "stream",
     "text": [
      "\r75%"
     ]
    },
    {
     "name": "stdout",
     "output_type": "stream",
     "text": [
      "\r75%"
     ]
    },
    {
     "name": "stdout",
     "output_type": "stream",
     "text": [
      "\r75%"
     ]
    },
    {
     "name": "stdout",
     "output_type": "stream",
     "text": [
      "\r76%"
     ]
    },
    {
     "name": "stdout",
     "output_type": "stream",
     "text": [
      "\r76%"
     ]
    },
    {
     "name": "stdout",
     "output_type": "stream",
     "text": [
      "\r76%"
     ]
    },
    {
     "name": "stdout",
     "output_type": "stream",
     "text": [
      "\r77%"
     ]
    },
    {
     "name": "stdout",
     "output_type": "stream",
     "text": [
      "\r77%"
     ]
    },
    {
     "name": "stdout",
     "output_type": "stream",
     "text": [
      "\r77%"
     ]
    },
    {
     "name": "stdout",
     "output_type": "stream",
     "text": [
      "\r77%"
     ]
    },
    {
     "name": "stdout",
     "output_type": "stream",
     "text": [
      "\r78%"
     ]
    },
    {
     "name": "stdout",
     "output_type": "stream",
     "text": [
      "\r78%"
     ]
    },
    {
     "name": "stdout",
     "output_type": "stream",
     "text": [
      "\r78%"
     ]
    },
    {
     "name": "stdout",
     "output_type": "stream",
     "text": [
      "\r78%"
     ]
    },
    {
     "name": "stdout",
     "output_type": "stream",
     "text": [
      "\r79%"
     ]
    },
    {
     "name": "stdout",
     "output_type": "stream",
     "text": [
      "\r79%"
     ]
    },
    {
     "name": "stdout",
     "output_type": "stream",
     "text": [
      "\r79%"
     ]
    },
    {
     "name": "stdout",
     "output_type": "stream",
     "text": [
      "\r80%"
     ]
    },
    {
     "name": "stdout",
     "output_type": "stream",
     "text": [
      "\r80%"
     ]
    },
    {
     "name": "stdout",
     "output_type": "stream",
     "text": [
      "\r80%"
     ]
    },
    {
     "name": "stdout",
     "output_type": "stream",
     "text": [
      "\r80%"
     ]
    },
    {
     "name": "stdout",
     "output_type": "stream",
     "text": [
      "\r81%"
     ]
    },
    {
     "name": "stdout",
     "output_type": "stream",
     "text": [
      "\r81%"
     ]
    },
    {
     "name": "stdout",
     "output_type": "stream",
     "text": [
      "\r81%"
     ]
    },
    {
     "name": "stdout",
     "output_type": "stream",
     "text": [
      "\r81%"
     ]
    },
    {
     "name": "stdout",
     "output_type": "stream",
     "text": [
      "\r82%"
     ]
    },
    {
     "name": "stdout",
     "output_type": "stream",
     "text": [
      "\r82%"
     ]
    },
    {
     "name": "stdout",
     "output_type": "stream",
     "text": [
      "\r82%"
     ]
    },
    {
     "name": "stdout",
     "output_type": "stream",
     "text": [
      "\r83%"
     ]
    },
    {
     "name": "stdout",
     "output_type": "stream",
     "text": [
      "\r83%"
     ]
    },
    {
     "name": "stdout",
     "output_type": "stream",
     "text": [
      "\r83%"
     ]
    },
    {
     "name": "stdout",
     "output_type": "stream",
     "text": [
      "\r83%"
     ]
    },
    {
     "name": "stdout",
     "output_type": "stream",
     "text": [
      "\r84%"
     ]
    },
    {
     "name": "stdout",
     "output_type": "stream",
     "text": [
      "\r84%"
     ]
    },
    {
     "name": "stdout",
     "output_type": "stream",
     "text": [
      "\r84%"
     ]
    },
    {
     "name": "stdout",
     "output_type": "stream",
     "text": [
      "\r84%"
     ]
    },
    {
     "name": "stdout",
     "output_type": "stream",
     "text": [
      "\r85%"
     ]
    },
    {
     "name": "stdout",
     "output_type": "stream",
     "text": [
      "\r85%"
     ]
    },
    {
     "name": "stdout",
     "output_type": "stream",
     "text": [
      "\r85%"
     ]
    },
    {
     "name": "stdout",
     "output_type": "stream",
     "text": [
      "\r86%"
     ]
    },
    {
     "name": "stdout",
     "output_type": "stream",
     "text": [
      "\r86%"
     ]
    },
    {
     "name": "stdout",
     "output_type": "stream",
     "text": [
      "\r86%"
     ]
    },
    {
     "name": "stdout",
     "output_type": "stream",
     "text": [
      "\r86%"
     ]
    },
    {
     "name": "stdout",
     "output_type": "stream",
     "text": [
      "\r87%"
     ]
    },
    {
     "name": "stdout",
     "output_type": "stream",
     "text": [
      "\r87%"
     ]
    },
    {
     "name": "stdout",
     "output_type": "stream",
     "text": [
      "\r87%"
     ]
    },
    {
     "name": "stdout",
     "output_type": "stream",
     "text": [
      "\r87%"
     ]
    },
    {
     "name": "stdout",
     "output_type": "stream",
     "text": [
      "\r88%"
     ]
    },
    {
     "name": "stdout",
     "output_type": "stream",
     "text": [
      "\r88%"
     ]
    },
    {
     "name": "stdout",
     "output_type": "stream",
     "text": [
      "\r88%"
     ]
    },
    {
     "name": "stdout",
     "output_type": "stream",
     "text": [
      "\r89%"
     ]
    },
    {
     "name": "stdout",
     "output_type": "stream",
     "text": [
      "\r89%"
     ]
    },
    {
     "name": "stdout",
     "output_type": "stream",
     "text": [
      "\r89%"
     ]
    },
    {
     "name": "stdout",
     "output_type": "stream",
     "text": [
      "\r89%"
     ]
    },
    {
     "name": "stdout",
     "output_type": "stream",
     "text": [
      "\r90%"
     ]
    },
    {
     "name": "stdout",
     "output_type": "stream",
     "text": [
      "\r90%"
     ]
    },
    {
     "name": "stdout",
     "output_type": "stream",
     "text": [
      "\r90%"
     ]
    },
    {
     "name": "stdout",
     "output_type": "stream",
     "text": [
      "\r90%"
     ]
    },
    {
     "name": "stdout",
     "output_type": "stream",
     "text": [
      "\r91%"
     ]
    },
    {
     "name": "stdout",
     "output_type": "stream",
     "text": [
      "\r91%"
     ]
    },
    {
     "name": "stdout",
     "output_type": "stream",
     "text": [
      "\r91%"
     ]
    },
    {
     "name": "stdout",
     "output_type": "stream",
     "text": [
      "\r92%"
     ]
    },
    {
     "name": "stdout",
     "output_type": "stream",
     "text": [
      "\r92%"
     ]
    },
    {
     "name": "stdout",
     "output_type": "stream",
     "text": [
      "\r92%"
     ]
    },
    {
     "name": "stdout",
     "output_type": "stream",
     "text": [
      "\r92%"
     ]
    },
    {
     "name": "stdout",
     "output_type": "stream",
     "text": [
      "\r93%"
     ]
    },
    {
     "name": "stdout",
     "output_type": "stream",
     "text": [
      "\r93%"
     ]
    },
    {
     "name": "stdout",
     "output_type": "stream",
     "text": [
      "\r93%"
     ]
    },
    {
     "name": "stdout",
     "output_type": "stream",
     "text": [
      "\r93%"
     ]
    },
    {
     "name": "stdout",
     "output_type": "stream",
     "text": [
      "\r94%"
     ]
    },
    {
     "name": "stdout",
     "output_type": "stream",
     "text": [
      "\r94%"
     ]
    },
    {
     "name": "stdout",
     "output_type": "stream",
     "text": [
      "\r94%"
     ]
    },
    {
     "name": "stdout",
     "output_type": "stream",
     "text": [
      "\r95%"
     ]
    },
    {
     "name": "stdout",
     "output_type": "stream",
     "text": [
      "\r95%"
     ]
    },
    {
     "name": "stdout",
     "output_type": "stream",
     "text": [
      "\r95%"
     ]
    },
    {
     "name": "stdout",
     "output_type": "stream",
     "text": [
      "\r95%"
     ]
    },
    {
     "name": "stdout",
     "output_type": "stream",
     "text": [
      "\r96%"
     ]
    },
    {
     "name": "stdout",
     "output_type": "stream",
     "text": [
      "\r96%"
     ]
    },
    {
     "name": "stdout",
     "output_type": "stream",
     "text": [
      "\r96%"
     ]
    },
    {
     "name": "stdout",
     "output_type": "stream",
     "text": [
      "\r96%"
     ]
    },
    {
     "name": "stdout",
     "output_type": "stream",
     "text": [
      "\r97%"
     ]
    },
    {
     "name": "stdout",
     "output_type": "stream",
     "text": [
      "\r97%"
     ]
    },
    {
     "name": "stdout",
     "output_type": "stream",
     "text": [
      "\r97%"
     ]
    },
    {
     "name": "stdout",
     "output_type": "stream",
     "text": [
      "\r98%"
     ]
    },
    {
     "name": "stdout",
     "output_type": "stream",
     "text": [
      "\r98%"
     ]
    },
    {
     "name": "stdout",
     "output_type": "stream",
     "text": [
      "\r98%"
     ]
    },
    {
     "name": "stdout",
     "output_type": "stream",
     "text": [
      "\r98%"
     ]
    },
    {
     "name": "stdout",
     "output_type": "stream",
     "text": [
      "\r99%"
     ]
    },
    {
     "name": "stdout",
     "output_type": "stream",
     "text": [
      "\r99%"
     ]
    },
    {
     "name": "stdout",
     "output_type": "stream",
     "text": [
      "\r99%"
     ]
    },
    {
     "name": "stdout",
     "output_type": "stream",
     "text": [
      "\r7 훈련 MSE: 0.04026481\n"
     ]
    },
    {
     "name": "stdout",
     "output_type": "stream",
     "text": [
      "\r0%"
     ]
    },
    {
     "name": "stdout",
     "output_type": "stream",
     "text": [
      "\r0%"
     ]
    },
    {
     "name": "stdout",
     "output_type": "stream",
     "text": [
      "\r0%"
     ]
    },
    {
     "name": "stdout",
     "output_type": "stream",
     "text": [
      "\r0%"
     ]
    },
    {
     "name": "stdout",
     "output_type": "stream",
     "text": [
      "\r1%"
     ]
    },
    {
     "name": "stdout",
     "output_type": "stream",
     "text": [
      "\r1%"
     ]
    },
    {
     "name": "stdout",
     "output_type": "stream",
     "text": [
      "\r1%"
     ]
    },
    {
     "name": "stdout",
     "output_type": "stream",
     "text": [
      "\r1%"
     ]
    },
    {
     "name": "stdout",
     "output_type": "stream",
     "text": [
      "\r2%"
     ]
    },
    {
     "name": "stdout",
     "output_type": "stream",
     "text": [
      "\r2%"
     ]
    },
    {
     "name": "stdout",
     "output_type": "stream",
     "text": [
      "\r2%"
     ]
    },
    {
     "name": "stdout",
     "output_type": "stream",
     "text": [
      "\r3%"
     ]
    },
    {
     "name": "stdout",
     "output_type": "stream",
     "text": [
      "\r3%"
     ]
    },
    {
     "name": "stdout",
     "output_type": "stream",
     "text": [
      "\r3%"
     ]
    },
    {
     "name": "stdout",
     "output_type": "stream",
     "text": [
      "\r3%"
     ]
    },
    {
     "name": "stdout",
     "output_type": "stream",
     "text": [
      "\r4%"
     ]
    },
    {
     "name": "stdout",
     "output_type": "stream",
     "text": [
      "\r4%"
     ]
    },
    {
     "name": "stdout",
     "output_type": "stream",
     "text": [
      "\r4%"
     ]
    },
    {
     "name": "stdout",
     "output_type": "stream",
     "text": [
      "\r4%"
     ]
    },
    {
     "name": "stdout",
     "output_type": "stream",
     "text": [
      "\r5%"
     ]
    },
    {
     "name": "stdout",
     "output_type": "stream",
     "text": [
      "\r5%"
     ]
    },
    {
     "name": "stdout",
     "output_type": "stream",
     "text": [
      "\r5%"
     ]
    },
    {
     "name": "stdout",
     "output_type": "stream",
     "text": [
      "\r6%"
     ]
    },
    {
     "name": "stdout",
     "output_type": "stream",
     "text": [
      "\r6%"
     ]
    },
    {
     "name": "stdout",
     "output_type": "stream",
     "text": [
      "\r6%"
     ]
    },
    {
     "name": "stdout",
     "output_type": "stream",
     "text": [
      "\r6%"
     ]
    },
    {
     "name": "stdout",
     "output_type": "stream",
     "text": [
      "\r7%"
     ]
    },
    {
     "name": "stdout",
     "output_type": "stream",
     "text": [
      "\r7%"
     ]
    },
    {
     "name": "stdout",
     "output_type": "stream",
     "text": [
      "\r7%"
     ]
    },
    {
     "name": "stdout",
     "output_type": "stream",
     "text": [
      "\r7%"
     ]
    },
    {
     "name": "stdout",
     "output_type": "stream",
     "text": [
      "\r8%"
     ]
    },
    {
     "name": "stdout",
     "output_type": "stream",
     "text": [
      "\r8%"
     ]
    },
    {
     "name": "stdout",
     "output_type": "stream",
     "text": [
      "\r8%"
     ]
    },
    {
     "name": "stdout",
     "output_type": "stream",
     "text": [
      "\r9%"
     ]
    },
    {
     "name": "stdout",
     "output_type": "stream",
     "text": [
      "\r9%"
     ]
    },
    {
     "name": "stdout",
     "output_type": "stream",
     "text": [
      "\r9%"
     ]
    },
    {
     "name": "stdout",
     "output_type": "stream",
     "text": [
      "\r9%"
     ]
    },
    {
     "name": "stdout",
     "output_type": "stream",
     "text": [
      "\r10%"
     ]
    },
    {
     "name": "stdout",
     "output_type": "stream",
     "text": [
      "\r10%"
     ]
    },
    {
     "name": "stdout",
     "output_type": "stream",
     "text": [
      "\r10%"
     ]
    },
    {
     "name": "stdout",
     "output_type": "stream",
     "text": [
      "\r10%"
     ]
    },
    {
     "name": "stdout",
     "output_type": "stream",
     "text": [
      "\r11%"
     ]
    },
    {
     "name": "stdout",
     "output_type": "stream",
     "text": [
      "\r11%"
     ]
    },
    {
     "name": "stdout",
     "output_type": "stream",
     "text": [
      "\r11%"
     ]
    },
    {
     "name": "stdout",
     "output_type": "stream",
     "text": [
      "\r12%"
     ]
    },
    {
     "name": "stdout",
     "output_type": "stream",
     "text": [
      "\r12%"
     ]
    },
    {
     "name": "stdout",
     "output_type": "stream",
     "text": [
      "\r12%"
     ]
    },
    {
     "name": "stdout",
     "output_type": "stream",
     "text": [
      "\r12%"
     ]
    },
    {
     "name": "stdout",
     "output_type": "stream",
     "text": [
      "\r13%"
     ]
    },
    {
     "name": "stdout",
     "output_type": "stream",
     "text": [
      "\r13%"
     ]
    },
    {
     "name": "stdout",
     "output_type": "stream",
     "text": [
      "\r13%"
     ]
    },
    {
     "name": "stdout",
     "output_type": "stream",
     "text": [
      "\r13%"
     ]
    },
    {
     "name": "stdout",
     "output_type": "stream",
     "text": [
      "\r14%"
     ]
    },
    {
     "name": "stdout",
     "output_type": "stream",
     "text": [
      "\r14%"
     ]
    },
    {
     "name": "stdout",
     "output_type": "stream",
     "text": [
      "\r14%"
     ]
    },
    {
     "name": "stdout",
     "output_type": "stream",
     "text": [
      "\r15%"
     ]
    },
    {
     "name": "stdout",
     "output_type": "stream",
     "text": [
      "\r15%"
     ]
    },
    {
     "name": "stdout",
     "output_type": "stream",
     "text": [
      "\r15%"
     ]
    },
    {
     "name": "stdout",
     "output_type": "stream",
     "text": [
      "\r15%"
     ]
    },
    {
     "name": "stdout",
     "output_type": "stream",
     "text": [
      "\r16%"
     ]
    },
    {
     "name": "stdout",
     "output_type": "stream",
     "text": [
      "\r16%"
     ]
    },
    {
     "name": "stdout",
     "output_type": "stream",
     "text": [
      "\r16%"
     ]
    },
    {
     "name": "stdout",
     "output_type": "stream",
     "text": [
      "\r16%"
     ]
    },
    {
     "name": "stdout",
     "output_type": "stream",
     "text": [
      "\r17%"
     ]
    },
    {
     "name": "stdout",
     "output_type": "stream",
     "text": [
      "\r17%"
     ]
    },
    {
     "name": "stdout",
     "output_type": "stream",
     "text": [
      "\r17%"
     ]
    },
    {
     "name": "stdout",
     "output_type": "stream",
     "text": [
      "\r18%"
     ]
    },
    {
     "name": "stdout",
     "output_type": "stream",
     "text": [
      "\r18%"
     ]
    },
    {
     "name": "stdout",
     "output_type": "stream",
     "text": [
      "\r18%"
     ]
    },
    {
     "name": "stdout",
     "output_type": "stream",
     "text": [
      "\r18%"
     ]
    },
    {
     "name": "stdout",
     "output_type": "stream",
     "text": [
      "\r19%"
     ]
    },
    {
     "name": "stdout",
     "output_type": "stream",
     "text": [
      "\r19%"
     ]
    },
    {
     "name": "stdout",
     "output_type": "stream",
     "text": [
      "\r19%"
     ]
    },
    {
     "name": "stdout",
     "output_type": "stream",
     "text": [
      "\r19%"
     ]
    },
    {
     "name": "stdout",
     "output_type": "stream",
     "text": [
      "\r20%"
     ]
    },
    {
     "name": "stdout",
     "output_type": "stream",
     "text": [
      "\r20%"
     ]
    },
    {
     "name": "stdout",
     "output_type": "stream",
     "text": [
      "\r20%"
     ]
    },
    {
     "name": "stdout",
     "output_type": "stream",
     "text": [
      "\r21%"
     ]
    },
    {
     "name": "stdout",
     "output_type": "stream",
     "text": [
      "\r21%"
     ]
    },
    {
     "name": "stdout",
     "output_type": "stream",
     "text": [
      "\r21%"
     ]
    },
    {
     "name": "stdout",
     "output_type": "stream",
     "text": [
      "\r21%"
     ]
    },
    {
     "name": "stdout",
     "output_type": "stream",
     "text": [
      "\r22%"
     ]
    },
    {
     "name": "stdout",
     "output_type": "stream",
     "text": [
      "\r22%"
     ]
    },
    {
     "name": "stdout",
     "output_type": "stream",
     "text": [
      "\r22%"
     ]
    },
    {
     "name": "stdout",
     "output_type": "stream",
     "text": [
      "\r22%"
     ]
    },
    {
     "name": "stdout",
     "output_type": "stream",
     "text": [
      "\r23%"
     ]
    },
    {
     "name": "stdout",
     "output_type": "stream",
     "text": [
      "\r23%"
     ]
    },
    {
     "name": "stdout",
     "output_type": "stream",
     "text": [
      "\r23%"
     ]
    },
    {
     "name": "stdout",
     "output_type": "stream",
     "text": [
      "\r24%"
     ]
    },
    {
     "name": "stdout",
     "output_type": "stream",
     "text": [
      "\r24%"
     ]
    },
    {
     "name": "stdout",
     "output_type": "stream",
     "text": [
      "\r24%"
     ]
    },
    {
     "name": "stdout",
     "output_type": "stream",
     "text": [
      "\r24%"
     ]
    },
    {
     "name": "stdout",
     "output_type": "stream",
     "text": [
      "\r25%"
     ]
    },
    {
     "name": "stdout",
     "output_type": "stream",
     "text": [
      "\r25%"
     ]
    },
    {
     "name": "stdout",
     "output_type": "stream",
     "text": [
      "\r25%"
     ]
    },
    {
     "name": "stdout",
     "output_type": "stream",
     "text": [
      "\r25%"
     ]
    },
    {
     "name": "stdout",
     "output_type": "stream",
     "text": [
      "\r26%"
     ]
    },
    {
     "name": "stdout",
     "output_type": "stream",
     "text": [
      "\r26%"
     ]
    },
    {
     "name": "stdout",
     "output_type": "stream",
     "text": [
      "\r26%"
     ]
    },
    {
     "name": "stdout",
     "output_type": "stream",
     "text": [
      "\r27%"
     ]
    },
    {
     "name": "stdout",
     "output_type": "stream",
     "text": [
      "\r27%"
     ]
    },
    {
     "name": "stdout",
     "output_type": "stream",
     "text": [
      "\r27%"
     ]
    },
    {
     "name": "stdout",
     "output_type": "stream",
     "text": [
      "\r27%"
     ]
    },
    {
     "name": "stdout",
     "output_type": "stream",
     "text": [
      "\r28%"
     ]
    },
    {
     "name": "stdout",
     "output_type": "stream",
     "text": [
      "\r28%"
     ]
    },
    {
     "name": "stdout",
     "output_type": "stream",
     "text": [
      "\r28%"
     ]
    },
    {
     "name": "stdout",
     "output_type": "stream",
     "text": [
      "\r28%"
     ]
    },
    {
     "name": "stdout",
     "output_type": "stream",
     "text": [
      "\r29%"
     ]
    },
    {
     "name": "stdout",
     "output_type": "stream",
     "text": [
      "\r29%"
     ]
    },
    {
     "name": "stdout",
     "output_type": "stream",
     "text": [
      "\r29%"
     ]
    },
    {
     "name": "stdout",
     "output_type": "stream",
     "text": [
      "\r30%"
     ]
    },
    {
     "name": "stdout",
     "output_type": "stream",
     "text": [
      "\r30%"
     ]
    },
    {
     "name": "stdout",
     "output_type": "stream",
     "text": [
      "\r30%"
     ]
    },
    {
     "name": "stdout",
     "output_type": "stream",
     "text": [
      "\r30%"
     ]
    },
    {
     "name": "stdout",
     "output_type": "stream",
     "text": [
      "\r31%"
     ]
    },
    {
     "name": "stdout",
     "output_type": "stream",
     "text": [
      "\r31%"
     ]
    },
    {
     "name": "stdout",
     "output_type": "stream",
     "text": [
      "\r31%"
     ]
    },
    {
     "name": "stdout",
     "output_type": "stream",
     "text": [
      "\r31%"
     ]
    },
    {
     "name": "stdout",
     "output_type": "stream",
     "text": [
      "\r32%"
     ]
    },
    {
     "name": "stdout",
     "output_type": "stream",
     "text": [
      "\r32%"
     ]
    },
    {
     "name": "stdout",
     "output_type": "stream",
     "text": [
      "\r32%"
     ]
    },
    {
     "name": "stdout",
     "output_type": "stream",
     "text": [
      "\r33%"
     ]
    },
    {
     "name": "stdout",
     "output_type": "stream",
     "text": [
      "\r33%"
     ]
    },
    {
     "name": "stdout",
     "output_type": "stream",
     "text": [
      "\r33%"
     ]
    },
    {
     "name": "stdout",
     "output_type": "stream",
     "text": [
      "\r33%"
     ]
    },
    {
     "name": "stdout",
     "output_type": "stream",
     "text": [
      "\r34%"
     ]
    },
    {
     "name": "stdout",
     "output_type": "stream",
     "text": [
      "\r34%"
     ]
    },
    {
     "name": "stdout",
     "output_type": "stream",
     "text": [
      "\r34%"
     ]
    },
    {
     "name": "stdout",
     "output_type": "stream",
     "text": [
      "\r34%"
     ]
    },
    {
     "name": "stdout",
     "output_type": "stream",
     "text": [
      "\r35%"
     ]
    },
    {
     "name": "stdout",
     "output_type": "stream",
     "text": [
      "\r35%"
     ]
    },
    {
     "name": "stdout",
     "output_type": "stream",
     "text": [
      "\r35%"
     ]
    },
    {
     "name": "stdout",
     "output_type": "stream",
     "text": [
      "\r36%"
     ]
    },
    {
     "name": "stdout",
     "output_type": "stream",
     "text": [
      "\r36%"
     ]
    },
    {
     "name": "stdout",
     "output_type": "stream",
     "text": [
      "\r36%"
     ]
    },
    {
     "name": "stdout",
     "output_type": "stream",
     "text": [
      "\r36%"
     ]
    },
    {
     "name": "stdout",
     "output_type": "stream",
     "text": [
      "\r37%"
     ]
    },
    {
     "name": "stdout",
     "output_type": "stream",
     "text": [
      "\r37%"
     ]
    },
    {
     "name": "stdout",
     "output_type": "stream",
     "text": [
      "\r37%"
     ]
    },
    {
     "name": "stdout",
     "output_type": "stream",
     "text": [
      "\r37%"
     ]
    },
    {
     "name": "stdout",
     "output_type": "stream",
     "text": [
      "\r38%"
     ]
    },
    {
     "name": "stdout",
     "output_type": "stream",
     "text": [
      "\r38%"
     ]
    },
    {
     "name": "stdout",
     "output_type": "stream",
     "text": [
      "\r38%"
     ]
    },
    {
     "name": "stdout",
     "output_type": "stream",
     "text": [
      "\r39%"
     ]
    },
    {
     "name": "stdout",
     "output_type": "stream",
     "text": [
      "\r39%"
     ]
    },
    {
     "name": "stdout",
     "output_type": "stream",
     "text": [
      "\r39%"
     ]
    },
    {
     "name": "stdout",
     "output_type": "stream",
     "text": [
      "\r39%"
     ]
    },
    {
     "name": "stdout",
     "output_type": "stream",
     "text": [
      "\r40%"
     ]
    },
    {
     "name": "stdout",
     "output_type": "stream",
     "text": [
      "\r40%"
     ]
    },
    {
     "name": "stdout",
     "output_type": "stream",
     "text": [
      "\r40%"
     ]
    },
    {
     "name": "stdout",
     "output_type": "stream",
     "text": [
      "\r40%"
     ]
    },
    {
     "name": "stdout",
     "output_type": "stream",
     "text": [
      "\r41%"
     ]
    },
    {
     "name": "stdout",
     "output_type": "stream",
     "text": [
      "\r41%"
     ]
    },
    {
     "name": "stdout",
     "output_type": "stream",
     "text": [
      "\r41%"
     ]
    },
    {
     "name": "stdout",
     "output_type": "stream",
     "text": [
      "\r42%"
     ]
    },
    {
     "name": "stdout",
     "output_type": "stream",
     "text": [
      "\r42%"
     ]
    },
    {
     "name": "stdout",
     "output_type": "stream",
     "text": [
      "\r42%"
     ]
    },
    {
     "name": "stdout",
     "output_type": "stream",
     "text": [
      "\r42%"
     ]
    },
    {
     "name": "stdout",
     "output_type": "stream",
     "text": [
      "\r43%"
     ]
    },
    {
     "name": "stdout",
     "output_type": "stream",
     "text": [
      "\r43%"
     ]
    },
    {
     "name": "stdout",
     "output_type": "stream",
     "text": [
      "\r43%"
     ]
    },
    {
     "name": "stdout",
     "output_type": "stream",
     "text": [
      "\r43%"
     ]
    },
    {
     "name": "stdout",
     "output_type": "stream",
     "text": [
      "\r44%"
     ]
    },
    {
     "name": "stdout",
     "output_type": "stream",
     "text": [
      "\r44%"
     ]
    },
    {
     "name": "stdout",
     "output_type": "stream",
     "text": [
      "\r44%"
     ]
    },
    {
     "name": "stdout",
     "output_type": "stream",
     "text": [
      "\r45%"
     ]
    },
    {
     "name": "stdout",
     "output_type": "stream",
     "text": [
      "\r45%"
     ]
    },
    {
     "name": "stdout",
     "output_type": "stream",
     "text": [
      "\r45%"
     ]
    },
    {
     "name": "stdout",
     "output_type": "stream",
     "text": [
      "\r45%"
     ]
    },
    {
     "name": "stdout",
     "output_type": "stream",
     "text": [
      "\r46%"
     ]
    },
    {
     "name": "stdout",
     "output_type": "stream",
     "text": [
      "\r46%"
     ]
    },
    {
     "name": "stdout",
     "output_type": "stream",
     "text": [
      "\r46%"
     ]
    },
    {
     "name": "stdout",
     "output_type": "stream",
     "text": [
      "\r46%"
     ]
    },
    {
     "name": "stdout",
     "output_type": "stream",
     "text": [
      "\r47%"
     ]
    },
    {
     "name": "stdout",
     "output_type": "stream",
     "text": [
      "\r47%"
     ]
    },
    {
     "name": "stdout",
     "output_type": "stream",
     "text": [
      "\r47%"
     ]
    },
    {
     "name": "stdout",
     "output_type": "stream",
     "text": [
      "\r48%"
     ]
    },
    {
     "name": "stdout",
     "output_type": "stream",
     "text": [
      "\r48%"
     ]
    },
    {
     "name": "stdout",
     "output_type": "stream",
     "text": [
      "\r48%"
     ]
    },
    {
     "name": "stdout",
     "output_type": "stream",
     "text": [
      "\r48%"
     ]
    },
    {
     "name": "stdout",
     "output_type": "stream",
     "text": [
      "\r49%"
     ]
    },
    {
     "name": "stdout",
     "output_type": "stream",
     "text": [
      "\r49%"
     ]
    },
    {
     "name": "stdout",
     "output_type": "stream",
     "text": [
      "\r49%"
     ]
    },
    {
     "name": "stdout",
     "output_type": "stream",
     "text": [
      "\r50%"
     ]
    },
    {
     "name": "stdout",
     "output_type": "stream",
     "text": [
      "\r50%"
     ]
    },
    {
     "name": "stdout",
     "output_type": "stream",
     "text": [
      "\r50%"
     ]
    },
    {
     "name": "stdout",
     "output_type": "stream",
     "text": [
      "\r50%"
     ]
    },
    {
     "name": "stdout",
     "output_type": "stream",
     "text": [
      "\r51%"
     ]
    },
    {
     "name": "stdout",
     "output_type": "stream",
     "text": [
      "\r51%"
     ]
    },
    {
     "name": "stdout",
     "output_type": "stream",
     "text": [
      "\r51%"
     ]
    },
    {
     "name": "stdout",
     "output_type": "stream",
     "text": [
      "\r51%"
     ]
    },
    {
     "name": "stdout",
     "output_type": "stream",
     "text": [
      "\r52%"
     ]
    },
    {
     "name": "stdout",
     "output_type": "stream",
     "text": [
      "\r52%"
     ]
    },
    {
     "name": "stdout",
     "output_type": "stream",
     "text": [
      "\r52%"
     ]
    },
    {
     "name": "stdout",
     "output_type": "stream",
     "text": [
      "\r53%"
     ]
    },
    {
     "name": "stdout",
     "output_type": "stream",
     "text": [
      "\r53%"
     ]
    },
    {
     "name": "stdout",
     "output_type": "stream",
     "text": [
      "\r53%"
     ]
    },
    {
     "name": "stdout",
     "output_type": "stream",
     "text": [
      "\r53%"
     ]
    },
    {
     "name": "stdout",
     "output_type": "stream",
     "text": [
      "\r54%"
     ]
    },
    {
     "name": "stdout",
     "output_type": "stream",
     "text": [
      "\r54%"
     ]
    },
    {
     "name": "stdout",
     "output_type": "stream",
     "text": [
      "\r54%"
     ]
    },
    {
     "name": "stdout",
     "output_type": "stream",
     "text": [
      "\r54%"
     ]
    },
    {
     "name": "stdout",
     "output_type": "stream",
     "text": [
      "\r55%"
     ]
    },
    {
     "name": "stdout",
     "output_type": "stream",
     "text": [
      "\r55%"
     ]
    },
    {
     "name": "stdout",
     "output_type": "stream",
     "text": [
      "\r55%"
     ]
    },
    {
     "name": "stdout",
     "output_type": "stream",
     "text": [
      "\r56%"
     ]
    },
    {
     "name": "stdout",
     "output_type": "stream",
     "text": [
      "\r56%"
     ]
    },
    {
     "name": "stdout",
     "output_type": "stream",
     "text": [
      "\r56%"
     ]
    },
    {
     "name": "stdout",
     "output_type": "stream",
     "text": [
      "\r56%"
     ]
    },
    {
     "name": "stdout",
     "output_type": "stream",
     "text": [
      "\r57%"
     ]
    },
    {
     "name": "stdout",
     "output_type": "stream",
     "text": [
      "\r57%"
     ]
    },
    {
     "name": "stdout",
     "output_type": "stream",
     "text": [
      "\r57%"
     ]
    },
    {
     "name": "stdout",
     "output_type": "stream",
     "text": [
      "\r57%"
     ]
    },
    {
     "name": "stdout",
     "output_type": "stream",
     "text": [
      "\r58%"
     ]
    },
    {
     "name": "stdout",
     "output_type": "stream",
     "text": [
      "\r58%"
     ]
    },
    {
     "name": "stdout",
     "output_type": "stream",
     "text": [
      "\r58%"
     ]
    },
    {
     "name": "stdout",
     "output_type": "stream",
     "text": [
      "\r59%"
     ]
    },
    {
     "name": "stdout",
     "output_type": "stream",
     "text": [
      "\r59%"
     ]
    },
    {
     "name": "stdout",
     "output_type": "stream",
     "text": [
      "\r59%"
     ]
    },
    {
     "name": "stdout",
     "output_type": "stream",
     "text": [
      "\r59%"
     ]
    },
    {
     "name": "stdout",
     "output_type": "stream",
     "text": [
      "\r60%"
     ]
    },
    {
     "name": "stdout",
     "output_type": "stream",
     "text": [
      "\r60%"
     ]
    },
    {
     "name": "stdout",
     "output_type": "stream",
     "text": [
      "\r60%"
     ]
    },
    {
     "name": "stdout",
     "output_type": "stream",
     "text": [
      "\r60%"
     ]
    },
    {
     "name": "stdout",
     "output_type": "stream",
     "text": [
      "\r61%"
     ]
    },
    {
     "name": "stdout",
     "output_type": "stream",
     "text": [
      "\r61%"
     ]
    },
    {
     "name": "stdout",
     "output_type": "stream",
     "text": [
      "\r61%"
     ]
    },
    {
     "name": "stdout",
     "output_type": "stream",
     "text": [
      "\r62%"
     ]
    },
    {
     "name": "stdout",
     "output_type": "stream",
     "text": [
      "\r62%"
     ]
    },
    {
     "name": "stdout",
     "output_type": "stream",
     "text": [
      "\r62%"
     ]
    },
    {
     "name": "stdout",
     "output_type": "stream",
     "text": [
      "\r62%"
     ]
    },
    {
     "name": "stdout",
     "output_type": "stream",
     "text": [
      "\r63%"
     ]
    },
    {
     "name": "stdout",
     "output_type": "stream",
     "text": [
      "\r63%"
     ]
    },
    {
     "name": "stdout",
     "output_type": "stream",
     "text": [
      "\r63%"
     ]
    },
    {
     "name": "stdout",
     "output_type": "stream",
     "text": [
      "\r63%"
     ]
    },
    {
     "name": "stdout",
     "output_type": "stream",
     "text": [
      "\r64%"
     ]
    },
    {
     "name": "stdout",
     "output_type": "stream",
     "text": [
      "\r64%"
     ]
    },
    {
     "name": "stdout",
     "output_type": "stream",
     "text": [
      "\r64%"
     ]
    },
    {
     "name": "stdout",
     "output_type": "stream",
     "text": [
      "\r65%"
     ]
    },
    {
     "name": "stdout",
     "output_type": "stream",
     "text": [
      "\r65%"
     ]
    },
    {
     "name": "stdout",
     "output_type": "stream",
     "text": [
      "\r65%"
     ]
    },
    {
     "name": "stdout",
     "output_type": "stream",
     "text": [
      "\r65%"
     ]
    },
    {
     "name": "stdout",
     "output_type": "stream",
     "text": [
      "\r66%"
     ]
    },
    {
     "name": "stdout",
     "output_type": "stream",
     "text": [
      "\r66%"
     ]
    },
    {
     "name": "stdout",
     "output_type": "stream",
     "text": [
      "\r66%"
     ]
    },
    {
     "name": "stdout",
     "output_type": "stream",
     "text": [
      "\r66%"
     ]
    },
    {
     "name": "stdout",
     "output_type": "stream",
     "text": [
      "\r67%"
     ]
    },
    {
     "name": "stdout",
     "output_type": "stream",
     "text": [
      "\r67%"
     ]
    },
    {
     "name": "stdout",
     "output_type": "stream",
     "text": [
      "\r67%"
     ]
    },
    {
     "name": "stdout",
     "output_type": "stream",
     "text": [
      "\r68%"
     ]
    },
    {
     "name": "stdout",
     "output_type": "stream",
     "text": [
      "\r68%"
     ]
    },
    {
     "name": "stdout",
     "output_type": "stream",
     "text": [
      "\r68%"
     ]
    },
    {
     "name": "stdout",
     "output_type": "stream",
     "text": [
      "\r68%"
     ]
    },
    {
     "name": "stdout",
     "output_type": "stream",
     "text": [
      "\r69%"
     ]
    },
    {
     "name": "stdout",
     "output_type": "stream",
     "text": [
      "\r69%"
     ]
    },
    {
     "name": "stdout",
     "output_type": "stream",
     "text": [
      "\r69%"
     ]
    },
    {
     "name": "stdout",
     "output_type": "stream",
     "text": [
      "\r69%"
     ]
    },
    {
     "name": "stdout",
     "output_type": "stream",
     "text": [
      "\r70%"
     ]
    },
    {
     "name": "stdout",
     "output_type": "stream",
     "text": [
      "\r70%"
     ]
    },
    {
     "name": "stdout",
     "output_type": "stream",
     "text": [
      "\r70%"
     ]
    },
    {
     "name": "stdout",
     "output_type": "stream",
     "text": [
      "\r71%"
     ]
    },
    {
     "name": "stdout",
     "output_type": "stream",
     "text": [
      "\r71%"
     ]
    },
    {
     "name": "stdout",
     "output_type": "stream",
     "text": [
      "\r71%"
     ]
    },
    {
     "name": "stdout",
     "output_type": "stream",
     "text": [
      "\r71%"
     ]
    },
    {
     "name": "stdout",
     "output_type": "stream",
     "text": [
      "\r72%"
     ]
    },
    {
     "name": "stdout",
     "output_type": "stream",
     "text": [
      "\r72%"
     ]
    },
    {
     "name": "stdout",
     "output_type": "stream",
     "text": [
      "\r72%"
     ]
    },
    {
     "name": "stdout",
     "output_type": "stream",
     "text": [
      "\r72%"
     ]
    },
    {
     "name": "stdout",
     "output_type": "stream",
     "text": [
      "\r73%"
     ]
    },
    {
     "name": "stdout",
     "output_type": "stream",
     "text": [
      "\r73%"
     ]
    },
    {
     "name": "stdout",
     "output_type": "stream",
     "text": [
      "\r73%"
     ]
    },
    {
     "name": "stdout",
     "output_type": "stream",
     "text": [
      "\r74%"
     ]
    },
    {
     "name": "stdout",
     "output_type": "stream",
     "text": [
      "\r74%"
     ]
    },
    {
     "name": "stdout",
     "output_type": "stream",
     "text": [
      "\r74%"
     ]
    },
    {
     "name": "stdout",
     "output_type": "stream",
     "text": [
      "\r74%"
     ]
    },
    {
     "name": "stdout",
     "output_type": "stream",
     "text": [
      "\r75%"
     ]
    },
    {
     "name": "stdout",
     "output_type": "stream",
     "text": [
      "\r75%"
     ]
    },
    {
     "name": "stdout",
     "output_type": "stream",
     "text": [
      "\r75%"
     ]
    },
    {
     "name": "stdout",
     "output_type": "stream",
     "text": [
      "\r75%"
     ]
    },
    {
     "name": "stdout",
     "output_type": "stream",
     "text": [
      "\r76%"
     ]
    },
    {
     "name": "stdout",
     "output_type": "stream",
     "text": [
      "\r76%"
     ]
    },
    {
     "name": "stdout",
     "output_type": "stream",
     "text": [
      "\r76%"
     ]
    },
    {
     "name": "stdout",
     "output_type": "stream",
     "text": [
      "\r77%"
     ]
    },
    {
     "name": "stdout",
     "output_type": "stream",
     "text": [
      "\r77%"
     ]
    },
    {
     "name": "stdout",
     "output_type": "stream",
     "text": [
      "\r77%"
     ]
    },
    {
     "name": "stdout",
     "output_type": "stream",
     "text": [
      "\r77%"
     ]
    },
    {
     "name": "stdout",
     "output_type": "stream",
     "text": [
      "\r78%"
     ]
    },
    {
     "name": "stdout",
     "output_type": "stream",
     "text": [
      "\r78%"
     ]
    },
    {
     "name": "stdout",
     "output_type": "stream",
     "text": [
      "\r78%"
     ]
    },
    {
     "name": "stdout",
     "output_type": "stream",
     "text": [
      "\r78%"
     ]
    },
    {
     "name": "stdout",
     "output_type": "stream",
     "text": [
      "\r79%"
     ]
    },
    {
     "name": "stdout",
     "output_type": "stream",
     "text": [
      "\r79%"
     ]
    },
    {
     "name": "stdout",
     "output_type": "stream",
     "text": [
      "\r79%"
     ]
    },
    {
     "name": "stdout",
     "output_type": "stream",
     "text": [
      "\r80%"
     ]
    },
    {
     "name": "stdout",
     "output_type": "stream",
     "text": [
      "\r80%"
     ]
    },
    {
     "name": "stdout",
     "output_type": "stream",
     "text": [
      "\r80%"
     ]
    },
    {
     "name": "stdout",
     "output_type": "stream",
     "text": [
      "\r80%"
     ]
    },
    {
     "name": "stdout",
     "output_type": "stream",
     "text": [
      "\r81%"
     ]
    },
    {
     "name": "stdout",
     "output_type": "stream",
     "text": [
      "\r81%"
     ]
    },
    {
     "name": "stdout",
     "output_type": "stream",
     "text": [
      "\r81%"
     ]
    },
    {
     "name": "stdout",
     "output_type": "stream",
     "text": [
      "\r81%"
     ]
    },
    {
     "name": "stdout",
     "output_type": "stream",
     "text": [
      "\r82%"
     ]
    },
    {
     "name": "stdout",
     "output_type": "stream",
     "text": [
      "\r82%"
     ]
    },
    {
     "name": "stdout",
     "output_type": "stream",
     "text": [
      "\r82%"
     ]
    },
    {
     "name": "stdout",
     "output_type": "stream",
     "text": [
      "\r83%"
     ]
    },
    {
     "name": "stdout",
     "output_type": "stream",
     "text": [
      "\r83%"
     ]
    },
    {
     "name": "stdout",
     "output_type": "stream",
     "text": [
      "\r83%"
     ]
    },
    {
     "name": "stdout",
     "output_type": "stream",
     "text": [
      "\r83%"
     ]
    },
    {
     "name": "stdout",
     "output_type": "stream",
     "text": [
      "\r84%"
     ]
    },
    {
     "name": "stdout",
     "output_type": "stream",
     "text": [
      "\r84%"
     ]
    },
    {
     "name": "stdout",
     "output_type": "stream",
     "text": [
      "\r84%"
     ]
    },
    {
     "name": "stdout",
     "output_type": "stream",
     "text": [
      "\r84%"
     ]
    },
    {
     "name": "stdout",
     "output_type": "stream",
     "text": [
      "\r85%"
     ]
    },
    {
     "name": "stdout",
     "output_type": "stream",
     "text": [
      "\r85%"
     ]
    },
    {
     "name": "stdout",
     "output_type": "stream",
     "text": [
      "\r85%"
     ]
    },
    {
     "name": "stdout",
     "output_type": "stream",
     "text": [
      "\r86%"
     ]
    },
    {
     "name": "stdout",
     "output_type": "stream",
     "text": [
      "\r86%"
     ]
    },
    {
     "name": "stdout",
     "output_type": "stream",
     "text": [
      "\r86%"
     ]
    },
    {
     "name": "stdout",
     "output_type": "stream",
     "text": [
      "\r86%"
     ]
    },
    {
     "name": "stdout",
     "output_type": "stream",
     "text": [
      "\r87%"
     ]
    },
    {
     "name": "stdout",
     "output_type": "stream",
     "text": [
      "\r87%"
     ]
    },
    {
     "name": "stdout",
     "output_type": "stream",
     "text": [
      "\r87%"
     ]
    },
    {
     "name": "stdout",
     "output_type": "stream",
     "text": [
      "\r87%"
     ]
    },
    {
     "name": "stdout",
     "output_type": "stream",
     "text": [
      "\r88%"
     ]
    },
    {
     "name": "stdout",
     "output_type": "stream",
     "text": [
      "\r88%"
     ]
    },
    {
     "name": "stdout",
     "output_type": "stream",
     "text": [
      "\r88%"
     ]
    },
    {
     "name": "stdout",
     "output_type": "stream",
     "text": [
      "\r89%"
     ]
    },
    {
     "name": "stdout",
     "output_type": "stream",
     "text": [
      "\r89%"
     ]
    },
    {
     "name": "stdout",
     "output_type": "stream",
     "text": [
      "\r89%"
     ]
    },
    {
     "name": "stdout",
     "output_type": "stream",
     "text": [
      "\r89%"
     ]
    },
    {
     "name": "stdout",
     "output_type": "stream",
     "text": [
      "\r90%"
     ]
    },
    {
     "name": "stdout",
     "output_type": "stream",
     "text": [
      "\r90%"
     ]
    },
    {
     "name": "stdout",
     "output_type": "stream",
     "text": [
      "\r90%"
     ]
    },
    {
     "name": "stdout",
     "output_type": "stream",
     "text": [
      "\r90%"
     ]
    },
    {
     "name": "stdout",
     "output_type": "stream",
     "text": [
      "\r91%"
     ]
    },
    {
     "name": "stdout",
     "output_type": "stream",
     "text": [
      "\r91%"
     ]
    },
    {
     "name": "stdout",
     "output_type": "stream",
     "text": [
      "\r91%"
     ]
    },
    {
     "name": "stdout",
     "output_type": "stream",
     "text": [
      "\r92%"
     ]
    },
    {
     "name": "stdout",
     "output_type": "stream",
     "text": [
      "\r92%"
     ]
    },
    {
     "name": "stdout",
     "output_type": "stream",
     "text": [
      "\r92%"
     ]
    },
    {
     "name": "stdout",
     "output_type": "stream",
     "text": [
      "\r92%"
     ]
    },
    {
     "name": "stdout",
     "output_type": "stream",
     "text": [
      "\r93%"
     ]
    },
    {
     "name": "stdout",
     "output_type": "stream",
     "text": [
      "\r93%"
     ]
    },
    {
     "name": "stdout",
     "output_type": "stream",
     "text": [
      "\r93%"
     ]
    },
    {
     "name": "stdout",
     "output_type": "stream",
     "text": [
      "\r93%"
     ]
    },
    {
     "name": "stdout",
     "output_type": "stream",
     "text": [
      "\r94%"
     ]
    },
    {
     "name": "stdout",
     "output_type": "stream",
     "text": [
      "\r94%"
     ]
    },
    {
     "name": "stdout",
     "output_type": "stream",
     "text": [
      "\r94%"
     ]
    },
    {
     "name": "stdout",
     "output_type": "stream",
     "text": [
      "\r95%"
     ]
    },
    {
     "name": "stdout",
     "output_type": "stream",
     "text": [
      "\r95%"
     ]
    },
    {
     "name": "stdout",
     "output_type": "stream",
     "text": [
      "\r95%"
     ]
    },
    {
     "name": "stdout",
     "output_type": "stream",
     "text": [
      "\r95%"
     ]
    },
    {
     "name": "stdout",
     "output_type": "stream",
     "text": [
      "\r96%"
     ]
    },
    {
     "name": "stdout",
     "output_type": "stream",
     "text": [
      "\r96%"
     ]
    },
    {
     "name": "stdout",
     "output_type": "stream",
     "text": [
      "\r96%"
     ]
    },
    {
     "name": "stdout",
     "output_type": "stream",
     "text": [
      "\r96%"
     ]
    },
    {
     "name": "stdout",
     "output_type": "stream",
     "text": [
      "\r97%"
     ]
    },
    {
     "name": "stdout",
     "output_type": "stream",
     "text": [
      "\r97%"
     ]
    },
    {
     "name": "stdout",
     "output_type": "stream",
     "text": [
      "\r97%"
     ]
    },
    {
     "name": "stdout",
     "output_type": "stream",
     "text": [
      "\r98%"
     ]
    },
    {
     "name": "stdout",
     "output_type": "stream",
     "text": [
      "\r98%"
     ]
    },
    {
     "name": "stdout",
     "output_type": "stream",
     "text": [
      "\r98%"
     ]
    },
    {
     "name": "stdout",
     "output_type": "stream",
     "text": [
      "\r98%"
     ]
    },
    {
     "name": "stdout",
     "output_type": "stream",
     "text": [
      "\r99%"
     ]
    },
    {
     "name": "stdout",
     "output_type": "stream",
     "text": [
      "\r99%"
     ]
    },
    {
     "name": "stdout",
     "output_type": "stream",
     "text": [
      "\r99%"
     ]
    },
    {
     "name": "stdout",
     "output_type": "stream",
     "text": [
      "\r8 훈련 MSE: 0.04345547\n"
     ]
    },
    {
     "name": "stdout",
     "output_type": "stream",
     "text": [
      "\r0%"
     ]
    },
    {
     "name": "stdout",
     "output_type": "stream",
     "text": [
      "\r0%"
     ]
    },
    {
     "name": "stdout",
     "output_type": "stream",
     "text": [
      "\r0%"
     ]
    },
    {
     "name": "stdout",
     "output_type": "stream",
     "text": [
      "\r0%"
     ]
    },
    {
     "name": "stdout",
     "output_type": "stream",
     "text": [
      "\r1%"
     ]
    },
    {
     "name": "stdout",
     "output_type": "stream",
     "text": [
      "\r1%"
     ]
    },
    {
     "name": "stdout",
     "output_type": "stream",
     "text": [
      "\r1%"
     ]
    },
    {
     "name": "stdout",
     "output_type": "stream",
     "text": [
      "\r1%"
     ]
    },
    {
     "name": "stdout",
     "output_type": "stream",
     "text": [
      "\r2%"
     ]
    },
    {
     "name": "stdout",
     "output_type": "stream",
     "text": [
      "\r2%"
     ]
    },
    {
     "name": "stdout",
     "output_type": "stream",
     "text": [
      "\r2%"
     ]
    },
    {
     "name": "stdout",
     "output_type": "stream",
     "text": [
      "\r3%"
     ]
    },
    {
     "name": "stdout",
     "output_type": "stream",
     "text": [
      "\r3%"
     ]
    },
    {
     "name": "stdout",
     "output_type": "stream",
     "text": [
      "\r3%"
     ]
    },
    {
     "name": "stdout",
     "output_type": "stream",
     "text": [
      "\r3%"
     ]
    },
    {
     "name": "stdout",
     "output_type": "stream",
     "text": [
      "\r4%"
     ]
    },
    {
     "name": "stdout",
     "output_type": "stream",
     "text": [
      "\r4%"
     ]
    },
    {
     "name": "stdout",
     "output_type": "stream",
     "text": [
      "\r4%"
     ]
    },
    {
     "name": "stdout",
     "output_type": "stream",
     "text": [
      "\r4%"
     ]
    },
    {
     "name": "stdout",
     "output_type": "stream",
     "text": [
      "\r5%"
     ]
    },
    {
     "name": "stdout",
     "output_type": "stream",
     "text": [
      "\r5%"
     ]
    },
    {
     "name": "stdout",
     "output_type": "stream",
     "text": [
      "\r5%"
     ]
    },
    {
     "name": "stdout",
     "output_type": "stream",
     "text": [
      "\r6%"
     ]
    },
    {
     "name": "stdout",
     "output_type": "stream",
     "text": [
      "\r6%"
     ]
    },
    {
     "name": "stdout",
     "output_type": "stream",
     "text": [
      "\r6%"
     ]
    },
    {
     "name": "stdout",
     "output_type": "stream",
     "text": [
      "\r6%"
     ]
    },
    {
     "name": "stdout",
     "output_type": "stream",
     "text": [
      "\r7%"
     ]
    },
    {
     "name": "stdout",
     "output_type": "stream",
     "text": [
      "\r7%"
     ]
    },
    {
     "name": "stdout",
     "output_type": "stream",
     "text": [
      "\r7%"
     ]
    },
    {
     "name": "stdout",
     "output_type": "stream",
     "text": [
      "\r7%"
     ]
    },
    {
     "name": "stdout",
     "output_type": "stream",
     "text": [
      "\r8%"
     ]
    },
    {
     "name": "stdout",
     "output_type": "stream",
     "text": [
      "\r8%"
     ]
    },
    {
     "name": "stdout",
     "output_type": "stream",
     "text": [
      "\r8%"
     ]
    },
    {
     "name": "stdout",
     "output_type": "stream",
     "text": [
      "\r9%"
     ]
    },
    {
     "name": "stdout",
     "output_type": "stream",
     "text": [
      "\r9%"
     ]
    },
    {
     "name": "stdout",
     "output_type": "stream",
     "text": [
      "\r9%"
     ]
    },
    {
     "name": "stdout",
     "output_type": "stream",
     "text": [
      "\r9%"
     ]
    },
    {
     "name": "stdout",
     "output_type": "stream",
     "text": [
      "\r10%"
     ]
    },
    {
     "name": "stdout",
     "output_type": "stream",
     "text": [
      "\r10%"
     ]
    },
    {
     "name": "stdout",
     "output_type": "stream",
     "text": [
      "\r10%"
     ]
    },
    {
     "name": "stdout",
     "output_type": "stream",
     "text": [
      "\r10%"
     ]
    },
    {
     "name": "stdout",
     "output_type": "stream",
     "text": [
      "\r11%"
     ]
    },
    {
     "name": "stdout",
     "output_type": "stream",
     "text": [
      "\r11%"
     ]
    },
    {
     "name": "stdout",
     "output_type": "stream",
     "text": [
      "\r11%"
     ]
    },
    {
     "name": "stdout",
     "output_type": "stream",
     "text": [
      "\r12%"
     ]
    },
    {
     "name": "stdout",
     "output_type": "stream",
     "text": [
      "\r12%"
     ]
    },
    {
     "name": "stdout",
     "output_type": "stream",
     "text": [
      "\r12%"
     ]
    },
    {
     "name": "stdout",
     "output_type": "stream",
     "text": [
      "\r12%"
     ]
    },
    {
     "name": "stdout",
     "output_type": "stream",
     "text": [
      "\r13%"
     ]
    },
    {
     "name": "stdout",
     "output_type": "stream",
     "text": [
      "\r13%"
     ]
    },
    {
     "name": "stdout",
     "output_type": "stream",
     "text": [
      "\r13%"
     ]
    },
    {
     "name": "stdout",
     "output_type": "stream",
     "text": [
      "\r13%"
     ]
    },
    {
     "name": "stdout",
     "output_type": "stream",
     "text": [
      "\r14%"
     ]
    },
    {
     "name": "stdout",
     "output_type": "stream",
     "text": [
      "\r14%"
     ]
    },
    {
     "name": "stdout",
     "output_type": "stream",
     "text": [
      "\r14%"
     ]
    },
    {
     "name": "stdout",
     "output_type": "stream",
     "text": [
      "\r15%"
     ]
    },
    {
     "name": "stdout",
     "output_type": "stream",
     "text": [
      "\r15%"
     ]
    },
    {
     "name": "stdout",
     "output_type": "stream",
     "text": [
      "\r15%"
     ]
    },
    {
     "name": "stdout",
     "output_type": "stream",
     "text": [
      "\r15%"
     ]
    },
    {
     "name": "stdout",
     "output_type": "stream",
     "text": [
      "\r16%"
     ]
    },
    {
     "name": "stdout",
     "output_type": "stream",
     "text": [
      "\r16%"
     ]
    },
    {
     "name": "stdout",
     "output_type": "stream",
     "text": [
      "\r16%"
     ]
    },
    {
     "name": "stdout",
     "output_type": "stream",
     "text": [
      "\r16%"
     ]
    },
    {
     "name": "stdout",
     "output_type": "stream",
     "text": [
      "\r17%"
     ]
    },
    {
     "name": "stdout",
     "output_type": "stream",
     "text": [
      "\r17%"
     ]
    },
    {
     "name": "stdout",
     "output_type": "stream",
     "text": [
      "\r17%"
     ]
    },
    {
     "name": "stdout",
     "output_type": "stream",
     "text": [
      "\r18%"
     ]
    },
    {
     "name": "stdout",
     "output_type": "stream",
     "text": [
      "\r18%"
     ]
    },
    {
     "name": "stdout",
     "output_type": "stream",
     "text": [
      "\r18%"
     ]
    },
    {
     "name": "stdout",
     "output_type": "stream",
     "text": [
      "\r18%"
     ]
    },
    {
     "name": "stdout",
     "output_type": "stream",
     "text": [
      "\r19%"
     ]
    },
    {
     "name": "stdout",
     "output_type": "stream",
     "text": [
      "\r19%"
     ]
    },
    {
     "name": "stdout",
     "output_type": "stream",
     "text": [
      "\r19%"
     ]
    },
    {
     "name": "stdout",
     "output_type": "stream",
     "text": [
      "\r19%"
     ]
    },
    {
     "name": "stdout",
     "output_type": "stream",
     "text": [
      "\r20%"
     ]
    },
    {
     "name": "stdout",
     "output_type": "stream",
     "text": [
      "\r20%"
     ]
    },
    {
     "name": "stdout",
     "output_type": "stream",
     "text": [
      "\r20%"
     ]
    },
    {
     "name": "stdout",
     "output_type": "stream",
     "text": [
      "\r21%"
     ]
    },
    {
     "name": "stdout",
     "output_type": "stream",
     "text": [
      "\r21%"
     ]
    },
    {
     "name": "stdout",
     "output_type": "stream",
     "text": [
      "\r21%"
     ]
    },
    {
     "name": "stdout",
     "output_type": "stream",
     "text": [
      "\r21%"
     ]
    },
    {
     "name": "stdout",
     "output_type": "stream",
     "text": [
      "\r22%"
     ]
    },
    {
     "name": "stdout",
     "output_type": "stream",
     "text": [
      "\r22%"
     ]
    },
    {
     "name": "stdout",
     "output_type": "stream",
     "text": [
      "\r22%"
     ]
    },
    {
     "name": "stdout",
     "output_type": "stream",
     "text": [
      "\r22%"
     ]
    },
    {
     "name": "stdout",
     "output_type": "stream",
     "text": [
      "\r23%"
     ]
    },
    {
     "name": "stdout",
     "output_type": "stream",
     "text": [
      "\r23%"
     ]
    },
    {
     "name": "stdout",
     "output_type": "stream",
     "text": [
      "\r23%"
     ]
    },
    {
     "name": "stdout",
     "output_type": "stream",
     "text": [
      "\r24%"
     ]
    },
    {
     "name": "stdout",
     "output_type": "stream",
     "text": [
      "\r24%"
     ]
    },
    {
     "name": "stdout",
     "output_type": "stream",
     "text": [
      "\r24%"
     ]
    },
    {
     "name": "stdout",
     "output_type": "stream",
     "text": [
      "\r24%"
     ]
    },
    {
     "name": "stdout",
     "output_type": "stream",
     "text": [
      "\r25%"
     ]
    },
    {
     "name": "stdout",
     "output_type": "stream",
     "text": [
      "\r25%"
     ]
    },
    {
     "name": "stdout",
     "output_type": "stream",
     "text": [
      "\r25%"
     ]
    },
    {
     "name": "stdout",
     "output_type": "stream",
     "text": [
      "\r25%"
     ]
    },
    {
     "name": "stdout",
     "output_type": "stream",
     "text": [
      "\r26%"
     ]
    },
    {
     "name": "stdout",
     "output_type": "stream",
     "text": [
      "\r26%"
     ]
    },
    {
     "name": "stdout",
     "output_type": "stream",
     "text": [
      "\r26%"
     ]
    },
    {
     "name": "stdout",
     "output_type": "stream",
     "text": [
      "\r27%"
     ]
    },
    {
     "name": "stdout",
     "output_type": "stream",
     "text": [
      "\r27%"
     ]
    },
    {
     "name": "stdout",
     "output_type": "stream",
     "text": [
      "\r27%"
     ]
    },
    {
     "name": "stdout",
     "output_type": "stream",
     "text": [
      "\r27%"
     ]
    },
    {
     "name": "stdout",
     "output_type": "stream",
     "text": [
      "\r28%"
     ]
    },
    {
     "name": "stdout",
     "output_type": "stream",
     "text": [
      "\r28%"
     ]
    },
    {
     "name": "stdout",
     "output_type": "stream",
     "text": [
      "\r28%"
     ]
    },
    {
     "name": "stdout",
     "output_type": "stream",
     "text": [
      "\r28%"
     ]
    },
    {
     "name": "stdout",
     "output_type": "stream",
     "text": [
      "\r29%"
     ]
    },
    {
     "name": "stdout",
     "output_type": "stream",
     "text": [
      "\r29%"
     ]
    },
    {
     "name": "stdout",
     "output_type": "stream",
     "text": [
      "\r29%"
     ]
    },
    {
     "name": "stdout",
     "output_type": "stream",
     "text": [
      "\r30%"
     ]
    },
    {
     "name": "stdout",
     "output_type": "stream",
     "text": [
      "\r30%"
     ]
    },
    {
     "name": "stdout",
     "output_type": "stream",
     "text": [
      "\r30%"
     ]
    },
    {
     "name": "stdout",
     "output_type": "stream",
     "text": [
      "\r30%"
     ]
    },
    {
     "name": "stdout",
     "output_type": "stream",
     "text": [
      "\r31%"
     ]
    },
    {
     "name": "stdout",
     "output_type": "stream",
     "text": [
      "\r31%"
     ]
    },
    {
     "name": "stdout",
     "output_type": "stream",
     "text": [
      "\r31%"
     ]
    },
    {
     "name": "stdout",
     "output_type": "stream",
     "text": [
      "\r31%"
     ]
    },
    {
     "name": "stdout",
     "output_type": "stream",
     "text": [
      "\r32%"
     ]
    },
    {
     "name": "stdout",
     "output_type": "stream",
     "text": [
      "\r32%"
     ]
    },
    {
     "name": "stdout",
     "output_type": "stream",
     "text": [
      "\r32%"
     ]
    },
    {
     "name": "stdout",
     "output_type": "stream",
     "text": [
      "\r33%"
     ]
    },
    {
     "name": "stdout",
     "output_type": "stream",
     "text": [
      "\r33%"
     ]
    },
    {
     "name": "stdout",
     "output_type": "stream",
     "text": [
      "\r33%"
     ]
    },
    {
     "name": "stdout",
     "output_type": "stream",
     "text": [
      "\r33%"
     ]
    },
    {
     "name": "stdout",
     "output_type": "stream",
     "text": [
      "\r34%"
     ]
    },
    {
     "name": "stdout",
     "output_type": "stream",
     "text": [
      "\r34%"
     ]
    },
    {
     "name": "stdout",
     "output_type": "stream",
     "text": [
      "\r34%"
     ]
    },
    {
     "name": "stdout",
     "output_type": "stream",
     "text": [
      "\r34%"
     ]
    },
    {
     "name": "stdout",
     "output_type": "stream",
     "text": [
      "\r35%"
     ]
    },
    {
     "name": "stdout",
     "output_type": "stream",
     "text": [
      "\r35%"
     ]
    },
    {
     "name": "stdout",
     "output_type": "stream",
     "text": [
      "\r35%"
     ]
    },
    {
     "name": "stdout",
     "output_type": "stream",
     "text": [
      "\r36%"
     ]
    },
    {
     "name": "stdout",
     "output_type": "stream",
     "text": [
      "\r36%"
     ]
    },
    {
     "name": "stdout",
     "output_type": "stream",
     "text": [
      "\r36%"
     ]
    },
    {
     "name": "stdout",
     "output_type": "stream",
     "text": [
      "\r36%"
     ]
    },
    {
     "name": "stdout",
     "output_type": "stream",
     "text": [
      "\r37%"
     ]
    },
    {
     "name": "stdout",
     "output_type": "stream",
     "text": [
      "\r37%"
     ]
    },
    {
     "name": "stdout",
     "output_type": "stream",
     "text": [
      "\r37%"
     ]
    },
    {
     "name": "stdout",
     "output_type": "stream",
     "text": [
      "\r37%"
     ]
    },
    {
     "name": "stdout",
     "output_type": "stream",
     "text": [
      "\r38%"
     ]
    },
    {
     "name": "stdout",
     "output_type": "stream",
     "text": [
      "\r38%"
     ]
    },
    {
     "name": "stdout",
     "output_type": "stream",
     "text": [
      "\r38%"
     ]
    },
    {
     "name": "stdout",
     "output_type": "stream",
     "text": [
      "\r39%"
     ]
    },
    {
     "name": "stdout",
     "output_type": "stream",
     "text": [
      "\r39%"
     ]
    },
    {
     "name": "stdout",
     "output_type": "stream",
     "text": [
      "\r39%"
     ]
    },
    {
     "name": "stdout",
     "output_type": "stream",
     "text": [
      "\r39%"
     ]
    },
    {
     "name": "stdout",
     "output_type": "stream",
     "text": [
      "\r40%"
     ]
    },
    {
     "name": "stdout",
     "output_type": "stream",
     "text": [
      "\r40%"
     ]
    },
    {
     "name": "stdout",
     "output_type": "stream",
     "text": [
      "\r40%"
     ]
    },
    {
     "name": "stdout",
     "output_type": "stream",
     "text": [
      "\r40%"
     ]
    },
    {
     "name": "stdout",
     "output_type": "stream",
     "text": [
      "\r41%"
     ]
    },
    {
     "name": "stdout",
     "output_type": "stream",
     "text": [
      "\r41%"
     ]
    },
    {
     "name": "stdout",
     "output_type": "stream",
     "text": [
      "\r41%"
     ]
    },
    {
     "name": "stdout",
     "output_type": "stream",
     "text": [
      "\r42%"
     ]
    },
    {
     "name": "stdout",
     "output_type": "stream",
     "text": [
      "\r42%"
     ]
    },
    {
     "name": "stdout",
     "output_type": "stream",
     "text": [
      "\r42%"
     ]
    },
    {
     "name": "stdout",
     "output_type": "stream",
     "text": [
      "\r42%"
     ]
    },
    {
     "name": "stdout",
     "output_type": "stream",
     "text": [
      "\r43%"
     ]
    },
    {
     "name": "stdout",
     "output_type": "stream",
     "text": [
      "\r43%"
     ]
    },
    {
     "name": "stdout",
     "output_type": "stream",
     "text": [
      "\r43%"
     ]
    },
    {
     "name": "stdout",
     "output_type": "stream",
     "text": [
      "\r43%"
     ]
    },
    {
     "name": "stdout",
     "output_type": "stream",
     "text": [
      "\r44%"
     ]
    },
    {
     "name": "stdout",
     "output_type": "stream",
     "text": [
      "\r44%"
     ]
    },
    {
     "name": "stdout",
     "output_type": "stream",
     "text": [
      "\r44%"
     ]
    },
    {
     "name": "stdout",
     "output_type": "stream",
     "text": [
      "\r45%"
     ]
    },
    {
     "name": "stdout",
     "output_type": "stream",
     "text": [
      "\r45%"
     ]
    },
    {
     "name": "stdout",
     "output_type": "stream",
     "text": [
      "\r45%"
     ]
    },
    {
     "name": "stdout",
     "output_type": "stream",
     "text": [
      "\r45%"
     ]
    },
    {
     "name": "stdout",
     "output_type": "stream",
     "text": [
      "\r46%"
     ]
    },
    {
     "name": "stdout",
     "output_type": "stream",
     "text": [
      "\r46%"
     ]
    },
    {
     "name": "stdout",
     "output_type": "stream",
     "text": [
      "\r46%"
     ]
    },
    {
     "name": "stdout",
     "output_type": "stream",
     "text": [
      "\r46%"
     ]
    },
    {
     "name": "stdout",
     "output_type": "stream",
     "text": [
      "\r47%"
     ]
    },
    {
     "name": "stdout",
     "output_type": "stream",
     "text": [
      "\r47%"
     ]
    },
    {
     "name": "stdout",
     "output_type": "stream",
     "text": [
      "\r47%"
     ]
    },
    {
     "name": "stdout",
     "output_type": "stream",
     "text": [
      "\r48%"
     ]
    },
    {
     "name": "stdout",
     "output_type": "stream",
     "text": [
      "\r48%"
     ]
    },
    {
     "name": "stdout",
     "output_type": "stream",
     "text": [
      "\r48%"
     ]
    },
    {
     "name": "stdout",
     "output_type": "stream",
     "text": [
      "\r48%"
     ]
    },
    {
     "name": "stdout",
     "output_type": "stream",
     "text": [
      "\r49%"
     ]
    },
    {
     "name": "stdout",
     "output_type": "stream",
     "text": [
      "\r49%"
     ]
    },
    {
     "name": "stdout",
     "output_type": "stream",
     "text": [
      "\r49%"
     ]
    },
    {
     "name": "stdout",
     "output_type": "stream",
     "text": [
      "\r50%"
     ]
    },
    {
     "name": "stdout",
     "output_type": "stream",
     "text": [
      "\r50%"
     ]
    },
    {
     "name": "stdout",
     "output_type": "stream",
     "text": [
      "\r50%"
     ]
    },
    {
     "name": "stdout",
     "output_type": "stream",
     "text": [
      "\r50%"
     ]
    },
    {
     "name": "stdout",
     "output_type": "stream",
     "text": [
      "\r51%"
     ]
    },
    {
     "name": "stdout",
     "output_type": "stream",
     "text": [
      "\r51%"
     ]
    },
    {
     "name": "stdout",
     "output_type": "stream",
     "text": [
      "\r51%"
     ]
    },
    {
     "name": "stdout",
     "output_type": "stream",
     "text": [
      "\r51%"
     ]
    },
    {
     "name": "stdout",
     "output_type": "stream",
     "text": [
      "\r52%"
     ]
    },
    {
     "name": "stdout",
     "output_type": "stream",
     "text": [
      "\r52%"
     ]
    },
    {
     "name": "stdout",
     "output_type": "stream",
     "text": [
      "\r52%"
     ]
    },
    {
     "name": "stdout",
     "output_type": "stream",
     "text": [
      "\r53%"
     ]
    },
    {
     "name": "stdout",
     "output_type": "stream",
     "text": [
      "\r53%"
     ]
    },
    {
     "name": "stdout",
     "output_type": "stream",
     "text": [
      "\r53%"
     ]
    },
    {
     "name": "stdout",
     "output_type": "stream",
     "text": [
      "\r53%"
     ]
    },
    {
     "name": "stdout",
     "output_type": "stream",
     "text": [
      "\r54%"
     ]
    },
    {
     "name": "stdout",
     "output_type": "stream",
     "text": [
      "\r54%"
     ]
    },
    {
     "name": "stdout",
     "output_type": "stream",
     "text": [
      "\r54%"
     ]
    },
    {
     "name": "stdout",
     "output_type": "stream",
     "text": [
      "\r54%"
     ]
    },
    {
     "name": "stdout",
     "output_type": "stream",
     "text": [
      "\r55%"
     ]
    },
    {
     "name": "stdout",
     "output_type": "stream",
     "text": [
      "\r55%"
     ]
    },
    {
     "name": "stdout",
     "output_type": "stream",
     "text": [
      "\r55%"
     ]
    },
    {
     "name": "stdout",
     "output_type": "stream",
     "text": [
      "\r56%"
     ]
    },
    {
     "name": "stdout",
     "output_type": "stream",
     "text": [
      "\r56%"
     ]
    },
    {
     "name": "stdout",
     "output_type": "stream",
     "text": [
      "\r56%"
     ]
    },
    {
     "name": "stdout",
     "output_type": "stream",
     "text": [
      "\r56%"
     ]
    },
    {
     "name": "stdout",
     "output_type": "stream",
     "text": [
      "\r57%"
     ]
    },
    {
     "name": "stdout",
     "output_type": "stream",
     "text": [
      "\r57%"
     ]
    },
    {
     "name": "stdout",
     "output_type": "stream",
     "text": [
      "\r57%"
     ]
    },
    {
     "name": "stdout",
     "output_type": "stream",
     "text": [
      "\r57%"
     ]
    },
    {
     "name": "stdout",
     "output_type": "stream",
     "text": [
      "\r58%"
     ]
    },
    {
     "name": "stdout",
     "output_type": "stream",
     "text": [
      "\r58%"
     ]
    },
    {
     "name": "stdout",
     "output_type": "stream",
     "text": [
      "\r58%"
     ]
    },
    {
     "name": "stdout",
     "output_type": "stream",
     "text": [
      "\r59%"
     ]
    },
    {
     "name": "stdout",
     "output_type": "stream",
     "text": [
      "\r59%"
     ]
    },
    {
     "name": "stdout",
     "output_type": "stream",
     "text": [
      "\r59%"
     ]
    },
    {
     "name": "stdout",
     "output_type": "stream",
     "text": [
      "\r59%"
     ]
    },
    {
     "name": "stdout",
     "output_type": "stream",
     "text": [
      "\r60%"
     ]
    },
    {
     "name": "stdout",
     "output_type": "stream",
     "text": [
      "\r60%"
     ]
    },
    {
     "name": "stdout",
     "output_type": "stream",
     "text": [
      "\r60%"
     ]
    },
    {
     "name": "stdout",
     "output_type": "stream",
     "text": [
      "\r60%"
     ]
    },
    {
     "name": "stdout",
     "output_type": "stream",
     "text": [
      "\r61%"
     ]
    },
    {
     "name": "stdout",
     "output_type": "stream",
     "text": [
      "\r61%"
     ]
    },
    {
     "name": "stdout",
     "output_type": "stream",
     "text": [
      "\r61%"
     ]
    },
    {
     "name": "stdout",
     "output_type": "stream",
     "text": [
      "\r62%"
     ]
    },
    {
     "name": "stdout",
     "output_type": "stream",
     "text": [
      "\r62%"
     ]
    },
    {
     "name": "stdout",
     "output_type": "stream",
     "text": [
      "\r62%"
     ]
    },
    {
     "name": "stdout",
     "output_type": "stream",
     "text": [
      "\r62%"
     ]
    },
    {
     "name": "stdout",
     "output_type": "stream",
     "text": [
      "\r63%"
     ]
    },
    {
     "name": "stdout",
     "output_type": "stream",
     "text": [
      "\r63%"
     ]
    },
    {
     "name": "stdout",
     "output_type": "stream",
     "text": [
      "\r63%"
     ]
    },
    {
     "name": "stdout",
     "output_type": "stream",
     "text": [
      "\r63%"
     ]
    },
    {
     "name": "stdout",
     "output_type": "stream",
     "text": [
      "\r64%"
     ]
    },
    {
     "name": "stdout",
     "output_type": "stream",
     "text": [
      "\r64%"
     ]
    },
    {
     "name": "stdout",
     "output_type": "stream",
     "text": [
      "\r64%"
     ]
    },
    {
     "name": "stdout",
     "output_type": "stream",
     "text": [
      "\r65%"
     ]
    },
    {
     "name": "stdout",
     "output_type": "stream",
     "text": [
      "\r65%"
     ]
    },
    {
     "name": "stdout",
     "output_type": "stream",
     "text": [
      "\r65%"
     ]
    },
    {
     "name": "stdout",
     "output_type": "stream",
     "text": [
      "\r65%"
     ]
    },
    {
     "name": "stdout",
     "output_type": "stream",
     "text": [
      "\r66%"
     ]
    },
    {
     "name": "stdout",
     "output_type": "stream",
     "text": [
      "\r66%"
     ]
    },
    {
     "name": "stdout",
     "output_type": "stream",
     "text": [
      "\r66%"
     ]
    },
    {
     "name": "stdout",
     "output_type": "stream",
     "text": [
      "\r66%"
     ]
    },
    {
     "name": "stdout",
     "output_type": "stream",
     "text": [
      "\r67%"
     ]
    },
    {
     "name": "stdout",
     "output_type": "stream",
     "text": [
      "\r67%"
     ]
    },
    {
     "name": "stdout",
     "output_type": "stream",
     "text": [
      "\r67%"
     ]
    },
    {
     "name": "stdout",
     "output_type": "stream",
     "text": [
      "\r68%"
     ]
    },
    {
     "name": "stdout",
     "output_type": "stream",
     "text": [
      "\r68%"
     ]
    },
    {
     "name": "stdout",
     "output_type": "stream",
     "text": [
      "\r68%"
     ]
    },
    {
     "name": "stdout",
     "output_type": "stream",
     "text": [
      "\r68%"
     ]
    },
    {
     "name": "stdout",
     "output_type": "stream",
     "text": [
      "\r69%"
     ]
    },
    {
     "name": "stdout",
     "output_type": "stream",
     "text": [
      "\r69%"
     ]
    },
    {
     "name": "stdout",
     "output_type": "stream",
     "text": [
      "\r69%"
     ]
    },
    {
     "name": "stdout",
     "output_type": "stream",
     "text": [
      "\r69%"
     ]
    },
    {
     "name": "stdout",
     "output_type": "stream",
     "text": [
      "\r70%"
     ]
    },
    {
     "name": "stdout",
     "output_type": "stream",
     "text": [
      "\r70%"
     ]
    },
    {
     "name": "stdout",
     "output_type": "stream",
     "text": [
      "\r70%"
     ]
    },
    {
     "name": "stdout",
     "output_type": "stream",
     "text": [
      "\r71%"
     ]
    },
    {
     "name": "stdout",
     "output_type": "stream",
     "text": [
      "\r71%"
     ]
    },
    {
     "name": "stdout",
     "output_type": "stream",
     "text": [
      "\r71%"
     ]
    },
    {
     "name": "stdout",
     "output_type": "stream",
     "text": [
      "\r71%"
     ]
    },
    {
     "name": "stdout",
     "output_type": "stream",
     "text": [
      "\r72%"
     ]
    },
    {
     "name": "stdout",
     "output_type": "stream",
     "text": [
      "\r72%"
     ]
    },
    {
     "name": "stdout",
     "output_type": "stream",
     "text": [
      "\r72%"
     ]
    },
    {
     "name": "stdout",
     "output_type": "stream",
     "text": [
      "\r72%"
     ]
    },
    {
     "name": "stdout",
     "output_type": "stream",
     "text": [
      "\r73%"
     ]
    },
    {
     "name": "stdout",
     "output_type": "stream",
     "text": [
      "\r73%"
     ]
    },
    {
     "name": "stdout",
     "output_type": "stream",
     "text": [
      "\r73%"
     ]
    },
    {
     "name": "stdout",
     "output_type": "stream",
     "text": [
      "\r74%"
     ]
    },
    {
     "name": "stdout",
     "output_type": "stream",
     "text": [
      "\r74%"
     ]
    },
    {
     "name": "stdout",
     "output_type": "stream",
     "text": [
      "\r74%"
     ]
    },
    {
     "name": "stdout",
     "output_type": "stream",
     "text": [
      "\r74%"
     ]
    },
    {
     "name": "stdout",
     "output_type": "stream",
     "text": [
      "\r75%"
     ]
    },
    {
     "name": "stdout",
     "output_type": "stream",
     "text": [
      "\r75%"
     ]
    },
    {
     "name": "stdout",
     "output_type": "stream",
     "text": [
      "\r75%"
     ]
    },
    {
     "name": "stdout",
     "output_type": "stream",
     "text": [
      "\r75%"
     ]
    },
    {
     "name": "stdout",
     "output_type": "stream",
     "text": [
      "\r76%"
     ]
    },
    {
     "name": "stdout",
     "output_type": "stream",
     "text": [
      "\r76%"
     ]
    },
    {
     "name": "stdout",
     "output_type": "stream",
     "text": [
      "\r76%"
     ]
    },
    {
     "name": "stdout",
     "output_type": "stream",
     "text": [
      "\r77%"
     ]
    },
    {
     "name": "stdout",
     "output_type": "stream",
     "text": [
      "\r77%"
     ]
    },
    {
     "name": "stdout",
     "output_type": "stream",
     "text": [
      "\r77%"
     ]
    },
    {
     "name": "stdout",
     "output_type": "stream",
     "text": [
      "\r77%"
     ]
    },
    {
     "name": "stdout",
     "output_type": "stream",
     "text": [
      "\r78%"
     ]
    },
    {
     "name": "stdout",
     "output_type": "stream",
     "text": [
      "\r78%"
     ]
    },
    {
     "name": "stdout",
     "output_type": "stream",
     "text": [
      "\r78%"
     ]
    },
    {
     "name": "stdout",
     "output_type": "stream",
     "text": [
      "\r78%"
     ]
    },
    {
     "name": "stdout",
     "output_type": "stream",
     "text": [
      "\r79%"
     ]
    },
    {
     "name": "stdout",
     "output_type": "stream",
     "text": [
      "\r79%"
     ]
    },
    {
     "name": "stdout",
     "output_type": "stream",
     "text": [
      "\r79%"
     ]
    },
    {
     "name": "stdout",
     "output_type": "stream",
     "text": [
      "\r80%"
     ]
    },
    {
     "name": "stdout",
     "output_type": "stream",
     "text": [
      "\r80%"
     ]
    },
    {
     "name": "stdout",
     "output_type": "stream",
     "text": [
      "\r80%"
     ]
    },
    {
     "name": "stdout",
     "output_type": "stream",
     "text": [
      "\r80%"
     ]
    },
    {
     "name": "stdout",
     "output_type": "stream",
     "text": [
      "\r81%"
     ]
    },
    {
     "name": "stdout",
     "output_type": "stream",
     "text": [
      "\r81%"
     ]
    },
    {
     "name": "stdout",
     "output_type": "stream",
     "text": [
      "\r81%"
     ]
    },
    {
     "name": "stdout",
     "output_type": "stream",
     "text": [
      "\r81%"
     ]
    },
    {
     "name": "stdout",
     "output_type": "stream",
     "text": [
      "\r82%"
     ]
    },
    {
     "name": "stdout",
     "output_type": "stream",
     "text": [
      "\r82%"
     ]
    },
    {
     "name": "stdout",
     "output_type": "stream",
     "text": [
      "\r82%"
     ]
    },
    {
     "name": "stdout",
     "output_type": "stream",
     "text": [
      "\r83%"
     ]
    },
    {
     "name": "stdout",
     "output_type": "stream",
     "text": [
      "\r83%"
     ]
    },
    {
     "name": "stdout",
     "output_type": "stream",
     "text": [
      "\r83%"
     ]
    },
    {
     "name": "stdout",
     "output_type": "stream",
     "text": [
      "\r83%"
     ]
    },
    {
     "name": "stdout",
     "output_type": "stream",
     "text": [
      "\r84%"
     ]
    },
    {
     "name": "stdout",
     "output_type": "stream",
     "text": [
      "\r84%"
     ]
    },
    {
     "name": "stdout",
     "output_type": "stream",
     "text": [
      "\r84%"
     ]
    },
    {
     "name": "stdout",
     "output_type": "stream",
     "text": [
      "\r84%"
     ]
    },
    {
     "name": "stdout",
     "output_type": "stream",
     "text": [
      "\r85%"
     ]
    },
    {
     "name": "stdout",
     "output_type": "stream",
     "text": [
      "\r85%"
     ]
    },
    {
     "name": "stdout",
     "output_type": "stream",
     "text": [
      "\r85%"
     ]
    },
    {
     "name": "stdout",
     "output_type": "stream",
     "text": [
      "\r86%"
     ]
    },
    {
     "name": "stdout",
     "output_type": "stream",
     "text": [
      "\r86%"
     ]
    },
    {
     "name": "stdout",
     "output_type": "stream",
     "text": [
      "\r86%"
     ]
    },
    {
     "name": "stdout",
     "output_type": "stream",
     "text": [
      "\r86%"
     ]
    },
    {
     "name": "stdout",
     "output_type": "stream",
     "text": [
      "\r87%"
     ]
    },
    {
     "name": "stdout",
     "output_type": "stream",
     "text": [
      "\r87%"
     ]
    },
    {
     "name": "stdout",
     "output_type": "stream",
     "text": [
      "\r87%"
     ]
    },
    {
     "name": "stdout",
     "output_type": "stream",
     "text": [
      "\r87%"
     ]
    },
    {
     "name": "stdout",
     "output_type": "stream",
     "text": [
      "\r88%"
     ]
    },
    {
     "name": "stdout",
     "output_type": "stream",
     "text": [
      "\r88%"
     ]
    },
    {
     "name": "stdout",
     "output_type": "stream",
     "text": [
      "\r88%"
     ]
    },
    {
     "name": "stdout",
     "output_type": "stream",
     "text": [
      "\r89%"
     ]
    },
    {
     "name": "stdout",
     "output_type": "stream",
     "text": [
      "\r89%"
     ]
    },
    {
     "name": "stdout",
     "output_type": "stream",
     "text": [
      "\r89%"
     ]
    },
    {
     "name": "stdout",
     "output_type": "stream",
     "text": [
      "\r89%"
     ]
    },
    {
     "name": "stdout",
     "output_type": "stream",
     "text": [
      "\r90%"
     ]
    },
    {
     "name": "stdout",
     "output_type": "stream",
     "text": [
      "\r90%"
     ]
    },
    {
     "name": "stdout",
     "output_type": "stream",
     "text": [
      "\r90%"
     ]
    },
    {
     "name": "stdout",
     "output_type": "stream",
     "text": [
      "\r90%"
     ]
    },
    {
     "name": "stdout",
     "output_type": "stream",
     "text": [
      "\r91%"
     ]
    },
    {
     "name": "stdout",
     "output_type": "stream",
     "text": [
      "\r91%"
     ]
    },
    {
     "name": "stdout",
     "output_type": "stream",
     "text": [
      "\r91%"
     ]
    },
    {
     "name": "stdout",
     "output_type": "stream",
     "text": [
      "\r92%"
     ]
    },
    {
     "name": "stdout",
     "output_type": "stream",
     "text": [
      "\r92%"
     ]
    },
    {
     "name": "stdout",
     "output_type": "stream",
     "text": [
      "\r92%"
     ]
    },
    {
     "name": "stdout",
     "output_type": "stream",
     "text": [
      "\r92%"
     ]
    },
    {
     "name": "stdout",
     "output_type": "stream",
     "text": [
      "\r93%"
     ]
    },
    {
     "name": "stdout",
     "output_type": "stream",
     "text": [
      "\r93%"
     ]
    },
    {
     "name": "stdout",
     "output_type": "stream",
     "text": [
      "\r93%"
     ]
    },
    {
     "name": "stdout",
     "output_type": "stream",
     "text": [
      "\r93%"
     ]
    },
    {
     "name": "stdout",
     "output_type": "stream",
     "text": [
      "\r94%"
     ]
    },
    {
     "name": "stdout",
     "output_type": "stream",
     "text": [
      "\r94%"
     ]
    },
    {
     "name": "stdout",
     "output_type": "stream",
     "text": [
      "\r94%"
     ]
    },
    {
     "name": "stdout",
     "output_type": "stream",
     "text": [
      "\r95%"
     ]
    },
    {
     "name": "stdout",
     "output_type": "stream",
     "text": [
      "\r95%"
     ]
    },
    {
     "name": "stdout",
     "output_type": "stream",
     "text": [
      "\r95%"
     ]
    },
    {
     "name": "stdout",
     "output_type": "stream",
     "text": [
      "\r95%"
     ]
    },
    {
     "name": "stdout",
     "output_type": "stream",
     "text": [
      "\r96%"
     ]
    },
    {
     "name": "stdout",
     "output_type": "stream",
     "text": [
      "\r96%"
     ]
    },
    {
     "name": "stdout",
     "output_type": "stream",
     "text": [
      "\r96%"
     ]
    },
    {
     "name": "stdout",
     "output_type": "stream",
     "text": [
      "\r96%"
     ]
    },
    {
     "name": "stdout",
     "output_type": "stream",
     "text": [
      "\r97%"
     ]
    },
    {
     "name": "stdout",
     "output_type": "stream",
     "text": [
      "\r97%"
     ]
    },
    {
     "name": "stdout",
     "output_type": "stream",
     "text": [
      "\r97%"
     ]
    },
    {
     "name": "stdout",
     "output_type": "stream",
     "text": [
      "\r98%"
     ]
    },
    {
     "name": "stdout",
     "output_type": "stream",
     "text": [
      "\r98%"
     ]
    },
    {
     "name": "stdout",
     "output_type": "stream",
     "text": [
      "\r98%"
     ]
    },
    {
     "name": "stdout",
     "output_type": "stream",
     "text": [
      "\r98%"
     ]
    },
    {
     "name": "stdout",
     "output_type": "stream",
     "text": [
      "\r99%"
     ]
    },
    {
     "name": "stdout",
     "output_type": "stream",
     "text": [
      "\r99%"
     ]
    },
    {
     "name": "stdout",
     "output_type": "stream",
     "text": [
      "\r99%"
     ]
    },
    {
     "name": "stdout",
     "output_type": "stream",
     "text": [
      "\r9 훈련 MSE: 0.04263062\n"
     ]
    }
   ],
   "source": [
    "n_epochs = 10\n",
    "batch_size = 150\n",
    "\n",
    "with tf.Session() as sess:\n",
    "    init.run()\n",
    "    \n",
    "    for epoch in range(n_epochs):\n",
    "        n_batches = len(X_train) // batch_size\n",
    "        \n",
    "        for iteration in range(n_batches):\n",
    "            print(\"\\r{}%\".format(100 * iteration // n_batches), end=\"\")\n",
    "            sys.stdout.flush()\n",
    "            X_batch, y_batch = next(utils.shuffle_batch(X_train, y_train, batch_size))\n",
    "            sess.run(training_op, feed_dict={X: X_batch})\n",
    "            \n",
    "        loss_train = reconstruction_loss.eval(feed_dict={X: X_batch})\n",
    "        print(\"\\r{}\".format(epoch), \"훈련 MSE:\", loss_train)\n",
    "        utils.save_tf(sess, \"note/stacked_denoising_gaussian/model\", root_path=ROOT_PATH)"
   ]
  },
  {
   "cell_type": "code",
   "execution_count": 10,
   "metadata": {},
   "outputs": [],
   "source": [
    "# 드롭아웃 사용\n",
    "utils.reset_graph()\n",
    "\n",
    "n_inputs = 28 * 28\n",
    "n_hiddens = [300, 150, 300]\n",
    "n_outputs = n_inputs\n",
    "\n",
    "learning_rate = 0.01"
   ]
  },
  {
   "cell_type": "code",
   "execution_count": 11,
   "metadata": {},
   "outputs": [],
   "source": [
    "dropout_rate = 0.3\n",
    "\n",
    "training = tf.placeholder_with_default(False, shape=(), name='training')\n",
    "\n",
    "X = tf.placeholder(tf.float32, shape=[None, n_inputs])\n",
    "X_drop = tf.layers.dropout(X, dropout_rate, training=training)\n",
    "\n",
    "hidden1 = tf.layers.dense(X_drop, n_hiddens[0], activation=tf.nn.relu,\n",
    "                          name=\"hidden1\")\n",
    "hidden2 = tf.layers.dense(hidden1, n_hiddens[1], activation=tf.nn.relu, # 책에는 없음\n",
    "                          name=\"hidden2\")                            # 책에는 없음\n",
    "hidden3 = tf.layers.dense(hidden2, n_hiddens[2], activation=tf.nn.relu, # 책에는 없음\n",
    "                          name=\"hidden3\")                            # 책에는 없음\n",
    "outputs = tf.layers.dense(hidden3, n_outputs, name=\"outputs\")        # 책에는 없음\n",
    "\n",
    "reconstruction_loss = tf.reduce_mean(tf.square(outputs - X)) # MSE"
   ]
  },
  {
   "cell_type": "code",
   "execution_count": 12,
   "metadata": {},
   "outputs": [],
   "source": [
    "optimizer = tf.train.AdamOptimizer(learning_rate)\n",
    "training_op = optimizer.minimize(reconstruction_loss)\n",
    "    \n",
    "init = tf.global_variables_initializer()"
   ]
  },
  {
   "cell_type": "code",
   "execution_count": null,
   "metadata": {},
   "outputs": [
    {
     "name": "stdout",
     "output_type": "stream",
     "text": [
      "\r0%"
     ]
    },
    {
     "name": "stdout",
     "output_type": "stream",
     "text": [
      "\r0%"
     ]
    },
    {
     "name": "stdout",
     "output_type": "stream",
     "text": [
      "\r0%"
     ]
    },
    {
     "name": "stdout",
     "output_type": "stream",
     "text": [
      "\r0%"
     ]
    },
    {
     "name": "stdout",
     "output_type": "stream",
     "text": [
      "\r1%"
     ]
    },
    {
     "name": "stdout",
     "output_type": "stream",
     "text": [
      "\r1%"
     ]
    },
    {
     "name": "stdout",
     "output_type": "stream",
     "text": [
      "\r1%"
     ]
    },
    {
     "name": "stdout",
     "output_type": "stream",
     "text": [
      "\r1%"
     ]
    },
    {
     "name": "stdout",
     "output_type": "stream",
     "text": [
      "\r2%"
     ]
    },
    {
     "name": "stdout",
     "output_type": "stream",
     "text": [
      "\r2%"
     ]
    },
    {
     "name": "stdout",
     "output_type": "stream",
     "text": [
      "\r2%"
     ]
    },
    {
     "name": "stdout",
     "output_type": "stream",
     "text": [
      "\r3%"
     ]
    },
    {
     "name": "stdout",
     "output_type": "stream",
     "text": [
      "\r3%"
     ]
    },
    {
     "name": "stdout",
     "output_type": "stream",
     "text": [
      "\r3%"
     ]
    },
    {
     "name": "stdout",
     "output_type": "stream",
     "text": [
      "\r3%"
     ]
    },
    {
     "name": "stdout",
     "output_type": "stream",
     "text": [
      "\r4%"
     ]
    },
    {
     "name": "stdout",
     "output_type": "stream",
     "text": [
      "\r4%"
     ]
    },
    {
     "name": "stdout",
     "output_type": "stream",
     "text": [
      "\r4%"
     ]
    },
    {
     "name": "stdout",
     "output_type": "stream",
     "text": [
      "\r4%"
     ]
    },
    {
     "name": "stdout",
     "output_type": "stream",
     "text": [
      "\r5%"
     ]
    },
    {
     "name": "stdout",
     "output_type": "stream",
     "text": [
      "\r5%"
     ]
    },
    {
     "name": "stdout",
     "output_type": "stream",
     "text": [
      "\r5%"
     ]
    },
    {
     "name": "stdout",
     "output_type": "stream",
     "text": [
      "\r6%"
     ]
    },
    {
     "name": "stdout",
     "output_type": "stream",
     "text": [
      "\r6%"
     ]
    },
    {
     "name": "stdout",
     "output_type": "stream",
     "text": [
      "\r6%"
     ]
    },
    {
     "name": "stdout",
     "output_type": "stream",
     "text": [
      "\r6%"
     ]
    },
    {
     "name": "stdout",
     "output_type": "stream",
     "text": [
      "\r7%"
     ]
    },
    {
     "name": "stdout",
     "output_type": "stream",
     "text": [
      "\r7%"
     ]
    },
    {
     "name": "stdout",
     "output_type": "stream",
     "text": [
      "\r7%"
     ]
    },
    {
     "name": "stdout",
     "output_type": "stream",
     "text": [
      "\r7%"
     ]
    },
    {
     "name": "stdout",
     "output_type": "stream",
     "text": [
      "\r8%"
     ]
    },
    {
     "name": "stdout",
     "output_type": "stream",
     "text": [
      "\r8%"
     ]
    },
    {
     "name": "stdout",
     "output_type": "stream",
     "text": [
      "\r8%"
     ]
    },
    {
     "name": "stdout",
     "output_type": "stream",
     "text": [
      "\r9%"
     ]
    },
    {
     "name": "stdout",
     "output_type": "stream",
     "text": [
      "\r9%"
     ]
    },
    {
     "name": "stdout",
     "output_type": "stream",
     "text": [
      "\r9%"
     ]
    },
    {
     "name": "stdout",
     "output_type": "stream",
     "text": [
      "\r9%"
     ]
    },
    {
     "name": "stdout",
     "output_type": "stream",
     "text": [
      "\r10%"
     ]
    },
    {
     "name": "stdout",
     "output_type": "stream",
     "text": [
      "\r10%"
     ]
    },
    {
     "name": "stdout",
     "output_type": "stream",
     "text": [
      "\r10%"
     ]
    },
    {
     "name": "stdout",
     "output_type": "stream",
     "text": [
      "\r10%"
     ]
    },
    {
     "name": "stdout",
     "output_type": "stream",
     "text": [
      "\r11%"
     ]
    },
    {
     "name": "stdout",
     "output_type": "stream",
     "text": [
      "\r11%"
     ]
    },
    {
     "name": "stdout",
     "output_type": "stream",
     "text": [
      "\r11%"
     ]
    },
    {
     "name": "stdout",
     "output_type": "stream",
     "text": [
      "\r12%"
     ]
    },
    {
     "name": "stdout",
     "output_type": "stream",
     "text": [
      "\r12%"
     ]
    },
    {
     "name": "stdout",
     "output_type": "stream",
     "text": [
      "\r12%"
     ]
    },
    {
     "name": "stdout",
     "output_type": "stream",
     "text": [
      "\r12%"
     ]
    },
    {
     "name": "stdout",
     "output_type": "stream",
     "text": [
      "\r13%"
     ]
    },
    {
     "name": "stdout",
     "output_type": "stream",
     "text": [
      "\r13%"
     ]
    },
    {
     "name": "stdout",
     "output_type": "stream",
     "text": [
      "\r13%"
     ]
    },
    {
     "name": "stdout",
     "output_type": "stream",
     "text": [
      "\r13%"
     ]
    },
    {
     "name": "stdout",
     "output_type": "stream",
     "text": [
      "\r14%"
     ]
    },
    {
     "name": "stdout",
     "output_type": "stream",
     "text": [
      "\r14%"
     ]
    },
    {
     "name": "stdout",
     "output_type": "stream",
     "text": [
      "\r14%"
     ]
    },
    {
     "name": "stdout",
     "output_type": "stream",
     "text": [
      "\r15%"
     ]
    },
    {
     "name": "stdout",
     "output_type": "stream",
     "text": [
      "\r15%"
     ]
    },
    {
     "name": "stdout",
     "output_type": "stream",
     "text": [
      "\r15%"
     ]
    },
    {
     "name": "stdout",
     "output_type": "stream",
     "text": [
      "\r15%"
     ]
    },
    {
     "name": "stdout",
     "output_type": "stream",
     "text": [
      "\r16%"
     ]
    },
    {
     "name": "stdout",
     "output_type": "stream",
     "text": [
      "\r16%"
     ]
    },
    {
     "name": "stdout",
     "output_type": "stream",
     "text": [
      "\r16%"
     ]
    },
    {
     "name": "stdout",
     "output_type": "stream",
     "text": [
      "\r16%"
     ]
    },
    {
     "name": "stdout",
     "output_type": "stream",
     "text": [
      "\r17%"
     ]
    },
    {
     "name": "stdout",
     "output_type": "stream",
     "text": [
      "\r17%"
     ]
    },
    {
     "name": "stdout",
     "output_type": "stream",
     "text": [
      "\r17%"
     ]
    },
    {
     "name": "stdout",
     "output_type": "stream",
     "text": [
      "\r18%"
     ]
    },
    {
     "name": "stdout",
     "output_type": "stream",
     "text": [
      "\r18%"
     ]
    },
    {
     "name": "stdout",
     "output_type": "stream",
     "text": [
      "\r18%"
     ]
    },
    {
     "name": "stdout",
     "output_type": "stream",
     "text": [
      "\r18%"
     ]
    },
    {
     "name": "stdout",
     "output_type": "stream",
     "text": [
      "\r19%"
     ]
    },
    {
     "name": "stdout",
     "output_type": "stream",
     "text": [
      "\r19%"
     ]
    },
    {
     "name": "stdout",
     "output_type": "stream",
     "text": [
      "\r19%"
     ]
    },
    {
     "name": "stdout",
     "output_type": "stream",
     "text": [
      "\r19%"
     ]
    },
    {
     "name": "stdout",
     "output_type": "stream",
     "text": [
      "\r20%"
     ]
    },
    {
     "name": "stdout",
     "output_type": "stream",
     "text": [
      "\r20%"
     ]
    },
    {
     "name": "stdout",
     "output_type": "stream",
     "text": [
      "\r20%"
     ]
    },
    {
     "name": "stdout",
     "output_type": "stream",
     "text": [
      "\r21%"
     ]
    },
    {
     "name": "stdout",
     "output_type": "stream",
     "text": [
      "\r21%"
     ]
    },
    {
     "name": "stdout",
     "output_type": "stream",
     "text": [
      "\r21%"
     ]
    },
    {
     "name": "stdout",
     "output_type": "stream",
     "text": [
      "\r21%"
     ]
    },
    {
     "name": "stdout",
     "output_type": "stream",
     "text": [
      "\r22%"
     ]
    },
    {
     "name": "stdout",
     "output_type": "stream",
     "text": [
      "\r22%"
     ]
    },
    {
     "name": "stdout",
     "output_type": "stream",
     "text": [
      "\r22%"
     ]
    },
    {
     "name": "stdout",
     "output_type": "stream",
     "text": [
      "\r22%"
     ]
    },
    {
     "name": "stdout",
     "output_type": "stream",
     "text": [
      "\r23%"
     ]
    },
    {
     "name": "stdout",
     "output_type": "stream",
     "text": [
      "\r23%"
     ]
    },
    {
     "name": "stdout",
     "output_type": "stream",
     "text": [
      "\r23%"
     ]
    },
    {
     "name": "stdout",
     "output_type": "stream",
     "text": [
      "\r24%"
     ]
    },
    {
     "name": "stdout",
     "output_type": "stream",
     "text": [
      "\r24%"
     ]
    },
    {
     "name": "stdout",
     "output_type": "stream",
     "text": [
      "\r24%"
     ]
    },
    {
     "name": "stdout",
     "output_type": "stream",
     "text": [
      "\r24%"
     ]
    },
    {
     "name": "stdout",
     "output_type": "stream",
     "text": [
      "\r25%"
     ]
    },
    {
     "name": "stdout",
     "output_type": "stream",
     "text": [
      "\r25%"
     ]
    },
    {
     "name": "stdout",
     "output_type": "stream",
     "text": [
      "\r25%"
     ]
    },
    {
     "name": "stdout",
     "output_type": "stream",
     "text": [
      "\r25%"
     ]
    },
    {
     "name": "stdout",
     "output_type": "stream",
     "text": [
      "\r26%"
     ]
    },
    {
     "name": "stdout",
     "output_type": "stream",
     "text": [
      "\r26%"
     ]
    },
    {
     "name": "stdout",
     "output_type": "stream",
     "text": [
      "\r26%"
     ]
    },
    {
     "name": "stdout",
     "output_type": "stream",
     "text": [
      "\r27%"
     ]
    },
    {
     "name": "stdout",
     "output_type": "stream",
     "text": [
      "\r27%"
     ]
    },
    {
     "name": "stdout",
     "output_type": "stream",
     "text": [
      "\r27%"
     ]
    },
    {
     "name": "stdout",
     "output_type": "stream",
     "text": [
      "\r27%"
     ]
    },
    {
     "name": "stdout",
     "output_type": "stream",
     "text": [
      "\r28%"
     ]
    },
    {
     "name": "stdout",
     "output_type": "stream",
     "text": [
      "\r28%"
     ]
    },
    {
     "name": "stdout",
     "output_type": "stream",
     "text": [
      "\r28%"
     ]
    },
    {
     "name": "stdout",
     "output_type": "stream",
     "text": [
      "\r28%"
     ]
    },
    {
     "name": "stdout",
     "output_type": "stream",
     "text": [
      "\r29%"
     ]
    },
    {
     "name": "stdout",
     "output_type": "stream",
     "text": [
      "\r29%"
     ]
    },
    {
     "name": "stdout",
     "output_type": "stream",
     "text": [
      "\r29%"
     ]
    },
    {
     "name": "stdout",
     "output_type": "stream",
     "text": [
      "\r30%"
     ]
    },
    {
     "name": "stdout",
     "output_type": "stream",
     "text": [
      "\r30%"
     ]
    },
    {
     "name": "stdout",
     "output_type": "stream",
     "text": [
      "\r30%"
     ]
    },
    {
     "name": "stdout",
     "output_type": "stream",
     "text": [
      "\r30%"
     ]
    },
    {
     "name": "stdout",
     "output_type": "stream",
     "text": [
      "\r31%"
     ]
    },
    {
     "name": "stdout",
     "output_type": "stream",
     "text": [
      "\r31%"
     ]
    },
    {
     "name": "stdout",
     "output_type": "stream",
     "text": [
      "\r31%"
     ]
    },
    {
     "name": "stdout",
     "output_type": "stream",
     "text": [
      "\r31%"
     ]
    },
    {
     "name": "stdout",
     "output_type": "stream",
     "text": [
      "\r32%"
     ]
    },
    {
     "name": "stdout",
     "output_type": "stream",
     "text": [
      "\r32%"
     ]
    },
    {
     "name": "stdout",
     "output_type": "stream",
     "text": [
      "\r32%"
     ]
    },
    {
     "name": "stdout",
     "output_type": "stream",
     "text": [
      "\r33%"
     ]
    },
    {
     "name": "stdout",
     "output_type": "stream",
     "text": [
      "\r33%"
     ]
    },
    {
     "name": "stdout",
     "output_type": "stream",
     "text": [
      "\r33%"
     ]
    },
    {
     "name": "stdout",
     "output_type": "stream",
     "text": [
      "\r33%"
     ]
    },
    {
     "name": "stdout",
     "output_type": "stream",
     "text": [
      "\r34%"
     ]
    },
    {
     "name": "stdout",
     "output_type": "stream",
     "text": [
      "\r34%"
     ]
    },
    {
     "name": "stdout",
     "output_type": "stream",
     "text": [
      "\r34%"
     ]
    },
    {
     "name": "stdout",
     "output_type": "stream",
     "text": [
      "\r34%"
     ]
    },
    {
     "name": "stdout",
     "output_type": "stream",
     "text": [
      "\r35%"
     ]
    },
    {
     "name": "stdout",
     "output_type": "stream",
     "text": [
      "\r35%"
     ]
    },
    {
     "name": "stdout",
     "output_type": "stream",
     "text": [
      "\r35%"
     ]
    },
    {
     "name": "stdout",
     "output_type": "stream",
     "text": [
      "\r36%"
     ]
    },
    {
     "name": "stdout",
     "output_type": "stream",
     "text": [
      "\r36%"
     ]
    },
    {
     "name": "stdout",
     "output_type": "stream",
     "text": [
      "\r36%"
     ]
    },
    {
     "name": "stdout",
     "output_type": "stream",
     "text": [
      "\r36%"
     ]
    },
    {
     "name": "stdout",
     "output_type": "stream",
     "text": [
      "\r37%"
     ]
    },
    {
     "name": "stdout",
     "output_type": "stream",
     "text": [
      "\r37%"
     ]
    },
    {
     "name": "stdout",
     "output_type": "stream",
     "text": [
      "\r37%"
     ]
    },
    {
     "name": "stdout",
     "output_type": "stream",
     "text": [
      "\r37%"
     ]
    },
    {
     "name": "stdout",
     "output_type": "stream",
     "text": [
      "\r38%"
     ]
    },
    {
     "name": "stdout",
     "output_type": "stream",
     "text": [
      "\r38%"
     ]
    },
    {
     "name": "stdout",
     "output_type": "stream",
     "text": [
      "\r38%"
     ]
    },
    {
     "name": "stdout",
     "output_type": "stream",
     "text": [
      "\r39%"
     ]
    },
    {
     "name": "stdout",
     "output_type": "stream",
     "text": [
      "\r39%"
     ]
    },
    {
     "name": "stdout",
     "output_type": "stream",
     "text": [
      "\r39%"
     ]
    },
    {
     "name": "stdout",
     "output_type": "stream",
     "text": [
      "\r39%"
     ]
    },
    {
     "name": "stdout",
     "output_type": "stream",
     "text": [
      "\r40%"
     ]
    },
    {
     "name": "stdout",
     "output_type": "stream",
     "text": [
      "\r40%"
     ]
    },
    {
     "name": "stdout",
     "output_type": "stream",
     "text": [
      "\r40%"
     ]
    },
    {
     "name": "stdout",
     "output_type": "stream",
     "text": [
      "\r40%"
     ]
    },
    {
     "name": "stdout",
     "output_type": "stream",
     "text": [
      "\r41%"
     ]
    },
    {
     "name": "stdout",
     "output_type": "stream",
     "text": [
      "\r41%"
     ]
    },
    {
     "name": "stdout",
     "output_type": "stream",
     "text": [
      "\r41%"
     ]
    },
    {
     "name": "stdout",
     "output_type": "stream",
     "text": [
      "\r42%"
     ]
    },
    {
     "name": "stdout",
     "output_type": "stream",
     "text": [
      "\r42%"
     ]
    },
    {
     "name": "stdout",
     "output_type": "stream",
     "text": [
      "\r42%"
     ]
    },
    {
     "name": "stdout",
     "output_type": "stream",
     "text": [
      "\r42%"
     ]
    },
    {
     "name": "stdout",
     "output_type": "stream",
     "text": [
      "\r43%"
     ]
    },
    {
     "name": "stdout",
     "output_type": "stream",
     "text": [
      "\r43%"
     ]
    },
    {
     "name": "stdout",
     "output_type": "stream",
     "text": [
      "\r43%"
     ]
    },
    {
     "name": "stdout",
     "output_type": "stream",
     "text": [
      "\r43%"
     ]
    },
    {
     "name": "stdout",
     "output_type": "stream",
     "text": [
      "\r44%"
     ]
    },
    {
     "name": "stdout",
     "output_type": "stream",
     "text": [
      "\r44%"
     ]
    },
    {
     "name": "stdout",
     "output_type": "stream",
     "text": [
      "\r44%"
     ]
    },
    {
     "name": "stdout",
     "output_type": "stream",
     "text": [
      "\r45%"
     ]
    },
    {
     "name": "stdout",
     "output_type": "stream",
     "text": [
      "\r45%"
     ]
    },
    {
     "name": "stdout",
     "output_type": "stream",
     "text": [
      "\r45%"
     ]
    },
    {
     "name": "stdout",
     "output_type": "stream",
     "text": [
      "\r45%"
     ]
    },
    {
     "name": "stdout",
     "output_type": "stream",
     "text": [
      "\r46%"
     ]
    },
    {
     "name": "stdout",
     "output_type": "stream",
     "text": [
      "\r46%"
     ]
    },
    {
     "name": "stdout",
     "output_type": "stream",
     "text": [
      "\r46%"
     ]
    },
    {
     "name": "stdout",
     "output_type": "stream",
     "text": [
      "\r46%"
     ]
    },
    {
     "name": "stdout",
     "output_type": "stream",
     "text": [
      "\r47%"
     ]
    },
    {
     "name": "stdout",
     "output_type": "stream",
     "text": [
      "\r47%"
     ]
    },
    {
     "name": "stdout",
     "output_type": "stream",
     "text": [
      "\r47%"
     ]
    },
    {
     "name": "stdout",
     "output_type": "stream",
     "text": [
      "\r48%"
     ]
    },
    {
     "name": "stdout",
     "output_type": "stream",
     "text": [
      "\r48%"
     ]
    },
    {
     "name": "stdout",
     "output_type": "stream",
     "text": [
      "\r48%"
     ]
    },
    {
     "name": "stdout",
     "output_type": "stream",
     "text": [
      "\r48%"
     ]
    },
    {
     "name": "stdout",
     "output_type": "stream",
     "text": [
      "\r49%"
     ]
    },
    {
     "name": "stdout",
     "output_type": "stream",
     "text": [
      "\r49%"
     ]
    },
    {
     "name": "stdout",
     "output_type": "stream",
     "text": [
      "\r49%"
     ]
    },
    {
     "name": "stdout",
     "output_type": "stream",
     "text": [
      "\r50%"
     ]
    },
    {
     "name": "stdout",
     "output_type": "stream",
     "text": [
      "\r50%"
     ]
    },
    {
     "name": "stdout",
     "output_type": "stream",
     "text": [
      "\r50%"
     ]
    },
    {
     "name": "stdout",
     "output_type": "stream",
     "text": [
      "\r50%"
     ]
    },
    {
     "name": "stdout",
     "output_type": "stream",
     "text": [
      "\r51%"
     ]
    },
    {
     "name": "stdout",
     "output_type": "stream",
     "text": [
      "\r51%"
     ]
    },
    {
     "name": "stdout",
     "output_type": "stream",
     "text": [
      "\r51%"
     ]
    },
    {
     "name": "stdout",
     "output_type": "stream",
     "text": [
      "\r51%"
     ]
    },
    {
     "name": "stdout",
     "output_type": "stream",
     "text": [
      "\r52%"
     ]
    },
    {
     "name": "stdout",
     "output_type": "stream",
     "text": [
      "\r52%"
     ]
    },
    {
     "name": "stdout",
     "output_type": "stream",
     "text": [
      "\r52%"
     ]
    },
    {
     "name": "stdout",
     "output_type": "stream",
     "text": [
      "\r53%"
     ]
    },
    {
     "name": "stdout",
     "output_type": "stream",
     "text": [
      "\r53%"
     ]
    },
    {
     "name": "stdout",
     "output_type": "stream",
     "text": [
      "\r53%"
     ]
    },
    {
     "name": "stdout",
     "output_type": "stream",
     "text": [
      "\r53%"
     ]
    },
    {
     "name": "stdout",
     "output_type": "stream",
     "text": [
      "\r54%"
     ]
    },
    {
     "name": "stdout",
     "output_type": "stream",
     "text": [
      "\r54%"
     ]
    },
    {
     "name": "stdout",
     "output_type": "stream",
     "text": [
      "\r54%"
     ]
    },
    {
     "name": "stdout",
     "output_type": "stream",
     "text": [
      "\r54%"
     ]
    },
    {
     "name": "stdout",
     "output_type": "stream",
     "text": [
      "\r55%"
     ]
    },
    {
     "name": "stdout",
     "output_type": "stream",
     "text": [
      "\r55%"
     ]
    },
    {
     "name": "stdout",
     "output_type": "stream",
     "text": [
      "\r55%"
     ]
    },
    {
     "name": "stdout",
     "output_type": "stream",
     "text": [
      "\r56%"
     ]
    },
    {
     "name": "stdout",
     "output_type": "stream",
     "text": [
      "\r56%"
     ]
    },
    {
     "name": "stdout",
     "output_type": "stream",
     "text": [
      "\r56%"
     ]
    },
    {
     "name": "stdout",
     "output_type": "stream",
     "text": [
      "\r56%"
     ]
    },
    {
     "name": "stdout",
     "output_type": "stream",
     "text": [
      "\r57%"
     ]
    },
    {
     "name": "stdout",
     "output_type": "stream",
     "text": [
      "\r57%"
     ]
    },
    {
     "name": "stdout",
     "output_type": "stream",
     "text": [
      "\r57%"
     ]
    },
    {
     "name": "stdout",
     "output_type": "stream",
     "text": [
      "\r57%"
     ]
    },
    {
     "name": "stdout",
     "output_type": "stream",
     "text": [
      "\r58%"
     ]
    },
    {
     "name": "stdout",
     "output_type": "stream",
     "text": [
      "\r58%"
     ]
    },
    {
     "name": "stdout",
     "output_type": "stream",
     "text": [
      "\r58%"
     ]
    },
    {
     "name": "stdout",
     "output_type": "stream",
     "text": [
      "\r59%"
     ]
    },
    {
     "name": "stdout",
     "output_type": "stream",
     "text": [
      "\r59%"
     ]
    },
    {
     "name": "stdout",
     "output_type": "stream",
     "text": [
      "\r59%"
     ]
    },
    {
     "name": "stdout",
     "output_type": "stream",
     "text": [
      "\r59%"
     ]
    },
    {
     "name": "stdout",
     "output_type": "stream",
     "text": [
      "\r60%"
     ]
    },
    {
     "name": "stdout",
     "output_type": "stream",
     "text": [
      "\r60%"
     ]
    },
    {
     "name": "stdout",
     "output_type": "stream",
     "text": [
      "\r60%"
     ]
    },
    {
     "name": "stdout",
     "output_type": "stream",
     "text": [
      "\r60%"
     ]
    },
    {
     "name": "stdout",
     "output_type": "stream",
     "text": [
      "\r61%"
     ]
    },
    {
     "name": "stdout",
     "output_type": "stream",
     "text": [
      "\r61%"
     ]
    },
    {
     "name": "stdout",
     "output_type": "stream",
     "text": [
      "\r61%"
     ]
    },
    {
     "name": "stdout",
     "output_type": "stream",
     "text": [
      "\r62%"
     ]
    },
    {
     "name": "stdout",
     "output_type": "stream",
     "text": [
      "\r62%"
     ]
    },
    {
     "name": "stdout",
     "output_type": "stream",
     "text": [
      "\r62%"
     ]
    },
    {
     "name": "stdout",
     "output_type": "stream",
     "text": [
      "\r62%"
     ]
    },
    {
     "name": "stdout",
     "output_type": "stream",
     "text": [
      "\r63%"
     ]
    },
    {
     "name": "stdout",
     "output_type": "stream",
     "text": [
      "\r63%"
     ]
    },
    {
     "name": "stdout",
     "output_type": "stream",
     "text": [
      "\r63%"
     ]
    },
    {
     "name": "stdout",
     "output_type": "stream",
     "text": [
      "\r63%"
     ]
    },
    {
     "name": "stdout",
     "output_type": "stream",
     "text": [
      "\r64%"
     ]
    },
    {
     "name": "stdout",
     "output_type": "stream",
     "text": [
      "\r64%"
     ]
    },
    {
     "name": "stdout",
     "output_type": "stream",
     "text": [
      "\r64%"
     ]
    },
    {
     "name": "stdout",
     "output_type": "stream",
     "text": [
      "\r65%"
     ]
    },
    {
     "name": "stdout",
     "output_type": "stream",
     "text": [
      "\r65%"
     ]
    },
    {
     "name": "stdout",
     "output_type": "stream",
     "text": [
      "\r65%"
     ]
    },
    {
     "name": "stdout",
     "output_type": "stream",
     "text": [
      "\r65%"
     ]
    },
    {
     "name": "stdout",
     "output_type": "stream",
     "text": [
      "\r66%"
     ]
    },
    {
     "name": "stdout",
     "output_type": "stream",
     "text": [
      "\r66%"
     ]
    },
    {
     "name": "stdout",
     "output_type": "stream",
     "text": [
      "\r66%"
     ]
    },
    {
     "name": "stdout",
     "output_type": "stream",
     "text": [
      "\r66%"
     ]
    },
    {
     "name": "stdout",
     "output_type": "stream",
     "text": [
      "\r67%"
     ]
    },
    {
     "name": "stdout",
     "output_type": "stream",
     "text": [
      "\r67%"
     ]
    },
    {
     "name": "stdout",
     "output_type": "stream",
     "text": [
      "\r67%"
     ]
    },
    {
     "name": "stdout",
     "output_type": "stream",
     "text": [
      "\r68%"
     ]
    },
    {
     "name": "stdout",
     "output_type": "stream",
     "text": [
      "\r68%"
     ]
    },
    {
     "name": "stdout",
     "output_type": "stream",
     "text": [
      "\r68%"
     ]
    },
    {
     "name": "stdout",
     "output_type": "stream",
     "text": [
      "\r68%"
     ]
    },
    {
     "name": "stdout",
     "output_type": "stream",
     "text": [
      "\r69%"
     ]
    },
    {
     "name": "stdout",
     "output_type": "stream",
     "text": [
      "\r69%"
     ]
    },
    {
     "name": "stdout",
     "output_type": "stream",
     "text": [
      "\r69%"
     ]
    },
    {
     "name": "stdout",
     "output_type": "stream",
     "text": [
      "\r69%"
     ]
    },
    {
     "name": "stdout",
     "output_type": "stream",
     "text": [
      "\r70%"
     ]
    },
    {
     "name": "stdout",
     "output_type": "stream",
     "text": [
      "\r70%"
     ]
    },
    {
     "name": "stdout",
     "output_type": "stream",
     "text": [
      "\r70%"
     ]
    },
    {
     "name": "stdout",
     "output_type": "stream",
     "text": [
      "\r71%"
     ]
    },
    {
     "name": "stdout",
     "output_type": "stream",
     "text": [
      "\r71%"
     ]
    },
    {
     "name": "stdout",
     "output_type": "stream",
     "text": [
      "\r71%"
     ]
    },
    {
     "name": "stdout",
     "output_type": "stream",
     "text": [
      "\r71%"
     ]
    },
    {
     "name": "stdout",
     "output_type": "stream",
     "text": [
      "\r72%"
     ]
    },
    {
     "name": "stdout",
     "output_type": "stream",
     "text": [
      "\r72%"
     ]
    },
    {
     "name": "stdout",
     "output_type": "stream",
     "text": [
      "\r72%"
     ]
    },
    {
     "name": "stdout",
     "output_type": "stream",
     "text": [
      "\r72%"
     ]
    },
    {
     "name": "stdout",
     "output_type": "stream",
     "text": [
      "\r73%"
     ]
    },
    {
     "name": "stdout",
     "output_type": "stream",
     "text": [
      "\r73%"
     ]
    },
    {
     "name": "stdout",
     "output_type": "stream",
     "text": [
      "\r73%"
     ]
    },
    {
     "name": "stdout",
     "output_type": "stream",
     "text": [
      "\r74%"
     ]
    },
    {
     "name": "stdout",
     "output_type": "stream",
     "text": [
      "\r74%"
     ]
    },
    {
     "name": "stdout",
     "output_type": "stream",
     "text": [
      "\r74%"
     ]
    },
    {
     "name": "stdout",
     "output_type": "stream",
     "text": [
      "\r74%"
     ]
    },
    {
     "name": "stdout",
     "output_type": "stream",
     "text": [
      "\r75%"
     ]
    },
    {
     "name": "stdout",
     "output_type": "stream",
     "text": [
      "\r75%"
     ]
    },
    {
     "name": "stdout",
     "output_type": "stream",
     "text": [
      "\r75%"
     ]
    },
    {
     "name": "stdout",
     "output_type": "stream",
     "text": [
      "\r75%"
     ]
    },
    {
     "name": "stdout",
     "output_type": "stream",
     "text": [
      "\r76%"
     ]
    },
    {
     "name": "stdout",
     "output_type": "stream",
     "text": [
      "\r76%"
     ]
    },
    {
     "name": "stdout",
     "output_type": "stream",
     "text": [
      "\r76%"
     ]
    },
    {
     "name": "stdout",
     "output_type": "stream",
     "text": [
      "\r77%"
     ]
    },
    {
     "name": "stdout",
     "output_type": "stream",
     "text": [
      "\r77%"
     ]
    },
    {
     "name": "stdout",
     "output_type": "stream",
     "text": [
      "\r77%"
     ]
    },
    {
     "name": "stdout",
     "output_type": "stream",
     "text": [
      "\r77%"
     ]
    },
    {
     "name": "stdout",
     "output_type": "stream",
     "text": [
      "\r78%"
     ]
    },
    {
     "name": "stdout",
     "output_type": "stream",
     "text": [
      "\r78%"
     ]
    },
    {
     "name": "stdout",
     "output_type": "stream",
     "text": [
      "\r78%"
     ]
    },
    {
     "name": "stdout",
     "output_type": "stream",
     "text": [
      "\r78%"
     ]
    },
    {
     "name": "stdout",
     "output_type": "stream",
     "text": [
      "\r79%"
     ]
    },
    {
     "name": "stdout",
     "output_type": "stream",
     "text": [
      "\r79%"
     ]
    },
    {
     "name": "stdout",
     "output_type": "stream",
     "text": [
      "\r79%"
     ]
    },
    {
     "name": "stdout",
     "output_type": "stream",
     "text": [
      "\r80%"
     ]
    },
    {
     "name": "stdout",
     "output_type": "stream",
     "text": [
      "\r80%"
     ]
    },
    {
     "name": "stdout",
     "output_type": "stream",
     "text": [
      "\r80%"
     ]
    },
    {
     "name": "stdout",
     "output_type": "stream",
     "text": [
      "\r80%"
     ]
    },
    {
     "name": "stdout",
     "output_type": "stream",
     "text": [
      "\r81%"
     ]
    },
    {
     "name": "stdout",
     "output_type": "stream",
     "text": [
      "\r81%"
     ]
    },
    {
     "name": "stdout",
     "output_type": "stream",
     "text": [
      "\r81%"
     ]
    },
    {
     "name": "stdout",
     "output_type": "stream",
     "text": [
      "\r81%"
     ]
    },
    {
     "name": "stdout",
     "output_type": "stream",
     "text": [
      "\r82%"
     ]
    },
    {
     "name": "stdout",
     "output_type": "stream",
     "text": [
      "\r82%"
     ]
    },
    {
     "name": "stdout",
     "output_type": "stream",
     "text": [
      "\r82%"
     ]
    },
    {
     "name": "stdout",
     "output_type": "stream",
     "text": [
      "\r83%"
     ]
    },
    {
     "name": "stdout",
     "output_type": "stream",
     "text": [
      "\r83%"
     ]
    },
    {
     "name": "stdout",
     "output_type": "stream",
     "text": [
      "\r83%"
     ]
    },
    {
     "name": "stdout",
     "output_type": "stream",
     "text": [
      "\r83%"
     ]
    },
    {
     "name": "stdout",
     "output_type": "stream",
     "text": [
      "\r84%"
     ]
    },
    {
     "name": "stdout",
     "output_type": "stream",
     "text": [
      "\r84%"
     ]
    },
    {
     "name": "stdout",
     "output_type": "stream",
     "text": [
      "\r84%"
     ]
    },
    {
     "name": "stdout",
     "output_type": "stream",
     "text": [
      "\r84%"
     ]
    },
    {
     "name": "stdout",
     "output_type": "stream",
     "text": [
      "\r85%"
     ]
    },
    {
     "name": "stdout",
     "output_type": "stream",
     "text": [
      "\r85%"
     ]
    },
    {
     "name": "stdout",
     "output_type": "stream",
     "text": [
      "\r85%"
     ]
    },
    {
     "name": "stdout",
     "output_type": "stream",
     "text": [
      "\r86%"
     ]
    },
    {
     "name": "stdout",
     "output_type": "stream",
     "text": [
      "\r86%"
     ]
    },
    {
     "name": "stdout",
     "output_type": "stream",
     "text": [
      "\r86%"
     ]
    },
    {
     "name": "stdout",
     "output_type": "stream",
     "text": [
      "\r86%"
     ]
    },
    {
     "name": "stdout",
     "output_type": "stream",
     "text": [
      "\r87%"
     ]
    },
    {
     "name": "stdout",
     "output_type": "stream",
     "text": [
      "\r87%"
     ]
    },
    {
     "name": "stdout",
     "output_type": "stream",
     "text": [
      "\r87%"
     ]
    },
    {
     "name": "stdout",
     "output_type": "stream",
     "text": [
      "\r87%"
     ]
    },
    {
     "name": "stdout",
     "output_type": "stream",
     "text": [
      "\r88%"
     ]
    },
    {
     "name": "stdout",
     "output_type": "stream",
     "text": [
      "\r88%"
     ]
    },
    {
     "name": "stdout",
     "output_type": "stream",
     "text": [
      "\r88%"
     ]
    },
    {
     "name": "stdout",
     "output_type": "stream",
     "text": [
      "\r89%"
     ]
    },
    {
     "name": "stdout",
     "output_type": "stream",
     "text": [
      "\r89%"
     ]
    },
    {
     "name": "stdout",
     "output_type": "stream",
     "text": [
      "\r89%"
     ]
    },
    {
     "name": "stdout",
     "output_type": "stream",
     "text": [
      "\r89%"
     ]
    },
    {
     "name": "stdout",
     "output_type": "stream",
     "text": [
      "\r90%"
     ]
    },
    {
     "name": "stdout",
     "output_type": "stream",
     "text": [
      "\r90%"
     ]
    },
    {
     "name": "stdout",
     "output_type": "stream",
     "text": [
      "\r90%"
     ]
    },
    {
     "name": "stdout",
     "output_type": "stream",
     "text": [
      "\r90%"
     ]
    },
    {
     "name": "stdout",
     "output_type": "stream",
     "text": [
      "\r91%"
     ]
    },
    {
     "name": "stdout",
     "output_type": "stream",
     "text": [
      "\r91%"
     ]
    },
    {
     "name": "stdout",
     "output_type": "stream",
     "text": [
      "\r91%"
     ]
    },
    {
     "name": "stdout",
     "output_type": "stream",
     "text": [
      "\r92%"
     ]
    },
    {
     "name": "stdout",
     "output_type": "stream",
     "text": [
      "\r92%"
     ]
    },
    {
     "name": "stdout",
     "output_type": "stream",
     "text": [
      "\r92%"
     ]
    },
    {
     "name": "stdout",
     "output_type": "stream",
     "text": [
      "\r92%"
     ]
    },
    {
     "name": "stdout",
     "output_type": "stream",
     "text": [
      "\r93%"
     ]
    },
    {
     "name": "stdout",
     "output_type": "stream",
     "text": [
      "\r93%"
     ]
    },
    {
     "name": "stdout",
     "output_type": "stream",
     "text": [
      "\r93%"
     ]
    },
    {
     "name": "stdout",
     "output_type": "stream",
     "text": [
      "\r93%"
     ]
    },
    {
     "name": "stdout",
     "output_type": "stream",
     "text": [
      "\r94%"
     ]
    },
    {
     "name": "stdout",
     "output_type": "stream",
     "text": [
      "\r94%"
     ]
    },
    {
     "name": "stdout",
     "output_type": "stream",
     "text": [
      "\r94%"
     ]
    },
    {
     "name": "stdout",
     "output_type": "stream",
     "text": [
      "\r95%"
     ]
    },
    {
     "name": "stdout",
     "output_type": "stream",
     "text": [
      "\r95%"
     ]
    },
    {
     "name": "stdout",
     "output_type": "stream",
     "text": [
      "\r95%"
     ]
    },
    {
     "name": "stdout",
     "output_type": "stream",
     "text": [
      "\r95%"
     ]
    },
    {
     "name": "stdout",
     "output_type": "stream",
     "text": [
      "\r96%"
     ]
    },
    {
     "name": "stdout",
     "output_type": "stream",
     "text": [
      "\r96%"
     ]
    },
    {
     "name": "stdout",
     "output_type": "stream",
     "text": [
      "\r96%"
     ]
    },
    {
     "name": "stdout",
     "output_type": "stream",
     "text": [
      "\r96%"
     ]
    },
    {
     "name": "stdout",
     "output_type": "stream",
     "text": [
      "\r97%"
     ]
    },
    {
     "name": "stdout",
     "output_type": "stream",
     "text": [
      "\r97%"
     ]
    },
    {
     "name": "stdout",
     "output_type": "stream",
     "text": [
      "\r97%"
     ]
    },
    {
     "name": "stdout",
     "output_type": "stream",
     "text": [
      "\r98%"
     ]
    },
    {
     "name": "stdout",
     "output_type": "stream",
     "text": [
      "\r98%"
     ]
    },
    {
     "name": "stdout",
     "output_type": "stream",
     "text": [
      "\r98%"
     ]
    },
    {
     "name": "stdout",
     "output_type": "stream",
     "text": [
      "\r98%"
     ]
    },
    {
     "name": "stdout",
     "output_type": "stream",
     "text": [
      "\r99%"
     ]
    },
    {
     "name": "stdout",
     "output_type": "stream",
     "text": [
      "\r99%"
     ]
    },
    {
     "name": "stdout",
     "output_type": "stream",
     "text": [
      "\r99%"
     ]
    },
    {
     "name": "stdout",
     "output_type": "stream",
     "text": [
      "\r0 훈련 MSE: 0.035083987\n"
     ]
    },
    {
     "name": "stdout",
     "output_type": "stream",
     "text": [
      "\r0%"
     ]
    },
    {
     "name": "stdout",
     "output_type": "stream",
     "text": [
      "\r0%"
     ]
    },
    {
     "name": "stdout",
     "output_type": "stream",
     "text": [
      "\r0%"
     ]
    },
    {
     "name": "stdout",
     "output_type": "stream",
     "text": [
      "\r0%"
     ]
    },
    {
     "name": "stdout",
     "output_type": "stream",
     "text": [
      "\r1%"
     ]
    },
    {
     "name": "stdout",
     "output_type": "stream",
     "text": [
      "\r1%"
     ]
    },
    {
     "name": "stdout",
     "output_type": "stream",
     "text": [
      "\r1%"
     ]
    },
    {
     "name": "stdout",
     "output_type": "stream",
     "text": [
      "\r1%"
     ]
    },
    {
     "name": "stdout",
     "output_type": "stream",
     "text": [
      "\r2%"
     ]
    },
    {
     "name": "stdout",
     "output_type": "stream",
     "text": [
      "\r2%"
     ]
    },
    {
     "name": "stdout",
     "output_type": "stream",
     "text": [
      "\r2%"
     ]
    },
    {
     "name": "stdout",
     "output_type": "stream",
     "text": [
      "\r3%"
     ]
    },
    {
     "name": "stdout",
     "output_type": "stream",
     "text": [
      "\r3%"
     ]
    },
    {
     "name": "stdout",
     "output_type": "stream",
     "text": [
      "\r3%"
     ]
    },
    {
     "name": "stdout",
     "output_type": "stream",
     "text": [
      "\r3%"
     ]
    },
    {
     "name": "stdout",
     "output_type": "stream",
     "text": [
      "\r4%"
     ]
    },
    {
     "name": "stdout",
     "output_type": "stream",
     "text": [
      "\r4%"
     ]
    },
    {
     "name": "stdout",
     "output_type": "stream",
     "text": [
      "\r4%"
     ]
    },
    {
     "name": "stdout",
     "output_type": "stream",
     "text": [
      "\r4%"
     ]
    },
    {
     "name": "stdout",
     "output_type": "stream",
     "text": [
      "\r5%"
     ]
    },
    {
     "name": "stdout",
     "output_type": "stream",
     "text": [
      "\r5%"
     ]
    },
    {
     "name": "stdout",
     "output_type": "stream",
     "text": [
      "\r5%"
     ]
    },
    {
     "name": "stdout",
     "output_type": "stream",
     "text": [
      "\r6%"
     ]
    },
    {
     "name": "stdout",
     "output_type": "stream",
     "text": [
      "\r6%"
     ]
    },
    {
     "name": "stdout",
     "output_type": "stream",
     "text": [
      "\r6%"
     ]
    },
    {
     "name": "stdout",
     "output_type": "stream",
     "text": [
      "\r6%"
     ]
    },
    {
     "name": "stdout",
     "output_type": "stream",
     "text": [
      "\r7%"
     ]
    },
    {
     "name": "stdout",
     "output_type": "stream",
     "text": [
      "\r7%"
     ]
    },
    {
     "name": "stdout",
     "output_type": "stream",
     "text": [
      "\r7%"
     ]
    },
    {
     "name": "stdout",
     "output_type": "stream",
     "text": [
      "\r7%"
     ]
    },
    {
     "name": "stdout",
     "output_type": "stream",
     "text": [
      "\r8%"
     ]
    },
    {
     "name": "stdout",
     "output_type": "stream",
     "text": [
      "\r8%"
     ]
    },
    {
     "name": "stdout",
     "output_type": "stream",
     "text": [
      "\r8%"
     ]
    },
    {
     "name": "stdout",
     "output_type": "stream",
     "text": [
      "\r9%"
     ]
    },
    {
     "name": "stdout",
     "output_type": "stream",
     "text": [
      "\r9%"
     ]
    },
    {
     "name": "stdout",
     "output_type": "stream",
     "text": [
      "\r9%"
     ]
    },
    {
     "name": "stdout",
     "output_type": "stream",
     "text": [
      "\r9%"
     ]
    },
    {
     "name": "stdout",
     "output_type": "stream",
     "text": [
      "\r10%"
     ]
    },
    {
     "name": "stdout",
     "output_type": "stream",
     "text": [
      "\r10%"
     ]
    },
    {
     "name": "stdout",
     "output_type": "stream",
     "text": [
      "\r10%"
     ]
    },
    {
     "name": "stdout",
     "output_type": "stream",
     "text": [
      "\r10%"
     ]
    },
    {
     "name": "stdout",
     "output_type": "stream",
     "text": [
      "\r11%"
     ]
    },
    {
     "name": "stdout",
     "output_type": "stream",
     "text": [
      "\r11%"
     ]
    },
    {
     "name": "stdout",
     "output_type": "stream",
     "text": [
      "\r11%"
     ]
    },
    {
     "name": "stdout",
     "output_type": "stream",
     "text": [
      "\r12%"
     ]
    },
    {
     "name": "stdout",
     "output_type": "stream",
     "text": [
      "\r12%"
     ]
    },
    {
     "name": "stdout",
     "output_type": "stream",
     "text": [
      "\r12%"
     ]
    },
    {
     "name": "stdout",
     "output_type": "stream",
     "text": [
      "\r12%"
     ]
    },
    {
     "name": "stdout",
     "output_type": "stream",
     "text": [
      "\r13%"
     ]
    },
    {
     "name": "stdout",
     "output_type": "stream",
     "text": [
      "\r13%"
     ]
    },
    {
     "name": "stdout",
     "output_type": "stream",
     "text": [
      "\r13%"
     ]
    },
    {
     "name": "stdout",
     "output_type": "stream",
     "text": [
      "\r13%"
     ]
    },
    {
     "name": "stdout",
     "output_type": "stream",
     "text": [
      "\r14%"
     ]
    },
    {
     "name": "stdout",
     "output_type": "stream",
     "text": [
      "\r14%"
     ]
    },
    {
     "name": "stdout",
     "output_type": "stream",
     "text": [
      "\r14%"
     ]
    },
    {
     "name": "stdout",
     "output_type": "stream",
     "text": [
      "\r15%"
     ]
    },
    {
     "name": "stdout",
     "output_type": "stream",
     "text": [
      "\r15%"
     ]
    },
    {
     "name": "stdout",
     "output_type": "stream",
     "text": [
      "\r15%"
     ]
    },
    {
     "name": "stdout",
     "output_type": "stream",
     "text": [
      "\r15%"
     ]
    },
    {
     "name": "stdout",
     "output_type": "stream",
     "text": [
      "\r16%"
     ]
    },
    {
     "name": "stdout",
     "output_type": "stream",
     "text": [
      "\r16%"
     ]
    },
    {
     "name": "stdout",
     "output_type": "stream",
     "text": [
      "\r16%"
     ]
    },
    {
     "name": "stdout",
     "output_type": "stream",
     "text": [
      "\r16%"
     ]
    },
    {
     "name": "stdout",
     "output_type": "stream",
     "text": [
      "\r17%"
     ]
    },
    {
     "name": "stdout",
     "output_type": "stream",
     "text": [
      "\r17%"
     ]
    },
    {
     "name": "stdout",
     "output_type": "stream",
     "text": [
      "\r17%"
     ]
    },
    {
     "name": "stdout",
     "output_type": "stream",
     "text": [
      "\r18%"
     ]
    },
    {
     "name": "stdout",
     "output_type": "stream",
     "text": [
      "\r18%"
     ]
    },
    {
     "name": "stdout",
     "output_type": "stream",
     "text": [
      "\r18%"
     ]
    },
    {
     "name": "stdout",
     "output_type": "stream",
     "text": [
      "\r18%"
     ]
    },
    {
     "name": "stdout",
     "output_type": "stream",
     "text": [
      "\r19%"
     ]
    },
    {
     "name": "stdout",
     "output_type": "stream",
     "text": [
      "\r19%"
     ]
    },
    {
     "name": "stdout",
     "output_type": "stream",
     "text": [
      "\r19%"
     ]
    },
    {
     "name": "stdout",
     "output_type": "stream",
     "text": [
      "\r19%"
     ]
    },
    {
     "name": "stdout",
     "output_type": "stream",
     "text": [
      "\r20%"
     ]
    },
    {
     "name": "stdout",
     "output_type": "stream",
     "text": [
      "\r20%"
     ]
    },
    {
     "name": "stdout",
     "output_type": "stream",
     "text": [
      "\r20%"
     ]
    },
    {
     "name": "stdout",
     "output_type": "stream",
     "text": [
      "\r21%"
     ]
    },
    {
     "name": "stdout",
     "output_type": "stream",
     "text": [
      "\r21%"
     ]
    },
    {
     "name": "stdout",
     "output_type": "stream",
     "text": [
      "\r21%"
     ]
    },
    {
     "name": "stdout",
     "output_type": "stream",
     "text": [
      "\r21%"
     ]
    },
    {
     "name": "stdout",
     "output_type": "stream",
     "text": [
      "\r22%"
     ]
    },
    {
     "name": "stdout",
     "output_type": "stream",
     "text": [
      "\r22%"
     ]
    },
    {
     "name": "stdout",
     "output_type": "stream",
     "text": [
      "\r22%"
     ]
    },
    {
     "name": "stdout",
     "output_type": "stream",
     "text": [
      "\r22%"
     ]
    },
    {
     "name": "stdout",
     "output_type": "stream",
     "text": [
      "\r23%"
     ]
    },
    {
     "name": "stdout",
     "output_type": "stream",
     "text": [
      "\r23%"
     ]
    },
    {
     "name": "stdout",
     "output_type": "stream",
     "text": [
      "\r23%"
     ]
    },
    {
     "name": "stdout",
     "output_type": "stream",
     "text": [
      "\r24%"
     ]
    },
    {
     "name": "stdout",
     "output_type": "stream",
     "text": [
      "\r24%"
     ]
    },
    {
     "name": "stdout",
     "output_type": "stream",
     "text": [
      "\r24%"
     ]
    },
    {
     "name": "stdout",
     "output_type": "stream",
     "text": [
      "\r24%"
     ]
    },
    {
     "name": "stdout",
     "output_type": "stream",
     "text": [
      "\r25%"
     ]
    },
    {
     "name": "stdout",
     "output_type": "stream",
     "text": [
      "\r25%"
     ]
    },
    {
     "name": "stdout",
     "output_type": "stream",
     "text": [
      "\r25%"
     ]
    },
    {
     "name": "stdout",
     "output_type": "stream",
     "text": [
      "\r25%"
     ]
    },
    {
     "name": "stdout",
     "output_type": "stream",
     "text": [
      "\r26%"
     ]
    },
    {
     "name": "stdout",
     "output_type": "stream",
     "text": [
      "\r26%"
     ]
    },
    {
     "name": "stdout",
     "output_type": "stream",
     "text": [
      "\r26%"
     ]
    },
    {
     "name": "stdout",
     "output_type": "stream",
     "text": [
      "\r27%"
     ]
    },
    {
     "name": "stdout",
     "output_type": "stream",
     "text": [
      "\r27%"
     ]
    },
    {
     "name": "stdout",
     "output_type": "stream",
     "text": [
      "\r27%"
     ]
    },
    {
     "name": "stdout",
     "output_type": "stream",
     "text": [
      "\r27%"
     ]
    },
    {
     "name": "stdout",
     "output_type": "stream",
     "text": [
      "\r28%"
     ]
    },
    {
     "name": "stdout",
     "output_type": "stream",
     "text": [
      "\r28%"
     ]
    },
    {
     "name": "stdout",
     "output_type": "stream",
     "text": [
      "\r28%"
     ]
    },
    {
     "name": "stdout",
     "output_type": "stream",
     "text": [
      "\r28%"
     ]
    },
    {
     "name": "stdout",
     "output_type": "stream",
     "text": [
      "\r29%"
     ]
    },
    {
     "name": "stdout",
     "output_type": "stream",
     "text": [
      "\r29%"
     ]
    },
    {
     "name": "stdout",
     "output_type": "stream",
     "text": [
      "\r29%"
     ]
    },
    {
     "name": "stdout",
     "output_type": "stream",
     "text": [
      "\r30%"
     ]
    },
    {
     "name": "stdout",
     "output_type": "stream",
     "text": [
      "\r30%"
     ]
    },
    {
     "name": "stdout",
     "output_type": "stream",
     "text": [
      "\r30%"
     ]
    },
    {
     "name": "stdout",
     "output_type": "stream",
     "text": [
      "\r30%"
     ]
    },
    {
     "name": "stdout",
     "output_type": "stream",
     "text": [
      "\r31%"
     ]
    },
    {
     "name": "stdout",
     "output_type": "stream",
     "text": [
      "\r31%"
     ]
    },
    {
     "name": "stdout",
     "output_type": "stream",
     "text": [
      "\r31%"
     ]
    },
    {
     "name": "stdout",
     "output_type": "stream",
     "text": [
      "\r31%"
     ]
    },
    {
     "name": "stdout",
     "output_type": "stream",
     "text": [
      "\r32%"
     ]
    },
    {
     "name": "stdout",
     "output_type": "stream",
     "text": [
      "\r32%"
     ]
    },
    {
     "name": "stdout",
     "output_type": "stream",
     "text": [
      "\r32%"
     ]
    },
    {
     "name": "stdout",
     "output_type": "stream",
     "text": [
      "\r33%"
     ]
    },
    {
     "name": "stdout",
     "output_type": "stream",
     "text": [
      "\r33%"
     ]
    },
    {
     "name": "stdout",
     "output_type": "stream",
     "text": [
      "\r33%"
     ]
    },
    {
     "name": "stdout",
     "output_type": "stream",
     "text": [
      "\r33%"
     ]
    },
    {
     "name": "stdout",
     "output_type": "stream",
     "text": [
      "\r34%"
     ]
    },
    {
     "name": "stdout",
     "output_type": "stream",
     "text": [
      "\r34%"
     ]
    },
    {
     "name": "stdout",
     "output_type": "stream",
     "text": [
      "\r34%"
     ]
    },
    {
     "name": "stdout",
     "output_type": "stream",
     "text": [
      "\r34%"
     ]
    },
    {
     "name": "stdout",
     "output_type": "stream",
     "text": [
      "\r35%"
     ]
    },
    {
     "name": "stdout",
     "output_type": "stream",
     "text": [
      "\r35%"
     ]
    },
    {
     "name": "stdout",
     "output_type": "stream",
     "text": [
      "\r35%"
     ]
    },
    {
     "name": "stdout",
     "output_type": "stream",
     "text": [
      "\r36%"
     ]
    },
    {
     "name": "stdout",
     "output_type": "stream",
     "text": [
      "\r36%"
     ]
    },
    {
     "name": "stdout",
     "output_type": "stream",
     "text": [
      "\r36%"
     ]
    },
    {
     "name": "stdout",
     "output_type": "stream",
     "text": [
      "\r36%"
     ]
    },
    {
     "name": "stdout",
     "output_type": "stream",
     "text": [
      "\r37%"
     ]
    },
    {
     "name": "stdout",
     "output_type": "stream",
     "text": [
      "\r37%"
     ]
    },
    {
     "name": "stdout",
     "output_type": "stream",
     "text": [
      "\r37%"
     ]
    },
    {
     "name": "stdout",
     "output_type": "stream",
     "text": [
      "\r37%"
     ]
    },
    {
     "name": "stdout",
     "output_type": "stream",
     "text": [
      "\r38%"
     ]
    },
    {
     "name": "stdout",
     "output_type": "stream",
     "text": [
      "\r38%"
     ]
    },
    {
     "name": "stdout",
     "output_type": "stream",
     "text": [
      "\r38%"
     ]
    },
    {
     "name": "stdout",
     "output_type": "stream",
     "text": [
      "\r39%"
     ]
    },
    {
     "name": "stdout",
     "output_type": "stream",
     "text": [
      "\r39%"
     ]
    },
    {
     "name": "stdout",
     "output_type": "stream",
     "text": [
      "\r39%"
     ]
    },
    {
     "name": "stdout",
     "output_type": "stream",
     "text": [
      "\r39%"
     ]
    },
    {
     "name": "stdout",
     "output_type": "stream",
     "text": [
      "\r40%"
     ]
    },
    {
     "name": "stdout",
     "output_type": "stream",
     "text": [
      "\r40%"
     ]
    },
    {
     "name": "stdout",
     "output_type": "stream",
     "text": [
      "\r40%"
     ]
    },
    {
     "name": "stdout",
     "output_type": "stream",
     "text": [
      "\r40%"
     ]
    },
    {
     "name": "stdout",
     "output_type": "stream",
     "text": [
      "\r41%"
     ]
    },
    {
     "name": "stdout",
     "output_type": "stream",
     "text": [
      "\r41%"
     ]
    },
    {
     "name": "stdout",
     "output_type": "stream",
     "text": [
      "\r41%"
     ]
    },
    {
     "name": "stdout",
     "output_type": "stream",
     "text": [
      "\r42%"
     ]
    },
    {
     "name": "stdout",
     "output_type": "stream",
     "text": [
      "\r42%"
     ]
    },
    {
     "name": "stdout",
     "output_type": "stream",
     "text": [
      "\r42%"
     ]
    },
    {
     "name": "stdout",
     "output_type": "stream",
     "text": [
      "\r42%"
     ]
    },
    {
     "name": "stdout",
     "output_type": "stream",
     "text": [
      "\r43%"
     ]
    },
    {
     "name": "stdout",
     "output_type": "stream",
     "text": [
      "\r43%"
     ]
    },
    {
     "name": "stdout",
     "output_type": "stream",
     "text": [
      "\r43%"
     ]
    },
    {
     "name": "stdout",
     "output_type": "stream",
     "text": [
      "\r43%"
     ]
    },
    {
     "name": "stdout",
     "output_type": "stream",
     "text": [
      "\r44%"
     ]
    },
    {
     "name": "stdout",
     "output_type": "stream",
     "text": [
      "\r44%"
     ]
    },
    {
     "name": "stdout",
     "output_type": "stream",
     "text": [
      "\r44%"
     ]
    },
    {
     "name": "stdout",
     "output_type": "stream",
     "text": [
      "\r45%"
     ]
    },
    {
     "name": "stdout",
     "output_type": "stream",
     "text": [
      "\r45%"
     ]
    },
    {
     "name": "stdout",
     "output_type": "stream",
     "text": [
      "\r45%"
     ]
    },
    {
     "name": "stdout",
     "output_type": "stream",
     "text": [
      "\r45%"
     ]
    },
    {
     "name": "stdout",
     "output_type": "stream",
     "text": [
      "\r46%"
     ]
    },
    {
     "name": "stdout",
     "output_type": "stream",
     "text": [
      "\r46%"
     ]
    },
    {
     "name": "stdout",
     "output_type": "stream",
     "text": [
      "\r46%"
     ]
    },
    {
     "name": "stdout",
     "output_type": "stream",
     "text": [
      "\r46%"
     ]
    },
    {
     "name": "stdout",
     "output_type": "stream",
     "text": [
      "\r47%"
     ]
    },
    {
     "name": "stdout",
     "output_type": "stream",
     "text": [
      "\r47%"
     ]
    },
    {
     "name": "stdout",
     "output_type": "stream",
     "text": [
      "\r47%"
     ]
    },
    {
     "name": "stdout",
     "output_type": "stream",
     "text": [
      "\r48%"
     ]
    },
    {
     "name": "stdout",
     "output_type": "stream",
     "text": [
      "\r48%"
     ]
    },
    {
     "name": "stdout",
     "output_type": "stream",
     "text": [
      "\r48%"
     ]
    },
    {
     "name": "stdout",
     "output_type": "stream",
     "text": [
      "\r48%"
     ]
    },
    {
     "name": "stdout",
     "output_type": "stream",
     "text": [
      "\r49%"
     ]
    },
    {
     "name": "stdout",
     "output_type": "stream",
     "text": [
      "\r49%"
     ]
    },
    {
     "name": "stdout",
     "output_type": "stream",
     "text": [
      "\r49%"
     ]
    },
    {
     "name": "stdout",
     "output_type": "stream",
     "text": [
      "\r50%"
     ]
    },
    {
     "name": "stdout",
     "output_type": "stream",
     "text": [
      "\r50%"
     ]
    },
    {
     "name": "stdout",
     "output_type": "stream",
     "text": [
      "\r50%"
     ]
    },
    {
     "name": "stdout",
     "output_type": "stream",
     "text": [
      "\r50%"
     ]
    },
    {
     "name": "stdout",
     "output_type": "stream",
     "text": [
      "\r51%"
     ]
    },
    {
     "name": "stdout",
     "output_type": "stream",
     "text": [
      "\r51%"
     ]
    },
    {
     "name": "stdout",
     "output_type": "stream",
     "text": [
      "\r51%"
     ]
    },
    {
     "name": "stdout",
     "output_type": "stream",
     "text": [
      "\r51%"
     ]
    },
    {
     "name": "stdout",
     "output_type": "stream",
     "text": [
      "\r52%"
     ]
    },
    {
     "name": "stdout",
     "output_type": "stream",
     "text": [
      "\r52%"
     ]
    },
    {
     "name": "stdout",
     "output_type": "stream",
     "text": [
      "\r52%"
     ]
    },
    {
     "name": "stdout",
     "output_type": "stream",
     "text": [
      "\r53%"
     ]
    },
    {
     "name": "stdout",
     "output_type": "stream",
     "text": [
      "\r53%"
     ]
    },
    {
     "name": "stdout",
     "output_type": "stream",
     "text": [
      "\r53%"
     ]
    },
    {
     "name": "stdout",
     "output_type": "stream",
     "text": [
      "\r53%"
     ]
    },
    {
     "name": "stdout",
     "output_type": "stream",
     "text": [
      "\r54%"
     ]
    },
    {
     "name": "stdout",
     "output_type": "stream",
     "text": [
      "\r54%"
     ]
    },
    {
     "name": "stdout",
     "output_type": "stream",
     "text": [
      "\r54%"
     ]
    },
    {
     "name": "stdout",
     "output_type": "stream",
     "text": [
      "\r54%"
     ]
    },
    {
     "name": "stdout",
     "output_type": "stream",
     "text": [
      "\r55%"
     ]
    },
    {
     "name": "stdout",
     "output_type": "stream",
     "text": [
      "\r55%"
     ]
    },
    {
     "name": "stdout",
     "output_type": "stream",
     "text": [
      "\r55%"
     ]
    },
    {
     "name": "stdout",
     "output_type": "stream",
     "text": [
      "\r56%"
     ]
    },
    {
     "name": "stdout",
     "output_type": "stream",
     "text": [
      "\r56%"
     ]
    },
    {
     "name": "stdout",
     "output_type": "stream",
     "text": [
      "\r56%"
     ]
    },
    {
     "name": "stdout",
     "output_type": "stream",
     "text": [
      "\r56%"
     ]
    },
    {
     "name": "stdout",
     "output_type": "stream",
     "text": [
      "\r57%"
     ]
    },
    {
     "name": "stdout",
     "output_type": "stream",
     "text": [
      "\r57%"
     ]
    },
    {
     "name": "stdout",
     "output_type": "stream",
     "text": [
      "\r57%"
     ]
    },
    {
     "name": "stdout",
     "output_type": "stream",
     "text": [
      "\r57%"
     ]
    },
    {
     "name": "stdout",
     "output_type": "stream",
     "text": [
      "\r58%"
     ]
    },
    {
     "name": "stdout",
     "output_type": "stream",
     "text": [
      "\r58%"
     ]
    },
    {
     "name": "stdout",
     "output_type": "stream",
     "text": [
      "\r58%"
     ]
    },
    {
     "name": "stdout",
     "output_type": "stream",
     "text": [
      "\r59%"
     ]
    },
    {
     "name": "stdout",
     "output_type": "stream",
     "text": [
      "\r59%"
     ]
    },
    {
     "name": "stdout",
     "output_type": "stream",
     "text": [
      "\r59%"
     ]
    },
    {
     "name": "stdout",
     "output_type": "stream",
     "text": [
      "\r59%"
     ]
    },
    {
     "name": "stdout",
     "output_type": "stream",
     "text": [
      "\r60%"
     ]
    },
    {
     "name": "stdout",
     "output_type": "stream",
     "text": [
      "\r60%"
     ]
    },
    {
     "name": "stdout",
     "output_type": "stream",
     "text": [
      "\r60%"
     ]
    },
    {
     "name": "stdout",
     "output_type": "stream",
     "text": [
      "\r60%"
     ]
    },
    {
     "name": "stdout",
     "output_type": "stream",
     "text": [
      "\r61%"
     ]
    },
    {
     "name": "stdout",
     "output_type": "stream",
     "text": [
      "\r61%"
     ]
    },
    {
     "name": "stdout",
     "output_type": "stream",
     "text": [
      "\r61%"
     ]
    },
    {
     "name": "stdout",
     "output_type": "stream",
     "text": [
      "\r62%"
     ]
    },
    {
     "name": "stdout",
     "output_type": "stream",
     "text": [
      "\r62%"
     ]
    },
    {
     "name": "stdout",
     "output_type": "stream",
     "text": [
      "\r62%"
     ]
    },
    {
     "name": "stdout",
     "output_type": "stream",
     "text": [
      "\r62%"
     ]
    },
    {
     "name": "stdout",
     "output_type": "stream",
     "text": [
      "\r63%"
     ]
    },
    {
     "name": "stdout",
     "output_type": "stream",
     "text": [
      "\r63%"
     ]
    },
    {
     "name": "stdout",
     "output_type": "stream",
     "text": [
      "\r63%"
     ]
    },
    {
     "name": "stdout",
     "output_type": "stream",
     "text": [
      "\r63%"
     ]
    },
    {
     "name": "stdout",
     "output_type": "stream",
     "text": [
      "\r64%"
     ]
    },
    {
     "name": "stdout",
     "output_type": "stream",
     "text": [
      "\r64%"
     ]
    },
    {
     "name": "stdout",
     "output_type": "stream",
     "text": [
      "\r64%"
     ]
    },
    {
     "name": "stdout",
     "output_type": "stream",
     "text": [
      "\r65%"
     ]
    },
    {
     "name": "stdout",
     "output_type": "stream",
     "text": [
      "\r65%"
     ]
    },
    {
     "name": "stdout",
     "output_type": "stream",
     "text": [
      "\r65%"
     ]
    },
    {
     "name": "stdout",
     "output_type": "stream",
     "text": [
      "\r65%"
     ]
    },
    {
     "name": "stdout",
     "output_type": "stream",
     "text": [
      "\r66%"
     ]
    },
    {
     "name": "stdout",
     "output_type": "stream",
     "text": [
      "\r66%"
     ]
    },
    {
     "name": "stdout",
     "output_type": "stream",
     "text": [
      "\r66%"
     ]
    },
    {
     "name": "stdout",
     "output_type": "stream",
     "text": [
      "\r66%"
     ]
    },
    {
     "name": "stdout",
     "output_type": "stream",
     "text": [
      "\r67%"
     ]
    },
    {
     "name": "stdout",
     "output_type": "stream",
     "text": [
      "\r67%"
     ]
    },
    {
     "name": "stdout",
     "output_type": "stream",
     "text": [
      "\r67%"
     ]
    },
    {
     "name": "stdout",
     "output_type": "stream",
     "text": [
      "\r68%"
     ]
    },
    {
     "name": "stdout",
     "output_type": "stream",
     "text": [
      "\r68%"
     ]
    },
    {
     "name": "stdout",
     "output_type": "stream",
     "text": [
      "\r68%"
     ]
    },
    {
     "name": "stdout",
     "output_type": "stream",
     "text": [
      "\r68%"
     ]
    },
    {
     "name": "stdout",
     "output_type": "stream",
     "text": [
      "\r69%"
     ]
    },
    {
     "name": "stdout",
     "output_type": "stream",
     "text": [
      "\r69%"
     ]
    },
    {
     "name": "stdout",
     "output_type": "stream",
     "text": [
      "\r69%"
     ]
    },
    {
     "name": "stdout",
     "output_type": "stream",
     "text": [
      "\r69%"
     ]
    },
    {
     "name": "stdout",
     "output_type": "stream",
     "text": [
      "\r70%"
     ]
    },
    {
     "name": "stdout",
     "output_type": "stream",
     "text": [
      "\r70%"
     ]
    },
    {
     "name": "stdout",
     "output_type": "stream",
     "text": [
      "\r70%"
     ]
    },
    {
     "name": "stdout",
     "output_type": "stream",
     "text": [
      "\r71%"
     ]
    },
    {
     "name": "stdout",
     "output_type": "stream",
     "text": [
      "\r71%"
     ]
    },
    {
     "name": "stdout",
     "output_type": "stream",
     "text": [
      "\r71%"
     ]
    },
    {
     "name": "stdout",
     "output_type": "stream",
     "text": [
      "\r71%"
     ]
    },
    {
     "name": "stdout",
     "output_type": "stream",
     "text": [
      "\r72%"
     ]
    },
    {
     "name": "stdout",
     "output_type": "stream",
     "text": [
      "\r72%"
     ]
    },
    {
     "name": "stdout",
     "output_type": "stream",
     "text": [
      "\r72%"
     ]
    },
    {
     "name": "stdout",
     "output_type": "stream",
     "text": [
      "\r72%"
     ]
    },
    {
     "name": "stdout",
     "output_type": "stream",
     "text": [
      "\r73%"
     ]
    },
    {
     "name": "stdout",
     "output_type": "stream",
     "text": [
      "\r73%"
     ]
    },
    {
     "name": "stdout",
     "output_type": "stream",
     "text": [
      "\r73%"
     ]
    },
    {
     "name": "stdout",
     "output_type": "stream",
     "text": [
      "\r74%"
     ]
    },
    {
     "name": "stdout",
     "output_type": "stream",
     "text": [
      "\r74%"
     ]
    },
    {
     "name": "stdout",
     "output_type": "stream",
     "text": [
      "\r74%"
     ]
    },
    {
     "name": "stdout",
     "output_type": "stream",
     "text": [
      "\r74%"
     ]
    },
    {
     "name": "stdout",
     "output_type": "stream",
     "text": [
      "\r75%"
     ]
    },
    {
     "name": "stdout",
     "output_type": "stream",
     "text": [
      "\r75%"
     ]
    },
    {
     "name": "stdout",
     "output_type": "stream",
     "text": [
      "\r75%"
     ]
    },
    {
     "name": "stdout",
     "output_type": "stream",
     "text": [
      "\r75%"
     ]
    },
    {
     "name": "stdout",
     "output_type": "stream",
     "text": [
      "\r76%"
     ]
    },
    {
     "name": "stdout",
     "output_type": "stream",
     "text": [
      "\r76%"
     ]
    },
    {
     "name": "stdout",
     "output_type": "stream",
     "text": [
      "\r76%"
     ]
    },
    {
     "name": "stdout",
     "output_type": "stream",
     "text": [
      "\r77%"
     ]
    },
    {
     "name": "stdout",
     "output_type": "stream",
     "text": [
      "\r77%"
     ]
    },
    {
     "name": "stdout",
     "output_type": "stream",
     "text": [
      "\r77%"
     ]
    },
    {
     "name": "stdout",
     "output_type": "stream",
     "text": [
      "\r77%"
     ]
    },
    {
     "name": "stdout",
     "output_type": "stream",
     "text": [
      "\r78%"
     ]
    },
    {
     "name": "stdout",
     "output_type": "stream",
     "text": [
      "\r78%"
     ]
    },
    {
     "name": "stdout",
     "output_type": "stream",
     "text": [
      "\r78%"
     ]
    },
    {
     "name": "stdout",
     "output_type": "stream",
     "text": [
      "\r78%"
     ]
    },
    {
     "name": "stdout",
     "output_type": "stream",
     "text": [
      "\r79%"
     ]
    },
    {
     "name": "stdout",
     "output_type": "stream",
     "text": [
      "\r79%"
     ]
    },
    {
     "name": "stdout",
     "output_type": "stream",
     "text": [
      "\r79%"
     ]
    },
    {
     "name": "stdout",
     "output_type": "stream",
     "text": [
      "\r80%"
     ]
    },
    {
     "name": "stdout",
     "output_type": "stream",
     "text": [
      "\r80%"
     ]
    },
    {
     "name": "stdout",
     "output_type": "stream",
     "text": [
      "\r80%"
     ]
    },
    {
     "name": "stdout",
     "output_type": "stream",
     "text": [
      "\r80%"
     ]
    },
    {
     "name": "stdout",
     "output_type": "stream",
     "text": [
      "\r81%"
     ]
    },
    {
     "name": "stdout",
     "output_type": "stream",
     "text": [
      "\r81%"
     ]
    },
    {
     "name": "stdout",
     "output_type": "stream",
     "text": [
      "\r81%"
     ]
    },
    {
     "name": "stdout",
     "output_type": "stream",
     "text": [
      "\r81%"
     ]
    },
    {
     "name": "stdout",
     "output_type": "stream",
     "text": [
      "\r82%"
     ]
    },
    {
     "name": "stdout",
     "output_type": "stream",
     "text": [
      "\r82%"
     ]
    },
    {
     "name": "stdout",
     "output_type": "stream",
     "text": [
      "\r82%"
     ]
    },
    {
     "name": "stdout",
     "output_type": "stream",
     "text": [
      "\r83%"
     ]
    },
    {
     "name": "stdout",
     "output_type": "stream",
     "text": [
      "\r83%"
     ]
    },
    {
     "name": "stdout",
     "output_type": "stream",
     "text": [
      "\r83%"
     ]
    },
    {
     "name": "stdout",
     "output_type": "stream",
     "text": [
      "\r83%"
     ]
    },
    {
     "name": "stdout",
     "output_type": "stream",
     "text": [
      "\r84%"
     ]
    },
    {
     "name": "stdout",
     "output_type": "stream",
     "text": [
      "\r84%"
     ]
    },
    {
     "name": "stdout",
     "output_type": "stream",
     "text": [
      "\r84%"
     ]
    },
    {
     "name": "stdout",
     "output_type": "stream",
     "text": [
      "\r84%"
     ]
    },
    {
     "name": "stdout",
     "output_type": "stream",
     "text": [
      "\r85%"
     ]
    },
    {
     "name": "stdout",
     "output_type": "stream",
     "text": [
      "\r85%"
     ]
    },
    {
     "name": "stdout",
     "output_type": "stream",
     "text": [
      "\r85%"
     ]
    },
    {
     "name": "stdout",
     "output_type": "stream",
     "text": [
      "\r86%"
     ]
    },
    {
     "name": "stdout",
     "output_type": "stream",
     "text": [
      "\r86%"
     ]
    },
    {
     "name": "stdout",
     "output_type": "stream",
     "text": [
      "\r86%"
     ]
    },
    {
     "name": "stdout",
     "output_type": "stream",
     "text": [
      "\r86%"
     ]
    },
    {
     "name": "stdout",
     "output_type": "stream",
     "text": [
      "\r87%"
     ]
    },
    {
     "name": "stdout",
     "output_type": "stream",
     "text": [
      "\r87%"
     ]
    },
    {
     "name": "stdout",
     "output_type": "stream",
     "text": [
      "\r87%"
     ]
    },
    {
     "name": "stdout",
     "output_type": "stream",
     "text": [
      "\r87%"
     ]
    },
    {
     "name": "stdout",
     "output_type": "stream",
     "text": [
      "\r88%"
     ]
    },
    {
     "name": "stdout",
     "output_type": "stream",
     "text": [
      "\r88%"
     ]
    },
    {
     "name": "stdout",
     "output_type": "stream",
     "text": [
      "\r88%"
     ]
    },
    {
     "name": "stdout",
     "output_type": "stream",
     "text": [
      "\r89%"
     ]
    },
    {
     "name": "stdout",
     "output_type": "stream",
     "text": [
      "\r89%"
     ]
    },
    {
     "name": "stdout",
     "output_type": "stream",
     "text": [
      "\r89%"
     ]
    },
    {
     "name": "stdout",
     "output_type": "stream",
     "text": [
      "\r89%"
     ]
    },
    {
     "name": "stdout",
     "output_type": "stream",
     "text": [
      "\r90%"
     ]
    },
    {
     "name": "stdout",
     "output_type": "stream",
     "text": [
      "\r90%"
     ]
    },
    {
     "name": "stdout",
     "output_type": "stream",
     "text": [
      "\r90%"
     ]
    },
    {
     "name": "stdout",
     "output_type": "stream",
     "text": [
      "\r90%"
     ]
    },
    {
     "name": "stdout",
     "output_type": "stream",
     "text": [
      "\r91%"
     ]
    },
    {
     "name": "stdout",
     "output_type": "stream",
     "text": [
      "\r91%"
     ]
    },
    {
     "name": "stdout",
     "output_type": "stream",
     "text": [
      "\r91%"
     ]
    },
    {
     "name": "stdout",
     "output_type": "stream",
     "text": [
      "\r92%"
     ]
    },
    {
     "name": "stdout",
     "output_type": "stream",
     "text": [
      "\r92%"
     ]
    },
    {
     "name": "stdout",
     "output_type": "stream",
     "text": [
      "\r92%"
     ]
    },
    {
     "name": "stdout",
     "output_type": "stream",
     "text": [
      "\r92%"
     ]
    },
    {
     "name": "stdout",
     "output_type": "stream",
     "text": [
      "\r93%"
     ]
    },
    {
     "name": "stdout",
     "output_type": "stream",
     "text": [
      "\r93%"
     ]
    },
    {
     "name": "stdout",
     "output_type": "stream",
     "text": [
      "\r93%"
     ]
    },
    {
     "name": "stdout",
     "output_type": "stream",
     "text": [
      "\r93%"
     ]
    },
    {
     "name": "stdout",
     "output_type": "stream",
     "text": [
      "\r94%"
     ]
    },
    {
     "name": "stdout",
     "output_type": "stream",
     "text": [
      "\r94%"
     ]
    },
    {
     "name": "stdout",
     "output_type": "stream",
     "text": [
      "\r94%"
     ]
    },
    {
     "name": "stdout",
     "output_type": "stream",
     "text": [
      "\r95%"
     ]
    },
    {
     "name": "stdout",
     "output_type": "stream",
     "text": [
      "\r95%"
     ]
    },
    {
     "name": "stdout",
     "output_type": "stream",
     "text": [
      "\r95%"
     ]
    },
    {
     "name": "stdout",
     "output_type": "stream",
     "text": [
      "\r95%"
     ]
    },
    {
     "name": "stdout",
     "output_type": "stream",
     "text": [
      "\r96%"
     ]
    },
    {
     "name": "stdout",
     "output_type": "stream",
     "text": [
      "\r96%"
     ]
    },
    {
     "name": "stdout",
     "output_type": "stream",
     "text": [
      "\r96%"
     ]
    },
    {
     "name": "stdout",
     "output_type": "stream",
     "text": [
      "\r96%"
     ]
    },
    {
     "name": "stdout",
     "output_type": "stream",
     "text": [
      "\r97%"
     ]
    },
    {
     "name": "stdout",
     "output_type": "stream",
     "text": [
      "\r97%"
     ]
    },
    {
     "name": "stdout",
     "output_type": "stream",
     "text": [
      "\r97%"
     ]
    },
    {
     "name": "stdout",
     "output_type": "stream",
     "text": [
      "\r98%"
     ]
    },
    {
     "name": "stdout",
     "output_type": "stream",
     "text": [
      "\r98%"
     ]
    },
    {
     "name": "stdout",
     "output_type": "stream",
     "text": [
      "\r98%"
     ]
    },
    {
     "name": "stdout",
     "output_type": "stream",
     "text": [
      "\r98%"
     ]
    },
    {
     "name": "stdout",
     "output_type": "stream",
     "text": [
      "\r99%"
     ]
    },
    {
     "name": "stdout",
     "output_type": "stream",
     "text": [
      "\r99%"
     ]
    },
    {
     "name": "stdout",
     "output_type": "stream",
     "text": [
      "\r99%"
     ]
    },
    {
     "name": "stdout",
     "output_type": "stream",
     "text": [
      "\r1 훈련 MSE: 0.027697109\n"
     ]
    },
    {
     "name": "stdout",
     "output_type": "stream",
     "text": [
      "\r0%"
     ]
    },
    {
     "name": "stdout",
     "output_type": "stream",
     "text": [
      "\r0%"
     ]
    },
    {
     "name": "stdout",
     "output_type": "stream",
     "text": [
      "\r0%"
     ]
    },
    {
     "name": "stdout",
     "output_type": "stream",
     "text": [
      "\r0%"
     ]
    },
    {
     "name": "stdout",
     "output_type": "stream",
     "text": [
      "\r1%"
     ]
    },
    {
     "name": "stdout",
     "output_type": "stream",
     "text": [
      "\r1%"
     ]
    },
    {
     "name": "stdout",
     "output_type": "stream",
     "text": [
      "\r1%"
     ]
    },
    {
     "name": "stdout",
     "output_type": "stream",
     "text": [
      "\r1%"
     ]
    },
    {
     "name": "stdout",
     "output_type": "stream",
     "text": [
      "\r2%"
     ]
    },
    {
     "name": "stdout",
     "output_type": "stream",
     "text": [
      "\r2%"
     ]
    },
    {
     "name": "stdout",
     "output_type": "stream",
     "text": [
      "\r2%"
     ]
    },
    {
     "name": "stdout",
     "output_type": "stream",
     "text": [
      "\r3%"
     ]
    },
    {
     "name": "stdout",
     "output_type": "stream",
     "text": [
      "\r3%"
     ]
    },
    {
     "name": "stdout",
     "output_type": "stream",
     "text": [
      "\r3%"
     ]
    },
    {
     "name": "stdout",
     "output_type": "stream",
     "text": [
      "\r3%"
     ]
    },
    {
     "name": "stdout",
     "output_type": "stream",
     "text": [
      "\r4%"
     ]
    },
    {
     "name": "stdout",
     "output_type": "stream",
     "text": [
      "\r4%"
     ]
    },
    {
     "name": "stdout",
     "output_type": "stream",
     "text": [
      "\r4%"
     ]
    },
    {
     "name": "stdout",
     "output_type": "stream",
     "text": [
      "\r4%"
     ]
    },
    {
     "name": "stdout",
     "output_type": "stream",
     "text": [
      "\r5%"
     ]
    },
    {
     "name": "stdout",
     "output_type": "stream",
     "text": [
      "\r5%"
     ]
    },
    {
     "name": "stdout",
     "output_type": "stream",
     "text": [
      "\r5%"
     ]
    },
    {
     "name": "stdout",
     "output_type": "stream",
     "text": [
      "\r6%"
     ]
    },
    {
     "name": "stdout",
     "output_type": "stream",
     "text": [
      "\r6%"
     ]
    },
    {
     "name": "stdout",
     "output_type": "stream",
     "text": [
      "\r6%"
     ]
    },
    {
     "name": "stdout",
     "output_type": "stream",
     "text": [
      "\r6%"
     ]
    },
    {
     "name": "stdout",
     "output_type": "stream",
     "text": [
      "\r7%"
     ]
    },
    {
     "name": "stdout",
     "output_type": "stream",
     "text": [
      "\r7%"
     ]
    },
    {
     "name": "stdout",
     "output_type": "stream",
     "text": [
      "\r7%"
     ]
    },
    {
     "name": "stdout",
     "output_type": "stream",
     "text": [
      "\r7%"
     ]
    },
    {
     "name": "stdout",
     "output_type": "stream",
     "text": [
      "\r8%"
     ]
    },
    {
     "name": "stdout",
     "output_type": "stream",
     "text": [
      "\r8%"
     ]
    },
    {
     "name": "stdout",
     "output_type": "stream",
     "text": [
      "\r8%"
     ]
    },
    {
     "name": "stdout",
     "output_type": "stream",
     "text": [
      "\r9%"
     ]
    },
    {
     "name": "stdout",
     "output_type": "stream",
     "text": [
      "\r9%"
     ]
    },
    {
     "name": "stdout",
     "output_type": "stream",
     "text": [
      "\r9%"
     ]
    },
    {
     "name": "stdout",
     "output_type": "stream",
     "text": [
      "\r9%"
     ]
    },
    {
     "name": "stdout",
     "output_type": "stream",
     "text": [
      "\r10%"
     ]
    },
    {
     "name": "stdout",
     "output_type": "stream",
     "text": [
      "\r10%"
     ]
    },
    {
     "name": "stdout",
     "output_type": "stream",
     "text": [
      "\r10%"
     ]
    },
    {
     "name": "stdout",
     "output_type": "stream",
     "text": [
      "\r10%"
     ]
    },
    {
     "name": "stdout",
     "output_type": "stream",
     "text": [
      "\r11%"
     ]
    },
    {
     "name": "stdout",
     "output_type": "stream",
     "text": [
      "\r11%"
     ]
    },
    {
     "name": "stdout",
     "output_type": "stream",
     "text": [
      "\r11%"
     ]
    },
    {
     "name": "stdout",
     "output_type": "stream",
     "text": [
      "\r12%"
     ]
    },
    {
     "name": "stdout",
     "output_type": "stream",
     "text": [
      "\r12%"
     ]
    },
    {
     "name": "stdout",
     "output_type": "stream",
     "text": [
      "\r12%"
     ]
    },
    {
     "name": "stdout",
     "output_type": "stream",
     "text": [
      "\r12%"
     ]
    },
    {
     "name": "stdout",
     "output_type": "stream",
     "text": [
      "\r13%"
     ]
    },
    {
     "name": "stdout",
     "output_type": "stream",
     "text": [
      "\r13%"
     ]
    },
    {
     "name": "stdout",
     "output_type": "stream",
     "text": [
      "\r13%"
     ]
    },
    {
     "name": "stdout",
     "output_type": "stream",
     "text": [
      "\r13%"
     ]
    },
    {
     "name": "stdout",
     "output_type": "stream",
     "text": [
      "\r14%"
     ]
    },
    {
     "name": "stdout",
     "output_type": "stream",
     "text": [
      "\r14%"
     ]
    },
    {
     "name": "stdout",
     "output_type": "stream",
     "text": [
      "\r14%"
     ]
    },
    {
     "name": "stdout",
     "output_type": "stream",
     "text": [
      "\r15%"
     ]
    },
    {
     "name": "stdout",
     "output_type": "stream",
     "text": [
      "\r15%"
     ]
    },
    {
     "name": "stdout",
     "output_type": "stream",
     "text": [
      "\r15%"
     ]
    },
    {
     "name": "stdout",
     "output_type": "stream",
     "text": [
      "\r15%"
     ]
    },
    {
     "name": "stdout",
     "output_type": "stream",
     "text": [
      "\r16%"
     ]
    },
    {
     "name": "stdout",
     "output_type": "stream",
     "text": [
      "\r16%"
     ]
    },
    {
     "name": "stdout",
     "output_type": "stream",
     "text": [
      "\r16%"
     ]
    },
    {
     "name": "stdout",
     "output_type": "stream",
     "text": [
      "\r16%"
     ]
    },
    {
     "name": "stdout",
     "output_type": "stream",
     "text": [
      "\r17%"
     ]
    },
    {
     "name": "stdout",
     "output_type": "stream",
     "text": [
      "\r17%"
     ]
    },
    {
     "name": "stdout",
     "output_type": "stream",
     "text": [
      "\r17%"
     ]
    },
    {
     "name": "stdout",
     "output_type": "stream",
     "text": [
      "\r18%"
     ]
    },
    {
     "name": "stdout",
     "output_type": "stream",
     "text": [
      "\r18%"
     ]
    },
    {
     "name": "stdout",
     "output_type": "stream",
     "text": [
      "\r18%"
     ]
    },
    {
     "name": "stdout",
     "output_type": "stream",
     "text": [
      "\r18%"
     ]
    },
    {
     "name": "stdout",
     "output_type": "stream",
     "text": [
      "\r19%"
     ]
    },
    {
     "name": "stdout",
     "output_type": "stream",
     "text": [
      "\r19%"
     ]
    },
    {
     "name": "stdout",
     "output_type": "stream",
     "text": [
      "\r19%"
     ]
    },
    {
     "name": "stdout",
     "output_type": "stream",
     "text": [
      "\r19%"
     ]
    },
    {
     "name": "stdout",
     "output_type": "stream",
     "text": [
      "\r20%"
     ]
    },
    {
     "name": "stdout",
     "output_type": "stream",
     "text": [
      "\r20%"
     ]
    },
    {
     "name": "stdout",
     "output_type": "stream",
     "text": [
      "\r20%"
     ]
    },
    {
     "name": "stdout",
     "output_type": "stream",
     "text": [
      "\r21%"
     ]
    },
    {
     "name": "stdout",
     "output_type": "stream",
     "text": [
      "\r21%"
     ]
    },
    {
     "name": "stdout",
     "output_type": "stream",
     "text": [
      "\r21%"
     ]
    },
    {
     "name": "stdout",
     "output_type": "stream",
     "text": [
      "\r21%"
     ]
    },
    {
     "name": "stdout",
     "output_type": "stream",
     "text": [
      "\r22%"
     ]
    },
    {
     "name": "stdout",
     "output_type": "stream",
     "text": [
      "\r22%"
     ]
    },
    {
     "name": "stdout",
     "output_type": "stream",
     "text": [
      "\r22%"
     ]
    },
    {
     "name": "stdout",
     "output_type": "stream",
     "text": [
      "\r22%"
     ]
    },
    {
     "name": "stdout",
     "output_type": "stream",
     "text": [
      "\r23%"
     ]
    },
    {
     "name": "stdout",
     "output_type": "stream",
     "text": [
      "\r23%"
     ]
    },
    {
     "name": "stdout",
     "output_type": "stream",
     "text": [
      "\r23%"
     ]
    },
    {
     "name": "stdout",
     "output_type": "stream",
     "text": [
      "\r24%"
     ]
    },
    {
     "name": "stdout",
     "output_type": "stream",
     "text": [
      "\r24%"
     ]
    },
    {
     "name": "stdout",
     "output_type": "stream",
     "text": [
      "\r24%"
     ]
    },
    {
     "name": "stdout",
     "output_type": "stream",
     "text": [
      "\r24%"
     ]
    },
    {
     "name": "stdout",
     "output_type": "stream",
     "text": [
      "\r25%"
     ]
    },
    {
     "name": "stdout",
     "output_type": "stream",
     "text": [
      "\r25%"
     ]
    },
    {
     "name": "stdout",
     "output_type": "stream",
     "text": [
      "\r25%"
     ]
    },
    {
     "name": "stdout",
     "output_type": "stream",
     "text": [
      "\r25%"
     ]
    },
    {
     "name": "stdout",
     "output_type": "stream",
     "text": [
      "\r26%"
     ]
    },
    {
     "name": "stdout",
     "output_type": "stream",
     "text": [
      "\r26%"
     ]
    },
    {
     "name": "stdout",
     "output_type": "stream",
     "text": [
      "\r26%"
     ]
    },
    {
     "name": "stdout",
     "output_type": "stream",
     "text": [
      "\r27%"
     ]
    },
    {
     "name": "stdout",
     "output_type": "stream",
     "text": [
      "\r27%"
     ]
    },
    {
     "name": "stdout",
     "output_type": "stream",
     "text": [
      "\r27%"
     ]
    },
    {
     "name": "stdout",
     "output_type": "stream",
     "text": [
      "\r27%"
     ]
    },
    {
     "name": "stdout",
     "output_type": "stream",
     "text": [
      "\r28%"
     ]
    },
    {
     "name": "stdout",
     "output_type": "stream",
     "text": [
      "\r28%"
     ]
    },
    {
     "name": "stdout",
     "output_type": "stream",
     "text": [
      "\r28%"
     ]
    },
    {
     "name": "stdout",
     "output_type": "stream",
     "text": [
      "\r28%"
     ]
    },
    {
     "name": "stdout",
     "output_type": "stream",
     "text": [
      "\r29%"
     ]
    },
    {
     "name": "stdout",
     "output_type": "stream",
     "text": [
      "\r29%"
     ]
    },
    {
     "name": "stdout",
     "output_type": "stream",
     "text": [
      "\r29%"
     ]
    },
    {
     "name": "stdout",
     "output_type": "stream",
     "text": [
      "\r30%"
     ]
    },
    {
     "name": "stdout",
     "output_type": "stream",
     "text": [
      "\r30%"
     ]
    },
    {
     "name": "stdout",
     "output_type": "stream",
     "text": [
      "\r30%"
     ]
    },
    {
     "name": "stdout",
     "output_type": "stream",
     "text": [
      "\r30%"
     ]
    },
    {
     "name": "stdout",
     "output_type": "stream",
     "text": [
      "\r31%"
     ]
    },
    {
     "name": "stdout",
     "output_type": "stream",
     "text": [
      "\r31%"
     ]
    },
    {
     "name": "stdout",
     "output_type": "stream",
     "text": [
      "\r31%"
     ]
    },
    {
     "name": "stdout",
     "output_type": "stream",
     "text": [
      "\r31%"
     ]
    },
    {
     "name": "stdout",
     "output_type": "stream",
     "text": [
      "\r32%"
     ]
    },
    {
     "name": "stdout",
     "output_type": "stream",
     "text": [
      "\r32%"
     ]
    },
    {
     "name": "stdout",
     "output_type": "stream",
     "text": [
      "\r32%"
     ]
    },
    {
     "name": "stdout",
     "output_type": "stream",
     "text": [
      "\r33%"
     ]
    },
    {
     "name": "stdout",
     "output_type": "stream",
     "text": [
      "\r33%"
     ]
    },
    {
     "name": "stdout",
     "output_type": "stream",
     "text": [
      "\r33%"
     ]
    },
    {
     "name": "stdout",
     "output_type": "stream",
     "text": [
      "\r33%"
     ]
    },
    {
     "name": "stdout",
     "output_type": "stream",
     "text": [
      "\r34%"
     ]
    },
    {
     "name": "stdout",
     "output_type": "stream",
     "text": [
      "\r34%"
     ]
    },
    {
     "name": "stdout",
     "output_type": "stream",
     "text": [
      "\r34%"
     ]
    },
    {
     "name": "stdout",
     "output_type": "stream",
     "text": [
      "\r34%"
     ]
    },
    {
     "name": "stdout",
     "output_type": "stream",
     "text": [
      "\r35%"
     ]
    },
    {
     "name": "stdout",
     "output_type": "stream",
     "text": [
      "\r35%"
     ]
    },
    {
     "name": "stdout",
     "output_type": "stream",
     "text": [
      "\r35%"
     ]
    },
    {
     "name": "stdout",
     "output_type": "stream",
     "text": [
      "\r36%"
     ]
    },
    {
     "name": "stdout",
     "output_type": "stream",
     "text": [
      "\r36%"
     ]
    },
    {
     "name": "stdout",
     "output_type": "stream",
     "text": [
      "\r36%"
     ]
    },
    {
     "name": "stdout",
     "output_type": "stream",
     "text": [
      "\r36%"
     ]
    },
    {
     "name": "stdout",
     "output_type": "stream",
     "text": [
      "\r37%"
     ]
    },
    {
     "name": "stdout",
     "output_type": "stream",
     "text": [
      "\r37%"
     ]
    },
    {
     "name": "stdout",
     "output_type": "stream",
     "text": [
      "\r37%"
     ]
    },
    {
     "name": "stdout",
     "output_type": "stream",
     "text": [
      "\r37%"
     ]
    },
    {
     "name": "stdout",
     "output_type": "stream",
     "text": [
      "\r38%"
     ]
    },
    {
     "name": "stdout",
     "output_type": "stream",
     "text": [
      "\r38%"
     ]
    },
    {
     "name": "stdout",
     "output_type": "stream",
     "text": [
      "\r38%"
     ]
    },
    {
     "name": "stdout",
     "output_type": "stream",
     "text": [
      "\r39%"
     ]
    },
    {
     "name": "stdout",
     "output_type": "stream",
     "text": [
      "\r39%"
     ]
    },
    {
     "name": "stdout",
     "output_type": "stream",
     "text": [
      "\r39%"
     ]
    },
    {
     "name": "stdout",
     "output_type": "stream",
     "text": [
      "\r39%"
     ]
    },
    {
     "name": "stdout",
     "output_type": "stream",
     "text": [
      "\r40%"
     ]
    },
    {
     "name": "stdout",
     "output_type": "stream",
     "text": [
      "\r40%"
     ]
    },
    {
     "name": "stdout",
     "output_type": "stream",
     "text": [
      "\r40%"
     ]
    },
    {
     "name": "stdout",
     "output_type": "stream",
     "text": [
      "\r40%"
     ]
    },
    {
     "name": "stdout",
     "output_type": "stream",
     "text": [
      "\r41%"
     ]
    },
    {
     "name": "stdout",
     "output_type": "stream",
     "text": [
      "\r41%"
     ]
    },
    {
     "name": "stdout",
     "output_type": "stream",
     "text": [
      "\r41%"
     ]
    },
    {
     "name": "stdout",
     "output_type": "stream",
     "text": [
      "\r42%"
     ]
    },
    {
     "name": "stdout",
     "output_type": "stream",
     "text": [
      "\r42%"
     ]
    },
    {
     "name": "stdout",
     "output_type": "stream",
     "text": [
      "\r42%"
     ]
    },
    {
     "name": "stdout",
     "output_type": "stream",
     "text": [
      "\r42%"
     ]
    },
    {
     "name": "stdout",
     "output_type": "stream",
     "text": [
      "\r43%"
     ]
    },
    {
     "name": "stdout",
     "output_type": "stream",
     "text": [
      "\r43%"
     ]
    },
    {
     "name": "stdout",
     "output_type": "stream",
     "text": [
      "\r43%"
     ]
    },
    {
     "name": "stdout",
     "output_type": "stream",
     "text": [
      "\r43%"
     ]
    },
    {
     "name": "stdout",
     "output_type": "stream",
     "text": [
      "\r44%"
     ]
    },
    {
     "name": "stdout",
     "output_type": "stream",
     "text": [
      "\r44%"
     ]
    },
    {
     "name": "stdout",
     "output_type": "stream",
     "text": [
      "\r44%"
     ]
    },
    {
     "name": "stdout",
     "output_type": "stream",
     "text": [
      "\r45%"
     ]
    },
    {
     "name": "stdout",
     "output_type": "stream",
     "text": [
      "\r45%"
     ]
    },
    {
     "name": "stdout",
     "output_type": "stream",
     "text": [
      "\r45%"
     ]
    },
    {
     "name": "stdout",
     "output_type": "stream",
     "text": [
      "\r45%"
     ]
    },
    {
     "name": "stdout",
     "output_type": "stream",
     "text": [
      "\r46%"
     ]
    },
    {
     "name": "stdout",
     "output_type": "stream",
     "text": [
      "\r46%"
     ]
    },
    {
     "name": "stdout",
     "output_type": "stream",
     "text": [
      "\r46%"
     ]
    },
    {
     "name": "stdout",
     "output_type": "stream",
     "text": [
      "\r46%"
     ]
    },
    {
     "name": "stdout",
     "output_type": "stream",
     "text": [
      "\r47%"
     ]
    },
    {
     "name": "stdout",
     "output_type": "stream",
     "text": [
      "\r47%"
     ]
    },
    {
     "name": "stdout",
     "output_type": "stream",
     "text": [
      "\r47%"
     ]
    },
    {
     "name": "stdout",
     "output_type": "stream",
     "text": [
      "\r48%"
     ]
    },
    {
     "name": "stdout",
     "output_type": "stream",
     "text": [
      "\r48%"
     ]
    },
    {
     "name": "stdout",
     "output_type": "stream",
     "text": [
      "\r48%"
     ]
    },
    {
     "name": "stdout",
     "output_type": "stream",
     "text": [
      "\r48%"
     ]
    },
    {
     "name": "stdout",
     "output_type": "stream",
     "text": [
      "\r49%"
     ]
    },
    {
     "name": "stdout",
     "output_type": "stream",
     "text": [
      "\r49%"
     ]
    },
    {
     "name": "stdout",
     "output_type": "stream",
     "text": [
      "\r49%"
     ]
    },
    {
     "name": "stdout",
     "output_type": "stream",
     "text": [
      "\r50%"
     ]
    },
    {
     "name": "stdout",
     "output_type": "stream",
     "text": [
      "\r50%"
     ]
    },
    {
     "name": "stdout",
     "output_type": "stream",
     "text": [
      "\r50%"
     ]
    },
    {
     "name": "stdout",
     "output_type": "stream",
     "text": [
      "\r50%"
     ]
    },
    {
     "name": "stdout",
     "output_type": "stream",
     "text": [
      "\r51%"
     ]
    },
    {
     "name": "stdout",
     "output_type": "stream",
     "text": [
      "\r51%"
     ]
    },
    {
     "name": "stdout",
     "output_type": "stream",
     "text": [
      "\r51%"
     ]
    },
    {
     "name": "stdout",
     "output_type": "stream",
     "text": [
      "\r51%"
     ]
    },
    {
     "name": "stdout",
     "output_type": "stream",
     "text": [
      "\r52%"
     ]
    },
    {
     "name": "stdout",
     "output_type": "stream",
     "text": [
      "\r52%"
     ]
    },
    {
     "name": "stdout",
     "output_type": "stream",
     "text": [
      "\r52%"
     ]
    },
    {
     "name": "stdout",
     "output_type": "stream",
     "text": [
      "\r53%"
     ]
    },
    {
     "name": "stdout",
     "output_type": "stream",
     "text": [
      "\r53%"
     ]
    },
    {
     "name": "stdout",
     "output_type": "stream",
     "text": [
      "\r53%"
     ]
    },
    {
     "name": "stdout",
     "output_type": "stream",
     "text": [
      "\r53%"
     ]
    },
    {
     "name": "stdout",
     "output_type": "stream",
     "text": [
      "\r54%"
     ]
    },
    {
     "name": "stdout",
     "output_type": "stream",
     "text": [
      "\r54%"
     ]
    },
    {
     "name": "stdout",
     "output_type": "stream",
     "text": [
      "\r54%"
     ]
    },
    {
     "name": "stdout",
     "output_type": "stream",
     "text": [
      "\r54%"
     ]
    },
    {
     "name": "stdout",
     "output_type": "stream",
     "text": [
      "\r55%"
     ]
    },
    {
     "name": "stdout",
     "output_type": "stream",
     "text": [
      "\r55%"
     ]
    },
    {
     "name": "stdout",
     "output_type": "stream",
     "text": [
      "\r55%"
     ]
    },
    {
     "name": "stdout",
     "output_type": "stream",
     "text": [
      "\r56%"
     ]
    },
    {
     "name": "stdout",
     "output_type": "stream",
     "text": [
      "\r56%"
     ]
    },
    {
     "name": "stdout",
     "output_type": "stream",
     "text": [
      "\r56%"
     ]
    },
    {
     "name": "stdout",
     "output_type": "stream",
     "text": [
      "\r56%"
     ]
    },
    {
     "name": "stdout",
     "output_type": "stream",
     "text": [
      "\r57%"
     ]
    },
    {
     "name": "stdout",
     "output_type": "stream",
     "text": [
      "\r57%"
     ]
    },
    {
     "name": "stdout",
     "output_type": "stream",
     "text": [
      "\r57%"
     ]
    },
    {
     "name": "stdout",
     "output_type": "stream",
     "text": [
      "\r57%"
     ]
    },
    {
     "name": "stdout",
     "output_type": "stream",
     "text": [
      "\r58%"
     ]
    },
    {
     "name": "stdout",
     "output_type": "stream",
     "text": [
      "\r58%"
     ]
    },
    {
     "name": "stdout",
     "output_type": "stream",
     "text": [
      "\r58%"
     ]
    },
    {
     "name": "stdout",
     "output_type": "stream",
     "text": [
      "\r59%"
     ]
    },
    {
     "name": "stdout",
     "output_type": "stream",
     "text": [
      "\r59%"
     ]
    },
    {
     "name": "stdout",
     "output_type": "stream",
     "text": [
      "\r59%"
     ]
    },
    {
     "name": "stdout",
     "output_type": "stream",
     "text": [
      "\r59%"
     ]
    },
    {
     "name": "stdout",
     "output_type": "stream",
     "text": [
      "\r60%"
     ]
    },
    {
     "name": "stdout",
     "output_type": "stream",
     "text": [
      "\r60%"
     ]
    },
    {
     "name": "stdout",
     "output_type": "stream",
     "text": [
      "\r60%"
     ]
    },
    {
     "name": "stdout",
     "output_type": "stream",
     "text": [
      "\r60%"
     ]
    },
    {
     "name": "stdout",
     "output_type": "stream",
     "text": [
      "\r61%"
     ]
    },
    {
     "name": "stdout",
     "output_type": "stream",
     "text": [
      "\r61%"
     ]
    },
    {
     "name": "stdout",
     "output_type": "stream",
     "text": [
      "\r61%"
     ]
    },
    {
     "name": "stdout",
     "output_type": "stream",
     "text": [
      "\r62%"
     ]
    },
    {
     "name": "stdout",
     "output_type": "stream",
     "text": [
      "\r62%"
     ]
    },
    {
     "name": "stdout",
     "output_type": "stream",
     "text": [
      "\r62%"
     ]
    },
    {
     "name": "stdout",
     "output_type": "stream",
     "text": [
      "\r62%"
     ]
    },
    {
     "name": "stdout",
     "output_type": "stream",
     "text": [
      "\r63%"
     ]
    },
    {
     "name": "stdout",
     "output_type": "stream",
     "text": [
      "\r63%"
     ]
    },
    {
     "name": "stdout",
     "output_type": "stream",
     "text": [
      "\r63%"
     ]
    },
    {
     "name": "stdout",
     "output_type": "stream",
     "text": [
      "\r63%"
     ]
    },
    {
     "name": "stdout",
     "output_type": "stream",
     "text": [
      "\r64%"
     ]
    },
    {
     "name": "stdout",
     "output_type": "stream",
     "text": [
      "\r64%"
     ]
    },
    {
     "name": "stdout",
     "output_type": "stream",
     "text": [
      "\r64%"
     ]
    },
    {
     "name": "stdout",
     "output_type": "stream",
     "text": [
      "\r65%"
     ]
    },
    {
     "name": "stdout",
     "output_type": "stream",
     "text": [
      "\r65%"
     ]
    },
    {
     "name": "stdout",
     "output_type": "stream",
     "text": [
      "\r65%"
     ]
    },
    {
     "name": "stdout",
     "output_type": "stream",
     "text": [
      "\r65%"
     ]
    },
    {
     "name": "stdout",
     "output_type": "stream",
     "text": [
      "\r66%"
     ]
    },
    {
     "name": "stdout",
     "output_type": "stream",
     "text": [
      "\r66%"
     ]
    },
    {
     "name": "stdout",
     "output_type": "stream",
     "text": [
      "\r66%"
     ]
    },
    {
     "name": "stdout",
     "output_type": "stream",
     "text": [
      "\r66%"
     ]
    },
    {
     "name": "stdout",
     "output_type": "stream",
     "text": [
      "\r67%"
     ]
    },
    {
     "name": "stdout",
     "output_type": "stream",
     "text": [
      "\r67%"
     ]
    },
    {
     "name": "stdout",
     "output_type": "stream",
     "text": [
      "\r67%"
     ]
    },
    {
     "name": "stdout",
     "output_type": "stream",
     "text": [
      "\r68%"
     ]
    },
    {
     "name": "stdout",
     "output_type": "stream",
     "text": [
      "\r68%"
     ]
    },
    {
     "name": "stdout",
     "output_type": "stream",
     "text": [
      "\r68%"
     ]
    },
    {
     "name": "stdout",
     "output_type": "stream",
     "text": [
      "\r68%"
     ]
    },
    {
     "name": "stdout",
     "output_type": "stream",
     "text": [
      "\r69%"
     ]
    },
    {
     "name": "stdout",
     "output_type": "stream",
     "text": [
      "\r69%"
     ]
    },
    {
     "name": "stdout",
     "output_type": "stream",
     "text": [
      "\r69%"
     ]
    },
    {
     "name": "stdout",
     "output_type": "stream",
     "text": [
      "\r69%"
     ]
    },
    {
     "name": "stdout",
     "output_type": "stream",
     "text": [
      "\r70%"
     ]
    },
    {
     "name": "stdout",
     "output_type": "stream",
     "text": [
      "\r70%"
     ]
    },
    {
     "name": "stdout",
     "output_type": "stream",
     "text": [
      "\r70%"
     ]
    },
    {
     "name": "stdout",
     "output_type": "stream",
     "text": [
      "\r71%"
     ]
    },
    {
     "name": "stdout",
     "output_type": "stream",
     "text": [
      "\r71%"
     ]
    },
    {
     "name": "stdout",
     "output_type": "stream",
     "text": [
      "\r71%"
     ]
    },
    {
     "name": "stdout",
     "output_type": "stream",
     "text": [
      "\r71%"
     ]
    },
    {
     "name": "stdout",
     "output_type": "stream",
     "text": [
      "\r72%"
     ]
    },
    {
     "name": "stdout",
     "output_type": "stream",
     "text": [
      "\r72%"
     ]
    },
    {
     "name": "stdout",
     "output_type": "stream",
     "text": [
      "\r72%"
     ]
    },
    {
     "name": "stdout",
     "output_type": "stream",
     "text": [
      "\r72%"
     ]
    },
    {
     "name": "stdout",
     "output_type": "stream",
     "text": [
      "\r73%"
     ]
    },
    {
     "name": "stdout",
     "output_type": "stream",
     "text": [
      "\r73%"
     ]
    },
    {
     "name": "stdout",
     "output_type": "stream",
     "text": [
      "\r73%"
     ]
    },
    {
     "name": "stdout",
     "output_type": "stream",
     "text": [
      "\r74%"
     ]
    },
    {
     "name": "stdout",
     "output_type": "stream",
     "text": [
      "\r74%"
     ]
    },
    {
     "name": "stdout",
     "output_type": "stream",
     "text": [
      "\r74%"
     ]
    },
    {
     "name": "stdout",
     "output_type": "stream",
     "text": [
      "\r74%"
     ]
    },
    {
     "name": "stdout",
     "output_type": "stream",
     "text": [
      "\r75%"
     ]
    },
    {
     "name": "stdout",
     "output_type": "stream",
     "text": [
      "\r75%"
     ]
    },
    {
     "name": "stdout",
     "output_type": "stream",
     "text": [
      "\r75%"
     ]
    },
    {
     "name": "stdout",
     "output_type": "stream",
     "text": [
      "\r75%"
     ]
    },
    {
     "name": "stdout",
     "output_type": "stream",
     "text": [
      "\r76%"
     ]
    },
    {
     "name": "stdout",
     "output_type": "stream",
     "text": [
      "\r76%"
     ]
    },
    {
     "name": "stdout",
     "output_type": "stream",
     "text": [
      "\r76%"
     ]
    },
    {
     "name": "stdout",
     "output_type": "stream",
     "text": [
      "\r77%"
     ]
    },
    {
     "name": "stdout",
     "output_type": "stream",
     "text": [
      "\r77%"
     ]
    },
    {
     "name": "stdout",
     "output_type": "stream",
     "text": [
      "\r77%"
     ]
    },
    {
     "name": "stdout",
     "output_type": "stream",
     "text": [
      "\r77%"
     ]
    },
    {
     "name": "stdout",
     "output_type": "stream",
     "text": [
      "\r78%"
     ]
    },
    {
     "name": "stdout",
     "output_type": "stream",
     "text": [
      "\r78%"
     ]
    },
    {
     "name": "stdout",
     "output_type": "stream",
     "text": [
      "\r78%"
     ]
    },
    {
     "name": "stdout",
     "output_type": "stream",
     "text": [
      "\r78%"
     ]
    },
    {
     "name": "stdout",
     "output_type": "stream",
     "text": [
      "\r79%"
     ]
    },
    {
     "name": "stdout",
     "output_type": "stream",
     "text": [
      "\r79%"
     ]
    },
    {
     "name": "stdout",
     "output_type": "stream",
     "text": [
      "\r79%"
     ]
    },
    {
     "name": "stdout",
     "output_type": "stream",
     "text": [
      "\r80%"
     ]
    },
    {
     "name": "stdout",
     "output_type": "stream",
     "text": [
      "\r80%"
     ]
    },
    {
     "name": "stdout",
     "output_type": "stream",
     "text": [
      "\r80%"
     ]
    },
    {
     "name": "stdout",
     "output_type": "stream",
     "text": [
      "\r80%"
     ]
    },
    {
     "name": "stdout",
     "output_type": "stream",
     "text": [
      "\r81%"
     ]
    },
    {
     "name": "stdout",
     "output_type": "stream",
     "text": [
      "\r81%"
     ]
    },
    {
     "name": "stdout",
     "output_type": "stream",
     "text": [
      "\r81%"
     ]
    },
    {
     "name": "stdout",
     "output_type": "stream",
     "text": [
      "\r81%"
     ]
    },
    {
     "name": "stdout",
     "output_type": "stream",
     "text": [
      "\r82%"
     ]
    },
    {
     "name": "stdout",
     "output_type": "stream",
     "text": [
      "\r82%"
     ]
    },
    {
     "name": "stdout",
     "output_type": "stream",
     "text": [
      "\r82%"
     ]
    },
    {
     "name": "stdout",
     "output_type": "stream",
     "text": [
      "\r83%"
     ]
    },
    {
     "name": "stdout",
     "output_type": "stream",
     "text": [
      "\r83%"
     ]
    },
    {
     "name": "stdout",
     "output_type": "stream",
     "text": [
      "\r83%"
     ]
    },
    {
     "name": "stdout",
     "output_type": "stream",
     "text": [
      "\r83%"
     ]
    },
    {
     "name": "stdout",
     "output_type": "stream",
     "text": [
      "\r84%"
     ]
    },
    {
     "name": "stdout",
     "output_type": "stream",
     "text": [
      "\r84%"
     ]
    },
    {
     "name": "stdout",
     "output_type": "stream",
     "text": [
      "\r84%"
     ]
    },
    {
     "name": "stdout",
     "output_type": "stream",
     "text": [
      "\r84%"
     ]
    },
    {
     "name": "stdout",
     "output_type": "stream",
     "text": [
      "\r85%"
     ]
    },
    {
     "name": "stdout",
     "output_type": "stream",
     "text": [
      "\r85%"
     ]
    },
    {
     "name": "stdout",
     "output_type": "stream",
     "text": [
      "\r85%"
     ]
    },
    {
     "name": "stdout",
     "output_type": "stream",
     "text": [
      "\r86%"
     ]
    },
    {
     "name": "stdout",
     "output_type": "stream",
     "text": [
      "\r86%"
     ]
    },
    {
     "name": "stdout",
     "output_type": "stream",
     "text": [
      "\r86%"
     ]
    },
    {
     "name": "stdout",
     "output_type": "stream",
     "text": [
      "\r86%"
     ]
    },
    {
     "name": "stdout",
     "output_type": "stream",
     "text": [
      "\r87%"
     ]
    },
    {
     "name": "stdout",
     "output_type": "stream",
     "text": [
      "\r87%"
     ]
    },
    {
     "name": "stdout",
     "output_type": "stream",
     "text": [
      "\r87%"
     ]
    },
    {
     "name": "stdout",
     "output_type": "stream",
     "text": [
      "\r87%"
     ]
    },
    {
     "name": "stdout",
     "output_type": "stream",
     "text": [
      "\r88%"
     ]
    },
    {
     "name": "stdout",
     "output_type": "stream",
     "text": [
      "\r88%"
     ]
    },
    {
     "name": "stdout",
     "output_type": "stream",
     "text": [
      "\r88%"
     ]
    },
    {
     "name": "stdout",
     "output_type": "stream",
     "text": [
      "\r89%"
     ]
    },
    {
     "name": "stdout",
     "output_type": "stream",
     "text": [
      "\r89%"
     ]
    },
    {
     "name": "stdout",
     "output_type": "stream",
     "text": [
      "\r89%"
     ]
    },
    {
     "name": "stdout",
     "output_type": "stream",
     "text": [
      "\r89%"
     ]
    },
    {
     "name": "stdout",
     "output_type": "stream",
     "text": [
      "\r90%"
     ]
    },
    {
     "name": "stdout",
     "output_type": "stream",
     "text": [
      "\r90%"
     ]
    },
    {
     "name": "stdout",
     "output_type": "stream",
     "text": [
      "\r90%"
     ]
    },
    {
     "name": "stdout",
     "output_type": "stream",
     "text": [
      "\r90%"
     ]
    },
    {
     "name": "stdout",
     "output_type": "stream",
     "text": [
      "\r91%"
     ]
    },
    {
     "name": "stdout",
     "output_type": "stream",
     "text": [
      "\r91%"
     ]
    },
    {
     "name": "stdout",
     "output_type": "stream",
     "text": [
      "\r91%"
     ]
    },
    {
     "name": "stdout",
     "output_type": "stream",
     "text": [
      "\r92%"
     ]
    },
    {
     "name": "stdout",
     "output_type": "stream",
     "text": [
      "\r92%"
     ]
    },
    {
     "name": "stdout",
     "output_type": "stream",
     "text": [
      "\r92%"
     ]
    },
    {
     "name": "stdout",
     "output_type": "stream",
     "text": [
      "\r92%"
     ]
    },
    {
     "name": "stdout",
     "output_type": "stream",
     "text": [
      "\r93%"
     ]
    },
    {
     "name": "stdout",
     "output_type": "stream",
     "text": [
      "\r93%"
     ]
    },
    {
     "name": "stdout",
     "output_type": "stream",
     "text": [
      "\r93%"
     ]
    },
    {
     "name": "stdout",
     "output_type": "stream",
     "text": [
      "\r93%"
     ]
    },
    {
     "name": "stdout",
     "output_type": "stream",
     "text": [
      "\r94%"
     ]
    },
    {
     "name": "stdout",
     "output_type": "stream",
     "text": [
      "\r94%"
     ]
    },
    {
     "name": "stdout",
     "output_type": "stream",
     "text": [
      "\r94%"
     ]
    },
    {
     "name": "stdout",
     "output_type": "stream",
     "text": [
      "\r95%"
     ]
    },
    {
     "name": "stdout",
     "output_type": "stream",
     "text": [
      "\r95%"
     ]
    },
    {
     "name": "stdout",
     "output_type": "stream",
     "text": [
      "\r95%"
     ]
    },
    {
     "name": "stdout",
     "output_type": "stream",
     "text": [
      "\r95%"
     ]
    },
    {
     "name": "stdout",
     "output_type": "stream",
     "text": [
      "\r96%"
     ]
    },
    {
     "name": "stdout",
     "output_type": "stream",
     "text": [
      "\r96%"
     ]
    },
    {
     "name": "stdout",
     "output_type": "stream",
     "text": [
      "\r96%"
     ]
    },
    {
     "name": "stdout",
     "output_type": "stream",
     "text": [
      "\r96%"
     ]
    },
    {
     "name": "stdout",
     "output_type": "stream",
     "text": [
      "\r97%"
     ]
    },
    {
     "name": "stdout",
     "output_type": "stream",
     "text": [
      "\r97%"
     ]
    },
    {
     "name": "stdout",
     "output_type": "stream",
     "text": [
      "\r97%"
     ]
    },
    {
     "name": "stdout",
     "output_type": "stream",
     "text": [
      "\r98%"
     ]
    },
    {
     "name": "stdout",
     "output_type": "stream",
     "text": [
      "\r98%"
     ]
    },
    {
     "name": "stdout",
     "output_type": "stream",
     "text": [
      "\r98%"
     ]
    },
    {
     "name": "stdout",
     "output_type": "stream",
     "text": [
      "\r98%"
     ]
    },
    {
     "name": "stdout",
     "output_type": "stream",
     "text": [
      "\r99%"
     ]
    },
    {
     "name": "stdout",
     "output_type": "stream",
     "text": [
      "\r99%"
     ]
    },
    {
     "name": "stdout",
     "output_type": "stream",
     "text": [
      "\r99%"
     ]
    },
    {
     "name": "stdout",
     "output_type": "stream",
     "text": [
      "\r2 훈련 MSE: 0.029508727\n"
     ]
    },
    {
     "name": "stdout",
     "output_type": "stream",
     "text": [
      "\r0%"
     ]
    },
    {
     "name": "stdout",
     "output_type": "stream",
     "text": [
      "\r0%"
     ]
    },
    {
     "name": "stdout",
     "output_type": "stream",
     "text": [
      "\r0%"
     ]
    },
    {
     "name": "stdout",
     "output_type": "stream",
     "text": [
      "\r0%"
     ]
    },
    {
     "name": "stdout",
     "output_type": "stream",
     "text": [
      "\r1%"
     ]
    },
    {
     "name": "stdout",
     "output_type": "stream",
     "text": [
      "\r1%"
     ]
    },
    {
     "name": "stdout",
     "output_type": "stream",
     "text": [
      "\r1%"
     ]
    },
    {
     "name": "stdout",
     "output_type": "stream",
     "text": [
      "\r1%"
     ]
    },
    {
     "name": "stdout",
     "output_type": "stream",
     "text": [
      "\r2%"
     ]
    },
    {
     "name": "stdout",
     "output_type": "stream",
     "text": [
      "\r2%"
     ]
    },
    {
     "name": "stdout",
     "output_type": "stream",
     "text": [
      "\r2%"
     ]
    },
    {
     "name": "stdout",
     "output_type": "stream",
     "text": [
      "\r3%"
     ]
    },
    {
     "name": "stdout",
     "output_type": "stream",
     "text": [
      "\r3%"
     ]
    },
    {
     "name": "stdout",
     "output_type": "stream",
     "text": [
      "\r3%"
     ]
    },
    {
     "name": "stdout",
     "output_type": "stream",
     "text": [
      "\r3%"
     ]
    },
    {
     "name": "stdout",
     "output_type": "stream",
     "text": [
      "\r4%"
     ]
    },
    {
     "name": "stdout",
     "output_type": "stream",
     "text": [
      "\r4%"
     ]
    },
    {
     "name": "stdout",
     "output_type": "stream",
     "text": [
      "\r4%"
     ]
    },
    {
     "name": "stdout",
     "output_type": "stream",
     "text": [
      "\r4%"
     ]
    },
    {
     "name": "stdout",
     "output_type": "stream",
     "text": [
      "\r5%"
     ]
    },
    {
     "name": "stdout",
     "output_type": "stream",
     "text": [
      "\r5%"
     ]
    },
    {
     "name": "stdout",
     "output_type": "stream",
     "text": [
      "\r5%"
     ]
    },
    {
     "name": "stdout",
     "output_type": "stream",
     "text": [
      "\r6%"
     ]
    },
    {
     "name": "stdout",
     "output_type": "stream",
     "text": [
      "\r6%"
     ]
    },
    {
     "name": "stdout",
     "output_type": "stream",
     "text": [
      "\r6%"
     ]
    },
    {
     "name": "stdout",
     "output_type": "stream",
     "text": [
      "\r6%"
     ]
    },
    {
     "name": "stdout",
     "output_type": "stream",
     "text": [
      "\r7%"
     ]
    },
    {
     "name": "stdout",
     "output_type": "stream",
     "text": [
      "\r7%"
     ]
    },
    {
     "name": "stdout",
     "output_type": "stream",
     "text": [
      "\r7%"
     ]
    },
    {
     "name": "stdout",
     "output_type": "stream",
     "text": [
      "\r7%"
     ]
    },
    {
     "name": "stdout",
     "output_type": "stream",
     "text": [
      "\r8%"
     ]
    },
    {
     "name": "stdout",
     "output_type": "stream",
     "text": [
      "\r8%"
     ]
    },
    {
     "name": "stdout",
     "output_type": "stream",
     "text": [
      "\r8%"
     ]
    },
    {
     "name": "stdout",
     "output_type": "stream",
     "text": [
      "\r9%"
     ]
    },
    {
     "name": "stdout",
     "output_type": "stream",
     "text": [
      "\r9%"
     ]
    },
    {
     "name": "stdout",
     "output_type": "stream",
     "text": [
      "\r9%"
     ]
    },
    {
     "name": "stdout",
     "output_type": "stream",
     "text": [
      "\r9%"
     ]
    },
    {
     "name": "stdout",
     "output_type": "stream",
     "text": [
      "\r10%"
     ]
    },
    {
     "name": "stdout",
     "output_type": "stream",
     "text": [
      "\r10%"
     ]
    },
    {
     "name": "stdout",
     "output_type": "stream",
     "text": [
      "\r10%"
     ]
    },
    {
     "name": "stdout",
     "output_type": "stream",
     "text": [
      "\r10%"
     ]
    },
    {
     "name": "stdout",
     "output_type": "stream",
     "text": [
      "\r11%"
     ]
    },
    {
     "name": "stdout",
     "output_type": "stream",
     "text": [
      "\r11%"
     ]
    },
    {
     "name": "stdout",
     "output_type": "stream",
     "text": [
      "\r11%"
     ]
    },
    {
     "name": "stdout",
     "output_type": "stream",
     "text": [
      "\r12%"
     ]
    },
    {
     "name": "stdout",
     "output_type": "stream",
     "text": [
      "\r12%"
     ]
    },
    {
     "name": "stdout",
     "output_type": "stream",
     "text": [
      "\r12%"
     ]
    },
    {
     "name": "stdout",
     "output_type": "stream",
     "text": [
      "\r12%"
     ]
    },
    {
     "name": "stdout",
     "output_type": "stream",
     "text": [
      "\r13%"
     ]
    },
    {
     "name": "stdout",
     "output_type": "stream",
     "text": [
      "\r13%"
     ]
    },
    {
     "name": "stdout",
     "output_type": "stream",
     "text": [
      "\r13%"
     ]
    },
    {
     "name": "stdout",
     "output_type": "stream",
     "text": [
      "\r13%"
     ]
    },
    {
     "name": "stdout",
     "output_type": "stream",
     "text": [
      "\r14%"
     ]
    },
    {
     "name": "stdout",
     "output_type": "stream",
     "text": [
      "\r14%"
     ]
    },
    {
     "name": "stdout",
     "output_type": "stream",
     "text": [
      "\r14%"
     ]
    },
    {
     "name": "stdout",
     "output_type": "stream",
     "text": [
      "\r15%"
     ]
    },
    {
     "name": "stdout",
     "output_type": "stream",
     "text": [
      "\r15%"
     ]
    },
    {
     "name": "stdout",
     "output_type": "stream",
     "text": [
      "\r15%"
     ]
    },
    {
     "name": "stdout",
     "output_type": "stream",
     "text": [
      "\r15%"
     ]
    },
    {
     "name": "stdout",
     "output_type": "stream",
     "text": [
      "\r16%"
     ]
    },
    {
     "name": "stdout",
     "output_type": "stream",
     "text": [
      "\r16%"
     ]
    },
    {
     "name": "stdout",
     "output_type": "stream",
     "text": [
      "\r16%"
     ]
    },
    {
     "name": "stdout",
     "output_type": "stream",
     "text": [
      "\r16%"
     ]
    },
    {
     "name": "stdout",
     "output_type": "stream",
     "text": [
      "\r17%"
     ]
    },
    {
     "name": "stdout",
     "output_type": "stream",
     "text": [
      "\r17%"
     ]
    },
    {
     "name": "stdout",
     "output_type": "stream",
     "text": [
      "\r17%"
     ]
    },
    {
     "name": "stdout",
     "output_type": "stream",
     "text": [
      "\r18%"
     ]
    },
    {
     "name": "stdout",
     "output_type": "stream",
     "text": [
      "\r18%"
     ]
    },
    {
     "name": "stdout",
     "output_type": "stream",
     "text": [
      "\r18%"
     ]
    },
    {
     "name": "stdout",
     "output_type": "stream",
     "text": [
      "\r18%"
     ]
    },
    {
     "name": "stdout",
     "output_type": "stream",
     "text": [
      "\r19%"
     ]
    },
    {
     "name": "stdout",
     "output_type": "stream",
     "text": [
      "\r19%"
     ]
    },
    {
     "name": "stdout",
     "output_type": "stream",
     "text": [
      "\r19%"
     ]
    },
    {
     "name": "stdout",
     "output_type": "stream",
     "text": [
      "\r19%"
     ]
    },
    {
     "name": "stdout",
     "output_type": "stream",
     "text": [
      "\r20%"
     ]
    },
    {
     "name": "stdout",
     "output_type": "stream",
     "text": [
      "\r20%"
     ]
    },
    {
     "name": "stdout",
     "output_type": "stream",
     "text": [
      "\r20%"
     ]
    },
    {
     "name": "stdout",
     "output_type": "stream",
     "text": [
      "\r21%"
     ]
    },
    {
     "name": "stdout",
     "output_type": "stream",
     "text": [
      "\r21%"
     ]
    },
    {
     "name": "stdout",
     "output_type": "stream",
     "text": [
      "\r21%"
     ]
    },
    {
     "name": "stdout",
     "output_type": "stream",
     "text": [
      "\r21%"
     ]
    },
    {
     "name": "stdout",
     "output_type": "stream",
     "text": [
      "\r22%"
     ]
    },
    {
     "name": "stdout",
     "output_type": "stream",
     "text": [
      "\r22%"
     ]
    },
    {
     "name": "stdout",
     "output_type": "stream",
     "text": [
      "\r22%"
     ]
    },
    {
     "name": "stdout",
     "output_type": "stream",
     "text": [
      "\r22%"
     ]
    },
    {
     "name": "stdout",
     "output_type": "stream",
     "text": [
      "\r23%"
     ]
    },
    {
     "name": "stdout",
     "output_type": "stream",
     "text": [
      "\r23%"
     ]
    },
    {
     "name": "stdout",
     "output_type": "stream",
     "text": [
      "\r23%"
     ]
    },
    {
     "name": "stdout",
     "output_type": "stream",
     "text": [
      "\r24%"
     ]
    },
    {
     "name": "stdout",
     "output_type": "stream",
     "text": [
      "\r24%"
     ]
    },
    {
     "name": "stdout",
     "output_type": "stream",
     "text": [
      "\r24%"
     ]
    },
    {
     "name": "stdout",
     "output_type": "stream",
     "text": [
      "\r24%"
     ]
    },
    {
     "name": "stdout",
     "output_type": "stream",
     "text": [
      "\r25%"
     ]
    },
    {
     "name": "stdout",
     "output_type": "stream",
     "text": [
      "\r25%"
     ]
    },
    {
     "name": "stdout",
     "output_type": "stream",
     "text": [
      "\r25%"
     ]
    },
    {
     "name": "stdout",
     "output_type": "stream",
     "text": [
      "\r25%"
     ]
    },
    {
     "name": "stdout",
     "output_type": "stream",
     "text": [
      "\r26%"
     ]
    },
    {
     "name": "stdout",
     "output_type": "stream",
     "text": [
      "\r26%"
     ]
    },
    {
     "name": "stdout",
     "output_type": "stream",
     "text": [
      "\r26%"
     ]
    },
    {
     "name": "stdout",
     "output_type": "stream",
     "text": [
      "\r27%"
     ]
    },
    {
     "name": "stdout",
     "output_type": "stream",
     "text": [
      "\r27%"
     ]
    },
    {
     "name": "stdout",
     "output_type": "stream",
     "text": [
      "\r27%"
     ]
    },
    {
     "name": "stdout",
     "output_type": "stream",
     "text": [
      "\r27%"
     ]
    },
    {
     "name": "stdout",
     "output_type": "stream",
     "text": [
      "\r28%"
     ]
    },
    {
     "name": "stdout",
     "output_type": "stream",
     "text": [
      "\r28%"
     ]
    },
    {
     "name": "stdout",
     "output_type": "stream",
     "text": [
      "\r28%"
     ]
    },
    {
     "name": "stdout",
     "output_type": "stream",
     "text": [
      "\r28%"
     ]
    },
    {
     "name": "stdout",
     "output_type": "stream",
     "text": [
      "\r29%"
     ]
    },
    {
     "name": "stdout",
     "output_type": "stream",
     "text": [
      "\r29%"
     ]
    },
    {
     "name": "stdout",
     "output_type": "stream",
     "text": [
      "\r29%"
     ]
    },
    {
     "name": "stdout",
     "output_type": "stream",
     "text": [
      "\r30%"
     ]
    },
    {
     "name": "stdout",
     "output_type": "stream",
     "text": [
      "\r30%"
     ]
    },
    {
     "name": "stdout",
     "output_type": "stream",
     "text": [
      "\r30%"
     ]
    },
    {
     "name": "stdout",
     "output_type": "stream",
     "text": [
      "\r30%"
     ]
    },
    {
     "name": "stdout",
     "output_type": "stream",
     "text": [
      "\r31%"
     ]
    },
    {
     "name": "stdout",
     "output_type": "stream",
     "text": [
      "\r31%"
     ]
    },
    {
     "name": "stdout",
     "output_type": "stream",
     "text": [
      "\r31%"
     ]
    },
    {
     "name": "stdout",
     "output_type": "stream",
     "text": [
      "\r31%"
     ]
    },
    {
     "name": "stdout",
     "output_type": "stream",
     "text": [
      "\r32%"
     ]
    },
    {
     "name": "stdout",
     "output_type": "stream",
     "text": [
      "\r32%"
     ]
    },
    {
     "name": "stdout",
     "output_type": "stream",
     "text": [
      "\r32%"
     ]
    },
    {
     "name": "stdout",
     "output_type": "stream",
     "text": [
      "\r33%"
     ]
    },
    {
     "name": "stdout",
     "output_type": "stream",
     "text": [
      "\r33%"
     ]
    },
    {
     "name": "stdout",
     "output_type": "stream",
     "text": [
      "\r33%"
     ]
    },
    {
     "name": "stdout",
     "output_type": "stream",
     "text": [
      "\r33%"
     ]
    },
    {
     "name": "stdout",
     "output_type": "stream",
     "text": [
      "\r34%"
     ]
    },
    {
     "name": "stdout",
     "output_type": "stream",
     "text": [
      "\r34%"
     ]
    },
    {
     "name": "stdout",
     "output_type": "stream",
     "text": [
      "\r34%"
     ]
    },
    {
     "name": "stdout",
     "output_type": "stream",
     "text": [
      "\r34%"
     ]
    },
    {
     "name": "stdout",
     "output_type": "stream",
     "text": [
      "\r35%"
     ]
    },
    {
     "name": "stdout",
     "output_type": "stream",
     "text": [
      "\r35%"
     ]
    },
    {
     "name": "stdout",
     "output_type": "stream",
     "text": [
      "\r35%"
     ]
    },
    {
     "name": "stdout",
     "output_type": "stream",
     "text": [
      "\r36%"
     ]
    },
    {
     "name": "stdout",
     "output_type": "stream",
     "text": [
      "\r36%"
     ]
    },
    {
     "name": "stdout",
     "output_type": "stream",
     "text": [
      "\r36%"
     ]
    },
    {
     "name": "stdout",
     "output_type": "stream",
     "text": [
      "\r36%"
     ]
    },
    {
     "name": "stdout",
     "output_type": "stream",
     "text": [
      "\r37%"
     ]
    },
    {
     "name": "stdout",
     "output_type": "stream",
     "text": [
      "\r37%"
     ]
    },
    {
     "name": "stdout",
     "output_type": "stream",
     "text": [
      "\r37%"
     ]
    },
    {
     "name": "stdout",
     "output_type": "stream",
     "text": [
      "\r37%"
     ]
    },
    {
     "name": "stdout",
     "output_type": "stream",
     "text": [
      "\r38%"
     ]
    },
    {
     "name": "stdout",
     "output_type": "stream",
     "text": [
      "\r38%"
     ]
    },
    {
     "name": "stdout",
     "output_type": "stream",
     "text": [
      "\r38%"
     ]
    },
    {
     "name": "stdout",
     "output_type": "stream",
     "text": [
      "\r39%"
     ]
    },
    {
     "name": "stdout",
     "output_type": "stream",
     "text": [
      "\r39%"
     ]
    },
    {
     "name": "stdout",
     "output_type": "stream",
     "text": [
      "\r39%"
     ]
    },
    {
     "name": "stdout",
     "output_type": "stream",
     "text": [
      "\r39%"
     ]
    },
    {
     "name": "stdout",
     "output_type": "stream",
     "text": [
      "\r40%"
     ]
    },
    {
     "name": "stdout",
     "output_type": "stream",
     "text": [
      "\r40%"
     ]
    },
    {
     "name": "stdout",
     "output_type": "stream",
     "text": [
      "\r40%"
     ]
    },
    {
     "name": "stdout",
     "output_type": "stream",
     "text": [
      "\r40%"
     ]
    },
    {
     "name": "stdout",
     "output_type": "stream",
     "text": [
      "\r41%"
     ]
    },
    {
     "name": "stdout",
     "output_type": "stream",
     "text": [
      "\r41%"
     ]
    },
    {
     "name": "stdout",
     "output_type": "stream",
     "text": [
      "\r41%"
     ]
    },
    {
     "name": "stdout",
     "output_type": "stream",
     "text": [
      "\r42%"
     ]
    },
    {
     "name": "stdout",
     "output_type": "stream",
     "text": [
      "\r42%"
     ]
    },
    {
     "name": "stdout",
     "output_type": "stream",
     "text": [
      "\r42%"
     ]
    },
    {
     "name": "stdout",
     "output_type": "stream",
     "text": [
      "\r42%"
     ]
    },
    {
     "name": "stdout",
     "output_type": "stream",
     "text": [
      "\r43%"
     ]
    },
    {
     "name": "stdout",
     "output_type": "stream",
     "text": [
      "\r43%"
     ]
    },
    {
     "name": "stdout",
     "output_type": "stream",
     "text": [
      "\r43%"
     ]
    },
    {
     "name": "stdout",
     "output_type": "stream",
     "text": [
      "\r43%"
     ]
    },
    {
     "name": "stdout",
     "output_type": "stream",
     "text": [
      "\r44%"
     ]
    },
    {
     "name": "stdout",
     "output_type": "stream",
     "text": [
      "\r44%"
     ]
    },
    {
     "name": "stdout",
     "output_type": "stream",
     "text": [
      "\r44%"
     ]
    },
    {
     "name": "stdout",
     "output_type": "stream",
     "text": [
      "\r45%"
     ]
    },
    {
     "name": "stdout",
     "output_type": "stream",
     "text": [
      "\r45%"
     ]
    },
    {
     "name": "stdout",
     "output_type": "stream",
     "text": [
      "\r45%"
     ]
    },
    {
     "name": "stdout",
     "output_type": "stream",
     "text": [
      "\r45%"
     ]
    },
    {
     "name": "stdout",
     "output_type": "stream",
     "text": [
      "\r46%"
     ]
    },
    {
     "name": "stdout",
     "output_type": "stream",
     "text": [
      "\r46%"
     ]
    },
    {
     "name": "stdout",
     "output_type": "stream",
     "text": [
      "\r46%"
     ]
    },
    {
     "name": "stdout",
     "output_type": "stream",
     "text": [
      "\r46%"
     ]
    },
    {
     "name": "stdout",
     "output_type": "stream",
     "text": [
      "\r47%"
     ]
    },
    {
     "name": "stdout",
     "output_type": "stream",
     "text": [
      "\r47%"
     ]
    },
    {
     "name": "stdout",
     "output_type": "stream",
     "text": [
      "\r47%"
     ]
    },
    {
     "name": "stdout",
     "output_type": "stream",
     "text": [
      "\r48%"
     ]
    },
    {
     "name": "stdout",
     "output_type": "stream",
     "text": [
      "\r48%"
     ]
    },
    {
     "name": "stdout",
     "output_type": "stream",
     "text": [
      "\r48%"
     ]
    },
    {
     "name": "stdout",
     "output_type": "stream",
     "text": [
      "\r48%"
     ]
    },
    {
     "name": "stdout",
     "output_type": "stream",
     "text": [
      "\r49%"
     ]
    },
    {
     "name": "stdout",
     "output_type": "stream",
     "text": [
      "\r49%"
     ]
    },
    {
     "name": "stdout",
     "output_type": "stream",
     "text": [
      "\r49%"
     ]
    },
    {
     "name": "stdout",
     "output_type": "stream",
     "text": [
      "\r50%"
     ]
    },
    {
     "name": "stdout",
     "output_type": "stream",
     "text": [
      "\r50%"
     ]
    },
    {
     "name": "stdout",
     "output_type": "stream",
     "text": [
      "\r50%"
     ]
    },
    {
     "name": "stdout",
     "output_type": "stream",
     "text": [
      "\r50%"
     ]
    },
    {
     "name": "stdout",
     "output_type": "stream",
     "text": [
      "\r51%"
     ]
    },
    {
     "name": "stdout",
     "output_type": "stream",
     "text": [
      "\r51%"
     ]
    },
    {
     "name": "stdout",
     "output_type": "stream",
     "text": [
      "\r51%"
     ]
    },
    {
     "name": "stdout",
     "output_type": "stream",
     "text": [
      "\r51%"
     ]
    },
    {
     "name": "stdout",
     "output_type": "stream",
     "text": [
      "\r52%"
     ]
    },
    {
     "name": "stdout",
     "output_type": "stream",
     "text": [
      "\r52%"
     ]
    },
    {
     "name": "stdout",
     "output_type": "stream",
     "text": [
      "\r52%"
     ]
    },
    {
     "name": "stdout",
     "output_type": "stream",
     "text": [
      "\r53%"
     ]
    },
    {
     "name": "stdout",
     "output_type": "stream",
     "text": [
      "\r53%"
     ]
    },
    {
     "name": "stdout",
     "output_type": "stream",
     "text": [
      "\r53%"
     ]
    },
    {
     "name": "stdout",
     "output_type": "stream",
     "text": [
      "\r53%"
     ]
    },
    {
     "name": "stdout",
     "output_type": "stream",
     "text": [
      "\r54%"
     ]
    },
    {
     "name": "stdout",
     "output_type": "stream",
     "text": [
      "\r54%"
     ]
    },
    {
     "name": "stdout",
     "output_type": "stream",
     "text": [
      "\r54%"
     ]
    },
    {
     "name": "stdout",
     "output_type": "stream",
     "text": [
      "\r54%"
     ]
    },
    {
     "name": "stdout",
     "output_type": "stream",
     "text": [
      "\r55%"
     ]
    },
    {
     "name": "stdout",
     "output_type": "stream",
     "text": [
      "\r55%"
     ]
    },
    {
     "name": "stdout",
     "output_type": "stream",
     "text": [
      "\r55%"
     ]
    },
    {
     "name": "stdout",
     "output_type": "stream",
     "text": [
      "\r56%"
     ]
    },
    {
     "name": "stdout",
     "output_type": "stream",
     "text": [
      "\r56%"
     ]
    },
    {
     "name": "stdout",
     "output_type": "stream",
     "text": [
      "\r56%"
     ]
    },
    {
     "name": "stdout",
     "output_type": "stream",
     "text": [
      "\r56%"
     ]
    },
    {
     "name": "stdout",
     "output_type": "stream",
     "text": [
      "\r57%"
     ]
    },
    {
     "name": "stdout",
     "output_type": "stream",
     "text": [
      "\r57%"
     ]
    },
    {
     "name": "stdout",
     "output_type": "stream",
     "text": [
      "\r57%"
     ]
    },
    {
     "name": "stdout",
     "output_type": "stream",
     "text": [
      "\r57%"
     ]
    },
    {
     "name": "stdout",
     "output_type": "stream",
     "text": [
      "\r58%"
     ]
    },
    {
     "name": "stdout",
     "output_type": "stream",
     "text": [
      "\r58%"
     ]
    },
    {
     "name": "stdout",
     "output_type": "stream",
     "text": [
      "\r58%"
     ]
    },
    {
     "name": "stdout",
     "output_type": "stream",
     "text": [
      "\r59%"
     ]
    },
    {
     "name": "stdout",
     "output_type": "stream",
     "text": [
      "\r59%"
     ]
    },
    {
     "name": "stdout",
     "output_type": "stream",
     "text": [
      "\r59%"
     ]
    },
    {
     "name": "stdout",
     "output_type": "stream",
     "text": [
      "\r59%"
     ]
    },
    {
     "name": "stdout",
     "output_type": "stream",
     "text": [
      "\r60%"
     ]
    },
    {
     "name": "stdout",
     "output_type": "stream",
     "text": [
      "\r60%"
     ]
    },
    {
     "name": "stdout",
     "output_type": "stream",
     "text": [
      "\r60%"
     ]
    },
    {
     "name": "stdout",
     "output_type": "stream",
     "text": [
      "\r60%"
     ]
    },
    {
     "name": "stdout",
     "output_type": "stream",
     "text": [
      "\r61%"
     ]
    },
    {
     "name": "stdout",
     "output_type": "stream",
     "text": [
      "\r61%"
     ]
    },
    {
     "name": "stdout",
     "output_type": "stream",
     "text": [
      "\r61%"
     ]
    },
    {
     "name": "stdout",
     "output_type": "stream",
     "text": [
      "\r62%"
     ]
    },
    {
     "name": "stdout",
     "output_type": "stream",
     "text": [
      "\r62%"
     ]
    },
    {
     "name": "stdout",
     "output_type": "stream",
     "text": [
      "\r62%"
     ]
    },
    {
     "name": "stdout",
     "output_type": "stream",
     "text": [
      "\r62%"
     ]
    },
    {
     "name": "stdout",
     "output_type": "stream",
     "text": [
      "\r63%"
     ]
    },
    {
     "name": "stdout",
     "output_type": "stream",
     "text": [
      "\r63%"
     ]
    },
    {
     "name": "stdout",
     "output_type": "stream",
     "text": [
      "\r63%"
     ]
    },
    {
     "name": "stdout",
     "output_type": "stream",
     "text": [
      "\r63%"
     ]
    },
    {
     "name": "stdout",
     "output_type": "stream",
     "text": [
      "\r64%"
     ]
    },
    {
     "name": "stdout",
     "output_type": "stream",
     "text": [
      "\r64%"
     ]
    },
    {
     "name": "stdout",
     "output_type": "stream",
     "text": [
      "\r64%"
     ]
    },
    {
     "name": "stdout",
     "output_type": "stream",
     "text": [
      "\r65%"
     ]
    },
    {
     "name": "stdout",
     "output_type": "stream",
     "text": [
      "\r65%"
     ]
    },
    {
     "name": "stdout",
     "output_type": "stream",
     "text": [
      "\r65%"
     ]
    },
    {
     "name": "stdout",
     "output_type": "stream",
     "text": [
      "\r65%"
     ]
    },
    {
     "name": "stdout",
     "output_type": "stream",
     "text": [
      "\r66%"
     ]
    },
    {
     "name": "stdout",
     "output_type": "stream",
     "text": [
      "\r66%"
     ]
    },
    {
     "name": "stdout",
     "output_type": "stream",
     "text": [
      "\r66%"
     ]
    },
    {
     "name": "stdout",
     "output_type": "stream",
     "text": [
      "\r66%"
     ]
    },
    {
     "name": "stdout",
     "output_type": "stream",
     "text": [
      "\r67%"
     ]
    },
    {
     "name": "stdout",
     "output_type": "stream",
     "text": [
      "\r67%"
     ]
    },
    {
     "name": "stdout",
     "output_type": "stream",
     "text": [
      "\r67%"
     ]
    },
    {
     "name": "stdout",
     "output_type": "stream",
     "text": [
      "\r68%"
     ]
    },
    {
     "name": "stdout",
     "output_type": "stream",
     "text": [
      "\r68%"
     ]
    },
    {
     "name": "stdout",
     "output_type": "stream",
     "text": [
      "\r68%"
     ]
    },
    {
     "name": "stdout",
     "output_type": "stream",
     "text": [
      "\r68%"
     ]
    },
    {
     "name": "stdout",
     "output_type": "stream",
     "text": [
      "\r69%"
     ]
    },
    {
     "name": "stdout",
     "output_type": "stream",
     "text": [
      "\r69%"
     ]
    },
    {
     "name": "stdout",
     "output_type": "stream",
     "text": [
      "\r69%"
     ]
    },
    {
     "name": "stdout",
     "output_type": "stream",
     "text": [
      "\r69%"
     ]
    },
    {
     "name": "stdout",
     "output_type": "stream",
     "text": [
      "\r70%"
     ]
    },
    {
     "name": "stdout",
     "output_type": "stream",
     "text": [
      "\r70%"
     ]
    },
    {
     "name": "stdout",
     "output_type": "stream",
     "text": [
      "\r70%"
     ]
    },
    {
     "name": "stdout",
     "output_type": "stream",
     "text": [
      "\r71%"
     ]
    },
    {
     "name": "stdout",
     "output_type": "stream",
     "text": [
      "\r71%"
     ]
    },
    {
     "name": "stdout",
     "output_type": "stream",
     "text": [
      "\r71%"
     ]
    },
    {
     "name": "stdout",
     "output_type": "stream",
     "text": [
      "\r71%"
     ]
    },
    {
     "name": "stdout",
     "output_type": "stream",
     "text": [
      "\r72%"
     ]
    },
    {
     "name": "stdout",
     "output_type": "stream",
     "text": [
      "\r72%"
     ]
    },
    {
     "name": "stdout",
     "output_type": "stream",
     "text": [
      "\r72%"
     ]
    },
    {
     "name": "stdout",
     "output_type": "stream",
     "text": [
      "\r72%"
     ]
    },
    {
     "name": "stdout",
     "output_type": "stream",
     "text": [
      "\r73%"
     ]
    },
    {
     "name": "stdout",
     "output_type": "stream",
     "text": [
      "\r73%"
     ]
    },
    {
     "name": "stdout",
     "output_type": "stream",
     "text": [
      "\r73%"
     ]
    },
    {
     "name": "stdout",
     "output_type": "stream",
     "text": [
      "\r74%"
     ]
    },
    {
     "name": "stdout",
     "output_type": "stream",
     "text": [
      "\r74%"
     ]
    },
    {
     "name": "stdout",
     "output_type": "stream",
     "text": [
      "\r74%"
     ]
    },
    {
     "name": "stdout",
     "output_type": "stream",
     "text": [
      "\r74%"
     ]
    },
    {
     "name": "stdout",
     "output_type": "stream",
     "text": [
      "\r75%"
     ]
    },
    {
     "name": "stdout",
     "output_type": "stream",
     "text": [
      "\r75%"
     ]
    },
    {
     "name": "stdout",
     "output_type": "stream",
     "text": [
      "\r75%"
     ]
    },
    {
     "name": "stdout",
     "output_type": "stream",
     "text": [
      "\r75%"
     ]
    },
    {
     "name": "stdout",
     "output_type": "stream",
     "text": [
      "\r76%"
     ]
    },
    {
     "name": "stdout",
     "output_type": "stream",
     "text": [
      "\r76%"
     ]
    },
    {
     "name": "stdout",
     "output_type": "stream",
     "text": [
      "\r76%"
     ]
    },
    {
     "name": "stdout",
     "output_type": "stream",
     "text": [
      "\r77%"
     ]
    },
    {
     "name": "stdout",
     "output_type": "stream",
     "text": [
      "\r77%"
     ]
    },
    {
     "name": "stdout",
     "output_type": "stream",
     "text": [
      "\r77%"
     ]
    },
    {
     "name": "stdout",
     "output_type": "stream",
     "text": [
      "\r77%"
     ]
    },
    {
     "name": "stdout",
     "output_type": "stream",
     "text": [
      "\r78%"
     ]
    },
    {
     "name": "stdout",
     "output_type": "stream",
     "text": [
      "\r78%"
     ]
    },
    {
     "name": "stdout",
     "output_type": "stream",
     "text": [
      "\r78%"
     ]
    },
    {
     "name": "stdout",
     "output_type": "stream",
     "text": [
      "\r78%"
     ]
    },
    {
     "name": "stdout",
     "output_type": "stream",
     "text": [
      "\r79%"
     ]
    },
    {
     "name": "stdout",
     "output_type": "stream",
     "text": [
      "\r79%"
     ]
    },
    {
     "name": "stdout",
     "output_type": "stream",
     "text": [
      "\r79%"
     ]
    },
    {
     "name": "stdout",
     "output_type": "stream",
     "text": [
      "\r80%"
     ]
    },
    {
     "name": "stdout",
     "output_type": "stream",
     "text": [
      "\r80%"
     ]
    },
    {
     "name": "stdout",
     "output_type": "stream",
     "text": [
      "\r80%"
     ]
    },
    {
     "name": "stdout",
     "output_type": "stream",
     "text": [
      "\r80%"
     ]
    },
    {
     "name": "stdout",
     "output_type": "stream",
     "text": [
      "\r81%"
     ]
    },
    {
     "name": "stdout",
     "output_type": "stream",
     "text": [
      "\r81%"
     ]
    },
    {
     "name": "stdout",
     "output_type": "stream",
     "text": [
      "\r81%"
     ]
    },
    {
     "name": "stdout",
     "output_type": "stream",
     "text": [
      "\r81%"
     ]
    },
    {
     "name": "stdout",
     "output_type": "stream",
     "text": [
      "\r82%"
     ]
    },
    {
     "name": "stdout",
     "output_type": "stream",
     "text": [
      "\r82%"
     ]
    },
    {
     "name": "stdout",
     "output_type": "stream",
     "text": [
      "\r82%"
     ]
    },
    {
     "name": "stdout",
     "output_type": "stream",
     "text": [
      "\r83%"
     ]
    },
    {
     "name": "stdout",
     "output_type": "stream",
     "text": [
      "\r83%"
     ]
    },
    {
     "name": "stdout",
     "output_type": "stream",
     "text": [
      "\r83%"
     ]
    },
    {
     "name": "stdout",
     "output_type": "stream",
     "text": [
      "\r83%"
     ]
    },
    {
     "name": "stdout",
     "output_type": "stream",
     "text": [
      "\r84%"
     ]
    },
    {
     "name": "stdout",
     "output_type": "stream",
     "text": [
      "\r84%"
     ]
    },
    {
     "name": "stdout",
     "output_type": "stream",
     "text": [
      "\r84%"
     ]
    },
    {
     "name": "stdout",
     "output_type": "stream",
     "text": [
      "\r84%"
     ]
    },
    {
     "name": "stdout",
     "output_type": "stream",
     "text": [
      "\r85%"
     ]
    },
    {
     "name": "stdout",
     "output_type": "stream",
     "text": [
      "\r85%"
     ]
    },
    {
     "name": "stdout",
     "output_type": "stream",
     "text": [
      "\r85%"
     ]
    },
    {
     "name": "stdout",
     "output_type": "stream",
     "text": [
      "\r86%"
     ]
    },
    {
     "name": "stdout",
     "output_type": "stream",
     "text": [
      "\r86%"
     ]
    },
    {
     "name": "stdout",
     "output_type": "stream",
     "text": [
      "\r86%"
     ]
    },
    {
     "name": "stdout",
     "output_type": "stream",
     "text": [
      "\r86%"
     ]
    },
    {
     "name": "stdout",
     "output_type": "stream",
     "text": [
      "\r87%"
     ]
    },
    {
     "name": "stdout",
     "output_type": "stream",
     "text": [
      "\r87%"
     ]
    },
    {
     "name": "stdout",
     "output_type": "stream",
     "text": [
      "\r87%"
     ]
    },
    {
     "name": "stdout",
     "output_type": "stream",
     "text": [
      "\r87%"
     ]
    },
    {
     "name": "stdout",
     "output_type": "stream",
     "text": [
      "\r88%"
     ]
    },
    {
     "name": "stdout",
     "output_type": "stream",
     "text": [
      "\r88%"
     ]
    },
    {
     "name": "stdout",
     "output_type": "stream",
     "text": [
      "\r88%"
     ]
    },
    {
     "name": "stdout",
     "output_type": "stream",
     "text": [
      "\r89%"
     ]
    },
    {
     "name": "stdout",
     "output_type": "stream",
     "text": [
      "\r89%"
     ]
    },
    {
     "name": "stdout",
     "output_type": "stream",
     "text": [
      "\r89%"
     ]
    },
    {
     "name": "stdout",
     "output_type": "stream",
     "text": [
      "\r89%"
     ]
    },
    {
     "name": "stdout",
     "output_type": "stream",
     "text": [
      "\r90%"
     ]
    },
    {
     "name": "stdout",
     "output_type": "stream",
     "text": [
      "\r90%"
     ]
    },
    {
     "name": "stdout",
     "output_type": "stream",
     "text": [
      "\r90%"
     ]
    },
    {
     "name": "stdout",
     "output_type": "stream",
     "text": [
      "\r90%"
     ]
    },
    {
     "name": "stdout",
     "output_type": "stream",
     "text": [
      "\r91%"
     ]
    },
    {
     "name": "stdout",
     "output_type": "stream",
     "text": [
      "\r91%"
     ]
    },
    {
     "name": "stdout",
     "output_type": "stream",
     "text": [
      "\r91%"
     ]
    },
    {
     "name": "stdout",
     "output_type": "stream",
     "text": [
      "\r92%"
     ]
    },
    {
     "name": "stdout",
     "output_type": "stream",
     "text": [
      "\r92%"
     ]
    },
    {
     "name": "stdout",
     "output_type": "stream",
     "text": [
      "\r92%"
     ]
    },
    {
     "name": "stdout",
     "output_type": "stream",
     "text": [
      "\r92%"
     ]
    },
    {
     "name": "stdout",
     "output_type": "stream",
     "text": [
      "\r93%"
     ]
    },
    {
     "name": "stdout",
     "output_type": "stream",
     "text": [
      "\r93%"
     ]
    },
    {
     "name": "stdout",
     "output_type": "stream",
     "text": [
      "\r93%"
     ]
    },
    {
     "name": "stdout",
     "output_type": "stream",
     "text": [
      "\r93%"
     ]
    },
    {
     "name": "stdout",
     "output_type": "stream",
     "text": [
      "\r94%"
     ]
    },
    {
     "name": "stdout",
     "output_type": "stream",
     "text": [
      "\r94%"
     ]
    },
    {
     "name": "stdout",
     "output_type": "stream",
     "text": [
      "\r94%"
     ]
    },
    {
     "name": "stdout",
     "output_type": "stream",
     "text": [
      "\r95%"
     ]
    },
    {
     "name": "stdout",
     "output_type": "stream",
     "text": [
      "\r95%"
     ]
    },
    {
     "name": "stdout",
     "output_type": "stream",
     "text": [
      "\r95%"
     ]
    },
    {
     "name": "stdout",
     "output_type": "stream",
     "text": [
      "\r95%"
     ]
    },
    {
     "name": "stdout",
     "output_type": "stream",
     "text": [
      "\r96%"
     ]
    },
    {
     "name": "stdout",
     "output_type": "stream",
     "text": [
      "\r96%"
     ]
    },
    {
     "name": "stdout",
     "output_type": "stream",
     "text": [
      "\r96%"
     ]
    },
    {
     "name": "stdout",
     "output_type": "stream",
     "text": [
      "\r96%"
     ]
    },
    {
     "name": "stdout",
     "output_type": "stream",
     "text": [
      "\r97%"
     ]
    },
    {
     "name": "stdout",
     "output_type": "stream",
     "text": [
      "\r97%"
     ]
    },
    {
     "name": "stdout",
     "output_type": "stream",
     "text": [
      "\r97%"
     ]
    },
    {
     "name": "stdout",
     "output_type": "stream",
     "text": [
      "\r98%"
     ]
    },
    {
     "name": "stdout",
     "output_type": "stream",
     "text": [
      "\r98%"
     ]
    },
    {
     "name": "stdout",
     "output_type": "stream",
     "text": [
      "\r98%"
     ]
    },
    {
     "name": "stdout",
     "output_type": "stream",
     "text": [
      "\r98%"
     ]
    },
    {
     "name": "stdout",
     "output_type": "stream",
     "text": [
      "\r99%"
     ]
    },
    {
     "name": "stdout",
     "output_type": "stream",
     "text": [
      "\r99%"
     ]
    },
    {
     "name": "stdout",
     "output_type": "stream",
     "text": [
      "\r99%"
     ]
    },
    {
     "name": "stdout",
     "output_type": "stream",
     "text": [
      "\r3 훈련 MSE: 0.027227374\n"
     ]
    },
    {
     "name": "stdout",
     "output_type": "stream",
     "text": [
      "\r0%"
     ]
    },
    {
     "name": "stdout",
     "output_type": "stream",
     "text": [
      "\r0%"
     ]
    },
    {
     "name": "stdout",
     "output_type": "stream",
     "text": [
      "\r0%"
     ]
    },
    {
     "name": "stdout",
     "output_type": "stream",
     "text": [
      "\r0%"
     ]
    },
    {
     "name": "stdout",
     "output_type": "stream",
     "text": [
      "\r1%"
     ]
    },
    {
     "name": "stdout",
     "output_type": "stream",
     "text": [
      "\r1%"
     ]
    },
    {
     "name": "stdout",
     "output_type": "stream",
     "text": [
      "\r1%"
     ]
    },
    {
     "name": "stdout",
     "output_type": "stream",
     "text": [
      "\r1%"
     ]
    },
    {
     "name": "stdout",
     "output_type": "stream",
     "text": [
      "\r2%"
     ]
    },
    {
     "name": "stdout",
     "output_type": "stream",
     "text": [
      "\r2%"
     ]
    },
    {
     "name": "stdout",
     "output_type": "stream",
     "text": [
      "\r2%"
     ]
    },
    {
     "name": "stdout",
     "output_type": "stream",
     "text": [
      "\r3%"
     ]
    },
    {
     "name": "stdout",
     "output_type": "stream",
     "text": [
      "\r3%"
     ]
    },
    {
     "name": "stdout",
     "output_type": "stream",
     "text": [
      "\r3%"
     ]
    },
    {
     "name": "stdout",
     "output_type": "stream",
     "text": [
      "\r3%"
     ]
    },
    {
     "name": "stdout",
     "output_type": "stream",
     "text": [
      "\r4%"
     ]
    },
    {
     "name": "stdout",
     "output_type": "stream",
     "text": [
      "\r4%"
     ]
    },
    {
     "name": "stdout",
     "output_type": "stream",
     "text": [
      "\r4%"
     ]
    },
    {
     "name": "stdout",
     "output_type": "stream",
     "text": [
      "\r4%"
     ]
    },
    {
     "name": "stdout",
     "output_type": "stream",
     "text": [
      "\r5%"
     ]
    },
    {
     "name": "stdout",
     "output_type": "stream",
     "text": [
      "\r5%"
     ]
    },
    {
     "name": "stdout",
     "output_type": "stream",
     "text": [
      "\r5%"
     ]
    },
    {
     "name": "stdout",
     "output_type": "stream",
     "text": [
      "\r6%"
     ]
    },
    {
     "name": "stdout",
     "output_type": "stream",
     "text": [
      "\r6%"
     ]
    },
    {
     "name": "stdout",
     "output_type": "stream",
     "text": [
      "\r6%"
     ]
    },
    {
     "name": "stdout",
     "output_type": "stream",
     "text": [
      "\r6%"
     ]
    },
    {
     "name": "stdout",
     "output_type": "stream",
     "text": [
      "\r7%"
     ]
    },
    {
     "name": "stdout",
     "output_type": "stream",
     "text": [
      "\r7%"
     ]
    },
    {
     "name": "stdout",
     "output_type": "stream",
     "text": [
      "\r7%"
     ]
    },
    {
     "name": "stdout",
     "output_type": "stream",
     "text": [
      "\r7%"
     ]
    },
    {
     "name": "stdout",
     "output_type": "stream",
     "text": [
      "\r8%"
     ]
    },
    {
     "name": "stdout",
     "output_type": "stream",
     "text": [
      "\r8%"
     ]
    },
    {
     "name": "stdout",
     "output_type": "stream",
     "text": [
      "\r8%"
     ]
    },
    {
     "name": "stdout",
     "output_type": "stream",
     "text": [
      "\r9%"
     ]
    },
    {
     "name": "stdout",
     "output_type": "stream",
     "text": [
      "\r9%"
     ]
    },
    {
     "name": "stdout",
     "output_type": "stream",
     "text": [
      "\r9%"
     ]
    },
    {
     "name": "stdout",
     "output_type": "stream",
     "text": [
      "\r9%"
     ]
    },
    {
     "name": "stdout",
     "output_type": "stream",
     "text": [
      "\r10%"
     ]
    },
    {
     "name": "stdout",
     "output_type": "stream",
     "text": [
      "\r10%"
     ]
    },
    {
     "name": "stdout",
     "output_type": "stream",
     "text": [
      "\r10%"
     ]
    },
    {
     "name": "stdout",
     "output_type": "stream",
     "text": [
      "\r10%"
     ]
    },
    {
     "name": "stdout",
     "output_type": "stream",
     "text": [
      "\r11%"
     ]
    },
    {
     "name": "stdout",
     "output_type": "stream",
     "text": [
      "\r11%"
     ]
    },
    {
     "name": "stdout",
     "output_type": "stream",
     "text": [
      "\r11%"
     ]
    },
    {
     "name": "stdout",
     "output_type": "stream",
     "text": [
      "\r12%"
     ]
    },
    {
     "name": "stdout",
     "output_type": "stream",
     "text": [
      "\r12%"
     ]
    },
    {
     "name": "stdout",
     "output_type": "stream",
     "text": [
      "\r12%"
     ]
    },
    {
     "name": "stdout",
     "output_type": "stream",
     "text": [
      "\r12%"
     ]
    },
    {
     "name": "stdout",
     "output_type": "stream",
     "text": [
      "\r13%"
     ]
    },
    {
     "name": "stdout",
     "output_type": "stream",
     "text": [
      "\r13%"
     ]
    },
    {
     "name": "stdout",
     "output_type": "stream",
     "text": [
      "\r13%"
     ]
    },
    {
     "name": "stdout",
     "output_type": "stream",
     "text": [
      "\r13%"
     ]
    },
    {
     "name": "stdout",
     "output_type": "stream",
     "text": [
      "\r14%"
     ]
    },
    {
     "name": "stdout",
     "output_type": "stream",
     "text": [
      "\r14%"
     ]
    },
    {
     "name": "stdout",
     "output_type": "stream",
     "text": [
      "\r14%"
     ]
    },
    {
     "name": "stdout",
     "output_type": "stream",
     "text": [
      "\r15%"
     ]
    },
    {
     "name": "stdout",
     "output_type": "stream",
     "text": [
      "\r15%"
     ]
    },
    {
     "name": "stdout",
     "output_type": "stream",
     "text": [
      "\r15%"
     ]
    },
    {
     "name": "stdout",
     "output_type": "stream",
     "text": [
      "\r15%"
     ]
    },
    {
     "name": "stdout",
     "output_type": "stream",
     "text": [
      "\r16%"
     ]
    },
    {
     "name": "stdout",
     "output_type": "stream",
     "text": [
      "\r16%"
     ]
    },
    {
     "name": "stdout",
     "output_type": "stream",
     "text": [
      "\r16%"
     ]
    },
    {
     "name": "stdout",
     "output_type": "stream",
     "text": [
      "\r16%"
     ]
    },
    {
     "name": "stdout",
     "output_type": "stream",
     "text": [
      "\r17%"
     ]
    },
    {
     "name": "stdout",
     "output_type": "stream",
     "text": [
      "\r17%"
     ]
    },
    {
     "name": "stdout",
     "output_type": "stream",
     "text": [
      "\r17%"
     ]
    },
    {
     "name": "stdout",
     "output_type": "stream",
     "text": [
      "\r18%"
     ]
    },
    {
     "name": "stdout",
     "output_type": "stream",
     "text": [
      "\r18%"
     ]
    },
    {
     "name": "stdout",
     "output_type": "stream",
     "text": [
      "\r18%"
     ]
    },
    {
     "name": "stdout",
     "output_type": "stream",
     "text": [
      "\r18%"
     ]
    },
    {
     "name": "stdout",
     "output_type": "stream",
     "text": [
      "\r19%"
     ]
    },
    {
     "name": "stdout",
     "output_type": "stream",
     "text": [
      "\r19%"
     ]
    },
    {
     "name": "stdout",
     "output_type": "stream",
     "text": [
      "\r19%"
     ]
    },
    {
     "name": "stdout",
     "output_type": "stream",
     "text": [
      "\r19%"
     ]
    },
    {
     "name": "stdout",
     "output_type": "stream",
     "text": [
      "\r20%"
     ]
    },
    {
     "name": "stdout",
     "output_type": "stream",
     "text": [
      "\r20%"
     ]
    },
    {
     "name": "stdout",
     "output_type": "stream",
     "text": [
      "\r20%"
     ]
    },
    {
     "name": "stdout",
     "output_type": "stream",
     "text": [
      "\r21%"
     ]
    },
    {
     "name": "stdout",
     "output_type": "stream",
     "text": [
      "\r21%"
     ]
    },
    {
     "name": "stdout",
     "output_type": "stream",
     "text": [
      "\r21%"
     ]
    },
    {
     "name": "stdout",
     "output_type": "stream",
     "text": [
      "\r21%"
     ]
    },
    {
     "name": "stdout",
     "output_type": "stream",
     "text": [
      "\r22%"
     ]
    },
    {
     "name": "stdout",
     "output_type": "stream",
     "text": [
      "\r22%"
     ]
    },
    {
     "name": "stdout",
     "output_type": "stream",
     "text": [
      "\r22%"
     ]
    },
    {
     "name": "stdout",
     "output_type": "stream",
     "text": [
      "\r22%"
     ]
    },
    {
     "name": "stdout",
     "output_type": "stream",
     "text": [
      "\r23%"
     ]
    },
    {
     "name": "stdout",
     "output_type": "stream",
     "text": [
      "\r23%"
     ]
    },
    {
     "name": "stdout",
     "output_type": "stream",
     "text": [
      "\r23%"
     ]
    },
    {
     "name": "stdout",
     "output_type": "stream",
     "text": [
      "\r24%"
     ]
    },
    {
     "name": "stdout",
     "output_type": "stream",
     "text": [
      "\r24%"
     ]
    },
    {
     "name": "stdout",
     "output_type": "stream",
     "text": [
      "\r24%"
     ]
    },
    {
     "name": "stdout",
     "output_type": "stream",
     "text": [
      "\r24%"
     ]
    },
    {
     "name": "stdout",
     "output_type": "stream",
     "text": [
      "\r25%"
     ]
    },
    {
     "name": "stdout",
     "output_type": "stream",
     "text": [
      "\r25%"
     ]
    },
    {
     "name": "stdout",
     "output_type": "stream",
     "text": [
      "\r25%"
     ]
    },
    {
     "name": "stdout",
     "output_type": "stream",
     "text": [
      "\r25%"
     ]
    },
    {
     "name": "stdout",
     "output_type": "stream",
     "text": [
      "\r26%"
     ]
    },
    {
     "name": "stdout",
     "output_type": "stream",
     "text": [
      "\r26%"
     ]
    },
    {
     "name": "stdout",
     "output_type": "stream",
     "text": [
      "\r26%"
     ]
    },
    {
     "name": "stdout",
     "output_type": "stream",
     "text": [
      "\r27%"
     ]
    },
    {
     "name": "stdout",
     "output_type": "stream",
     "text": [
      "\r27%"
     ]
    },
    {
     "name": "stdout",
     "output_type": "stream",
     "text": [
      "\r27%"
     ]
    },
    {
     "name": "stdout",
     "output_type": "stream",
     "text": [
      "\r27%"
     ]
    },
    {
     "name": "stdout",
     "output_type": "stream",
     "text": [
      "\r28%"
     ]
    },
    {
     "name": "stdout",
     "output_type": "stream",
     "text": [
      "\r28%"
     ]
    },
    {
     "name": "stdout",
     "output_type": "stream",
     "text": [
      "\r28%"
     ]
    },
    {
     "name": "stdout",
     "output_type": "stream",
     "text": [
      "\r28%"
     ]
    },
    {
     "name": "stdout",
     "output_type": "stream",
     "text": [
      "\r29%"
     ]
    },
    {
     "name": "stdout",
     "output_type": "stream",
     "text": [
      "\r29%"
     ]
    },
    {
     "name": "stdout",
     "output_type": "stream",
     "text": [
      "\r29%"
     ]
    },
    {
     "name": "stdout",
     "output_type": "stream",
     "text": [
      "\r30%"
     ]
    },
    {
     "name": "stdout",
     "output_type": "stream",
     "text": [
      "\r30%"
     ]
    },
    {
     "name": "stdout",
     "output_type": "stream",
     "text": [
      "\r30%"
     ]
    },
    {
     "name": "stdout",
     "output_type": "stream",
     "text": [
      "\r30%"
     ]
    },
    {
     "name": "stdout",
     "output_type": "stream",
     "text": [
      "\r31%"
     ]
    },
    {
     "name": "stdout",
     "output_type": "stream",
     "text": [
      "\r31%"
     ]
    },
    {
     "name": "stdout",
     "output_type": "stream",
     "text": [
      "\r31%"
     ]
    },
    {
     "name": "stdout",
     "output_type": "stream",
     "text": [
      "\r31%"
     ]
    },
    {
     "name": "stdout",
     "output_type": "stream",
     "text": [
      "\r32%"
     ]
    },
    {
     "name": "stdout",
     "output_type": "stream",
     "text": [
      "\r32%"
     ]
    },
    {
     "name": "stdout",
     "output_type": "stream",
     "text": [
      "\r32%"
     ]
    },
    {
     "name": "stdout",
     "output_type": "stream",
     "text": [
      "\r33%"
     ]
    },
    {
     "name": "stdout",
     "output_type": "stream",
     "text": [
      "\r33%"
     ]
    },
    {
     "name": "stdout",
     "output_type": "stream",
     "text": [
      "\r33%"
     ]
    },
    {
     "name": "stdout",
     "output_type": "stream",
     "text": [
      "\r33%"
     ]
    },
    {
     "name": "stdout",
     "output_type": "stream",
     "text": [
      "\r34%"
     ]
    },
    {
     "name": "stdout",
     "output_type": "stream",
     "text": [
      "\r34%"
     ]
    },
    {
     "name": "stdout",
     "output_type": "stream",
     "text": [
      "\r34%"
     ]
    },
    {
     "name": "stdout",
     "output_type": "stream",
     "text": [
      "\r34%"
     ]
    },
    {
     "name": "stdout",
     "output_type": "stream",
     "text": [
      "\r35%"
     ]
    },
    {
     "name": "stdout",
     "output_type": "stream",
     "text": [
      "\r35%"
     ]
    },
    {
     "name": "stdout",
     "output_type": "stream",
     "text": [
      "\r35%"
     ]
    },
    {
     "name": "stdout",
     "output_type": "stream",
     "text": [
      "\r36%"
     ]
    },
    {
     "name": "stdout",
     "output_type": "stream",
     "text": [
      "\r36%"
     ]
    },
    {
     "name": "stdout",
     "output_type": "stream",
     "text": [
      "\r36%"
     ]
    },
    {
     "name": "stdout",
     "output_type": "stream",
     "text": [
      "\r36%"
     ]
    },
    {
     "name": "stdout",
     "output_type": "stream",
     "text": [
      "\r37%"
     ]
    },
    {
     "name": "stdout",
     "output_type": "stream",
     "text": [
      "\r37%"
     ]
    },
    {
     "name": "stdout",
     "output_type": "stream",
     "text": [
      "\r37%"
     ]
    },
    {
     "name": "stdout",
     "output_type": "stream",
     "text": [
      "\r37%"
     ]
    },
    {
     "name": "stdout",
     "output_type": "stream",
     "text": [
      "\r38%"
     ]
    },
    {
     "name": "stdout",
     "output_type": "stream",
     "text": [
      "\r38%"
     ]
    },
    {
     "name": "stdout",
     "output_type": "stream",
     "text": [
      "\r38%"
     ]
    },
    {
     "name": "stdout",
     "output_type": "stream",
     "text": [
      "\r39%"
     ]
    },
    {
     "name": "stdout",
     "output_type": "stream",
     "text": [
      "\r39%"
     ]
    },
    {
     "name": "stdout",
     "output_type": "stream",
     "text": [
      "\r39%"
     ]
    },
    {
     "name": "stdout",
     "output_type": "stream",
     "text": [
      "\r39%"
     ]
    },
    {
     "name": "stdout",
     "output_type": "stream",
     "text": [
      "\r40%"
     ]
    },
    {
     "name": "stdout",
     "output_type": "stream",
     "text": [
      "\r40%"
     ]
    },
    {
     "name": "stdout",
     "output_type": "stream",
     "text": [
      "\r40%"
     ]
    },
    {
     "name": "stdout",
     "output_type": "stream",
     "text": [
      "\r40%"
     ]
    },
    {
     "name": "stdout",
     "output_type": "stream",
     "text": [
      "\r41%"
     ]
    },
    {
     "name": "stdout",
     "output_type": "stream",
     "text": [
      "\r41%"
     ]
    },
    {
     "name": "stdout",
     "output_type": "stream",
     "text": [
      "\r41%"
     ]
    },
    {
     "name": "stdout",
     "output_type": "stream",
     "text": [
      "\r42%"
     ]
    },
    {
     "name": "stdout",
     "output_type": "stream",
     "text": [
      "\r42%"
     ]
    },
    {
     "name": "stdout",
     "output_type": "stream",
     "text": [
      "\r42%"
     ]
    },
    {
     "name": "stdout",
     "output_type": "stream",
     "text": [
      "\r42%"
     ]
    },
    {
     "name": "stdout",
     "output_type": "stream",
     "text": [
      "\r43%"
     ]
    },
    {
     "name": "stdout",
     "output_type": "stream",
     "text": [
      "\r43%"
     ]
    },
    {
     "name": "stdout",
     "output_type": "stream",
     "text": [
      "\r43%"
     ]
    },
    {
     "name": "stdout",
     "output_type": "stream",
     "text": [
      "\r43%"
     ]
    },
    {
     "name": "stdout",
     "output_type": "stream",
     "text": [
      "\r44%"
     ]
    },
    {
     "name": "stdout",
     "output_type": "stream",
     "text": [
      "\r44%"
     ]
    },
    {
     "name": "stdout",
     "output_type": "stream",
     "text": [
      "\r44%"
     ]
    },
    {
     "name": "stdout",
     "output_type": "stream",
     "text": [
      "\r45%"
     ]
    },
    {
     "name": "stdout",
     "output_type": "stream",
     "text": [
      "\r45%"
     ]
    },
    {
     "name": "stdout",
     "output_type": "stream",
     "text": [
      "\r45%"
     ]
    },
    {
     "name": "stdout",
     "output_type": "stream",
     "text": [
      "\r45%"
     ]
    },
    {
     "name": "stdout",
     "output_type": "stream",
     "text": [
      "\r46%"
     ]
    },
    {
     "name": "stdout",
     "output_type": "stream",
     "text": [
      "\r46%"
     ]
    },
    {
     "name": "stdout",
     "output_type": "stream",
     "text": [
      "\r46%"
     ]
    },
    {
     "name": "stdout",
     "output_type": "stream",
     "text": [
      "\r46%"
     ]
    },
    {
     "name": "stdout",
     "output_type": "stream",
     "text": [
      "\r47%"
     ]
    },
    {
     "name": "stdout",
     "output_type": "stream",
     "text": [
      "\r47%"
     ]
    },
    {
     "name": "stdout",
     "output_type": "stream",
     "text": [
      "\r47%"
     ]
    },
    {
     "name": "stdout",
     "output_type": "stream",
     "text": [
      "\r48%"
     ]
    },
    {
     "name": "stdout",
     "output_type": "stream",
     "text": [
      "\r48%"
     ]
    },
    {
     "name": "stdout",
     "output_type": "stream",
     "text": [
      "\r48%"
     ]
    },
    {
     "name": "stdout",
     "output_type": "stream",
     "text": [
      "\r48%"
     ]
    },
    {
     "name": "stdout",
     "output_type": "stream",
     "text": [
      "\r49%"
     ]
    },
    {
     "name": "stdout",
     "output_type": "stream",
     "text": [
      "\r49%"
     ]
    },
    {
     "name": "stdout",
     "output_type": "stream",
     "text": [
      "\r49%"
     ]
    },
    {
     "name": "stdout",
     "output_type": "stream",
     "text": [
      "\r50%"
     ]
    },
    {
     "name": "stdout",
     "output_type": "stream",
     "text": [
      "\r50%"
     ]
    },
    {
     "name": "stdout",
     "output_type": "stream",
     "text": [
      "\r50%"
     ]
    },
    {
     "name": "stdout",
     "output_type": "stream",
     "text": [
      "\r50%"
     ]
    },
    {
     "name": "stdout",
     "output_type": "stream",
     "text": [
      "\r51%"
     ]
    },
    {
     "name": "stdout",
     "output_type": "stream",
     "text": [
      "\r51%"
     ]
    },
    {
     "name": "stdout",
     "output_type": "stream",
     "text": [
      "\r51%"
     ]
    },
    {
     "name": "stdout",
     "output_type": "stream",
     "text": [
      "\r51%"
     ]
    },
    {
     "name": "stdout",
     "output_type": "stream",
     "text": [
      "\r52%"
     ]
    },
    {
     "name": "stdout",
     "output_type": "stream",
     "text": [
      "\r52%"
     ]
    },
    {
     "name": "stdout",
     "output_type": "stream",
     "text": [
      "\r52%"
     ]
    },
    {
     "name": "stdout",
     "output_type": "stream",
     "text": [
      "\r53%"
     ]
    },
    {
     "name": "stdout",
     "output_type": "stream",
     "text": [
      "\r53%"
     ]
    },
    {
     "name": "stdout",
     "output_type": "stream",
     "text": [
      "\r53%"
     ]
    },
    {
     "name": "stdout",
     "output_type": "stream",
     "text": [
      "\r53%"
     ]
    },
    {
     "name": "stdout",
     "output_type": "stream",
     "text": [
      "\r54%"
     ]
    },
    {
     "name": "stdout",
     "output_type": "stream",
     "text": [
      "\r54%"
     ]
    },
    {
     "name": "stdout",
     "output_type": "stream",
     "text": [
      "\r54%"
     ]
    },
    {
     "name": "stdout",
     "output_type": "stream",
     "text": [
      "\r54%"
     ]
    },
    {
     "name": "stdout",
     "output_type": "stream",
     "text": [
      "\r55%"
     ]
    },
    {
     "name": "stdout",
     "output_type": "stream",
     "text": [
      "\r55%"
     ]
    },
    {
     "name": "stdout",
     "output_type": "stream",
     "text": [
      "\r55%"
     ]
    },
    {
     "name": "stdout",
     "output_type": "stream",
     "text": [
      "\r56%"
     ]
    },
    {
     "name": "stdout",
     "output_type": "stream",
     "text": [
      "\r56%"
     ]
    },
    {
     "name": "stdout",
     "output_type": "stream",
     "text": [
      "\r56%"
     ]
    },
    {
     "name": "stdout",
     "output_type": "stream",
     "text": [
      "\r56%"
     ]
    },
    {
     "name": "stdout",
     "output_type": "stream",
     "text": [
      "\r57%"
     ]
    },
    {
     "name": "stdout",
     "output_type": "stream",
     "text": [
      "\r57%"
     ]
    },
    {
     "name": "stdout",
     "output_type": "stream",
     "text": [
      "\r57%"
     ]
    },
    {
     "name": "stdout",
     "output_type": "stream",
     "text": [
      "\r57%"
     ]
    },
    {
     "name": "stdout",
     "output_type": "stream",
     "text": [
      "\r58%"
     ]
    },
    {
     "name": "stdout",
     "output_type": "stream",
     "text": [
      "\r58%"
     ]
    },
    {
     "name": "stdout",
     "output_type": "stream",
     "text": [
      "\r58%"
     ]
    },
    {
     "name": "stdout",
     "output_type": "stream",
     "text": [
      "\r59%"
     ]
    },
    {
     "name": "stdout",
     "output_type": "stream",
     "text": [
      "\r59%"
     ]
    },
    {
     "name": "stdout",
     "output_type": "stream",
     "text": [
      "\r59%"
     ]
    },
    {
     "name": "stdout",
     "output_type": "stream",
     "text": [
      "\r59%"
     ]
    },
    {
     "name": "stdout",
     "output_type": "stream",
     "text": [
      "\r60%"
     ]
    },
    {
     "name": "stdout",
     "output_type": "stream",
     "text": [
      "\r60%"
     ]
    },
    {
     "name": "stdout",
     "output_type": "stream",
     "text": [
      "\r60%"
     ]
    },
    {
     "name": "stdout",
     "output_type": "stream",
     "text": [
      "\r60%"
     ]
    },
    {
     "name": "stdout",
     "output_type": "stream",
     "text": [
      "\r61%"
     ]
    },
    {
     "name": "stdout",
     "output_type": "stream",
     "text": [
      "\r61%"
     ]
    },
    {
     "name": "stdout",
     "output_type": "stream",
     "text": [
      "\r61%"
     ]
    },
    {
     "name": "stdout",
     "output_type": "stream",
     "text": [
      "\r62%"
     ]
    },
    {
     "name": "stdout",
     "output_type": "stream",
     "text": [
      "\r62%"
     ]
    },
    {
     "name": "stdout",
     "output_type": "stream",
     "text": [
      "\r62%"
     ]
    },
    {
     "name": "stdout",
     "output_type": "stream",
     "text": [
      "\r62%"
     ]
    },
    {
     "name": "stdout",
     "output_type": "stream",
     "text": [
      "\r63%"
     ]
    },
    {
     "name": "stdout",
     "output_type": "stream",
     "text": [
      "\r63%"
     ]
    },
    {
     "name": "stdout",
     "output_type": "stream",
     "text": [
      "\r63%"
     ]
    },
    {
     "name": "stdout",
     "output_type": "stream",
     "text": [
      "\r63%"
     ]
    },
    {
     "name": "stdout",
     "output_type": "stream",
     "text": [
      "\r64%"
     ]
    },
    {
     "name": "stdout",
     "output_type": "stream",
     "text": [
      "\r64%"
     ]
    },
    {
     "name": "stdout",
     "output_type": "stream",
     "text": [
      "\r64%"
     ]
    },
    {
     "name": "stdout",
     "output_type": "stream",
     "text": [
      "\r65%"
     ]
    },
    {
     "name": "stdout",
     "output_type": "stream",
     "text": [
      "\r65%"
     ]
    },
    {
     "name": "stdout",
     "output_type": "stream",
     "text": [
      "\r65%"
     ]
    },
    {
     "name": "stdout",
     "output_type": "stream",
     "text": [
      "\r65%"
     ]
    },
    {
     "name": "stdout",
     "output_type": "stream",
     "text": [
      "\r66%"
     ]
    },
    {
     "name": "stdout",
     "output_type": "stream",
     "text": [
      "\r66%"
     ]
    },
    {
     "name": "stdout",
     "output_type": "stream",
     "text": [
      "\r66%"
     ]
    },
    {
     "name": "stdout",
     "output_type": "stream",
     "text": [
      "\r66%"
     ]
    },
    {
     "name": "stdout",
     "output_type": "stream",
     "text": [
      "\r67%"
     ]
    },
    {
     "name": "stdout",
     "output_type": "stream",
     "text": [
      "\r67%"
     ]
    },
    {
     "name": "stdout",
     "output_type": "stream",
     "text": [
      "\r67%"
     ]
    },
    {
     "name": "stdout",
     "output_type": "stream",
     "text": [
      "\r68%"
     ]
    },
    {
     "name": "stdout",
     "output_type": "stream",
     "text": [
      "\r68%"
     ]
    },
    {
     "name": "stdout",
     "output_type": "stream",
     "text": [
      "\r68%"
     ]
    },
    {
     "name": "stdout",
     "output_type": "stream",
     "text": [
      "\r68%"
     ]
    },
    {
     "name": "stdout",
     "output_type": "stream",
     "text": [
      "\r69%"
     ]
    },
    {
     "name": "stdout",
     "output_type": "stream",
     "text": [
      "\r69%"
     ]
    },
    {
     "name": "stdout",
     "output_type": "stream",
     "text": [
      "\r69%"
     ]
    },
    {
     "name": "stdout",
     "output_type": "stream",
     "text": [
      "\r69%"
     ]
    },
    {
     "name": "stdout",
     "output_type": "stream",
     "text": [
      "\r70%"
     ]
    },
    {
     "name": "stdout",
     "output_type": "stream",
     "text": [
      "\r70%"
     ]
    },
    {
     "name": "stdout",
     "output_type": "stream",
     "text": [
      "\r70%"
     ]
    },
    {
     "name": "stdout",
     "output_type": "stream",
     "text": [
      "\r71%"
     ]
    },
    {
     "name": "stdout",
     "output_type": "stream",
     "text": [
      "\r71%"
     ]
    },
    {
     "name": "stdout",
     "output_type": "stream",
     "text": [
      "\r71%"
     ]
    },
    {
     "name": "stdout",
     "output_type": "stream",
     "text": [
      "\r71%"
     ]
    },
    {
     "name": "stdout",
     "output_type": "stream",
     "text": [
      "\r72%"
     ]
    },
    {
     "name": "stdout",
     "output_type": "stream",
     "text": [
      "\r72%"
     ]
    },
    {
     "name": "stdout",
     "output_type": "stream",
     "text": [
      "\r72%"
     ]
    },
    {
     "name": "stdout",
     "output_type": "stream",
     "text": [
      "\r72%"
     ]
    },
    {
     "name": "stdout",
     "output_type": "stream",
     "text": [
      "\r73%"
     ]
    },
    {
     "name": "stdout",
     "output_type": "stream",
     "text": [
      "\r73%"
     ]
    },
    {
     "name": "stdout",
     "output_type": "stream",
     "text": [
      "\r73%"
     ]
    },
    {
     "name": "stdout",
     "output_type": "stream",
     "text": [
      "\r74%"
     ]
    },
    {
     "name": "stdout",
     "output_type": "stream",
     "text": [
      "\r74%"
     ]
    },
    {
     "name": "stdout",
     "output_type": "stream",
     "text": [
      "\r74%"
     ]
    },
    {
     "name": "stdout",
     "output_type": "stream",
     "text": [
      "\r74%"
     ]
    },
    {
     "name": "stdout",
     "output_type": "stream",
     "text": [
      "\r75%"
     ]
    },
    {
     "name": "stdout",
     "output_type": "stream",
     "text": [
      "\r75%"
     ]
    },
    {
     "name": "stdout",
     "output_type": "stream",
     "text": [
      "\r75%"
     ]
    },
    {
     "name": "stdout",
     "output_type": "stream",
     "text": [
      "\r75%"
     ]
    },
    {
     "name": "stdout",
     "output_type": "stream",
     "text": [
      "\r76%"
     ]
    },
    {
     "name": "stdout",
     "output_type": "stream",
     "text": [
      "\r76%"
     ]
    },
    {
     "name": "stdout",
     "output_type": "stream",
     "text": [
      "\r76%"
     ]
    },
    {
     "name": "stdout",
     "output_type": "stream",
     "text": [
      "\r77%"
     ]
    },
    {
     "name": "stdout",
     "output_type": "stream",
     "text": [
      "\r77%"
     ]
    },
    {
     "name": "stdout",
     "output_type": "stream",
     "text": [
      "\r77%"
     ]
    },
    {
     "name": "stdout",
     "output_type": "stream",
     "text": [
      "\r77%"
     ]
    },
    {
     "name": "stdout",
     "output_type": "stream",
     "text": [
      "\r78%"
     ]
    },
    {
     "name": "stdout",
     "output_type": "stream",
     "text": [
      "\r78%"
     ]
    },
    {
     "name": "stdout",
     "output_type": "stream",
     "text": [
      "\r78%"
     ]
    },
    {
     "name": "stdout",
     "output_type": "stream",
     "text": [
      "\r78%"
     ]
    },
    {
     "name": "stdout",
     "output_type": "stream",
     "text": [
      "\r79%"
     ]
    },
    {
     "name": "stdout",
     "output_type": "stream",
     "text": [
      "\r79%"
     ]
    },
    {
     "name": "stdout",
     "output_type": "stream",
     "text": [
      "\r79%"
     ]
    },
    {
     "name": "stdout",
     "output_type": "stream",
     "text": [
      "\r80%"
     ]
    },
    {
     "name": "stdout",
     "output_type": "stream",
     "text": [
      "\r80%"
     ]
    },
    {
     "name": "stdout",
     "output_type": "stream",
     "text": [
      "\r80%"
     ]
    },
    {
     "name": "stdout",
     "output_type": "stream",
     "text": [
      "\r80%"
     ]
    },
    {
     "name": "stdout",
     "output_type": "stream",
     "text": [
      "\r81%"
     ]
    },
    {
     "name": "stdout",
     "output_type": "stream",
     "text": [
      "\r81%"
     ]
    },
    {
     "name": "stdout",
     "output_type": "stream",
     "text": [
      "\r81%"
     ]
    },
    {
     "name": "stdout",
     "output_type": "stream",
     "text": [
      "\r81%"
     ]
    },
    {
     "name": "stdout",
     "output_type": "stream",
     "text": [
      "\r82%"
     ]
    },
    {
     "name": "stdout",
     "output_type": "stream",
     "text": [
      "\r82%"
     ]
    },
    {
     "name": "stdout",
     "output_type": "stream",
     "text": [
      "\r82%"
     ]
    },
    {
     "name": "stdout",
     "output_type": "stream",
     "text": [
      "\r83%"
     ]
    },
    {
     "name": "stdout",
     "output_type": "stream",
     "text": [
      "\r83%"
     ]
    },
    {
     "name": "stdout",
     "output_type": "stream",
     "text": [
      "\r83%"
     ]
    },
    {
     "name": "stdout",
     "output_type": "stream",
     "text": [
      "\r83%"
     ]
    },
    {
     "name": "stdout",
     "output_type": "stream",
     "text": [
      "\r84%"
     ]
    },
    {
     "name": "stdout",
     "output_type": "stream",
     "text": [
      "\r84%"
     ]
    },
    {
     "name": "stdout",
     "output_type": "stream",
     "text": [
      "\r84%"
     ]
    },
    {
     "name": "stdout",
     "output_type": "stream",
     "text": [
      "\r84%"
     ]
    },
    {
     "name": "stdout",
     "output_type": "stream",
     "text": [
      "\r85%"
     ]
    },
    {
     "name": "stdout",
     "output_type": "stream",
     "text": [
      "\r85%"
     ]
    },
    {
     "name": "stdout",
     "output_type": "stream",
     "text": [
      "\r85%"
     ]
    },
    {
     "name": "stdout",
     "output_type": "stream",
     "text": [
      "\r86%"
     ]
    },
    {
     "name": "stdout",
     "output_type": "stream",
     "text": [
      "\r86%"
     ]
    },
    {
     "name": "stdout",
     "output_type": "stream",
     "text": [
      "\r86%"
     ]
    },
    {
     "name": "stdout",
     "output_type": "stream",
     "text": [
      "\r86%"
     ]
    },
    {
     "name": "stdout",
     "output_type": "stream",
     "text": [
      "\r87%"
     ]
    },
    {
     "name": "stdout",
     "output_type": "stream",
     "text": [
      "\r87%"
     ]
    },
    {
     "name": "stdout",
     "output_type": "stream",
     "text": [
      "\r87%"
     ]
    },
    {
     "name": "stdout",
     "output_type": "stream",
     "text": [
      "\r87%"
     ]
    },
    {
     "name": "stdout",
     "output_type": "stream",
     "text": [
      "\r88%"
     ]
    },
    {
     "name": "stdout",
     "output_type": "stream",
     "text": [
      "\r88%"
     ]
    },
    {
     "name": "stdout",
     "output_type": "stream",
     "text": [
      "\r88%"
     ]
    },
    {
     "name": "stdout",
     "output_type": "stream",
     "text": [
      "\r89%"
     ]
    },
    {
     "name": "stdout",
     "output_type": "stream",
     "text": [
      "\r89%"
     ]
    },
    {
     "name": "stdout",
     "output_type": "stream",
     "text": [
      "\r89%"
     ]
    },
    {
     "name": "stdout",
     "output_type": "stream",
     "text": [
      "\r89%"
     ]
    },
    {
     "name": "stdout",
     "output_type": "stream",
     "text": [
      "\r90%"
     ]
    },
    {
     "name": "stdout",
     "output_type": "stream",
     "text": [
      "\r90%"
     ]
    },
    {
     "name": "stdout",
     "output_type": "stream",
     "text": [
      "\r90%"
     ]
    },
    {
     "name": "stdout",
     "output_type": "stream",
     "text": [
      "\r90%"
     ]
    },
    {
     "name": "stdout",
     "output_type": "stream",
     "text": [
      "\r91%"
     ]
    },
    {
     "name": "stdout",
     "output_type": "stream",
     "text": [
      "\r91%"
     ]
    },
    {
     "name": "stdout",
     "output_type": "stream",
     "text": [
      "\r91%"
     ]
    },
    {
     "name": "stdout",
     "output_type": "stream",
     "text": [
      "\r92%"
     ]
    },
    {
     "name": "stdout",
     "output_type": "stream",
     "text": [
      "\r92%"
     ]
    },
    {
     "name": "stdout",
     "output_type": "stream",
     "text": [
      "\r92%"
     ]
    },
    {
     "name": "stdout",
     "output_type": "stream",
     "text": [
      "\r92%"
     ]
    },
    {
     "name": "stdout",
     "output_type": "stream",
     "text": [
      "\r93%"
     ]
    },
    {
     "name": "stdout",
     "output_type": "stream",
     "text": [
      "\r93%"
     ]
    },
    {
     "name": "stdout",
     "output_type": "stream",
     "text": [
      "\r93%"
     ]
    },
    {
     "name": "stdout",
     "output_type": "stream",
     "text": [
      "\r93%"
     ]
    },
    {
     "name": "stdout",
     "output_type": "stream",
     "text": [
      "\r94%"
     ]
    },
    {
     "name": "stdout",
     "output_type": "stream",
     "text": [
      "\r94%"
     ]
    },
    {
     "name": "stdout",
     "output_type": "stream",
     "text": [
      "\r94%"
     ]
    },
    {
     "name": "stdout",
     "output_type": "stream",
     "text": [
      "\r95%"
     ]
    },
    {
     "name": "stdout",
     "output_type": "stream",
     "text": [
      "\r95%"
     ]
    },
    {
     "name": "stdout",
     "output_type": "stream",
     "text": [
      "\r95%"
     ]
    },
    {
     "name": "stdout",
     "output_type": "stream",
     "text": [
      "\r95%"
     ]
    },
    {
     "name": "stdout",
     "output_type": "stream",
     "text": [
      "\r96%"
     ]
    },
    {
     "name": "stdout",
     "output_type": "stream",
     "text": [
      "\r96%"
     ]
    },
    {
     "name": "stdout",
     "output_type": "stream",
     "text": [
      "\r96%"
     ]
    },
    {
     "name": "stdout",
     "output_type": "stream",
     "text": [
      "\r96%"
     ]
    },
    {
     "name": "stdout",
     "output_type": "stream",
     "text": [
      "\r97%"
     ]
    },
    {
     "name": "stdout",
     "output_type": "stream",
     "text": [
      "\r97%"
     ]
    },
    {
     "name": "stdout",
     "output_type": "stream",
     "text": [
      "\r97%"
     ]
    },
    {
     "name": "stdout",
     "output_type": "stream",
     "text": [
      "\r98%"
     ]
    },
    {
     "name": "stdout",
     "output_type": "stream",
     "text": [
      "\r98%"
     ]
    },
    {
     "name": "stdout",
     "output_type": "stream",
     "text": [
      "\r98%"
     ]
    },
    {
     "name": "stdout",
     "output_type": "stream",
     "text": [
      "\r98%"
     ]
    },
    {
     "name": "stdout",
     "output_type": "stream",
     "text": [
      "\r99%"
     ]
    },
    {
     "name": "stdout",
     "output_type": "stream",
     "text": [
      "\r99%"
     ]
    },
    {
     "name": "stdout",
     "output_type": "stream",
     "text": [
      "\r99%"
     ]
    },
    {
     "name": "stdout",
     "output_type": "stream",
     "text": [
      "\r4 훈련 MSE: 0.026625771\n"
     ]
    },
    {
     "name": "stdout",
     "output_type": "stream",
     "text": [
      "\r0%"
     ]
    },
    {
     "name": "stdout",
     "output_type": "stream",
     "text": [
      "\r0%"
     ]
    },
    {
     "name": "stdout",
     "output_type": "stream",
     "text": [
      "\r0%"
     ]
    },
    {
     "name": "stdout",
     "output_type": "stream",
     "text": [
      "\r0%"
     ]
    },
    {
     "name": "stdout",
     "output_type": "stream",
     "text": [
      "\r1%"
     ]
    },
    {
     "name": "stdout",
     "output_type": "stream",
     "text": [
      "\r1%"
     ]
    },
    {
     "name": "stdout",
     "output_type": "stream",
     "text": [
      "\r1%"
     ]
    },
    {
     "name": "stdout",
     "output_type": "stream",
     "text": [
      "\r1%"
     ]
    },
    {
     "name": "stdout",
     "output_type": "stream",
     "text": [
      "\r2%"
     ]
    },
    {
     "name": "stdout",
     "output_type": "stream",
     "text": [
      "\r2%"
     ]
    },
    {
     "name": "stdout",
     "output_type": "stream",
     "text": [
      "\r2%"
     ]
    },
    {
     "name": "stdout",
     "output_type": "stream",
     "text": [
      "\r3%"
     ]
    },
    {
     "name": "stdout",
     "output_type": "stream",
     "text": [
      "\r3%"
     ]
    },
    {
     "name": "stdout",
     "output_type": "stream",
     "text": [
      "\r3%"
     ]
    },
    {
     "name": "stdout",
     "output_type": "stream",
     "text": [
      "\r3%"
     ]
    },
    {
     "name": "stdout",
     "output_type": "stream",
     "text": [
      "\r4%"
     ]
    },
    {
     "name": "stdout",
     "output_type": "stream",
     "text": [
      "\r4%"
     ]
    },
    {
     "name": "stdout",
     "output_type": "stream",
     "text": [
      "\r4%"
     ]
    },
    {
     "name": "stdout",
     "output_type": "stream",
     "text": [
      "\r4%"
     ]
    },
    {
     "name": "stdout",
     "output_type": "stream",
     "text": [
      "\r5%"
     ]
    },
    {
     "name": "stdout",
     "output_type": "stream",
     "text": [
      "\r5%"
     ]
    },
    {
     "name": "stdout",
     "output_type": "stream",
     "text": [
      "\r5%"
     ]
    },
    {
     "name": "stdout",
     "output_type": "stream",
     "text": [
      "\r6%"
     ]
    },
    {
     "name": "stdout",
     "output_type": "stream",
     "text": [
      "\r6%"
     ]
    },
    {
     "name": "stdout",
     "output_type": "stream",
     "text": [
      "\r6%"
     ]
    },
    {
     "name": "stdout",
     "output_type": "stream",
     "text": [
      "\r6%"
     ]
    },
    {
     "name": "stdout",
     "output_type": "stream",
     "text": [
      "\r7%"
     ]
    },
    {
     "name": "stdout",
     "output_type": "stream",
     "text": [
      "\r7%"
     ]
    },
    {
     "name": "stdout",
     "output_type": "stream",
     "text": [
      "\r7%"
     ]
    },
    {
     "name": "stdout",
     "output_type": "stream",
     "text": [
      "\r7%"
     ]
    },
    {
     "name": "stdout",
     "output_type": "stream",
     "text": [
      "\r8%"
     ]
    },
    {
     "name": "stdout",
     "output_type": "stream",
     "text": [
      "\r8%"
     ]
    },
    {
     "name": "stdout",
     "output_type": "stream",
     "text": [
      "\r8%"
     ]
    },
    {
     "name": "stdout",
     "output_type": "stream",
     "text": [
      "\r9%"
     ]
    },
    {
     "name": "stdout",
     "output_type": "stream",
     "text": [
      "\r9%"
     ]
    },
    {
     "name": "stdout",
     "output_type": "stream",
     "text": [
      "\r9%"
     ]
    },
    {
     "name": "stdout",
     "output_type": "stream",
     "text": [
      "\r9%"
     ]
    },
    {
     "name": "stdout",
     "output_type": "stream",
     "text": [
      "\r10%"
     ]
    },
    {
     "name": "stdout",
     "output_type": "stream",
     "text": [
      "\r10%"
     ]
    },
    {
     "name": "stdout",
     "output_type": "stream",
     "text": [
      "\r10%"
     ]
    },
    {
     "name": "stdout",
     "output_type": "stream",
     "text": [
      "\r10%"
     ]
    },
    {
     "name": "stdout",
     "output_type": "stream",
     "text": [
      "\r11%"
     ]
    },
    {
     "name": "stdout",
     "output_type": "stream",
     "text": [
      "\r11%"
     ]
    },
    {
     "name": "stdout",
     "output_type": "stream",
     "text": [
      "\r11%"
     ]
    },
    {
     "name": "stdout",
     "output_type": "stream",
     "text": [
      "\r12%"
     ]
    },
    {
     "name": "stdout",
     "output_type": "stream",
     "text": [
      "\r12%"
     ]
    },
    {
     "name": "stdout",
     "output_type": "stream",
     "text": [
      "\r12%"
     ]
    },
    {
     "name": "stdout",
     "output_type": "stream",
     "text": [
      "\r12%"
     ]
    },
    {
     "name": "stdout",
     "output_type": "stream",
     "text": [
      "\r13%"
     ]
    },
    {
     "name": "stdout",
     "output_type": "stream",
     "text": [
      "\r13%"
     ]
    },
    {
     "name": "stdout",
     "output_type": "stream",
     "text": [
      "\r13%"
     ]
    },
    {
     "name": "stdout",
     "output_type": "stream",
     "text": [
      "\r13%"
     ]
    },
    {
     "name": "stdout",
     "output_type": "stream",
     "text": [
      "\r14%"
     ]
    },
    {
     "name": "stdout",
     "output_type": "stream",
     "text": [
      "\r14%"
     ]
    },
    {
     "name": "stdout",
     "output_type": "stream",
     "text": [
      "\r14%"
     ]
    },
    {
     "name": "stdout",
     "output_type": "stream",
     "text": [
      "\r15%"
     ]
    },
    {
     "name": "stdout",
     "output_type": "stream",
     "text": [
      "\r15%"
     ]
    },
    {
     "name": "stdout",
     "output_type": "stream",
     "text": [
      "\r15%"
     ]
    },
    {
     "name": "stdout",
     "output_type": "stream",
     "text": [
      "\r15%"
     ]
    },
    {
     "name": "stdout",
     "output_type": "stream",
     "text": [
      "\r16%"
     ]
    },
    {
     "name": "stdout",
     "output_type": "stream",
     "text": [
      "\r16%"
     ]
    },
    {
     "name": "stdout",
     "output_type": "stream",
     "text": [
      "\r16%"
     ]
    },
    {
     "name": "stdout",
     "output_type": "stream",
     "text": [
      "\r16%"
     ]
    },
    {
     "name": "stdout",
     "output_type": "stream",
     "text": [
      "\r17%"
     ]
    },
    {
     "name": "stdout",
     "output_type": "stream",
     "text": [
      "\r17%"
     ]
    },
    {
     "name": "stdout",
     "output_type": "stream",
     "text": [
      "\r17%"
     ]
    },
    {
     "name": "stdout",
     "output_type": "stream",
     "text": [
      "\r18%"
     ]
    },
    {
     "name": "stdout",
     "output_type": "stream",
     "text": [
      "\r18%"
     ]
    },
    {
     "name": "stdout",
     "output_type": "stream",
     "text": [
      "\r18%"
     ]
    },
    {
     "name": "stdout",
     "output_type": "stream",
     "text": [
      "\r18%"
     ]
    },
    {
     "name": "stdout",
     "output_type": "stream",
     "text": [
      "\r19%"
     ]
    },
    {
     "name": "stdout",
     "output_type": "stream",
     "text": [
      "\r19%"
     ]
    },
    {
     "name": "stdout",
     "output_type": "stream",
     "text": [
      "\r19%"
     ]
    },
    {
     "name": "stdout",
     "output_type": "stream",
     "text": [
      "\r19%"
     ]
    },
    {
     "name": "stdout",
     "output_type": "stream",
     "text": [
      "\r20%"
     ]
    },
    {
     "name": "stdout",
     "output_type": "stream",
     "text": [
      "\r20%"
     ]
    },
    {
     "name": "stdout",
     "output_type": "stream",
     "text": [
      "\r20%"
     ]
    },
    {
     "name": "stdout",
     "output_type": "stream",
     "text": [
      "\r21%"
     ]
    },
    {
     "name": "stdout",
     "output_type": "stream",
     "text": [
      "\r21%"
     ]
    },
    {
     "name": "stdout",
     "output_type": "stream",
     "text": [
      "\r21%"
     ]
    },
    {
     "name": "stdout",
     "output_type": "stream",
     "text": [
      "\r21%"
     ]
    },
    {
     "name": "stdout",
     "output_type": "stream",
     "text": [
      "\r22%"
     ]
    },
    {
     "name": "stdout",
     "output_type": "stream",
     "text": [
      "\r22%"
     ]
    },
    {
     "name": "stdout",
     "output_type": "stream",
     "text": [
      "\r22%"
     ]
    },
    {
     "name": "stdout",
     "output_type": "stream",
     "text": [
      "\r22%"
     ]
    },
    {
     "name": "stdout",
     "output_type": "stream",
     "text": [
      "\r23%"
     ]
    },
    {
     "name": "stdout",
     "output_type": "stream",
     "text": [
      "\r23%"
     ]
    },
    {
     "name": "stdout",
     "output_type": "stream",
     "text": [
      "\r23%"
     ]
    },
    {
     "name": "stdout",
     "output_type": "stream",
     "text": [
      "\r24%"
     ]
    },
    {
     "name": "stdout",
     "output_type": "stream",
     "text": [
      "\r24%"
     ]
    },
    {
     "name": "stdout",
     "output_type": "stream",
     "text": [
      "\r24%"
     ]
    },
    {
     "name": "stdout",
     "output_type": "stream",
     "text": [
      "\r24%"
     ]
    },
    {
     "name": "stdout",
     "output_type": "stream",
     "text": [
      "\r25%"
     ]
    },
    {
     "name": "stdout",
     "output_type": "stream",
     "text": [
      "\r25%"
     ]
    },
    {
     "name": "stdout",
     "output_type": "stream",
     "text": [
      "\r25%"
     ]
    },
    {
     "name": "stdout",
     "output_type": "stream",
     "text": [
      "\r25%"
     ]
    },
    {
     "name": "stdout",
     "output_type": "stream",
     "text": [
      "\r26%"
     ]
    },
    {
     "name": "stdout",
     "output_type": "stream",
     "text": [
      "\r26%"
     ]
    },
    {
     "name": "stdout",
     "output_type": "stream",
     "text": [
      "\r26%"
     ]
    },
    {
     "name": "stdout",
     "output_type": "stream",
     "text": [
      "\r27%"
     ]
    },
    {
     "name": "stdout",
     "output_type": "stream",
     "text": [
      "\r27%"
     ]
    },
    {
     "name": "stdout",
     "output_type": "stream",
     "text": [
      "\r27%"
     ]
    },
    {
     "name": "stdout",
     "output_type": "stream",
     "text": [
      "\r27%"
     ]
    },
    {
     "name": "stdout",
     "output_type": "stream",
     "text": [
      "\r28%"
     ]
    },
    {
     "name": "stdout",
     "output_type": "stream",
     "text": [
      "\r28%"
     ]
    },
    {
     "name": "stdout",
     "output_type": "stream",
     "text": [
      "\r28%"
     ]
    },
    {
     "name": "stdout",
     "output_type": "stream",
     "text": [
      "\r28%"
     ]
    },
    {
     "name": "stdout",
     "output_type": "stream",
     "text": [
      "\r29%"
     ]
    },
    {
     "name": "stdout",
     "output_type": "stream",
     "text": [
      "\r29%"
     ]
    },
    {
     "name": "stdout",
     "output_type": "stream",
     "text": [
      "\r29%"
     ]
    },
    {
     "name": "stdout",
     "output_type": "stream",
     "text": [
      "\r30%"
     ]
    },
    {
     "name": "stdout",
     "output_type": "stream",
     "text": [
      "\r30%"
     ]
    },
    {
     "name": "stdout",
     "output_type": "stream",
     "text": [
      "\r30%"
     ]
    },
    {
     "name": "stdout",
     "output_type": "stream",
     "text": [
      "\r30%"
     ]
    },
    {
     "name": "stdout",
     "output_type": "stream",
     "text": [
      "\r31%"
     ]
    },
    {
     "name": "stdout",
     "output_type": "stream",
     "text": [
      "\r31%"
     ]
    },
    {
     "name": "stdout",
     "output_type": "stream",
     "text": [
      "\r31%"
     ]
    },
    {
     "name": "stdout",
     "output_type": "stream",
     "text": [
      "\r31%"
     ]
    },
    {
     "name": "stdout",
     "output_type": "stream",
     "text": [
      "\r32%"
     ]
    },
    {
     "name": "stdout",
     "output_type": "stream",
     "text": [
      "\r32%"
     ]
    },
    {
     "name": "stdout",
     "output_type": "stream",
     "text": [
      "\r32%"
     ]
    },
    {
     "name": "stdout",
     "output_type": "stream",
     "text": [
      "\r33%"
     ]
    },
    {
     "name": "stdout",
     "output_type": "stream",
     "text": [
      "\r33%"
     ]
    },
    {
     "name": "stdout",
     "output_type": "stream",
     "text": [
      "\r33%"
     ]
    },
    {
     "name": "stdout",
     "output_type": "stream",
     "text": [
      "\r33%"
     ]
    },
    {
     "name": "stdout",
     "output_type": "stream",
     "text": [
      "\r34%"
     ]
    },
    {
     "name": "stdout",
     "output_type": "stream",
     "text": [
      "\r34%"
     ]
    },
    {
     "name": "stdout",
     "output_type": "stream",
     "text": [
      "\r34%"
     ]
    },
    {
     "name": "stdout",
     "output_type": "stream",
     "text": [
      "\r34%"
     ]
    },
    {
     "name": "stdout",
     "output_type": "stream",
     "text": [
      "\r35%"
     ]
    },
    {
     "name": "stdout",
     "output_type": "stream",
     "text": [
      "\r35%"
     ]
    },
    {
     "name": "stdout",
     "output_type": "stream",
     "text": [
      "\r35%"
     ]
    },
    {
     "name": "stdout",
     "output_type": "stream",
     "text": [
      "\r36%"
     ]
    },
    {
     "name": "stdout",
     "output_type": "stream",
     "text": [
      "\r36%"
     ]
    },
    {
     "name": "stdout",
     "output_type": "stream",
     "text": [
      "\r36%"
     ]
    },
    {
     "name": "stdout",
     "output_type": "stream",
     "text": [
      "\r36%"
     ]
    },
    {
     "name": "stdout",
     "output_type": "stream",
     "text": [
      "\r37%"
     ]
    },
    {
     "name": "stdout",
     "output_type": "stream",
     "text": [
      "\r37%"
     ]
    },
    {
     "name": "stdout",
     "output_type": "stream",
     "text": [
      "\r37%"
     ]
    },
    {
     "name": "stdout",
     "output_type": "stream",
     "text": [
      "\r37%"
     ]
    },
    {
     "name": "stdout",
     "output_type": "stream",
     "text": [
      "\r38%"
     ]
    },
    {
     "name": "stdout",
     "output_type": "stream",
     "text": [
      "\r38%"
     ]
    },
    {
     "name": "stdout",
     "output_type": "stream",
     "text": [
      "\r38%"
     ]
    },
    {
     "name": "stdout",
     "output_type": "stream",
     "text": [
      "\r39%"
     ]
    },
    {
     "name": "stdout",
     "output_type": "stream",
     "text": [
      "\r39%"
     ]
    },
    {
     "name": "stdout",
     "output_type": "stream",
     "text": [
      "\r39%"
     ]
    },
    {
     "name": "stdout",
     "output_type": "stream",
     "text": [
      "\r39%"
     ]
    },
    {
     "name": "stdout",
     "output_type": "stream",
     "text": [
      "\r40%"
     ]
    },
    {
     "name": "stdout",
     "output_type": "stream",
     "text": [
      "\r40%"
     ]
    },
    {
     "name": "stdout",
     "output_type": "stream",
     "text": [
      "\r40%"
     ]
    },
    {
     "name": "stdout",
     "output_type": "stream",
     "text": [
      "\r40%"
     ]
    },
    {
     "name": "stdout",
     "output_type": "stream",
     "text": [
      "\r41%"
     ]
    },
    {
     "name": "stdout",
     "output_type": "stream",
     "text": [
      "\r41%"
     ]
    },
    {
     "name": "stdout",
     "output_type": "stream",
     "text": [
      "\r41%"
     ]
    },
    {
     "name": "stdout",
     "output_type": "stream",
     "text": [
      "\r42%"
     ]
    },
    {
     "name": "stdout",
     "output_type": "stream",
     "text": [
      "\r42%"
     ]
    },
    {
     "name": "stdout",
     "output_type": "stream",
     "text": [
      "\r42%"
     ]
    },
    {
     "name": "stdout",
     "output_type": "stream",
     "text": [
      "\r42%"
     ]
    },
    {
     "name": "stdout",
     "output_type": "stream",
     "text": [
      "\r43%"
     ]
    },
    {
     "name": "stdout",
     "output_type": "stream",
     "text": [
      "\r43%"
     ]
    },
    {
     "name": "stdout",
     "output_type": "stream",
     "text": [
      "\r43%"
     ]
    },
    {
     "name": "stdout",
     "output_type": "stream",
     "text": [
      "\r43%"
     ]
    },
    {
     "name": "stdout",
     "output_type": "stream",
     "text": [
      "\r44%"
     ]
    },
    {
     "name": "stdout",
     "output_type": "stream",
     "text": [
      "\r44%"
     ]
    },
    {
     "name": "stdout",
     "output_type": "stream",
     "text": [
      "\r44%"
     ]
    },
    {
     "name": "stdout",
     "output_type": "stream",
     "text": [
      "\r45%"
     ]
    },
    {
     "name": "stdout",
     "output_type": "stream",
     "text": [
      "\r45%"
     ]
    },
    {
     "name": "stdout",
     "output_type": "stream",
     "text": [
      "\r45%"
     ]
    },
    {
     "name": "stdout",
     "output_type": "stream",
     "text": [
      "\r45%"
     ]
    },
    {
     "name": "stdout",
     "output_type": "stream",
     "text": [
      "\r46%"
     ]
    },
    {
     "name": "stdout",
     "output_type": "stream",
     "text": [
      "\r46%"
     ]
    },
    {
     "name": "stdout",
     "output_type": "stream",
     "text": [
      "\r46%"
     ]
    },
    {
     "name": "stdout",
     "output_type": "stream",
     "text": [
      "\r46%"
     ]
    },
    {
     "name": "stdout",
     "output_type": "stream",
     "text": [
      "\r47%"
     ]
    },
    {
     "name": "stdout",
     "output_type": "stream",
     "text": [
      "\r47%"
     ]
    },
    {
     "name": "stdout",
     "output_type": "stream",
     "text": [
      "\r47%"
     ]
    },
    {
     "name": "stdout",
     "output_type": "stream",
     "text": [
      "\r48%"
     ]
    },
    {
     "name": "stdout",
     "output_type": "stream",
     "text": [
      "\r48%"
     ]
    },
    {
     "name": "stdout",
     "output_type": "stream",
     "text": [
      "\r48%"
     ]
    },
    {
     "name": "stdout",
     "output_type": "stream",
     "text": [
      "\r48%"
     ]
    },
    {
     "name": "stdout",
     "output_type": "stream",
     "text": [
      "\r49%"
     ]
    },
    {
     "name": "stdout",
     "output_type": "stream",
     "text": [
      "\r49%"
     ]
    },
    {
     "name": "stdout",
     "output_type": "stream",
     "text": [
      "\r49%"
     ]
    },
    {
     "name": "stdout",
     "output_type": "stream",
     "text": [
      "\r50%"
     ]
    },
    {
     "name": "stdout",
     "output_type": "stream",
     "text": [
      "\r50%"
     ]
    },
    {
     "name": "stdout",
     "output_type": "stream",
     "text": [
      "\r50%"
     ]
    },
    {
     "name": "stdout",
     "output_type": "stream",
     "text": [
      "\r50%"
     ]
    },
    {
     "name": "stdout",
     "output_type": "stream",
     "text": [
      "\r51%"
     ]
    },
    {
     "name": "stdout",
     "output_type": "stream",
     "text": [
      "\r51%"
     ]
    },
    {
     "name": "stdout",
     "output_type": "stream",
     "text": [
      "\r51%"
     ]
    },
    {
     "name": "stdout",
     "output_type": "stream",
     "text": [
      "\r51%"
     ]
    },
    {
     "name": "stdout",
     "output_type": "stream",
     "text": [
      "\r52%"
     ]
    },
    {
     "name": "stdout",
     "output_type": "stream",
     "text": [
      "\r52%"
     ]
    },
    {
     "name": "stdout",
     "output_type": "stream",
     "text": [
      "\r52%"
     ]
    },
    {
     "name": "stdout",
     "output_type": "stream",
     "text": [
      "\r53%"
     ]
    },
    {
     "name": "stdout",
     "output_type": "stream",
     "text": [
      "\r53%"
     ]
    },
    {
     "name": "stdout",
     "output_type": "stream",
     "text": [
      "\r53%"
     ]
    },
    {
     "name": "stdout",
     "output_type": "stream",
     "text": [
      "\r53%"
     ]
    },
    {
     "name": "stdout",
     "output_type": "stream",
     "text": [
      "\r54%"
     ]
    },
    {
     "name": "stdout",
     "output_type": "stream",
     "text": [
      "\r54%"
     ]
    },
    {
     "name": "stdout",
     "output_type": "stream",
     "text": [
      "\r54%"
     ]
    },
    {
     "name": "stdout",
     "output_type": "stream",
     "text": [
      "\r54%"
     ]
    },
    {
     "name": "stdout",
     "output_type": "stream",
     "text": [
      "\r55%"
     ]
    },
    {
     "name": "stdout",
     "output_type": "stream",
     "text": [
      "\r55%"
     ]
    },
    {
     "name": "stdout",
     "output_type": "stream",
     "text": [
      "\r55%"
     ]
    },
    {
     "name": "stdout",
     "output_type": "stream",
     "text": [
      "\r56%"
     ]
    },
    {
     "name": "stdout",
     "output_type": "stream",
     "text": [
      "\r56%"
     ]
    },
    {
     "name": "stdout",
     "output_type": "stream",
     "text": [
      "\r56%"
     ]
    },
    {
     "name": "stdout",
     "output_type": "stream",
     "text": [
      "\r56%"
     ]
    },
    {
     "name": "stdout",
     "output_type": "stream",
     "text": [
      "\r57%"
     ]
    },
    {
     "name": "stdout",
     "output_type": "stream",
     "text": [
      "\r57%"
     ]
    },
    {
     "name": "stdout",
     "output_type": "stream",
     "text": [
      "\r57%"
     ]
    },
    {
     "name": "stdout",
     "output_type": "stream",
     "text": [
      "\r57%"
     ]
    },
    {
     "name": "stdout",
     "output_type": "stream",
     "text": [
      "\r58%"
     ]
    },
    {
     "name": "stdout",
     "output_type": "stream",
     "text": [
      "\r58%"
     ]
    },
    {
     "name": "stdout",
     "output_type": "stream",
     "text": [
      "\r58%"
     ]
    },
    {
     "name": "stdout",
     "output_type": "stream",
     "text": [
      "\r59%"
     ]
    },
    {
     "name": "stdout",
     "output_type": "stream",
     "text": [
      "\r59%"
     ]
    },
    {
     "name": "stdout",
     "output_type": "stream",
     "text": [
      "\r59%"
     ]
    },
    {
     "name": "stdout",
     "output_type": "stream",
     "text": [
      "\r59%"
     ]
    },
    {
     "name": "stdout",
     "output_type": "stream",
     "text": [
      "\r60%"
     ]
    },
    {
     "name": "stdout",
     "output_type": "stream",
     "text": [
      "\r60%"
     ]
    },
    {
     "name": "stdout",
     "output_type": "stream",
     "text": [
      "\r60%"
     ]
    },
    {
     "name": "stdout",
     "output_type": "stream",
     "text": [
      "\r60%"
     ]
    },
    {
     "name": "stdout",
     "output_type": "stream",
     "text": [
      "\r61%"
     ]
    },
    {
     "name": "stdout",
     "output_type": "stream",
     "text": [
      "\r61%"
     ]
    },
    {
     "name": "stdout",
     "output_type": "stream",
     "text": [
      "\r61%"
     ]
    },
    {
     "name": "stdout",
     "output_type": "stream",
     "text": [
      "\r62%"
     ]
    },
    {
     "name": "stdout",
     "output_type": "stream",
     "text": [
      "\r62%"
     ]
    },
    {
     "name": "stdout",
     "output_type": "stream",
     "text": [
      "\r62%"
     ]
    },
    {
     "name": "stdout",
     "output_type": "stream",
     "text": [
      "\r62%"
     ]
    },
    {
     "name": "stdout",
     "output_type": "stream",
     "text": [
      "\r63%"
     ]
    },
    {
     "name": "stdout",
     "output_type": "stream",
     "text": [
      "\r63%"
     ]
    },
    {
     "name": "stdout",
     "output_type": "stream",
     "text": [
      "\r63%"
     ]
    },
    {
     "name": "stdout",
     "output_type": "stream",
     "text": [
      "\r63%"
     ]
    },
    {
     "name": "stdout",
     "output_type": "stream",
     "text": [
      "\r64%"
     ]
    },
    {
     "name": "stdout",
     "output_type": "stream",
     "text": [
      "\r64%"
     ]
    },
    {
     "name": "stdout",
     "output_type": "stream",
     "text": [
      "\r64%"
     ]
    },
    {
     "name": "stdout",
     "output_type": "stream",
     "text": [
      "\r65%"
     ]
    },
    {
     "name": "stdout",
     "output_type": "stream",
     "text": [
      "\r65%"
     ]
    },
    {
     "name": "stdout",
     "output_type": "stream",
     "text": [
      "\r65%"
     ]
    },
    {
     "name": "stdout",
     "output_type": "stream",
     "text": [
      "\r65%"
     ]
    },
    {
     "name": "stdout",
     "output_type": "stream",
     "text": [
      "\r66%"
     ]
    },
    {
     "name": "stdout",
     "output_type": "stream",
     "text": [
      "\r66%"
     ]
    },
    {
     "name": "stdout",
     "output_type": "stream",
     "text": [
      "\r66%"
     ]
    },
    {
     "name": "stdout",
     "output_type": "stream",
     "text": [
      "\r66%"
     ]
    },
    {
     "name": "stdout",
     "output_type": "stream",
     "text": [
      "\r67%"
     ]
    },
    {
     "name": "stdout",
     "output_type": "stream",
     "text": [
      "\r67%"
     ]
    },
    {
     "name": "stdout",
     "output_type": "stream",
     "text": [
      "\r67%"
     ]
    },
    {
     "name": "stdout",
     "output_type": "stream",
     "text": [
      "\r68%"
     ]
    },
    {
     "name": "stdout",
     "output_type": "stream",
     "text": [
      "\r68%"
     ]
    },
    {
     "name": "stdout",
     "output_type": "stream",
     "text": [
      "\r68%"
     ]
    },
    {
     "name": "stdout",
     "output_type": "stream",
     "text": [
      "\r68%"
     ]
    },
    {
     "name": "stdout",
     "output_type": "stream",
     "text": [
      "\r69%"
     ]
    },
    {
     "name": "stdout",
     "output_type": "stream",
     "text": [
      "\r69%"
     ]
    },
    {
     "name": "stdout",
     "output_type": "stream",
     "text": [
      "\r69%"
     ]
    },
    {
     "name": "stdout",
     "output_type": "stream",
     "text": [
      "\r69%"
     ]
    },
    {
     "name": "stdout",
     "output_type": "stream",
     "text": [
      "\r70%"
     ]
    },
    {
     "name": "stdout",
     "output_type": "stream",
     "text": [
      "\r70%"
     ]
    },
    {
     "name": "stdout",
     "output_type": "stream",
     "text": [
      "\r70%"
     ]
    },
    {
     "name": "stdout",
     "output_type": "stream",
     "text": [
      "\r71%"
     ]
    },
    {
     "name": "stdout",
     "output_type": "stream",
     "text": [
      "\r71%"
     ]
    },
    {
     "name": "stdout",
     "output_type": "stream",
     "text": [
      "\r71%"
     ]
    },
    {
     "name": "stdout",
     "output_type": "stream",
     "text": [
      "\r71%"
     ]
    },
    {
     "name": "stdout",
     "output_type": "stream",
     "text": [
      "\r72%"
     ]
    },
    {
     "name": "stdout",
     "output_type": "stream",
     "text": [
      "\r72%"
     ]
    },
    {
     "name": "stdout",
     "output_type": "stream",
     "text": [
      "\r72%"
     ]
    },
    {
     "name": "stdout",
     "output_type": "stream",
     "text": [
      "\r72%"
     ]
    },
    {
     "name": "stdout",
     "output_type": "stream",
     "text": [
      "\r73%"
     ]
    },
    {
     "name": "stdout",
     "output_type": "stream",
     "text": [
      "\r73%"
     ]
    },
    {
     "name": "stdout",
     "output_type": "stream",
     "text": [
      "\r73%"
     ]
    },
    {
     "name": "stdout",
     "output_type": "stream",
     "text": [
      "\r74%"
     ]
    },
    {
     "name": "stdout",
     "output_type": "stream",
     "text": [
      "\r74%"
     ]
    },
    {
     "name": "stdout",
     "output_type": "stream",
     "text": [
      "\r74%"
     ]
    },
    {
     "name": "stdout",
     "output_type": "stream",
     "text": [
      "\r74%"
     ]
    },
    {
     "name": "stdout",
     "output_type": "stream",
     "text": [
      "\r75%"
     ]
    },
    {
     "name": "stdout",
     "output_type": "stream",
     "text": [
      "\r75%"
     ]
    },
    {
     "name": "stdout",
     "output_type": "stream",
     "text": [
      "\r75%"
     ]
    },
    {
     "name": "stdout",
     "output_type": "stream",
     "text": [
      "\r75%"
     ]
    },
    {
     "name": "stdout",
     "output_type": "stream",
     "text": [
      "\r76%"
     ]
    },
    {
     "name": "stdout",
     "output_type": "stream",
     "text": [
      "\r76%"
     ]
    },
    {
     "name": "stdout",
     "output_type": "stream",
     "text": [
      "\r76%"
     ]
    },
    {
     "name": "stdout",
     "output_type": "stream",
     "text": [
      "\r77%"
     ]
    },
    {
     "name": "stdout",
     "output_type": "stream",
     "text": [
      "\r77%"
     ]
    },
    {
     "name": "stdout",
     "output_type": "stream",
     "text": [
      "\r77%"
     ]
    },
    {
     "name": "stdout",
     "output_type": "stream",
     "text": [
      "\r77%"
     ]
    },
    {
     "name": "stdout",
     "output_type": "stream",
     "text": [
      "\r78%"
     ]
    },
    {
     "name": "stdout",
     "output_type": "stream",
     "text": [
      "\r78%"
     ]
    },
    {
     "name": "stdout",
     "output_type": "stream",
     "text": [
      "\r78%"
     ]
    },
    {
     "name": "stdout",
     "output_type": "stream",
     "text": [
      "\r78%"
     ]
    },
    {
     "name": "stdout",
     "output_type": "stream",
     "text": [
      "\r79%"
     ]
    },
    {
     "name": "stdout",
     "output_type": "stream",
     "text": [
      "\r79%"
     ]
    },
    {
     "name": "stdout",
     "output_type": "stream",
     "text": [
      "\r79%"
     ]
    },
    {
     "name": "stdout",
     "output_type": "stream",
     "text": [
      "\r80%"
     ]
    },
    {
     "name": "stdout",
     "output_type": "stream",
     "text": [
      "\r80%"
     ]
    },
    {
     "name": "stdout",
     "output_type": "stream",
     "text": [
      "\r80%"
     ]
    },
    {
     "name": "stdout",
     "output_type": "stream",
     "text": [
      "\r80%"
     ]
    },
    {
     "name": "stdout",
     "output_type": "stream",
     "text": [
      "\r81%"
     ]
    },
    {
     "name": "stdout",
     "output_type": "stream",
     "text": [
      "\r81%"
     ]
    },
    {
     "name": "stdout",
     "output_type": "stream",
     "text": [
      "\r81%"
     ]
    },
    {
     "name": "stdout",
     "output_type": "stream",
     "text": [
      "\r81%"
     ]
    },
    {
     "name": "stdout",
     "output_type": "stream",
     "text": [
      "\r82%"
     ]
    },
    {
     "name": "stdout",
     "output_type": "stream",
     "text": [
      "\r82%"
     ]
    },
    {
     "name": "stdout",
     "output_type": "stream",
     "text": [
      "\r82%"
     ]
    },
    {
     "name": "stdout",
     "output_type": "stream",
     "text": [
      "\r83%"
     ]
    },
    {
     "name": "stdout",
     "output_type": "stream",
     "text": [
      "\r83%"
     ]
    },
    {
     "name": "stdout",
     "output_type": "stream",
     "text": [
      "\r83%"
     ]
    },
    {
     "name": "stdout",
     "output_type": "stream",
     "text": [
      "\r83%"
     ]
    },
    {
     "name": "stdout",
     "output_type": "stream",
     "text": [
      "\r84%"
     ]
    },
    {
     "name": "stdout",
     "output_type": "stream",
     "text": [
      "\r84%"
     ]
    },
    {
     "name": "stdout",
     "output_type": "stream",
     "text": [
      "\r84%"
     ]
    },
    {
     "name": "stdout",
     "output_type": "stream",
     "text": [
      "\r84%"
     ]
    },
    {
     "name": "stdout",
     "output_type": "stream",
     "text": [
      "\r85%"
     ]
    },
    {
     "name": "stdout",
     "output_type": "stream",
     "text": [
      "\r85%"
     ]
    },
    {
     "name": "stdout",
     "output_type": "stream",
     "text": [
      "\r85%"
     ]
    },
    {
     "name": "stdout",
     "output_type": "stream",
     "text": [
      "\r86%"
     ]
    },
    {
     "name": "stdout",
     "output_type": "stream",
     "text": [
      "\r86%"
     ]
    },
    {
     "name": "stdout",
     "output_type": "stream",
     "text": [
      "\r86%"
     ]
    },
    {
     "name": "stdout",
     "output_type": "stream",
     "text": [
      "\r86%"
     ]
    },
    {
     "name": "stdout",
     "output_type": "stream",
     "text": [
      "\r87%"
     ]
    },
    {
     "name": "stdout",
     "output_type": "stream",
     "text": [
      "\r87%"
     ]
    },
    {
     "name": "stdout",
     "output_type": "stream",
     "text": [
      "\r87%"
     ]
    },
    {
     "name": "stdout",
     "output_type": "stream",
     "text": [
      "\r87%"
     ]
    },
    {
     "name": "stdout",
     "output_type": "stream",
     "text": [
      "\r88%"
     ]
    },
    {
     "name": "stdout",
     "output_type": "stream",
     "text": [
      "\r88%"
     ]
    },
    {
     "name": "stdout",
     "output_type": "stream",
     "text": [
      "\r88%"
     ]
    },
    {
     "name": "stdout",
     "output_type": "stream",
     "text": [
      "\r89%"
     ]
    },
    {
     "name": "stdout",
     "output_type": "stream",
     "text": [
      "\r89%"
     ]
    },
    {
     "name": "stdout",
     "output_type": "stream",
     "text": [
      "\r89%"
     ]
    },
    {
     "name": "stdout",
     "output_type": "stream",
     "text": [
      "\r89%"
     ]
    },
    {
     "name": "stdout",
     "output_type": "stream",
     "text": [
      "\r90%"
     ]
    },
    {
     "name": "stdout",
     "output_type": "stream",
     "text": [
      "\r90%"
     ]
    },
    {
     "name": "stdout",
     "output_type": "stream",
     "text": [
      "\r90%"
     ]
    },
    {
     "name": "stdout",
     "output_type": "stream",
     "text": [
      "\r90%"
     ]
    },
    {
     "name": "stdout",
     "output_type": "stream",
     "text": [
      "\r91%"
     ]
    },
    {
     "name": "stdout",
     "output_type": "stream",
     "text": [
      "\r91%"
     ]
    },
    {
     "name": "stdout",
     "output_type": "stream",
     "text": [
      "\r91%"
     ]
    },
    {
     "name": "stdout",
     "output_type": "stream",
     "text": [
      "\r92%"
     ]
    },
    {
     "name": "stdout",
     "output_type": "stream",
     "text": [
      "\r92%"
     ]
    },
    {
     "name": "stdout",
     "output_type": "stream",
     "text": [
      "\r92%"
     ]
    },
    {
     "name": "stdout",
     "output_type": "stream",
     "text": [
      "\r92%"
     ]
    },
    {
     "name": "stdout",
     "output_type": "stream",
     "text": [
      "\r93%"
     ]
    },
    {
     "name": "stdout",
     "output_type": "stream",
     "text": [
      "\r93%"
     ]
    },
    {
     "name": "stdout",
     "output_type": "stream",
     "text": [
      "\r93%"
     ]
    },
    {
     "name": "stdout",
     "output_type": "stream",
     "text": [
      "\r93%"
     ]
    },
    {
     "name": "stdout",
     "output_type": "stream",
     "text": [
      "\r94%"
     ]
    },
    {
     "name": "stdout",
     "output_type": "stream",
     "text": [
      "\r94%"
     ]
    },
    {
     "name": "stdout",
     "output_type": "stream",
     "text": [
      "\r94%"
     ]
    },
    {
     "name": "stdout",
     "output_type": "stream",
     "text": [
      "\r95%"
     ]
    },
    {
     "name": "stdout",
     "output_type": "stream",
     "text": [
      "\r95%"
     ]
    },
    {
     "name": "stdout",
     "output_type": "stream",
     "text": [
      "\r95%"
     ]
    },
    {
     "name": "stdout",
     "output_type": "stream",
     "text": [
      "\r95%"
     ]
    },
    {
     "name": "stdout",
     "output_type": "stream",
     "text": [
      "\r96%"
     ]
    },
    {
     "name": "stdout",
     "output_type": "stream",
     "text": [
      "\r96%"
     ]
    },
    {
     "name": "stdout",
     "output_type": "stream",
     "text": [
      "\r96%"
     ]
    },
    {
     "name": "stdout",
     "output_type": "stream",
     "text": [
      "\r96%"
     ]
    },
    {
     "name": "stdout",
     "output_type": "stream",
     "text": [
      "\r97%"
     ]
    },
    {
     "name": "stdout",
     "output_type": "stream",
     "text": [
      "\r97%"
     ]
    },
    {
     "name": "stdout",
     "output_type": "stream",
     "text": [
      "\r97%"
     ]
    },
    {
     "name": "stdout",
     "output_type": "stream",
     "text": [
      "\r98%"
     ]
    },
    {
     "name": "stdout",
     "output_type": "stream",
     "text": [
      "\r98%"
     ]
    },
    {
     "name": "stdout",
     "output_type": "stream",
     "text": [
      "\r98%"
     ]
    },
    {
     "name": "stdout",
     "output_type": "stream",
     "text": [
      "\r98%"
     ]
    },
    {
     "name": "stdout",
     "output_type": "stream",
     "text": [
      "\r99%"
     ]
    },
    {
     "name": "stdout",
     "output_type": "stream",
     "text": [
      "\r99%"
     ]
    },
    {
     "name": "stdout",
     "output_type": "stream",
     "text": [
      "\r99%"
     ]
    },
    {
     "name": "stdout",
     "output_type": "stream",
     "text": [
      "\r5 훈련 MSE: 0.025953436\n"
     ]
    },
    {
     "name": "stdout",
     "output_type": "stream",
     "text": [
      "\r0%"
     ]
    },
    {
     "name": "stdout",
     "output_type": "stream",
     "text": [
      "\r0%"
     ]
    },
    {
     "name": "stdout",
     "output_type": "stream",
     "text": [
      "\r0%"
     ]
    },
    {
     "name": "stdout",
     "output_type": "stream",
     "text": [
      "\r0%"
     ]
    },
    {
     "name": "stdout",
     "output_type": "stream",
     "text": [
      "\r1%"
     ]
    },
    {
     "name": "stdout",
     "output_type": "stream",
     "text": [
      "\r1%"
     ]
    },
    {
     "name": "stdout",
     "output_type": "stream",
     "text": [
      "\r1%"
     ]
    },
    {
     "name": "stdout",
     "output_type": "stream",
     "text": [
      "\r1%"
     ]
    },
    {
     "name": "stdout",
     "output_type": "stream",
     "text": [
      "\r2%"
     ]
    },
    {
     "name": "stdout",
     "output_type": "stream",
     "text": [
      "\r2%"
     ]
    },
    {
     "name": "stdout",
     "output_type": "stream",
     "text": [
      "\r2%"
     ]
    },
    {
     "name": "stdout",
     "output_type": "stream",
     "text": [
      "\r3%"
     ]
    },
    {
     "name": "stdout",
     "output_type": "stream",
     "text": [
      "\r3%"
     ]
    },
    {
     "name": "stdout",
     "output_type": "stream",
     "text": [
      "\r3%"
     ]
    },
    {
     "name": "stdout",
     "output_type": "stream",
     "text": [
      "\r3%"
     ]
    },
    {
     "name": "stdout",
     "output_type": "stream",
     "text": [
      "\r4%"
     ]
    },
    {
     "name": "stdout",
     "output_type": "stream",
     "text": [
      "\r4%"
     ]
    },
    {
     "name": "stdout",
     "output_type": "stream",
     "text": [
      "\r4%"
     ]
    },
    {
     "name": "stdout",
     "output_type": "stream",
     "text": [
      "\r4%"
     ]
    },
    {
     "name": "stdout",
     "output_type": "stream",
     "text": [
      "\r5%"
     ]
    },
    {
     "name": "stdout",
     "output_type": "stream",
     "text": [
      "\r5%"
     ]
    },
    {
     "name": "stdout",
     "output_type": "stream",
     "text": [
      "\r5%"
     ]
    },
    {
     "name": "stdout",
     "output_type": "stream",
     "text": [
      "\r6%"
     ]
    },
    {
     "name": "stdout",
     "output_type": "stream",
     "text": [
      "\r6%"
     ]
    },
    {
     "name": "stdout",
     "output_type": "stream",
     "text": [
      "\r6%"
     ]
    },
    {
     "name": "stdout",
     "output_type": "stream",
     "text": [
      "\r6%"
     ]
    },
    {
     "name": "stdout",
     "output_type": "stream",
     "text": [
      "\r7%"
     ]
    },
    {
     "name": "stdout",
     "output_type": "stream",
     "text": [
      "\r7%"
     ]
    },
    {
     "name": "stdout",
     "output_type": "stream",
     "text": [
      "\r7%"
     ]
    },
    {
     "name": "stdout",
     "output_type": "stream",
     "text": [
      "\r7%"
     ]
    },
    {
     "name": "stdout",
     "output_type": "stream",
     "text": [
      "\r8%"
     ]
    },
    {
     "name": "stdout",
     "output_type": "stream",
     "text": [
      "\r8%"
     ]
    },
    {
     "name": "stdout",
     "output_type": "stream",
     "text": [
      "\r8%"
     ]
    },
    {
     "name": "stdout",
     "output_type": "stream",
     "text": [
      "\r9%"
     ]
    },
    {
     "name": "stdout",
     "output_type": "stream",
     "text": [
      "\r9%"
     ]
    },
    {
     "name": "stdout",
     "output_type": "stream",
     "text": [
      "\r9%"
     ]
    },
    {
     "name": "stdout",
     "output_type": "stream",
     "text": [
      "\r9%"
     ]
    },
    {
     "name": "stdout",
     "output_type": "stream",
     "text": [
      "\r10%"
     ]
    },
    {
     "name": "stdout",
     "output_type": "stream",
     "text": [
      "\r10%"
     ]
    },
    {
     "name": "stdout",
     "output_type": "stream",
     "text": [
      "\r10%"
     ]
    },
    {
     "name": "stdout",
     "output_type": "stream",
     "text": [
      "\r10%"
     ]
    },
    {
     "name": "stdout",
     "output_type": "stream",
     "text": [
      "\r11%"
     ]
    },
    {
     "name": "stdout",
     "output_type": "stream",
     "text": [
      "\r11%"
     ]
    },
    {
     "name": "stdout",
     "output_type": "stream",
     "text": [
      "\r11%"
     ]
    },
    {
     "name": "stdout",
     "output_type": "stream",
     "text": [
      "\r12%"
     ]
    },
    {
     "name": "stdout",
     "output_type": "stream",
     "text": [
      "\r12%"
     ]
    },
    {
     "name": "stdout",
     "output_type": "stream",
     "text": [
      "\r12%"
     ]
    },
    {
     "name": "stdout",
     "output_type": "stream",
     "text": [
      "\r12%"
     ]
    },
    {
     "name": "stdout",
     "output_type": "stream",
     "text": [
      "\r13%"
     ]
    },
    {
     "name": "stdout",
     "output_type": "stream",
     "text": [
      "\r13%"
     ]
    },
    {
     "name": "stdout",
     "output_type": "stream",
     "text": [
      "\r13%"
     ]
    },
    {
     "name": "stdout",
     "output_type": "stream",
     "text": [
      "\r13%"
     ]
    },
    {
     "name": "stdout",
     "output_type": "stream",
     "text": [
      "\r14%"
     ]
    },
    {
     "name": "stdout",
     "output_type": "stream",
     "text": [
      "\r14%"
     ]
    },
    {
     "name": "stdout",
     "output_type": "stream",
     "text": [
      "\r14%"
     ]
    },
    {
     "name": "stdout",
     "output_type": "stream",
     "text": [
      "\r15%"
     ]
    },
    {
     "name": "stdout",
     "output_type": "stream",
     "text": [
      "\r15%"
     ]
    },
    {
     "name": "stdout",
     "output_type": "stream",
     "text": [
      "\r15%"
     ]
    },
    {
     "name": "stdout",
     "output_type": "stream",
     "text": [
      "\r15%"
     ]
    },
    {
     "name": "stdout",
     "output_type": "stream",
     "text": [
      "\r16%"
     ]
    },
    {
     "name": "stdout",
     "output_type": "stream",
     "text": [
      "\r16%"
     ]
    },
    {
     "name": "stdout",
     "output_type": "stream",
     "text": [
      "\r16%"
     ]
    },
    {
     "name": "stdout",
     "output_type": "stream",
     "text": [
      "\r16%"
     ]
    },
    {
     "name": "stdout",
     "output_type": "stream",
     "text": [
      "\r17%"
     ]
    },
    {
     "name": "stdout",
     "output_type": "stream",
     "text": [
      "\r17%"
     ]
    },
    {
     "name": "stdout",
     "output_type": "stream",
     "text": [
      "\r17%"
     ]
    },
    {
     "name": "stdout",
     "output_type": "stream",
     "text": [
      "\r18%"
     ]
    },
    {
     "name": "stdout",
     "output_type": "stream",
     "text": [
      "\r18%"
     ]
    },
    {
     "name": "stdout",
     "output_type": "stream",
     "text": [
      "\r18%"
     ]
    },
    {
     "name": "stdout",
     "output_type": "stream",
     "text": [
      "\r18%"
     ]
    },
    {
     "name": "stdout",
     "output_type": "stream",
     "text": [
      "\r19%"
     ]
    },
    {
     "name": "stdout",
     "output_type": "stream",
     "text": [
      "\r19%"
     ]
    },
    {
     "name": "stdout",
     "output_type": "stream",
     "text": [
      "\r19%"
     ]
    },
    {
     "name": "stdout",
     "output_type": "stream",
     "text": [
      "\r19%"
     ]
    },
    {
     "name": "stdout",
     "output_type": "stream",
     "text": [
      "\r20%"
     ]
    },
    {
     "name": "stdout",
     "output_type": "stream",
     "text": [
      "\r20%"
     ]
    },
    {
     "name": "stdout",
     "output_type": "stream",
     "text": [
      "\r20%"
     ]
    },
    {
     "name": "stdout",
     "output_type": "stream",
     "text": [
      "\r21%"
     ]
    },
    {
     "name": "stdout",
     "output_type": "stream",
     "text": [
      "\r21%"
     ]
    },
    {
     "name": "stdout",
     "output_type": "stream",
     "text": [
      "\r21%"
     ]
    },
    {
     "name": "stdout",
     "output_type": "stream",
     "text": [
      "\r21%"
     ]
    },
    {
     "name": "stdout",
     "output_type": "stream",
     "text": [
      "\r22%"
     ]
    },
    {
     "name": "stdout",
     "output_type": "stream",
     "text": [
      "\r22%"
     ]
    },
    {
     "name": "stdout",
     "output_type": "stream",
     "text": [
      "\r22%"
     ]
    },
    {
     "name": "stdout",
     "output_type": "stream",
     "text": [
      "\r22%"
     ]
    },
    {
     "name": "stdout",
     "output_type": "stream",
     "text": [
      "\r23%"
     ]
    },
    {
     "name": "stdout",
     "output_type": "stream",
     "text": [
      "\r23%"
     ]
    },
    {
     "name": "stdout",
     "output_type": "stream",
     "text": [
      "\r23%"
     ]
    },
    {
     "name": "stdout",
     "output_type": "stream",
     "text": [
      "\r24%"
     ]
    },
    {
     "name": "stdout",
     "output_type": "stream",
     "text": [
      "\r24%"
     ]
    },
    {
     "name": "stdout",
     "output_type": "stream",
     "text": [
      "\r24%"
     ]
    },
    {
     "name": "stdout",
     "output_type": "stream",
     "text": [
      "\r24%"
     ]
    },
    {
     "name": "stdout",
     "output_type": "stream",
     "text": [
      "\r25%"
     ]
    },
    {
     "name": "stdout",
     "output_type": "stream",
     "text": [
      "\r25%"
     ]
    },
    {
     "name": "stdout",
     "output_type": "stream",
     "text": [
      "\r25%"
     ]
    },
    {
     "name": "stdout",
     "output_type": "stream",
     "text": [
      "\r25%"
     ]
    },
    {
     "name": "stdout",
     "output_type": "stream",
     "text": [
      "\r26%"
     ]
    },
    {
     "name": "stdout",
     "output_type": "stream",
     "text": [
      "\r26%"
     ]
    },
    {
     "name": "stdout",
     "output_type": "stream",
     "text": [
      "\r26%"
     ]
    },
    {
     "name": "stdout",
     "output_type": "stream",
     "text": [
      "\r27%"
     ]
    },
    {
     "name": "stdout",
     "output_type": "stream",
     "text": [
      "\r27%"
     ]
    },
    {
     "name": "stdout",
     "output_type": "stream",
     "text": [
      "\r27%"
     ]
    },
    {
     "name": "stdout",
     "output_type": "stream",
     "text": [
      "\r27%"
     ]
    },
    {
     "name": "stdout",
     "output_type": "stream",
     "text": [
      "\r28%"
     ]
    },
    {
     "name": "stdout",
     "output_type": "stream",
     "text": [
      "\r28%"
     ]
    },
    {
     "name": "stdout",
     "output_type": "stream",
     "text": [
      "\r28%"
     ]
    },
    {
     "name": "stdout",
     "output_type": "stream",
     "text": [
      "\r28%"
     ]
    },
    {
     "name": "stdout",
     "output_type": "stream",
     "text": [
      "\r29%"
     ]
    },
    {
     "name": "stdout",
     "output_type": "stream",
     "text": [
      "\r29%"
     ]
    },
    {
     "name": "stdout",
     "output_type": "stream",
     "text": [
      "\r29%"
     ]
    },
    {
     "name": "stdout",
     "output_type": "stream",
     "text": [
      "\r30%"
     ]
    },
    {
     "name": "stdout",
     "output_type": "stream",
     "text": [
      "\r30%"
     ]
    },
    {
     "name": "stdout",
     "output_type": "stream",
     "text": [
      "\r30%"
     ]
    },
    {
     "name": "stdout",
     "output_type": "stream",
     "text": [
      "\r30%"
     ]
    },
    {
     "name": "stdout",
     "output_type": "stream",
     "text": [
      "\r31%"
     ]
    },
    {
     "name": "stdout",
     "output_type": "stream",
     "text": [
      "\r31%"
     ]
    },
    {
     "name": "stdout",
     "output_type": "stream",
     "text": [
      "\r31%"
     ]
    },
    {
     "name": "stdout",
     "output_type": "stream",
     "text": [
      "\r31%"
     ]
    },
    {
     "name": "stdout",
     "output_type": "stream",
     "text": [
      "\r32%"
     ]
    },
    {
     "name": "stdout",
     "output_type": "stream",
     "text": [
      "\r32%"
     ]
    },
    {
     "name": "stdout",
     "output_type": "stream",
     "text": [
      "\r32%"
     ]
    },
    {
     "name": "stdout",
     "output_type": "stream",
     "text": [
      "\r33%"
     ]
    },
    {
     "name": "stdout",
     "output_type": "stream",
     "text": [
      "\r33%"
     ]
    },
    {
     "name": "stdout",
     "output_type": "stream",
     "text": [
      "\r33%"
     ]
    },
    {
     "name": "stdout",
     "output_type": "stream",
     "text": [
      "\r33%"
     ]
    },
    {
     "name": "stdout",
     "output_type": "stream",
     "text": [
      "\r34%"
     ]
    },
    {
     "name": "stdout",
     "output_type": "stream",
     "text": [
      "\r34%"
     ]
    },
    {
     "name": "stdout",
     "output_type": "stream",
     "text": [
      "\r34%"
     ]
    },
    {
     "name": "stdout",
     "output_type": "stream",
     "text": [
      "\r34%"
     ]
    },
    {
     "name": "stdout",
     "output_type": "stream",
     "text": [
      "\r35%"
     ]
    },
    {
     "name": "stdout",
     "output_type": "stream",
     "text": [
      "\r35%"
     ]
    },
    {
     "name": "stdout",
     "output_type": "stream",
     "text": [
      "\r35%"
     ]
    },
    {
     "name": "stdout",
     "output_type": "stream",
     "text": [
      "\r36%"
     ]
    },
    {
     "name": "stdout",
     "output_type": "stream",
     "text": [
      "\r36%"
     ]
    },
    {
     "name": "stdout",
     "output_type": "stream",
     "text": [
      "\r36%"
     ]
    },
    {
     "name": "stdout",
     "output_type": "stream",
     "text": [
      "\r36%"
     ]
    },
    {
     "name": "stdout",
     "output_type": "stream",
     "text": [
      "\r37%"
     ]
    },
    {
     "name": "stdout",
     "output_type": "stream",
     "text": [
      "\r37%"
     ]
    },
    {
     "name": "stdout",
     "output_type": "stream",
     "text": [
      "\r37%"
     ]
    },
    {
     "name": "stdout",
     "output_type": "stream",
     "text": [
      "\r37%"
     ]
    },
    {
     "name": "stdout",
     "output_type": "stream",
     "text": [
      "\r38%"
     ]
    },
    {
     "name": "stdout",
     "output_type": "stream",
     "text": [
      "\r38%"
     ]
    },
    {
     "name": "stdout",
     "output_type": "stream",
     "text": [
      "\r38%"
     ]
    },
    {
     "name": "stdout",
     "output_type": "stream",
     "text": [
      "\r39%"
     ]
    },
    {
     "name": "stdout",
     "output_type": "stream",
     "text": [
      "\r39%"
     ]
    },
    {
     "name": "stdout",
     "output_type": "stream",
     "text": [
      "\r39%"
     ]
    },
    {
     "name": "stdout",
     "output_type": "stream",
     "text": [
      "\r39%"
     ]
    },
    {
     "name": "stdout",
     "output_type": "stream",
     "text": [
      "\r40%"
     ]
    },
    {
     "name": "stdout",
     "output_type": "stream",
     "text": [
      "\r40%"
     ]
    },
    {
     "name": "stdout",
     "output_type": "stream",
     "text": [
      "\r40%"
     ]
    },
    {
     "name": "stdout",
     "output_type": "stream",
     "text": [
      "\r40%"
     ]
    },
    {
     "name": "stdout",
     "output_type": "stream",
     "text": [
      "\r41%"
     ]
    },
    {
     "name": "stdout",
     "output_type": "stream",
     "text": [
      "\r41%"
     ]
    },
    {
     "name": "stdout",
     "output_type": "stream",
     "text": [
      "\r41%"
     ]
    },
    {
     "name": "stdout",
     "output_type": "stream",
     "text": [
      "\r42%"
     ]
    },
    {
     "name": "stdout",
     "output_type": "stream",
     "text": [
      "\r42%"
     ]
    },
    {
     "name": "stdout",
     "output_type": "stream",
     "text": [
      "\r42%"
     ]
    },
    {
     "name": "stdout",
     "output_type": "stream",
     "text": [
      "\r42%"
     ]
    },
    {
     "name": "stdout",
     "output_type": "stream",
     "text": [
      "\r43%"
     ]
    },
    {
     "name": "stdout",
     "output_type": "stream",
     "text": [
      "\r43%"
     ]
    },
    {
     "name": "stdout",
     "output_type": "stream",
     "text": [
      "\r43%"
     ]
    },
    {
     "name": "stdout",
     "output_type": "stream",
     "text": [
      "\r43%"
     ]
    },
    {
     "name": "stdout",
     "output_type": "stream",
     "text": [
      "\r44%"
     ]
    },
    {
     "name": "stdout",
     "output_type": "stream",
     "text": [
      "\r44%"
     ]
    },
    {
     "name": "stdout",
     "output_type": "stream",
     "text": [
      "\r44%"
     ]
    },
    {
     "name": "stdout",
     "output_type": "stream",
     "text": [
      "\r45%"
     ]
    },
    {
     "name": "stdout",
     "output_type": "stream",
     "text": [
      "\r45%"
     ]
    },
    {
     "name": "stdout",
     "output_type": "stream",
     "text": [
      "\r45%"
     ]
    },
    {
     "name": "stdout",
     "output_type": "stream",
     "text": [
      "\r45%"
     ]
    },
    {
     "name": "stdout",
     "output_type": "stream",
     "text": [
      "\r46%"
     ]
    },
    {
     "name": "stdout",
     "output_type": "stream",
     "text": [
      "\r46%"
     ]
    },
    {
     "name": "stdout",
     "output_type": "stream",
     "text": [
      "\r46%"
     ]
    },
    {
     "name": "stdout",
     "output_type": "stream",
     "text": [
      "\r46%"
     ]
    },
    {
     "name": "stdout",
     "output_type": "stream",
     "text": [
      "\r47%"
     ]
    },
    {
     "name": "stdout",
     "output_type": "stream",
     "text": [
      "\r47%"
     ]
    },
    {
     "name": "stdout",
     "output_type": "stream",
     "text": [
      "\r47%"
     ]
    },
    {
     "name": "stdout",
     "output_type": "stream",
     "text": [
      "\r48%"
     ]
    },
    {
     "name": "stdout",
     "output_type": "stream",
     "text": [
      "\r48%"
     ]
    },
    {
     "name": "stdout",
     "output_type": "stream",
     "text": [
      "\r48%"
     ]
    },
    {
     "name": "stdout",
     "output_type": "stream",
     "text": [
      "\r48%"
     ]
    },
    {
     "name": "stdout",
     "output_type": "stream",
     "text": [
      "\r49%"
     ]
    },
    {
     "name": "stdout",
     "output_type": "stream",
     "text": [
      "\r49%"
     ]
    },
    {
     "name": "stdout",
     "output_type": "stream",
     "text": [
      "\r49%"
     ]
    },
    {
     "name": "stdout",
     "output_type": "stream",
     "text": [
      "\r50%"
     ]
    },
    {
     "name": "stdout",
     "output_type": "stream",
     "text": [
      "\r50%"
     ]
    },
    {
     "name": "stdout",
     "output_type": "stream",
     "text": [
      "\r50%"
     ]
    },
    {
     "name": "stdout",
     "output_type": "stream",
     "text": [
      "\r50%"
     ]
    },
    {
     "name": "stdout",
     "output_type": "stream",
     "text": [
      "\r51%"
     ]
    },
    {
     "name": "stdout",
     "output_type": "stream",
     "text": [
      "\r51%"
     ]
    },
    {
     "name": "stdout",
     "output_type": "stream",
     "text": [
      "\r51%"
     ]
    },
    {
     "name": "stdout",
     "output_type": "stream",
     "text": [
      "\r51%"
     ]
    },
    {
     "name": "stdout",
     "output_type": "stream",
     "text": [
      "\r52%"
     ]
    },
    {
     "name": "stdout",
     "output_type": "stream",
     "text": [
      "\r52%"
     ]
    },
    {
     "name": "stdout",
     "output_type": "stream",
     "text": [
      "\r52%"
     ]
    },
    {
     "name": "stdout",
     "output_type": "stream",
     "text": [
      "\r53%"
     ]
    },
    {
     "name": "stdout",
     "output_type": "stream",
     "text": [
      "\r53%"
     ]
    },
    {
     "name": "stdout",
     "output_type": "stream",
     "text": [
      "\r53%"
     ]
    },
    {
     "name": "stdout",
     "output_type": "stream",
     "text": [
      "\r53%"
     ]
    },
    {
     "name": "stdout",
     "output_type": "stream",
     "text": [
      "\r54%"
     ]
    },
    {
     "name": "stdout",
     "output_type": "stream",
     "text": [
      "\r54%"
     ]
    },
    {
     "name": "stdout",
     "output_type": "stream",
     "text": [
      "\r54%"
     ]
    },
    {
     "name": "stdout",
     "output_type": "stream",
     "text": [
      "\r54%"
     ]
    },
    {
     "name": "stdout",
     "output_type": "stream",
     "text": [
      "\r55%"
     ]
    },
    {
     "name": "stdout",
     "output_type": "stream",
     "text": [
      "\r55%"
     ]
    },
    {
     "name": "stdout",
     "output_type": "stream",
     "text": [
      "\r55%"
     ]
    },
    {
     "name": "stdout",
     "output_type": "stream",
     "text": [
      "\r56%"
     ]
    },
    {
     "name": "stdout",
     "output_type": "stream",
     "text": [
      "\r56%"
     ]
    },
    {
     "name": "stdout",
     "output_type": "stream",
     "text": [
      "\r56%"
     ]
    },
    {
     "name": "stdout",
     "output_type": "stream",
     "text": [
      "\r56%"
     ]
    },
    {
     "name": "stdout",
     "output_type": "stream",
     "text": [
      "\r57%"
     ]
    },
    {
     "name": "stdout",
     "output_type": "stream",
     "text": [
      "\r57%"
     ]
    },
    {
     "name": "stdout",
     "output_type": "stream",
     "text": [
      "\r57%"
     ]
    },
    {
     "name": "stdout",
     "output_type": "stream",
     "text": [
      "\r57%"
     ]
    },
    {
     "name": "stdout",
     "output_type": "stream",
     "text": [
      "\r58%"
     ]
    },
    {
     "name": "stdout",
     "output_type": "stream",
     "text": [
      "\r58%"
     ]
    },
    {
     "name": "stdout",
     "output_type": "stream",
     "text": [
      "\r58%"
     ]
    },
    {
     "name": "stdout",
     "output_type": "stream",
     "text": [
      "\r59%"
     ]
    },
    {
     "name": "stdout",
     "output_type": "stream",
     "text": [
      "\r59%"
     ]
    },
    {
     "name": "stdout",
     "output_type": "stream",
     "text": [
      "\r59%"
     ]
    },
    {
     "name": "stdout",
     "output_type": "stream",
     "text": [
      "\r59%"
     ]
    },
    {
     "name": "stdout",
     "output_type": "stream",
     "text": [
      "\r60%"
     ]
    },
    {
     "name": "stdout",
     "output_type": "stream",
     "text": [
      "\r60%"
     ]
    },
    {
     "name": "stdout",
     "output_type": "stream",
     "text": [
      "\r60%"
     ]
    },
    {
     "name": "stdout",
     "output_type": "stream",
     "text": [
      "\r60%"
     ]
    },
    {
     "name": "stdout",
     "output_type": "stream",
     "text": [
      "\r61%"
     ]
    },
    {
     "name": "stdout",
     "output_type": "stream",
     "text": [
      "\r61%"
     ]
    },
    {
     "name": "stdout",
     "output_type": "stream",
     "text": [
      "\r61%"
     ]
    },
    {
     "name": "stdout",
     "output_type": "stream",
     "text": [
      "\r62%"
     ]
    },
    {
     "name": "stdout",
     "output_type": "stream",
     "text": [
      "\r62%"
     ]
    },
    {
     "name": "stdout",
     "output_type": "stream",
     "text": [
      "\r62%"
     ]
    },
    {
     "name": "stdout",
     "output_type": "stream",
     "text": [
      "\r62%"
     ]
    },
    {
     "name": "stdout",
     "output_type": "stream",
     "text": [
      "\r63%"
     ]
    },
    {
     "name": "stdout",
     "output_type": "stream",
     "text": [
      "\r63%"
     ]
    },
    {
     "name": "stdout",
     "output_type": "stream",
     "text": [
      "\r63%"
     ]
    },
    {
     "name": "stdout",
     "output_type": "stream",
     "text": [
      "\r63%"
     ]
    },
    {
     "name": "stdout",
     "output_type": "stream",
     "text": [
      "\r64%"
     ]
    },
    {
     "name": "stdout",
     "output_type": "stream",
     "text": [
      "\r64%"
     ]
    },
    {
     "name": "stdout",
     "output_type": "stream",
     "text": [
      "\r64%"
     ]
    },
    {
     "name": "stdout",
     "output_type": "stream",
     "text": [
      "\r65%"
     ]
    },
    {
     "name": "stdout",
     "output_type": "stream",
     "text": [
      "\r65%"
     ]
    },
    {
     "name": "stdout",
     "output_type": "stream",
     "text": [
      "\r65%"
     ]
    },
    {
     "name": "stdout",
     "output_type": "stream",
     "text": [
      "\r65%"
     ]
    },
    {
     "name": "stdout",
     "output_type": "stream",
     "text": [
      "\r66%"
     ]
    },
    {
     "name": "stdout",
     "output_type": "stream",
     "text": [
      "\r66%"
     ]
    },
    {
     "name": "stdout",
     "output_type": "stream",
     "text": [
      "\r66%"
     ]
    },
    {
     "name": "stdout",
     "output_type": "stream",
     "text": [
      "\r66%"
     ]
    },
    {
     "name": "stdout",
     "output_type": "stream",
     "text": [
      "\r67%"
     ]
    },
    {
     "name": "stdout",
     "output_type": "stream",
     "text": [
      "\r67%"
     ]
    },
    {
     "name": "stdout",
     "output_type": "stream",
     "text": [
      "\r67%"
     ]
    },
    {
     "name": "stdout",
     "output_type": "stream",
     "text": [
      "\r68%"
     ]
    },
    {
     "name": "stdout",
     "output_type": "stream",
     "text": [
      "\r68%"
     ]
    },
    {
     "name": "stdout",
     "output_type": "stream",
     "text": [
      "\r68%"
     ]
    },
    {
     "name": "stdout",
     "output_type": "stream",
     "text": [
      "\r68%"
     ]
    },
    {
     "name": "stdout",
     "output_type": "stream",
     "text": [
      "\r69%"
     ]
    },
    {
     "name": "stdout",
     "output_type": "stream",
     "text": [
      "\r69%"
     ]
    },
    {
     "name": "stdout",
     "output_type": "stream",
     "text": [
      "\r69%"
     ]
    },
    {
     "name": "stdout",
     "output_type": "stream",
     "text": [
      "\r69%"
     ]
    },
    {
     "name": "stdout",
     "output_type": "stream",
     "text": [
      "\r70%"
     ]
    },
    {
     "name": "stdout",
     "output_type": "stream",
     "text": [
      "\r70%"
     ]
    },
    {
     "name": "stdout",
     "output_type": "stream",
     "text": [
      "\r70%"
     ]
    },
    {
     "name": "stdout",
     "output_type": "stream",
     "text": [
      "\r71%"
     ]
    },
    {
     "name": "stdout",
     "output_type": "stream",
     "text": [
      "\r71%"
     ]
    },
    {
     "name": "stdout",
     "output_type": "stream",
     "text": [
      "\r71%"
     ]
    },
    {
     "name": "stdout",
     "output_type": "stream",
     "text": [
      "\r71%"
     ]
    },
    {
     "name": "stdout",
     "output_type": "stream",
     "text": [
      "\r72%"
     ]
    },
    {
     "name": "stdout",
     "output_type": "stream",
     "text": [
      "\r72%"
     ]
    },
    {
     "name": "stdout",
     "output_type": "stream",
     "text": [
      "\r72%"
     ]
    },
    {
     "name": "stdout",
     "output_type": "stream",
     "text": [
      "\r72%"
     ]
    },
    {
     "name": "stdout",
     "output_type": "stream",
     "text": [
      "\r73%"
     ]
    },
    {
     "name": "stdout",
     "output_type": "stream",
     "text": [
      "\r73%"
     ]
    },
    {
     "name": "stdout",
     "output_type": "stream",
     "text": [
      "\r73%"
     ]
    },
    {
     "name": "stdout",
     "output_type": "stream",
     "text": [
      "\r74%"
     ]
    },
    {
     "name": "stdout",
     "output_type": "stream",
     "text": [
      "\r74%"
     ]
    },
    {
     "name": "stdout",
     "output_type": "stream",
     "text": [
      "\r74%"
     ]
    },
    {
     "name": "stdout",
     "output_type": "stream",
     "text": [
      "\r74%"
     ]
    },
    {
     "name": "stdout",
     "output_type": "stream",
     "text": [
      "\r75%"
     ]
    },
    {
     "name": "stdout",
     "output_type": "stream",
     "text": [
      "\r75%"
     ]
    },
    {
     "name": "stdout",
     "output_type": "stream",
     "text": [
      "\r75%"
     ]
    },
    {
     "name": "stdout",
     "output_type": "stream",
     "text": [
      "\r75%"
     ]
    },
    {
     "name": "stdout",
     "output_type": "stream",
     "text": [
      "\r76%"
     ]
    },
    {
     "name": "stdout",
     "output_type": "stream",
     "text": [
      "\r76%"
     ]
    },
    {
     "name": "stdout",
     "output_type": "stream",
     "text": [
      "\r76%"
     ]
    },
    {
     "name": "stdout",
     "output_type": "stream",
     "text": [
      "\r77%"
     ]
    },
    {
     "name": "stdout",
     "output_type": "stream",
     "text": [
      "\r77%"
     ]
    },
    {
     "name": "stdout",
     "output_type": "stream",
     "text": [
      "\r77%"
     ]
    },
    {
     "name": "stdout",
     "output_type": "stream",
     "text": [
      "\r77%"
     ]
    },
    {
     "name": "stdout",
     "output_type": "stream",
     "text": [
      "\r78%"
     ]
    },
    {
     "name": "stdout",
     "output_type": "stream",
     "text": [
      "\r78%"
     ]
    },
    {
     "name": "stdout",
     "output_type": "stream",
     "text": [
      "\r78%"
     ]
    },
    {
     "name": "stdout",
     "output_type": "stream",
     "text": [
      "\r78%"
     ]
    },
    {
     "name": "stdout",
     "output_type": "stream",
     "text": [
      "\r79%"
     ]
    },
    {
     "name": "stdout",
     "output_type": "stream",
     "text": [
      "\r79%"
     ]
    },
    {
     "name": "stdout",
     "output_type": "stream",
     "text": [
      "\r79%"
     ]
    },
    {
     "name": "stdout",
     "output_type": "stream",
     "text": [
      "\r80%"
     ]
    },
    {
     "name": "stdout",
     "output_type": "stream",
     "text": [
      "\r80%"
     ]
    },
    {
     "name": "stdout",
     "output_type": "stream",
     "text": [
      "\r80%"
     ]
    },
    {
     "name": "stdout",
     "output_type": "stream",
     "text": [
      "\r80%"
     ]
    },
    {
     "name": "stdout",
     "output_type": "stream",
     "text": [
      "\r81%"
     ]
    },
    {
     "name": "stdout",
     "output_type": "stream",
     "text": [
      "\r81%"
     ]
    },
    {
     "name": "stdout",
     "output_type": "stream",
     "text": [
      "\r81%"
     ]
    },
    {
     "name": "stdout",
     "output_type": "stream",
     "text": [
      "\r81%"
     ]
    },
    {
     "name": "stdout",
     "output_type": "stream",
     "text": [
      "\r82%"
     ]
    },
    {
     "name": "stdout",
     "output_type": "stream",
     "text": [
      "\r82%"
     ]
    },
    {
     "name": "stdout",
     "output_type": "stream",
     "text": [
      "\r82%"
     ]
    },
    {
     "name": "stdout",
     "output_type": "stream",
     "text": [
      "\r83%"
     ]
    },
    {
     "name": "stdout",
     "output_type": "stream",
     "text": [
      "\r83%"
     ]
    },
    {
     "name": "stdout",
     "output_type": "stream",
     "text": [
      "\r83%"
     ]
    },
    {
     "name": "stdout",
     "output_type": "stream",
     "text": [
      "\r83%"
     ]
    },
    {
     "name": "stdout",
     "output_type": "stream",
     "text": [
      "\r84%"
     ]
    },
    {
     "name": "stdout",
     "output_type": "stream",
     "text": [
      "\r84%"
     ]
    },
    {
     "name": "stdout",
     "output_type": "stream",
     "text": [
      "\r84%"
     ]
    },
    {
     "name": "stdout",
     "output_type": "stream",
     "text": [
      "\r84%"
     ]
    },
    {
     "name": "stdout",
     "output_type": "stream",
     "text": [
      "\r85%"
     ]
    },
    {
     "name": "stdout",
     "output_type": "stream",
     "text": [
      "\r85%"
     ]
    },
    {
     "name": "stdout",
     "output_type": "stream",
     "text": [
      "\r85%"
     ]
    },
    {
     "name": "stdout",
     "output_type": "stream",
     "text": [
      "\r86%"
     ]
    },
    {
     "name": "stdout",
     "output_type": "stream",
     "text": [
      "\r86%"
     ]
    },
    {
     "name": "stdout",
     "output_type": "stream",
     "text": [
      "\r86%"
     ]
    },
    {
     "name": "stdout",
     "output_type": "stream",
     "text": [
      "\r86%"
     ]
    },
    {
     "name": "stdout",
     "output_type": "stream",
     "text": [
      "\r87%"
     ]
    },
    {
     "name": "stdout",
     "output_type": "stream",
     "text": [
      "\r87%"
     ]
    },
    {
     "name": "stdout",
     "output_type": "stream",
     "text": [
      "\r87%"
     ]
    },
    {
     "name": "stdout",
     "output_type": "stream",
     "text": [
      "\r87%"
     ]
    },
    {
     "name": "stdout",
     "output_type": "stream",
     "text": [
      "\r88%"
     ]
    },
    {
     "name": "stdout",
     "output_type": "stream",
     "text": [
      "\r88%"
     ]
    },
    {
     "name": "stdout",
     "output_type": "stream",
     "text": [
      "\r88%"
     ]
    },
    {
     "name": "stdout",
     "output_type": "stream",
     "text": [
      "\r89%"
     ]
    },
    {
     "name": "stdout",
     "output_type": "stream",
     "text": [
      "\r89%"
     ]
    },
    {
     "name": "stdout",
     "output_type": "stream",
     "text": [
      "\r89%"
     ]
    },
    {
     "name": "stdout",
     "output_type": "stream",
     "text": [
      "\r89%"
     ]
    },
    {
     "name": "stdout",
     "output_type": "stream",
     "text": [
      "\r90%"
     ]
    },
    {
     "name": "stdout",
     "output_type": "stream",
     "text": [
      "\r90%"
     ]
    },
    {
     "name": "stdout",
     "output_type": "stream",
     "text": [
      "\r90%"
     ]
    },
    {
     "name": "stdout",
     "output_type": "stream",
     "text": [
      "\r90%"
     ]
    },
    {
     "name": "stdout",
     "output_type": "stream",
     "text": [
      "\r91%"
     ]
    },
    {
     "name": "stdout",
     "output_type": "stream",
     "text": [
      "\r91%"
     ]
    },
    {
     "name": "stdout",
     "output_type": "stream",
     "text": [
      "\r91%"
     ]
    },
    {
     "name": "stdout",
     "output_type": "stream",
     "text": [
      "\r92%"
     ]
    },
    {
     "name": "stdout",
     "output_type": "stream",
     "text": [
      "\r92%"
     ]
    },
    {
     "name": "stdout",
     "output_type": "stream",
     "text": [
      "\r92%"
     ]
    },
    {
     "name": "stdout",
     "output_type": "stream",
     "text": [
      "\r92%"
     ]
    },
    {
     "name": "stdout",
     "output_type": "stream",
     "text": [
      "\r93%"
     ]
    },
    {
     "name": "stdout",
     "output_type": "stream",
     "text": [
      "\r93%"
     ]
    },
    {
     "name": "stdout",
     "output_type": "stream",
     "text": [
      "\r93%"
     ]
    },
    {
     "name": "stdout",
     "output_type": "stream",
     "text": [
      "\r93%"
     ]
    },
    {
     "name": "stdout",
     "output_type": "stream",
     "text": [
      "\r94%"
     ]
    },
    {
     "name": "stdout",
     "output_type": "stream",
     "text": [
      "\r94%"
     ]
    },
    {
     "name": "stdout",
     "output_type": "stream",
     "text": [
      "\r94%"
     ]
    },
    {
     "name": "stdout",
     "output_type": "stream",
     "text": [
      "\r95%"
     ]
    },
    {
     "name": "stdout",
     "output_type": "stream",
     "text": [
      "\r95%"
     ]
    },
    {
     "name": "stdout",
     "output_type": "stream",
     "text": [
      "\r95%"
     ]
    },
    {
     "name": "stdout",
     "output_type": "stream",
     "text": [
      "\r95%"
     ]
    },
    {
     "name": "stdout",
     "output_type": "stream",
     "text": [
      "\r96%"
     ]
    },
    {
     "name": "stdout",
     "output_type": "stream",
     "text": [
      "\r96%"
     ]
    },
    {
     "name": "stdout",
     "output_type": "stream",
     "text": [
      "\r96%"
     ]
    },
    {
     "name": "stdout",
     "output_type": "stream",
     "text": [
      "\r96%"
     ]
    },
    {
     "name": "stdout",
     "output_type": "stream",
     "text": [
      "\r97%"
     ]
    },
    {
     "name": "stdout",
     "output_type": "stream",
     "text": [
      "\r97%"
     ]
    },
    {
     "name": "stdout",
     "output_type": "stream",
     "text": [
      "\r97%"
     ]
    },
    {
     "name": "stdout",
     "output_type": "stream",
     "text": [
      "\r98%"
     ]
    },
    {
     "name": "stdout",
     "output_type": "stream",
     "text": [
      "\r98%"
     ]
    },
    {
     "name": "stdout",
     "output_type": "stream",
     "text": [
      "\r98%"
     ]
    },
    {
     "name": "stdout",
     "output_type": "stream",
     "text": [
      "\r98%"
     ]
    },
    {
     "name": "stdout",
     "output_type": "stream",
     "text": [
      "\r99%"
     ]
    },
    {
     "name": "stdout",
     "output_type": "stream",
     "text": [
      "\r99%"
     ]
    },
    {
     "name": "stdout",
     "output_type": "stream",
     "text": [
      "\r99%"
     ]
    },
    {
     "name": "stdout",
     "output_type": "stream",
     "text": [
      "\r6 훈련 MSE: 0.027059395\n"
     ]
    },
    {
     "name": "stdout",
     "output_type": "stream",
     "text": [
      "\r0%"
     ]
    },
    {
     "name": "stdout",
     "output_type": "stream",
     "text": [
      "\r0%"
     ]
    },
    {
     "name": "stdout",
     "output_type": "stream",
     "text": [
      "\r0%"
     ]
    },
    {
     "name": "stdout",
     "output_type": "stream",
     "text": [
      "\r0%"
     ]
    },
    {
     "name": "stdout",
     "output_type": "stream",
     "text": [
      "\r1%"
     ]
    },
    {
     "name": "stdout",
     "output_type": "stream",
     "text": [
      "\r1%"
     ]
    },
    {
     "name": "stdout",
     "output_type": "stream",
     "text": [
      "\r1%"
     ]
    },
    {
     "name": "stdout",
     "output_type": "stream",
     "text": [
      "\r1%"
     ]
    },
    {
     "name": "stdout",
     "output_type": "stream",
     "text": [
      "\r2%"
     ]
    },
    {
     "name": "stdout",
     "output_type": "stream",
     "text": [
      "\r2%"
     ]
    },
    {
     "name": "stdout",
     "output_type": "stream",
     "text": [
      "\r2%"
     ]
    },
    {
     "name": "stdout",
     "output_type": "stream",
     "text": [
      "\r3%"
     ]
    },
    {
     "name": "stdout",
     "output_type": "stream",
     "text": [
      "\r3%"
     ]
    },
    {
     "name": "stdout",
     "output_type": "stream",
     "text": [
      "\r3%"
     ]
    },
    {
     "name": "stdout",
     "output_type": "stream",
     "text": [
      "\r3%"
     ]
    },
    {
     "name": "stdout",
     "output_type": "stream",
     "text": [
      "\r4%"
     ]
    },
    {
     "name": "stdout",
     "output_type": "stream",
     "text": [
      "\r4%"
     ]
    },
    {
     "name": "stdout",
     "output_type": "stream",
     "text": [
      "\r4%"
     ]
    },
    {
     "name": "stdout",
     "output_type": "stream",
     "text": [
      "\r4%"
     ]
    },
    {
     "name": "stdout",
     "output_type": "stream",
     "text": [
      "\r5%"
     ]
    },
    {
     "name": "stdout",
     "output_type": "stream",
     "text": [
      "\r5%"
     ]
    },
    {
     "name": "stdout",
     "output_type": "stream",
     "text": [
      "\r5%"
     ]
    },
    {
     "name": "stdout",
     "output_type": "stream",
     "text": [
      "\r6%"
     ]
    },
    {
     "name": "stdout",
     "output_type": "stream",
     "text": [
      "\r6%"
     ]
    },
    {
     "name": "stdout",
     "output_type": "stream",
     "text": [
      "\r6%"
     ]
    },
    {
     "name": "stdout",
     "output_type": "stream",
     "text": [
      "\r6%"
     ]
    },
    {
     "name": "stdout",
     "output_type": "stream",
     "text": [
      "\r7%"
     ]
    },
    {
     "name": "stdout",
     "output_type": "stream",
     "text": [
      "\r7%"
     ]
    },
    {
     "name": "stdout",
     "output_type": "stream",
     "text": [
      "\r7%"
     ]
    },
    {
     "name": "stdout",
     "output_type": "stream",
     "text": [
      "\r7%"
     ]
    },
    {
     "name": "stdout",
     "output_type": "stream",
     "text": [
      "\r8%"
     ]
    },
    {
     "name": "stdout",
     "output_type": "stream",
     "text": [
      "\r8%"
     ]
    },
    {
     "name": "stdout",
     "output_type": "stream",
     "text": [
      "\r8%"
     ]
    },
    {
     "name": "stdout",
     "output_type": "stream",
     "text": [
      "\r9%"
     ]
    },
    {
     "name": "stdout",
     "output_type": "stream",
     "text": [
      "\r9%"
     ]
    },
    {
     "name": "stdout",
     "output_type": "stream",
     "text": [
      "\r9%"
     ]
    },
    {
     "name": "stdout",
     "output_type": "stream",
     "text": [
      "\r9%"
     ]
    },
    {
     "name": "stdout",
     "output_type": "stream",
     "text": [
      "\r10%"
     ]
    },
    {
     "name": "stdout",
     "output_type": "stream",
     "text": [
      "\r10%"
     ]
    },
    {
     "name": "stdout",
     "output_type": "stream",
     "text": [
      "\r10%"
     ]
    },
    {
     "name": "stdout",
     "output_type": "stream",
     "text": [
      "\r10%"
     ]
    },
    {
     "name": "stdout",
     "output_type": "stream",
     "text": [
      "\r11%"
     ]
    },
    {
     "name": "stdout",
     "output_type": "stream",
     "text": [
      "\r11%"
     ]
    },
    {
     "name": "stdout",
     "output_type": "stream",
     "text": [
      "\r11%"
     ]
    },
    {
     "name": "stdout",
     "output_type": "stream",
     "text": [
      "\r12%"
     ]
    },
    {
     "name": "stdout",
     "output_type": "stream",
     "text": [
      "\r12%"
     ]
    },
    {
     "name": "stdout",
     "output_type": "stream",
     "text": [
      "\r12%"
     ]
    },
    {
     "name": "stdout",
     "output_type": "stream",
     "text": [
      "\r12%"
     ]
    },
    {
     "name": "stdout",
     "output_type": "stream",
     "text": [
      "\r13%"
     ]
    },
    {
     "name": "stdout",
     "output_type": "stream",
     "text": [
      "\r13%"
     ]
    },
    {
     "name": "stdout",
     "output_type": "stream",
     "text": [
      "\r13%"
     ]
    },
    {
     "name": "stdout",
     "output_type": "stream",
     "text": [
      "\r13%"
     ]
    },
    {
     "name": "stdout",
     "output_type": "stream",
     "text": [
      "\r14%"
     ]
    },
    {
     "name": "stdout",
     "output_type": "stream",
     "text": [
      "\r14%"
     ]
    },
    {
     "name": "stdout",
     "output_type": "stream",
     "text": [
      "\r14%"
     ]
    },
    {
     "name": "stdout",
     "output_type": "stream",
     "text": [
      "\r15%"
     ]
    },
    {
     "name": "stdout",
     "output_type": "stream",
     "text": [
      "\r15%"
     ]
    },
    {
     "name": "stdout",
     "output_type": "stream",
     "text": [
      "\r15%"
     ]
    },
    {
     "name": "stdout",
     "output_type": "stream",
     "text": [
      "\r15%"
     ]
    },
    {
     "name": "stdout",
     "output_type": "stream",
     "text": [
      "\r16%"
     ]
    },
    {
     "name": "stdout",
     "output_type": "stream",
     "text": [
      "\r16%"
     ]
    },
    {
     "name": "stdout",
     "output_type": "stream",
     "text": [
      "\r16%"
     ]
    },
    {
     "name": "stdout",
     "output_type": "stream",
     "text": [
      "\r16%"
     ]
    },
    {
     "name": "stdout",
     "output_type": "stream",
     "text": [
      "\r17%"
     ]
    },
    {
     "name": "stdout",
     "output_type": "stream",
     "text": [
      "\r17%"
     ]
    },
    {
     "name": "stdout",
     "output_type": "stream",
     "text": [
      "\r17%"
     ]
    },
    {
     "name": "stdout",
     "output_type": "stream",
     "text": [
      "\r18%"
     ]
    },
    {
     "name": "stdout",
     "output_type": "stream",
     "text": [
      "\r18%"
     ]
    },
    {
     "name": "stdout",
     "output_type": "stream",
     "text": [
      "\r18%"
     ]
    },
    {
     "name": "stdout",
     "output_type": "stream",
     "text": [
      "\r18%"
     ]
    },
    {
     "name": "stdout",
     "output_type": "stream",
     "text": [
      "\r19%"
     ]
    },
    {
     "name": "stdout",
     "output_type": "stream",
     "text": [
      "\r19%"
     ]
    },
    {
     "name": "stdout",
     "output_type": "stream",
     "text": [
      "\r19%"
     ]
    },
    {
     "name": "stdout",
     "output_type": "stream",
     "text": [
      "\r19%"
     ]
    },
    {
     "name": "stdout",
     "output_type": "stream",
     "text": [
      "\r20%"
     ]
    },
    {
     "name": "stdout",
     "output_type": "stream",
     "text": [
      "\r20%"
     ]
    },
    {
     "name": "stdout",
     "output_type": "stream",
     "text": [
      "\r20%"
     ]
    },
    {
     "name": "stdout",
     "output_type": "stream",
     "text": [
      "\r21%"
     ]
    },
    {
     "name": "stdout",
     "output_type": "stream",
     "text": [
      "\r21%"
     ]
    },
    {
     "name": "stdout",
     "output_type": "stream",
     "text": [
      "\r21%"
     ]
    },
    {
     "name": "stdout",
     "output_type": "stream",
     "text": [
      "\r21%"
     ]
    },
    {
     "name": "stdout",
     "output_type": "stream",
     "text": [
      "\r22%"
     ]
    },
    {
     "name": "stdout",
     "output_type": "stream",
     "text": [
      "\r22%"
     ]
    },
    {
     "name": "stdout",
     "output_type": "stream",
     "text": [
      "\r22%"
     ]
    },
    {
     "name": "stdout",
     "output_type": "stream",
     "text": [
      "\r22%"
     ]
    },
    {
     "name": "stdout",
     "output_type": "stream",
     "text": [
      "\r23%"
     ]
    },
    {
     "name": "stdout",
     "output_type": "stream",
     "text": [
      "\r23%"
     ]
    },
    {
     "name": "stdout",
     "output_type": "stream",
     "text": [
      "\r23%"
     ]
    },
    {
     "name": "stdout",
     "output_type": "stream",
     "text": [
      "\r24%"
     ]
    },
    {
     "name": "stdout",
     "output_type": "stream",
     "text": [
      "\r24%"
     ]
    },
    {
     "name": "stdout",
     "output_type": "stream",
     "text": [
      "\r24%"
     ]
    },
    {
     "name": "stdout",
     "output_type": "stream",
     "text": [
      "\r24%"
     ]
    },
    {
     "name": "stdout",
     "output_type": "stream",
     "text": [
      "\r25%"
     ]
    },
    {
     "name": "stdout",
     "output_type": "stream",
     "text": [
      "\r25%"
     ]
    },
    {
     "name": "stdout",
     "output_type": "stream",
     "text": [
      "\r25%"
     ]
    },
    {
     "name": "stdout",
     "output_type": "stream",
     "text": [
      "\r25%"
     ]
    },
    {
     "name": "stdout",
     "output_type": "stream",
     "text": [
      "\r26%"
     ]
    },
    {
     "name": "stdout",
     "output_type": "stream",
     "text": [
      "\r26%"
     ]
    },
    {
     "name": "stdout",
     "output_type": "stream",
     "text": [
      "\r26%"
     ]
    },
    {
     "name": "stdout",
     "output_type": "stream",
     "text": [
      "\r27%"
     ]
    },
    {
     "name": "stdout",
     "output_type": "stream",
     "text": [
      "\r27%"
     ]
    },
    {
     "name": "stdout",
     "output_type": "stream",
     "text": [
      "\r27%"
     ]
    },
    {
     "name": "stdout",
     "output_type": "stream",
     "text": [
      "\r27%"
     ]
    },
    {
     "name": "stdout",
     "output_type": "stream",
     "text": [
      "\r28%"
     ]
    },
    {
     "name": "stdout",
     "output_type": "stream",
     "text": [
      "\r28%"
     ]
    },
    {
     "name": "stdout",
     "output_type": "stream",
     "text": [
      "\r28%"
     ]
    },
    {
     "name": "stdout",
     "output_type": "stream",
     "text": [
      "\r28%"
     ]
    },
    {
     "name": "stdout",
     "output_type": "stream",
     "text": [
      "\r29%"
     ]
    },
    {
     "name": "stdout",
     "output_type": "stream",
     "text": [
      "\r29%"
     ]
    },
    {
     "name": "stdout",
     "output_type": "stream",
     "text": [
      "\r29%"
     ]
    },
    {
     "name": "stdout",
     "output_type": "stream",
     "text": [
      "\r30%"
     ]
    },
    {
     "name": "stdout",
     "output_type": "stream",
     "text": [
      "\r30%"
     ]
    },
    {
     "name": "stdout",
     "output_type": "stream",
     "text": [
      "\r30%"
     ]
    },
    {
     "name": "stdout",
     "output_type": "stream",
     "text": [
      "\r30%"
     ]
    },
    {
     "name": "stdout",
     "output_type": "stream",
     "text": [
      "\r31%"
     ]
    },
    {
     "name": "stdout",
     "output_type": "stream",
     "text": [
      "\r31%"
     ]
    },
    {
     "name": "stdout",
     "output_type": "stream",
     "text": [
      "\r31%"
     ]
    },
    {
     "name": "stdout",
     "output_type": "stream",
     "text": [
      "\r31%"
     ]
    },
    {
     "name": "stdout",
     "output_type": "stream",
     "text": [
      "\r32%"
     ]
    },
    {
     "name": "stdout",
     "output_type": "stream",
     "text": [
      "\r32%"
     ]
    },
    {
     "name": "stdout",
     "output_type": "stream",
     "text": [
      "\r32%"
     ]
    },
    {
     "name": "stdout",
     "output_type": "stream",
     "text": [
      "\r33%"
     ]
    },
    {
     "name": "stdout",
     "output_type": "stream",
     "text": [
      "\r33%"
     ]
    },
    {
     "name": "stdout",
     "output_type": "stream",
     "text": [
      "\r33%"
     ]
    },
    {
     "name": "stdout",
     "output_type": "stream",
     "text": [
      "\r33%"
     ]
    },
    {
     "name": "stdout",
     "output_type": "stream",
     "text": [
      "\r34%"
     ]
    },
    {
     "name": "stdout",
     "output_type": "stream",
     "text": [
      "\r34%"
     ]
    },
    {
     "name": "stdout",
     "output_type": "stream",
     "text": [
      "\r34%"
     ]
    },
    {
     "name": "stdout",
     "output_type": "stream",
     "text": [
      "\r34%"
     ]
    },
    {
     "name": "stdout",
     "output_type": "stream",
     "text": [
      "\r35%"
     ]
    },
    {
     "name": "stdout",
     "output_type": "stream",
     "text": [
      "\r35%"
     ]
    },
    {
     "name": "stdout",
     "output_type": "stream",
     "text": [
      "\r35%"
     ]
    },
    {
     "name": "stdout",
     "output_type": "stream",
     "text": [
      "\r36%"
     ]
    },
    {
     "name": "stdout",
     "output_type": "stream",
     "text": [
      "\r36%"
     ]
    },
    {
     "name": "stdout",
     "output_type": "stream",
     "text": [
      "\r36%"
     ]
    },
    {
     "name": "stdout",
     "output_type": "stream",
     "text": [
      "\r36%"
     ]
    },
    {
     "name": "stdout",
     "output_type": "stream",
     "text": [
      "\r37%"
     ]
    },
    {
     "name": "stdout",
     "output_type": "stream",
     "text": [
      "\r37%"
     ]
    },
    {
     "name": "stdout",
     "output_type": "stream",
     "text": [
      "\r37%"
     ]
    },
    {
     "name": "stdout",
     "output_type": "stream",
     "text": [
      "\r37%"
     ]
    },
    {
     "name": "stdout",
     "output_type": "stream",
     "text": [
      "\r38%"
     ]
    },
    {
     "name": "stdout",
     "output_type": "stream",
     "text": [
      "\r38%"
     ]
    },
    {
     "name": "stdout",
     "output_type": "stream",
     "text": [
      "\r38%"
     ]
    },
    {
     "name": "stdout",
     "output_type": "stream",
     "text": [
      "\r39%"
     ]
    },
    {
     "name": "stdout",
     "output_type": "stream",
     "text": [
      "\r39%"
     ]
    },
    {
     "name": "stdout",
     "output_type": "stream",
     "text": [
      "\r39%"
     ]
    },
    {
     "name": "stdout",
     "output_type": "stream",
     "text": [
      "\r39%"
     ]
    },
    {
     "name": "stdout",
     "output_type": "stream",
     "text": [
      "\r40%"
     ]
    },
    {
     "name": "stdout",
     "output_type": "stream",
     "text": [
      "\r40%"
     ]
    },
    {
     "name": "stdout",
     "output_type": "stream",
     "text": [
      "\r40%"
     ]
    },
    {
     "name": "stdout",
     "output_type": "stream",
     "text": [
      "\r40%"
     ]
    },
    {
     "name": "stdout",
     "output_type": "stream",
     "text": [
      "\r41%"
     ]
    },
    {
     "name": "stdout",
     "output_type": "stream",
     "text": [
      "\r41%"
     ]
    },
    {
     "name": "stdout",
     "output_type": "stream",
     "text": [
      "\r41%"
     ]
    },
    {
     "name": "stdout",
     "output_type": "stream",
     "text": [
      "\r42%"
     ]
    },
    {
     "name": "stdout",
     "output_type": "stream",
     "text": [
      "\r42%"
     ]
    },
    {
     "name": "stdout",
     "output_type": "stream",
     "text": [
      "\r42%"
     ]
    },
    {
     "name": "stdout",
     "output_type": "stream",
     "text": [
      "\r42%"
     ]
    },
    {
     "name": "stdout",
     "output_type": "stream",
     "text": [
      "\r43%"
     ]
    },
    {
     "name": "stdout",
     "output_type": "stream",
     "text": [
      "\r43%"
     ]
    },
    {
     "name": "stdout",
     "output_type": "stream",
     "text": [
      "\r43%"
     ]
    },
    {
     "name": "stdout",
     "output_type": "stream",
     "text": [
      "\r43%"
     ]
    },
    {
     "name": "stdout",
     "output_type": "stream",
     "text": [
      "\r44%"
     ]
    },
    {
     "name": "stdout",
     "output_type": "stream",
     "text": [
      "\r44%"
     ]
    },
    {
     "name": "stdout",
     "output_type": "stream",
     "text": [
      "\r44%"
     ]
    },
    {
     "name": "stdout",
     "output_type": "stream",
     "text": [
      "\r45%"
     ]
    },
    {
     "name": "stdout",
     "output_type": "stream",
     "text": [
      "\r45%"
     ]
    },
    {
     "name": "stdout",
     "output_type": "stream",
     "text": [
      "\r45%"
     ]
    },
    {
     "name": "stdout",
     "output_type": "stream",
     "text": [
      "\r45%"
     ]
    },
    {
     "name": "stdout",
     "output_type": "stream",
     "text": [
      "\r46%"
     ]
    },
    {
     "name": "stdout",
     "output_type": "stream",
     "text": [
      "\r46%"
     ]
    },
    {
     "name": "stdout",
     "output_type": "stream",
     "text": [
      "\r46%"
     ]
    },
    {
     "name": "stdout",
     "output_type": "stream",
     "text": [
      "\r46%"
     ]
    },
    {
     "name": "stdout",
     "output_type": "stream",
     "text": [
      "\r47%"
     ]
    },
    {
     "name": "stdout",
     "output_type": "stream",
     "text": [
      "\r47%"
     ]
    },
    {
     "name": "stdout",
     "output_type": "stream",
     "text": [
      "\r47%"
     ]
    },
    {
     "name": "stdout",
     "output_type": "stream",
     "text": [
      "\r48%"
     ]
    },
    {
     "name": "stdout",
     "output_type": "stream",
     "text": [
      "\r48%"
     ]
    },
    {
     "name": "stdout",
     "output_type": "stream",
     "text": [
      "\r48%"
     ]
    },
    {
     "name": "stdout",
     "output_type": "stream",
     "text": [
      "\r48%"
     ]
    },
    {
     "name": "stdout",
     "output_type": "stream",
     "text": [
      "\r49%"
     ]
    },
    {
     "name": "stdout",
     "output_type": "stream",
     "text": [
      "\r49%"
     ]
    },
    {
     "name": "stdout",
     "output_type": "stream",
     "text": [
      "\r49%"
     ]
    },
    {
     "name": "stdout",
     "output_type": "stream",
     "text": [
      "\r50%"
     ]
    },
    {
     "name": "stdout",
     "output_type": "stream",
     "text": [
      "\r50%"
     ]
    },
    {
     "name": "stdout",
     "output_type": "stream",
     "text": [
      "\r50%"
     ]
    },
    {
     "name": "stdout",
     "output_type": "stream",
     "text": [
      "\r50%"
     ]
    },
    {
     "name": "stdout",
     "output_type": "stream",
     "text": [
      "\r51%"
     ]
    },
    {
     "name": "stdout",
     "output_type": "stream",
     "text": [
      "\r51%"
     ]
    },
    {
     "name": "stdout",
     "output_type": "stream",
     "text": [
      "\r51%"
     ]
    },
    {
     "name": "stdout",
     "output_type": "stream",
     "text": [
      "\r51%"
     ]
    },
    {
     "name": "stdout",
     "output_type": "stream",
     "text": [
      "\r52%"
     ]
    },
    {
     "name": "stdout",
     "output_type": "stream",
     "text": [
      "\r52%"
     ]
    },
    {
     "name": "stdout",
     "output_type": "stream",
     "text": [
      "\r52%"
     ]
    },
    {
     "name": "stdout",
     "output_type": "stream",
     "text": [
      "\r53%"
     ]
    },
    {
     "name": "stdout",
     "output_type": "stream",
     "text": [
      "\r53%"
     ]
    },
    {
     "name": "stdout",
     "output_type": "stream",
     "text": [
      "\r53%"
     ]
    },
    {
     "name": "stdout",
     "output_type": "stream",
     "text": [
      "\r53%"
     ]
    },
    {
     "name": "stdout",
     "output_type": "stream",
     "text": [
      "\r54%"
     ]
    },
    {
     "name": "stdout",
     "output_type": "stream",
     "text": [
      "\r54%"
     ]
    },
    {
     "name": "stdout",
     "output_type": "stream",
     "text": [
      "\r54%"
     ]
    },
    {
     "name": "stdout",
     "output_type": "stream",
     "text": [
      "\r54%"
     ]
    },
    {
     "name": "stdout",
     "output_type": "stream",
     "text": [
      "\r55%"
     ]
    },
    {
     "name": "stdout",
     "output_type": "stream",
     "text": [
      "\r55%"
     ]
    },
    {
     "name": "stdout",
     "output_type": "stream",
     "text": [
      "\r55%"
     ]
    },
    {
     "name": "stdout",
     "output_type": "stream",
     "text": [
      "\r56%"
     ]
    },
    {
     "name": "stdout",
     "output_type": "stream",
     "text": [
      "\r56%"
     ]
    },
    {
     "name": "stdout",
     "output_type": "stream",
     "text": [
      "\r56%"
     ]
    },
    {
     "name": "stdout",
     "output_type": "stream",
     "text": [
      "\r56%"
     ]
    },
    {
     "name": "stdout",
     "output_type": "stream",
     "text": [
      "\r57%"
     ]
    },
    {
     "name": "stdout",
     "output_type": "stream",
     "text": [
      "\r57%"
     ]
    },
    {
     "name": "stdout",
     "output_type": "stream",
     "text": [
      "\r57%"
     ]
    },
    {
     "name": "stdout",
     "output_type": "stream",
     "text": [
      "\r57%"
     ]
    },
    {
     "name": "stdout",
     "output_type": "stream",
     "text": [
      "\r58%"
     ]
    },
    {
     "name": "stdout",
     "output_type": "stream",
     "text": [
      "\r58%"
     ]
    },
    {
     "name": "stdout",
     "output_type": "stream",
     "text": [
      "\r58%"
     ]
    },
    {
     "name": "stdout",
     "output_type": "stream",
     "text": [
      "\r59%"
     ]
    },
    {
     "name": "stdout",
     "output_type": "stream",
     "text": [
      "\r59%"
     ]
    },
    {
     "name": "stdout",
     "output_type": "stream",
     "text": [
      "\r59%"
     ]
    },
    {
     "name": "stdout",
     "output_type": "stream",
     "text": [
      "\r59%"
     ]
    },
    {
     "name": "stdout",
     "output_type": "stream",
     "text": [
      "\r60%"
     ]
    },
    {
     "name": "stdout",
     "output_type": "stream",
     "text": [
      "\r60%"
     ]
    },
    {
     "name": "stdout",
     "output_type": "stream",
     "text": [
      "\r60%"
     ]
    },
    {
     "name": "stdout",
     "output_type": "stream",
     "text": [
      "\r60%"
     ]
    },
    {
     "name": "stdout",
     "output_type": "stream",
     "text": [
      "\r61%"
     ]
    },
    {
     "name": "stdout",
     "output_type": "stream",
     "text": [
      "\r61%"
     ]
    },
    {
     "name": "stdout",
     "output_type": "stream",
     "text": [
      "\r61%"
     ]
    },
    {
     "name": "stdout",
     "output_type": "stream",
     "text": [
      "\r62%"
     ]
    },
    {
     "name": "stdout",
     "output_type": "stream",
     "text": [
      "\r62%"
     ]
    },
    {
     "name": "stdout",
     "output_type": "stream",
     "text": [
      "\r62%"
     ]
    },
    {
     "name": "stdout",
     "output_type": "stream",
     "text": [
      "\r62%"
     ]
    },
    {
     "name": "stdout",
     "output_type": "stream",
     "text": [
      "\r63%"
     ]
    },
    {
     "name": "stdout",
     "output_type": "stream",
     "text": [
      "\r63%"
     ]
    },
    {
     "name": "stdout",
     "output_type": "stream",
     "text": [
      "\r63%"
     ]
    },
    {
     "name": "stdout",
     "output_type": "stream",
     "text": [
      "\r63%"
     ]
    },
    {
     "name": "stdout",
     "output_type": "stream",
     "text": [
      "\r64%"
     ]
    },
    {
     "name": "stdout",
     "output_type": "stream",
     "text": [
      "\r64%"
     ]
    },
    {
     "name": "stdout",
     "output_type": "stream",
     "text": [
      "\r64%"
     ]
    },
    {
     "name": "stdout",
     "output_type": "stream",
     "text": [
      "\r65%"
     ]
    },
    {
     "name": "stdout",
     "output_type": "stream",
     "text": [
      "\r65%"
     ]
    },
    {
     "name": "stdout",
     "output_type": "stream",
     "text": [
      "\r65%"
     ]
    },
    {
     "name": "stdout",
     "output_type": "stream",
     "text": [
      "\r65%"
     ]
    },
    {
     "name": "stdout",
     "output_type": "stream",
     "text": [
      "\r66%"
     ]
    },
    {
     "name": "stdout",
     "output_type": "stream",
     "text": [
      "\r66%"
     ]
    },
    {
     "name": "stdout",
     "output_type": "stream",
     "text": [
      "\r66%"
     ]
    },
    {
     "name": "stdout",
     "output_type": "stream",
     "text": [
      "\r66%"
     ]
    },
    {
     "name": "stdout",
     "output_type": "stream",
     "text": [
      "\r67%"
     ]
    },
    {
     "name": "stdout",
     "output_type": "stream",
     "text": [
      "\r67%"
     ]
    },
    {
     "name": "stdout",
     "output_type": "stream",
     "text": [
      "\r67%"
     ]
    },
    {
     "name": "stdout",
     "output_type": "stream",
     "text": [
      "\r68%"
     ]
    },
    {
     "name": "stdout",
     "output_type": "stream",
     "text": [
      "\r68%"
     ]
    },
    {
     "name": "stdout",
     "output_type": "stream",
     "text": [
      "\r68%"
     ]
    },
    {
     "name": "stdout",
     "output_type": "stream",
     "text": [
      "\r68%"
     ]
    },
    {
     "name": "stdout",
     "output_type": "stream",
     "text": [
      "\r69%"
     ]
    },
    {
     "name": "stdout",
     "output_type": "stream",
     "text": [
      "\r69%"
     ]
    },
    {
     "name": "stdout",
     "output_type": "stream",
     "text": [
      "\r69%"
     ]
    },
    {
     "name": "stdout",
     "output_type": "stream",
     "text": [
      "\r69%"
     ]
    },
    {
     "name": "stdout",
     "output_type": "stream",
     "text": [
      "\r70%"
     ]
    },
    {
     "name": "stdout",
     "output_type": "stream",
     "text": [
      "\r70%"
     ]
    },
    {
     "name": "stdout",
     "output_type": "stream",
     "text": [
      "\r70%"
     ]
    },
    {
     "name": "stdout",
     "output_type": "stream",
     "text": [
      "\r71%"
     ]
    },
    {
     "name": "stdout",
     "output_type": "stream",
     "text": [
      "\r71%"
     ]
    },
    {
     "name": "stdout",
     "output_type": "stream",
     "text": [
      "\r71%"
     ]
    },
    {
     "name": "stdout",
     "output_type": "stream",
     "text": [
      "\r71%"
     ]
    },
    {
     "name": "stdout",
     "output_type": "stream",
     "text": [
      "\r72%"
     ]
    },
    {
     "name": "stdout",
     "output_type": "stream",
     "text": [
      "\r72%"
     ]
    },
    {
     "name": "stdout",
     "output_type": "stream",
     "text": [
      "\r72%"
     ]
    },
    {
     "name": "stdout",
     "output_type": "stream",
     "text": [
      "\r72%"
     ]
    },
    {
     "name": "stdout",
     "output_type": "stream",
     "text": [
      "\r73%"
     ]
    },
    {
     "name": "stdout",
     "output_type": "stream",
     "text": [
      "\r73%"
     ]
    },
    {
     "name": "stdout",
     "output_type": "stream",
     "text": [
      "\r73%"
     ]
    },
    {
     "name": "stdout",
     "output_type": "stream",
     "text": [
      "\r74%"
     ]
    },
    {
     "name": "stdout",
     "output_type": "stream",
     "text": [
      "\r74%"
     ]
    },
    {
     "name": "stdout",
     "output_type": "stream",
     "text": [
      "\r74%"
     ]
    },
    {
     "name": "stdout",
     "output_type": "stream",
     "text": [
      "\r74%"
     ]
    },
    {
     "name": "stdout",
     "output_type": "stream",
     "text": [
      "\r75%"
     ]
    },
    {
     "name": "stdout",
     "output_type": "stream",
     "text": [
      "\r75%"
     ]
    },
    {
     "name": "stdout",
     "output_type": "stream",
     "text": [
      "\r75%"
     ]
    },
    {
     "name": "stdout",
     "output_type": "stream",
     "text": [
      "\r75%"
     ]
    },
    {
     "name": "stdout",
     "output_type": "stream",
     "text": [
      "\r76%"
     ]
    },
    {
     "name": "stdout",
     "output_type": "stream",
     "text": [
      "\r76%"
     ]
    },
    {
     "name": "stdout",
     "output_type": "stream",
     "text": [
      "\r76%"
     ]
    },
    {
     "name": "stdout",
     "output_type": "stream",
     "text": [
      "\r77%"
     ]
    },
    {
     "name": "stdout",
     "output_type": "stream",
     "text": [
      "\r77%"
     ]
    },
    {
     "name": "stdout",
     "output_type": "stream",
     "text": [
      "\r77%"
     ]
    },
    {
     "name": "stdout",
     "output_type": "stream",
     "text": [
      "\r77%"
     ]
    },
    {
     "name": "stdout",
     "output_type": "stream",
     "text": [
      "\r78%"
     ]
    },
    {
     "name": "stdout",
     "output_type": "stream",
     "text": [
      "\r78%"
     ]
    },
    {
     "name": "stdout",
     "output_type": "stream",
     "text": [
      "\r78%"
     ]
    },
    {
     "name": "stdout",
     "output_type": "stream",
     "text": [
      "\r78%"
     ]
    },
    {
     "name": "stdout",
     "output_type": "stream",
     "text": [
      "\r79%"
     ]
    },
    {
     "name": "stdout",
     "output_type": "stream",
     "text": [
      "\r79%"
     ]
    },
    {
     "name": "stdout",
     "output_type": "stream",
     "text": [
      "\r79%"
     ]
    },
    {
     "name": "stdout",
     "output_type": "stream",
     "text": [
      "\r80%"
     ]
    },
    {
     "name": "stdout",
     "output_type": "stream",
     "text": [
      "\r80%"
     ]
    },
    {
     "name": "stdout",
     "output_type": "stream",
     "text": [
      "\r80%"
     ]
    },
    {
     "name": "stdout",
     "output_type": "stream",
     "text": [
      "\r80%"
     ]
    },
    {
     "name": "stdout",
     "output_type": "stream",
     "text": [
      "\r81%"
     ]
    },
    {
     "name": "stdout",
     "output_type": "stream",
     "text": [
      "\r81%"
     ]
    },
    {
     "name": "stdout",
     "output_type": "stream",
     "text": [
      "\r81%"
     ]
    },
    {
     "name": "stdout",
     "output_type": "stream",
     "text": [
      "\r81%"
     ]
    },
    {
     "name": "stdout",
     "output_type": "stream",
     "text": [
      "\r82%"
     ]
    },
    {
     "name": "stdout",
     "output_type": "stream",
     "text": [
      "\r82%"
     ]
    },
    {
     "name": "stdout",
     "output_type": "stream",
     "text": [
      "\r82%"
     ]
    },
    {
     "name": "stdout",
     "output_type": "stream",
     "text": [
      "\r83%"
     ]
    },
    {
     "name": "stdout",
     "output_type": "stream",
     "text": [
      "\r83%"
     ]
    },
    {
     "name": "stdout",
     "output_type": "stream",
     "text": [
      "\r83%"
     ]
    },
    {
     "name": "stdout",
     "output_type": "stream",
     "text": [
      "\r83%"
     ]
    },
    {
     "name": "stdout",
     "output_type": "stream",
     "text": [
      "\r84%"
     ]
    },
    {
     "name": "stdout",
     "output_type": "stream",
     "text": [
      "\r84%"
     ]
    },
    {
     "name": "stdout",
     "output_type": "stream",
     "text": [
      "\r84%"
     ]
    },
    {
     "name": "stdout",
     "output_type": "stream",
     "text": [
      "\r84%"
     ]
    },
    {
     "name": "stdout",
     "output_type": "stream",
     "text": [
      "\r85%"
     ]
    },
    {
     "name": "stdout",
     "output_type": "stream",
     "text": [
      "\r85%"
     ]
    },
    {
     "name": "stdout",
     "output_type": "stream",
     "text": [
      "\r85%"
     ]
    },
    {
     "name": "stdout",
     "output_type": "stream",
     "text": [
      "\r86%"
     ]
    },
    {
     "name": "stdout",
     "output_type": "stream",
     "text": [
      "\r86%"
     ]
    },
    {
     "name": "stdout",
     "output_type": "stream",
     "text": [
      "\r86%"
     ]
    },
    {
     "name": "stdout",
     "output_type": "stream",
     "text": [
      "\r86%"
     ]
    },
    {
     "name": "stdout",
     "output_type": "stream",
     "text": [
      "\r87%"
     ]
    },
    {
     "name": "stdout",
     "output_type": "stream",
     "text": [
      "\r87%"
     ]
    },
    {
     "name": "stdout",
     "output_type": "stream",
     "text": [
      "\r87%"
     ]
    },
    {
     "name": "stdout",
     "output_type": "stream",
     "text": [
      "\r87%"
     ]
    },
    {
     "name": "stdout",
     "output_type": "stream",
     "text": [
      "\r88%"
     ]
    },
    {
     "name": "stdout",
     "output_type": "stream",
     "text": [
      "\r88%"
     ]
    },
    {
     "name": "stdout",
     "output_type": "stream",
     "text": [
      "\r88%"
     ]
    },
    {
     "name": "stdout",
     "output_type": "stream",
     "text": [
      "\r89%"
     ]
    },
    {
     "name": "stdout",
     "output_type": "stream",
     "text": [
      "\r89%"
     ]
    },
    {
     "name": "stdout",
     "output_type": "stream",
     "text": [
      "\r89%"
     ]
    },
    {
     "name": "stdout",
     "output_type": "stream",
     "text": [
      "\r89%"
     ]
    },
    {
     "name": "stdout",
     "output_type": "stream",
     "text": [
      "\r90%"
     ]
    },
    {
     "name": "stdout",
     "output_type": "stream",
     "text": [
      "\r90%"
     ]
    },
    {
     "name": "stdout",
     "output_type": "stream",
     "text": [
      "\r90%"
     ]
    },
    {
     "name": "stdout",
     "output_type": "stream",
     "text": [
      "\r90%"
     ]
    },
    {
     "name": "stdout",
     "output_type": "stream",
     "text": [
      "\r91%"
     ]
    },
    {
     "name": "stdout",
     "output_type": "stream",
     "text": [
      "\r91%"
     ]
    },
    {
     "name": "stdout",
     "output_type": "stream",
     "text": [
      "\r91%"
     ]
    },
    {
     "name": "stdout",
     "output_type": "stream",
     "text": [
      "\r92%"
     ]
    },
    {
     "name": "stdout",
     "output_type": "stream",
     "text": [
      "\r92%"
     ]
    },
    {
     "name": "stdout",
     "output_type": "stream",
     "text": [
      "\r92%"
     ]
    },
    {
     "name": "stdout",
     "output_type": "stream",
     "text": [
      "\r92%"
     ]
    },
    {
     "name": "stdout",
     "output_type": "stream",
     "text": [
      "\r93%"
     ]
    },
    {
     "name": "stdout",
     "output_type": "stream",
     "text": [
      "\r93%"
     ]
    },
    {
     "name": "stdout",
     "output_type": "stream",
     "text": [
      "\r93%"
     ]
    },
    {
     "name": "stdout",
     "output_type": "stream",
     "text": [
      "\r93%"
     ]
    },
    {
     "name": "stdout",
     "output_type": "stream",
     "text": [
      "\r94%"
     ]
    },
    {
     "name": "stdout",
     "output_type": "stream",
     "text": [
      "\r94%"
     ]
    },
    {
     "name": "stdout",
     "output_type": "stream",
     "text": [
      "\r94%"
     ]
    },
    {
     "name": "stdout",
     "output_type": "stream",
     "text": [
      "\r95%"
     ]
    },
    {
     "name": "stdout",
     "output_type": "stream",
     "text": [
      "\r95%"
     ]
    },
    {
     "name": "stdout",
     "output_type": "stream",
     "text": [
      "\r95%"
     ]
    },
    {
     "name": "stdout",
     "output_type": "stream",
     "text": [
      "\r95%"
     ]
    },
    {
     "name": "stdout",
     "output_type": "stream",
     "text": [
      "\r96%"
     ]
    },
    {
     "name": "stdout",
     "output_type": "stream",
     "text": [
      "\r96%"
     ]
    },
    {
     "name": "stdout",
     "output_type": "stream",
     "text": [
      "\r96%"
     ]
    },
    {
     "name": "stdout",
     "output_type": "stream",
     "text": [
      "\r96%"
     ]
    },
    {
     "name": "stdout",
     "output_type": "stream",
     "text": [
      "\r97%"
     ]
    },
    {
     "name": "stdout",
     "output_type": "stream",
     "text": [
      "\r97%"
     ]
    },
    {
     "name": "stdout",
     "output_type": "stream",
     "text": [
      "\r97%"
     ]
    },
    {
     "name": "stdout",
     "output_type": "stream",
     "text": [
      "\r98%"
     ]
    },
    {
     "name": "stdout",
     "output_type": "stream",
     "text": [
      "\r98%"
     ]
    },
    {
     "name": "stdout",
     "output_type": "stream",
     "text": [
      "\r98%"
     ]
    },
    {
     "name": "stdout",
     "output_type": "stream",
     "text": [
      "\r98%"
     ]
    },
    {
     "name": "stdout",
     "output_type": "stream",
     "text": [
      "\r99%"
     ]
    },
    {
     "name": "stdout",
     "output_type": "stream",
     "text": [
      "\r99%"
     ]
    },
    {
     "name": "stdout",
     "output_type": "stream",
     "text": [
      "\r99%"
     ]
    },
    {
     "name": "stdout",
     "output_type": "stream",
     "text": [
      "\r7 훈련 MSE: 0.025359934\n"
     ]
    },
    {
     "name": "stdout",
     "output_type": "stream",
     "text": [
      "\r0%"
     ]
    },
    {
     "name": "stdout",
     "output_type": "stream",
     "text": [
      "\r0%"
     ]
    },
    {
     "name": "stdout",
     "output_type": "stream",
     "text": [
      "\r0%"
     ]
    },
    {
     "name": "stdout",
     "output_type": "stream",
     "text": [
      "\r0%"
     ]
    },
    {
     "name": "stdout",
     "output_type": "stream",
     "text": [
      "\r1%"
     ]
    },
    {
     "name": "stdout",
     "output_type": "stream",
     "text": [
      "\r1%"
     ]
    },
    {
     "name": "stdout",
     "output_type": "stream",
     "text": [
      "\r1%"
     ]
    },
    {
     "name": "stdout",
     "output_type": "stream",
     "text": [
      "\r1%"
     ]
    },
    {
     "name": "stdout",
     "output_type": "stream",
     "text": [
      "\r2%"
     ]
    },
    {
     "name": "stdout",
     "output_type": "stream",
     "text": [
      "\r2%"
     ]
    },
    {
     "name": "stdout",
     "output_type": "stream",
     "text": [
      "\r2%"
     ]
    },
    {
     "name": "stdout",
     "output_type": "stream",
     "text": [
      "\r3%"
     ]
    },
    {
     "name": "stdout",
     "output_type": "stream",
     "text": [
      "\r3%"
     ]
    },
    {
     "name": "stdout",
     "output_type": "stream",
     "text": [
      "\r3%"
     ]
    },
    {
     "name": "stdout",
     "output_type": "stream",
     "text": [
      "\r3%"
     ]
    },
    {
     "name": "stdout",
     "output_type": "stream",
     "text": [
      "\r4%"
     ]
    },
    {
     "name": "stdout",
     "output_type": "stream",
     "text": [
      "\r4%"
     ]
    },
    {
     "name": "stdout",
     "output_type": "stream",
     "text": [
      "\r4%"
     ]
    },
    {
     "name": "stdout",
     "output_type": "stream",
     "text": [
      "\r4%"
     ]
    },
    {
     "name": "stdout",
     "output_type": "stream",
     "text": [
      "\r5%"
     ]
    },
    {
     "name": "stdout",
     "output_type": "stream",
     "text": [
      "\r5%"
     ]
    },
    {
     "name": "stdout",
     "output_type": "stream",
     "text": [
      "\r5%"
     ]
    },
    {
     "name": "stdout",
     "output_type": "stream",
     "text": [
      "\r6%"
     ]
    },
    {
     "name": "stdout",
     "output_type": "stream",
     "text": [
      "\r6%"
     ]
    },
    {
     "name": "stdout",
     "output_type": "stream",
     "text": [
      "\r6%"
     ]
    },
    {
     "name": "stdout",
     "output_type": "stream",
     "text": [
      "\r6%"
     ]
    },
    {
     "name": "stdout",
     "output_type": "stream",
     "text": [
      "\r7%"
     ]
    },
    {
     "name": "stdout",
     "output_type": "stream",
     "text": [
      "\r7%"
     ]
    },
    {
     "name": "stdout",
     "output_type": "stream",
     "text": [
      "\r7%"
     ]
    },
    {
     "name": "stdout",
     "output_type": "stream",
     "text": [
      "\r7%"
     ]
    },
    {
     "name": "stdout",
     "output_type": "stream",
     "text": [
      "\r8%"
     ]
    },
    {
     "name": "stdout",
     "output_type": "stream",
     "text": [
      "\r8%"
     ]
    },
    {
     "name": "stdout",
     "output_type": "stream",
     "text": [
      "\r8%"
     ]
    },
    {
     "name": "stdout",
     "output_type": "stream",
     "text": [
      "\r9%"
     ]
    },
    {
     "name": "stdout",
     "output_type": "stream",
     "text": [
      "\r9%"
     ]
    },
    {
     "name": "stdout",
     "output_type": "stream",
     "text": [
      "\r9%"
     ]
    },
    {
     "name": "stdout",
     "output_type": "stream",
     "text": [
      "\r9%"
     ]
    },
    {
     "name": "stdout",
     "output_type": "stream",
     "text": [
      "\r10%"
     ]
    },
    {
     "name": "stdout",
     "output_type": "stream",
     "text": [
      "\r10%"
     ]
    },
    {
     "name": "stdout",
     "output_type": "stream",
     "text": [
      "\r10%"
     ]
    },
    {
     "name": "stdout",
     "output_type": "stream",
     "text": [
      "\r10%"
     ]
    },
    {
     "name": "stdout",
     "output_type": "stream",
     "text": [
      "\r11%"
     ]
    },
    {
     "name": "stdout",
     "output_type": "stream",
     "text": [
      "\r11%"
     ]
    },
    {
     "name": "stdout",
     "output_type": "stream",
     "text": [
      "\r11%"
     ]
    },
    {
     "name": "stdout",
     "output_type": "stream",
     "text": [
      "\r12%"
     ]
    },
    {
     "name": "stdout",
     "output_type": "stream",
     "text": [
      "\r12%"
     ]
    },
    {
     "name": "stdout",
     "output_type": "stream",
     "text": [
      "\r12%"
     ]
    },
    {
     "name": "stdout",
     "output_type": "stream",
     "text": [
      "\r12%"
     ]
    },
    {
     "name": "stdout",
     "output_type": "stream",
     "text": [
      "\r13%"
     ]
    },
    {
     "name": "stdout",
     "output_type": "stream",
     "text": [
      "\r13%"
     ]
    },
    {
     "name": "stdout",
     "output_type": "stream",
     "text": [
      "\r13%"
     ]
    },
    {
     "name": "stdout",
     "output_type": "stream",
     "text": [
      "\r13%"
     ]
    },
    {
     "name": "stdout",
     "output_type": "stream",
     "text": [
      "\r14%"
     ]
    },
    {
     "name": "stdout",
     "output_type": "stream",
     "text": [
      "\r14%"
     ]
    },
    {
     "name": "stdout",
     "output_type": "stream",
     "text": [
      "\r14%"
     ]
    },
    {
     "name": "stdout",
     "output_type": "stream",
     "text": [
      "\r15%"
     ]
    },
    {
     "name": "stdout",
     "output_type": "stream",
     "text": [
      "\r15%"
     ]
    },
    {
     "name": "stdout",
     "output_type": "stream",
     "text": [
      "\r15%"
     ]
    },
    {
     "name": "stdout",
     "output_type": "stream",
     "text": [
      "\r15%"
     ]
    },
    {
     "name": "stdout",
     "output_type": "stream",
     "text": [
      "\r16%"
     ]
    },
    {
     "name": "stdout",
     "output_type": "stream",
     "text": [
      "\r16%"
     ]
    },
    {
     "name": "stdout",
     "output_type": "stream",
     "text": [
      "\r16%"
     ]
    },
    {
     "name": "stdout",
     "output_type": "stream",
     "text": [
      "\r16%"
     ]
    },
    {
     "name": "stdout",
     "output_type": "stream",
     "text": [
      "\r17%"
     ]
    },
    {
     "name": "stdout",
     "output_type": "stream",
     "text": [
      "\r17%"
     ]
    },
    {
     "name": "stdout",
     "output_type": "stream",
     "text": [
      "\r17%"
     ]
    },
    {
     "name": "stdout",
     "output_type": "stream",
     "text": [
      "\r18%"
     ]
    },
    {
     "name": "stdout",
     "output_type": "stream",
     "text": [
      "\r18%"
     ]
    },
    {
     "name": "stdout",
     "output_type": "stream",
     "text": [
      "\r18%"
     ]
    },
    {
     "name": "stdout",
     "output_type": "stream",
     "text": [
      "\r18%"
     ]
    },
    {
     "name": "stdout",
     "output_type": "stream",
     "text": [
      "\r19%"
     ]
    },
    {
     "name": "stdout",
     "output_type": "stream",
     "text": [
      "\r19%"
     ]
    },
    {
     "name": "stdout",
     "output_type": "stream",
     "text": [
      "\r19%"
     ]
    },
    {
     "name": "stdout",
     "output_type": "stream",
     "text": [
      "\r19%"
     ]
    },
    {
     "name": "stdout",
     "output_type": "stream",
     "text": [
      "\r20%"
     ]
    },
    {
     "name": "stdout",
     "output_type": "stream",
     "text": [
      "\r20%"
     ]
    },
    {
     "name": "stdout",
     "output_type": "stream",
     "text": [
      "\r20%"
     ]
    },
    {
     "name": "stdout",
     "output_type": "stream",
     "text": [
      "\r21%"
     ]
    },
    {
     "name": "stdout",
     "output_type": "stream",
     "text": [
      "\r21%"
     ]
    },
    {
     "name": "stdout",
     "output_type": "stream",
     "text": [
      "\r21%"
     ]
    },
    {
     "name": "stdout",
     "output_type": "stream",
     "text": [
      "\r21%"
     ]
    },
    {
     "name": "stdout",
     "output_type": "stream",
     "text": [
      "\r22%"
     ]
    },
    {
     "name": "stdout",
     "output_type": "stream",
     "text": [
      "\r22%"
     ]
    },
    {
     "name": "stdout",
     "output_type": "stream",
     "text": [
      "\r22%"
     ]
    },
    {
     "name": "stdout",
     "output_type": "stream",
     "text": [
      "\r22%"
     ]
    },
    {
     "name": "stdout",
     "output_type": "stream",
     "text": [
      "\r23%"
     ]
    },
    {
     "name": "stdout",
     "output_type": "stream",
     "text": [
      "\r23%"
     ]
    },
    {
     "name": "stdout",
     "output_type": "stream",
     "text": [
      "\r23%"
     ]
    },
    {
     "name": "stdout",
     "output_type": "stream",
     "text": [
      "\r24%"
     ]
    },
    {
     "name": "stdout",
     "output_type": "stream",
     "text": [
      "\r24%"
     ]
    },
    {
     "name": "stdout",
     "output_type": "stream",
     "text": [
      "\r24%"
     ]
    },
    {
     "name": "stdout",
     "output_type": "stream",
     "text": [
      "\r24%"
     ]
    },
    {
     "name": "stdout",
     "output_type": "stream",
     "text": [
      "\r25%"
     ]
    },
    {
     "name": "stdout",
     "output_type": "stream",
     "text": [
      "\r25%"
     ]
    },
    {
     "name": "stdout",
     "output_type": "stream",
     "text": [
      "\r25%"
     ]
    },
    {
     "name": "stdout",
     "output_type": "stream",
     "text": [
      "\r25%"
     ]
    },
    {
     "name": "stdout",
     "output_type": "stream",
     "text": [
      "\r26%"
     ]
    },
    {
     "name": "stdout",
     "output_type": "stream",
     "text": [
      "\r26%"
     ]
    },
    {
     "name": "stdout",
     "output_type": "stream",
     "text": [
      "\r26%"
     ]
    },
    {
     "name": "stdout",
     "output_type": "stream",
     "text": [
      "\r27%"
     ]
    },
    {
     "name": "stdout",
     "output_type": "stream",
     "text": [
      "\r27%"
     ]
    },
    {
     "name": "stdout",
     "output_type": "stream",
     "text": [
      "\r27%"
     ]
    },
    {
     "name": "stdout",
     "output_type": "stream",
     "text": [
      "\r27%"
     ]
    },
    {
     "name": "stdout",
     "output_type": "stream",
     "text": [
      "\r28%"
     ]
    },
    {
     "name": "stdout",
     "output_type": "stream",
     "text": [
      "\r28%"
     ]
    },
    {
     "name": "stdout",
     "output_type": "stream",
     "text": [
      "\r28%"
     ]
    },
    {
     "name": "stdout",
     "output_type": "stream",
     "text": [
      "\r28%"
     ]
    },
    {
     "name": "stdout",
     "output_type": "stream",
     "text": [
      "\r29%"
     ]
    },
    {
     "name": "stdout",
     "output_type": "stream",
     "text": [
      "\r29%"
     ]
    },
    {
     "name": "stdout",
     "output_type": "stream",
     "text": [
      "\r29%"
     ]
    },
    {
     "name": "stdout",
     "output_type": "stream",
     "text": [
      "\r30%"
     ]
    },
    {
     "name": "stdout",
     "output_type": "stream",
     "text": [
      "\r30%"
     ]
    },
    {
     "name": "stdout",
     "output_type": "stream",
     "text": [
      "\r30%"
     ]
    },
    {
     "name": "stdout",
     "output_type": "stream",
     "text": [
      "\r30%"
     ]
    },
    {
     "name": "stdout",
     "output_type": "stream",
     "text": [
      "\r31%"
     ]
    },
    {
     "name": "stdout",
     "output_type": "stream",
     "text": [
      "\r31%"
     ]
    },
    {
     "name": "stdout",
     "output_type": "stream",
     "text": [
      "\r31%"
     ]
    },
    {
     "name": "stdout",
     "output_type": "stream",
     "text": [
      "\r31%"
     ]
    },
    {
     "name": "stdout",
     "output_type": "stream",
     "text": [
      "\r32%"
     ]
    },
    {
     "name": "stdout",
     "output_type": "stream",
     "text": [
      "\r32%"
     ]
    },
    {
     "name": "stdout",
     "output_type": "stream",
     "text": [
      "\r32%"
     ]
    },
    {
     "name": "stdout",
     "output_type": "stream",
     "text": [
      "\r33%"
     ]
    },
    {
     "name": "stdout",
     "output_type": "stream",
     "text": [
      "\r33%"
     ]
    },
    {
     "name": "stdout",
     "output_type": "stream",
     "text": [
      "\r33%"
     ]
    },
    {
     "name": "stdout",
     "output_type": "stream",
     "text": [
      "\r33%"
     ]
    },
    {
     "name": "stdout",
     "output_type": "stream",
     "text": [
      "\r34%"
     ]
    },
    {
     "name": "stdout",
     "output_type": "stream",
     "text": [
      "\r34%"
     ]
    },
    {
     "name": "stdout",
     "output_type": "stream",
     "text": [
      "\r34%"
     ]
    },
    {
     "name": "stdout",
     "output_type": "stream",
     "text": [
      "\r34%"
     ]
    },
    {
     "name": "stdout",
     "output_type": "stream",
     "text": [
      "\r35%"
     ]
    },
    {
     "name": "stdout",
     "output_type": "stream",
     "text": [
      "\r35%"
     ]
    },
    {
     "name": "stdout",
     "output_type": "stream",
     "text": [
      "\r35%"
     ]
    },
    {
     "name": "stdout",
     "output_type": "stream",
     "text": [
      "\r36%"
     ]
    },
    {
     "name": "stdout",
     "output_type": "stream",
     "text": [
      "\r36%"
     ]
    },
    {
     "name": "stdout",
     "output_type": "stream",
     "text": [
      "\r36%"
     ]
    },
    {
     "name": "stdout",
     "output_type": "stream",
     "text": [
      "\r36%"
     ]
    },
    {
     "name": "stdout",
     "output_type": "stream",
     "text": [
      "\r37%"
     ]
    },
    {
     "name": "stdout",
     "output_type": "stream",
     "text": [
      "\r37%"
     ]
    },
    {
     "name": "stdout",
     "output_type": "stream",
     "text": [
      "\r37%"
     ]
    },
    {
     "name": "stdout",
     "output_type": "stream",
     "text": [
      "\r37%"
     ]
    },
    {
     "name": "stdout",
     "output_type": "stream",
     "text": [
      "\r38%"
     ]
    },
    {
     "name": "stdout",
     "output_type": "stream",
     "text": [
      "\r38%"
     ]
    },
    {
     "name": "stdout",
     "output_type": "stream",
     "text": [
      "\r38%"
     ]
    },
    {
     "name": "stdout",
     "output_type": "stream",
     "text": [
      "\r39%"
     ]
    },
    {
     "name": "stdout",
     "output_type": "stream",
     "text": [
      "\r39%"
     ]
    },
    {
     "name": "stdout",
     "output_type": "stream",
     "text": [
      "\r39%"
     ]
    },
    {
     "name": "stdout",
     "output_type": "stream",
     "text": [
      "\r39%"
     ]
    },
    {
     "name": "stdout",
     "output_type": "stream",
     "text": [
      "\r40%"
     ]
    },
    {
     "name": "stdout",
     "output_type": "stream",
     "text": [
      "\r40%"
     ]
    },
    {
     "name": "stdout",
     "output_type": "stream",
     "text": [
      "\r40%"
     ]
    },
    {
     "name": "stdout",
     "output_type": "stream",
     "text": [
      "\r40%"
     ]
    },
    {
     "name": "stdout",
     "output_type": "stream",
     "text": [
      "\r41%"
     ]
    },
    {
     "name": "stdout",
     "output_type": "stream",
     "text": [
      "\r41%"
     ]
    },
    {
     "name": "stdout",
     "output_type": "stream",
     "text": [
      "\r41%"
     ]
    },
    {
     "name": "stdout",
     "output_type": "stream",
     "text": [
      "\r42%"
     ]
    },
    {
     "name": "stdout",
     "output_type": "stream",
     "text": [
      "\r42%"
     ]
    },
    {
     "name": "stdout",
     "output_type": "stream",
     "text": [
      "\r42%"
     ]
    },
    {
     "name": "stdout",
     "output_type": "stream",
     "text": [
      "\r42%"
     ]
    },
    {
     "name": "stdout",
     "output_type": "stream",
     "text": [
      "\r43%"
     ]
    },
    {
     "name": "stdout",
     "output_type": "stream",
     "text": [
      "\r43%"
     ]
    },
    {
     "name": "stdout",
     "output_type": "stream",
     "text": [
      "\r43%"
     ]
    },
    {
     "name": "stdout",
     "output_type": "stream",
     "text": [
      "\r43%"
     ]
    },
    {
     "name": "stdout",
     "output_type": "stream",
     "text": [
      "\r44%"
     ]
    },
    {
     "name": "stdout",
     "output_type": "stream",
     "text": [
      "\r44%"
     ]
    },
    {
     "name": "stdout",
     "output_type": "stream",
     "text": [
      "\r44%"
     ]
    },
    {
     "name": "stdout",
     "output_type": "stream",
     "text": [
      "\r45%"
     ]
    },
    {
     "name": "stdout",
     "output_type": "stream",
     "text": [
      "\r45%"
     ]
    },
    {
     "name": "stdout",
     "output_type": "stream",
     "text": [
      "\r45%"
     ]
    },
    {
     "name": "stdout",
     "output_type": "stream",
     "text": [
      "\r45%"
     ]
    },
    {
     "name": "stdout",
     "output_type": "stream",
     "text": [
      "\r46%"
     ]
    },
    {
     "name": "stdout",
     "output_type": "stream",
     "text": [
      "\r46%"
     ]
    },
    {
     "name": "stdout",
     "output_type": "stream",
     "text": [
      "\r46%"
     ]
    },
    {
     "name": "stdout",
     "output_type": "stream",
     "text": [
      "\r46%"
     ]
    },
    {
     "name": "stdout",
     "output_type": "stream",
     "text": [
      "\r47%"
     ]
    },
    {
     "name": "stdout",
     "output_type": "stream",
     "text": [
      "\r47%"
     ]
    },
    {
     "name": "stdout",
     "output_type": "stream",
     "text": [
      "\r47%"
     ]
    },
    {
     "name": "stdout",
     "output_type": "stream",
     "text": [
      "\r48%"
     ]
    },
    {
     "name": "stdout",
     "output_type": "stream",
     "text": [
      "\r48%"
     ]
    },
    {
     "name": "stdout",
     "output_type": "stream",
     "text": [
      "\r48%"
     ]
    },
    {
     "name": "stdout",
     "output_type": "stream",
     "text": [
      "\r48%"
     ]
    },
    {
     "name": "stdout",
     "output_type": "stream",
     "text": [
      "\r49%"
     ]
    },
    {
     "name": "stdout",
     "output_type": "stream",
     "text": [
      "\r49%"
     ]
    },
    {
     "name": "stdout",
     "output_type": "stream",
     "text": [
      "\r49%"
     ]
    },
    {
     "name": "stdout",
     "output_type": "stream",
     "text": [
      "\r50%"
     ]
    },
    {
     "name": "stdout",
     "output_type": "stream",
     "text": [
      "\r50%"
     ]
    },
    {
     "name": "stdout",
     "output_type": "stream",
     "text": [
      "\r50%"
     ]
    },
    {
     "name": "stdout",
     "output_type": "stream",
     "text": [
      "\r50%"
     ]
    },
    {
     "name": "stdout",
     "output_type": "stream",
     "text": [
      "\r51%"
     ]
    },
    {
     "name": "stdout",
     "output_type": "stream",
     "text": [
      "\r51%"
     ]
    },
    {
     "name": "stdout",
     "output_type": "stream",
     "text": [
      "\r51%"
     ]
    },
    {
     "name": "stdout",
     "output_type": "stream",
     "text": [
      "\r51%"
     ]
    },
    {
     "name": "stdout",
     "output_type": "stream",
     "text": [
      "\r52%"
     ]
    },
    {
     "name": "stdout",
     "output_type": "stream",
     "text": [
      "\r52%"
     ]
    },
    {
     "name": "stdout",
     "output_type": "stream",
     "text": [
      "\r52%"
     ]
    },
    {
     "name": "stdout",
     "output_type": "stream",
     "text": [
      "\r53%"
     ]
    },
    {
     "name": "stdout",
     "output_type": "stream",
     "text": [
      "\r53%"
     ]
    },
    {
     "name": "stdout",
     "output_type": "stream",
     "text": [
      "\r53%"
     ]
    },
    {
     "name": "stdout",
     "output_type": "stream",
     "text": [
      "\r53%"
     ]
    },
    {
     "name": "stdout",
     "output_type": "stream",
     "text": [
      "\r54%"
     ]
    },
    {
     "name": "stdout",
     "output_type": "stream",
     "text": [
      "\r54%"
     ]
    },
    {
     "name": "stdout",
     "output_type": "stream",
     "text": [
      "\r54%"
     ]
    },
    {
     "name": "stdout",
     "output_type": "stream",
     "text": [
      "\r54%"
     ]
    },
    {
     "name": "stdout",
     "output_type": "stream",
     "text": [
      "\r55%"
     ]
    },
    {
     "name": "stdout",
     "output_type": "stream",
     "text": [
      "\r55%"
     ]
    },
    {
     "name": "stdout",
     "output_type": "stream",
     "text": [
      "\r55%"
     ]
    },
    {
     "name": "stdout",
     "output_type": "stream",
     "text": [
      "\r56%"
     ]
    },
    {
     "name": "stdout",
     "output_type": "stream",
     "text": [
      "\r56%"
     ]
    },
    {
     "name": "stdout",
     "output_type": "stream",
     "text": [
      "\r56%"
     ]
    },
    {
     "name": "stdout",
     "output_type": "stream",
     "text": [
      "\r56%"
     ]
    },
    {
     "name": "stdout",
     "output_type": "stream",
     "text": [
      "\r57%"
     ]
    },
    {
     "name": "stdout",
     "output_type": "stream",
     "text": [
      "\r57%"
     ]
    },
    {
     "name": "stdout",
     "output_type": "stream",
     "text": [
      "\r57%"
     ]
    },
    {
     "name": "stdout",
     "output_type": "stream",
     "text": [
      "\r57%"
     ]
    },
    {
     "name": "stdout",
     "output_type": "stream",
     "text": [
      "\r58%"
     ]
    },
    {
     "name": "stdout",
     "output_type": "stream",
     "text": [
      "\r58%"
     ]
    },
    {
     "name": "stdout",
     "output_type": "stream",
     "text": [
      "\r58%"
     ]
    },
    {
     "name": "stdout",
     "output_type": "stream",
     "text": [
      "\r59%"
     ]
    },
    {
     "name": "stdout",
     "output_type": "stream",
     "text": [
      "\r59%"
     ]
    },
    {
     "name": "stdout",
     "output_type": "stream",
     "text": [
      "\r59%"
     ]
    },
    {
     "name": "stdout",
     "output_type": "stream",
     "text": [
      "\r59%"
     ]
    },
    {
     "name": "stdout",
     "output_type": "stream",
     "text": [
      "\r60%"
     ]
    },
    {
     "name": "stdout",
     "output_type": "stream",
     "text": [
      "\r60%"
     ]
    },
    {
     "name": "stdout",
     "output_type": "stream",
     "text": [
      "\r60%"
     ]
    },
    {
     "name": "stdout",
     "output_type": "stream",
     "text": [
      "\r60%"
     ]
    },
    {
     "name": "stdout",
     "output_type": "stream",
     "text": [
      "\r61%"
     ]
    },
    {
     "name": "stdout",
     "output_type": "stream",
     "text": [
      "\r61%"
     ]
    },
    {
     "name": "stdout",
     "output_type": "stream",
     "text": [
      "\r61%"
     ]
    },
    {
     "name": "stdout",
     "output_type": "stream",
     "text": [
      "\r62%"
     ]
    },
    {
     "name": "stdout",
     "output_type": "stream",
     "text": [
      "\r62%"
     ]
    },
    {
     "name": "stdout",
     "output_type": "stream",
     "text": [
      "\r62%"
     ]
    },
    {
     "name": "stdout",
     "output_type": "stream",
     "text": [
      "\r62%"
     ]
    },
    {
     "name": "stdout",
     "output_type": "stream",
     "text": [
      "\r63%"
     ]
    },
    {
     "name": "stdout",
     "output_type": "stream",
     "text": [
      "\r63%"
     ]
    },
    {
     "name": "stdout",
     "output_type": "stream",
     "text": [
      "\r63%"
     ]
    },
    {
     "name": "stdout",
     "output_type": "stream",
     "text": [
      "\r63%"
     ]
    },
    {
     "name": "stdout",
     "output_type": "stream",
     "text": [
      "\r64%"
     ]
    },
    {
     "name": "stdout",
     "output_type": "stream",
     "text": [
      "\r64%"
     ]
    },
    {
     "name": "stdout",
     "output_type": "stream",
     "text": [
      "\r64%"
     ]
    },
    {
     "name": "stdout",
     "output_type": "stream",
     "text": [
      "\r65%"
     ]
    },
    {
     "name": "stdout",
     "output_type": "stream",
     "text": [
      "\r65%"
     ]
    },
    {
     "name": "stdout",
     "output_type": "stream",
     "text": [
      "\r65%"
     ]
    },
    {
     "name": "stdout",
     "output_type": "stream",
     "text": [
      "\r65%"
     ]
    },
    {
     "name": "stdout",
     "output_type": "stream",
     "text": [
      "\r66%"
     ]
    },
    {
     "name": "stdout",
     "output_type": "stream",
     "text": [
      "\r66%"
     ]
    },
    {
     "name": "stdout",
     "output_type": "stream",
     "text": [
      "\r66%"
     ]
    },
    {
     "name": "stdout",
     "output_type": "stream",
     "text": [
      "\r66%"
     ]
    },
    {
     "name": "stdout",
     "output_type": "stream",
     "text": [
      "\r67%"
     ]
    },
    {
     "name": "stdout",
     "output_type": "stream",
     "text": [
      "\r67%"
     ]
    },
    {
     "name": "stdout",
     "output_type": "stream",
     "text": [
      "\r67%"
     ]
    },
    {
     "name": "stdout",
     "output_type": "stream",
     "text": [
      "\r68%"
     ]
    },
    {
     "name": "stdout",
     "output_type": "stream",
     "text": [
      "\r68%"
     ]
    },
    {
     "name": "stdout",
     "output_type": "stream",
     "text": [
      "\r68%"
     ]
    },
    {
     "name": "stdout",
     "output_type": "stream",
     "text": [
      "\r68%"
     ]
    },
    {
     "name": "stdout",
     "output_type": "stream",
     "text": [
      "\r69%"
     ]
    },
    {
     "name": "stdout",
     "output_type": "stream",
     "text": [
      "\r69%"
     ]
    },
    {
     "name": "stdout",
     "output_type": "stream",
     "text": [
      "\r69%"
     ]
    },
    {
     "name": "stdout",
     "output_type": "stream",
     "text": [
      "\r69%"
     ]
    },
    {
     "name": "stdout",
     "output_type": "stream",
     "text": [
      "\r70%"
     ]
    },
    {
     "name": "stdout",
     "output_type": "stream",
     "text": [
      "\r70%"
     ]
    },
    {
     "name": "stdout",
     "output_type": "stream",
     "text": [
      "\r70%"
     ]
    },
    {
     "name": "stdout",
     "output_type": "stream",
     "text": [
      "\r71%"
     ]
    },
    {
     "name": "stdout",
     "output_type": "stream",
     "text": [
      "\r71%"
     ]
    },
    {
     "name": "stdout",
     "output_type": "stream",
     "text": [
      "\r71%"
     ]
    },
    {
     "name": "stdout",
     "output_type": "stream",
     "text": [
      "\r71%"
     ]
    },
    {
     "name": "stdout",
     "output_type": "stream",
     "text": [
      "\r72%"
     ]
    },
    {
     "name": "stdout",
     "output_type": "stream",
     "text": [
      "\r72%"
     ]
    },
    {
     "name": "stdout",
     "output_type": "stream",
     "text": [
      "\r72%"
     ]
    },
    {
     "name": "stdout",
     "output_type": "stream",
     "text": [
      "\r72%"
     ]
    },
    {
     "name": "stdout",
     "output_type": "stream",
     "text": [
      "\r73%"
     ]
    },
    {
     "name": "stdout",
     "output_type": "stream",
     "text": [
      "\r73%"
     ]
    },
    {
     "name": "stdout",
     "output_type": "stream",
     "text": [
      "\r73%"
     ]
    },
    {
     "name": "stdout",
     "output_type": "stream",
     "text": [
      "\r74%"
     ]
    },
    {
     "name": "stdout",
     "output_type": "stream",
     "text": [
      "\r74%"
     ]
    },
    {
     "name": "stdout",
     "output_type": "stream",
     "text": [
      "\r74%"
     ]
    },
    {
     "name": "stdout",
     "output_type": "stream",
     "text": [
      "\r74%"
     ]
    },
    {
     "name": "stdout",
     "output_type": "stream",
     "text": [
      "\r75%"
     ]
    },
    {
     "name": "stdout",
     "output_type": "stream",
     "text": [
      "\r75%"
     ]
    },
    {
     "name": "stdout",
     "output_type": "stream",
     "text": [
      "\r75%"
     ]
    },
    {
     "name": "stdout",
     "output_type": "stream",
     "text": [
      "\r75%"
     ]
    },
    {
     "name": "stdout",
     "output_type": "stream",
     "text": [
      "\r76%"
     ]
    },
    {
     "name": "stdout",
     "output_type": "stream",
     "text": [
      "\r76%"
     ]
    },
    {
     "name": "stdout",
     "output_type": "stream",
     "text": [
      "\r76%"
     ]
    },
    {
     "name": "stdout",
     "output_type": "stream",
     "text": [
      "\r77%"
     ]
    },
    {
     "name": "stdout",
     "output_type": "stream",
     "text": [
      "\r77%"
     ]
    },
    {
     "name": "stdout",
     "output_type": "stream",
     "text": [
      "\r77%"
     ]
    },
    {
     "name": "stdout",
     "output_type": "stream",
     "text": [
      "\r77%"
     ]
    },
    {
     "name": "stdout",
     "output_type": "stream",
     "text": [
      "\r78%"
     ]
    },
    {
     "name": "stdout",
     "output_type": "stream",
     "text": [
      "\r78%"
     ]
    },
    {
     "name": "stdout",
     "output_type": "stream",
     "text": [
      "\r78%"
     ]
    },
    {
     "name": "stdout",
     "output_type": "stream",
     "text": [
      "\r78%"
     ]
    },
    {
     "name": "stdout",
     "output_type": "stream",
     "text": [
      "\r79%"
     ]
    },
    {
     "name": "stdout",
     "output_type": "stream",
     "text": [
      "\r79%"
     ]
    },
    {
     "name": "stdout",
     "output_type": "stream",
     "text": [
      "\r79%"
     ]
    },
    {
     "name": "stdout",
     "output_type": "stream",
     "text": [
      "\r80%"
     ]
    },
    {
     "name": "stdout",
     "output_type": "stream",
     "text": [
      "\r80%"
     ]
    },
    {
     "name": "stdout",
     "output_type": "stream",
     "text": [
      "\r80%"
     ]
    },
    {
     "name": "stdout",
     "output_type": "stream",
     "text": [
      "\r80%"
     ]
    },
    {
     "name": "stdout",
     "output_type": "stream",
     "text": [
      "\r81%"
     ]
    },
    {
     "name": "stdout",
     "output_type": "stream",
     "text": [
      "\r81%"
     ]
    },
    {
     "name": "stdout",
     "output_type": "stream",
     "text": [
      "\r81%"
     ]
    },
    {
     "name": "stdout",
     "output_type": "stream",
     "text": [
      "\r81%"
     ]
    },
    {
     "name": "stdout",
     "output_type": "stream",
     "text": [
      "\r82%"
     ]
    },
    {
     "name": "stdout",
     "output_type": "stream",
     "text": [
      "\r82%"
     ]
    },
    {
     "name": "stdout",
     "output_type": "stream",
     "text": [
      "\r82%"
     ]
    },
    {
     "name": "stdout",
     "output_type": "stream",
     "text": [
      "\r83%"
     ]
    },
    {
     "name": "stdout",
     "output_type": "stream",
     "text": [
      "\r83%"
     ]
    },
    {
     "name": "stdout",
     "output_type": "stream",
     "text": [
      "\r83%"
     ]
    },
    {
     "name": "stdout",
     "output_type": "stream",
     "text": [
      "\r83%"
     ]
    },
    {
     "name": "stdout",
     "output_type": "stream",
     "text": [
      "\r84%"
     ]
    },
    {
     "name": "stdout",
     "output_type": "stream",
     "text": [
      "\r84%"
     ]
    },
    {
     "name": "stdout",
     "output_type": "stream",
     "text": [
      "\r84%"
     ]
    },
    {
     "name": "stdout",
     "output_type": "stream",
     "text": [
      "\r84%"
     ]
    },
    {
     "name": "stdout",
     "output_type": "stream",
     "text": [
      "\r85%"
     ]
    },
    {
     "name": "stdout",
     "output_type": "stream",
     "text": [
      "\r85%"
     ]
    },
    {
     "name": "stdout",
     "output_type": "stream",
     "text": [
      "\r85%"
     ]
    },
    {
     "name": "stdout",
     "output_type": "stream",
     "text": [
      "\r86%"
     ]
    },
    {
     "name": "stdout",
     "output_type": "stream",
     "text": [
      "\r86%"
     ]
    },
    {
     "name": "stdout",
     "output_type": "stream",
     "text": [
      "\r86%"
     ]
    },
    {
     "name": "stdout",
     "output_type": "stream",
     "text": [
      "\r86%"
     ]
    },
    {
     "name": "stdout",
     "output_type": "stream",
     "text": [
      "\r87%"
     ]
    },
    {
     "name": "stdout",
     "output_type": "stream",
     "text": [
      "\r87%"
     ]
    },
    {
     "name": "stdout",
     "output_type": "stream",
     "text": [
      "\r87%"
     ]
    },
    {
     "name": "stdout",
     "output_type": "stream",
     "text": [
      "\r87%"
     ]
    },
    {
     "name": "stdout",
     "output_type": "stream",
     "text": [
      "\r88%"
     ]
    },
    {
     "name": "stdout",
     "output_type": "stream",
     "text": [
      "\r88%"
     ]
    },
    {
     "name": "stdout",
     "output_type": "stream",
     "text": [
      "\r88%"
     ]
    },
    {
     "name": "stdout",
     "output_type": "stream",
     "text": [
      "\r89%"
     ]
    },
    {
     "name": "stdout",
     "output_type": "stream",
     "text": [
      "\r89%"
     ]
    },
    {
     "name": "stdout",
     "output_type": "stream",
     "text": [
      "\r89%"
     ]
    },
    {
     "name": "stdout",
     "output_type": "stream",
     "text": [
      "\r89%"
     ]
    },
    {
     "name": "stdout",
     "output_type": "stream",
     "text": [
      "\r90%"
     ]
    },
    {
     "name": "stdout",
     "output_type": "stream",
     "text": [
      "\r90%"
     ]
    },
    {
     "name": "stdout",
     "output_type": "stream",
     "text": [
      "\r90%"
     ]
    },
    {
     "name": "stdout",
     "output_type": "stream",
     "text": [
      "\r90%"
     ]
    },
    {
     "name": "stdout",
     "output_type": "stream",
     "text": [
      "\r91%"
     ]
    },
    {
     "name": "stdout",
     "output_type": "stream",
     "text": [
      "\r91%"
     ]
    },
    {
     "name": "stdout",
     "output_type": "stream",
     "text": [
      "\r91%"
     ]
    },
    {
     "name": "stdout",
     "output_type": "stream",
     "text": [
      "\r92%"
     ]
    },
    {
     "name": "stdout",
     "output_type": "stream",
     "text": [
      "\r92%"
     ]
    },
    {
     "name": "stdout",
     "output_type": "stream",
     "text": [
      "\r92%"
     ]
    },
    {
     "name": "stdout",
     "output_type": "stream",
     "text": [
      "\r92%"
     ]
    },
    {
     "name": "stdout",
     "output_type": "stream",
     "text": [
      "\r93%"
     ]
    },
    {
     "name": "stdout",
     "output_type": "stream",
     "text": [
      "\r93%"
     ]
    },
    {
     "name": "stdout",
     "output_type": "stream",
     "text": [
      "\r93%"
     ]
    },
    {
     "name": "stdout",
     "output_type": "stream",
     "text": [
      "\r93%"
     ]
    },
    {
     "name": "stdout",
     "output_type": "stream",
     "text": [
      "\r94%"
     ]
    },
    {
     "name": "stdout",
     "output_type": "stream",
     "text": [
      "\r94%"
     ]
    },
    {
     "name": "stdout",
     "output_type": "stream",
     "text": [
      "\r94%"
     ]
    },
    {
     "name": "stdout",
     "output_type": "stream",
     "text": [
      "\r95%"
     ]
    },
    {
     "name": "stdout",
     "output_type": "stream",
     "text": [
      "\r95%"
     ]
    },
    {
     "name": "stdout",
     "output_type": "stream",
     "text": [
      "\r95%"
     ]
    },
    {
     "name": "stdout",
     "output_type": "stream",
     "text": [
      "\r95%"
     ]
    },
    {
     "name": "stdout",
     "output_type": "stream",
     "text": [
      "\r96%"
     ]
    },
    {
     "name": "stdout",
     "output_type": "stream",
     "text": [
      "\r96%"
     ]
    },
    {
     "name": "stdout",
     "output_type": "stream",
     "text": [
      "\r96%"
     ]
    },
    {
     "name": "stdout",
     "output_type": "stream",
     "text": [
      "\r96%"
     ]
    },
    {
     "name": "stdout",
     "output_type": "stream",
     "text": [
      "\r97%"
     ]
    },
    {
     "name": "stdout",
     "output_type": "stream",
     "text": [
      "\r97%"
     ]
    },
    {
     "name": "stdout",
     "output_type": "stream",
     "text": [
      "\r97%"
     ]
    },
    {
     "name": "stdout",
     "output_type": "stream",
     "text": [
      "\r98%"
     ]
    },
    {
     "name": "stdout",
     "output_type": "stream",
     "text": [
      "\r98%"
     ]
    },
    {
     "name": "stdout",
     "output_type": "stream",
     "text": [
      "\r98%"
     ]
    },
    {
     "name": "stdout",
     "output_type": "stream",
     "text": [
      "\r98%"
     ]
    },
    {
     "name": "stdout",
     "output_type": "stream",
     "text": [
      "\r99%"
     ]
    },
    {
     "name": "stdout",
     "output_type": "stream",
     "text": [
      "\r99%"
     ]
    },
    {
     "name": "stdout",
     "output_type": "stream",
     "text": [
      "\r99%"
     ]
    },
    {
     "name": "stdout",
     "output_type": "stream",
     "text": [
      "\r8 훈련 MSE: 0.027301932\n"
     ]
    },
    {
     "name": "stdout",
     "output_type": "stream",
     "text": [
      "\r0%"
     ]
    },
    {
     "name": "stdout",
     "output_type": "stream",
     "text": [
      "\r0%"
     ]
    },
    {
     "name": "stdout",
     "output_type": "stream",
     "text": [
      "\r0%"
     ]
    },
    {
     "name": "stdout",
     "output_type": "stream",
     "text": [
      "\r0%"
     ]
    },
    {
     "name": "stdout",
     "output_type": "stream",
     "text": [
      "\r1%"
     ]
    },
    {
     "name": "stdout",
     "output_type": "stream",
     "text": [
      "\r1%"
     ]
    },
    {
     "name": "stdout",
     "output_type": "stream",
     "text": [
      "\r1%"
     ]
    },
    {
     "name": "stdout",
     "output_type": "stream",
     "text": [
      "\r1%"
     ]
    },
    {
     "name": "stdout",
     "output_type": "stream",
     "text": [
      "\r2%"
     ]
    },
    {
     "name": "stdout",
     "output_type": "stream",
     "text": [
      "\r2%"
     ]
    },
    {
     "name": "stdout",
     "output_type": "stream",
     "text": [
      "\r2%"
     ]
    },
    {
     "name": "stdout",
     "output_type": "stream",
     "text": [
      "\r3%"
     ]
    },
    {
     "name": "stdout",
     "output_type": "stream",
     "text": [
      "\r3%"
     ]
    },
    {
     "name": "stdout",
     "output_type": "stream",
     "text": [
      "\r3%"
     ]
    },
    {
     "name": "stdout",
     "output_type": "stream",
     "text": [
      "\r3%"
     ]
    },
    {
     "name": "stdout",
     "output_type": "stream",
     "text": [
      "\r4%"
     ]
    },
    {
     "name": "stdout",
     "output_type": "stream",
     "text": [
      "\r4%"
     ]
    },
    {
     "name": "stdout",
     "output_type": "stream",
     "text": [
      "\r4%"
     ]
    },
    {
     "name": "stdout",
     "output_type": "stream",
     "text": [
      "\r4%"
     ]
    },
    {
     "name": "stdout",
     "output_type": "stream",
     "text": [
      "\r5%"
     ]
    },
    {
     "name": "stdout",
     "output_type": "stream",
     "text": [
      "\r5%"
     ]
    },
    {
     "name": "stdout",
     "output_type": "stream",
     "text": [
      "\r5%"
     ]
    },
    {
     "name": "stdout",
     "output_type": "stream",
     "text": [
      "\r6%"
     ]
    },
    {
     "name": "stdout",
     "output_type": "stream",
     "text": [
      "\r6%"
     ]
    },
    {
     "name": "stdout",
     "output_type": "stream",
     "text": [
      "\r6%"
     ]
    },
    {
     "name": "stdout",
     "output_type": "stream",
     "text": [
      "\r6%"
     ]
    },
    {
     "name": "stdout",
     "output_type": "stream",
     "text": [
      "\r7%"
     ]
    },
    {
     "name": "stdout",
     "output_type": "stream",
     "text": [
      "\r7%"
     ]
    },
    {
     "name": "stdout",
     "output_type": "stream",
     "text": [
      "\r7%"
     ]
    },
    {
     "name": "stdout",
     "output_type": "stream",
     "text": [
      "\r7%"
     ]
    },
    {
     "name": "stdout",
     "output_type": "stream",
     "text": [
      "\r8%"
     ]
    },
    {
     "name": "stdout",
     "output_type": "stream",
     "text": [
      "\r8%"
     ]
    },
    {
     "name": "stdout",
     "output_type": "stream",
     "text": [
      "\r8%"
     ]
    },
    {
     "name": "stdout",
     "output_type": "stream",
     "text": [
      "\r9%"
     ]
    },
    {
     "name": "stdout",
     "output_type": "stream",
     "text": [
      "\r9%"
     ]
    },
    {
     "name": "stdout",
     "output_type": "stream",
     "text": [
      "\r9%"
     ]
    },
    {
     "name": "stdout",
     "output_type": "stream",
     "text": [
      "\r9%"
     ]
    },
    {
     "name": "stdout",
     "output_type": "stream",
     "text": [
      "\r10%"
     ]
    },
    {
     "name": "stdout",
     "output_type": "stream",
     "text": [
      "\r10%"
     ]
    },
    {
     "name": "stdout",
     "output_type": "stream",
     "text": [
      "\r10%"
     ]
    },
    {
     "name": "stdout",
     "output_type": "stream",
     "text": [
      "\r10%"
     ]
    },
    {
     "name": "stdout",
     "output_type": "stream",
     "text": [
      "\r11%"
     ]
    },
    {
     "name": "stdout",
     "output_type": "stream",
     "text": [
      "\r11%"
     ]
    },
    {
     "name": "stdout",
     "output_type": "stream",
     "text": [
      "\r11%"
     ]
    },
    {
     "name": "stdout",
     "output_type": "stream",
     "text": [
      "\r12%"
     ]
    },
    {
     "name": "stdout",
     "output_type": "stream",
     "text": [
      "\r12%"
     ]
    },
    {
     "name": "stdout",
     "output_type": "stream",
     "text": [
      "\r12%"
     ]
    },
    {
     "name": "stdout",
     "output_type": "stream",
     "text": [
      "\r12%"
     ]
    },
    {
     "name": "stdout",
     "output_type": "stream",
     "text": [
      "\r13%"
     ]
    },
    {
     "name": "stdout",
     "output_type": "stream",
     "text": [
      "\r13%"
     ]
    },
    {
     "name": "stdout",
     "output_type": "stream",
     "text": [
      "\r13%"
     ]
    },
    {
     "name": "stdout",
     "output_type": "stream",
     "text": [
      "\r13%"
     ]
    },
    {
     "name": "stdout",
     "output_type": "stream",
     "text": [
      "\r14%"
     ]
    },
    {
     "name": "stdout",
     "output_type": "stream",
     "text": [
      "\r14%"
     ]
    },
    {
     "name": "stdout",
     "output_type": "stream",
     "text": [
      "\r14%"
     ]
    },
    {
     "name": "stdout",
     "output_type": "stream",
     "text": [
      "\r15%"
     ]
    },
    {
     "name": "stdout",
     "output_type": "stream",
     "text": [
      "\r15%"
     ]
    },
    {
     "name": "stdout",
     "output_type": "stream",
     "text": [
      "\r15%"
     ]
    },
    {
     "name": "stdout",
     "output_type": "stream",
     "text": [
      "\r15%"
     ]
    },
    {
     "name": "stdout",
     "output_type": "stream",
     "text": [
      "\r16%"
     ]
    },
    {
     "name": "stdout",
     "output_type": "stream",
     "text": [
      "\r16%"
     ]
    },
    {
     "name": "stdout",
     "output_type": "stream",
     "text": [
      "\r16%"
     ]
    },
    {
     "name": "stdout",
     "output_type": "stream",
     "text": [
      "\r16%"
     ]
    },
    {
     "name": "stdout",
     "output_type": "stream",
     "text": [
      "\r17%"
     ]
    },
    {
     "name": "stdout",
     "output_type": "stream",
     "text": [
      "\r17%"
     ]
    },
    {
     "name": "stdout",
     "output_type": "stream",
     "text": [
      "\r17%"
     ]
    },
    {
     "name": "stdout",
     "output_type": "stream",
     "text": [
      "\r18%"
     ]
    },
    {
     "name": "stdout",
     "output_type": "stream",
     "text": [
      "\r18%"
     ]
    },
    {
     "name": "stdout",
     "output_type": "stream",
     "text": [
      "\r18%"
     ]
    },
    {
     "name": "stdout",
     "output_type": "stream",
     "text": [
      "\r18%"
     ]
    },
    {
     "name": "stdout",
     "output_type": "stream",
     "text": [
      "\r19%"
     ]
    },
    {
     "name": "stdout",
     "output_type": "stream",
     "text": [
      "\r19%"
     ]
    },
    {
     "name": "stdout",
     "output_type": "stream",
     "text": [
      "\r19%"
     ]
    },
    {
     "name": "stdout",
     "output_type": "stream",
     "text": [
      "\r19%"
     ]
    },
    {
     "name": "stdout",
     "output_type": "stream",
     "text": [
      "\r20%"
     ]
    },
    {
     "name": "stdout",
     "output_type": "stream",
     "text": [
      "\r20%"
     ]
    },
    {
     "name": "stdout",
     "output_type": "stream",
     "text": [
      "\r20%"
     ]
    },
    {
     "name": "stdout",
     "output_type": "stream",
     "text": [
      "\r21%"
     ]
    },
    {
     "name": "stdout",
     "output_type": "stream",
     "text": [
      "\r21%"
     ]
    },
    {
     "name": "stdout",
     "output_type": "stream",
     "text": [
      "\r21%"
     ]
    },
    {
     "name": "stdout",
     "output_type": "stream",
     "text": [
      "\r21%"
     ]
    },
    {
     "name": "stdout",
     "output_type": "stream",
     "text": [
      "\r22%"
     ]
    },
    {
     "name": "stdout",
     "output_type": "stream",
     "text": [
      "\r22%"
     ]
    },
    {
     "name": "stdout",
     "output_type": "stream",
     "text": [
      "\r22%"
     ]
    },
    {
     "name": "stdout",
     "output_type": "stream",
     "text": [
      "\r22%"
     ]
    },
    {
     "name": "stdout",
     "output_type": "stream",
     "text": [
      "\r23%"
     ]
    },
    {
     "name": "stdout",
     "output_type": "stream",
     "text": [
      "\r23%"
     ]
    },
    {
     "name": "stdout",
     "output_type": "stream",
     "text": [
      "\r23%"
     ]
    },
    {
     "name": "stdout",
     "output_type": "stream",
     "text": [
      "\r24%"
     ]
    },
    {
     "name": "stdout",
     "output_type": "stream",
     "text": [
      "\r24%"
     ]
    },
    {
     "name": "stdout",
     "output_type": "stream",
     "text": [
      "\r24%"
     ]
    },
    {
     "name": "stdout",
     "output_type": "stream",
     "text": [
      "\r24%"
     ]
    },
    {
     "name": "stdout",
     "output_type": "stream",
     "text": [
      "\r25%"
     ]
    },
    {
     "name": "stdout",
     "output_type": "stream",
     "text": [
      "\r25%"
     ]
    },
    {
     "name": "stdout",
     "output_type": "stream",
     "text": [
      "\r25%"
     ]
    },
    {
     "name": "stdout",
     "output_type": "stream",
     "text": [
      "\r25%"
     ]
    },
    {
     "name": "stdout",
     "output_type": "stream",
     "text": [
      "\r26%"
     ]
    },
    {
     "name": "stdout",
     "output_type": "stream",
     "text": [
      "\r26%"
     ]
    },
    {
     "name": "stdout",
     "output_type": "stream",
     "text": [
      "\r26%"
     ]
    },
    {
     "name": "stdout",
     "output_type": "stream",
     "text": [
      "\r27%"
     ]
    },
    {
     "name": "stdout",
     "output_type": "stream",
     "text": [
      "\r27%"
     ]
    },
    {
     "name": "stdout",
     "output_type": "stream",
     "text": [
      "\r27%"
     ]
    },
    {
     "name": "stdout",
     "output_type": "stream",
     "text": [
      "\r27%"
     ]
    },
    {
     "name": "stdout",
     "output_type": "stream",
     "text": [
      "\r28%"
     ]
    },
    {
     "name": "stdout",
     "output_type": "stream",
     "text": [
      "\r28%"
     ]
    },
    {
     "name": "stdout",
     "output_type": "stream",
     "text": [
      "\r28%"
     ]
    },
    {
     "name": "stdout",
     "output_type": "stream",
     "text": [
      "\r28%"
     ]
    },
    {
     "name": "stdout",
     "output_type": "stream",
     "text": [
      "\r29%"
     ]
    },
    {
     "name": "stdout",
     "output_type": "stream",
     "text": [
      "\r29%"
     ]
    },
    {
     "name": "stdout",
     "output_type": "stream",
     "text": [
      "\r29%"
     ]
    },
    {
     "name": "stdout",
     "output_type": "stream",
     "text": [
      "\r30%"
     ]
    },
    {
     "name": "stdout",
     "output_type": "stream",
     "text": [
      "\r30%"
     ]
    },
    {
     "name": "stdout",
     "output_type": "stream",
     "text": [
      "\r30%"
     ]
    },
    {
     "name": "stdout",
     "output_type": "stream",
     "text": [
      "\r30%"
     ]
    },
    {
     "name": "stdout",
     "output_type": "stream",
     "text": [
      "\r31%"
     ]
    },
    {
     "name": "stdout",
     "output_type": "stream",
     "text": [
      "\r31%"
     ]
    },
    {
     "name": "stdout",
     "output_type": "stream",
     "text": [
      "\r31%"
     ]
    },
    {
     "name": "stdout",
     "output_type": "stream",
     "text": [
      "\r31%"
     ]
    },
    {
     "name": "stdout",
     "output_type": "stream",
     "text": [
      "\r32%"
     ]
    },
    {
     "name": "stdout",
     "output_type": "stream",
     "text": [
      "\r32%"
     ]
    },
    {
     "name": "stdout",
     "output_type": "stream",
     "text": [
      "\r32%"
     ]
    },
    {
     "name": "stdout",
     "output_type": "stream",
     "text": [
      "\r33%"
     ]
    },
    {
     "name": "stdout",
     "output_type": "stream",
     "text": [
      "\r33%"
     ]
    },
    {
     "name": "stdout",
     "output_type": "stream",
     "text": [
      "\r33%"
     ]
    },
    {
     "name": "stdout",
     "output_type": "stream",
     "text": [
      "\r33%"
     ]
    },
    {
     "name": "stdout",
     "output_type": "stream",
     "text": [
      "\r34%"
     ]
    },
    {
     "name": "stdout",
     "output_type": "stream",
     "text": [
      "\r34%"
     ]
    },
    {
     "name": "stdout",
     "output_type": "stream",
     "text": [
      "\r34%"
     ]
    },
    {
     "name": "stdout",
     "output_type": "stream",
     "text": [
      "\r34%"
     ]
    },
    {
     "name": "stdout",
     "output_type": "stream",
     "text": [
      "\r35%"
     ]
    },
    {
     "name": "stdout",
     "output_type": "stream",
     "text": [
      "\r35%"
     ]
    },
    {
     "name": "stdout",
     "output_type": "stream",
     "text": [
      "\r35%"
     ]
    },
    {
     "name": "stdout",
     "output_type": "stream",
     "text": [
      "\r36%"
     ]
    },
    {
     "name": "stdout",
     "output_type": "stream",
     "text": [
      "\r36%"
     ]
    },
    {
     "name": "stdout",
     "output_type": "stream",
     "text": [
      "\r36%"
     ]
    },
    {
     "name": "stdout",
     "output_type": "stream",
     "text": [
      "\r36%"
     ]
    },
    {
     "name": "stdout",
     "output_type": "stream",
     "text": [
      "\r37%"
     ]
    },
    {
     "name": "stdout",
     "output_type": "stream",
     "text": [
      "\r37%"
     ]
    },
    {
     "name": "stdout",
     "output_type": "stream",
     "text": [
      "\r37%"
     ]
    },
    {
     "name": "stdout",
     "output_type": "stream",
     "text": [
      "\r37%"
     ]
    },
    {
     "name": "stdout",
     "output_type": "stream",
     "text": [
      "\r38%"
     ]
    },
    {
     "name": "stdout",
     "output_type": "stream",
     "text": [
      "\r38%"
     ]
    },
    {
     "name": "stdout",
     "output_type": "stream",
     "text": [
      "\r38%"
     ]
    },
    {
     "name": "stdout",
     "output_type": "stream",
     "text": [
      "\r39%"
     ]
    },
    {
     "name": "stdout",
     "output_type": "stream",
     "text": [
      "\r39%"
     ]
    },
    {
     "name": "stdout",
     "output_type": "stream",
     "text": [
      "\r39%"
     ]
    },
    {
     "name": "stdout",
     "output_type": "stream",
     "text": [
      "\r39%"
     ]
    },
    {
     "name": "stdout",
     "output_type": "stream",
     "text": [
      "\r40%"
     ]
    },
    {
     "name": "stdout",
     "output_type": "stream",
     "text": [
      "\r40%"
     ]
    },
    {
     "name": "stdout",
     "output_type": "stream",
     "text": [
      "\r40%"
     ]
    },
    {
     "name": "stdout",
     "output_type": "stream",
     "text": [
      "\r40%"
     ]
    },
    {
     "name": "stdout",
     "output_type": "stream",
     "text": [
      "\r41%"
     ]
    },
    {
     "name": "stdout",
     "output_type": "stream",
     "text": [
      "\r41%"
     ]
    },
    {
     "name": "stdout",
     "output_type": "stream",
     "text": [
      "\r41%"
     ]
    },
    {
     "name": "stdout",
     "output_type": "stream",
     "text": [
      "\r42%"
     ]
    },
    {
     "name": "stdout",
     "output_type": "stream",
     "text": [
      "\r42%"
     ]
    },
    {
     "name": "stdout",
     "output_type": "stream",
     "text": [
      "\r42%"
     ]
    },
    {
     "name": "stdout",
     "output_type": "stream",
     "text": [
      "\r42%"
     ]
    },
    {
     "name": "stdout",
     "output_type": "stream",
     "text": [
      "\r43%"
     ]
    },
    {
     "name": "stdout",
     "output_type": "stream",
     "text": [
      "\r43%"
     ]
    },
    {
     "name": "stdout",
     "output_type": "stream",
     "text": [
      "\r43%"
     ]
    },
    {
     "name": "stdout",
     "output_type": "stream",
     "text": [
      "\r43%"
     ]
    },
    {
     "name": "stdout",
     "output_type": "stream",
     "text": [
      "\r44%"
     ]
    },
    {
     "name": "stdout",
     "output_type": "stream",
     "text": [
      "\r44%"
     ]
    },
    {
     "name": "stdout",
     "output_type": "stream",
     "text": [
      "\r44%"
     ]
    },
    {
     "name": "stdout",
     "output_type": "stream",
     "text": [
      "\r45%"
     ]
    },
    {
     "name": "stdout",
     "output_type": "stream",
     "text": [
      "\r45%"
     ]
    },
    {
     "name": "stdout",
     "output_type": "stream",
     "text": [
      "\r45%"
     ]
    },
    {
     "name": "stdout",
     "output_type": "stream",
     "text": [
      "\r45%"
     ]
    },
    {
     "name": "stdout",
     "output_type": "stream",
     "text": [
      "\r46%"
     ]
    },
    {
     "name": "stdout",
     "output_type": "stream",
     "text": [
      "\r46%"
     ]
    },
    {
     "name": "stdout",
     "output_type": "stream",
     "text": [
      "\r46%"
     ]
    },
    {
     "name": "stdout",
     "output_type": "stream",
     "text": [
      "\r46%"
     ]
    },
    {
     "name": "stdout",
     "output_type": "stream",
     "text": [
      "\r47%"
     ]
    },
    {
     "name": "stdout",
     "output_type": "stream",
     "text": [
      "\r47%"
     ]
    },
    {
     "name": "stdout",
     "output_type": "stream",
     "text": [
      "\r47%"
     ]
    },
    {
     "name": "stdout",
     "output_type": "stream",
     "text": [
      "\r48%"
     ]
    },
    {
     "name": "stdout",
     "output_type": "stream",
     "text": [
      "\r48%"
     ]
    },
    {
     "name": "stdout",
     "output_type": "stream",
     "text": [
      "\r48%"
     ]
    },
    {
     "name": "stdout",
     "output_type": "stream",
     "text": [
      "\r48%"
     ]
    },
    {
     "name": "stdout",
     "output_type": "stream",
     "text": [
      "\r49%"
     ]
    },
    {
     "name": "stdout",
     "output_type": "stream",
     "text": [
      "\r49%"
     ]
    },
    {
     "name": "stdout",
     "output_type": "stream",
     "text": [
      "\r49%"
     ]
    },
    {
     "name": "stdout",
     "output_type": "stream",
     "text": [
      "\r50%"
     ]
    },
    {
     "name": "stdout",
     "output_type": "stream",
     "text": [
      "\r50%"
     ]
    },
    {
     "name": "stdout",
     "output_type": "stream",
     "text": [
      "\r50%"
     ]
    },
    {
     "name": "stdout",
     "output_type": "stream",
     "text": [
      "\r50%"
     ]
    },
    {
     "name": "stdout",
     "output_type": "stream",
     "text": [
      "\r51%"
     ]
    },
    {
     "name": "stdout",
     "output_type": "stream",
     "text": [
      "\r51%"
     ]
    },
    {
     "name": "stdout",
     "output_type": "stream",
     "text": [
      "\r51%"
     ]
    },
    {
     "name": "stdout",
     "output_type": "stream",
     "text": [
      "\r51%"
     ]
    },
    {
     "name": "stdout",
     "output_type": "stream",
     "text": [
      "\r52%"
     ]
    },
    {
     "name": "stdout",
     "output_type": "stream",
     "text": [
      "\r52%"
     ]
    },
    {
     "name": "stdout",
     "output_type": "stream",
     "text": [
      "\r52%"
     ]
    },
    {
     "name": "stdout",
     "output_type": "stream",
     "text": [
      "\r53%"
     ]
    },
    {
     "name": "stdout",
     "output_type": "stream",
     "text": [
      "\r53%"
     ]
    },
    {
     "name": "stdout",
     "output_type": "stream",
     "text": [
      "\r53%"
     ]
    },
    {
     "name": "stdout",
     "output_type": "stream",
     "text": [
      "\r53%"
     ]
    },
    {
     "name": "stdout",
     "output_type": "stream",
     "text": [
      "\r54%"
     ]
    },
    {
     "name": "stdout",
     "output_type": "stream",
     "text": [
      "\r54%"
     ]
    },
    {
     "name": "stdout",
     "output_type": "stream",
     "text": [
      "\r54%"
     ]
    },
    {
     "name": "stdout",
     "output_type": "stream",
     "text": [
      "\r54%"
     ]
    },
    {
     "name": "stdout",
     "output_type": "stream",
     "text": [
      "\r55%"
     ]
    },
    {
     "name": "stdout",
     "output_type": "stream",
     "text": [
      "\r55%"
     ]
    },
    {
     "name": "stdout",
     "output_type": "stream",
     "text": [
      "\r55%"
     ]
    },
    {
     "name": "stdout",
     "output_type": "stream",
     "text": [
      "\r56%"
     ]
    },
    {
     "name": "stdout",
     "output_type": "stream",
     "text": [
      "\r56%"
     ]
    },
    {
     "name": "stdout",
     "output_type": "stream",
     "text": [
      "\r56%"
     ]
    },
    {
     "name": "stdout",
     "output_type": "stream",
     "text": [
      "\r56%"
     ]
    },
    {
     "name": "stdout",
     "output_type": "stream",
     "text": [
      "\r57%"
     ]
    },
    {
     "name": "stdout",
     "output_type": "stream",
     "text": [
      "\r57%"
     ]
    },
    {
     "name": "stdout",
     "output_type": "stream",
     "text": [
      "\r57%"
     ]
    },
    {
     "name": "stdout",
     "output_type": "stream",
     "text": [
      "\r57%"
     ]
    },
    {
     "name": "stdout",
     "output_type": "stream",
     "text": [
      "\r58%"
     ]
    },
    {
     "name": "stdout",
     "output_type": "stream",
     "text": [
      "\r58%"
     ]
    },
    {
     "name": "stdout",
     "output_type": "stream",
     "text": [
      "\r58%"
     ]
    },
    {
     "name": "stdout",
     "output_type": "stream",
     "text": [
      "\r59%"
     ]
    },
    {
     "name": "stdout",
     "output_type": "stream",
     "text": [
      "\r59%"
     ]
    },
    {
     "name": "stdout",
     "output_type": "stream",
     "text": [
      "\r59%"
     ]
    },
    {
     "name": "stdout",
     "output_type": "stream",
     "text": [
      "\r59%"
     ]
    },
    {
     "name": "stdout",
     "output_type": "stream",
     "text": [
      "\r60%"
     ]
    },
    {
     "name": "stdout",
     "output_type": "stream",
     "text": [
      "\r60%"
     ]
    },
    {
     "name": "stdout",
     "output_type": "stream",
     "text": [
      "\r60%"
     ]
    },
    {
     "name": "stdout",
     "output_type": "stream",
     "text": [
      "\r60%"
     ]
    },
    {
     "name": "stdout",
     "output_type": "stream",
     "text": [
      "\r61%"
     ]
    },
    {
     "name": "stdout",
     "output_type": "stream",
     "text": [
      "\r61%"
     ]
    },
    {
     "name": "stdout",
     "output_type": "stream",
     "text": [
      "\r61%"
     ]
    },
    {
     "name": "stdout",
     "output_type": "stream",
     "text": [
      "\r62%"
     ]
    },
    {
     "name": "stdout",
     "output_type": "stream",
     "text": [
      "\r62%"
     ]
    },
    {
     "name": "stdout",
     "output_type": "stream",
     "text": [
      "\r62%"
     ]
    },
    {
     "name": "stdout",
     "output_type": "stream",
     "text": [
      "\r62%"
     ]
    },
    {
     "name": "stdout",
     "output_type": "stream",
     "text": [
      "\r63%"
     ]
    },
    {
     "name": "stdout",
     "output_type": "stream",
     "text": [
      "\r63%"
     ]
    },
    {
     "name": "stdout",
     "output_type": "stream",
     "text": [
      "\r63%"
     ]
    },
    {
     "name": "stdout",
     "output_type": "stream",
     "text": [
      "\r63%"
     ]
    },
    {
     "name": "stdout",
     "output_type": "stream",
     "text": [
      "\r64%"
     ]
    },
    {
     "name": "stdout",
     "output_type": "stream",
     "text": [
      "\r64%"
     ]
    },
    {
     "name": "stdout",
     "output_type": "stream",
     "text": [
      "\r64%"
     ]
    },
    {
     "name": "stdout",
     "output_type": "stream",
     "text": [
      "\r65%"
     ]
    },
    {
     "name": "stdout",
     "output_type": "stream",
     "text": [
      "\r65%"
     ]
    },
    {
     "name": "stdout",
     "output_type": "stream",
     "text": [
      "\r65%"
     ]
    },
    {
     "name": "stdout",
     "output_type": "stream",
     "text": [
      "\r65%"
     ]
    },
    {
     "name": "stdout",
     "output_type": "stream",
     "text": [
      "\r66%"
     ]
    },
    {
     "name": "stdout",
     "output_type": "stream",
     "text": [
      "\r66%"
     ]
    },
    {
     "name": "stdout",
     "output_type": "stream",
     "text": [
      "\r66%"
     ]
    },
    {
     "name": "stdout",
     "output_type": "stream",
     "text": [
      "\r66%"
     ]
    },
    {
     "name": "stdout",
     "output_type": "stream",
     "text": [
      "\r67%"
     ]
    },
    {
     "name": "stdout",
     "output_type": "stream",
     "text": [
      "\r67%"
     ]
    },
    {
     "name": "stdout",
     "output_type": "stream",
     "text": [
      "\r67%"
     ]
    },
    {
     "name": "stdout",
     "output_type": "stream",
     "text": [
      "\r68%"
     ]
    },
    {
     "name": "stdout",
     "output_type": "stream",
     "text": [
      "\r68%"
     ]
    },
    {
     "name": "stdout",
     "output_type": "stream",
     "text": [
      "\r68%"
     ]
    },
    {
     "name": "stdout",
     "output_type": "stream",
     "text": [
      "\r68%"
     ]
    },
    {
     "name": "stdout",
     "output_type": "stream",
     "text": [
      "\r69%"
     ]
    },
    {
     "name": "stdout",
     "output_type": "stream",
     "text": [
      "\r69%"
     ]
    },
    {
     "name": "stdout",
     "output_type": "stream",
     "text": [
      "\r69%"
     ]
    },
    {
     "name": "stdout",
     "output_type": "stream",
     "text": [
      "\r69%"
     ]
    },
    {
     "name": "stdout",
     "output_type": "stream",
     "text": [
      "\r70%"
     ]
    },
    {
     "name": "stdout",
     "output_type": "stream",
     "text": [
      "\r70%"
     ]
    },
    {
     "name": "stdout",
     "output_type": "stream",
     "text": [
      "\r70%"
     ]
    },
    {
     "name": "stdout",
     "output_type": "stream",
     "text": [
      "\r71%"
     ]
    },
    {
     "name": "stdout",
     "output_type": "stream",
     "text": [
      "\r71%"
     ]
    },
    {
     "name": "stdout",
     "output_type": "stream",
     "text": [
      "\r71%"
     ]
    },
    {
     "name": "stdout",
     "output_type": "stream",
     "text": [
      "\r71%"
     ]
    },
    {
     "name": "stdout",
     "output_type": "stream",
     "text": [
      "\r72%"
     ]
    },
    {
     "name": "stdout",
     "output_type": "stream",
     "text": [
      "\r72%"
     ]
    },
    {
     "name": "stdout",
     "output_type": "stream",
     "text": [
      "\r72%"
     ]
    },
    {
     "name": "stdout",
     "output_type": "stream",
     "text": [
      "\r72%"
     ]
    },
    {
     "name": "stdout",
     "output_type": "stream",
     "text": [
      "\r73%"
     ]
    },
    {
     "name": "stdout",
     "output_type": "stream",
     "text": [
      "\r73%"
     ]
    },
    {
     "name": "stdout",
     "output_type": "stream",
     "text": [
      "\r73%"
     ]
    },
    {
     "name": "stdout",
     "output_type": "stream",
     "text": [
      "\r74%"
     ]
    },
    {
     "name": "stdout",
     "output_type": "stream",
     "text": [
      "\r74%"
     ]
    },
    {
     "name": "stdout",
     "output_type": "stream",
     "text": [
      "\r74%"
     ]
    },
    {
     "name": "stdout",
     "output_type": "stream",
     "text": [
      "\r74%"
     ]
    },
    {
     "name": "stdout",
     "output_type": "stream",
     "text": [
      "\r75%"
     ]
    },
    {
     "name": "stdout",
     "output_type": "stream",
     "text": [
      "\r75%"
     ]
    },
    {
     "name": "stdout",
     "output_type": "stream",
     "text": [
      "\r75%"
     ]
    },
    {
     "name": "stdout",
     "output_type": "stream",
     "text": [
      "\r75%"
     ]
    },
    {
     "name": "stdout",
     "output_type": "stream",
     "text": [
      "\r76%"
     ]
    },
    {
     "name": "stdout",
     "output_type": "stream",
     "text": [
      "\r76%"
     ]
    },
    {
     "name": "stdout",
     "output_type": "stream",
     "text": [
      "\r76%"
     ]
    },
    {
     "name": "stdout",
     "output_type": "stream",
     "text": [
      "\r77%"
     ]
    },
    {
     "name": "stdout",
     "output_type": "stream",
     "text": [
      "\r77%"
     ]
    },
    {
     "name": "stdout",
     "output_type": "stream",
     "text": [
      "\r77%"
     ]
    },
    {
     "name": "stdout",
     "output_type": "stream",
     "text": [
      "\r77%"
     ]
    },
    {
     "name": "stdout",
     "output_type": "stream",
     "text": [
      "\r78%"
     ]
    },
    {
     "name": "stdout",
     "output_type": "stream",
     "text": [
      "\r78%"
     ]
    },
    {
     "name": "stdout",
     "output_type": "stream",
     "text": [
      "\r78%"
     ]
    },
    {
     "name": "stdout",
     "output_type": "stream",
     "text": [
      "\r78%"
     ]
    },
    {
     "name": "stdout",
     "output_type": "stream",
     "text": [
      "\r79%"
     ]
    },
    {
     "name": "stdout",
     "output_type": "stream",
     "text": [
      "\r79%"
     ]
    },
    {
     "name": "stdout",
     "output_type": "stream",
     "text": [
      "\r79%"
     ]
    },
    {
     "name": "stdout",
     "output_type": "stream",
     "text": [
      "\r80%"
     ]
    },
    {
     "name": "stdout",
     "output_type": "stream",
     "text": [
      "\r80%"
     ]
    },
    {
     "name": "stdout",
     "output_type": "stream",
     "text": [
      "\r80%"
     ]
    },
    {
     "name": "stdout",
     "output_type": "stream",
     "text": [
      "\r80%"
     ]
    },
    {
     "name": "stdout",
     "output_type": "stream",
     "text": [
      "\r81%"
     ]
    },
    {
     "name": "stdout",
     "output_type": "stream",
     "text": [
      "\r81%"
     ]
    },
    {
     "name": "stdout",
     "output_type": "stream",
     "text": [
      "\r81%"
     ]
    },
    {
     "name": "stdout",
     "output_type": "stream",
     "text": [
      "\r81%"
     ]
    },
    {
     "name": "stdout",
     "output_type": "stream",
     "text": [
      "\r82%"
     ]
    },
    {
     "name": "stdout",
     "output_type": "stream",
     "text": [
      "\r82%"
     ]
    },
    {
     "name": "stdout",
     "output_type": "stream",
     "text": [
      "\r82%"
     ]
    },
    {
     "name": "stdout",
     "output_type": "stream",
     "text": [
      "\r83%"
     ]
    },
    {
     "name": "stdout",
     "output_type": "stream",
     "text": [
      "\r83%"
     ]
    },
    {
     "name": "stdout",
     "output_type": "stream",
     "text": [
      "\r83%"
     ]
    },
    {
     "name": "stdout",
     "output_type": "stream",
     "text": [
      "\r83%"
     ]
    },
    {
     "name": "stdout",
     "output_type": "stream",
     "text": [
      "\r84%"
     ]
    },
    {
     "name": "stdout",
     "output_type": "stream",
     "text": [
      "\r84%"
     ]
    },
    {
     "name": "stdout",
     "output_type": "stream",
     "text": [
      "\r84%"
     ]
    },
    {
     "name": "stdout",
     "output_type": "stream",
     "text": [
      "\r84%"
     ]
    },
    {
     "name": "stdout",
     "output_type": "stream",
     "text": [
      "\r85%"
     ]
    },
    {
     "name": "stdout",
     "output_type": "stream",
     "text": [
      "\r85%"
     ]
    },
    {
     "name": "stdout",
     "output_type": "stream",
     "text": [
      "\r85%"
     ]
    },
    {
     "name": "stdout",
     "output_type": "stream",
     "text": [
      "\r86%"
     ]
    },
    {
     "name": "stdout",
     "output_type": "stream",
     "text": [
      "\r86%"
     ]
    },
    {
     "name": "stdout",
     "output_type": "stream",
     "text": [
      "\r86%"
     ]
    },
    {
     "name": "stdout",
     "output_type": "stream",
     "text": [
      "\r86%"
     ]
    },
    {
     "name": "stdout",
     "output_type": "stream",
     "text": [
      "\r87%"
     ]
    },
    {
     "name": "stdout",
     "output_type": "stream",
     "text": [
      "\r87%"
     ]
    },
    {
     "name": "stdout",
     "output_type": "stream",
     "text": [
      "\r87%"
     ]
    },
    {
     "name": "stdout",
     "output_type": "stream",
     "text": [
      "\r87%"
     ]
    },
    {
     "name": "stdout",
     "output_type": "stream",
     "text": [
      "\r88%"
     ]
    },
    {
     "name": "stdout",
     "output_type": "stream",
     "text": [
      "\r88%"
     ]
    },
    {
     "name": "stdout",
     "output_type": "stream",
     "text": [
      "\r88%"
     ]
    },
    {
     "name": "stdout",
     "output_type": "stream",
     "text": [
      "\r89%"
     ]
    },
    {
     "name": "stdout",
     "output_type": "stream",
     "text": [
      "\r89%"
     ]
    },
    {
     "name": "stdout",
     "output_type": "stream",
     "text": [
      "\r89%"
     ]
    },
    {
     "name": "stdout",
     "output_type": "stream",
     "text": [
      "\r89%"
     ]
    },
    {
     "name": "stdout",
     "output_type": "stream",
     "text": [
      "\r90%"
     ]
    },
    {
     "name": "stdout",
     "output_type": "stream",
     "text": [
      "\r90%"
     ]
    },
    {
     "name": "stdout",
     "output_type": "stream",
     "text": [
      "\r90%"
     ]
    },
    {
     "name": "stdout",
     "output_type": "stream",
     "text": [
      "\r90%"
     ]
    },
    {
     "name": "stdout",
     "output_type": "stream",
     "text": [
      "\r91%"
     ]
    },
    {
     "name": "stdout",
     "output_type": "stream",
     "text": [
      "\r91%"
     ]
    },
    {
     "name": "stdout",
     "output_type": "stream",
     "text": [
      "\r91%"
     ]
    },
    {
     "name": "stdout",
     "output_type": "stream",
     "text": [
      "\r92%"
     ]
    },
    {
     "name": "stdout",
     "output_type": "stream",
     "text": [
      "\r92%"
     ]
    },
    {
     "name": "stdout",
     "output_type": "stream",
     "text": [
      "\r92%"
     ]
    },
    {
     "name": "stdout",
     "output_type": "stream",
     "text": [
      "\r92%"
     ]
    },
    {
     "name": "stdout",
     "output_type": "stream",
     "text": [
      "\r93%"
     ]
    },
    {
     "name": "stdout",
     "output_type": "stream",
     "text": [
      "\r93%"
     ]
    },
    {
     "name": "stdout",
     "output_type": "stream",
     "text": [
      "\r93%"
     ]
    },
    {
     "name": "stdout",
     "output_type": "stream",
     "text": [
      "\r93%"
     ]
    },
    {
     "name": "stdout",
     "output_type": "stream",
     "text": [
      "\r94%"
     ]
    },
    {
     "name": "stdout",
     "output_type": "stream",
     "text": [
      "\r94%"
     ]
    },
    {
     "name": "stdout",
     "output_type": "stream",
     "text": [
      "\r94%"
     ]
    },
    {
     "name": "stdout",
     "output_type": "stream",
     "text": [
      "\r95%"
     ]
    },
    {
     "name": "stdout",
     "output_type": "stream",
     "text": [
      "\r95%"
     ]
    },
    {
     "name": "stdout",
     "output_type": "stream",
     "text": [
      "\r95%"
     ]
    },
    {
     "name": "stdout",
     "output_type": "stream",
     "text": [
      "\r95%"
     ]
    },
    {
     "name": "stdout",
     "output_type": "stream",
     "text": [
      "\r96%"
     ]
    },
    {
     "name": "stdout",
     "output_type": "stream",
     "text": [
      "\r96%"
     ]
    },
    {
     "name": "stdout",
     "output_type": "stream",
     "text": [
      "\r96%"
     ]
    },
    {
     "name": "stdout",
     "output_type": "stream",
     "text": [
      "\r96%"
     ]
    },
    {
     "name": "stdout",
     "output_type": "stream",
     "text": [
      "\r97%"
     ]
    },
    {
     "name": "stdout",
     "output_type": "stream",
     "text": [
      "\r97%"
     ]
    },
    {
     "name": "stdout",
     "output_type": "stream",
     "text": [
      "\r97%"
     ]
    },
    {
     "name": "stdout",
     "output_type": "stream",
     "text": [
      "\r98%"
     ]
    },
    {
     "name": "stdout",
     "output_type": "stream",
     "text": [
      "\r98%"
     ]
    },
    {
     "name": "stdout",
     "output_type": "stream",
     "text": [
      "\r98%"
     ]
    },
    {
     "name": "stdout",
     "output_type": "stream",
     "text": [
      "\r98%"
     ]
    },
    {
     "name": "stdout",
     "output_type": "stream",
     "text": [
      "\r99%"
     ]
    },
    {
     "name": "stdout",
     "output_type": "stream",
     "text": [
      "\r99%"
     ]
    },
    {
     "name": "stdout",
     "output_type": "stream",
     "text": [
      "\r99%"
     ]
    },
    {
     "name": "stdout",
     "output_type": "stream",
     "text": [
      "\r9 훈련 MSE: 0.027201267\n"
     ]
    }
   ],
   "source": [
    "n_epochs = 10\n",
    "batch_size = 150\n",
    "\n",
    "with tf.Session() as sess:\n",
    "    init.run()\n",
    "    \n",
    "    for epoch in range(n_epochs):\n",
    "        n_batches = len(X_train) // batch_size\n",
    "        \n",
    "        for iteration in range(n_batches):\n",
    "            print(\"\\r{}%\".format(100 * iteration // n_batches), end=\"\")\n",
    "            sys.stdout.flush()\n",
    "            X_batch, y_batch = next(utils.shuffle_batch(X_train, y_train, batch_size))\n",
    "            sess.run(training_op, feed_dict={X: X_batch, training: True})\n",
    "            \n",
    "        loss_train = reconstruction_loss.eval(feed_dict={X: X_batch})\n",
    "        print(\"\\r{}\".format(epoch), \"훈련 MSE:\", loss_train)\n",
    "        utils.save_tf(sess, \"note/stacked_denoising_dropout/model\", root_path=ROOT_PATH)"
   ]
  },
  {
   "cell_type": "code",
   "execution_count": 13,
   "metadata": {},
   "outputs": [
    {
     "name": "stdout",
     "output_type": "stream",
     "text": [
      "INFO:tensorflow:Restoring parameters from /Users/eugene/Projects/DAEGUML/EGJ/Autoencoder/outputs/tf_sess/note/stacked_denoising_dropout/model.ckpt\n"
     ]
    },
    {
     "name": "stderr",
     "output_type": "stream",
     "text": [
      "/Users/eugene/.venv/python3.6.6/lib/python3.6/site-packages/matplotlib/font_manager.py:1238: UserWarning: findfont: Font family ['NanumBarunGothic'] not found. Falling back to DejaVu Sans.\n  (prop.get_family(), self.defaultFamily[fontext]))\n"
     ]
    },
    {
     "data": {
      "image/png": "[encoded data removed]",
      "text/plain": [
       "<Figure size 576x432 with 4 Axes>"
      ]
     },
     "metadata": {},
     "output_type": "display_data"
    }
   ],
   "source": [
    "utils.show_reconstructed_digits(outputs, X, X_test, \"note/stacked_denoising_dropout/model\", root_path=ROOT_PATH)"
   ]
  }
 ],
 "metadata": {
  "kernelspec": {
   "display_name": "Python 3",
   "language": "python",
   "name": "python3"
  },
  "language_info": {
   "codemirror_mode": {
    "name": "ipython",
    "version": 3
   },
   "file_extension": ".py",
   "mimetype": "text/x-python",
   "name": "python",
   "nbconvert_exporter": "python",
   "pygments_lexer": "ipython3",
   "version": "3.6.6"
  },
  "nav_menu": {
   "height": "381px",
   "width": "453px"
  },
  "toc": {
   "navigate_menu": true,
   "number_sections": true,
   "sideBar": true,
   "threshold": 6.0,
   "toc_cell": false,
   "toc_section_display": "block",
   "toc_window_display": false
  }
 },
 "nbformat": 4,
 "nbformat_minor": 1
}
